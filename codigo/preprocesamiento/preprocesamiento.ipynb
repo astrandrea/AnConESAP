{
 "cells": [
  {
   "cell_type": "markdown",
   "metadata": {},
   "source": [
    "# **Análisis contratación Escuela Superior de Administración Pública 2020-2024**"
   ]
  },
  {
   "cell_type": "markdown",
   "metadata": {},
   "source": [
    "## Introducción"
   ]
  },
  {
   "cell_type": "markdown",
   "metadata": {},
   "source": [
    "En este documento se presenta la aplicación de diferentes metodologías estudiadas en el curso de Programación II de la Maestría en Inteligencia de Negocios de la Universidad de Externado de Colombia. Lo anterior, se da en un ambiente de análisis y comprensión del fenómeno de la contratación pública a partir de la exploración de  diferentes escenarios aplicados a la realidad de las Entidades Públicas de Colombia. \n",
    "\n",
    "En este sentido, se exploran y analizan los resultados del modelo de efectos fijos del panel de datos de la contratación de la Escuela Superior de Administración Pública como individuo de análisis del 2020 a 2024 según los datos abiertos publicados por la Agencia Nacional de Contratación Pública - Colombia Compra Efienciete sobre el data set [SECOP II - Contratos Electrónicos](https://www.datos.gov.co/Gastos-Gubernamentales/SECOP-II-Contratos-Electr-nicos/jbjy-vk9h/about_data).\n",
    "\n",
    " De esta forma, se exploran ambientes y técnicas propicios en el contexto del aprendizaje sobre programación y en la aplicación de métodos estadísticos para la profundización y reconocimiento del fenómeno de estudio a la luz del procesamiento, depuración y análisis de la información, todos ellos necesarios en el actual contexto en donde es indispensable el uso de herramientas para la gestión de los datos y de la información en las organizaciones para el análisis y la toma de decisiones sobre los fenónemos que les afectan."
   ]
  },
  {
   "cell_type": "markdown",
   "metadata": {},
   "source": [
    "## Objetivo general"
   ]
  },
  {
   "cell_type": "markdown",
   "metadata": {},
   "source": [
    "Analizar el efecto que tiene el tiempo de ejecución del proceso de contratación sobre el valor total de los contratos en la Escuela Superior de Administración Pública."
   ]
  },
  {
   "cell_type": "markdown",
   "metadata": {},
   "source": [
    "## Objetivos específicos"
   ]
  },
  {
   "cell_type": "markdown",
   "metadata": {},
   "source": [
    "*$1.$* Explorar métodos de limpieza, depuración y automatización de la bases datos de contratos de la Escuela Superior de Administración Pública a partir del uso y aprovechamiento de los datos e información de del data set [SECOP II - Contratos Electrónicos](https://www.datos.gov.co/Gastos-Gubernamentales/SECOP-II-Contratos-Electr-nicos/jbjy-vk9h/about_data)\n"
   ]
  },
  {
   "cell_type": "markdown",
   "metadata": {},
   "source": [
    "*$4.$* Aplicar técnicas para medir el efecto del tiempo de ejecución de la contratación pública sobre el valor de los contratos celebrados por la Escuela Superior de Administración Pública durante el período 2020-2024"
   ]
  },
  {
   "cell_type": "markdown",
   "metadata": {},
   "source": [
    "*$3.$* Analizar el fenómeno de la contratación pública con Colombia con el propósito de brindar recomendaciones sobre el buen manejo de los recursos públicos a los sujetos responsables de su ejecución"
   ]
  },
  {
   "cell_type": "markdown",
   "metadata": {},
   "source": [
    "## Antecedentes"
   ]
  },
  {
   "cell_type": "markdown",
   "metadata": {},
   "source": [
    "A partir de la adopción de los principios de la Función Administrativa (Art. 209) de la Constitución Política de 1991, el Sector Público Colombiano ha desarrollado diferentes acciones para sinterizar un Sistema de Gestión que responda a las necesidades de articulación de los elementos que intervienen al momento de dirigir la gestión pública  hacia “el mejor desempeño institucional y a la consecución de resultados para la satisfacción de las necesidades y el goce efectivo de los derechos de los ciudadanos, en el marco de la legalidad y la integridad” (DAFP, 2019, p. 19).\n",
    "<!--  -->\n",
    "El Sistema de Gestión vigente (Art. 133 - Ley 1753 de 2015) integra el Sistema de Desarrollo Administrativo (Ley 489 de 1998), el Sistema de Gestión de la Calidad (Ley 872 de 2003) y se articula con el Sistema de Control Interno (Ley 87 de 1993 y del Art. 27 al 19 de la Ley 489); que finalmente constituyen el MIPG como el mecanismo que facilita la integración y articulación de los Sistemas de Planeación y Gestión que hasta el momento existían en la entidades públicas colombianas (Decreto 1499 de 2017), integró en 2021 a partir del la Política de Gestión y desempeño **Compras y Contatación Pública** con el fin de que las entidades estatales gestionen adecuadamente sus compras y contrataciones públicas a través de herramientas tecnológicas, lineamientos normativos, documentos estándar, técnicas de abastecimiento estratégico e instrumentos de agregación de demanda. \n",
    "\n",
    "De esta forma, con esta política la Agencia Nacional de Contratación Pública - Colombia Compra Efienciente, proyecta el suministro de una herramienta como lo es el SECOP II para que las entidades estatales  se alinien con el propósito de generar buenas mejores prácticas en el abastecimiento y contratación y con ello fortalecer la satisfacción de las necesidades públicas (eficacia), con menores recursos (eficiencia), altos estándares de calidad, pluralidad de oferentes y garantía de transparencia y rendición de cuentas.\n",
    "\n",
    "Sin embargo, aun cuando la integración de lineamientos en materia de contratación pública sea un propósito de la administración pública conducente al buen manejo del prespuesto y a la planeación de las finanzas públicas, esto resulta en un reto su implementación y aprovechamiento para la toma de decisones en el ámbito de la contratación pública. Los procedimientos que rigen la contratación deben verse reflejados en la planeación de la contratación y se deben implementar en contextos de alta incertidumbre que las organizaciones constantemente reflejan.\n",
    "\n",
    "En este sentido, para evidenciar lo anteriormente expuesto, se trata de analizar el efecto que tiene el tiempo de ejecución de los procesos de contratación sobre el valor de la contratación de la Escuela Superior Pública, vista en este análisis como un individuo sobre el el cual es posible su estudio a la luz de los objetivos planteados en este proyecto y según la información disponible en el data set datos abiertos publicados por la Agencia Nacional de Contratación Pública - Colombia Compra Efienciete sobre el data set [SECOP II - Contratos Electrónicos] (https://www.datos.gov.co/Gastos-Gubernamentales/)\n"
   ]
  },
  {
   "cell_type": "markdown",
   "metadata": {},
   "source": [
    "### _Libreriras_"
   ]
  },
  {
   "cell_type": "code",
   "execution_count": 413,
   "metadata": {},
   "outputs": [
    {
     "name": "stdout",
     "output_type": "stream",
     "text": [
      "Requirement already satisfied: sodapy in c:\\users\\astrandrea\\miniconda3\\envs\\mine\\lib\\site-packages (2.2.0)\n",
      "Requirement already satisfied: requests>=2.28.1 in c:\\users\\astrandrea\\miniconda3\\envs\\mine\\lib\\site-packages (from sodapy) (2.31.0)\n",
      "Requirement already satisfied: charset-normalizer<4,>=2 in c:\\users\\astrandrea\\miniconda3\\envs\\mine\\lib\\site-packages (from requests>=2.28.1->sodapy) (3.3.2)\n",
      "Requirement already satisfied: idna<4,>=2.5 in c:\\users\\astrandrea\\miniconda3\\envs\\mine\\lib\\site-packages (from requests>=2.28.1->sodapy) (3.6)\n",
      "Requirement already satisfied: urllib3<3,>=1.21.1 in c:\\users\\astrandrea\\miniconda3\\envs\\mine\\lib\\site-packages (from requests>=2.28.1->sodapy) (2.1.0)\n",
      "Requirement already satisfied: certifi>=2017.4.17 in c:\\users\\astrandrea\\miniconda3\\envs\\mine\\lib\\site-packages (from requests>=2.28.1->sodapy) (2023.11.17)\n",
      "Requirement already satisfied: seaborn in c:\\users\\astrandrea\\miniconda3\\envs\\mine\\lib\\site-packages (0.13.0)\n",
      "Requirement already satisfied: numpy!=1.24.0,>=1.20 in c:\\users\\astrandrea\\miniconda3\\envs\\mine\\lib\\site-packages (from seaborn) (1.26.1)\n",
      "Requirement already satisfied: pandas>=1.2 in c:\\users\\astrandrea\\miniconda3\\envs\\mine\\lib\\site-packages (from seaborn) (2.1.2)\n",
      "Requirement already satisfied: matplotlib!=3.6.1,>=3.3 in c:\\users\\astrandrea\\miniconda3\\envs\\mine\\lib\\site-packages (from seaborn) (3.8.0)\n",
      "Requirement already satisfied: contourpy>=1.0.1 in c:\\users\\astrandrea\\miniconda3\\envs\\mine\\lib\\site-packages (from matplotlib!=3.6.1,>=3.3->seaborn) (1.1.1)\n",
      "Requirement already satisfied: cycler>=0.10 in c:\\users\\astrandrea\\miniconda3\\envs\\mine\\lib\\site-packages (from matplotlib!=3.6.1,>=3.3->seaborn) (0.12.1)\n",
      "Requirement already satisfied: fonttools>=4.22.0 in c:\\users\\astrandrea\\miniconda3\\envs\\mine\\lib\\site-packages (from matplotlib!=3.6.1,>=3.3->seaborn) (4.43.1)\n",
      "Requirement already satisfied: kiwisolver>=1.0.1 in c:\\users\\astrandrea\\miniconda3\\envs\\mine\\lib\\site-packages (from matplotlib!=3.6.1,>=3.3->seaborn) (1.4.5)\n",
      "Requirement already satisfied: packaging>=20.0 in c:\\users\\astrandrea\\miniconda3\\envs\\mine\\lib\\site-packages (from matplotlib!=3.6.1,>=3.3->seaborn) (23.2)\n",
      "Requirement already satisfied: pillow>=6.2.0 in c:\\users\\astrandrea\\miniconda3\\envs\\mine\\lib\\site-packages (from matplotlib!=3.6.1,>=3.3->seaborn) (10.1.0)\n",
      "Requirement already satisfied: pyparsing>=2.3.1 in c:\\users\\astrandrea\\miniconda3\\envs\\mine\\lib\\site-packages (from matplotlib!=3.6.1,>=3.3->seaborn) (3.1.1)\n",
      "Requirement already satisfied: python-dateutil>=2.7 in c:\\users\\astrandrea\\miniconda3\\envs\\mine\\lib\\site-packages (from matplotlib!=3.6.1,>=3.3->seaborn) (2.8.2)\n",
      "Requirement already satisfied: pytz>=2020.1 in c:\\users\\astrandrea\\miniconda3\\envs\\mine\\lib\\site-packages (from pandas>=1.2->seaborn) (2023.3.post1)\n",
      "Requirement already satisfied: tzdata>=2022.1 in c:\\users\\astrandrea\\miniconda3\\envs\\mine\\lib\\site-packages (from pandas>=1.2->seaborn) (2023.3)\n",
      "Requirement already satisfied: six>=1.5 in c:\\users\\astrandrea\\miniconda3\\envs\\mine\\lib\\site-packages (from python-dateutil>=2.7->matplotlib!=3.6.1,>=3.3->seaborn) (1.16.0)\n",
      "Requirement already satisfied: pandas in c:\\users\\astrandrea\\miniconda3\\envs\\mine\\lib\\site-packages (2.1.2)\n",
      "Requirement already satisfied: numpy<2,>=1.23.2 in c:\\users\\astrandrea\\miniconda3\\envs\\mine\\lib\\site-packages (from pandas) (1.26.1)\n",
      "Requirement already satisfied: python-dateutil>=2.8.2 in c:\\users\\astrandrea\\miniconda3\\envs\\mine\\lib\\site-packages (from pandas) (2.8.2)\n",
      "Requirement already satisfied: pytz>=2020.1 in c:\\users\\astrandrea\\miniconda3\\envs\\mine\\lib\\site-packages (from pandas) (2023.3.post1)\n",
      "Requirement already satisfied: tzdata>=2022.1 in c:\\users\\astrandrea\\miniconda3\\envs\\mine\\lib\\site-packages (from pandas) (2023.3)\n",
      "Requirement already satisfied: six>=1.5 in c:\\users\\astrandrea\\miniconda3\\envs\\mine\\lib\\site-packages (from python-dateutil>=2.8.2->pandas) (1.16.0)\n",
      "Requirement already satisfied: plotly in c:\\users\\astrandrea\\miniconda3\\envs\\mine\\lib\\site-packages (5.18.0)\n",
      "Requirement already satisfied: tenacity>=6.2.0 in c:\\users\\astrandrea\\miniconda3\\envs\\mine\\lib\\site-packages (from plotly) (8.2.3)\n",
      "Requirement already satisfied: packaging in c:\\users\\astrandrea\\miniconda3\\envs\\mine\\lib\\site-packages (from plotly) (23.2)\n",
      "Requirement already satisfied: linearmodels in c:\\users\\astrandrea\\miniconda3\\envs\\mine\\lib\\site-packages (5.4)\n",
      "Requirement already satisfied: numpy>=1.22.0 in c:\\users\\astrandrea\\miniconda3\\envs\\mine\\lib\\site-packages (from linearmodels) (1.26.1)\n",
      "Requirement already satisfied: pandas>=1.3.0 in c:\\users\\astrandrea\\miniconda3\\envs\\mine\\lib\\site-packages (from linearmodels) (2.1.2)\n",
      "Requirement already satisfied: scipy>=1.5.0 in c:\\users\\astrandrea\\miniconda3\\envs\\mine\\lib\\site-packages (from linearmodels) (1.12.0)\n",
      "Requirement already satisfied: statsmodels>=0.12.0 in c:\\users\\astrandrea\\miniconda3\\envs\\mine\\lib\\site-packages (from linearmodels) (0.14.1)\n",
      "Requirement already satisfied: mypy-extensions>=0.4 in c:\\users\\astrandrea\\miniconda3\\envs\\mine\\lib\\site-packages (from linearmodels) (1.0.0)\n",
      "Requirement already satisfied: Cython>=0.29.37 in c:\\users\\astrandrea\\miniconda3\\envs\\mine\\lib\\site-packages (from linearmodels) (3.0.8)\n",
      "Requirement already satisfied: pyhdfe>=0.1 in c:\\users\\astrandrea\\miniconda3\\envs\\mine\\lib\\site-packages (from linearmodels) (0.2.0)\n",
      "Requirement already satisfied: formulaic>=0.6.5 in c:\\users\\astrandrea\\miniconda3\\envs\\mine\\lib\\site-packages (from linearmodels) (1.0.1)\n",
      "Requirement already satisfied: setuptools-scm<9.0.0,>=8.0.0 in c:\\users\\astrandrea\\miniconda3\\envs\\mine\\lib\\site-packages (from setuptools-scm[toml]<9.0.0,>=8.0.0->linearmodels) (8.0.4)\n",
      "Requirement already satisfied: interface-meta>=1.2.0 in c:\\users\\astrandrea\\miniconda3\\envs\\mine\\lib\\site-packages (from formulaic>=0.6.5->linearmodels) (1.3.0)\n",
      "Requirement already satisfied: typing-extensions>=4.2.0 in c:\\users\\astrandrea\\miniconda3\\envs\\mine\\lib\\site-packages (from formulaic>=0.6.5->linearmodels) (4.9.0)\n",
      "Requirement already satisfied: wrapt>=1.0 in c:\\users\\astrandrea\\miniconda3\\envs\\mine\\lib\\site-packages (from formulaic>=0.6.5->linearmodels) (1.16.0)\n",
      "Requirement already satisfied: python-dateutil>=2.8.2 in c:\\users\\astrandrea\\miniconda3\\envs\\mine\\lib\\site-packages (from pandas>=1.3.0->linearmodels) (2.8.2)\n",
      "Requirement already satisfied: pytz>=2020.1 in c:\\users\\astrandrea\\miniconda3\\envs\\mine\\lib\\site-packages (from pandas>=1.3.0->linearmodels) (2023.3.post1)\n",
      "Requirement already satisfied: tzdata>=2022.1 in c:\\users\\astrandrea\\miniconda3\\envs\\mine\\lib\\site-packages (from pandas>=1.3.0->linearmodels) (2023.3)\n",
      "Requirement already satisfied: packaging>=20 in c:\\users\\astrandrea\\miniconda3\\envs\\mine\\lib\\site-packages (from setuptools-scm<9.0.0,>=8.0.0->setuptools-scm[toml]<9.0.0,>=8.0.0->linearmodels) (23.2)\n",
      "Requirement already satisfied: setuptools in c:\\users\\astrandrea\\miniconda3\\envs\\mine\\lib\\site-packages (from setuptools-scm<9.0.0,>=8.0.0->setuptools-scm[toml]<9.0.0,>=8.0.0->linearmodels) (68.0.0)\n",
      "Requirement already satisfied: patsy>=0.5.4 in c:\\users\\astrandrea\\miniconda3\\envs\\mine\\lib\\site-packages (from statsmodels>=0.12.0->linearmodels) (0.5.6)\n",
      "Requirement already satisfied: six in c:\\users\\astrandrea\\miniconda3\\envs\\mine\\lib\\site-packages (from patsy>=0.5.4->statsmodels>=0.12.0->linearmodels) (1.16.0)\n"
     ]
    }
   ],
   "source": [
    "!pip install sodapy\n",
    "!pip install seaborn\n",
    "!pip install pandas\n",
    "!pip install plotly\n",
    "!pip install linearmodels"
   ]
  },
  {
   "cell_type": "code",
   "execution_count": 414,
   "metadata": {},
   "outputs": [],
   "source": [
    "#Pandas y Nunmpy\n",
    "import pandas as pd\n",
    "import numpy as np\n",
    "#Transformación de fecha\n",
    "from datetime import datetime\n",
    "#Gráficas\n",
    "import seaborn as sns\n",
    "import matplotlib as mpl\n",
    "import matplotlib.pyplot as plt\n",
    "from datetime import datetime\n",
    "import plotly.express as px\n",
    "import plotly.graph_objects as go\n",
    "#Se importa la clase PanelOLS, que se utiliza para realizar regresiones lineales en modelos de panel\n",
    "# o conjuntos de series temporales cruzadas y estimar relaciones lineales.\n",
    "from linearmodels.panel import PanelOLS\n",
    "import pandas as pd\n",
    "#Se importa la biblioteca \"statsmodels\" y la renombra como \"sm\" \n",
    "#Statsmodels es una biblioteca que proporciona herramientas y modelos estadísticos para el análisis \n",
    "#de datos en Python. Se utiliza comúnmente para realizar análisis de regresión, \n",
    "#series de tiempo y otras técnicas estadísticas.\n",
    "import statsmodels.api as sm"
   ]
  },
  {
   "cell_type": "markdown",
   "metadata": {},
   "source": [
    "### _Exploración de la base de datos_"
   ]
  },
  {
   "cell_type": "markdown",
   "metadata": {},
   "source": [
    "#### _Cargar base de datos_"
   ]
  },
  {
   "cell_type": "markdown",
   "metadata": {},
   "source": [
    "Se utiliza la base de datos contratos_secop_esap del data set [SECOP II - Contratos Electrónicos] (https://www.datos.gov.co/Gastos-Gubernamentales/)\n"
   ]
  },
  {
   "cell_type": "code",
   "execution_count": 415,
   "metadata": {},
   "outputs": [],
   "source": [
    "ar = r'C:\\Users\\Astrandrea\\Documents\\AnaConESAP\\datos\\raw\\contratos_secop_esap.csv'"
   ]
  },
  {
   "cell_type": "code",
   "execution_count": 416,
   "metadata": {},
   "outputs": [
    {
     "data": {
      "text/html": [
       "<div>\n",
       "<style scoped>\n",
       "    .dataframe tbody tr th:only-of-type {\n",
       "        vertical-align: middle;\n",
       "    }\n",
       "\n",
       "    .dataframe tbody tr th {\n",
       "        vertical-align: top;\n",
       "    }\n",
       "\n",
       "    .dataframe thead th {\n",
       "        text-align: right;\n",
       "    }\n",
       "</style>\n",
       "<table border=\"1\" class=\"dataframe\">\n",
       "  <thead>\n",
       "    <tr style=\"text-align: right;\">\n",
       "      <th></th>\n",
       "      <th>Unnamed: 0</th>\n",
       "      <th>nombre_entidad</th>\n",
       "      <th>nit_entidad</th>\n",
       "      <th>departamento</th>\n",
       "      <th>ciudad</th>\n",
       "      <th>localizaci_n</th>\n",
       "      <th>orden</th>\n",
       "      <th>sector</th>\n",
       "      <th>rama</th>\n",
       "      <th>entidad_centralizada</th>\n",
       "      <th>proceso_de_compra</th>\n",
       "      <th>id_contrato</th>\n",
       "      <th>referencia_del_contrato</th>\n",
       "      <th>estado_contrato</th>\n",
       "      <th>codigo_de_categoria_principal</th>\n",
       "      <th>descripcion_del_proceso</th>\n",
       "      <th>tipo_de_contrato</th>\n",
       "      <th>modalidad_de_contratacion</th>\n",
       "      <th>justificacion_modalidad_de</th>\n",
       "      <th>fecha_de_firma</th>\n",
       "      <th>fecha_de_fin_del_contrato</th>\n",
       "      <th>condiciones_de_entrega</th>\n",
       "      <th>tipodocproveedor</th>\n",
       "      <th>documento_proveedor</th>\n",
       "      <th>proveedor_adjudicado</th>\n",
       "      <th>es_grupo</th>\n",
       "      <th>es_pyme</th>\n",
       "      <th>habilita_pago_adelantado</th>\n",
       "      <th>liquidaci_n</th>\n",
       "      <th>obligaci_n_ambiental</th>\n",
       "      <th>obligaciones_postconsumo</th>\n",
       "      <th>reversion</th>\n",
       "      <th>origen_de_los_recursos</th>\n",
       "      <th>destino_gasto</th>\n",
       "      <th>valor_del_contrato</th>\n",
       "      <th>valor_de_pago_adelantado</th>\n",
       "      <th>valor_facturado</th>\n",
       "      <th>valor_pendiente_de_pago</th>\n",
       "      <th>valor_pagado</th>\n",
       "      <th>valor_amortizado</th>\n",
       "      <th>valor_pendiente_de</th>\n",
       "      <th>valor_pendiente_de_ejecucion</th>\n",
       "      <th>estado_bpin</th>\n",
       "      <th>c_digo_bpin</th>\n",
       "      <th>anno_bpin</th>\n",
       "      <th>saldo_cdp</th>\n",
       "      <th>saldo_vigencia</th>\n",
       "      <th>espostconflicto</th>\n",
       "      <th>dias_adicionados</th>\n",
       "      <th>puntos_del_acuerdo</th>\n",
       "      <th>pilares_del_acuerdo</th>\n",
       "      <th>urlproceso</th>\n",
       "      <th>nombre_representante_legal</th>\n",
       "      <th>nacionalidad_representante_legal</th>\n",
       "      <th>domicilio_representante_legal</th>\n",
       "      <th>tipo_de_identificaci_n_representante_legal</th>\n",
       "      <th>identificaci_n_representante_legal</th>\n",
       "      <th>g_nero_representante_legal</th>\n",
       "      <th>presupuesto_general_de_la_nacion_pgn</th>\n",
       "      <th>sistema_general_de_participaciones</th>\n",
       "      <th>sistema_general_de_regal_as</th>\n",
       "      <th>recursos_propios_alcald_as_gobernaciones_y_resguardos_ind_genas_</th>\n",
       "      <th>recursos_de_credito</th>\n",
       "      <th>recursos_propios</th>\n",
       "      <th>ultima_actualizacion</th>\n",
       "      <th>codigo_entidad</th>\n",
       "      <th>codigo_proveedor</th>\n",
       "      <th>objeto_del_contrato</th>\n",
       "      <th>fecha_de_inicio_del_contrato</th>\n",
       "      <th>fecha_de_inicio_de_ejecucion</th>\n",
       "      <th>fecha_de_fin_de_ejecucion</th>\n",
       "      <th>fecha_inicio_liquidacion</th>\n",
       "      <th>fecha_fin_liquidacion</th>\n",
       "    </tr>\n",
       "  </thead>\n",
       "  <tbody>\n",
       "    <tr>\n",
       "      <th>0</th>\n",
       "      <td>0</td>\n",
       "      <td>ESCUELA SUPERIOR DE ADMINISTRACIÓN PUBLICA</td>\n",
       "      <td>899999054</td>\n",
       "      <td>Distrito Capital de Bogotá</td>\n",
       "      <td>Bogotá</td>\n",
       "      <td>Colombia, Bogotá,  Bogotá</td>\n",
       "      <td>Nacional</td>\n",
       "      <td>Servicio Público</td>\n",
       "      <td>Ejecutivo</td>\n",
       "      <td>Centralizada</td>\n",
       "      <td>CO1.BDOS.5473717</td>\n",
       "      <td>CO1.PCCNTR.5793225</td>\n",
       "      <td>BOG-245-2024</td>\n",
       "      <td>Activo</td>\n",
       "      <td>V1.93151500</td>\n",
       "      <td>Prestar servicios profesionales como abogado b...</td>\n",
       "      <td>Prestación de servicios</td>\n",
       "      <td>Contratación directa</td>\n",
       "      <td>Servicios profesionales y apoyo a la gestión</td>\n",
       "      <td>2024-01-23T00:00:00.000</td>\n",
       "      <td>2024-10-22T00:00:00.000</td>\n",
       "      <td>A convenir</td>\n",
       "      <td>Cédula de Ciudadanía</td>\n",
       "      <td>1019088195</td>\n",
       "      <td>KATTY BALAGUERA</td>\n",
       "      <td>No</td>\n",
       "      <td>No</td>\n",
       "      <td>No</td>\n",
       "      <td>No</td>\n",
       "      <td>No</td>\n",
       "      <td>No</td>\n",
       "      <td>No</td>\n",
       "      <td>Recursos Propios</td>\n",
       "      <td>Inversión</td>\n",
       "      <td>60568000</td>\n",
       "      <td>0</td>\n",
       "      <td>0</td>\n",
       "      <td>60568000</td>\n",
       "      <td>0</td>\n",
       "      <td>0</td>\n",
       "      <td>0</td>\n",
       "      <td>60568000</td>\n",
       "      <td>No Válido</td>\n",
       "      <td>No Definido</td>\n",
       "      <td>No D</td>\n",
       "      <td>60568000</td>\n",
       "      <td>0</td>\n",
       "      <td>No</td>\n",
       "      <td>0</td>\n",
       "      <td>No aplica</td>\n",
       "      <td>No aplica</td>\n",
       "      <td>{'url': 'https://community.secop.gov.co/Public...</td>\n",
       "      <td>katty jobanna balaguera bustos</td>\n",
       "      <td>CO</td>\n",
       "      <td>No Definido</td>\n",
       "      <td>Cédula de Ciudadanía</td>\n",
       "      <td>1019088195</td>\n",
       "      <td>Femenino</td>\n",
       "      <td>0</td>\n",
       "      <td>0</td>\n",
       "      <td>0</td>\n",
       "      <td>0</td>\n",
       "      <td>0</td>\n",
       "      <td>60568000</td>\n",
       "      <td>2024-01-23T00:00:00.000</td>\n",
       "      <td>701255226</td>\n",
       "      <td>720247055</td>\n",
       "      <td>Prestar servicios profesionales como abogado b...</td>\n",
       "      <td>NaN</td>\n",
       "      <td>NaN</td>\n",
       "      <td>NaN</td>\n",
       "      <td>NaN</td>\n",
       "      <td>NaN</td>\n",
       "    </tr>\n",
       "    <tr>\n",
       "      <th>1</th>\n",
       "      <td>1</td>\n",
       "      <td>ESCUELA SUPERIOR DE ADMINISTRACIÓN PUBLICA</td>\n",
       "      <td>899999054</td>\n",
       "      <td>Distrito Capital de Bogotá</td>\n",
       "      <td>Bogotá</td>\n",
       "      <td>Colombia, Bogotá,  Bogotá</td>\n",
       "      <td>Nacional</td>\n",
       "      <td>Servicio Público</td>\n",
       "      <td>Ejecutivo</td>\n",
       "      <td>Centralizada</td>\n",
       "      <td>CO1.BDOS.1645381</td>\n",
       "      <td>CO1.PCCNTR.2109860</td>\n",
       "      <td>BOG-024-2021</td>\n",
       "      <td>En ejecución</td>\n",
       "      <td>V1.80111600</td>\n",
       "      <td>Prestar servicios profesionales para la planea...</td>\n",
       "      <td>Prestación de servicios</td>\n",
       "      <td>Contratación directa</td>\n",
       "      <td>Servicios profesionales y apoyo a la gestión</td>\n",
       "      <td>2021-01-10T00:00:00.000</td>\n",
       "      <td>2021-08-31T00:00:00.000</td>\n",
       "      <td>A convenir</td>\n",
       "      <td>Cédula de Ciudadanía</td>\n",
       "      <td>1022360809</td>\n",
       "      <td>Angie Nataly Ruiz Rodriguez</td>\n",
       "      <td>No</td>\n",
       "      <td>No</td>\n",
       "      <td>No</td>\n",
       "      <td>No</td>\n",
       "      <td>No</td>\n",
       "      <td>No</td>\n",
       "      <td>No</td>\n",
       "      <td>Recursos Propios</td>\n",
       "      <td>Inversión</td>\n",
       "      <td>76293762</td>\n",
       "      <td>0</td>\n",
       "      <td>38146881</td>\n",
       "      <td>38146881</td>\n",
       "      <td>38146881</td>\n",
       "      <td>0</td>\n",
       "      <td>0</td>\n",
       "      <td>38146881</td>\n",
       "      <td>No Válido</td>\n",
       "      <td>No Definido</td>\n",
       "      <td>2021</td>\n",
       "      <td>56902064</td>\n",
       "      <td>0</td>\n",
       "      <td>No</td>\n",
       "      <td>0</td>\n",
       "      <td>No aplica</td>\n",
       "      <td>No aplica</td>\n",
       "      <td>{'url': 'https://community.secop.gov.co/Public...</td>\n",
       "      <td>Angie Nataly Ruiz Rodriguez</td>\n",
       "      <td>CO</td>\n",
       "      <td>No Definido</td>\n",
       "      <td>Cédula de Ciudadanía</td>\n",
       "      <td>1022360809</td>\n",
       "      <td>Femenino</td>\n",
       "      <td>0</td>\n",
       "      <td>0</td>\n",
       "      <td>0</td>\n",
       "      <td>0</td>\n",
       "      <td>0</td>\n",
       "      <td>76293762</td>\n",
       "      <td>NaN</td>\n",
       "      <td>701255226</td>\n",
       "      <td>706380524</td>\n",
       "      <td>Prestar servicios profesionales para la planea...</td>\n",
       "      <td>2021-01-14T00:00:00.000</td>\n",
       "      <td>NaN</td>\n",
       "      <td>NaN</td>\n",
       "      <td>NaN</td>\n",
       "      <td>NaN</td>\n",
       "    </tr>\n",
       "    <tr>\n",
       "      <th>2</th>\n",
       "      <td>2</td>\n",
       "      <td>ESCUELA SUPERIOR DE ADMINISTRACIÓN PUBLICA</td>\n",
       "      <td>899999054</td>\n",
       "      <td>Distrito Capital de Bogotá</td>\n",
       "      <td>Bogotá</td>\n",
       "      <td>Colombia, Bogotá,  Bogotá</td>\n",
       "      <td>Nacional</td>\n",
       "      <td>Servicio Público</td>\n",
       "      <td>Ejecutivo</td>\n",
       "      <td>Centralizada</td>\n",
       "      <td>CO1.BDOS.3746547</td>\n",
       "      <td>CO1.PCCNTR.4396488</td>\n",
       "      <td>BOG-005-2023</td>\n",
       "      <td>En ejecución</td>\n",
       "      <td>V1.93151500</td>\n",
       "      <td>PRESTAR SERVICIOS PROFESIONALES REALIZANDO ACO...</td>\n",
       "      <td>Prestación de servicios</td>\n",
       "      <td>Contratación directa</td>\n",
       "      <td>Servicios profesionales y apoyo a la gestión</td>\n",
       "      <td>2023-01-13T00:00:00.000</td>\n",
       "      <td>2023-05-01T00:00:00.000</td>\n",
       "      <td>A convenir</td>\n",
       "      <td>Cédula de Ciudadanía</td>\n",
       "      <td>1026272842</td>\n",
       "      <td>ERIKA ASTRID MENDEZ MORENO</td>\n",
       "      <td>No</td>\n",
       "      <td>No</td>\n",
       "      <td>No Definido</td>\n",
       "      <td>No</td>\n",
       "      <td>No</td>\n",
       "      <td>No</td>\n",
       "      <td>No</td>\n",
       "      <td>Recursos Propios</td>\n",
       "      <td>Funcionamiento</td>\n",
       "      <td>31720000</td>\n",
       "      <td>0</td>\n",
       "      <td>31720000</td>\n",
       "      <td>0</td>\n",
       "      <td>31720000</td>\n",
       "      <td>0</td>\n",
       "      <td>0</td>\n",
       "      <td>0</td>\n",
       "      <td>No Válido</td>\n",
       "      <td>No Definido</td>\n",
       "      <td>No D</td>\n",
       "      <td>31720000</td>\n",
       "      <td>0</td>\n",
       "      <td>No</td>\n",
       "      <td>0</td>\n",
       "      <td>No aplica</td>\n",
       "      <td>No aplica</td>\n",
       "      <td>{'url': 'https://community.secop.gov.co/Public...</td>\n",
       "      <td>ERIKA ASTRID MENDEZ MORENO</td>\n",
       "      <td>CO</td>\n",
       "      <td>CALLE 18 A 6 - 86</td>\n",
       "      <td>Cédula de Ciudadanía</td>\n",
       "      <td>1026272842</td>\n",
       "      <td>Femenino</td>\n",
       "      <td>0</td>\n",
       "      <td>0</td>\n",
       "      <td>0</td>\n",
       "      <td>0</td>\n",
       "      <td>0</td>\n",
       "      <td>31720000</td>\n",
       "      <td>NaN</td>\n",
       "      <td>701255226</td>\n",
       "      <td>709239016</td>\n",
       "      <td>PRESTAR SERVICIOS PROFESIONALES REALIZANDO ACO...</td>\n",
       "      <td>2023-01-13T00:00:00.000</td>\n",
       "      <td>NaN</td>\n",
       "      <td>NaN</td>\n",
       "      <td>NaN</td>\n",
       "      <td>NaN</td>\n",
       "    </tr>\n",
       "    <tr>\n",
       "      <th>3</th>\n",
       "      <td>3</td>\n",
       "      <td>ESCUELA SUPERIOR DE ADMINISTRACIÓN PUBLICA</td>\n",
       "      <td>899999054</td>\n",
       "      <td>Distrito Capital de Bogotá</td>\n",
       "      <td>Bogotá</td>\n",
       "      <td>Colombia, Bogotá,  Bogotá</td>\n",
       "      <td>Nacional</td>\n",
       "      <td>Servicio Público</td>\n",
       "      <td>Ejecutivo</td>\n",
       "      <td>Centralizada</td>\n",
       "      <td>CO1.BDOS.4004756</td>\n",
       "      <td>CO1.PCCNTR.4629425</td>\n",
       "      <td>ESAP-PS-CHO-009-2023</td>\n",
       "      <td>Modificado</td>\n",
       "      <td>V1.93151500</td>\n",
       "      <td>Prestar los servicios profesionales líder admi...</td>\n",
       "      <td>Prestación de servicios</td>\n",
       "      <td>Contratación directa</td>\n",
       "      <td>Servicios profesionales y apoyo a la gestión</td>\n",
       "      <td>2023-02-15T00:00:00.000</td>\n",
       "      <td>2024-01-01T00:00:00.000</td>\n",
       "      <td>A convenir</td>\n",
       "      <td>Cédula de Ciudadanía</td>\n",
       "      <td>54259791</td>\n",
       "      <td>GLORIA STELLA MOSQUERA ARIAS</td>\n",
       "      <td>No</td>\n",
       "      <td>No</td>\n",
       "      <td>No</td>\n",
       "      <td>No</td>\n",
       "      <td>No</td>\n",
       "      <td>No</td>\n",
       "      <td>No</td>\n",
       "      <td>Distribuido</td>\n",
       "      <td>Funcionamiento</td>\n",
       "      <td>51030000</td>\n",
       "      <td>0</td>\n",
       "      <td>51030000</td>\n",
       "      <td>4860000</td>\n",
       "      <td>46170000</td>\n",
       "      <td>0</td>\n",
       "      <td>0</td>\n",
       "      <td>4860000</td>\n",
       "      <td>No Válido</td>\n",
       "      <td>No Definido</td>\n",
       "      <td>No D</td>\n",
       "      <td>53460000</td>\n",
       "      <td>0</td>\n",
       "      <td>No</td>\n",
       "      <td>0</td>\n",
       "      <td>No aplica</td>\n",
       "      <td>No aplica</td>\n",
       "      <td>{'url': 'https://community.secop.gov.co/Public...</td>\n",
       "      <td>GLORIA STELLA MOSQUERA ARIAS</td>\n",
       "      <td>CO</td>\n",
       "      <td>No Definido</td>\n",
       "      <td>Cédula de Ciudadanía</td>\n",
       "      <td>54259791</td>\n",
       "      <td>No Definido</td>\n",
       "      <td>51030000</td>\n",
       "      <td>0</td>\n",
       "      <td>0</td>\n",
       "      <td>0</td>\n",
       "      <td>0</td>\n",
       "      <td>0</td>\n",
       "      <td>NaN</td>\n",
       "      <td>701255226</td>\n",
       "      <td>716771035</td>\n",
       "      <td>Prestar los servicios profesionales líder admi...</td>\n",
       "      <td>2023-02-17T00:00:00.000</td>\n",
       "      <td>NaN</td>\n",
       "      <td>NaN</td>\n",
       "      <td>NaN</td>\n",
       "      <td>NaN</td>\n",
       "    </tr>\n",
       "    <tr>\n",
       "      <th>4</th>\n",
       "      <td>4</td>\n",
       "      <td>ESCUELA SUPERIOR DE ADMINISTRACIÓN PUBLICA</td>\n",
       "      <td>899999054</td>\n",
       "      <td>Distrito Capital de Bogotá</td>\n",
       "      <td>Bogotá</td>\n",
       "      <td>Colombia, Bogotá,  Bogotá</td>\n",
       "      <td>Nacional</td>\n",
       "      <td>Servicio Público</td>\n",
       "      <td>Ejecutivo</td>\n",
       "      <td>Centralizada</td>\n",
       "      <td>CO1.BDOS.2273409</td>\n",
       "      <td>CO1.PCCNTR.2885861</td>\n",
       "      <td>BOG-947-2021</td>\n",
       "      <td>Cerrado</td>\n",
       "      <td>V1.93151500</td>\n",
       "      <td>Prestar servicios profesionales para hacer la ...</td>\n",
       "      <td>Prestación de servicios</td>\n",
       "      <td>Contratación directa</td>\n",
       "      <td>Servicios profesionales y apoyo a la gestión</td>\n",
       "      <td>2021-09-29T00:00:00.000</td>\n",
       "      <td>2021-12-31T00:00:00.000</td>\n",
       "      <td>A convenir</td>\n",
       "      <td>Cédula de Ciudadanía</td>\n",
       "      <td>28393301</td>\n",
       "      <td>LYDA MILENA GARZA PINZON</td>\n",
       "      <td>No</td>\n",
       "      <td>No</td>\n",
       "      <td>No</td>\n",
       "      <td>No</td>\n",
       "      <td>No</td>\n",
       "      <td>No</td>\n",
       "      <td>No</td>\n",
       "      <td>Recursos Propios</td>\n",
       "      <td>Inversión</td>\n",
       "      <td>11469969</td>\n",
       "      <td>0</td>\n",
       "      <td>7646666</td>\n",
       "      <td>3823303</td>\n",
       "      <td>7646666</td>\n",
       "      <td>0</td>\n",
       "      <td>0</td>\n",
       "      <td>3823303</td>\n",
       "      <td>No Válido</td>\n",
       "      <td>No Definido</td>\n",
       "      <td>2023</td>\n",
       "      <td>16650000</td>\n",
       "      <td>0</td>\n",
       "      <td>No</td>\n",
       "      <td>0</td>\n",
       "      <td>No aplica</td>\n",
       "      <td>No aplica</td>\n",
       "      <td>{'url': 'https://community.secop.gov.co/Public...</td>\n",
       "      <td>LYDA MILENA GARZA PINZON</td>\n",
       "      <td>CO</td>\n",
       "      <td>No Definido</td>\n",
       "      <td>Sin Descripcion</td>\n",
       "      <td>Sin Descripcion</td>\n",
       "      <td>No Definido</td>\n",
       "      <td>0</td>\n",
       "      <td>0</td>\n",
       "      <td>0</td>\n",
       "      <td>0</td>\n",
       "      <td>0</td>\n",
       "      <td>11469969</td>\n",
       "      <td>NaN</td>\n",
       "      <td>701255226</td>\n",
       "      <td>711710996</td>\n",
       "      <td>Prestar servicios profesionales para hacer la ...</td>\n",
       "      <td>2021-09-29T00:00:00.000</td>\n",
       "      <td>NaN</td>\n",
       "      <td>NaN</td>\n",
       "      <td>NaN</td>\n",
       "      <td>NaN</td>\n",
       "    </tr>\n",
       "    <tr>\n",
       "      <th>...</th>\n",
       "      <td>...</td>\n",
       "      <td>...</td>\n",
       "      <td>...</td>\n",
       "      <td>...</td>\n",
       "      <td>...</td>\n",
       "      <td>...</td>\n",
       "      <td>...</td>\n",
       "      <td>...</td>\n",
       "      <td>...</td>\n",
       "      <td>...</td>\n",
       "      <td>...</td>\n",
       "      <td>...</td>\n",
       "      <td>...</td>\n",
       "      <td>...</td>\n",
       "      <td>...</td>\n",
       "      <td>...</td>\n",
       "      <td>...</td>\n",
       "      <td>...</td>\n",
       "      <td>...</td>\n",
       "      <td>...</td>\n",
       "      <td>...</td>\n",
       "      <td>...</td>\n",
       "      <td>...</td>\n",
       "      <td>...</td>\n",
       "      <td>...</td>\n",
       "      <td>...</td>\n",
       "      <td>...</td>\n",
       "      <td>...</td>\n",
       "      <td>...</td>\n",
       "      <td>...</td>\n",
       "      <td>...</td>\n",
       "      <td>...</td>\n",
       "      <td>...</td>\n",
       "      <td>...</td>\n",
       "      <td>...</td>\n",
       "      <td>...</td>\n",
       "      <td>...</td>\n",
       "      <td>...</td>\n",
       "      <td>...</td>\n",
       "      <td>...</td>\n",
       "      <td>...</td>\n",
       "      <td>...</td>\n",
       "      <td>...</td>\n",
       "      <td>...</td>\n",
       "      <td>...</td>\n",
       "      <td>...</td>\n",
       "      <td>...</td>\n",
       "      <td>...</td>\n",
       "      <td>...</td>\n",
       "      <td>...</td>\n",
       "      <td>...</td>\n",
       "      <td>...</td>\n",
       "      <td>...</td>\n",
       "      <td>...</td>\n",
       "      <td>...</td>\n",
       "      <td>...</td>\n",
       "      <td>...</td>\n",
       "      <td>...</td>\n",
       "      <td>...</td>\n",
       "      <td>...</td>\n",
       "      <td>...</td>\n",
       "      <td>...</td>\n",
       "      <td>...</td>\n",
       "      <td>...</td>\n",
       "      <td>...</td>\n",
       "      <td>...</td>\n",
       "      <td>...</td>\n",
       "      <td>...</td>\n",
       "      <td>...</td>\n",
       "      <td>...</td>\n",
       "      <td>...</td>\n",
       "      <td>...</td>\n",
       "      <td>...</td>\n",
       "    </tr>\n",
       "    <tr>\n",
       "      <th>5384</th>\n",
       "      <td>5384</td>\n",
       "      <td>ESCUELA SUPERIOR DE ADMINISTRACIÓN PUBLICA</td>\n",
       "      <td>899999054</td>\n",
       "      <td>Distrito Capital de Bogotá</td>\n",
       "      <td>Bogotá</td>\n",
       "      <td>Colombia, Bogotá,  Bogotá</td>\n",
       "      <td>Nacional</td>\n",
       "      <td>Servicio Público</td>\n",
       "      <td>Ejecutivo</td>\n",
       "      <td>Centralizada</td>\n",
       "      <td>CO1.BDOS.5044120</td>\n",
       "      <td>CO1.PCCNTR.5454142</td>\n",
       "      <td>BOG-1647-2023.</td>\n",
       "      <td>En ejecución</td>\n",
       "      <td>V1.93151500</td>\n",
       "      <td>Prestar servicios profesionales para apoyar la...</td>\n",
       "      <td>Prestación de servicios</td>\n",
       "      <td>Contratación directa</td>\n",
       "      <td>Servicios profesionales y apoyo a la gestión</td>\n",
       "      <td>2023-10-13T00:00:00.000</td>\n",
       "      <td>2024-01-01T00:00:00.000</td>\n",
       "      <td>A convenir</td>\n",
       "      <td>Cédula de Ciudadanía</td>\n",
       "      <td>1012404365</td>\n",
       "      <td>PAULA ANDREA MORA SANDOVAL</td>\n",
       "      <td>No</td>\n",
       "      <td>No</td>\n",
       "      <td>No</td>\n",
       "      <td>No</td>\n",
       "      <td>No</td>\n",
       "      <td>No</td>\n",
       "      <td>No</td>\n",
       "      <td>Recursos Propios</td>\n",
       "      <td>Inversión</td>\n",
       "      <td>18821000</td>\n",
       "      <td>0</td>\n",
       "      <td>16008700</td>\n",
       "      <td>2812300</td>\n",
       "      <td>16008700</td>\n",
       "      <td>0</td>\n",
       "      <td>0</td>\n",
       "      <td>2812300</td>\n",
       "      <td>No Válido</td>\n",
       "      <td>No Definido</td>\n",
       "      <td>No D</td>\n",
       "      <td>19470000</td>\n",
       "      <td>0</td>\n",
       "      <td>No</td>\n",
       "      <td>0</td>\n",
       "      <td>No aplica</td>\n",
       "      <td>No aplica</td>\n",
       "      <td>{'url': 'https://community.secop.gov.co/Public...</td>\n",
       "      <td>Mora Sandoval</td>\n",
       "      <td>CO</td>\n",
       "      <td>Diagonal 72 A# 81- 48 sur</td>\n",
       "      <td>Cédula de Ciudadanía</td>\n",
       "      <td>1012404365</td>\n",
       "      <td>Femenino</td>\n",
       "      <td>0</td>\n",
       "      <td>0</td>\n",
       "      <td>0</td>\n",
       "      <td>0</td>\n",
       "      <td>0</td>\n",
       "      <td>18821000</td>\n",
       "      <td>NaN</td>\n",
       "      <td>701255226</td>\n",
       "      <td>709641112</td>\n",
       "      <td>Prestar servicios profesionales para apoyar la...</td>\n",
       "      <td>2023-10-17T00:00:00.000</td>\n",
       "      <td>NaN</td>\n",
       "      <td>NaN</td>\n",
       "      <td>NaN</td>\n",
       "      <td>NaN</td>\n",
       "    </tr>\n",
       "    <tr>\n",
       "      <th>5385</th>\n",
       "      <td>5385</td>\n",
       "      <td>ESCUELA SUPERIOR DE ADMINISTRACIÓN PUBLICA</td>\n",
       "      <td>899999054</td>\n",
       "      <td>Distrito Capital de Bogotá</td>\n",
       "      <td>Bogotá</td>\n",
       "      <td>Colombia, Bogotá,  Bogotá</td>\n",
       "      <td>Nacional</td>\n",
       "      <td>Servicio Público</td>\n",
       "      <td>Ejecutivo</td>\n",
       "      <td>Centralizada</td>\n",
       "      <td>CO1.BDOS.3826205</td>\n",
       "      <td>CO1.PCCNTR.4466013</td>\n",
       "      <td>BOG-213-2023</td>\n",
       "      <td>Modificado</td>\n",
       "      <td>V1.93151500</td>\n",
       "      <td>Prestar servicios profesionales para apoyar en...</td>\n",
       "      <td>Prestación de servicios</td>\n",
       "      <td>Contratación directa</td>\n",
       "      <td>Servicios profesionales y apoyo a la gestión</td>\n",
       "      <td>2023-01-24T00:00:00.000</td>\n",
       "      <td>2023-12-30T00:00:00.000</td>\n",
       "      <td>A convenir</td>\n",
       "      <td>Cédula de Ciudadanía</td>\n",
       "      <td>1016048734</td>\n",
       "      <td>Diego Alexander Hernandez Laguna</td>\n",
       "      <td>No</td>\n",
       "      <td>No</td>\n",
       "      <td>No</td>\n",
       "      <td>No</td>\n",
       "      <td>No</td>\n",
       "      <td>No</td>\n",
       "      <td>No</td>\n",
       "      <td>Recursos Propios</td>\n",
       "      <td>Inversión</td>\n",
       "      <td>64431667</td>\n",
       "      <td>0</td>\n",
       "      <td>64431666</td>\n",
       "      <td>1</td>\n",
       "      <td>64431666</td>\n",
       "      <td>0</td>\n",
       "      <td>0</td>\n",
       "      <td>1</td>\n",
       "      <td>No Válido</td>\n",
       "      <td>No Definido</td>\n",
       "      <td>No D</td>\n",
       "      <td>63470000</td>\n",
       "      <td>0</td>\n",
       "      <td>No</td>\n",
       "      <td>4</td>\n",
       "      <td>No aplica</td>\n",
       "      <td>No aplica</td>\n",
       "      <td>{'url': 'https://community.secop.gov.co/Public...</td>\n",
       "      <td>Diego Alexander Hernandez Laguna</td>\n",
       "      <td>CO</td>\n",
       "      <td>No Definido</td>\n",
       "      <td>Sin Descripcion</td>\n",
       "      <td>Sin Descripcion</td>\n",
       "      <td>No Definido</td>\n",
       "      <td>0</td>\n",
       "      <td>0</td>\n",
       "      <td>0</td>\n",
       "      <td>0</td>\n",
       "      <td>0</td>\n",
       "      <td>63470000</td>\n",
       "      <td>NaN</td>\n",
       "      <td>701255226</td>\n",
       "      <td>706542255</td>\n",
       "      <td>Prestar servicios profesionales para apoyar en...</td>\n",
       "      <td>2023-01-26T00:00:00.000</td>\n",
       "      <td>NaN</td>\n",
       "      <td>NaN</td>\n",
       "      <td>NaN</td>\n",
       "      <td>NaN</td>\n",
       "    </tr>\n",
       "    <tr>\n",
       "      <th>5386</th>\n",
       "      <td>5386</td>\n",
       "      <td>ESCUELA SUPERIOR DE ADMINISTRACIÓN PUBLICA</td>\n",
       "      <td>899999054</td>\n",
       "      <td>Distrito Capital de Bogotá</td>\n",
       "      <td>Bogotá</td>\n",
       "      <td>Colombia, Bogotá,  Bogotá</td>\n",
       "      <td>Nacional</td>\n",
       "      <td>Servicio Público</td>\n",
       "      <td>Ejecutivo</td>\n",
       "      <td>Centralizada</td>\n",
       "      <td>CO1.BDOS.4521832</td>\n",
       "      <td>CO1.PCCNTR.5053495</td>\n",
       "      <td>BOG-1087-2023</td>\n",
       "      <td>En ejecución</td>\n",
       "      <td>V1.80111703</td>\n",
       "      <td>Aunar esfuerzos financieros, técnicos, adminis...</td>\n",
       "      <td>Otro</td>\n",
       "      <td>Contratación directa</td>\n",
       "      <td>Contratos o convenios Interadministrativos (va...</td>\n",
       "      <td>2023-06-08T00:00:00.000</td>\n",
       "      <td>2024-01-01T00:00:00.000</td>\n",
       "      <td>No Definido</td>\n",
       "      <td>No Definido</td>\n",
       "      <td>900034001</td>\n",
       "      <td>CONCEJO MUNICIPAL DE NARIÑO CUNDINAMARCA</td>\n",
       "      <td>No</td>\n",
       "      <td>No</td>\n",
       "      <td>No</td>\n",
       "      <td>No</td>\n",
       "      <td>No</td>\n",
       "      <td>No</td>\n",
       "      <td>No</td>\n",
       "      <td>Distribuido</td>\n",
       "      <td>Inversión</td>\n",
       "      <td>0</td>\n",
       "      <td>0</td>\n",
       "      <td>0</td>\n",
       "      <td>0</td>\n",
       "      <td>0</td>\n",
       "      <td>0</td>\n",
       "      <td>0</td>\n",
       "      <td>0</td>\n",
       "      <td>No Válido</td>\n",
       "      <td>No Definido</td>\n",
       "      <td>No D</td>\n",
       "      <td>0</td>\n",
       "      <td>0</td>\n",
       "      <td>No</td>\n",
       "      <td>0</td>\n",
       "      <td>No aplica</td>\n",
       "      <td>No aplica</td>\n",
       "      <td>{'url': 'https://community.secop.gov.co/Public...</td>\n",
       "      <td>DIEGO LUIS MASMELA JIMENEZ</td>\n",
       "      <td>CO</td>\n",
       "      <td>CRA 2 CALLE 6 ESQUINA</td>\n",
       "      <td>Cédula de Ciudadanía</td>\n",
       "      <td>3101908</td>\n",
       "      <td>No Definido</td>\n",
       "      <td>0</td>\n",
       "      <td>0</td>\n",
       "      <td>0</td>\n",
       "      <td>0</td>\n",
       "      <td>0</td>\n",
       "      <td>0</td>\n",
       "      <td>NaN</td>\n",
       "      <td>701255226</td>\n",
       "      <td>721519577</td>\n",
       "      <td>Aunar esfuerzos financieros, técnicos, adminis...</td>\n",
       "      <td>2023-06-09T00:00:00.000</td>\n",
       "      <td>NaN</td>\n",
       "      <td>NaN</td>\n",
       "      <td>NaN</td>\n",
       "      <td>NaN</td>\n",
       "    </tr>\n",
       "    <tr>\n",
       "      <th>5387</th>\n",
       "      <td>5387</td>\n",
       "      <td>ESCUELA SUPERIOR DE ADMINISTRACIÓN PUBLICA</td>\n",
       "      <td>899999054</td>\n",
       "      <td>Distrito Capital de Bogotá</td>\n",
       "      <td>Bogotá</td>\n",
       "      <td>Colombia, Bogotá,  Bogotá</td>\n",
       "      <td>Nacional</td>\n",
       "      <td>Servicio Público</td>\n",
       "      <td>Ejecutivo</td>\n",
       "      <td>Centralizada</td>\n",
       "      <td>CO1.BDOS.4378755</td>\n",
       "      <td>CO1.PCCNTR.4938846</td>\n",
       "      <td>BOG-728-2023</td>\n",
       "      <td>En ejecución</td>\n",
       "      <td>V1.80111703</td>\n",
       "      <td>Aunar esfuerzos financieros, técnicos, adminis...</td>\n",
       "      <td>Otro</td>\n",
       "      <td>Contratación directa</td>\n",
       "      <td>Contratos o convenios Interadministrativos (va...</td>\n",
       "      <td>2023-05-15T00:00:00.000</td>\n",
       "      <td>2024-01-01T00:00:00.000</td>\n",
       "      <td>No Definido</td>\n",
       "      <td>No Definido</td>\n",
       "      <td>8909825669</td>\n",
       "      <td>CONCEJO MUNICIPAL DE NARIÑO</td>\n",
       "      <td>No</td>\n",
       "      <td>No</td>\n",
       "      <td>No</td>\n",
       "      <td>No</td>\n",
       "      <td>No</td>\n",
       "      <td>No</td>\n",
       "      <td>No</td>\n",
       "      <td>Distribuido</td>\n",
       "      <td>Funcionamiento</td>\n",
       "      <td>0</td>\n",
       "      <td>0</td>\n",
       "      <td>0</td>\n",
       "      <td>0</td>\n",
       "      <td>0</td>\n",
       "      <td>0</td>\n",
       "      <td>0</td>\n",
       "      <td>0</td>\n",
       "      <td>No Válido</td>\n",
       "      <td>No Definido</td>\n",
       "      <td>No D</td>\n",
       "      <td>0</td>\n",
       "      <td>0</td>\n",
       "      <td>No</td>\n",
       "      <td>0</td>\n",
       "      <td>No aplica</td>\n",
       "      <td>No aplica</td>\n",
       "      <td>{'url': 'https://community.secop.gov.co/Public...</td>\n",
       "      <td>Sindy Mariana Lopez Sanchez</td>\n",
       "      <td>CO</td>\n",
       "      <td>No Definido</td>\n",
       "      <td>Cédula de Ciudadanía</td>\n",
       "      <td>1036839874</td>\n",
       "      <td>Femenino</td>\n",
       "      <td>0</td>\n",
       "      <td>0</td>\n",
       "      <td>0</td>\n",
       "      <td>0</td>\n",
       "      <td>0</td>\n",
       "      <td>0</td>\n",
       "      <td>NaN</td>\n",
       "      <td>701255226</td>\n",
       "      <td>713212132</td>\n",
       "      <td>Aunar esfuerzos financieros, técnicos, adminis...</td>\n",
       "      <td>2023-05-15T00:00:00.000</td>\n",
       "      <td>NaN</td>\n",
       "      <td>NaN</td>\n",
       "      <td>NaN</td>\n",
       "      <td>NaN</td>\n",
       "    </tr>\n",
       "    <tr>\n",
       "      <th>5388</th>\n",
       "      <td>5388</td>\n",
       "      <td>ESCUELA SUPERIOR DE ADMINISTRACIÓN PUBLICA</td>\n",
       "      <td>899999054</td>\n",
       "      <td>Distrito Capital de Bogotá</td>\n",
       "      <td>Bogotá</td>\n",
       "      <td>Colombia, Bogotá,  Bogotá</td>\n",
       "      <td>Nacional</td>\n",
       "      <td>Servicio Público</td>\n",
       "      <td>Ejecutivo</td>\n",
       "      <td>Centralizada</td>\n",
       "      <td>CO1.BDOS.1090385</td>\n",
       "      <td>CO1.PCCNTR.1344781</td>\n",
       "      <td>BOG-243-2020</td>\n",
       "      <td>Activo</td>\n",
       "      <td>V1.80111600</td>\n",
       "      <td>PRESTAR SERVICIOS PROFESIONALES  COMO ABOGADO ...</td>\n",
       "      <td>Prestación de servicios</td>\n",
       "      <td>Contratación directa</td>\n",
       "      <td>Servicios profesionales y apoyo a la gestión</td>\n",
       "      <td>2020-02-12T00:00:00.000</td>\n",
       "      <td>2021-01-01T00:00:00.000</td>\n",
       "      <td>A convenir</td>\n",
       "      <td>Cédula de Ciudadanía</td>\n",
       "      <td>52411671</td>\n",
       "      <td>LILIANA PATRICIA AZZA PINEDA</td>\n",
       "      <td>No</td>\n",
       "      <td>No</td>\n",
       "      <td>No Definido</td>\n",
       "      <td>No</td>\n",
       "      <td>No</td>\n",
       "      <td>No</td>\n",
       "      <td>No</td>\n",
       "      <td>Distribuido</td>\n",
       "      <td>Funcionamiento</td>\n",
       "      <td>57500000</td>\n",
       "      <td>0</td>\n",
       "      <td>0</td>\n",
       "      <td>57500000</td>\n",
       "      <td>0</td>\n",
       "      <td>0</td>\n",
       "      <td>0</td>\n",
       "      <td>57500000</td>\n",
       "      <td>No Válido</td>\n",
       "      <td>No Definido</td>\n",
       "      <td>No D</td>\n",
       "      <td>57500000</td>\n",
       "      <td>0</td>\n",
       "      <td>No</td>\n",
       "      <td>0</td>\n",
       "      <td>No aplica</td>\n",
       "      <td>No aplica</td>\n",
       "      <td>{'url': 'https://community.secop.gov.co/Public...</td>\n",
       "      <td>LILIANA PATRICIA AZZA PINEDA</td>\n",
       "      <td>CO</td>\n",
       "      <td>No Definido</td>\n",
       "      <td>Cédula de Ciudadanía</td>\n",
       "      <td>52411671</td>\n",
       "      <td>No Definido</td>\n",
       "      <td>0</td>\n",
       "      <td>0</td>\n",
       "      <td>0</td>\n",
       "      <td>0</td>\n",
       "      <td>0</td>\n",
       "      <td>0</td>\n",
       "      <td>NaN</td>\n",
       "      <td>701255226</td>\n",
       "      <td>705587715</td>\n",
       "      <td>PRESTAR SERVICIOS PROFESIONALES  COMO ABOGADO ...</td>\n",
       "      <td>2020-02-06T00:00:00.000</td>\n",
       "      <td>2020-02-06T00:00:00.000</td>\n",
       "      <td>2021-01-01T00:00:00.000</td>\n",
       "      <td>NaN</td>\n",
       "      <td>NaN</td>\n",
       "    </tr>\n",
       "  </tbody>\n",
       "</table>\n",
       "<p>5389 rows × 73 columns</p>\n",
       "</div>"
      ],
      "text/plain": [
       "      Unnamed: 0                              nombre_entidad  nit_entidad  \\\n",
       "0              0  ESCUELA SUPERIOR DE ADMINISTRACIÓN PUBLICA    899999054   \n",
       "1              1  ESCUELA SUPERIOR DE ADMINISTRACIÓN PUBLICA    899999054   \n",
       "2              2  ESCUELA SUPERIOR DE ADMINISTRACIÓN PUBLICA    899999054   \n",
       "3              3  ESCUELA SUPERIOR DE ADMINISTRACIÓN PUBLICA    899999054   \n",
       "4              4  ESCUELA SUPERIOR DE ADMINISTRACIÓN PUBLICA    899999054   \n",
       "...          ...                                         ...          ...   \n",
       "5384        5384  ESCUELA SUPERIOR DE ADMINISTRACIÓN PUBLICA    899999054   \n",
       "5385        5385  ESCUELA SUPERIOR DE ADMINISTRACIÓN PUBLICA    899999054   \n",
       "5386        5386  ESCUELA SUPERIOR DE ADMINISTRACIÓN PUBLICA    899999054   \n",
       "5387        5387  ESCUELA SUPERIOR DE ADMINISTRACIÓN PUBLICA    899999054   \n",
       "5388        5388  ESCUELA SUPERIOR DE ADMINISTRACIÓN PUBLICA    899999054   \n",
       "\n",
       "                    departamento  ciudad               localizaci_n     orden  \\\n",
       "0     Distrito Capital de Bogotá  Bogotá  Colombia, Bogotá,  Bogotá  Nacional   \n",
       "1     Distrito Capital de Bogotá  Bogotá  Colombia, Bogotá,  Bogotá  Nacional   \n",
       "2     Distrito Capital de Bogotá  Bogotá  Colombia, Bogotá,  Bogotá  Nacional   \n",
       "3     Distrito Capital de Bogotá  Bogotá  Colombia, Bogotá,  Bogotá  Nacional   \n",
       "4     Distrito Capital de Bogotá  Bogotá  Colombia, Bogotá,  Bogotá  Nacional   \n",
       "...                          ...     ...                        ...       ...   \n",
       "5384  Distrito Capital de Bogotá  Bogotá  Colombia, Bogotá,  Bogotá  Nacional   \n",
       "5385  Distrito Capital de Bogotá  Bogotá  Colombia, Bogotá,  Bogotá  Nacional   \n",
       "5386  Distrito Capital de Bogotá  Bogotá  Colombia, Bogotá,  Bogotá  Nacional   \n",
       "5387  Distrito Capital de Bogotá  Bogotá  Colombia, Bogotá,  Bogotá  Nacional   \n",
       "5388  Distrito Capital de Bogotá  Bogotá  Colombia, Bogotá,  Bogotá  Nacional   \n",
       "\n",
       "                sector       rama entidad_centralizada proceso_de_compra  \\\n",
       "0     Servicio Público  Ejecutivo         Centralizada  CO1.BDOS.5473717   \n",
       "1     Servicio Público  Ejecutivo         Centralizada  CO1.BDOS.1645381   \n",
       "2     Servicio Público  Ejecutivo         Centralizada  CO1.BDOS.3746547   \n",
       "3     Servicio Público  Ejecutivo         Centralizada  CO1.BDOS.4004756   \n",
       "4     Servicio Público  Ejecutivo         Centralizada  CO1.BDOS.2273409   \n",
       "...                ...        ...                  ...               ...   \n",
       "5384  Servicio Público  Ejecutivo         Centralizada  CO1.BDOS.5044120   \n",
       "5385  Servicio Público  Ejecutivo         Centralizada  CO1.BDOS.3826205   \n",
       "5386  Servicio Público  Ejecutivo         Centralizada  CO1.BDOS.4521832   \n",
       "5387  Servicio Público  Ejecutivo         Centralizada  CO1.BDOS.4378755   \n",
       "5388  Servicio Público  Ejecutivo         Centralizada  CO1.BDOS.1090385   \n",
       "\n",
       "             id_contrato referencia_del_contrato estado_contrato  \\\n",
       "0     CO1.PCCNTR.5793225            BOG-245-2024          Activo   \n",
       "1     CO1.PCCNTR.2109860            BOG-024-2021    En ejecución   \n",
       "2     CO1.PCCNTR.4396488            BOG-005-2023    En ejecución   \n",
       "3     CO1.PCCNTR.4629425    ESAP-PS-CHO-009-2023      Modificado   \n",
       "4     CO1.PCCNTR.2885861            BOG-947-2021         Cerrado   \n",
       "...                  ...                     ...             ...   \n",
       "5384  CO1.PCCNTR.5454142          BOG-1647-2023.    En ejecución   \n",
       "5385  CO1.PCCNTR.4466013            BOG-213-2023      Modificado   \n",
       "5386  CO1.PCCNTR.5053495           BOG-1087-2023    En ejecución   \n",
       "5387  CO1.PCCNTR.4938846            BOG-728-2023    En ejecución   \n",
       "5388  CO1.PCCNTR.1344781            BOG-243-2020          Activo   \n",
       "\n",
       "     codigo_de_categoria_principal  \\\n",
       "0                      V1.93151500   \n",
       "1                      V1.80111600   \n",
       "2                      V1.93151500   \n",
       "3                      V1.93151500   \n",
       "4                      V1.93151500   \n",
       "...                            ...   \n",
       "5384                   V1.93151500   \n",
       "5385                   V1.93151500   \n",
       "5386                   V1.80111703   \n",
       "5387                   V1.80111703   \n",
       "5388                   V1.80111600   \n",
       "\n",
       "                                descripcion_del_proceso  \\\n",
       "0     Prestar servicios profesionales como abogado b...   \n",
       "1     Prestar servicios profesionales para la planea...   \n",
       "2     PRESTAR SERVICIOS PROFESIONALES REALIZANDO ACO...   \n",
       "3     Prestar los servicios profesionales líder admi...   \n",
       "4     Prestar servicios profesionales para hacer la ...   \n",
       "...                                                 ...   \n",
       "5384  Prestar servicios profesionales para apoyar la...   \n",
       "5385  Prestar servicios profesionales para apoyar en...   \n",
       "5386  Aunar esfuerzos financieros, técnicos, adminis...   \n",
       "5387  Aunar esfuerzos financieros, técnicos, adminis...   \n",
       "5388  PRESTAR SERVICIOS PROFESIONALES  COMO ABOGADO ...   \n",
       "\n",
       "             tipo_de_contrato modalidad_de_contratacion  \\\n",
       "0     Prestación de servicios      Contratación directa   \n",
       "1     Prestación de servicios      Contratación directa   \n",
       "2     Prestación de servicios      Contratación directa   \n",
       "3     Prestación de servicios      Contratación directa   \n",
       "4     Prestación de servicios      Contratación directa   \n",
       "...                       ...                       ...   \n",
       "5384  Prestación de servicios      Contratación directa   \n",
       "5385  Prestación de servicios      Contratación directa   \n",
       "5386                     Otro      Contratación directa   \n",
       "5387                     Otro      Contratación directa   \n",
       "5388  Prestación de servicios      Contratación directa   \n",
       "\n",
       "                             justificacion_modalidad_de  \\\n",
       "0          Servicios profesionales y apoyo a la gestión   \n",
       "1          Servicios profesionales y apoyo a la gestión   \n",
       "2          Servicios profesionales y apoyo a la gestión   \n",
       "3          Servicios profesionales y apoyo a la gestión   \n",
       "4          Servicios profesionales y apoyo a la gestión   \n",
       "...                                                 ...   \n",
       "5384       Servicios profesionales y apoyo a la gestión   \n",
       "5385       Servicios profesionales y apoyo a la gestión   \n",
       "5386  Contratos o convenios Interadministrativos (va...   \n",
       "5387  Contratos o convenios Interadministrativos (va...   \n",
       "5388       Servicios profesionales y apoyo a la gestión   \n",
       "\n",
       "               fecha_de_firma fecha_de_fin_del_contrato  \\\n",
       "0     2024-01-23T00:00:00.000   2024-10-22T00:00:00.000   \n",
       "1     2021-01-10T00:00:00.000   2021-08-31T00:00:00.000   \n",
       "2     2023-01-13T00:00:00.000   2023-05-01T00:00:00.000   \n",
       "3     2023-02-15T00:00:00.000   2024-01-01T00:00:00.000   \n",
       "4     2021-09-29T00:00:00.000   2021-12-31T00:00:00.000   \n",
       "...                       ...                       ...   \n",
       "5384  2023-10-13T00:00:00.000   2024-01-01T00:00:00.000   \n",
       "5385  2023-01-24T00:00:00.000   2023-12-30T00:00:00.000   \n",
       "5386  2023-06-08T00:00:00.000   2024-01-01T00:00:00.000   \n",
       "5387  2023-05-15T00:00:00.000   2024-01-01T00:00:00.000   \n",
       "5388  2020-02-12T00:00:00.000   2021-01-01T00:00:00.000   \n",
       "\n",
       "     condiciones_de_entrega      tipodocproveedor documento_proveedor  \\\n",
       "0                A convenir  Cédula de Ciudadanía          1019088195   \n",
       "1                A convenir  Cédula de Ciudadanía          1022360809   \n",
       "2                A convenir  Cédula de Ciudadanía          1026272842   \n",
       "3                A convenir  Cédula de Ciudadanía            54259791   \n",
       "4                A convenir  Cédula de Ciudadanía            28393301   \n",
       "...                     ...                   ...                 ...   \n",
       "5384             A convenir  Cédula de Ciudadanía          1012404365   \n",
       "5385             A convenir  Cédula de Ciudadanía          1016048734   \n",
       "5386            No Definido           No Definido           900034001   \n",
       "5387            No Definido           No Definido          8909825669   \n",
       "5388             A convenir  Cédula de Ciudadanía            52411671   \n",
       "\n",
       "                          proveedor_adjudicado es_grupo es_pyme  \\\n",
       "0                              KATTY BALAGUERA       No      No   \n",
       "1                  Angie Nataly Ruiz Rodriguez       No      No   \n",
       "2                   ERIKA ASTRID MENDEZ MORENO       No      No   \n",
       "3                 GLORIA STELLA MOSQUERA ARIAS       No      No   \n",
       "4                     LYDA MILENA GARZA PINZON       No      No   \n",
       "...                                        ...      ...     ...   \n",
       "5384                PAULA ANDREA MORA SANDOVAL       No      No   \n",
       "5385          Diego Alexander Hernandez Laguna       No      No   \n",
       "5386  CONCEJO MUNICIPAL DE NARIÑO CUNDINAMARCA       No      No   \n",
       "5387               CONCEJO MUNICIPAL DE NARIÑO       No      No   \n",
       "5388              LILIANA PATRICIA AZZA PINEDA       No      No   \n",
       "\n",
       "     habilita_pago_adelantado liquidaci_n obligaci_n_ambiental  \\\n",
       "0                          No          No                   No   \n",
       "1                          No          No                   No   \n",
       "2                 No Definido          No                   No   \n",
       "3                          No          No                   No   \n",
       "4                          No          No                   No   \n",
       "...                       ...         ...                  ...   \n",
       "5384                       No          No                   No   \n",
       "5385                       No          No                   No   \n",
       "5386                       No          No                   No   \n",
       "5387                       No          No                   No   \n",
       "5388              No Definido          No                   No   \n",
       "\n",
       "     obligaciones_postconsumo reversion origen_de_los_recursos  \\\n",
       "0                          No        No       Recursos Propios   \n",
       "1                          No        No       Recursos Propios   \n",
       "2                          No        No       Recursos Propios   \n",
       "3                          No        No            Distribuido   \n",
       "4                          No        No       Recursos Propios   \n",
       "...                       ...       ...                    ...   \n",
       "5384                       No        No       Recursos Propios   \n",
       "5385                       No        No       Recursos Propios   \n",
       "5386                       No        No            Distribuido   \n",
       "5387                       No        No            Distribuido   \n",
       "5388                       No        No            Distribuido   \n",
       "\n",
       "       destino_gasto  valor_del_contrato  valor_de_pago_adelantado  \\\n",
       "0          Inversión            60568000                         0   \n",
       "1          Inversión            76293762                         0   \n",
       "2     Funcionamiento            31720000                         0   \n",
       "3     Funcionamiento            51030000                         0   \n",
       "4          Inversión            11469969                         0   \n",
       "...              ...                 ...                       ...   \n",
       "5384       Inversión            18821000                         0   \n",
       "5385       Inversión            64431667                         0   \n",
       "5386       Inversión                   0                         0   \n",
       "5387  Funcionamiento                   0                         0   \n",
       "5388  Funcionamiento            57500000                         0   \n",
       "\n",
       "      valor_facturado  valor_pendiente_de_pago  valor_pagado  \\\n",
       "0                   0                 60568000             0   \n",
       "1            38146881                 38146881      38146881   \n",
       "2            31720000                        0      31720000   \n",
       "3            51030000                  4860000      46170000   \n",
       "4             7646666                  3823303       7646666   \n",
       "...               ...                      ...           ...   \n",
       "5384         16008700                  2812300      16008700   \n",
       "5385         64431666                        1      64431666   \n",
       "5386                0                        0             0   \n",
       "5387                0                        0             0   \n",
       "5388                0                 57500000             0   \n",
       "\n",
       "      valor_amortizado  valor_pendiente_de  valor_pendiente_de_ejecucion  \\\n",
       "0                    0                   0                      60568000   \n",
       "1                    0                   0                      38146881   \n",
       "2                    0                   0                             0   \n",
       "3                    0                   0                       4860000   \n",
       "4                    0                   0                       3823303   \n",
       "...                ...                 ...                           ...   \n",
       "5384                 0                   0                       2812300   \n",
       "5385                 0                   0                             1   \n",
       "5386                 0                   0                             0   \n",
       "5387                 0                   0                             0   \n",
       "5388                 0                   0                      57500000   \n",
       "\n",
       "     estado_bpin  c_digo_bpin anno_bpin  saldo_cdp  saldo_vigencia  \\\n",
       "0      No Válido  No Definido      No D   60568000               0   \n",
       "1      No Válido  No Definido      2021   56902064               0   \n",
       "2      No Válido  No Definido      No D   31720000               0   \n",
       "3      No Válido  No Definido      No D   53460000               0   \n",
       "4      No Válido  No Definido      2023   16650000               0   \n",
       "...          ...          ...       ...        ...             ...   \n",
       "5384   No Válido  No Definido      No D   19470000               0   \n",
       "5385   No Válido  No Definido      No D   63470000               0   \n",
       "5386   No Válido  No Definido      No D          0               0   \n",
       "5387   No Válido  No Definido      No D          0               0   \n",
       "5388   No Válido  No Definido      No D   57500000               0   \n",
       "\n",
       "     espostconflicto  dias_adicionados puntos_del_acuerdo pilares_del_acuerdo  \\\n",
       "0                 No                 0          No aplica           No aplica   \n",
       "1                 No                 0          No aplica           No aplica   \n",
       "2                 No                 0          No aplica           No aplica   \n",
       "3                 No                 0          No aplica           No aplica   \n",
       "4                 No                 0          No aplica           No aplica   \n",
       "...              ...               ...                ...                 ...   \n",
       "5384              No                 0          No aplica           No aplica   \n",
       "5385              No                 4          No aplica           No aplica   \n",
       "5386              No                 0          No aplica           No aplica   \n",
       "5387              No                 0          No aplica           No aplica   \n",
       "5388              No                 0          No aplica           No aplica   \n",
       "\n",
       "                                             urlproceso  \\\n",
       "0     {'url': 'https://community.secop.gov.co/Public...   \n",
       "1     {'url': 'https://community.secop.gov.co/Public...   \n",
       "2     {'url': 'https://community.secop.gov.co/Public...   \n",
       "3     {'url': 'https://community.secop.gov.co/Public...   \n",
       "4     {'url': 'https://community.secop.gov.co/Public...   \n",
       "...                                                 ...   \n",
       "5384  {'url': 'https://community.secop.gov.co/Public...   \n",
       "5385  {'url': 'https://community.secop.gov.co/Public...   \n",
       "5386  {'url': 'https://community.secop.gov.co/Public...   \n",
       "5387  {'url': 'https://community.secop.gov.co/Public...   \n",
       "5388  {'url': 'https://community.secop.gov.co/Public...   \n",
       "\n",
       "            nombre_representante_legal nacionalidad_representante_legal  \\\n",
       "0       katty jobanna balaguera bustos                               CO   \n",
       "1          Angie Nataly Ruiz Rodriguez                               CO   \n",
       "2           ERIKA ASTRID MENDEZ MORENO                               CO   \n",
       "3         GLORIA STELLA MOSQUERA ARIAS                               CO   \n",
       "4             LYDA MILENA GARZA PINZON                               CO   \n",
       "...                                ...                              ...   \n",
       "5384                     Mora Sandoval                               CO   \n",
       "5385  Diego Alexander Hernandez Laguna                               CO   \n",
       "5386        DIEGO LUIS MASMELA JIMENEZ                               CO   \n",
       "5387       Sindy Mariana Lopez Sanchez                               CO   \n",
       "5388      LILIANA PATRICIA AZZA PINEDA                               CO   \n",
       "\n",
       "     domicilio_representante_legal tipo_de_identificaci_n_representante_legal  \\\n",
       "0                      No Definido                       Cédula de Ciudadanía   \n",
       "1                      No Definido                       Cédula de Ciudadanía   \n",
       "2                CALLE 18 A 6 - 86                       Cédula de Ciudadanía   \n",
       "3                      No Definido                       Cédula de Ciudadanía   \n",
       "4                      No Definido                            Sin Descripcion   \n",
       "...                            ...                                        ...   \n",
       "5384     Diagonal 72 A# 81- 48 sur                       Cédula de Ciudadanía   \n",
       "5385                   No Definido                            Sin Descripcion   \n",
       "5386         CRA 2 CALLE 6 ESQUINA                       Cédula de Ciudadanía   \n",
       "5387                   No Definido                       Cédula de Ciudadanía   \n",
       "5388                   No Definido                       Cédula de Ciudadanía   \n",
       "\n",
       "     identificaci_n_representante_legal g_nero_representante_legal  \\\n",
       "0                            1019088195                   Femenino   \n",
       "1                            1022360809                   Femenino   \n",
       "2                            1026272842                   Femenino   \n",
       "3                              54259791                No Definido   \n",
       "4                       Sin Descripcion                No Definido   \n",
       "...                                 ...                        ...   \n",
       "5384                         1012404365                   Femenino   \n",
       "5385                    Sin Descripcion                No Definido   \n",
       "5386                            3101908                No Definido   \n",
       "5387                         1036839874                   Femenino   \n",
       "5388                           52411671                No Definido   \n",
       "\n",
       "      presupuesto_general_de_la_nacion_pgn  \\\n",
       "0                                        0   \n",
       "1                                        0   \n",
       "2                                        0   \n",
       "3                                 51030000   \n",
       "4                                        0   \n",
       "...                                    ...   \n",
       "5384                                     0   \n",
       "5385                                     0   \n",
       "5386                                     0   \n",
       "5387                                     0   \n",
       "5388                                     0   \n",
       "\n",
       "      sistema_general_de_participaciones  sistema_general_de_regal_as  \\\n",
       "0                                      0                            0   \n",
       "1                                      0                            0   \n",
       "2                                      0                            0   \n",
       "3                                      0                            0   \n",
       "4                                      0                            0   \n",
       "...                                  ...                          ...   \n",
       "5384                                   0                            0   \n",
       "5385                                   0                            0   \n",
       "5386                                   0                            0   \n",
       "5387                                   0                            0   \n",
       "5388                                   0                            0   \n",
       "\n",
       "      recursos_propios_alcald_as_gobernaciones_y_resguardos_ind_genas_  \\\n",
       "0                                                     0                  \n",
       "1                                                     0                  \n",
       "2                                                     0                  \n",
       "3                                                     0                  \n",
       "4                                                     0                  \n",
       "...                                                 ...                  \n",
       "5384                                                  0                  \n",
       "5385                                                  0                  \n",
       "5386                                                  0                  \n",
       "5387                                                  0                  \n",
       "5388                                                  0                  \n",
       "\n",
       "      recursos_de_credito  recursos_propios     ultima_actualizacion  \\\n",
       "0                       0          60568000  2024-01-23T00:00:00.000   \n",
       "1                       0          76293762                      NaN   \n",
       "2                       0          31720000                      NaN   \n",
       "3                       0                 0                      NaN   \n",
       "4                       0          11469969                      NaN   \n",
       "...                   ...               ...                      ...   \n",
       "5384                    0          18821000                      NaN   \n",
       "5385                    0          63470000                      NaN   \n",
       "5386                    0                 0                      NaN   \n",
       "5387                    0                 0                      NaN   \n",
       "5388                    0                 0                      NaN   \n",
       "\n",
       "      codigo_entidad  codigo_proveedor  \\\n",
       "0          701255226         720247055   \n",
       "1          701255226         706380524   \n",
       "2          701255226         709239016   \n",
       "3          701255226         716771035   \n",
       "4          701255226         711710996   \n",
       "...              ...               ...   \n",
       "5384       701255226         709641112   \n",
       "5385       701255226         706542255   \n",
       "5386       701255226         721519577   \n",
       "5387       701255226         713212132   \n",
       "5388       701255226         705587715   \n",
       "\n",
       "                                    objeto_del_contrato  \\\n",
       "0     Prestar servicios profesionales como abogado b...   \n",
       "1     Prestar servicios profesionales para la planea...   \n",
       "2     PRESTAR SERVICIOS PROFESIONALES REALIZANDO ACO...   \n",
       "3     Prestar los servicios profesionales líder admi...   \n",
       "4     Prestar servicios profesionales para hacer la ...   \n",
       "...                                                 ...   \n",
       "5384  Prestar servicios profesionales para apoyar la...   \n",
       "5385  Prestar servicios profesionales para apoyar en...   \n",
       "5386  Aunar esfuerzos financieros, técnicos, adminis...   \n",
       "5387  Aunar esfuerzos financieros, técnicos, adminis...   \n",
       "5388  PRESTAR SERVICIOS PROFESIONALES  COMO ABOGADO ...   \n",
       "\n",
       "     fecha_de_inicio_del_contrato fecha_de_inicio_de_ejecucion  \\\n",
       "0                             NaN                          NaN   \n",
       "1         2021-01-14T00:00:00.000                          NaN   \n",
       "2         2023-01-13T00:00:00.000                          NaN   \n",
       "3         2023-02-17T00:00:00.000                          NaN   \n",
       "4         2021-09-29T00:00:00.000                          NaN   \n",
       "...                           ...                          ...   \n",
       "5384      2023-10-17T00:00:00.000                          NaN   \n",
       "5385      2023-01-26T00:00:00.000                          NaN   \n",
       "5386      2023-06-09T00:00:00.000                          NaN   \n",
       "5387      2023-05-15T00:00:00.000                          NaN   \n",
       "5388      2020-02-06T00:00:00.000      2020-02-06T00:00:00.000   \n",
       "\n",
       "     fecha_de_fin_de_ejecucion fecha_inicio_liquidacion fecha_fin_liquidacion  \n",
       "0                          NaN                      NaN                   NaN  \n",
       "1                          NaN                      NaN                   NaN  \n",
       "2                          NaN                      NaN                   NaN  \n",
       "3                          NaN                      NaN                   NaN  \n",
       "4                          NaN                      NaN                   NaN  \n",
       "...                        ...                      ...                   ...  \n",
       "5384                       NaN                      NaN                   NaN  \n",
       "5385                       NaN                      NaN                   NaN  \n",
       "5386                       NaN                      NaN                   NaN  \n",
       "5387                       NaN                      NaN                   NaN  \n",
       "5388   2021-01-01T00:00:00.000                      NaN                   NaN  \n",
       "\n",
       "[5389 rows x 73 columns]"
      ]
     },
     "execution_count": 416,
     "metadata": {},
     "output_type": "execute_result"
    }
   ],
   "source": [
    "pd.set_option(\"display.max.columns\", 999)\n",
    "# Se cambia la configuración para ver los números de la forma 1.000.000\n",
    "pd.options.display.float_format = \"{:,.0f}\".format\n",
    "secop = pd.read_csv(ar)\n",
    "secop"
   ]
  },
  {
   "cell_type": "markdown",
   "metadata": {},
   "source": [
    "#### _Descripción de la base de datos_"
   ]
  },
  {
   "cell_type": "code",
   "execution_count": 417,
   "metadata": {},
   "outputs": [
    {
     "data": {
      "text/plain": [
       "(5389, 73)"
      ]
     },
     "execution_count": 417,
     "metadata": {},
     "output_type": "execute_result"
    }
   ],
   "source": [
    "secop.shape"
   ]
  },
  {
   "cell_type": "code",
   "execution_count": 418,
   "metadata": {},
   "outputs": [
    {
     "name": "stdout",
     "output_type": "stream",
     "text": [
      "<class 'pandas.core.frame.DataFrame'>\n",
      "RangeIndex: 5389 entries, 0 to 5388\n",
      "Data columns (total 73 columns):\n",
      " #   Column                                                            Non-Null Count  Dtype \n",
      "---  ------                                                            --------------  ----- \n",
      " 0   Unnamed: 0                                                        5389 non-null   int64 \n",
      " 1   nombre_entidad                                                    5389 non-null   object\n",
      " 2   nit_entidad                                                       5389 non-null   int64 \n",
      " 3   departamento                                                      5389 non-null   object\n",
      " 4   ciudad                                                            5389 non-null   object\n",
      " 5   localizaci_n                                                      5389 non-null   object\n",
      " 6   orden                                                             5389 non-null   object\n",
      " 7   sector                                                            5389 non-null   object\n",
      " 8   rama                                                              5389 non-null   object\n",
      " 9   entidad_centralizada                                              5389 non-null   object\n",
      " 10  proceso_de_compra                                                 5380 non-null   object\n",
      " 11  id_contrato                                                       5389 non-null   object\n",
      " 12  referencia_del_contrato                                           5389 non-null   object\n",
      " 13  estado_contrato                                                   5389 non-null   object\n",
      " 14  codigo_de_categoria_principal                                     5389 non-null   object\n",
      " 15  descripcion_del_proceso                                           5389 non-null   object\n",
      " 16  tipo_de_contrato                                                  5389 non-null   object\n",
      " 17  modalidad_de_contratacion                                         5389 non-null   object\n",
      " 18  justificacion_modalidad_de                                        5389 non-null   object\n",
      " 19  fecha_de_firma                                                    5389 non-null   object\n",
      " 20  fecha_de_fin_del_contrato                                         5389 non-null   object\n",
      " 21  condiciones_de_entrega                                            5389 non-null   object\n",
      " 22  tipodocproveedor                                                  5389 non-null   object\n",
      " 23  documento_proveedor                                               5389 non-null   object\n",
      " 24  proveedor_adjudicado                                              5389 non-null   object\n",
      " 25  es_grupo                                                          5389 non-null   object\n",
      " 26  es_pyme                                                           5389 non-null   object\n",
      " 27  habilita_pago_adelantado                                          5389 non-null   object\n",
      " 28  liquidaci_n                                                       5389 non-null   object\n",
      " 29  obligaci_n_ambiental                                              5389 non-null   object\n",
      " 30  obligaciones_postconsumo                                          5389 non-null   object\n",
      " 31  reversion                                                         5389 non-null   object\n",
      " 32  origen_de_los_recursos                                            5389 non-null   object\n",
      " 33  destino_gasto                                                     5389 non-null   object\n",
      " 34  valor_del_contrato                                                5389 non-null   int64 \n",
      " 35  valor_de_pago_adelantado                                          5389 non-null   int64 \n",
      " 36  valor_facturado                                                   5389 non-null   int64 \n",
      " 37  valor_pendiente_de_pago                                           5389 non-null   int64 \n",
      " 38  valor_pagado                                                      5389 non-null   int64 \n",
      " 39  valor_amortizado                                                  5389 non-null   int64 \n",
      " 40  valor_pendiente_de                                                5389 non-null   int64 \n",
      " 41  valor_pendiente_de_ejecucion                                      5389 non-null   int64 \n",
      " 42  estado_bpin                                                       5389 non-null   object\n",
      " 43  c_digo_bpin                                                       5389 non-null   object\n",
      " 44  anno_bpin                                                         5389 non-null   object\n",
      " 45  saldo_cdp                                                         5389 non-null   int64 \n",
      " 46  saldo_vigencia                                                    5389 non-null   int64 \n",
      " 47  espostconflicto                                                   5389 non-null   object\n",
      " 48  dias_adicionados                                                  5389 non-null   int64 \n",
      " 49  puntos_del_acuerdo                                                5389 non-null   object\n",
      " 50  pilares_del_acuerdo                                               5389 non-null   object\n",
      " 51  urlproceso                                                        5389 non-null   object\n",
      " 52  nombre_representante_legal                                        5389 non-null   object\n",
      " 53  nacionalidad_representante_legal                                  5389 non-null   object\n",
      " 54  domicilio_representante_legal                                     5389 non-null   object\n",
      " 55  tipo_de_identificaci_n_representante_legal                        5389 non-null   object\n",
      " 56  identificaci_n_representante_legal                                5389 non-null   object\n",
      " 57  g_nero_representante_legal                                        5389 non-null   object\n",
      " 58  presupuesto_general_de_la_nacion_pgn                              5389 non-null   int64 \n",
      " 59  sistema_general_de_participaciones                                5389 non-null   int64 \n",
      " 60  sistema_general_de_regal_as                                       5389 non-null   int64 \n",
      " 61  recursos_propios_alcald_as_gobernaciones_y_resguardos_ind_genas_  5389 non-null   int64 \n",
      " 62  recursos_de_credito                                               5389 non-null   int64 \n",
      " 63  recursos_propios                                                  5389 non-null   int64 \n",
      " 64  ultima_actualizacion                                              87 non-null     object\n",
      " 65  codigo_entidad                                                    5389 non-null   int64 \n",
      " 66  codigo_proveedor                                                  5389 non-null   int64 \n",
      " 67  objeto_del_contrato                                               5389 non-null   object\n",
      " 68  fecha_de_inicio_del_contrato                                      5325 non-null   object\n",
      " 69  fecha_de_inicio_de_ejecucion                                      402 non-null    object\n",
      " 70  fecha_de_fin_de_ejecucion                                         402 non-null    object\n",
      " 71  fecha_inicio_liquidacion                                          42 non-null     object\n",
      " 72  fecha_fin_liquidacion                                             42 non-null     object\n",
      "dtypes: int64(21), object(52)\n",
      "memory usage: 3.0+ MB\n"
     ]
    }
   ],
   "source": [
    "secop.info()"
   ]
  },
  {
   "cell_type": "code",
   "execution_count": 419,
   "metadata": {},
   "outputs": [
    {
     "data": {
      "text/plain": [
       "Index(['Unnamed: 0', 'nombre_entidad', 'nit_entidad', 'departamento', 'ciudad',\n",
       "       'localizaci_n', 'orden', 'sector', 'rama', 'entidad_centralizada',\n",
       "       'proceso_de_compra', 'id_contrato', 'referencia_del_contrato',\n",
       "       'estado_contrato', 'codigo_de_categoria_principal',\n",
       "       'descripcion_del_proceso', 'tipo_de_contrato',\n",
       "       'modalidad_de_contratacion', 'justificacion_modalidad_de',\n",
       "       'fecha_de_firma', 'fecha_de_fin_del_contrato', 'condiciones_de_entrega',\n",
       "       'tipodocproveedor', 'documento_proveedor', 'proveedor_adjudicado',\n",
       "       'es_grupo', 'es_pyme', 'habilita_pago_adelantado', 'liquidaci_n',\n",
       "       'obligaci_n_ambiental', 'obligaciones_postconsumo', 'reversion',\n",
       "       'origen_de_los_recursos', 'destino_gasto', 'valor_del_contrato',\n",
       "       'valor_de_pago_adelantado', 'valor_facturado',\n",
       "       'valor_pendiente_de_pago', 'valor_pagado', 'valor_amortizado',\n",
       "       'valor_pendiente_de', 'valor_pendiente_de_ejecucion', 'estado_bpin',\n",
       "       'c_digo_bpin', 'anno_bpin', 'saldo_cdp', 'saldo_vigencia',\n",
       "       'espostconflicto', 'dias_adicionados', 'puntos_del_acuerdo',\n",
       "       'pilares_del_acuerdo', 'urlproceso', 'nombre_representante_legal',\n",
       "       'nacionalidad_representante_legal', 'domicilio_representante_legal',\n",
       "       'tipo_de_identificaci_n_representante_legal',\n",
       "       'identificaci_n_representante_legal', 'g_nero_representante_legal',\n",
       "       'presupuesto_general_de_la_nacion_pgn',\n",
       "       'sistema_general_de_participaciones', 'sistema_general_de_regal_as',\n",
       "       'recursos_propios_alcald_as_gobernaciones_y_resguardos_ind_genas_',\n",
       "       'recursos_de_credito', 'recursos_propios', 'ultima_actualizacion',\n",
       "       'codigo_entidad', 'codigo_proveedor', 'objeto_del_contrato',\n",
       "       'fecha_de_inicio_del_contrato', 'fecha_de_inicio_de_ejecucion',\n",
       "       'fecha_de_fin_de_ejecucion', 'fecha_inicio_liquidacion',\n",
       "       'fecha_fin_liquidacion'],\n",
       "      dtype='object')"
      ]
     },
     "execution_count": 419,
     "metadata": {},
     "output_type": "execute_result"
    }
   ],
   "source": [
    "secop.columns"
   ]
  },
  {
   "cell_type": "markdown",
   "metadata": {},
   "source": [
    "#### _Limpieza de la base de datos_"
   ]
  },
  {
   "cell_type": "markdown",
   "metadata": {},
   "source": [
    "_Arreglo de fechas_"
   ]
  },
  {
   "cell_type": "code",
   "execution_count": 420,
   "metadata": {},
   "outputs": [],
   "source": [
    "# Lista de columnas para convertir a datetime\n",
    "columnas_fecha = ['fecha_de_firma', 'fecha_de_inicio_del_contrato', 'fecha_de_fin_del_contrato',\n",
    "                  'fecha_de_inicio_de_ejecucion', 'fecha_de_fin_de_ejecucion', \n",
    "                  'fecha_inicio_liquidacion', 'fecha_fin_liquidacion']\n",
    "\n",
    "# Iterar sobre cada columna y aplicar la transformación\n",
    "for col in columnas_fecha:\n",
    "    secop[col] = secop[col].str.split('T').str[0]\n",
    "    secop[col] = pd.to_datetime(secop[col], format='%Y-%m-%d', errors='coerce')\n"
   ]
  },
  {
   "cell_type": "markdown",
   "metadata": {},
   "source": [
    "_Extraer el año_"
   ]
  },
  {
   "cell_type": "code",
   "execution_count": 421,
   "metadata": {},
   "outputs": [],
   "source": [
    "columnas_fecha = [\n",
    "    'fecha_de_firma', 'fecha_de_inicio_del_contrato', 'fecha_de_fin_del_contrato',\n",
    "    'fecha_de_inicio_de_ejecucion', 'fecha_de_fin_de_ejecucion',\n",
    "    'fecha_inicio_liquidacion', 'fecha_fin_liquidacion'\n",
    "]\n",
    "\n",
    "# Asegurar que las columnas de fecha son del tipo datetime\n",
    "for col in columnas_fecha:\n",
    "    secop[col] = pd.to_datetime(secop[col], errors='coerce')\n",
    "\n",
    "# Crear nuevas columnas para el año\n",
    "for col in columnas_fecha:\n",
    "    secop[f'ano_{col}'] = secop[col].dt.year"
   ]
  },
  {
   "cell_type": "markdown",
   "metadata": {},
   "source": [
    "#### _Análisis exploratorio_"
   ]
  },
  {
   "cell_type": "markdown",
   "metadata": {},
   "source": [
    "##### _Estadísticas descriptivas_"
   ]
  },
  {
   "cell_type": "code",
   "execution_count": 422,
   "metadata": {},
   "outputs": [
    {
     "data": {
      "text/html": [
       "<div>\n",
       "<style scoped>\n",
       "    .dataframe tbody tr th:only-of-type {\n",
       "        vertical-align: middle;\n",
       "    }\n",
       "\n",
       "    .dataframe tbody tr th {\n",
       "        vertical-align: top;\n",
       "    }\n",
       "\n",
       "    .dataframe thead th {\n",
       "        text-align: right;\n",
       "    }\n",
       "</style>\n",
       "<table border=\"1\" class=\"dataframe\">\n",
       "  <thead>\n",
       "    <tr style=\"text-align: right;\">\n",
       "      <th></th>\n",
       "      <th>Unnamed: 0</th>\n",
       "      <th>nit_entidad</th>\n",
       "      <th>fecha_de_firma</th>\n",
       "      <th>fecha_de_fin_del_contrato</th>\n",
       "      <th>valor_del_contrato</th>\n",
       "      <th>valor_de_pago_adelantado</th>\n",
       "      <th>valor_facturado</th>\n",
       "      <th>valor_pendiente_de_pago</th>\n",
       "      <th>valor_pagado</th>\n",
       "      <th>valor_amortizado</th>\n",
       "      <th>valor_pendiente_de</th>\n",
       "      <th>valor_pendiente_de_ejecucion</th>\n",
       "      <th>saldo_cdp</th>\n",
       "      <th>saldo_vigencia</th>\n",
       "      <th>dias_adicionados</th>\n",
       "      <th>presupuesto_general_de_la_nacion_pgn</th>\n",
       "      <th>sistema_general_de_participaciones</th>\n",
       "      <th>sistema_general_de_regal_as</th>\n",
       "      <th>recursos_propios_alcald_as_gobernaciones_y_resguardos_ind_genas_</th>\n",
       "      <th>recursos_de_credito</th>\n",
       "      <th>recursos_propios</th>\n",
       "      <th>codigo_entidad</th>\n",
       "      <th>codigo_proveedor</th>\n",
       "      <th>fecha_de_inicio_del_contrato</th>\n",
       "      <th>fecha_de_inicio_de_ejecucion</th>\n",
       "      <th>fecha_de_fin_de_ejecucion</th>\n",
       "      <th>fecha_inicio_liquidacion</th>\n",
       "      <th>fecha_fin_liquidacion</th>\n",
       "      <th>ano_fecha_de_firma</th>\n",
       "      <th>ano_fecha_de_inicio_del_contrato</th>\n",
       "      <th>ano_fecha_de_fin_del_contrato</th>\n",
       "      <th>ano_fecha_de_inicio_de_ejecucion</th>\n",
       "      <th>ano_fecha_de_fin_de_ejecucion</th>\n",
       "      <th>ano_fecha_inicio_liquidacion</th>\n",
       "      <th>ano_fecha_fin_liquidacion</th>\n",
       "    </tr>\n",
       "  </thead>\n",
       "  <tbody>\n",
       "    <tr>\n",
       "      <th>count</th>\n",
       "      <td>5,389</td>\n",
       "      <td>5,389</td>\n",
       "      <td>5389</td>\n",
       "      <td>5389</td>\n",
       "      <td>5,389</td>\n",
       "      <td>5,389</td>\n",
       "      <td>5,389</td>\n",
       "      <td>5,389</td>\n",
       "      <td>5,389</td>\n",
       "      <td>5,389</td>\n",
       "      <td>5,389</td>\n",
       "      <td>5,389</td>\n",
       "      <td>5,389</td>\n",
       "      <td>5,389</td>\n",
       "      <td>5,389</td>\n",
       "      <td>5,389</td>\n",
       "      <td>5,389</td>\n",
       "      <td>5,389</td>\n",
       "      <td>5,389</td>\n",
       "      <td>5,389</td>\n",
       "      <td>5,389</td>\n",
       "      <td>5,389</td>\n",
       "      <td>5,389</td>\n",
       "      <td>5325</td>\n",
       "      <td>402</td>\n",
       "      <td>402</td>\n",
       "      <td>0</td>\n",
       "      <td>0</td>\n",
       "      <td>5,389</td>\n",
       "      <td>5,325</td>\n",
       "      <td>5,389</td>\n",
       "      <td>402</td>\n",
       "      <td>402</td>\n",
       "      <td>0</td>\n",
       "      <td>0</td>\n",
       "    </tr>\n",
       "    <tr>\n",
       "      <th>mean</th>\n",
       "      <td>2,694</td>\n",
       "      <td>899,999,054</td>\n",
       "      <td>2022-03-31 12:28:27.478196480</td>\n",
       "      <td>2022-11-03 02:01:34.859899648</td>\n",
       "      <td>77,396,645</td>\n",
       "      <td>300,533</td>\n",
       "      <td>18,609,155</td>\n",
       "      <td>61,894,300</td>\n",
       "      <td>15,502,345</td>\n",
       "      <td>0</td>\n",
       "      <td>300,533</td>\n",
       "      <td>61,894,300</td>\n",
       "      <td>82,025,091</td>\n",
       "      <td>11,708,723</td>\n",
       "      <td>8</td>\n",
       "      <td>9,086,637</td>\n",
       "      <td>0</td>\n",
       "      <td>0</td>\n",
       "      <td>1,550,021</td>\n",
       "      <td>42,623</td>\n",
       "      <td>53,729,805</td>\n",
       "      <td>701,255,226</td>\n",
       "      <td>706,696,617</td>\n",
       "      <td>2022-03-26 18:08:59.492957696</td>\n",
       "      <td>2020-02-10 04:39:24.179104512</td>\n",
       "      <td>2020-12-18 16:28:39.402984960</td>\n",
       "      <td>NaT</td>\n",
       "      <td>NaT</td>\n",
       "      <td>2,022</td>\n",
       "      <td>2,022</td>\n",
       "      <td>2,022</td>\n",
       "      <td>2,020</td>\n",
       "      <td>2,021</td>\n",
       "      <td>NaN</td>\n",
       "      <td>NaN</td>\n",
       "    </tr>\n",
       "    <tr>\n",
       "      <th>min</th>\n",
       "      <td>0</td>\n",
       "      <td>899,999,054</td>\n",
       "      <td>2020-01-02 00:00:00</td>\n",
       "      <td>2020-01-11 00:00:00</td>\n",
       "      <td>0</td>\n",
       "      <td>0</td>\n",
       "      <td>0</td>\n",
       "      <td>0</td>\n",
       "      <td>0</td>\n",
       "      <td>0</td>\n",
       "      <td>0</td>\n",
       "      <td>0</td>\n",
       "      <td>0</td>\n",
       "      <td>0</td>\n",
       "      <td>0</td>\n",
       "      <td>0</td>\n",
       "      <td>0</td>\n",
       "      <td>0</td>\n",
       "      <td>0</td>\n",
       "      <td>0</td>\n",
       "      <td>0</td>\n",
       "      <td>701,255,226</td>\n",
       "      <td>0</td>\n",
       "      <td>2020-01-03 00:00:00</td>\n",
       "      <td>2020-01-03 00:00:00</td>\n",
       "      <td>2020-01-11 00:00:00</td>\n",
       "      <td>NaT</td>\n",
       "      <td>NaT</td>\n",
       "      <td>2,020</td>\n",
       "      <td>2,020</td>\n",
       "      <td>2,020</td>\n",
       "      <td>2,020</td>\n",
       "      <td>2,020</td>\n",
       "      <td>NaN</td>\n",
       "      <td>NaN</td>\n",
       "    </tr>\n",
       "    <tr>\n",
       "      <th>25%</th>\n",
       "      <td>1,347</td>\n",
       "      <td>899,999,054</td>\n",
       "      <td>2021-03-04 00:00:00</td>\n",
       "      <td>2021-12-23 00:00:00</td>\n",
       "      <td>10,640,000</td>\n",
       "      <td>0</td>\n",
       "      <td>0</td>\n",
       "      <td>1,495,000</td>\n",
       "      <td>0</td>\n",
       "      <td>0</td>\n",
       "      <td>0</td>\n",
       "      <td>1,495,000</td>\n",
       "      <td>14,172,960</td>\n",
       "      <td>0</td>\n",
       "      <td>0</td>\n",
       "      <td>0</td>\n",
       "      <td>0</td>\n",
       "      <td>0</td>\n",
       "      <td>0</td>\n",
       "      <td>0</td>\n",
       "      <td>4,714,667</td>\n",
       "      <td>701,255,226</td>\n",
       "      <td>704,996,347</td>\n",
       "      <td>2021-03-04 00:00:00</td>\n",
       "      <td>2020-01-17 00:00:00</td>\n",
       "      <td>2020-12-31 00:00:00</td>\n",
       "      <td>NaT</td>\n",
       "      <td>NaT</td>\n",
       "      <td>2,021</td>\n",
       "      <td>2,021</td>\n",
       "      <td>2,021</td>\n",
       "      <td>2,020</td>\n",
       "      <td>2,020</td>\n",
       "      <td>NaN</td>\n",
       "      <td>NaN</td>\n",
       "    </tr>\n",
       "    <tr>\n",
       "      <th>50%</th>\n",
       "      <td>2,694</td>\n",
       "      <td>899,999,054</td>\n",
       "      <td>2022-01-28 00:00:00</td>\n",
       "      <td>2022-12-16 00:00:00</td>\n",
       "      <td>28,667,500</td>\n",
       "      <td>0</td>\n",
       "      <td>0</td>\n",
       "      <td>9,682,233</td>\n",
       "      <td>0</td>\n",
       "      <td>0</td>\n",
       "      <td>0</td>\n",
       "      <td>9,682,233</td>\n",
       "      <td>34,006,869</td>\n",
       "      <td>0</td>\n",
       "      <td>0</td>\n",
       "      <td>0</td>\n",
       "      <td>0</td>\n",
       "      <td>0</td>\n",
       "      <td>0</td>\n",
       "      <td>0</td>\n",
       "      <td>20,650,080</td>\n",
       "      <td>701,255,226</td>\n",
       "      <td>709,854,137</td>\n",
       "      <td>2022-02-01 00:00:00</td>\n",
       "      <td>2020-02-05 00:00:00</td>\n",
       "      <td>2021-01-01 00:00:00</td>\n",
       "      <td>NaT</td>\n",
       "      <td>NaT</td>\n",
       "      <td>2,022</td>\n",
       "      <td>2,022</td>\n",
       "      <td>2,022</td>\n",
       "      <td>2,020</td>\n",
       "      <td>2,021</td>\n",
       "      <td>NaN</td>\n",
       "      <td>NaN</td>\n",
       "    </tr>\n",
       "    <tr>\n",
       "      <th>75%</th>\n",
       "      <td>4,041</td>\n",
       "      <td>899,999,054</td>\n",
       "      <td>2023-05-18 00:00:00</td>\n",
       "      <td>2023-12-31 00:00:00</td>\n",
       "      <td>59,900,000</td>\n",
       "      <td>0</td>\n",
       "      <td>19,333,333</td>\n",
       "      <td>38,923,571</td>\n",
       "      <td>16,808,000</td>\n",
       "      <td>0</td>\n",
       "      <td>0</td>\n",
       "      <td>38,923,571</td>\n",
       "      <td>64,000,000</td>\n",
       "      <td>0</td>\n",
       "      <td>0</td>\n",
       "      <td>0</td>\n",
       "      <td>0</td>\n",
       "      <td>0</td>\n",
       "      <td>0</td>\n",
       "      <td>0</td>\n",
       "      <td>50,922,000</td>\n",
       "      <td>701,255,226</td>\n",
       "      <td>714,820,404</td>\n",
       "      <td>2023-05-17 00:00:00</td>\n",
       "      <td>2020-02-26 18:00:00</td>\n",
       "      <td>2021-01-01 00:00:00</td>\n",
       "      <td>NaT</td>\n",
       "      <td>NaT</td>\n",
       "      <td>2,023</td>\n",
       "      <td>2,023</td>\n",
       "      <td>2,023</td>\n",
       "      <td>2,020</td>\n",
       "      <td>2,021</td>\n",
       "      <td>NaN</td>\n",
       "      <td>NaN</td>\n",
       "    </tr>\n",
       "    <tr>\n",
       "      <th>max</th>\n",
       "      <td>5,388</td>\n",
       "      <td>899,999,054</td>\n",
       "      <td>2024-01-25 00:00:00</td>\n",
       "      <td>2030-05-31 00:00:00</td>\n",
       "      <td>24,800,000,000</td>\n",
       "      <td>597,165,425</td>\n",
       "      <td>5,431,978,076</td>\n",
       "      <td>24,779,360,000</td>\n",
       "      <td>4,066,064,668</td>\n",
       "      <td>0</td>\n",
       "      <td>597,165,425</td>\n",
       "      <td>24,779,360,000</td>\n",
       "      <td>17,632,968,562</td>\n",
       "      <td>24,753,469,302</td>\n",
       "      <td>953</td>\n",
       "      <td>9,771,882,924</td>\n",
       "      <td>0</td>\n",
       "      <td>0</td>\n",
       "      <td>7,802,190,159</td>\n",
       "      <td>109,729,667</td>\n",
       "      <td>10,468,565,474</td>\n",
       "      <td>701,255,226</td>\n",
       "      <td>724,037,858</td>\n",
       "      <td>2024-01-25 00:00:00</td>\n",
       "      <td>2020-12-31 00:00:00</td>\n",
       "      <td>2023-11-01 00:00:00</td>\n",
       "      <td>NaT</td>\n",
       "      <td>NaT</td>\n",
       "      <td>2,024</td>\n",
       "      <td>2,024</td>\n",
       "      <td>2,030</td>\n",
       "      <td>2,020</td>\n",
       "      <td>2,023</td>\n",
       "      <td>NaN</td>\n",
       "      <td>NaN</td>\n",
       "    </tr>\n",
       "    <tr>\n",
       "      <th>std</th>\n",
       "      <td>1,556</td>\n",
       "      <td>0</td>\n",
       "      <td>NaN</td>\n",
       "      <td>NaN</td>\n",
       "      <td>569,824,528</td>\n",
       "      <td>12,096,545</td>\n",
       "      <td>126,749,751</td>\n",
       "      <td>549,126,877</td>\n",
       "      <td>84,469,808</td>\n",
       "      <td>0</td>\n",
       "      <td>12,096,545</td>\n",
       "      <td>549,126,877</td>\n",
       "      <td>498,694,222</td>\n",
       "      <td>383,229,129</td>\n",
       "      <td>32</td>\n",
       "      <td>191,205,226</td>\n",
       "      <td>0</td>\n",
       "      <td>0</td>\n",
       "      <td>106,311,645</td>\n",
       "      <td>1,790,763</td>\n",
       "      <td>322,970,430</td>\n",
       "      <td>0</td>\n",
       "      <td>51,473,495</td>\n",
       "      <td>NaN</td>\n",
       "      <td>NaN</td>\n",
       "      <td>NaN</td>\n",
       "      <td>NaN</td>\n",
       "      <td>NaN</td>\n",
       "      <td>1</td>\n",
       "      <td>1</td>\n",
       "      <td>1</td>\n",
       "      <td>0</td>\n",
       "      <td>1</td>\n",
       "      <td>NaN</td>\n",
       "      <td>NaN</td>\n",
       "    </tr>\n",
       "  </tbody>\n",
       "</table>\n",
       "</div>"
      ],
      "text/plain": [
       "       Unnamed: 0  nit_entidad                 fecha_de_firma  \\\n",
       "count       5,389        5,389                           5389   \n",
       "mean        2,694  899,999,054  2022-03-31 12:28:27.478196480   \n",
       "min             0  899,999,054            2020-01-02 00:00:00   \n",
       "25%         1,347  899,999,054            2021-03-04 00:00:00   \n",
       "50%         2,694  899,999,054            2022-01-28 00:00:00   \n",
       "75%         4,041  899,999,054            2023-05-18 00:00:00   \n",
       "max         5,388  899,999,054            2024-01-25 00:00:00   \n",
       "std         1,556            0                            NaN   \n",
       "\n",
       "           fecha_de_fin_del_contrato  valor_del_contrato  \\\n",
       "count                           5389               5,389   \n",
       "mean   2022-11-03 02:01:34.859899648          77,396,645   \n",
       "min              2020-01-11 00:00:00                   0   \n",
       "25%              2021-12-23 00:00:00          10,640,000   \n",
       "50%              2022-12-16 00:00:00          28,667,500   \n",
       "75%              2023-12-31 00:00:00          59,900,000   \n",
       "max              2030-05-31 00:00:00      24,800,000,000   \n",
       "std                              NaN         569,824,528   \n",
       "\n",
       "       valor_de_pago_adelantado  valor_facturado  valor_pendiente_de_pago  \\\n",
       "count                     5,389            5,389                    5,389   \n",
       "mean                    300,533       18,609,155               61,894,300   \n",
       "min                           0                0                        0   \n",
       "25%                           0                0                1,495,000   \n",
       "50%                           0                0                9,682,233   \n",
       "75%                           0       19,333,333               38,923,571   \n",
       "max                 597,165,425    5,431,978,076           24,779,360,000   \n",
       "std                  12,096,545      126,749,751              549,126,877   \n",
       "\n",
       "       valor_pagado  valor_amortizado  valor_pendiente_de  \\\n",
       "count         5,389             5,389               5,389   \n",
       "mean     15,502,345                 0             300,533   \n",
       "min               0                 0                   0   \n",
       "25%               0                 0                   0   \n",
       "50%               0                 0                   0   \n",
       "75%      16,808,000                 0                   0   \n",
       "max   4,066,064,668                 0         597,165,425   \n",
       "std      84,469,808                 0          12,096,545   \n",
       "\n",
       "       valor_pendiente_de_ejecucion      saldo_cdp  saldo_vigencia  \\\n",
       "count                         5,389          5,389           5,389   \n",
       "mean                     61,894,300     82,025,091      11,708,723   \n",
       "min                               0              0               0   \n",
       "25%                       1,495,000     14,172,960               0   \n",
       "50%                       9,682,233     34,006,869               0   \n",
       "75%                      38,923,571     64,000,000               0   \n",
       "max                  24,779,360,000 17,632,968,562  24,753,469,302   \n",
       "std                     549,126,877    498,694,222     383,229,129   \n",
       "\n",
       "       dias_adicionados  presupuesto_general_de_la_nacion_pgn  \\\n",
       "count             5,389                                 5,389   \n",
       "mean                  8                             9,086,637   \n",
       "min                   0                                     0   \n",
       "25%                   0                                     0   \n",
       "50%                   0                                     0   \n",
       "75%                   0                                     0   \n",
       "max                 953                         9,771,882,924   \n",
       "std                  32                           191,205,226   \n",
       "\n",
       "       sistema_general_de_participaciones  sistema_general_de_regal_as  \\\n",
       "count                               5,389                        5,389   \n",
       "mean                                    0                            0   \n",
       "min                                     0                            0   \n",
       "25%                                     0                            0   \n",
       "50%                                     0                            0   \n",
       "75%                                     0                            0   \n",
       "max                                     0                            0   \n",
       "std                                     0                            0   \n",
       "\n",
       "       recursos_propios_alcald_as_gobernaciones_y_resguardos_ind_genas_  \\\n",
       "count                                              5,389                  \n",
       "mean                                           1,550,021                  \n",
       "min                                                    0                  \n",
       "25%                                                    0                  \n",
       "50%                                                    0                  \n",
       "75%                                                    0                  \n",
       "max                                        7,802,190,159                  \n",
       "std                                          106,311,645                  \n",
       "\n",
       "       recursos_de_credito  recursos_propios  codigo_entidad  \\\n",
       "count                5,389             5,389           5,389   \n",
       "mean                42,623        53,729,805     701,255,226   \n",
       "min                      0                 0     701,255,226   \n",
       "25%                      0         4,714,667     701,255,226   \n",
       "50%                      0        20,650,080     701,255,226   \n",
       "75%                      0        50,922,000     701,255,226   \n",
       "max            109,729,667    10,468,565,474     701,255,226   \n",
       "std              1,790,763       322,970,430               0   \n",
       "\n",
       "       codigo_proveedor   fecha_de_inicio_del_contrato  \\\n",
       "count             5,389                           5325   \n",
       "mean        706,696,617  2022-03-26 18:08:59.492957696   \n",
       "min                   0            2020-01-03 00:00:00   \n",
       "25%         704,996,347            2021-03-04 00:00:00   \n",
       "50%         709,854,137            2022-02-01 00:00:00   \n",
       "75%         714,820,404            2023-05-17 00:00:00   \n",
       "max         724,037,858            2024-01-25 00:00:00   \n",
       "std          51,473,495                            NaN   \n",
       "\n",
       "        fecha_de_inicio_de_ejecucion      fecha_de_fin_de_ejecucion  \\\n",
       "count                            402                            402   \n",
       "mean   2020-02-10 04:39:24.179104512  2020-12-18 16:28:39.402984960   \n",
       "min              2020-01-03 00:00:00            2020-01-11 00:00:00   \n",
       "25%              2020-01-17 00:00:00            2020-12-31 00:00:00   \n",
       "50%              2020-02-05 00:00:00            2021-01-01 00:00:00   \n",
       "75%              2020-02-26 18:00:00            2021-01-01 00:00:00   \n",
       "max              2020-12-31 00:00:00            2023-11-01 00:00:00   \n",
       "std                              NaN                            NaN   \n",
       "\n",
       "      fecha_inicio_liquidacion fecha_fin_liquidacion  ano_fecha_de_firma  \\\n",
       "count                        0                     0               5,389   \n",
       "mean                       NaT                   NaT               2,022   \n",
       "min                        NaT                   NaT               2,020   \n",
       "25%                        NaT                   NaT               2,021   \n",
       "50%                        NaT                   NaT               2,022   \n",
       "75%                        NaT                   NaT               2,023   \n",
       "max                        NaT                   NaT               2,024   \n",
       "std                        NaN                   NaN                   1   \n",
       "\n",
       "       ano_fecha_de_inicio_del_contrato  ano_fecha_de_fin_del_contrato  \\\n",
       "count                             5,325                          5,389   \n",
       "mean                              2,022                          2,022   \n",
       "min                               2,020                          2,020   \n",
       "25%                               2,021                          2,021   \n",
       "50%                               2,022                          2,022   \n",
       "75%                               2,023                          2,023   \n",
       "max                               2,024                          2,030   \n",
       "std                                   1                              1   \n",
       "\n",
       "       ano_fecha_de_inicio_de_ejecucion  ano_fecha_de_fin_de_ejecucion  \\\n",
       "count                               402                            402   \n",
       "mean                              2,020                          2,021   \n",
       "min                               2,020                          2,020   \n",
       "25%                               2,020                          2,020   \n",
       "50%                               2,020                          2,021   \n",
       "75%                               2,020                          2,021   \n",
       "max                               2,020                          2,023   \n",
       "std                                   0                              1   \n",
       "\n",
       "       ano_fecha_inicio_liquidacion  ano_fecha_fin_liquidacion  \n",
       "count                             0                          0  \n",
       "mean                            NaN                        NaN  \n",
       "min                             NaN                        NaN  \n",
       "25%                             NaN                        NaN  \n",
       "50%                             NaN                        NaN  \n",
       "75%                             NaN                        NaN  \n",
       "max                             NaN                        NaN  \n",
       "std                             NaN                        NaN  "
      ]
     },
     "execution_count": 422,
     "metadata": {},
     "output_type": "execute_result"
    }
   ],
   "source": [
    "secop.describe()"
   ]
  },
  {
   "cell_type": "markdown",
   "metadata": {},
   "source": [
    "##### _Análisis gráfico_"
   ]
  },
  {
   "cell_type": "markdown",
   "metadata": {},
   "source": [
    "_Número de contratos ESAP según fecha de firma 2020 - 2024_"
   ]
  },
  {
   "cell_type": "code",
   "execution_count": 423,
   "metadata": {},
   "outputs": [
    {
     "data": {
      "application/vnd.plotly.v1+json": {
       "config": {
        "plotlyServerURL": "https://plot.ly"
       },
       "data": [
        {
         "hovertemplate": "fecha_de_firma=%{x}<br>conteo=%{y}<extra></extra>",
         "legendgroup": "",
         "line": {
          "color": "#636efa",
          "dash": "solid"
         },
         "marker": {
          "symbol": "circle"
         },
         "mode": "lines",
         "name": "",
         "orientation": "v",
         "showlegend": false,
         "type": "scatter",
         "x": [
          "2020-01-02T00:00:00",
          "2020-01-03T00:00:00",
          "2020-01-04T00:00:00",
          "2020-01-07T00:00:00",
          "2020-01-08T00:00:00",
          "2020-01-09T00:00:00",
          "2020-01-10T00:00:00",
          "2020-01-12T00:00:00",
          "2020-01-13T00:00:00",
          "2020-01-14T00:00:00",
          "2020-01-15T00:00:00",
          "2020-01-16T00:00:00",
          "2020-01-17T00:00:00",
          "2020-01-20T00:00:00",
          "2020-01-21T00:00:00",
          "2020-01-22T00:00:00",
          "2020-01-23T00:00:00",
          "2020-01-24T00:00:00",
          "2020-01-25T00:00:00",
          "2020-01-27T00:00:00",
          "2020-01-28T00:00:00",
          "2020-01-30T00:00:00",
          "2020-01-31T00:00:00",
          "2020-02-01T00:00:00",
          "2020-02-03T00:00:00",
          "2020-02-05T00:00:00",
          "2020-02-06T00:00:00",
          "2020-02-07T00:00:00",
          "2020-02-08T00:00:00",
          "2020-02-10T00:00:00",
          "2020-02-11T00:00:00",
          "2020-02-12T00:00:00",
          "2020-02-13T00:00:00",
          "2020-02-14T00:00:00",
          "2020-02-15T00:00:00",
          "2020-02-17T00:00:00",
          "2020-02-18T00:00:00",
          "2020-02-19T00:00:00",
          "2020-02-20T00:00:00",
          "2020-02-21T00:00:00",
          "2020-02-24T00:00:00",
          "2020-02-25T00:00:00",
          "2020-02-26T00:00:00",
          "2020-02-27T00:00:00",
          "2020-02-29T00:00:00",
          "2020-03-02T00:00:00",
          "2020-03-03T00:00:00",
          "2020-03-04T00:00:00",
          "2020-03-06T00:00:00",
          "2020-03-07T00:00:00",
          "2020-03-11T00:00:00",
          "2020-03-13T00:00:00",
          "2020-03-14T00:00:00",
          "2020-03-16T00:00:00",
          "2020-03-19T00:00:00",
          "2020-03-30T00:00:00",
          "2020-04-03T00:00:00",
          "2020-04-04T00:00:00",
          "2020-04-16T00:00:00",
          "2020-04-17T00:00:00",
          "2020-04-18T00:00:00",
          "2020-04-20T00:00:00",
          "2020-04-21T00:00:00",
          "2020-04-22T00:00:00",
          "2020-04-23T00:00:00",
          "2020-04-24T00:00:00",
          "2020-05-14T00:00:00",
          "2020-05-18T00:00:00",
          "2020-05-20T00:00:00",
          "2020-05-21T00:00:00",
          "2020-05-22T00:00:00",
          "2020-05-27T00:00:00",
          "2020-06-02T00:00:00",
          "2020-06-04T00:00:00",
          "2020-06-05T00:00:00",
          "2020-06-08T00:00:00",
          "2020-06-10T00:00:00",
          "2020-06-17T00:00:00",
          "2020-06-19T00:00:00",
          "2020-06-24T00:00:00",
          "2020-06-26T00:00:00",
          "2020-06-27T00:00:00",
          "2020-07-01T00:00:00",
          "2020-07-03T00:00:00",
          "2020-07-06T00:00:00",
          "2020-07-07T00:00:00",
          "2020-07-13T00:00:00",
          "2020-07-14T00:00:00",
          "2020-07-16T00:00:00",
          "2020-07-17T00:00:00",
          "2020-07-21T00:00:00",
          "2020-07-23T00:00:00",
          "2020-07-24T00:00:00",
          "2020-07-25T00:00:00",
          "2020-07-27T00:00:00",
          "2020-07-28T00:00:00",
          "2020-07-29T00:00:00",
          "2020-08-03T00:00:00",
          "2020-08-04T00:00:00",
          "2020-08-05T00:00:00",
          "2020-08-06T00:00:00",
          "2020-08-11T00:00:00",
          "2020-08-12T00:00:00",
          "2020-08-13T00:00:00",
          "2020-08-14T00:00:00",
          "2020-08-18T00:00:00",
          "2020-08-19T00:00:00",
          "2020-08-20T00:00:00",
          "2020-08-21T00:00:00",
          "2020-08-25T00:00:00",
          "2020-08-26T00:00:00",
          "2020-08-27T00:00:00",
          "2020-08-28T00:00:00",
          "2020-08-29T00:00:00",
          "2020-08-31T00:00:00",
          "2020-09-01T00:00:00",
          "2020-09-02T00:00:00",
          "2020-09-03T00:00:00",
          "2020-09-04T00:00:00",
          "2020-09-07T00:00:00",
          "2020-09-09T00:00:00",
          "2020-09-10T00:00:00",
          "2020-09-12T00:00:00",
          "2020-09-14T00:00:00",
          "2020-09-16T00:00:00",
          "2020-09-17T00:00:00",
          "2020-09-22T00:00:00",
          "2020-09-23T00:00:00",
          "2020-09-24T00:00:00",
          "2020-09-25T00:00:00",
          "2020-09-28T00:00:00",
          "2020-09-29T00:00:00",
          "2020-10-01T00:00:00",
          "2020-10-02T00:00:00",
          "2020-10-03T00:00:00",
          "2020-10-06T00:00:00",
          "2020-10-07T00:00:00",
          "2020-10-08T00:00:00",
          "2020-10-10T00:00:00",
          "2020-10-13T00:00:00",
          "2020-10-14T00:00:00",
          "2020-10-15T00:00:00",
          "2020-10-16T00:00:00",
          "2020-10-19T00:00:00",
          "2020-10-21T00:00:00",
          "2020-10-22T00:00:00",
          "2020-10-23T00:00:00",
          "2020-10-26T00:00:00",
          "2020-10-28T00:00:00",
          "2020-10-29T00:00:00",
          "2020-10-30T00:00:00",
          "2020-10-31T00:00:00",
          "2020-11-04T00:00:00",
          "2020-11-05T00:00:00",
          "2020-11-09T00:00:00",
          "2020-11-10T00:00:00",
          "2020-11-11T00:00:00",
          "2020-11-12T00:00:00",
          "2020-11-13T00:00:00",
          "2020-11-18T00:00:00",
          "2020-11-19T00:00:00",
          "2020-11-20T00:00:00",
          "2020-11-23T00:00:00",
          "2020-11-24T00:00:00",
          "2020-11-25T00:00:00",
          "2020-11-26T00:00:00",
          "2020-11-27T00:00:00",
          "2020-11-28T00:00:00",
          "2020-11-30T00:00:00",
          "2020-12-01T00:00:00",
          "2020-12-02T00:00:00",
          "2020-12-04T00:00:00",
          "2020-12-09T00:00:00",
          "2020-12-15T00:00:00",
          "2020-12-16T00:00:00",
          "2020-12-18T00:00:00",
          "2020-12-21T00:00:00",
          "2020-12-22T00:00:00",
          "2020-12-23T00:00:00",
          "2020-12-24T00:00:00",
          "2020-12-28T00:00:00",
          "2020-12-30T00:00:00",
          "2021-01-06T00:00:00",
          "2021-01-07T00:00:00",
          "2021-01-08T00:00:00",
          "2021-01-09T00:00:00",
          "2021-01-10T00:00:00",
          "2021-01-11T00:00:00",
          "2021-01-12T00:00:00",
          "2021-01-14T00:00:00",
          "2021-01-15T00:00:00",
          "2021-01-17T00:00:00",
          "2021-01-18T00:00:00",
          "2021-01-19T00:00:00",
          "2021-01-20T00:00:00",
          "2021-01-21T00:00:00",
          "2021-01-22T00:00:00",
          "2021-01-25T00:00:00",
          "2021-01-26T00:00:00",
          "2021-01-27T00:00:00",
          "2021-01-28T00:00:00",
          "2021-01-29T00:00:00",
          "2021-02-02T00:00:00",
          "2021-02-03T00:00:00",
          "2021-02-04T00:00:00",
          "2021-02-05T00:00:00",
          "2021-02-08T00:00:00",
          "2021-02-09T00:00:00",
          "2021-02-11T00:00:00",
          "2021-02-12T00:00:00",
          "2021-02-15T00:00:00",
          "2021-02-17T00:00:00",
          "2021-02-18T00:00:00",
          "2021-02-22T00:00:00",
          "2021-02-23T00:00:00",
          "2021-02-25T00:00:00",
          "2021-02-26T00:00:00",
          "2021-03-01T00:00:00",
          "2021-03-03T00:00:00",
          "2021-03-04T00:00:00",
          "2021-03-06T00:00:00",
          "2021-03-08T00:00:00",
          "2021-03-09T00:00:00",
          "2021-03-10T00:00:00",
          "2021-03-11T00:00:00",
          "2021-03-12T00:00:00",
          "2021-03-15T00:00:00",
          "2021-03-16T00:00:00",
          "2021-03-17T00:00:00",
          "2021-03-19T00:00:00",
          "2021-03-23T00:00:00",
          "2021-03-24T00:00:00",
          "2021-03-25T00:00:00",
          "2021-03-26T00:00:00",
          "2021-03-30T00:00:00",
          "2021-03-31T00:00:00",
          "2021-04-07T00:00:00",
          "2021-04-08T00:00:00",
          "2021-04-09T00:00:00",
          "2021-04-13T00:00:00",
          "2021-04-15T00:00:00",
          "2021-04-16T00:00:00",
          "2021-04-19T00:00:00",
          "2021-04-21T00:00:00",
          "2021-04-22T00:00:00",
          "2021-04-23T00:00:00",
          "2021-04-24T00:00:00",
          "2021-04-27T00:00:00",
          "2021-04-28T00:00:00",
          "2021-04-30T00:00:00",
          "2021-05-04T00:00:00",
          "2021-05-06T00:00:00",
          "2021-05-10T00:00:00",
          "2021-05-13T00:00:00",
          "2021-05-14T00:00:00",
          "2021-05-18T00:00:00",
          "2021-05-19T00:00:00",
          "2021-05-21T00:00:00",
          "2021-05-24T00:00:00",
          "2021-05-26T00:00:00",
          "2021-06-01T00:00:00",
          "2021-06-03T00:00:00",
          "2021-06-04T00:00:00",
          "2021-06-09T00:00:00",
          "2021-06-11T00:00:00",
          "2021-06-15T00:00:00",
          "2021-06-16T00:00:00",
          "2021-06-17T00:00:00",
          "2021-06-18T00:00:00",
          "2021-06-21T00:00:00",
          "2021-06-22T00:00:00",
          "2021-06-24T00:00:00",
          "2021-06-25T00:00:00",
          "2021-06-26T00:00:00",
          "2021-06-29T00:00:00",
          "2021-06-30T00:00:00",
          "2021-07-01T00:00:00",
          "2021-07-02T00:00:00",
          "2021-07-07T00:00:00",
          "2021-07-08T00:00:00",
          "2021-07-13T00:00:00",
          "2021-07-14T00:00:00",
          "2021-07-16T00:00:00",
          "2021-07-17T00:00:00",
          "2021-07-19T00:00:00",
          "2021-07-20T00:00:00",
          "2021-07-22T00:00:00",
          "2021-07-23T00:00:00",
          "2021-07-24T00:00:00",
          "2021-07-26T00:00:00",
          "2021-07-28T00:00:00",
          "2021-07-31T00:00:00",
          "2021-08-02T00:00:00",
          "2021-08-04T00:00:00",
          "2021-08-05T00:00:00",
          "2021-08-12T00:00:00",
          "2021-08-13T00:00:00",
          "2021-08-16T00:00:00",
          "2021-08-17T00:00:00",
          "2021-08-19T00:00:00",
          "2021-08-20T00:00:00",
          "2021-08-23T00:00:00",
          "2021-08-24T00:00:00",
          "2021-08-25T00:00:00",
          "2021-08-28T00:00:00",
          "2021-08-30T00:00:00",
          "2021-08-31T00:00:00",
          "2021-09-03T00:00:00",
          "2021-09-04T00:00:00",
          "2021-09-07T00:00:00",
          "2021-09-08T00:00:00",
          "2021-09-09T00:00:00",
          "2021-09-10T00:00:00",
          "2021-09-14T00:00:00",
          "2021-09-15T00:00:00",
          "2021-09-16T00:00:00",
          "2021-09-17T00:00:00",
          "2021-09-20T00:00:00",
          "2021-09-21T00:00:00",
          "2021-09-22T00:00:00",
          "2021-09-23T00:00:00",
          "2021-09-24T00:00:00",
          "2021-09-25T00:00:00",
          "2021-09-27T00:00:00",
          "2021-09-28T00:00:00",
          "2021-09-29T00:00:00",
          "2021-09-30T00:00:00",
          "2021-10-05T00:00:00",
          "2021-10-07T00:00:00",
          "2021-10-08T00:00:00",
          "2021-10-11T00:00:00",
          "2021-10-12T00:00:00",
          "2021-10-13T00:00:00",
          "2021-10-14T00:00:00",
          "2021-10-15T00:00:00",
          "2021-10-16T00:00:00",
          "2021-10-19T00:00:00",
          "2021-10-20T00:00:00",
          "2021-10-21T00:00:00",
          "2021-10-22T00:00:00",
          "2021-10-23T00:00:00",
          "2021-10-25T00:00:00",
          "2021-10-26T00:00:00",
          "2021-10-28T00:00:00",
          "2021-10-29T00:00:00",
          "2021-11-02T00:00:00",
          "2021-11-04T00:00:00",
          "2021-11-05T00:00:00",
          "2021-11-06T00:00:00",
          "2021-11-08T00:00:00",
          "2021-11-09T00:00:00",
          "2021-11-10T00:00:00",
          "2021-11-11T00:00:00",
          "2021-11-12T00:00:00",
          "2021-11-16T00:00:00",
          "2021-11-17T00:00:00",
          "2021-11-18T00:00:00",
          "2021-11-22T00:00:00",
          "2021-11-23T00:00:00",
          "2021-11-24T00:00:00",
          "2021-11-25T00:00:00",
          "2021-11-26T00:00:00",
          "2021-11-27T00:00:00",
          "2021-11-29T00:00:00",
          "2021-11-30T00:00:00",
          "2021-12-01T00:00:00",
          "2021-12-02T00:00:00",
          "2021-12-03T00:00:00",
          "2021-12-06T00:00:00",
          "2021-12-07T00:00:00",
          "2021-12-09T00:00:00",
          "2021-12-10T00:00:00",
          "2021-12-13T00:00:00",
          "2021-12-14T00:00:00",
          "2021-12-20T00:00:00",
          "2021-12-21T00:00:00",
          "2021-12-22T00:00:00",
          "2021-12-29T00:00:00",
          "2021-12-30T00:00:00",
          "2022-01-12T00:00:00",
          "2022-01-13T00:00:00",
          "2022-01-14T00:00:00",
          "2022-01-15T00:00:00",
          "2022-01-16T00:00:00",
          "2022-01-17T00:00:00",
          "2022-01-18T00:00:00",
          "2022-01-19T00:00:00",
          "2022-01-20T00:00:00",
          "2022-01-21T00:00:00",
          "2022-01-22T00:00:00",
          "2022-01-23T00:00:00",
          "2022-01-24T00:00:00",
          "2022-01-25T00:00:00",
          "2022-01-26T00:00:00",
          "2022-01-27T00:00:00",
          "2022-01-28T00:00:00",
          "2022-01-29T00:00:00",
          "2022-02-01T00:00:00",
          "2022-02-02T00:00:00",
          "2022-02-03T00:00:00",
          "2022-02-17T00:00:00",
          "2022-04-06T00:00:00",
          "2022-04-27T00:00:00",
          "2022-05-02T00:00:00",
          "2022-05-19T00:00:00",
          "2022-05-31T00:00:00",
          "2022-06-08T00:00:00",
          "2022-06-29T00:00:00",
          "2022-07-01T00:00:00",
          "2022-07-02T00:00:00",
          "2022-07-08T00:00:00",
          "2022-07-12T00:00:00",
          "2022-07-18T00:00:00",
          "2022-07-21T00:00:00",
          "2022-07-22T00:00:00",
          "2022-07-26T00:00:00",
          "2022-07-27T00:00:00",
          "2022-07-29T00:00:00",
          "2022-08-01T00:00:00",
          "2022-08-02T00:00:00",
          "2022-08-05T00:00:00",
          "2022-08-11T00:00:00",
          "2022-08-12T00:00:00",
          "2022-08-16T00:00:00",
          "2022-08-18T00:00:00",
          "2022-08-22T00:00:00",
          "2022-08-23T00:00:00",
          "2022-08-24T00:00:00",
          "2022-08-25T00:00:00",
          "2022-08-26T00:00:00",
          "2022-08-27T00:00:00",
          "2022-08-29T00:00:00",
          "2022-08-30T00:00:00",
          "2022-08-31T00:00:00",
          "2022-09-01T00:00:00",
          "2022-09-02T00:00:00",
          "2022-09-06T00:00:00",
          "2022-09-07T00:00:00",
          "2022-09-08T00:00:00",
          "2022-09-09T00:00:00",
          "2022-09-20T00:00:00",
          "2022-09-24T00:00:00",
          "2022-09-28T00:00:00",
          "2022-09-30T00:00:00",
          "2022-10-01T00:00:00",
          "2022-10-05T00:00:00",
          "2022-10-07T00:00:00",
          "2022-10-08T00:00:00",
          "2022-10-10T00:00:00",
          "2022-10-12T00:00:00",
          "2022-10-14T00:00:00",
          "2022-10-18T00:00:00",
          "2022-10-19T00:00:00",
          "2022-10-21T00:00:00",
          "2022-10-22T00:00:00",
          "2022-10-25T00:00:00",
          "2022-11-01T00:00:00",
          "2022-11-03T00:00:00",
          "2022-11-08T00:00:00",
          "2022-11-09T00:00:00",
          "2022-11-10T00:00:00",
          "2022-11-11T00:00:00",
          "2022-11-12T00:00:00",
          "2022-11-15T00:00:00",
          "2022-11-17T00:00:00",
          "2022-11-18T00:00:00",
          "2022-11-19T00:00:00",
          "2022-11-23T00:00:00",
          "2022-11-25T00:00:00",
          "2022-11-30T00:00:00",
          "2022-12-01T00:00:00",
          "2022-12-02T00:00:00",
          "2022-12-05T00:00:00",
          "2022-12-07T00:00:00",
          "2022-12-10T00:00:00",
          "2022-12-14T00:00:00",
          "2022-12-15T00:00:00",
          "2022-12-16T00:00:00",
          "2022-12-19T00:00:00",
          "2022-12-20T00:00:00",
          "2022-12-21T00:00:00",
          "2022-12-22T00:00:00",
          "2022-12-26T00:00:00",
          "2022-12-27T00:00:00",
          "2022-12-28T00:00:00",
          "2023-01-13T00:00:00",
          "2023-01-14T00:00:00",
          "2023-01-16T00:00:00",
          "2023-01-17T00:00:00",
          "2023-01-18T00:00:00",
          "2023-01-19T00:00:00",
          "2023-01-20T00:00:00",
          "2023-01-21T00:00:00",
          "2023-01-22T00:00:00",
          "2023-01-23T00:00:00",
          "2023-01-24T00:00:00",
          "2023-01-25T00:00:00",
          "2023-01-26T00:00:00",
          "2023-01-27T00:00:00",
          "2023-01-28T00:00:00",
          "2023-01-31T00:00:00",
          "2023-02-01T00:00:00",
          "2023-02-02T00:00:00",
          "2023-02-03T00:00:00",
          "2023-02-04T00:00:00",
          "2023-02-06T00:00:00",
          "2023-02-07T00:00:00",
          "2023-02-08T00:00:00",
          "2023-02-09T00:00:00",
          "2023-02-10T00:00:00",
          "2023-02-11T00:00:00",
          "2023-02-13T00:00:00",
          "2023-02-14T00:00:00",
          "2023-02-15T00:00:00",
          "2023-02-16T00:00:00",
          "2023-02-17T00:00:00",
          "2023-02-20T00:00:00",
          "2023-02-21T00:00:00",
          "2023-02-22T00:00:00",
          "2023-02-23T00:00:00",
          "2023-02-24T00:00:00",
          "2023-02-25T00:00:00",
          "2023-02-27T00:00:00",
          "2023-02-28T00:00:00",
          "2023-03-01T00:00:00",
          "2023-03-02T00:00:00",
          "2023-03-03T00:00:00",
          "2023-03-04T00:00:00",
          "2023-03-06T00:00:00",
          "2023-03-07T00:00:00",
          "2023-03-08T00:00:00",
          "2023-03-09T00:00:00",
          "2023-03-10T00:00:00",
          "2023-03-13T00:00:00",
          "2023-03-14T00:00:00",
          "2023-03-15T00:00:00",
          "2023-03-16T00:00:00",
          "2023-03-17T00:00:00",
          "2023-03-18T00:00:00",
          "2023-03-21T00:00:00",
          "2023-03-22T00:00:00",
          "2023-03-23T00:00:00",
          "2023-03-24T00:00:00",
          "2023-03-27T00:00:00",
          "2023-03-28T00:00:00",
          "2023-03-29T00:00:00",
          "2023-03-31T00:00:00",
          "2023-04-01T00:00:00",
          "2023-04-04T00:00:00",
          "2023-04-05T00:00:00",
          "2023-04-10T00:00:00",
          "2023-04-12T00:00:00",
          "2023-04-13T00:00:00",
          "2023-04-14T00:00:00",
          "2023-04-17T00:00:00",
          "2023-04-19T00:00:00",
          "2023-04-20T00:00:00",
          "2023-04-21T00:00:00",
          "2023-04-24T00:00:00",
          "2023-04-25T00:00:00",
          "2023-04-26T00:00:00",
          "2023-04-28T00:00:00",
          "2023-04-29T00:00:00",
          "2023-04-30T00:00:00",
          "2023-05-05T00:00:00",
          "2023-05-08T00:00:00",
          "2023-05-09T00:00:00",
          "2023-05-10T00:00:00",
          "2023-05-11T00:00:00",
          "2023-05-12T00:00:00",
          "2023-05-13T00:00:00",
          "2023-05-15T00:00:00",
          "2023-05-16T00:00:00",
          "2023-05-17T00:00:00",
          "2023-05-18T00:00:00",
          "2023-05-19T00:00:00",
          "2023-05-20T00:00:00",
          "2023-05-23T00:00:00",
          "2023-05-24T00:00:00",
          "2023-05-25T00:00:00",
          "2023-05-26T00:00:00",
          "2023-05-29T00:00:00",
          "2023-05-31T00:00:00",
          "2023-06-01T00:00:00",
          "2023-06-02T00:00:00",
          "2023-06-05T00:00:00",
          "2023-06-06T00:00:00",
          "2023-06-07T00:00:00",
          "2023-06-08T00:00:00",
          "2023-06-09T00:00:00",
          "2023-06-13T00:00:00",
          "2023-06-14T00:00:00",
          "2023-06-15T00:00:00",
          "2023-06-16T00:00:00",
          "2023-06-20T00:00:00",
          "2023-06-21T00:00:00",
          "2023-06-22T00:00:00",
          "2023-06-23T00:00:00",
          "2023-06-26T00:00:00",
          "2023-06-27T00:00:00",
          "2023-06-28T00:00:00",
          "2023-06-29T00:00:00",
          "2023-06-30T00:00:00",
          "2023-07-01T00:00:00",
          "2023-07-04T00:00:00",
          "2023-07-05T00:00:00",
          "2023-07-06T00:00:00",
          "2023-07-07T00:00:00",
          "2023-07-08T00:00:00",
          "2023-07-10T00:00:00",
          "2023-07-12T00:00:00",
          "2023-07-14T00:00:00",
          "2023-07-17T00:00:00",
          "2023-07-19T00:00:00",
          "2023-07-24T00:00:00",
          "2023-07-25T00:00:00",
          "2023-07-26T00:00:00",
          "2023-07-27T00:00:00",
          "2023-07-28T00:00:00",
          "2023-07-29T00:00:00",
          "2023-07-30T00:00:00",
          "2023-07-31T00:00:00",
          "2023-08-01T00:00:00",
          "2023-08-02T00:00:00",
          "2023-08-03T00:00:00",
          "2023-08-04T00:00:00",
          "2023-08-05T00:00:00",
          "2023-08-08T00:00:00",
          "2023-08-10T00:00:00",
          "2023-08-11T00:00:00",
          "2023-08-12T00:00:00",
          "2023-08-14T00:00:00",
          "2023-08-17T00:00:00",
          "2023-08-18T00:00:00",
          "2023-08-19T00:00:00",
          "2023-08-22T00:00:00",
          "2023-08-24T00:00:00",
          "2023-08-25T00:00:00",
          "2023-08-26T00:00:00",
          "2023-08-28T00:00:00",
          "2023-08-29T00:00:00",
          "2023-08-30T00:00:00",
          "2023-08-31T00:00:00",
          "2023-09-01T00:00:00",
          "2023-09-05T00:00:00",
          "2023-09-06T00:00:00",
          "2023-09-08T00:00:00",
          "2023-09-09T00:00:00",
          "2023-09-11T00:00:00",
          "2023-09-12T00:00:00",
          "2023-09-13T00:00:00",
          "2023-09-14T00:00:00",
          "2023-09-15T00:00:00",
          "2023-09-16T00:00:00",
          "2023-09-19T00:00:00",
          "2023-09-20T00:00:00",
          "2023-09-21T00:00:00",
          "2023-09-22T00:00:00",
          "2023-09-23T00:00:00",
          "2023-09-25T00:00:00",
          "2023-09-26T00:00:00",
          "2023-09-28T00:00:00",
          "2023-09-30T00:00:00",
          "2023-10-02T00:00:00",
          "2023-10-04T00:00:00",
          "2023-10-05T00:00:00",
          "2023-10-06T00:00:00",
          "2023-10-07T00:00:00",
          "2023-10-09T00:00:00",
          "2023-10-10T00:00:00",
          "2023-10-11T00:00:00",
          "2023-10-12T00:00:00",
          "2023-10-13T00:00:00",
          "2023-10-14T00:00:00",
          "2023-10-17T00:00:00",
          "2023-10-18T00:00:00",
          "2023-10-19T00:00:00",
          "2023-10-20T00:00:00",
          "2023-10-24T00:00:00",
          "2023-10-26T00:00:00",
          "2023-10-27T00:00:00",
          "2023-10-30T00:00:00",
          "2023-10-31T00:00:00",
          "2023-11-01T00:00:00",
          "2023-11-03T00:00:00",
          "2023-11-07T00:00:00",
          "2023-11-08T00:00:00",
          "2023-11-09T00:00:00",
          "2023-11-10T00:00:00",
          "2023-11-11T00:00:00",
          "2023-11-14T00:00:00",
          "2023-11-15T00:00:00",
          "2023-11-16T00:00:00",
          "2023-11-17T00:00:00",
          "2023-11-20T00:00:00",
          "2023-11-21T00:00:00",
          "2023-11-22T00:00:00",
          "2023-11-23T00:00:00",
          "2023-11-24T00:00:00",
          "2023-11-27T00:00:00",
          "2023-11-28T00:00:00",
          "2023-11-29T00:00:00",
          "2023-11-30T00:00:00",
          "2023-12-01T00:00:00",
          "2023-12-02T00:00:00",
          "2023-12-04T00:00:00",
          "2023-12-06T00:00:00",
          "2023-12-07T00:00:00",
          "2023-12-08T00:00:00",
          "2023-12-12T00:00:00",
          "2023-12-13T00:00:00",
          "2023-12-14T00:00:00",
          "2023-12-15T00:00:00",
          "2023-12-20T00:00:00",
          "2023-12-21T00:00:00",
          "2023-12-22T00:00:00",
          "2023-12-26T00:00:00",
          "2023-12-31T00:00:00",
          "2024-01-05T00:00:00",
          "2024-01-06T00:00:00",
          "2024-01-09T00:00:00",
          "2024-01-10T00:00:00",
          "2024-01-11T00:00:00",
          "2024-01-12T00:00:00",
          "2024-01-13T00:00:00",
          "2024-01-16T00:00:00",
          "2024-01-17T00:00:00",
          "2024-01-18T00:00:00",
          "2024-01-19T00:00:00",
          "2024-01-20T00:00:00",
          "2024-01-22T00:00:00",
          "2024-01-23T00:00:00",
          "2024-01-24T00:00:00",
          "2024-01-25T00:00:00"
         ],
         "xaxis": "x",
         "y": [
          2,
          11,
          2,
          9,
          12,
          6,
          3,
          3,
          2,
          3,
          9,
          8,
          23,
          8,
          5,
          6,
          7,
          8,
          8,
          3,
          7,
          12,
          12,
          1,
          3,
          5,
          13,
          5,
          1,
          3,
          8,
          11,
          1,
          7,
          13,
          1,
          3,
          13,
          6,
          2,
          28,
          1,
          2,
          9,
          12,
          3,
          8,
          4,
          1,
          13,
          9,
          6,
          5,
          1,
          4,
          1,
          2,
          1,
          3,
          1,
          1,
          3,
          1,
          2,
          8,
          6,
          2,
          1,
          1,
          6,
          1,
          3,
          3,
          1,
          1,
          1,
          8,
          15,
          3,
          1,
          3,
          1,
          4,
          3,
          1,
          2,
          1,
          3,
          1,
          3,
          2,
          1,
          2,
          1,
          4,
          1,
          2,
          16,
          25,
          9,
          15,
          5,
          7,
          12,
          9,
          15,
          2,
          1,
          21,
          18,
          4,
          9,
          5,
          1,
          14,
          6,
          12,
          5,
          2,
          1,
          2,
          4,
          7,
          12,
          1,
          3,
          5,
          1,
          6,
          2,
          1,
          3,
          2,
          4,
          2,
          3,
          5,
          1,
          3,
          6,
          4,
          3,
          5,
          1,
          7,
          7,
          1,
          2,
          5,
          2,
          8,
          8,
          10,
          2,
          7,
          1,
          6,
          8,
          10,
          20,
          2,
          13,
          7,
          7,
          4,
          2,
          3,
          3,
          2,
          4,
          10,
          5,
          2,
          5,
          24,
          1,
          2,
          1,
          7,
          17,
          1,
          2,
          2,
          4,
          7,
          1,
          6,
          9,
          17,
          2,
          10,
          4,
          15,
          4,
          10,
          17,
          28,
          13,
          20,
          3,
          2,
          9,
          1,
          4,
          14,
          14,
          8,
          2,
          10,
          11,
          11,
          10,
          9,
          9,
          8,
          3,
          14,
          11,
          15,
          11,
          1,
          4,
          6,
          1,
          14,
          1,
          1,
          9,
          7,
          10,
          21,
          2,
          2,
          6,
          11,
          17,
          8,
          10,
          5,
          10,
          7,
          6,
          6,
          3,
          4,
          3,
          2,
          1,
          1,
          5,
          1,
          1,
          3,
          6,
          5,
          5,
          14,
          3,
          3,
          3,
          3,
          3,
          3,
          2,
          10,
          3,
          7,
          5,
          1,
          2,
          7,
          3,
          2,
          2,
          1,
          1,
          6,
          2,
          1,
          1,
          1,
          24,
          4,
          5,
          8,
          1,
          10,
          1,
          4,
          3,
          19,
          19,
          1,
          6,
          18,
          8,
          10,
          1,
          6,
          2,
          4,
          3,
          3,
          3,
          1,
          3,
          1,
          3,
          12,
          15,
          3,
          4,
          2,
          3,
          3,
          8,
          13,
          2,
          11,
          8,
          5,
          7,
          1,
          5,
          5,
          11,
          6,
          12,
          3,
          19,
          3,
          6,
          5,
          4,
          2,
          7,
          8,
          12,
          6,
          3,
          4,
          5,
          1,
          3,
          1,
          7,
          6,
          6,
          2,
          1,
          4,
          1,
          4,
          1,
          3,
          6,
          5,
          1,
          7,
          5,
          9,
          1,
          3,
          2,
          7,
          6,
          10,
          6,
          6,
          6,
          4,
          3,
          3,
          3,
          1,
          1,
          1,
          1,
          1,
          2,
          7,
          19,
          14,
          30,
          33,
          23,
          25,
          25,
          49,
          26,
          35,
          20,
          30,
          66,
          80,
          116,
          40,
          1,
          94,
          24,
          1,
          1,
          3,
          1,
          2,
          1,
          1,
          1,
          2,
          1,
          1,
          1,
          1,
          1,
          2,
          1,
          2,
          1,
          1,
          4,
          1,
          2,
          1,
          1,
          2,
          1,
          2,
          6,
          2,
          1,
          4,
          2,
          12,
          5,
          9,
          1,
          1,
          1,
          1,
          1,
          1,
          1,
          1,
          2,
          1,
          1,
          33,
          11,
          2,
          2,
          1,
          1,
          3,
          1,
          2,
          1,
          2,
          1,
          4,
          6,
          4,
          1,
          3,
          1,
          13,
          1,
          1,
          1,
          2,
          4,
          7,
          5,
          9,
          2,
          3,
          3,
          1,
          6,
          4,
          1,
          3,
          3,
          1,
          3,
          1,
          15,
          3,
          1,
          11,
          22,
          46,
          47,
          16,
          5,
          14,
          51,
          30,
          19,
          9,
          4,
          26,
          14,
          1,
          16,
          13,
          9,
          8,
          12,
          8,
          9,
          2,
          10,
          11,
          14,
          12,
          12,
          5,
          6,
          6,
          6,
          3,
          4,
          4,
          9,
          14,
          21,
          9,
          4,
          10,
          3,
          4,
          21,
          16,
          3,
          2,
          5,
          8,
          10,
          2,
          3,
          7,
          12,
          1,
          5,
          8,
          2,
          11,
          6,
          4,
          4,
          1,
          4,
          4,
          1,
          1,
          8,
          1,
          1,
          2,
          3,
          5,
          6,
          4,
          1,
          21,
          7,
          10,
          1,
          4,
          13,
          3,
          8,
          14,
          14,
          15,
          11,
          1,
          10,
          13,
          3,
          28,
          15,
          28,
          1,
          32,
          7,
          32,
          16,
          16,
          10,
          20,
          2,
          42,
          16,
          9,
          8,
          9,
          11,
          16,
          4,
          8,
          12,
          10,
          4,
          1,
          16,
          4,
          4,
          4,
          3,
          1,
          7,
          1,
          10,
          2,
          3,
          2,
          2,
          24,
          2,
          1,
          2,
          12,
          4,
          5,
          9,
          3,
          1,
          15,
          12,
          11,
          7,
          14,
          3,
          1,
          1,
          11,
          2,
          13,
          7,
          3,
          4,
          13,
          6,
          10,
          19,
          19,
          2,
          5,
          1,
          16,
          6,
          3,
          3,
          5,
          2,
          5,
          9,
          1,
          1,
          9,
          14,
          11,
          2,
          16,
          3,
          12,
          1,
          2,
          8,
          7,
          4,
          9,
          6,
          10,
          4,
          2,
          4,
          3,
          1,
          6,
          4,
          4,
          1,
          2,
          10,
          5,
          3,
          4,
          1,
          9,
          8,
          2,
          6,
          1,
          7,
          5,
          7,
          4,
          2,
          1,
          6,
          7,
          4,
          6,
          3,
          2,
          8,
          11,
          3,
          2,
          1,
          10,
          1,
          1,
          2,
          3,
          5,
          2,
          23,
          2,
          27,
          22,
          30,
          18,
          49,
          33,
          32,
          13,
          3,
          1,
          20,
          14,
          10
         ],
         "yaxis": "y"
        }
       ],
       "layout": {
        "legend": {
         "tracegroupgap": 0
        },
        "template": {
         "data": {
          "bar": [
           {
            "error_x": {
             "color": "#2a3f5f"
            },
            "error_y": {
             "color": "#2a3f5f"
            },
            "marker": {
             "line": {
              "color": "#E5ECF6",
              "width": 0.5
             },
             "pattern": {
              "fillmode": "overlay",
              "size": 10,
              "solidity": 0.2
             }
            },
            "type": "bar"
           }
          ],
          "barpolar": [
           {
            "marker": {
             "line": {
              "color": "#E5ECF6",
              "width": 0.5
             },
             "pattern": {
              "fillmode": "overlay",
              "size": 10,
              "solidity": 0.2
             }
            },
            "type": "barpolar"
           }
          ],
          "carpet": [
           {
            "aaxis": {
             "endlinecolor": "#2a3f5f",
             "gridcolor": "white",
             "linecolor": "white",
             "minorgridcolor": "white",
             "startlinecolor": "#2a3f5f"
            },
            "baxis": {
             "endlinecolor": "#2a3f5f",
             "gridcolor": "white",
             "linecolor": "white",
             "minorgridcolor": "white",
             "startlinecolor": "#2a3f5f"
            },
            "type": "carpet"
           }
          ],
          "choropleth": [
           {
            "colorbar": {
             "outlinewidth": 0,
             "ticks": ""
            },
            "type": "choropleth"
           }
          ],
          "contour": [
           {
            "colorbar": {
             "outlinewidth": 0,
             "ticks": ""
            },
            "colorscale": [
             [
              0,
              "#0d0887"
             ],
             [
              0.1111111111111111,
              "#46039f"
             ],
             [
              0.2222222222222222,
              "#7201a8"
             ],
             [
              0.3333333333333333,
              "#9c179e"
             ],
             [
              0.4444444444444444,
              "#bd3786"
             ],
             [
              0.5555555555555556,
              "#d8576b"
             ],
             [
              0.6666666666666666,
              "#ed7953"
             ],
             [
              0.7777777777777778,
              "#fb9f3a"
             ],
             [
              0.8888888888888888,
              "#fdca26"
             ],
             [
              1,
              "#f0f921"
             ]
            ],
            "type": "contour"
           }
          ],
          "contourcarpet": [
           {
            "colorbar": {
             "outlinewidth": 0,
             "ticks": ""
            },
            "type": "contourcarpet"
           }
          ],
          "heatmap": [
           {
            "colorbar": {
             "outlinewidth": 0,
             "ticks": ""
            },
            "colorscale": [
             [
              0,
              "#0d0887"
             ],
             [
              0.1111111111111111,
              "#46039f"
             ],
             [
              0.2222222222222222,
              "#7201a8"
             ],
             [
              0.3333333333333333,
              "#9c179e"
             ],
             [
              0.4444444444444444,
              "#bd3786"
             ],
             [
              0.5555555555555556,
              "#d8576b"
             ],
             [
              0.6666666666666666,
              "#ed7953"
             ],
             [
              0.7777777777777778,
              "#fb9f3a"
             ],
             [
              0.8888888888888888,
              "#fdca26"
             ],
             [
              1,
              "#f0f921"
             ]
            ],
            "type": "heatmap"
           }
          ],
          "heatmapgl": [
           {
            "colorbar": {
             "outlinewidth": 0,
             "ticks": ""
            },
            "colorscale": [
             [
              0,
              "#0d0887"
             ],
             [
              0.1111111111111111,
              "#46039f"
             ],
             [
              0.2222222222222222,
              "#7201a8"
             ],
             [
              0.3333333333333333,
              "#9c179e"
             ],
             [
              0.4444444444444444,
              "#bd3786"
             ],
             [
              0.5555555555555556,
              "#d8576b"
             ],
             [
              0.6666666666666666,
              "#ed7953"
             ],
             [
              0.7777777777777778,
              "#fb9f3a"
             ],
             [
              0.8888888888888888,
              "#fdca26"
             ],
             [
              1,
              "#f0f921"
             ]
            ],
            "type": "heatmapgl"
           }
          ],
          "histogram": [
           {
            "marker": {
             "pattern": {
              "fillmode": "overlay",
              "size": 10,
              "solidity": 0.2
             }
            },
            "type": "histogram"
           }
          ],
          "histogram2d": [
           {
            "colorbar": {
             "outlinewidth": 0,
             "ticks": ""
            },
            "colorscale": [
             [
              0,
              "#0d0887"
             ],
             [
              0.1111111111111111,
              "#46039f"
             ],
             [
              0.2222222222222222,
              "#7201a8"
             ],
             [
              0.3333333333333333,
              "#9c179e"
             ],
             [
              0.4444444444444444,
              "#bd3786"
             ],
             [
              0.5555555555555556,
              "#d8576b"
             ],
             [
              0.6666666666666666,
              "#ed7953"
             ],
             [
              0.7777777777777778,
              "#fb9f3a"
             ],
             [
              0.8888888888888888,
              "#fdca26"
             ],
             [
              1,
              "#f0f921"
             ]
            ],
            "type": "histogram2d"
           }
          ],
          "histogram2dcontour": [
           {
            "colorbar": {
             "outlinewidth": 0,
             "ticks": ""
            },
            "colorscale": [
             [
              0,
              "#0d0887"
             ],
             [
              0.1111111111111111,
              "#46039f"
             ],
             [
              0.2222222222222222,
              "#7201a8"
             ],
             [
              0.3333333333333333,
              "#9c179e"
             ],
             [
              0.4444444444444444,
              "#bd3786"
             ],
             [
              0.5555555555555556,
              "#d8576b"
             ],
             [
              0.6666666666666666,
              "#ed7953"
             ],
             [
              0.7777777777777778,
              "#fb9f3a"
             ],
             [
              0.8888888888888888,
              "#fdca26"
             ],
             [
              1,
              "#f0f921"
             ]
            ],
            "type": "histogram2dcontour"
           }
          ],
          "mesh3d": [
           {
            "colorbar": {
             "outlinewidth": 0,
             "ticks": ""
            },
            "type": "mesh3d"
           }
          ],
          "parcoords": [
           {
            "line": {
             "colorbar": {
              "outlinewidth": 0,
              "ticks": ""
             }
            },
            "type": "parcoords"
           }
          ],
          "pie": [
           {
            "automargin": true,
            "type": "pie"
           }
          ],
          "scatter": [
           {
            "fillpattern": {
             "fillmode": "overlay",
             "size": 10,
             "solidity": 0.2
            },
            "type": "scatter"
           }
          ],
          "scatter3d": [
           {
            "line": {
             "colorbar": {
              "outlinewidth": 0,
              "ticks": ""
             }
            },
            "marker": {
             "colorbar": {
              "outlinewidth": 0,
              "ticks": ""
             }
            },
            "type": "scatter3d"
           }
          ],
          "scattercarpet": [
           {
            "marker": {
             "colorbar": {
              "outlinewidth": 0,
              "ticks": ""
             }
            },
            "type": "scattercarpet"
           }
          ],
          "scattergeo": [
           {
            "marker": {
             "colorbar": {
              "outlinewidth": 0,
              "ticks": ""
             }
            },
            "type": "scattergeo"
           }
          ],
          "scattergl": [
           {
            "marker": {
             "colorbar": {
              "outlinewidth": 0,
              "ticks": ""
             }
            },
            "type": "scattergl"
           }
          ],
          "scattermapbox": [
           {
            "marker": {
             "colorbar": {
              "outlinewidth": 0,
              "ticks": ""
             }
            },
            "type": "scattermapbox"
           }
          ],
          "scatterpolar": [
           {
            "marker": {
             "colorbar": {
              "outlinewidth": 0,
              "ticks": ""
             }
            },
            "type": "scatterpolar"
           }
          ],
          "scatterpolargl": [
           {
            "marker": {
             "colorbar": {
              "outlinewidth": 0,
              "ticks": ""
             }
            },
            "type": "scatterpolargl"
           }
          ],
          "scatterternary": [
           {
            "marker": {
             "colorbar": {
              "outlinewidth": 0,
              "ticks": ""
             }
            },
            "type": "scatterternary"
           }
          ],
          "surface": [
           {
            "colorbar": {
             "outlinewidth": 0,
             "ticks": ""
            },
            "colorscale": [
             [
              0,
              "#0d0887"
             ],
             [
              0.1111111111111111,
              "#46039f"
             ],
             [
              0.2222222222222222,
              "#7201a8"
             ],
             [
              0.3333333333333333,
              "#9c179e"
             ],
             [
              0.4444444444444444,
              "#bd3786"
             ],
             [
              0.5555555555555556,
              "#d8576b"
             ],
             [
              0.6666666666666666,
              "#ed7953"
             ],
             [
              0.7777777777777778,
              "#fb9f3a"
             ],
             [
              0.8888888888888888,
              "#fdca26"
             ],
             [
              1,
              "#f0f921"
             ]
            ],
            "type": "surface"
           }
          ],
          "table": [
           {
            "cells": {
             "fill": {
              "color": "#EBF0F8"
             },
             "line": {
              "color": "white"
             }
            },
            "header": {
             "fill": {
              "color": "#C8D4E3"
             },
             "line": {
              "color": "white"
             }
            },
            "type": "table"
           }
          ]
         },
         "layout": {
          "annotationdefaults": {
           "arrowcolor": "#2a3f5f",
           "arrowhead": 0,
           "arrowwidth": 1
          },
          "autotypenumbers": "strict",
          "coloraxis": {
           "colorbar": {
            "outlinewidth": 0,
            "ticks": ""
           }
          },
          "colorscale": {
           "diverging": [
            [
             0,
             "#8e0152"
            ],
            [
             0.1,
             "#c51b7d"
            ],
            [
             0.2,
             "#de77ae"
            ],
            [
             0.3,
             "#f1b6da"
            ],
            [
             0.4,
             "#fde0ef"
            ],
            [
             0.5,
             "#f7f7f7"
            ],
            [
             0.6,
             "#e6f5d0"
            ],
            [
             0.7,
             "#b8e186"
            ],
            [
             0.8,
             "#7fbc41"
            ],
            [
             0.9,
             "#4d9221"
            ],
            [
             1,
             "#276419"
            ]
           ],
           "sequential": [
            [
             0,
             "#0d0887"
            ],
            [
             0.1111111111111111,
             "#46039f"
            ],
            [
             0.2222222222222222,
             "#7201a8"
            ],
            [
             0.3333333333333333,
             "#9c179e"
            ],
            [
             0.4444444444444444,
             "#bd3786"
            ],
            [
             0.5555555555555556,
             "#d8576b"
            ],
            [
             0.6666666666666666,
             "#ed7953"
            ],
            [
             0.7777777777777778,
             "#fb9f3a"
            ],
            [
             0.8888888888888888,
             "#fdca26"
            ],
            [
             1,
             "#f0f921"
            ]
           ],
           "sequentialminus": [
            [
             0,
             "#0d0887"
            ],
            [
             0.1111111111111111,
             "#46039f"
            ],
            [
             0.2222222222222222,
             "#7201a8"
            ],
            [
             0.3333333333333333,
             "#9c179e"
            ],
            [
             0.4444444444444444,
             "#bd3786"
            ],
            [
             0.5555555555555556,
             "#d8576b"
            ],
            [
             0.6666666666666666,
             "#ed7953"
            ],
            [
             0.7777777777777778,
             "#fb9f3a"
            ],
            [
             0.8888888888888888,
             "#fdca26"
            ],
            [
             1,
             "#f0f921"
            ]
           ]
          },
          "colorway": [
           "#636efa",
           "#EF553B",
           "#00cc96",
           "#ab63fa",
           "#FFA15A",
           "#19d3f3",
           "#FF6692",
           "#B6E880",
           "#FF97FF",
           "#FECB52"
          ],
          "font": {
           "color": "#2a3f5f"
          },
          "geo": {
           "bgcolor": "white",
           "lakecolor": "white",
           "landcolor": "#E5ECF6",
           "showlakes": true,
           "showland": true,
           "subunitcolor": "white"
          },
          "hoverlabel": {
           "align": "left"
          },
          "hovermode": "closest",
          "mapbox": {
           "style": "light"
          },
          "paper_bgcolor": "white",
          "plot_bgcolor": "#E5ECF6",
          "polar": {
           "angularaxis": {
            "gridcolor": "white",
            "linecolor": "white",
            "ticks": ""
           },
           "bgcolor": "#E5ECF6",
           "radialaxis": {
            "gridcolor": "white",
            "linecolor": "white",
            "ticks": ""
           }
          },
          "scene": {
           "xaxis": {
            "backgroundcolor": "#E5ECF6",
            "gridcolor": "white",
            "gridwidth": 2,
            "linecolor": "white",
            "showbackground": true,
            "ticks": "",
            "zerolinecolor": "white"
           },
           "yaxis": {
            "backgroundcolor": "#E5ECF6",
            "gridcolor": "white",
            "gridwidth": 2,
            "linecolor": "white",
            "showbackground": true,
            "ticks": "",
            "zerolinecolor": "white"
           },
           "zaxis": {
            "backgroundcolor": "#E5ECF6",
            "gridcolor": "white",
            "gridwidth": 2,
            "linecolor": "white",
            "showbackground": true,
            "ticks": "",
            "zerolinecolor": "white"
           }
          },
          "shapedefaults": {
           "line": {
            "color": "#2a3f5f"
           }
          },
          "ternary": {
           "aaxis": {
            "gridcolor": "white",
            "linecolor": "white",
            "ticks": ""
           },
           "baxis": {
            "gridcolor": "white",
            "linecolor": "white",
            "ticks": ""
           },
           "bgcolor": "#E5ECF6",
           "caxis": {
            "gridcolor": "white",
            "linecolor": "white",
            "ticks": ""
           }
          },
          "title": {
           "x": 0.05
          },
          "xaxis": {
           "automargin": true,
           "gridcolor": "white",
           "linecolor": "white",
           "ticks": "",
           "title": {
            "standoff": 15
           },
           "zerolinecolor": "white",
           "zerolinewidth": 2
          },
          "yaxis": {
           "automargin": true,
           "gridcolor": "white",
           "linecolor": "white",
           "ticks": "",
           "title": {
            "standoff": 15
           },
           "zerolinecolor": "white",
           "zerolinewidth": 2
          }
         }
        },
        "title": {
         "text": "Número de contratos ESAP según fecha de firma 2020 - 2024"
        },
        "xaxis": {
         "anchor": "y",
         "domain": [
          0,
          1
         ],
         "title": {
          "text": "fecha_de_firma"
         }
        },
        "yaxis": {
         "anchor": "x",
         "domain": [
          0,
          1
         ],
         "title": {
          "text": "conteo"
         }
        }
       }
      }
     },
     "metadata": {},
     "output_type": "display_data"
    }
   ],
   "source": [
    "# Asegurar que 'fecha_de_firma' es un tipo de dato datetime\n",
    "secop['fecha_de_firma'] = pd.to_datetime(secop['fecha_de_firma'])\n",
    "\n",
    "# Agrupar y contar por fecha de firma\n",
    "conteo_fecha = secop.groupby('fecha_de_firma')['fecha_de_firma'].count().reset_index(name='conteo')\n",
    "\n",
    "# Crear el gráfico utilizando Plotly\n",
    "fig = px.line(conteo_fecha, x='fecha_de_firma', y='conteo', title='Número de contratos ESAP según fecha de firma 2020 - 2024')\n",
    "\n",
    "# Mostrar el gráfico\n",
    "fig.show()"
   ]
  },
  {
   "cell_type": "markdown",
   "metadata": {},
   "source": [
    "_Número de contratos ESAP por año 2020 - 2024_"
   ]
  },
  {
   "cell_type": "code",
   "execution_count": 424,
   "metadata": {},
   "outputs": [
    {
     "data": {
      "application/vnd.plotly.v1+json": {
       "config": {
        "plotlyServerURL": "https://plot.ly"
       },
       "data": [
        {
         "alignmentgroup": "True",
         "hovertemplate": "ano_fecha_de_firma=%{x}<br>Total de Contratos=%{marker.color}<extra></extra>",
         "legendgroup": "",
         "marker": {
          "color": [
           1010,
           1174,
           1004,
           1902,
           299
          ],
          "coloraxis": "coloraxis",
          "pattern": {
           "shape": ""
          }
         },
         "name": "",
         "offsetgroup": "",
         "orientation": "v",
         "showlegend": false,
         "text": [
          1010,
          1174,
          1004,
          1902,
          299
         ],
         "textposition": "outside",
         "type": "bar",
         "x": [
          2020,
          2021,
          2022,
          2023,
          2024
         ],
         "xaxis": "x",
         "y": [
          1010,
          1174,
          1004,
          1902,
          299
         ],
         "yaxis": "y"
        }
       ],
       "layout": {
        "barmode": "relative",
        "coloraxis": {
         "colorbar": {
          "title": {
           "text": "Total de Contratos"
          }
         },
         "colorscale": [
          [
           0,
           "#0d0887"
          ],
          [
           0.1111111111111111,
           "#46039f"
          ],
          [
           0.2222222222222222,
           "#7201a8"
          ],
          [
           0.3333333333333333,
           "#9c179e"
          ],
          [
           0.4444444444444444,
           "#bd3786"
          ],
          [
           0.5555555555555556,
           "#d8576b"
          ],
          [
           0.6666666666666666,
           "#ed7953"
          ],
          [
           0.7777777777777778,
           "#fb9f3a"
          ],
          [
           0.8888888888888888,
           "#fdca26"
          ],
          [
           1,
           "#f0f921"
          ]
         ]
        },
        "legend": {
         "tracegroupgap": 0
        },
        "showlegend": false,
        "template": {
         "data": {
          "bar": [
           {
            "error_x": {
             "color": "#2a3f5f"
            },
            "error_y": {
             "color": "#2a3f5f"
            },
            "marker": {
             "line": {
              "color": "white",
              "width": 0.5
             },
             "pattern": {
              "fillmode": "overlay",
              "size": 10,
              "solidity": 0.2
             }
            },
            "type": "bar"
           }
          ],
          "barpolar": [
           {
            "marker": {
             "line": {
              "color": "white",
              "width": 0.5
             },
             "pattern": {
              "fillmode": "overlay",
              "size": 10,
              "solidity": 0.2
             }
            },
            "type": "barpolar"
           }
          ],
          "carpet": [
           {
            "aaxis": {
             "endlinecolor": "#2a3f5f",
             "gridcolor": "#C8D4E3",
             "linecolor": "#C8D4E3",
             "minorgridcolor": "#C8D4E3",
             "startlinecolor": "#2a3f5f"
            },
            "baxis": {
             "endlinecolor": "#2a3f5f",
             "gridcolor": "#C8D4E3",
             "linecolor": "#C8D4E3",
             "minorgridcolor": "#C8D4E3",
             "startlinecolor": "#2a3f5f"
            },
            "type": "carpet"
           }
          ],
          "choropleth": [
           {
            "colorbar": {
             "outlinewidth": 0,
             "ticks": ""
            },
            "type": "choropleth"
           }
          ],
          "contour": [
           {
            "colorbar": {
             "outlinewidth": 0,
             "ticks": ""
            },
            "colorscale": [
             [
              0,
              "#0d0887"
             ],
             [
              0.1111111111111111,
              "#46039f"
             ],
             [
              0.2222222222222222,
              "#7201a8"
             ],
             [
              0.3333333333333333,
              "#9c179e"
             ],
             [
              0.4444444444444444,
              "#bd3786"
             ],
             [
              0.5555555555555556,
              "#d8576b"
             ],
             [
              0.6666666666666666,
              "#ed7953"
             ],
             [
              0.7777777777777778,
              "#fb9f3a"
             ],
             [
              0.8888888888888888,
              "#fdca26"
             ],
             [
              1,
              "#f0f921"
             ]
            ],
            "type": "contour"
           }
          ],
          "contourcarpet": [
           {
            "colorbar": {
             "outlinewidth": 0,
             "ticks": ""
            },
            "type": "contourcarpet"
           }
          ],
          "heatmap": [
           {
            "colorbar": {
             "outlinewidth": 0,
             "ticks": ""
            },
            "colorscale": [
             [
              0,
              "#0d0887"
             ],
             [
              0.1111111111111111,
              "#46039f"
             ],
             [
              0.2222222222222222,
              "#7201a8"
             ],
             [
              0.3333333333333333,
              "#9c179e"
             ],
             [
              0.4444444444444444,
              "#bd3786"
             ],
             [
              0.5555555555555556,
              "#d8576b"
             ],
             [
              0.6666666666666666,
              "#ed7953"
             ],
             [
              0.7777777777777778,
              "#fb9f3a"
             ],
             [
              0.8888888888888888,
              "#fdca26"
             ],
             [
              1,
              "#f0f921"
             ]
            ],
            "type": "heatmap"
           }
          ],
          "heatmapgl": [
           {
            "colorbar": {
             "outlinewidth": 0,
             "ticks": ""
            },
            "colorscale": [
             [
              0,
              "#0d0887"
             ],
             [
              0.1111111111111111,
              "#46039f"
             ],
             [
              0.2222222222222222,
              "#7201a8"
             ],
             [
              0.3333333333333333,
              "#9c179e"
             ],
             [
              0.4444444444444444,
              "#bd3786"
             ],
             [
              0.5555555555555556,
              "#d8576b"
             ],
             [
              0.6666666666666666,
              "#ed7953"
             ],
             [
              0.7777777777777778,
              "#fb9f3a"
             ],
             [
              0.8888888888888888,
              "#fdca26"
             ],
             [
              1,
              "#f0f921"
             ]
            ],
            "type": "heatmapgl"
           }
          ],
          "histogram": [
           {
            "marker": {
             "pattern": {
              "fillmode": "overlay",
              "size": 10,
              "solidity": 0.2
             }
            },
            "type": "histogram"
           }
          ],
          "histogram2d": [
           {
            "colorbar": {
             "outlinewidth": 0,
             "ticks": ""
            },
            "colorscale": [
             [
              0,
              "#0d0887"
             ],
             [
              0.1111111111111111,
              "#46039f"
             ],
             [
              0.2222222222222222,
              "#7201a8"
             ],
             [
              0.3333333333333333,
              "#9c179e"
             ],
             [
              0.4444444444444444,
              "#bd3786"
             ],
             [
              0.5555555555555556,
              "#d8576b"
             ],
             [
              0.6666666666666666,
              "#ed7953"
             ],
             [
              0.7777777777777778,
              "#fb9f3a"
             ],
             [
              0.8888888888888888,
              "#fdca26"
             ],
             [
              1,
              "#f0f921"
             ]
            ],
            "type": "histogram2d"
           }
          ],
          "histogram2dcontour": [
           {
            "colorbar": {
             "outlinewidth": 0,
             "ticks": ""
            },
            "colorscale": [
             [
              0,
              "#0d0887"
             ],
             [
              0.1111111111111111,
              "#46039f"
             ],
             [
              0.2222222222222222,
              "#7201a8"
             ],
             [
              0.3333333333333333,
              "#9c179e"
             ],
             [
              0.4444444444444444,
              "#bd3786"
             ],
             [
              0.5555555555555556,
              "#d8576b"
             ],
             [
              0.6666666666666666,
              "#ed7953"
             ],
             [
              0.7777777777777778,
              "#fb9f3a"
             ],
             [
              0.8888888888888888,
              "#fdca26"
             ],
             [
              1,
              "#f0f921"
             ]
            ],
            "type": "histogram2dcontour"
           }
          ],
          "mesh3d": [
           {
            "colorbar": {
             "outlinewidth": 0,
             "ticks": ""
            },
            "type": "mesh3d"
           }
          ],
          "parcoords": [
           {
            "line": {
             "colorbar": {
              "outlinewidth": 0,
              "ticks": ""
             }
            },
            "type": "parcoords"
           }
          ],
          "pie": [
           {
            "automargin": true,
            "type": "pie"
           }
          ],
          "scatter": [
           {
            "fillpattern": {
             "fillmode": "overlay",
             "size": 10,
             "solidity": 0.2
            },
            "type": "scatter"
           }
          ],
          "scatter3d": [
           {
            "line": {
             "colorbar": {
              "outlinewidth": 0,
              "ticks": ""
             }
            },
            "marker": {
             "colorbar": {
              "outlinewidth": 0,
              "ticks": ""
             }
            },
            "type": "scatter3d"
           }
          ],
          "scattercarpet": [
           {
            "marker": {
             "colorbar": {
              "outlinewidth": 0,
              "ticks": ""
             }
            },
            "type": "scattercarpet"
           }
          ],
          "scattergeo": [
           {
            "marker": {
             "colorbar": {
              "outlinewidth": 0,
              "ticks": ""
             }
            },
            "type": "scattergeo"
           }
          ],
          "scattergl": [
           {
            "marker": {
             "colorbar": {
              "outlinewidth": 0,
              "ticks": ""
             }
            },
            "type": "scattergl"
           }
          ],
          "scattermapbox": [
           {
            "marker": {
             "colorbar": {
              "outlinewidth": 0,
              "ticks": ""
             }
            },
            "type": "scattermapbox"
           }
          ],
          "scatterpolar": [
           {
            "marker": {
             "colorbar": {
              "outlinewidth": 0,
              "ticks": ""
             }
            },
            "type": "scatterpolar"
           }
          ],
          "scatterpolargl": [
           {
            "marker": {
             "colorbar": {
              "outlinewidth": 0,
              "ticks": ""
             }
            },
            "type": "scatterpolargl"
           }
          ],
          "scatterternary": [
           {
            "marker": {
             "colorbar": {
              "outlinewidth": 0,
              "ticks": ""
             }
            },
            "type": "scatterternary"
           }
          ],
          "surface": [
           {
            "colorbar": {
             "outlinewidth": 0,
             "ticks": ""
            },
            "colorscale": [
             [
              0,
              "#0d0887"
             ],
             [
              0.1111111111111111,
              "#46039f"
             ],
             [
              0.2222222222222222,
              "#7201a8"
             ],
             [
              0.3333333333333333,
              "#9c179e"
             ],
             [
              0.4444444444444444,
              "#bd3786"
             ],
             [
              0.5555555555555556,
              "#d8576b"
             ],
             [
              0.6666666666666666,
              "#ed7953"
             ],
             [
              0.7777777777777778,
              "#fb9f3a"
             ],
             [
              0.8888888888888888,
              "#fdca26"
             ],
             [
              1,
              "#f0f921"
             ]
            ],
            "type": "surface"
           }
          ],
          "table": [
           {
            "cells": {
             "fill": {
              "color": "#EBF0F8"
             },
             "line": {
              "color": "white"
             }
            },
            "header": {
             "fill": {
              "color": "#C8D4E3"
             },
             "line": {
              "color": "white"
             }
            },
            "type": "table"
           }
          ]
         },
         "layout": {
          "annotationdefaults": {
           "arrowcolor": "#2a3f5f",
           "arrowhead": 0,
           "arrowwidth": 1
          },
          "autotypenumbers": "strict",
          "coloraxis": {
           "colorbar": {
            "outlinewidth": 0,
            "ticks": ""
           }
          },
          "colorscale": {
           "diverging": [
            [
             0,
             "#8e0152"
            ],
            [
             0.1,
             "#c51b7d"
            ],
            [
             0.2,
             "#de77ae"
            ],
            [
             0.3,
             "#f1b6da"
            ],
            [
             0.4,
             "#fde0ef"
            ],
            [
             0.5,
             "#f7f7f7"
            ],
            [
             0.6,
             "#e6f5d0"
            ],
            [
             0.7,
             "#b8e186"
            ],
            [
             0.8,
             "#7fbc41"
            ],
            [
             0.9,
             "#4d9221"
            ],
            [
             1,
             "#276419"
            ]
           ],
           "sequential": [
            [
             0,
             "#0d0887"
            ],
            [
             0.1111111111111111,
             "#46039f"
            ],
            [
             0.2222222222222222,
             "#7201a8"
            ],
            [
             0.3333333333333333,
             "#9c179e"
            ],
            [
             0.4444444444444444,
             "#bd3786"
            ],
            [
             0.5555555555555556,
             "#d8576b"
            ],
            [
             0.6666666666666666,
             "#ed7953"
            ],
            [
             0.7777777777777778,
             "#fb9f3a"
            ],
            [
             0.8888888888888888,
             "#fdca26"
            ],
            [
             1,
             "#f0f921"
            ]
           ],
           "sequentialminus": [
            [
             0,
             "#0d0887"
            ],
            [
             0.1111111111111111,
             "#46039f"
            ],
            [
             0.2222222222222222,
             "#7201a8"
            ],
            [
             0.3333333333333333,
             "#9c179e"
            ],
            [
             0.4444444444444444,
             "#bd3786"
            ],
            [
             0.5555555555555556,
             "#d8576b"
            ],
            [
             0.6666666666666666,
             "#ed7953"
            ],
            [
             0.7777777777777778,
             "#fb9f3a"
            ],
            [
             0.8888888888888888,
             "#fdca26"
            ],
            [
             1,
             "#f0f921"
            ]
           ]
          },
          "colorway": [
           "#636efa",
           "#EF553B",
           "#00cc96",
           "#ab63fa",
           "#FFA15A",
           "#19d3f3",
           "#FF6692",
           "#B6E880",
           "#FF97FF",
           "#FECB52"
          ],
          "font": {
           "color": "#2a3f5f"
          },
          "geo": {
           "bgcolor": "white",
           "lakecolor": "white",
           "landcolor": "white",
           "showlakes": true,
           "showland": true,
           "subunitcolor": "#C8D4E3"
          },
          "hoverlabel": {
           "align": "left"
          },
          "hovermode": "closest",
          "mapbox": {
           "style": "light"
          },
          "paper_bgcolor": "white",
          "plot_bgcolor": "white",
          "polar": {
           "angularaxis": {
            "gridcolor": "#EBF0F8",
            "linecolor": "#EBF0F8",
            "ticks": ""
           },
           "bgcolor": "white",
           "radialaxis": {
            "gridcolor": "#EBF0F8",
            "linecolor": "#EBF0F8",
            "ticks": ""
           }
          },
          "scene": {
           "xaxis": {
            "backgroundcolor": "white",
            "gridcolor": "#DFE8F3",
            "gridwidth": 2,
            "linecolor": "#EBF0F8",
            "showbackground": true,
            "ticks": "",
            "zerolinecolor": "#EBF0F8"
           },
           "yaxis": {
            "backgroundcolor": "white",
            "gridcolor": "#DFE8F3",
            "gridwidth": 2,
            "linecolor": "#EBF0F8",
            "showbackground": true,
            "ticks": "",
            "zerolinecolor": "#EBF0F8"
           },
           "zaxis": {
            "backgroundcolor": "white",
            "gridcolor": "#DFE8F3",
            "gridwidth": 2,
            "linecolor": "#EBF0F8",
            "showbackground": true,
            "ticks": "",
            "zerolinecolor": "#EBF0F8"
           }
          },
          "shapedefaults": {
           "line": {
            "color": "#2a3f5f"
           }
          },
          "ternary": {
           "aaxis": {
            "gridcolor": "#DFE8F3",
            "linecolor": "#A2B1C6",
            "ticks": ""
           },
           "baxis": {
            "gridcolor": "#DFE8F3",
            "linecolor": "#A2B1C6",
            "ticks": ""
           },
           "bgcolor": "white",
           "caxis": {
            "gridcolor": "#DFE8F3",
            "linecolor": "#A2B1C6",
            "ticks": ""
           }
          },
          "title": {
           "x": 0.05
          },
          "xaxis": {
           "automargin": true,
           "gridcolor": "#EBF0F8",
           "linecolor": "#EBF0F8",
           "ticks": "",
           "title": {
            "standoff": 15
           },
           "zerolinecolor": "#EBF0F8",
           "zerolinewidth": 2
          },
          "yaxis": {
           "automargin": true,
           "gridcolor": "#EBF0F8",
           "linecolor": "#EBF0F8",
           "ticks": "",
           "title": {
            "standoff": 15
           },
           "zerolinecolor": "#EBF0F8",
           "zerolinewidth": 2
          }
         }
        },
        "title": {
         "text": "Número de contratos ESAP según año de firma 2020 - 2024"
        },
        "xaxis": {
         "anchor": "y",
         "domain": [
          0,
          1
         ],
         "tickmode": "linear",
         "title": {
          "text": "ano_fecha_de_firma"
         }
        },
        "yaxis": {
         "anchor": "x",
         "domain": [
          0,
          1
         ],
         "title": {
          "text": "Total de Contratos"
         }
        }
       }
      }
     },
     "metadata": {},
     "output_type": "display_data"
    }
   ],
   "source": [
    "# Calcular el total del número de contratos por año\n",
    "total_contratos_por_ano = secop.groupby('ano_fecha_de_firma').size().reset_index(name='total_contratos')\n",
    "\n",
    "# Crear el gráfico utilizando Plotly\n",
    "fig = px.bar(total_contratos_por_ano, x='ano_fecha_de_firma', y='total_contratos', \n",
    "             color='total_contratos',\n",
    "             labels={'total_contratos': 'Total de Contratos'},\n",
    "             title='Número de contratos ESAP según año de firma 2020 - 2024')\n",
    "\n",
    "# Agregar anotaciones de texto para mostrar el total de contratos por año\n",
    "fig.update_traces(text=total_contratos_por_ano['total_contratos'], textposition='outside')\n",
    "\n",
    "# Personalizar el diseño del gráfico\n",
    "fig.update_layout(\n",
    "    showlegend=False,\n",
    "    xaxis=dict(tickmode='linear'),\n",
    "    template='plotly_white'\n",
    ")\n",
    "\n",
    "# Mostrar el gráfico\n",
    "fig.show()"
   ]
  },
  {
   "cell_type": "markdown",
   "metadata": {},
   "source": [
    "_Número de contratos ESAP por tipo de contrato año 2020 - 2024_"
   ]
  },
  {
   "cell_type": "code",
   "execution_count": 425,
   "metadata": {},
   "outputs": [
    {
     "data": {
      "application/vnd.plotly.v1+json": {
       "config": {
        "plotlyServerURL": "https://plot.ly"
       },
       "data": [
        {
         "name": "Arrendamiento de inmuebles",
         "type": "bar",
         "x": [
          2020,
          2021,
          2022,
          2023,
          2024
         ],
         "y": [
          3,
          0,
          2,
          3,
          0
         ]
        },
        {
         "name": "Comodato",
         "type": "bar",
         "x": [
          2020,
          2021,
          2022,
          2023,
          2024
         ],
         "y": [
          0,
          1,
          0,
          1,
          0
         ]
        },
        {
         "name": "Compraventa",
         "type": "bar",
         "x": [
          2020,
          2021,
          2022,
          2023,
          2024
         ],
         "y": [
          2,
          5,
          7,
          13,
          0
         ]
        },
        {
         "name": "Consultoría",
         "type": "bar",
         "x": [
          2020,
          2021,
          2022,
          2023,
          2024
         ],
         "y": [
          0,
          0,
          0,
          2,
          0
         ]
        },
        {
         "name": "Decreto 092 de 2017",
         "type": "bar",
         "x": [
          2020,
          2021,
          2022,
          2023,
          2024
         ],
         "y": [
          0,
          0,
          0,
          1,
          0
         ]
        },
        {
         "name": "Interventoría",
         "type": "bar",
         "x": [
          2020,
          2021,
          2022,
          2023,
          2024
         ],
         "y": [
          2,
          0,
          0,
          2,
          0
         ]
        },
        {
         "name": "No Especificado",
         "type": "bar",
         "x": [
          2020,
          2021,
          2022,
          2023,
          2024
         ],
         "y": [
          0,
          0,
          0,
          0,
          9
         ]
        },
        {
         "name": "Obra",
         "type": "bar",
         "x": [
          2020,
          2021,
          2022,
          2023,
          2024
         ],
         "y": [
          5,
          5,
          9,
          5,
          0
         ]
        },
        {
         "name": "Otro",
         "type": "bar",
         "x": [
          2020,
          2021,
          2022,
          2023,
          2024
         ],
         "y": [
          26,
          19,
          8,
          422,
          0
         ]
        },
        {
         "name": "Prestación de servicios",
         "type": "bar",
         "x": [
          2020,
          2021,
          2022,
          2023,
          2024
         ],
         "y": [
          968,
          1140,
          974,
          1438,
          290
         ]
        },
        {
         "name": "Seguros",
         "type": "bar",
         "x": [
          2020,
          2021,
          2022,
          2023,
          2024
         ],
         "y": [
          0,
          1,
          0,
          9,
          0
         ]
        },
        {
         "name": "Suministros",
         "type": "bar",
         "x": [
          2020,
          2021,
          2022,
          2023,
          2024
         ],
         "y": [
          4,
          3,
          2,
          6,
          0
         ]
        },
        {
         "name": "Venta muebles",
         "type": "bar",
         "x": [
          2020,
          2021,
          2022,
          2023,
          2024
         ],
         "y": [
          0,
          0,
          2,
          0,
          0
         ]
        }
       ],
       "layout": {
        "barmode": "stack",
        "legend": {
         "title": {
          "text": "Tipo de Contrato"
         }
        },
        "template": {
         "data": {
          "bar": [
           {
            "error_x": {
             "color": "#2a3f5f"
            },
            "error_y": {
             "color": "#2a3f5f"
            },
            "marker": {
             "line": {
              "color": "#E5ECF6",
              "width": 0.5
             },
             "pattern": {
              "fillmode": "overlay",
              "size": 10,
              "solidity": 0.2
             }
            },
            "type": "bar"
           }
          ],
          "barpolar": [
           {
            "marker": {
             "line": {
              "color": "#E5ECF6",
              "width": 0.5
             },
             "pattern": {
              "fillmode": "overlay",
              "size": 10,
              "solidity": 0.2
             }
            },
            "type": "barpolar"
           }
          ],
          "carpet": [
           {
            "aaxis": {
             "endlinecolor": "#2a3f5f",
             "gridcolor": "white",
             "linecolor": "white",
             "minorgridcolor": "white",
             "startlinecolor": "#2a3f5f"
            },
            "baxis": {
             "endlinecolor": "#2a3f5f",
             "gridcolor": "white",
             "linecolor": "white",
             "minorgridcolor": "white",
             "startlinecolor": "#2a3f5f"
            },
            "type": "carpet"
           }
          ],
          "choropleth": [
           {
            "colorbar": {
             "outlinewidth": 0,
             "ticks": ""
            },
            "type": "choropleth"
           }
          ],
          "contour": [
           {
            "colorbar": {
             "outlinewidth": 0,
             "ticks": ""
            },
            "colorscale": [
             [
              0,
              "#0d0887"
             ],
             [
              0.1111111111111111,
              "#46039f"
             ],
             [
              0.2222222222222222,
              "#7201a8"
             ],
             [
              0.3333333333333333,
              "#9c179e"
             ],
             [
              0.4444444444444444,
              "#bd3786"
             ],
             [
              0.5555555555555556,
              "#d8576b"
             ],
             [
              0.6666666666666666,
              "#ed7953"
             ],
             [
              0.7777777777777778,
              "#fb9f3a"
             ],
             [
              0.8888888888888888,
              "#fdca26"
             ],
             [
              1,
              "#f0f921"
             ]
            ],
            "type": "contour"
           }
          ],
          "contourcarpet": [
           {
            "colorbar": {
             "outlinewidth": 0,
             "ticks": ""
            },
            "type": "contourcarpet"
           }
          ],
          "heatmap": [
           {
            "colorbar": {
             "outlinewidth": 0,
             "ticks": ""
            },
            "colorscale": [
             [
              0,
              "#0d0887"
             ],
             [
              0.1111111111111111,
              "#46039f"
             ],
             [
              0.2222222222222222,
              "#7201a8"
             ],
             [
              0.3333333333333333,
              "#9c179e"
             ],
             [
              0.4444444444444444,
              "#bd3786"
             ],
             [
              0.5555555555555556,
              "#d8576b"
             ],
             [
              0.6666666666666666,
              "#ed7953"
             ],
             [
              0.7777777777777778,
              "#fb9f3a"
             ],
             [
              0.8888888888888888,
              "#fdca26"
             ],
             [
              1,
              "#f0f921"
             ]
            ],
            "type": "heatmap"
           }
          ],
          "heatmapgl": [
           {
            "colorbar": {
             "outlinewidth": 0,
             "ticks": ""
            },
            "colorscale": [
             [
              0,
              "#0d0887"
             ],
             [
              0.1111111111111111,
              "#46039f"
             ],
             [
              0.2222222222222222,
              "#7201a8"
             ],
             [
              0.3333333333333333,
              "#9c179e"
             ],
             [
              0.4444444444444444,
              "#bd3786"
             ],
             [
              0.5555555555555556,
              "#d8576b"
             ],
             [
              0.6666666666666666,
              "#ed7953"
             ],
             [
              0.7777777777777778,
              "#fb9f3a"
             ],
             [
              0.8888888888888888,
              "#fdca26"
             ],
             [
              1,
              "#f0f921"
             ]
            ],
            "type": "heatmapgl"
           }
          ],
          "histogram": [
           {
            "marker": {
             "pattern": {
              "fillmode": "overlay",
              "size": 10,
              "solidity": 0.2
             }
            },
            "type": "histogram"
           }
          ],
          "histogram2d": [
           {
            "colorbar": {
             "outlinewidth": 0,
             "ticks": ""
            },
            "colorscale": [
             [
              0,
              "#0d0887"
             ],
             [
              0.1111111111111111,
              "#46039f"
             ],
             [
              0.2222222222222222,
              "#7201a8"
             ],
             [
              0.3333333333333333,
              "#9c179e"
             ],
             [
              0.4444444444444444,
              "#bd3786"
             ],
             [
              0.5555555555555556,
              "#d8576b"
             ],
             [
              0.6666666666666666,
              "#ed7953"
             ],
             [
              0.7777777777777778,
              "#fb9f3a"
             ],
             [
              0.8888888888888888,
              "#fdca26"
             ],
             [
              1,
              "#f0f921"
             ]
            ],
            "type": "histogram2d"
           }
          ],
          "histogram2dcontour": [
           {
            "colorbar": {
             "outlinewidth": 0,
             "ticks": ""
            },
            "colorscale": [
             [
              0,
              "#0d0887"
             ],
             [
              0.1111111111111111,
              "#46039f"
             ],
             [
              0.2222222222222222,
              "#7201a8"
             ],
             [
              0.3333333333333333,
              "#9c179e"
             ],
             [
              0.4444444444444444,
              "#bd3786"
             ],
             [
              0.5555555555555556,
              "#d8576b"
             ],
             [
              0.6666666666666666,
              "#ed7953"
             ],
             [
              0.7777777777777778,
              "#fb9f3a"
             ],
             [
              0.8888888888888888,
              "#fdca26"
             ],
             [
              1,
              "#f0f921"
             ]
            ],
            "type": "histogram2dcontour"
           }
          ],
          "mesh3d": [
           {
            "colorbar": {
             "outlinewidth": 0,
             "ticks": ""
            },
            "type": "mesh3d"
           }
          ],
          "parcoords": [
           {
            "line": {
             "colorbar": {
              "outlinewidth": 0,
              "ticks": ""
             }
            },
            "type": "parcoords"
           }
          ],
          "pie": [
           {
            "automargin": true,
            "type": "pie"
           }
          ],
          "scatter": [
           {
            "fillpattern": {
             "fillmode": "overlay",
             "size": 10,
             "solidity": 0.2
            },
            "type": "scatter"
           }
          ],
          "scatter3d": [
           {
            "line": {
             "colorbar": {
              "outlinewidth": 0,
              "ticks": ""
             }
            },
            "marker": {
             "colorbar": {
              "outlinewidth": 0,
              "ticks": ""
             }
            },
            "type": "scatter3d"
           }
          ],
          "scattercarpet": [
           {
            "marker": {
             "colorbar": {
              "outlinewidth": 0,
              "ticks": ""
             }
            },
            "type": "scattercarpet"
           }
          ],
          "scattergeo": [
           {
            "marker": {
             "colorbar": {
              "outlinewidth": 0,
              "ticks": ""
             }
            },
            "type": "scattergeo"
           }
          ],
          "scattergl": [
           {
            "marker": {
             "colorbar": {
              "outlinewidth": 0,
              "ticks": ""
             }
            },
            "type": "scattergl"
           }
          ],
          "scattermapbox": [
           {
            "marker": {
             "colorbar": {
              "outlinewidth": 0,
              "ticks": ""
             }
            },
            "type": "scattermapbox"
           }
          ],
          "scatterpolar": [
           {
            "marker": {
             "colorbar": {
              "outlinewidth": 0,
              "ticks": ""
             }
            },
            "type": "scatterpolar"
           }
          ],
          "scatterpolargl": [
           {
            "marker": {
             "colorbar": {
              "outlinewidth": 0,
              "ticks": ""
             }
            },
            "type": "scatterpolargl"
           }
          ],
          "scatterternary": [
           {
            "marker": {
             "colorbar": {
              "outlinewidth": 0,
              "ticks": ""
             }
            },
            "type": "scatterternary"
           }
          ],
          "surface": [
           {
            "colorbar": {
             "outlinewidth": 0,
             "ticks": ""
            },
            "colorscale": [
             [
              0,
              "#0d0887"
             ],
             [
              0.1111111111111111,
              "#46039f"
             ],
             [
              0.2222222222222222,
              "#7201a8"
             ],
             [
              0.3333333333333333,
              "#9c179e"
             ],
             [
              0.4444444444444444,
              "#bd3786"
             ],
             [
              0.5555555555555556,
              "#d8576b"
             ],
             [
              0.6666666666666666,
              "#ed7953"
             ],
             [
              0.7777777777777778,
              "#fb9f3a"
             ],
             [
              0.8888888888888888,
              "#fdca26"
             ],
             [
              1,
              "#f0f921"
             ]
            ],
            "type": "surface"
           }
          ],
          "table": [
           {
            "cells": {
             "fill": {
              "color": "#EBF0F8"
             },
             "line": {
              "color": "white"
             }
            },
            "header": {
             "fill": {
              "color": "#C8D4E3"
             },
             "line": {
              "color": "white"
             }
            },
            "type": "table"
           }
          ]
         },
         "layout": {
          "annotationdefaults": {
           "arrowcolor": "#2a3f5f",
           "arrowhead": 0,
           "arrowwidth": 1
          },
          "autotypenumbers": "strict",
          "coloraxis": {
           "colorbar": {
            "outlinewidth": 0,
            "ticks": ""
           }
          },
          "colorscale": {
           "diverging": [
            [
             0,
             "#8e0152"
            ],
            [
             0.1,
             "#c51b7d"
            ],
            [
             0.2,
             "#de77ae"
            ],
            [
             0.3,
             "#f1b6da"
            ],
            [
             0.4,
             "#fde0ef"
            ],
            [
             0.5,
             "#f7f7f7"
            ],
            [
             0.6,
             "#e6f5d0"
            ],
            [
             0.7,
             "#b8e186"
            ],
            [
             0.8,
             "#7fbc41"
            ],
            [
             0.9,
             "#4d9221"
            ],
            [
             1,
             "#276419"
            ]
           ],
           "sequential": [
            [
             0,
             "#0d0887"
            ],
            [
             0.1111111111111111,
             "#46039f"
            ],
            [
             0.2222222222222222,
             "#7201a8"
            ],
            [
             0.3333333333333333,
             "#9c179e"
            ],
            [
             0.4444444444444444,
             "#bd3786"
            ],
            [
             0.5555555555555556,
             "#d8576b"
            ],
            [
             0.6666666666666666,
             "#ed7953"
            ],
            [
             0.7777777777777778,
             "#fb9f3a"
            ],
            [
             0.8888888888888888,
             "#fdca26"
            ],
            [
             1,
             "#f0f921"
            ]
           ],
           "sequentialminus": [
            [
             0,
             "#0d0887"
            ],
            [
             0.1111111111111111,
             "#46039f"
            ],
            [
             0.2222222222222222,
             "#7201a8"
            ],
            [
             0.3333333333333333,
             "#9c179e"
            ],
            [
             0.4444444444444444,
             "#bd3786"
            ],
            [
             0.5555555555555556,
             "#d8576b"
            ],
            [
             0.6666666666666666,
             "#ed7953"
            ],
            [
             0.7777777777777778,
             "#fb9f3a"
            ],
            [
             0.8888888888888888,
             "#fdca26"
            ],
            [
             1,
             "#f0f921"
            ]
           ]
          },
          "colorway": [
           "#636efa",
           "#EF553B",
           "#00cc96",
           "#ab63fa",
           "#FFA15A",
           "#19d3f3",
           "#FF6692",
           "#B6E880",
           "#FF97FF",
           "#FECB52"
          ],
          "font": {
           "color": "#2a3f5f"
          },
          "geo": {
           "bgcolor": "white",
           "lakecolor": "white",
           "landcolor": "#E5ECF6",
           "showlakes": true,
           "showland": true,
           "subunitcolor": "white"
          },
          "hoverlabel": {
           "align": "left"
          },
          "hovermode": "closest",
          "mapbox": {
           "style": "light"
          },
          "paper_bgcolor": "white",
          "plot_bgcolor": "#E5ECF6",
          "polar": {
           "angularaxis": {
            "gridcolor": "white",
            "linecolor": "white",
            "ticks": ""
           },
           "bgcolor": "#E5ECF6",
           "radialaxis": {
            "gridcolor": "white",
            "linecolor": "white",
            "ticks": ""
           }
          },
          "scene": {
           "xaxis": {
            "backgroundcolor": "#E5ECF6",
            "gridcolor": "white",
            "gridwidth": 2,
            "linecolor": "white",
            "showbackground": true,
            "ticks": "",
            "zerolinecolor": "white"
           },
           "yaxis": {
            "backgroundcolor": "#E5ECF6",
            "gridcolor": "white",
            "gridwidth": 2,
            "linecolor": "white",
            "showbackground": true,
            "ticks": "",
            "zerolinecolor": "white"
           },
           "zaxis": {
            "backgroundcolor": "#E5ECF6",
            "gridcolor": "white",
            "gridwidth": 2,
            "linecolor": "white",
            "showbackground": true,
            "ticks": "",
            "zerolinecolor": "white"
           }
          },
          "shapedefaults": {
           "line": {
            "color": "#2a3f5f"
           }
          },
          "ternary": {
           "aaxis": {
            "gridcolor": "white",
            "linecolor": "white",
            "ticks": ""
           },
           "baxis": {
            "gridcolor": "white",
            "linecolor": "white",
            "ticks": ""
           },
           "bgcolor": "#E5ECF6",
           "caxis": {
            "gridcolor": "white",
            "linecolor": "white",
            "ticks": ""
           }
          },
          "title": {
           "x": 0.05
          },
          "xaxis": {
           "automargin": true,
           "gridcolor": "white",
           "linecolor": "white",
           "ticks": "",
           "title": {
            "standoff": 15
           },
           "zerolinecolor": "white",
           "zerolinewidth": 2
          },
          "yaxis": {
           "automargin": true,
           "gridcolor": "white",
           "linecolor": "white",
           "ticks": "",
           "title": {
            "standoff": 15
           },
           "zerolinecolor": "white",
           "zerolinewidth": 2
          }
         }
        },
        "title": {
         "text": "Número de contratos ESAP según año de firma por tipo de contrato 2020-2024"
        },
        "xaxis": {
         "title": {
          "text": "Año de Firma"
         }
        },
        "yaxis": {
         "title": {
          "text": "Número de contratos"
         }
        }
       }
      }
     },
     "metadata": {},
     "output_type": "display_data"
    }
   ],
   "source": [
    "# Agrupar por año y tipo de contrato\n",
    "tipo_contrato_anio_counts = secop.groupby(['ano_fecha_de_firma', 'tipo_de_contrato']).size().unstack(fill_value=0)\n",
    "\n",
    "# Crear el gráfico\n",
    "fig = go.Figure()\n",
    "for tipo in tipo_contrato_anio_counts.columns:\n",
    "    fig.add_trace(go.Bar(\n",
    "        x=tipo_contrato_anio_counts.index,\n",
    "        y=tipo_contrato_anio_counts[tipo],\n",
    "        name=tipo\n",
    "    ))\n",
    "\n",
    "# Actualizar el diseño del gráfico\n",
    "fig.update_layout(\n",
    "    barmode='stack',\n",
    "    title='Número de contratos ESAP según año de firma por tipo de contrato 2020-2024',\n",
    "    xaxis_title='Año de Firma',\n",
    "    yaxis_title='Número de contratos',\n",
    "    legend_title='Tipo de Contrato'\n",
    ")"
   ]
  },
  {
   "cell_type": "markdown",
   "metadata": {},
   "source": [
    "_Número de contratos ESAP por tipo de modalidad año 2020 - 2024_"
   ]
  },
  {
   "cell_type": "code",
   "execution_count": 426,
   "metadata": {},
   "outputs": [
    {
     "data": {
      "application/vnd.plotly.v1+json": {
       "config": {
        "plotlyServerURL": "https://plot.ly"
       },
       "data": [
        {
         "name": "CCE-20-Concurso_Meritos_Sin_Lista_Corta_1Sobre",
         "type": "bar",
         "x": [
          2020,
          2021,
          2022,
          2023,
          2024
         ],
         "y": [
          0,
          0,
          0,
          4,
          0
         ]
        },
        {
         "name": "Concurso de méritos abierto",
         "type": "bar",
         "x": [
          2020,
          2021,
          2022,
          2023,
          2024
         ],
         "y": [
          2,
          0,
          0,
          0,
          0
         ]
        },
        {
         "name": "Contratación Directa (con ofertas)",
         "type": "bar",
         "x": [
          2020,
          2021,
          2022,
          2023,
          2024
         ],
         "y": [
          2,
          8,
          4,
          0,
          0
         ]
        },
        {
         "name": "Contratación directa",
         "type": "bar",
         "x": [
          2020,
          2021,
          2022,
          2023,
          2024
         ],
         "y": [
          980,
          1146,
          965,
          1841,
          299
         ]
        },
        {
         "name": "Contratación régimen especial",
         "type": "bar",
         "x": [
          2020,
          2021,
          2022,
          2023,
          2024
         ],
         "y": [
          3,
          0,
          1,
          3,
          0
         ]
        },
        {
         "name": "Enajenación de bienes con subasta",
         "type": "bar",
         "x": [
          2020,
          2021,
          2022,
          2023,
          2024
         ],
         "y": [
          0,
          0,
          2,
          0,
          0
         ]
        },
        {
         "name": "Licitación pública",
         "type": "bar",
         "x": [
          2020,
          2021,
          2022,
          2023,
          2024
         ],
         "y": [
          0,
          2,
          0,
          9,
          0
         ]
        },
        {
         "name": "Licitación pública Obra Publica",
         "type": "bar",
         "x": [
          2020,
          2021,
          2022,
          2023,
          2024
         ],
         "y": [
          2,
          0,
          0,
          4,
          0
         ]
        },
        {
         "name": "Mínima cuantía",
         "type": "bar",
         "x": [
          2020,
          2021,
          2022,
          2023,
          2024
         ],
         "y": [
          17,
          4,
          17,
          23,
          0
         ]
        },
        {
         "name": "No Definido",
         "type": "bar",
         "x": [
          2020,
          2021,
          2022,
          2023,
          2024
         ],
         "y": [
          0,
          0,
          0,
          1,
          0
         ]
        },
        {
         "name": "Seleccion Abreviada Menor Cuantia Sin Manifestacion Interes",
         "type": "bar",
         "x": [
          2020,
          2021,
          2022,
          2023,
          2024
         ],
         "y": [
          1,
          0,
          0,
          0,
          0
         ]
        },
        {
         "name": "Selección Abreviada de Menor Cuantía",
         "type": "bar",
         "x": [
          2020,
          2021,
          2022,
          2023,
          2024
         ],
         "y": [
          1,
          6,
          12,
          4,
          0
         ]
        },
        {
         "name": "Selección abreviada subasta inversa",
         "type": "bar",
         "x": [
          2020,
          2021,
          2022,
          2023,
          2024
         ],
         "y": [
          2,
          8,
          3,
          13,
          0
         ]
        }
       ],
       "layout": {
        "barmode": "stack",
        "legend": {
         "title": {
          "text": "Modalidad de contratación"
         }
        },
        "template": {
         "data": {
          "bar": [
           {
            "error_x": {
             "color": "#2a3f5f"
            },
            "error_y": {
             "color": "#2a3f5f"
            },
            "marker": {
             "line": {
              "color": "#E5ECF6",
              "width": 0.5
             },
             "pattern": {
              "fillmode": "overlay",
              "size": 10,
              "solidity": 0.2
             }
            },
            "type": "bar"
           }
          ],
          "barpolar": [
           {
            "marker": {
             "line": {
              "color": "#E5ECF6",
              "width": 0.5
             },
             "pattern": {
              "fillmode": "overlay",
              "size": 10,
              "solidity": 0.2
             }
            },
            "type": "barpolar"
           }
          ],
          "carpet": [
           {
            "aaxis": {
             "endlinecolor": "#2a3f5f",
             "gridcolor": "white",
             "linecolor": "white",
             "minorgridcolor": "white",
             "startlinecolor": "#2a3f5f"
            },
            "baxis": {
             "endlinecolor": "#2a3f5f",
             "gridcolor": "white",
             "linecolor": "white",
             "minorgridcolor": "white",
             "startlinecolor": "#2a3f5f"
            },
            "type": "carpet"
           }
          ],
          "choropleth": [
           {
            "colorbar": {
             "outlinewidth": 0,
             "ticks": ""
            },
            "type": "choropleth"
           }
          ],
          "contour": [
           {
            "colorbar": {
             "outlinewidth": 0,
             "ticks": ""
            },
            "colorscale": [
             [
              0,
              "#0d0887"
             ],
             [
              0.1111111111111111,
              "#46039f"
             ],
             [
              0.2222222222222222,
              "#7201a8"
             ],
             [
              0.3333333333333333,
              "#9c179e"
             ],
             [
              0.4444444444444444,
              "#bd3786"
             ],
             [
              0.5555555555555556,
              "#d8576b"
             ],
             [
              0.6666666666666666,
              "#ed7953"
             ],
             [
              0.7777777777777778,
              "#fb9f3a"
             ],
             [
              0.8888888888888888,
              "#fdca26"
             ],
             [
              1,
              "#f0f921"
             ]
            ],
            "type": "contour"
           }
          ],
          "contourcarpet": [
           {
            "colorbar": {
             "outlinewidth": 0,
             "ticks": ""
            },
            "type": "contourcarpet"
           }
          ],
          "heatmap": [
           {
            "colorbar": {
             "outlinewidth": 0,
             "ticks": ""
            },
            "colorscale": [
             [
              0,
              "#0d0887"
             ],
             [
              0.1111111111111111,
              "#46039f"
             ],
             [
              0.2222222222222222,
              "#7201a8"
             ],
             [
              0.3333333333333333,
              "#9c179e"
             ],
             [
              0.4444444444444444,
              "#bd3786"
             ],
             [
              0.5555555555555556,
              "#d8576b"
             ],
             [
              0.6666666666666666,
              "#ed7953"
             ],
             [
              0.7777777777777778,
              "#fb9f3a"
             ],
             [
              0.8888888888888888,
              "#fdca26"
             ],
             [
              1,
              "#f0f921"
             ]
            ],
            "type": "heatmap"
           }
          ],
          "heatmapgl": [
           {
            "colorbar": {
             "outlinewidth": 0,
             "ticks": ""
            },
            "colorscale": [
             [
              0,
              "#0d0887"
             ],
             [
              0.1111111111111111,
              "#46039f"
             ],
             [
              0.2222222222222222,
              "#7201a8"
             ],
             [
              0.3333333333333333,
              "#9c179e"
             ],
             [
              0.4444444444444444,
              "#bd3786"
             ],
             [
              0.5555555555555556,
              "#d8576b"
             ],
             [
              0.6666666666666666,
              "#ed7953"
             ],
             [
              0.7777777777777778,
              "#fb9f3a"
             ],
             [
              0.8888888888888888,
              "#fdca26"
             ],
             [
              1,
              "#f0f921"
             ]
            ],
            "type": "heatmapgl"
           }
          ],
          "histogram": [
           {
            "marker": {
             "pattern": {
              "fillmode": "overlay",
              "size": 10,
              "solidity": 0.2
             }
            },
            "type": "histogram"
           }
          ],
          "histogram2d": [
           {
            "colorbar": {
             "outlinewidth": 0,
             "ticks": ""
            },
            "colorscale": [
             [
              0,
              "#0d0887"
             ],
             [
              0.1111111111111111,
              "#46039f"
             ],
             [
              0.2222222222222222,
              "#7201a8"
             ],
             [
              0.3333333333333333,
              "#9c179e"
             ],
             [
              0.4444444444444444,
              "#bd3786"
             ],
             [
              0.5555555555555556,
              "#d8576b"
             ],
             [
              0.6666666666666666,
              "#ed7953"
             ],
             [
              0.7777777777777778,
              "#fb9f3a"
             ],
             [
              0.8888888888888888,
              "#fdca26"
             ],
             [
              1,
              "#f0f921"
             ]
            ],
            "type": "histogram2d"
           }
          ],
          "histogram2dcontour": [
           {
            "colorbar": {
             "outlinewidth": 0,
             "ticks": ""
            },
            "colorscale": [
             [
              0,
              "#0d0887"
             ],
             [
              0.1111111111111111,
              "#46039f"
             ],
             [
              0.2222222222222222,
              "#7201a8"
             ],
             [
              0.3333333333333333,
              "#9c179e"
             ],
             [
              0.4444444444444444,
              "#bd3786"
             ],
             [
              0.5555555555555556,
              "#d8576b"
             ],
             [
              0.6666666666666666,
              "#ed7953"
             ],
             [
              0.7777777777777778,
              "#fb9f3a"
             ],
             [
              0.8888888888888888,
              "#fdca26"
             ],
             [
              1,
              "#f0f921"
             ]
            ],
            "type": "histogram2dcontour"
           }
          ],
          "mesh3d": [
           {
            "colorbar": {
             "outlinewidth": 0,
             "ticks": ""
            },
            "type": "mesh3d"
           }
          ],
          "parcoords": [
           {
            "line": {
             "colorbar": {
              "outlinewidth": 0,
              "ticks": ""
             }
            },
            "type": "parcoords"
           }
          ],
          "pie": [
           {
            "automargin": true,
            "type": "pie"
           }
          ],
          "scatter": [
           {
            "fillpattern": {
             "fillmode": "overlay",
             "size": 10,
             "solidity": 0.2
            },
            "type": "scatter"
           }
          ],
          "scatter3d": [
           {
            "line": {
             "colorbar": {
              "outlinewidth": 0,
              "ticks": ""
             }
            },
            "marker": {
             "colorbar": {
              "outlinewidth": 0,
              "ticks": ""
             }
            },
            "type": "scatter3d"
           }
          ],
          "scattercarpet": [
           {
            "marker": {
             "colorbar": {
              "outlinewidth": 0,
              "ticks": ""
             }
            },
            "type": "scattercarpet"
           }
          ],
          "scattergeo": [
           {
            "marker": {
             "colorbar": {
              "outlinewidth": 0,
              "ticks": ""
             }
            },
            "type": "scattergeo"
           }
          ],
          "scattergl": [
           {
            "marker": {
             "colorbar": {
              "outlinewidth": 0,
              "ticks": ""
             }
            },
            "type": "scattergl"
           }
          ],
          "scattermapbox": [
           {
            "marker": {
             "colorbar": {
              "outlinewidth": 0,
              "ticks": ""
             }
            },
            "type": "scattermapbox"
           }
          ],
          "scatterpolar": [
           {
            "marker": {
             "colorbar": {
              "outlinewidth": 0,
              "ticks": ""
             }
            },
            "type": "scatterpolar"
           }
          ],
          "scatterpolargl": [
           {
            "marker": {
             "colorbar": {
              "outlinewidth": 0,
              "ticks": ""
             }
            },
            "type": "scatterpolargl"
           }
          ],
          "scatterternary": [
           {
            "marker": {
             "colorbar": {
              "outlinewidth": 0,
              "ticks": ""
             }
            },
            "type": "scatterternary"
           }
          ],
          "surface": [
           {
            "colorbar": {
             "outlinewidth": 0,
             "ticks": ""
            },
            "colorscale": [
             [
              0,
              "#0d0887"
             ],
             [
              0.1111111111111111,
              "#46039f"
             ],
             [
              0.2222222222222222,
              "#7201a8"
             ],
             [
              0.3333333333333333,
              "#9c179e"
             ],
             [
              0.4444444444444444,
              "#bd3786"
             ],
             [
              0.5555555555555556,
              "#d8576b"
             ],
             [
              0.6666666666666666,
              "#ed7953"
             ],
             [
              0.7777777777777778,
              "#fb9f3a"
             ],
             [
              0.8888888888888888,
              "#fdca26"
             ],
             [
              1,
              "#f0f921"
             ]
            ],
            "type": "surface"
           }
          ],
          "table": [
           {
            "cells": {
             "fill": {
              "color": "#EBF0F8"
             },
             "line": {
              "color": "white"
             }
            },
            "header": {
             "fill": {
              "color": "#C8D4E3"
             },
             "line": {
              "color": "white"
             }
            },
            "type": "table"
           }
          ]
         },
         "layout": {
          "annotationdefaults": {
           "arrowcolor": "#2a3f5f",
           "arrowhead": 0,
           "arrowwidth": 1
          },
          "autotypenumbers": "strict",
          "coloraxis": {
           "colorbar": {
            "outlinewidth": 0,
            "ticks": ""
           }
          },
          "colorscale": {
           "diverging": [
            [
             0,
             "#8e0152"
            ],
            [
             0.1,
             "#c51b7d"
            ],
            [
             0.2,
             "#de77ae"
            ],
            [
             0.3,
             "#f1b6da"
            ],
            [
             0.4,
             "#fde0ef"
            ],
            [
             0.5,
             "#f7f7f7"
            ],
            [
             0.6,
             "#e6f5d0"
            ],
            [
             0.7,
             "#b8e186"
            ],
            [
             0.8,
             "#7fbc41"
            ],
            [
             0.9,
             "#4d9221"
            ],
            [
             1,
             "#276419"
            ]
           ],
           "sequential": [
            [
             0,
             "#0d0887"
            ],
            [
             0.1111111111111111,
             "#46039f"
            ],
            [
             0.2222222222222222,
             "#7201a8"
            ],
            [
             0.3333333333333333,
             "#9c179e"
            ],
            [
             0.4444444444444444,
             "#bd3786"
            ],
            [
             0.5555555555555556,
             "#d8576b"
            ],
            [
             0.6666666666666666,
             "#ed7953"
            ],
            [
             0.7777777777777778,
             "#fb9f3a"
            ],
            [
             0.8888888888888888,
             "#fdca26"
            ],
            [
             1,
             "#f0f921"
            ]
           ],
           "sequentialminus": [
            [
             0,
             "#0d0887"
            ],
            [
             0.1111111111111111,
             "#46039f"
            ],
            [
             0.2222222222222222,
             "#7201a8"
            ],
            [
             0.3333333333333333,
             "#9c179e"
            ],
            [
             0.4444444444444444,
             "#bd3786"
            ],
            [
             0.5555555555555556,
             "#d8576b"
            ],
            [
             0.6666666666666666,
             "#ed7953"
            ],
            [
             0.7777777777777778,
             "#fb9f3a"
            ],
            [
             0.8888888888888888,
             "#fdca26"
            ],
            [
             1,
             "#f0f921"
            ]
           ]
          },
          "colorway": [
           "#636efa",
           "#EF553B",
           "#00cc96",
           "#ab63fa",
           "#FFA15A",
           "#19d3f3",
           "#FF6692",
           "#B6E880",
           "#FF97FF",
           "#FECB52"
          ],
          "font": {
           "color": "#2a3f5f"
          },
          "geo": {
           "bgcolor": "white",
           "lakecolor": "white",
           "landcolor": "#E5ECF6",
           "showlakes": true,
           "showland": true,
           "subunitcolor": "white"
          },
          "hoverlabel": {
           "align": "left"
          },
          "hovermode": "closest",
          "mapbox": {
           "style": "light"
          },
          "paper_bgcolor": "white",
          "plot_bgcolor": "#E5ECF6",
          "polar": {
           "angularaxis": {
            "gridcolor": "white",
            "linecolor": "white",
            "ticks": ""
           },
           "bgcolor": "#E5ECF6",
           "radialaxis": {
            "gridcolor": "white",
            "linecolor": "white",
            "ticks": ""
           }
          },
          "scene": {
           "xaxis": {
            "backgroundcolor": "#E5ECF6",
            "gridcolor": "white",
            "gridwidth": 2,
            "linecolor": "white",
            "showbackground": true,
            "ticks": "",
            "zerolinecolor": "white"
           },
           "yaxis": {
            "backgroundcolor": "#E5ECF6",
            "gridcolor": "white",
            "gridwidth": 2,
            "linecolor": "white",
            "showbackground": true,
            "ticks": "",
            "zerolinecolor": "white"
           },
           "zaxis": {
            "backgroundcolor": "#E5ECF6",
            "gridcolor": "white",
            "gridwidth": 2,
            "linecolor": "white",
            "showbackground": true,
            "ticks": "",
            "zerolinecolor": "white"
           }
          },
          "shapedefaults": {
           "line": {
            "color": "#2a3f5f"
           }
          },
          "ternary": {
           "aaxis": {
            "gridcolor": "white",
            "linecolor": "white",
            "ticks": ""
           },
           "baxis": {
            "gridcolor": "white",
            "linecolor": "white",
            "ticks": ""
           },
           "bgcolor": "#E5ECF6",
           "caxis": {
            "gridcolor": "white",
            "linecolor": "white",
            "ticks": ""
           }
          },
          "title": {
           "x": 0.05
          },
          "xaxis": {
           "automargin": true,
           "gridcolor": "white",
           "linecolor": "white",
           "ticks": "",
           "title": {
            "standoff": 15
           },
           "zerolinecolor": "white",
           "zerolinewidth": 2
          },
          "yaxis": {
           "automargin": true,
           "gridcolor": "white",
           "linecolor": "white",
           "ticks": "",
           "title": {
            "standoff": 15
           },
           "zerolinecolor": "white",
           "zerolinewidth": 2
          }
         }
        },
        "title": {
         "text": "Número de contratos ESAP según año de firma por modalidad de contrato 2020-2024"
        },
        "xaxis": {
         "title": {
          "text": "Año de Firma"
         }
        },
        "yaxis": {
         "title": {
          "text": "Número de contratos"
         }
        }
       }
      }
     },
     "metadata": {},
     "output_type": "display_data"
    }
   ],
   "source": [
    "# Agrupar por año y modalidad, y contrato\n",
    "modalidad_anio_counts = secop.groupby(['ano_fecha_de_firma', 'modalidad_de_contratacion']).size().unstack(fill_value=0)\n",
    "\n",
    "# Crear el gráfico\n",
    "fig = go.Figure()\n",
    "for modalidad in modalidad_anio_counts.columns:\n",
    "    fig.add_trace(go.Bar(\n",
    "        x=modalidad_anio_counts.index,\n",
    "        y=modalidad_anio_counts[modalidad],\n",
    "        name=modalidad\n",
    "    ))\n",
    "\n",
    "# Actualizar el diseño del gráfico\n",
    "fig.update_layout(\n",
    "    barmode='stack',\n",
    "    title='Número de contratos ESAP según año de firma por modalidad de contrato 2020-2024',\n",
    "    xaxis_title='Año de Firma',\n",
    "    yaxis_title='Número de contratos',\n",
    "    legend_title='Modalidad de contratación'\n",
    ")\n",
    "\n",
    "# Mostrar el gráfico\n",
    "fig.show()"
   ]
  },
  {
   "cell_type": "markdown",
   "metadata": {},
   "source": [
    "_Tiempo entre la fecha de firma de contrato y fecha fin de contrato ESAP año 2020 - 2024 (días)_"
   ]
  },
  {
   "cell_type": "code",
   "execution_count": 427,
   "metadata": {},
   "outputs": [
    {
     "name": "stdout",
     "output_type": "stream",
     "text": [
      "  fecha_de_firma fecha_de_fin_del_contrato tiempo_entre_firma_fin_dia\n",
      "0     2024-01-23                2024-10-22                   273 days\n",
      "1     2021-01-10                2021-08-31                   233 days\n",
      "2     2023-01-13                2023-05-01                   108 days\n",
      "3     2023-02-15                2024-01-01                   320 days\n",
      "4     2021-09-29                2021-12-31                    93 days\n"
     ]
    }
   ],
   "source": [
    "# Calcular el tiempo entre la fecha de firma y la fecha de final del contrato y almacenar en una nueva columna 'tiempo_entre_firma_final'\n",
    "secop['tiempo_entre_firma_fin_dia'] = secop['fecha_de_fin_del_contrato'] - secop['fecha_de_firma']\n",
    "# Mostrar información del DataFrame resultante\n",
    "print(secop[['fecha_de_firma', 'fecha_de_fin_del_contrato', 'tiempo_entre_firma_fin_dia']].head())"
   ]
  },
  {
   "cell_type": "code",
   "execution_count": 428,
   "metadata": {},
   "outputs": [
    {
     "name": "stdout",
     "output_type": "stream",
     "text": [
      "  fecha_de_firma fecha_de_fin_del_contrato  tiempo_entre_firma_fin_dia\n",
      "0     2024-01-23                2024-10-22                         273\n",
      "1     2021-01-10                2021-08-31                         233\n",
      "2     2023-01-13                2023-05-01                         108\n",
      "3     2023-02-15                2024-01-01                         320\n",
      "4     2021-09-29                2021-12-31                          93\n"
     ]
    }
   ],
   "source": [
    "# Calcular la diferencia en días\n",
    "secop['tiempo_entre_firma_fin_dia'] = (secop['fecha_de_fin_del_contrato'] - secop['fecha_de_firma']).dt.days\n",
    "# Mostrar el resultado\n",
    "print(secop[['fecha_de_firma', 'fecha_de_fin_del_contrato', 'tiempo_entre_firma_fin_dia']].head())"
   ]
  },
  {
   "cell_type": "code",
   "execution_count": 430,
   "metadata": {},
   "outputs": [
    {
     "name": "stdout",
     "output_type": "stream",
     "text": [
      "count   5,389\n",
      "mean      217\n",
      "std       139\n",
      "min        -6\n",
      "25%       118\n",
      "50%       216\n",
      "75%       323\n",
      "max     2,562\n",
      "Name: tiempo_entre_firma_fin_dia, dtype: float64\n"
     ]
    }
   ],
   "source": [
    "# Mostrar estadísticas descriptivas del tiempo entre firma y fecha final del contrato\n",
    "resumen_tiempo_firma_fin = secop['tiempo_entre_firma_fin_dia'].describe()\n",
    "# Mostrar el resumen\n",
    "print(resumen_tiempo_firma_fin)"
   ]
  },
  {
   "cell_type": "code",
   "execution_count": 432,
   "metadata": {},
   "outputs": [
    {
     "data": {
      "application/vnd.plotly.v1+json": {
       "config": {
        "plotlyServerURL": "https://plot.ly"
       },
       "data": [
        {
         "hovertemplate": "fecha_de_firma=%{x}<br>Promedio Tiempo entre firma y fin (días)=%{y}<extra></extra>",
         "legendgroup": "",
         "line": {
          "color": "#636efa",
          "dash": "solid"
         },
         "marker": {
          "symbol": "circle"
         },
         "mode": "lines",
         "name": "",
         "orientation": "v",
         "showlegend": false,
         "type": "scatter",
         "x": [
          "2020-01-02T00:00:00",
          "2020-01-03T00:00:00",
          "2020-01-04T00:00:00",
          "2020-01-07T00:00:00",
          "2020-01-08T00:00:00",
          "2020-01-09T00:00:00",
          "2020-01-10T00:00:00",
          "2020-01-12T00:00:00",
          "2020-01-13T00:00:00",
          "2020-01-14T00:00:00",
          "2020-01-15T00:00:00",
          "2020-01-16T00:00:00",
          "2020-01-17T00:00:00",
          "2020-01-20T00:00:00",
          "2020-01-21T00:00:00",
          "2020-01-22T00:00:00",
          "2020-01-23T00:00:00",
          "2020-01-24T00:00:00",
          "2020-01-25T00:00:00",
          "2020-01-27T00:00:00",
          "2020-01-28T00:00:00",
          "2020-01-30T00:00:00",
          "2020-01-31T00:00:00",
          "2020-02-01T00:00:00",
          "2020-02-03T00:00:00",
          "2020-02-05T00:00:00",
          "2020-02-06T00:00:00",
          "2020-02-07T00:00:00",
          "2020-02-08T00:00:00",
          "2020-02-10T00:00:00",
          "2020-02-11T00:00:00",
          "2020-02-12T00:00:00",
          "2020-02-13T00:00:00",
          "2020-02-14T00:00:00",
          "2020-02-15T00:00:00",
          "2020-02-17T00:00:00",
          "2020-02-18T00:00:00",
          "2020-02-19T00:00:00",
          "2020-02-20T00:00:00",
          "2020-02-21T00:00:00",
          "2020-02-24T00:00:00",
          "2020-02-25T00:00:00",
          "2020-02-26T00:00:00",
          "2020-02-27T00:00:00",
          "2020-02-29T00:00:00",
          "2020-03-02T00:00:00",
          "2020-03-03T00:00:00",
          "2020-03-04T00:00:00",
          "2020-03-06T00:00:00",
          "2020-03-07T00:00:00",
          "2020-03-11T00:00:00",
          "2020-03-13T00:00:00",
          "2020-03-14T00:00:00",
          "2020-03-16T00:00:00",
          "2020-03-19T00:00:00",
          "2020-03-30T00:00:00",
          "2020-04-03T00:00:00",
          "2020-04-04T00:00:00",
          "2020-04-16T00:00:00",
          "2020-04-17T00:00:00",
          "2020-04-18T00:00:00",
          "2020-04-20T00:00:00",
          "2020-04-21T00:00:00",
          "2020-04-22T00:00:00",
          "2020-04-23T00:00:00",
          "2020-04-24T00:00:00",
          "2020-05-14T00:00:00",
          "2020-05-18T00:00:00",
          "2020-05-20T00:00:00",
          "2020-05-21T00:00:00",
          "2020-05-22T00:00:00",
          "2020-05-27T00:00:00",
          "2020-06-02T00:00:00",
          "2020-06-04T00:00:00",
          "2020-06-05T00:00:00",
          "2020-06-08T00:00:00",
          "2020-06-10T00:00:00",
          "2020-06-17T00:00:00",
          "2020-06-19T00:00:00",
          "2020-06-24T00:00:00",
          "2020-06-26T00:00:00",
          "2020-06-27T00:00:00",
          "2020-07-01T00:00:00",
          "2020-07-03T00:00:00",
          "2020-07-06T00:00:00",
          "2020-07-07T00:00:00",
          "2020-07-13T00:00:00",
          "2020-07-14T00:00:00",
          "2020-07-16T00:00:00",
          "2020-07-17T00:00:00",
          "2020-07-21T00:00:00",
          "2020-07-23T00:00:00",
          "2020-07-24T00:00:00",
          "2020-07-25T00:00:00",
          "2020-07-27T00:00:00",
          "2020-07-28T00:00:00",
          "2020-07-29T00:00:00",
          "2020-08-03T00:00:00",
          "2020-08-04T00:00:00",
          "2020-08-05T00:00:00",
          "2020-08-06T00:00:00",
          "2020-08-11T00:00:00",
          "2020-08-12T00:00:00",
          "2020-08-13T00:00:00",
          "2020-08-14T00:00:00",
          "2020-08-18T00:00:00",
          "2020-08-19T00:00:00",
          "2020-08-20T00:00:00",
          "2020-08-21T00:00:00",
          "2020-08-25T00:00:00",
          "2020-08-26T00:00:00",
          "2020-08-27T00:00:00",
          "2020-08-28T00:00:00",
          "2020-08-29T00:00:00",
          "2020-08-31T00:00:00",
          "2020-09-01T00:00:00",
          "2020-09-02T00:00:00",
          "2020-09-03T00:00:00",
          "2020-09-04T00:00:00",
          "2020-09-07T00:00:00",
          "2020-09-09T00:00:00",
          "2020-09-10T00:00:00",
          "2020-09-12T00:00:00",
          "2020-09-14T00:00:00",
          "2020-09-16T00:00:00",
          "2020-09-17T00:00:00",
          "2020-09-22T00:00:00",
          "2020-09-23T00:00:00",
          "2020-09-24T00:00:00",
          "2020-09-25T00:00:00",
          "2020-09-28T00:00:00",
          "2020-09-29T00:00:00",
          "2020-10-01T00:00:00",
          "2020-10-02T00:00:00",
          "2020-10-03T00:00:00",
          "2020-10-06T00:00:00",
          "2020-10-07T00:00:00",
          "2020-10-08T00:00:00",
          "2020-10-10T00:00:00",
          "2020-10-13T00:00:00",
          "2020-10-14T00:00:00",
          "2020-10-15T00:00:00",
          "2020-10-16T00:00:00",
          "2020-10-19T00:00:00",
          "2020-10-21T00:00:00",
          "2020-10-22T00:00:00",
          "2020-10-23T00:00:00",
          "2020-10-26T00:00:00",
          "2020-10-28T00:00:00",
          "2020-10-29T00:00:00",
          "2020-10-30T00:00:00",
          "2020-10-31T00:00:00",
          "2020-11-04T00:00:00",
          "2020-11-05T00:00:00",
          "2020-11-09T00:00:00",
          "2020-11-10T00:00:00",
          "2020-11-11T00:00:00",
          "2020-11-12T00:00:00",
          "2020-11-13T00:00:00",
          "2020-11-18T00:00:00",
          "2020-11-19T00:00:00",
          "2020-11-20T00:00:00",
          "2020-11-23T00:00:00",
          "2020-11-24T00:00:00",
          "2020-11-25T00:00:00",
          "2020-11-26T00:00:00",
          "2020-11-27T00:00:00",
          "2020-11-28T00:00:00",
          "2020-11-30T00:00:00",
          "2020-12-01T00:00:00",
          "2020-12-02T00:00:00",
          "2020-12-04T00:00:00",
          "2020-12-09T00:00:00",
          "2020-12-15T00:00:00",
          "2020-12-16T00:00:00",
          "2020-12-18T00:00:00",
          "2020-12-21T00:00:00",
          "2020-12-22T00:00:00",
          "2020-12-23T00:00:00",
          "2020-12-24T00:00:00",
          "2020-12-28T00:00:00",
          "2020-12-30T00:00:00",
          "2021-01-06T00:00:00",
          "2021-01-07T00:00:00",
          "2021-01-08T00:00:00",
          "2021-01-09T00:00:00",
          "2021-01-10T00:00:00",
          "2021-01-11T00:00:00",
          "2021-01-12T00:00:00",
          "2021-01-14T00:00:00",
          "2021-01-15T00:00:00",
          "2021-01-17T00:00:00",
          "2021-01-18T00:00:00",
          "2021-01-19T00:00:00",
          "2021-01-20T00:00:00",
          "2021-01-21T00:00:00",
          "2021-01-22T00:00:00",
          "2021-01-25T00:00:00",
          "2021-01-26T00:00:00",
          "2021-01-27T00:00:00",
          "2021-01-28T00:00:00",
          "2021-01-29T00:00:00",
          "2021-02-02T00:00:00",
          "2021-02-03T00:00:00",
          "2021-02-04T00:00:00",
          "2021-02-05T00:00:00",
          "2021-02-08T00:00:00",
          "2021-02-09T00:00:00",
          "2021-02-11T00:00:00",
          "2021-02-12T00:00:00",
          "2021-02-15T00:00:00",
          "2021-02-17T00:00:00",
          "2021-02-18T00:00:00",
          "2021-02-22T00:00:00",
          "2021-02-23T00:00:00",
          "2021-02-25T00:00:00",
          "2021-02-26T00:00:00",
          "2021-03-01T00:00:00",
          "2021-03-03T00:00:00",
          "2021-03-04T00:00:00",
          "2021-03-06T00:00:00",
          "2021-03-08T00:00:00",
          "2021-03-09T00:00:00",
          "2021-03-10T00:00:00",
          "2021-03-11T00:00:00",
          "2021-03-12T00:00:00",
          "2021-03-15T00:00:00",
          "2021-03-16T00:00:00",
          "2021-03-17T00:00:00",
          "2021-03-19T00:00:00",
          "2021-03-23T00:00:00",
          "2021-03-24T00:00:00",
          "2021-03-25T00:00:00",
          "2021-03-26T00:00:00",
          "2021-03-30T00:00:00",
          "2021-03-31T00:00:00",
          "2021-04-07T00:00:00",
          "2021-04-08T00:00:00",
          "2021-04-09T00:00:00",
          "2021-04-13T00:00:00",
          "2021-04-15T00:00:00",
          "2021-04-16T00:00:00",
          "2021-04-19T00:00:00",
          "2021-04-21T00:00:00",
          "2021-04-22T00:00:00",
          "2021-04-23T00:00:00",
          "2021-04-24T00:00:00",
          "2021-04-27T00:00:00",
          "2021-04-28T00:00:00",
          "2021-04-30T00:00:00",
          "2021-05-04T00:00:00",
          "2021-05-06T00:00:00",
          "2021-05-10T00:00:00",
          "2021-05-13T00:00:00",
          "2021-05-14T00:00:00",
          "2021-05-18T00:00:00",
          "2021-05-19T00:00:00",
          "2021-05-21T00:00:00",
          "2021-05-24T00:00:00",
          "2021-05-26T00:00:00",
          "2021-06-01T00:00:00",
          "2021-06-03T00:00:00",
          "2021-06-04T00:00:00",
          "2021-06-09T00:00:00",
          "2021-06-11T00:00:00",
          "2021-06-15T00:00:00",
          "2021-06-16T00:00:00",
          "2021-06-17T00:00:00",
          "2021-06-18T00:00:00",
          "2021-06-21T00:00:00",
          "2021-06-22T00:00:00",
          "2021-06-24T00:00:00",
          "2021-06-25T00:00:00",
          "2021-06-26T00:00:00",
          "2021-06-29T00:00:00",
          "2021-06-30T00:00:00",
          "2021-07-01T00:00:00",
          "2021-07-02T00:00:00",
          "2021-07-07T00:00:00",
          "2021-07-08T00:00:00",
          "2021-07-13T00:00:00",
          "2021-07-14T00:00:00",
          "2021-07-16T00:00:00",
          "2021-07-17T00:00:00",
          "2021-07-19T00:00:00",
          "2021-07-20T00:00:00",
          "2021-07-22T00:00:00",
          "2021-07-23T00:00:00",
          "2021-07-24T00:00:00",
          "2021-07-26T00:00:00",
          "2021-07-28T00:00:00",
          "2021-07-31T00:00:00",
          "2021-08-02T00:00:00",
          "2021-08-04T00:00:00",
          "2021-08-05T00:00:00",
          "2021-08-12T00:00:00",
          "2021-08-13T00:00:00",
          "2021-08-16T00:00:00",
          "2021-08-17T00:00:00",
          "2021-08-19T00:00:00",
          "2021-08-20T00:00:00",
          "2021-08-23T00:00:00",
          "2021-08-24T00:00:00",
          "2021-08-25T00:00:00",
          "2021-08-28T00:00:00",
          "2021-08-30T00:00:00",
          "2021-08-31T00:00:00",
          "2021-09-03T00:00:00",
          "2021-09-04T00:00:00",
          "2021-09-07T00:00:00",
          "2021-09-08T00:00:00",
          "2021-09-09T00:00:00",
          "2021-09-10T00:00:00",
          "2021-09-14T00:00:00",
          "2021-09-15T00:00:00",
          "2021-09-16T00:00:00",
          "2021-09-17T00:00:00",
          "2021-09-20T00:00:00",
          "2021-09-21T00:00:00",
          "2021-09-22T00:00:00",
          "2021-09-23T00:00:00",
          "2021-09-24T00:00:00",
          "2021-09-25T00:00:00",
          "2021-09-27T00:00:00",
          "2021-09-28T00:00:00",
          "2021-09-29T00:00:00",
          "2021-09-30T00:00:00",
          "2021-10-05T00:00:00",
          "2021-10-07T00:00:00",
          "2021-10-08T00:00:00",
          "2021-10-11T00:00:00",
          "2021-10-12T00:00:00",
          "2021-10-13T00:00:00",
          "2021-10-14T00:00:00",
          "2021-10-15T00:00:00",
          "2021-10-16T00:00:00",
          "2021-10-19T00:00:00",
          "2021-10-20T00:00:00",
          "2021-10-21T00:00:00",
          "2021-10-22T00:00:00",
          "2021-10-23T00:00:00",
          "2021-10-25T00:00:00",
          "2021-10-26T00:00:00",
          "2021-10-28T00:00:00",
          "2021-10-29T00:00:00",
          "2021-11-02T00:00:00",
          "2021-11-04T00:00:00",
          "2021-11-05T00:00:00",
          "2021-11-06T00:00:00",
          "2021-11-08T00:00:00",
          "2021-11-09T00:00:00",
          "2021-11-10T00:00:00",
          "2021-11-11T00:00:00",
          "2021-11-12T00:00:00",
          "2021-11-16T00:00:00",
          "2021-11-17T00:00:00",
          "2021-11-18T00:00:00",
          "2021-11-22T00:00:00",
          "2021-11-23T00:00:00",
          "2021-11-24T00:00:00",
          "2021-11-25T00:00:00",
          "2021-11-26T00:00:00",
          "2021-11-27T00:00:00",
          "2021-11-29T00:00:00",
          "2021-11-30T00:00:00",
          "2021-12-01T00:00:00",
          "2021-12-02T00:00:00",
          "2021-12-03T00:00:00",
          "2021-12-06T00:00:00",
          "2021-12-07T00:00:00",
          "2021-12-09T00:00:00",
          "2021-12-10T00:00:00",
          "2021-12-13T00:00:00",
          "2021-12-14T00:00:00",
          "2021-12-20T00:00:00",
          "2021-12-21T00:00:00",
          "2021-12-22T00:00:00",
          "2021-12-29T00:00:00",
          "2021-12-30T00:00:00",
          "2022-01-12T00:00:00",
          "2022-01-13T00:00:00",
          "2022-01-14T00:00:00",
          "2022-01-15T00:00:00",
          "2022-01-16T00:00:00",
          "2022-01-17T00:00:00",
          "2022-01-18T00:00:00",
          "2022-01-19T00:00:00",
          "2022-01-20T00:00:00",
          "2022-01-21T00:00:00",
          "2022-01-22T00:00:00",
          "2022-01-23T00:00:00",
          "2022-01-24T00:00:00",
          "2022-01-25T00:00:00",
          "2022-01-26T00:00:00",
          "2022-01-27T00:00:00",
          "2022-01-28T00:00:00",
          "2022-01-29T00:00:00",
          "2022-02-01T00:00:00",
          "2022-02-02T00:00:00",
          "2022-02-03T00:00:00",
          "2022-02-17T00:00:00",
          "2022-04-06T00:00:00",
          "2022-04-27T00:00:00",
          "2022-05-02T00:00:00",
          "2022-05-19T00:00:00",
          "2022-05-31T00:00:00",
          "2022-06-08T00:00:00",
          "2022-06-29T00:00:00",
          "2022-07-01T00:00:00",
          "2022-07-02T00:00:00",
          "2022-07-08T00:00:00",
          "2022-07-12T00:00:00",
          "2022-07-18T00:00:00",
          "2022-07-21T00:00:00",
          "2022-07-22T00:00:00",
          "2022-07-26T00:00:00",
          "2022-07-27T00:00:00",
          "2022-07-29T00:00:00",
          "2022-08-01T00:00:00",
          "2022-08-02T00:00:00",
          "2022-08-05T00:00:00",
          "2022-08-11T00:00:00",
          "2022-08-12T00:00:00",
          "2022-08-16T00:00:00",
          "2022-08-18T00:00:00",
          "2022-08-22T00:00:00",
          "2022-08-23T00:00:00",
          "2022-08-24T00:00:00",
          "2022-08-25T00:00:00",
          "2022-08-26T00:00:00",
          "2022-08-27T00:00:00",
          "2022-08-29T00:00:00",
          "2022-08-30T00:00:00",
          "2022-08-31T00:00:00",
          "2022-09-01T00:00:00",
          "2022-09-02T00:00:00",
          "2022-09-06T00:00:00",
          "2022-09-07T00:00:00",
          "2022-09-08T00:00:00",
          "2022-09-09T00:00:00",
          "2022-09-20T00:00:00",
          "2022-09-24T00:00:00",
          "2022-09-28T00:00:00",
          "2022-09-30T00:00:00",
          "2022-10-01T00:00:00",
          "2022-10-05T00:00:00",
          "2022-10-07T00:00:00",
          "2022-10-08T00:00:00",
          "2022-10-10T00:00:00",
          "2022-10-12T00:00:00",
          "2022-10-14T00:00:00",
          "2022-10-18T00:00:00",
          "2022-10-19T00:00:00",
          "2022-10-21T00:00:00",
          "2022-10-22T00:00:00",
          "2022-10-25T00:00:00",
          "2022-11-01T00:00:00",
          "2022-11-03T00:00:00",
          "2022-11-08T00:00:00",
          "2022-11-09T00:00:00",
          "2022-11-10T00:00:00",
          "2022-11-11T00:00:00",
          "2022-11-12T00:00:00",
          "2022-11-15T00:00:00",
          "2022-11-17T00:00:00",
          "2022-11-18T00:00:00",
          "2022-11-19T00:00:00",
          "2022-11-23T00:00:00",
          "2022-11-25T00:00:00",
          "2022-11-30T00:00:00",
          "2022-12-01T00:00:00",
          "2022-12-02T00:00:00",
          "2022-12-05T00:00:00",
          "2022-12-07T00:00:00",
          "2022-12-10T00:00:00",
          "2022-12-14T00:00:00",
          "2022-12-15T00:00:00",
          "2022-12-16T00:00:00",
          "2022-12-19T00:00:00",
          "2022-12-20T00:00:00",
          "2022-12-21T00:00:00",
          "2022-12-22T00:00:00",
          "2022-12-26T00:00:00",
          "2022-12-27T00:00:00",
          "2022-12-28T00:00:00",
          "2023-01-13T00:00:00",
          "2023-01-14T00:00:00",
          "2023-01-16T00:00:00",
          "2023-01-17T00:00:00",
          "2023-01-18T00:00:00",
          "2023-01-19T00:00:00",
          "2023-01-20T00:00:00",
          "2023-01-21T00:00:00",
          "2023-01-22T00:00:00",
          "2023-01-23T00:00:00",
          "2023-01-24T00:00:00",
          "2023-01-25T00:00:00",
          "2023-01-26T00:00:00",
          "2023-01-27T00:00:00",
          "2023-01-28T00:00:00",
          "2023-01-31T00:00:00",
          "2023-02-01T00:00:00",
          "2023-02-02T00:00:00",
          "2023-02-03T00:00:00",
          "2023-02-04T00:00:00",
          "2023-02-06T00:00:00",
          "2023-02-07T00:00:00",
          "2023-02-08T00:00:00",
          "2023-02-09T00:00:00",
          "2023-02-10T00:00:00",
          "2023-02-11T00:00:00",
          "2023-02-13T00:00:00",
          "2023-02-14T00:00:00",
          "2023-02-15T00:00:00",
          "2023-02-16T00:00:00",
          "2023-02-17T00:00:00",
          "2023-02-20T00:00:00",
          "2023-02-21T00:00:00",
          "2023-02-22T00:00:00",
          "2023-02-23T00:00:00",
          "2023-02-24T00:00:00",
          "2023-02-25T00:00:00",
          "2023-02-27T00:00:00",
          "2023-02-28T00:00:00",
          "2023-03-01T00:00:00",
          "2023-03-02T00:00:00",
          "2023-03-03T00:00:00",
          "2023-03-04T00:00:00",
          "2023-03-06T00:00:00",
          "2023-03-07T00:00:00",
          "2023-03-08T00:00:00",
          "2023-03-09T00:00:00",
          "2023-03-10T00:00:00",
          "2023-03-13T00:00:00",
          "2023-03-14T00:00:00",
          "2023-03-15T00:00:00",
          "2023-03-16T00:00:00",
          "2023-03-17T00:00:00",
          "2023-03-18T00:00:00",
          "2023-03-21T00:00:00",
          "2023-03-22T00:00:00",
          "2023-03-23T00:00:00",
          "2023-03-24T00:00:00",
          "2023-03-27T00:00:00",
          "2023-03-28T00:00:00",
          "2023-03-29T00:00:00",
          "2023-03-31T00:00:00",
          "2023-04-01T00:00:00",
          "2023-04-04T00:00:00",
          "2023-04-05T00:00:00",
          "2023-04-10T00:00:00",
          "2023-04-12T00:00:00",
          "2023-04-13T00:00:00",
          "2023-04-14T00:00:00",
          "2023-04-17T00:00:00",
          "2023-04-19T00:00:00",
          "2023-04-20T00:00:00",
          "2023-04-21T00:00:00",
          "2023-04-24T00:00:00",
          "2023-04-25T00:00:00",
          "2023-04-26T00:00:00",
          "2023-04-28T00:00:00",
          "2023-04-29T00:00:00",
          "2023-04-30T00:00:00",
          "2023-05-05T00:00:00",
          "2023-05-08T00:00:00",
          "2023-05-09T00:00:00",
          "2023-05-10T00:00:00",
          "2023-05-11T00:00:00",
          "2023-05-12T00:00:00",
          "2023-05-13T00:00:00",
          "2023-05-15T00:00:00",
          "2023-05-16T00:00:00",
          "2023-05-17T00:00:00",
          "2023-05-18T00:00:00",
          "2023-05-19T00:00:00",
          "2023-05-20T00:00:00",
          "2023-05-23T00:00:00",
          "2023-05-24T00:00:00",
          "2023-05-25T00:00:00",
          "2023-05-26T00:00:00",
          "2023-05-29T00:00:00",
          "2023-05-31T00:00:00",
          "2023-06-01T00:00:00",
          "2023-06-02T00:00:00",
          "2023-06-05T00:00:00",
          "2023-06-06T00:00:00",
          "2023-06-07T00:00:00",
          "2023-06-08T00:00:00",
          "2023-06-09T00:00:00",
          "2023-06-13T00:00:00",
          "2023-06-14T00:00:00",
          "2023-06-15T00:00:00",
          "2023-06-16T00:00:00",
          "2023-06-20T00:00:00",
          "2023-06-21T00:00:00",
          "2023-06-22T00:00:00",
          "2023-06-23T00:00:00",
          "2023-06-26T00:00:00",
          "2023-06-27T00:00:00",
          "2023-06-28T00:00:00",
          "2023-06-29T00:00:00",
          "2023-06-30T00:00:00",
          "2023-07-01T00:00:00",
          "2023-07-04T00:00:00",
          "2023-07-05T00:00:00",
          "2023-07-06T00:00:00",
          "2023-07-07T00:00:00",
          "2023-07-08T00:00:00",
          "2023-07-10T00:00:00",
          "2023-07-12T00:00:00",
          "2023-07-14T00:00:00",
          "2023-07-17T00:00:00",
          "2023-07-19T00:00:00",
          "2023-07-24T00:00:00",
          "2023-07-25T00:00:00",
          "2023-07-26T00:00:00",
          "2023-07-27T00:00:00",
          "2023-07-28T00:00:00",
          "2023-07-29T00:00:00",
          "2023-07-30T00:00:00",
          "2023-07-31T00:00:00",
          "2023-08-01T00:00:00",
          "2023-08-02T00:00:00",
          "2023-08-03T00:00:00",
          "2023-08-04T00:00:00",
          "2023-08-05T00:00:00",
          "2023-08-08T00:00:00",
          "2023-08-10T00:00:00",
          "2023-08-11T00:00:00",
          "2023-08-12T00:00:00",
          "2023-08-14T00:00:00",
          "2023-08-17T00:00:00",
          "2023-08-18T00:00:00",
          "2023-08-19T00:00:00",
          "2023-08-22T00:00:00",
          "2023-08-24T00:00:00",
          "2023-08-25T00:00:00",
          "2023-08-26T00:00:00",
          "2023-08-28T00:00:00",
          "2023-08-29T00:00:00",
          "2023-08-30T00:00:00",
          "2023-08-31T00:00:00",
          "2023-09-01T00:00:00",
          "2023-09-05T00:00:00",
          "2023-09-06T00:00:00",
          "2023-09-08T00:00:00",
          "2023-09-09T00:00:00",
          "2023-09-11T00:00:00",
          "2023-09-12T00:00:00",
          "2023-09-13T00:00:00",
          "2023-09-14T00:00:00",
          "2023-09-15T00:00:00",
          "2023-09-16T00:00:00",
          "2023-09-19T00:00:00",
          "2023-09-20T00:00:00",
          "2023-09-21T00:00:00",
          "2023-09-22T00:00:00",
          "2023-09-23T00:00:00",
          "2023-09-25T00:00:00",
          "2023-09-26T00:00:00",
          "2023-09-28T00:00:00",
          "2023-09-30T00:00:00",
          "2023-10-02T00:00:00",
          "2023-10-04T00:00:00",
          "2023-10-05T00:00:00",
          "2023-10-06T00:00:00",
          "2023-10-07T00:00:00",
          "2023-10-09T00:00:00",
          "2023-10-10T00:00:00",
          "2023-10-11T00:00:00",
          "2023-10-12T00:00:00",
          "2023-10-13T00:00:00",
          "2023-10-14T00:00:00",
          "2023-10-17T00:00:00",
          "2023-10-18T00:00:00",
          "2023-10-19T00:00:00",
          "2023-10-20T00:00:00",
          "2023-10-24T00:00:00",
          "2023-10-26T00:00:00",
          "2023-10-27T00:00:00",
          "2023-10-30T00:00:00",
          "2023-10-31T00:00:00",
          "2023-11-01T00:00:00",
          "2023-11-03T00:00:00",
          "2023-11-07T00:00:00",
          "2023-11-08T00:00:00",
          "2023-11-09T00:00:00",
          "2023-11-10T00:00:00",
          "2023-11-11T00:00:00",
          "2023-11-14T00:00:00",
          "2023-11-15T00:00:00",
          "2023-11-16T00:00:00",
          "2023-11-17T00:00:00",
          "2023-11-20T00:00:00",
          "2023-11-21T00:00:00",
          "2023-11-22T00:00:00",
          "2023-11-23T00:00:00",
          "2023-11-24T00:00:00",
          "2023-11-27T00:00:00",
          "2023-11-28T00:00:00",
          "2023-11-29T00:00:00",
          "2023-11-30T00:00:00",
          "2023-12-01T00:00:00",
          "2023-12-02T00:00:00",
          "2023-12-04T00:00:00",
          "2023-12-06T00:00:00",
          "2023-12-07T00:00:00",
          "2023-12-08T00:00:00",
          "2023-12-12T00:00:00",
          "2023-12-13T00:00:00",
          "2023-12-14T00:00:00",
          "2023-12-15T00:00:00",
          "2023-12-20T00:00:00",
          "2023-12-21T00:00:00",
          "2023-12-22T00:00:00",
          "2023-12-26T00:00:00",
          "2023-12-31T00:00:00",
          "2024-01-05T00:00:00",
          "2024-01-06T00:00:00",
          "2024-01-09T00:00:00",
          "2024-01-10T00:00:00",
          "2024-01-11T00:00:00",
          "2024-01-12T00:00:00",
          "2024-01-13T00:00:00",
          "2024-01-16T00:00:00",
          "2024-01-17T00:00:00",
          "2024-01-18T00:00:00",
          "2024-01-19T00:00:00",
          "2024-01-20T00:00:00",
          "2024-01-22T00:00:00",
          "2024-01-23T00:00:00",
          "2024-01-24T00:00:00",
          "2024-01-25T00:00:00"
         ],
         "xaxis": "x",
         "y": [
          334,
          360.90909090909093,
          363,
          350.55555555555554,
          358.5833333333333,
          337,
          354,
          236.33333333333334,
          353,
          353,
          313.77777777777777,
          350,
          347.39130434782606,
          279.5,
          345.8,
          342.1666666666667,
          343.85714285714283,
          315.875,
          341.875,
          226,
          335.7142857142857,
          321.1666666666667,
          335,
          335,
          332,
          327.4,
          299.0769230769231,
          328.4,
          327,
          321.3333333333333,
          289.625,
          323.45454545454544,
          1469,
          297.57142857142856,
          319.61538461538464,
          30,
          317.3333333333333,
          285.46153846153845,
          315.8333333333333,
          315,
          307.32142857142856,
          311,
          218,
          308.77777777777777,
          281.3333333333333,
          304.6666666666667,
          303.75,
          302.5,
          1015,
          275.84615384615387,
          295.44444444444446,
          294,
          292.6,
          129,
          287.75,
          277,
          272.5,
          33,
          259.3333333333333,
          258,
          258,
          255.33333333333334,
          254,
          127,
          249,
          251.66666666666666,
          232,
          341,
          1381,
          204.66666666666666,
          1,
          218.66666666666666,
          213,
          180,
          364,
          207,
          202.875,
          197.86666666666667,
          196,
          191,
          188.66666666666666,
          34,
          107.5,
          82.66666666666667,
          179,
          105,
          169,
          77.33333333333333,
          21,
          154.66666666666666,
          163.5,
          161,
          160.5,
          155,
          118.75,
          156,
          154.5,
          150.0625,
          107.2,
          97.77777777777777,
          119.26666666666667,
          139.8,
          142,
          130.83333333333334,
          140,
          134.93333333333334,
          119,
          134,
          125.04761904761905,
          119.72222222222223,
          127.75,
          120.22222222222223,
          116.6,
          125,
          122.92857142857143,
          121.83333333333333,
          120.75,
          119.6,
          118.5,
          116,
          114,
          112.75,
          147.57142857142858,
          108.91666666666667,
          107,
          106,
          100.4,
          99,
          86.66666666666667,
          233.5,
          94,
          87,
          92,
          91,
          89.5,
          86.33333333333333,
          81.2,
          84,
          82,
          75.33333333333333,
          241.5,
          28,
          59.8,
          414,
          58.714285714285715,
          59.42857142857143,
          69,
          47.5,
          125.2,
          63,
          62,
          181.625,
          54.4,
          56,
          52.42857142857143,
          50,
          49.833333333333336,
          48.875,
          49.5,
          57.9,
          204.5,
          94.15384615384616,
          36.714285714285715,
          37.42857142857143,
          103,
          35.5,
          35,
          33.666666666666664,
          31.5,
          30.75,
          29.2,
          27.4,
          22,
          16,
          48.291666666666664,
          14,
          10.5,
          365,
          321.57142857142856,
          288.8235294117647,
          369,
          609.5,
          359,
          358.75,
          289,
          357,
          335.1666666666667,
          346.55555555555554,
          326.8235294117647,
          352,
          305.9,
          348,
          314.4,
          329.25,
          324.5,
          321.11764705882354,
          306.35714285714283,
          317.84615384615387,
          306.55,
          265,
          266.5,
          296.3333333333333,
          249,
          331,
          249.42857142857142,
          237.64285714285714,
          243.625,
          264.5,
          196.1,
          253.72727272727272,
          213.9090909090909,
          223.4,
          239.44444444444446,
          274.6666666666667,
          258.75,
          237.33333333333334,
          249.21428571428572,
          232.0909090909091,
          273.1333333333333,
          251.1818181818182,
          292,
          269.75,
          278.1666666666667,
          288,
          281.64285714285717,
          294,
          291,
          227.88888888888889,
          217.42857142857142,
          246.9,
          233.33333333333334,
          214,
          280,
          213.66666666666666,
          188.72727272727272,
          172.88235294117646,
          233.5,
          178.5,
          153,
          196.6,
          172.57142857142858,
          227.83333333333334,
          242.5,
          233,
          242,
          151,
          216,
          248,
          220,
          241.4,
          241,
          239,
          208.33333333333334,
          226,
          219,
          157.8,
          226,
          461.3333333333333,
          220,
          176.33333333333334,
          209.66666666666666,
          211,
          382.3333333333333,
          205,
          202.3,
          437.3333333333333,
          195.85714285714286,
          194,
          196,
          192,
          160.42857142857142,
          136.66666666666666,
          188.5,
          1150.5,
          186,
          183,
          181.16666666666666,
          182,
          177,
          176,
          171,
          165.70833333333334,
          168,
          167,
          164.75,
          1095,
          162.2,
          161,
          160.25,
          157.66666666666666,
          155.73684210526315,
          172.05263157894737,
          151,
          149.16666666666666,
          148,
          139.125,
          139.8,
          137,
          136,
          134.5,
          141,
          118,
          129,
          128,
          126,
          123,
          122,
          110,
          108,
          102.8,
          104,
          105.5,
          101.5,
          87,
          101.66666666666667,
          104.125,
          104.61538461538461,
          71.5,
          99,
          98,
          96,
          98.28571428571429,
          97,
          95.4,
          94.2,
          162.54545454545453,
          92,
          91.83333333333333,
          85.66666666666667,
          83.26315789473684,
          81.33333333333333,
          80.16666666666667,
          70.4,
          78.25,
          69,
          75.85714285714286,
          73.125,
          72,
          68.83333333333333,
          70.33333333333333,
          69.25,
          67.2,
          66,
          63.666666666666664,
          63,
          58.857142857142854,
          57,
          56.166666666666664,
          466,
          53,
          52.25,
          51,
          130.25,
          49,
          45.666666666666664,
          44.166666666666664,
          43.2,
          40,
          86.28571428571429,
          37.4,
          74.11111111111111,
          35,
          146.66666666666666,
          32,
          31.428571428571427,
          30.833333333333332,
          42.7,
          28.666666666666668,
          26,
          22.833333333333332,
          22,
          21.333333333333332,
          18.333333333333332,
          17,
          99,
          11,
          10,
          1779,
          2,
          346,
          300.85714285714283,
          341.10526315789474,
          339.42857142857144,
          341.93333333333334,
          319.1818181818182,
          333.30434782608694,
          321.24,
          327.44,
          314.7959183673469,
          327.03846153846155,
          311.9142857142857,
          316.15,
          307.4,
          306.2878787878788,
          288.7,
          296.12931034482756,
          294.175,
          318,
          287.9148936170213,
          233.5,
          72,
          69,
          184.66666666666666,
          535,
          231,
          199,
          201,
          234,
          153,
          71,
          33,
          538,
          166,
          437,
          158,
          143,
          80.5,
          63,
          149,
          130,
          148,
          99,
          136,
          122,
          136,
          132,
          115,
          126.83333333333333,
          129,
          111,
          132.75,
          119,
          120.5,
          103.4,
          107.11111111111111,
          104,
          100,
          99,
          110,
          52,
          102,
          98,
          94,
          59.5,
          81,
          87,
          73,
          69.72727272727273,
          72.5,
          61.5,
          78,
          63,
          72.66666666666667,
          72,
          69,
          68,
          61,
          59,
          53.25,
          104.16666666666667,
          51.25,
          50,
          49,
          46,
          68.92307692307692,
          43,
          43,
          38,
          690,
          31.75,
          30.714285714285715,
          28,
          25.11111111111111,
          25,
          21.333333333333332,
          17,
          16,
          15.333333333333334,
          11.75,
          12,
          11,
          10,
          6,
          487.3333333333333,
          4,
          171.13333333333333,
          351.3333333333333,
          104,
          283.27272727272725,
          284,
          280.69565217391306,
          279.3404255319149,
          306.0625,
          323.6,
          328.2857142857143,
          290.6862745098039,
          309,
          268.4736842105263,
          309.22222222222223,
          216,
          308.96153846153845,
          325.57142857142856,
          333,
          271,
          276.84615384615387,
          256.6666666666667,
          309.5,
          267.1666666666667,
          325.5,
          304.6666666666667,
          275,
          267.5,
          305.09090909090907,
          305.57142857142856,
          414.4166666666667,
          260.0833333333333,
          249.4,
          254.83333333333334,
          286.5,
          271.5,
          246.66666666666666,
          308.5,
          306.5,
          229,
          279.5,
          283.14285714285717,
          297.8888888888889,
          303,
          227.7,
          247,
          281.5,
          254.42857142857142,
          290.25,
          206.66666666666666,
          154,
          230,
          243.875,
          265.5,
          235,
          207,
          220.14285714285714,
          281.8333333333333,
          283,
          260,
          216.125,
          276.5,
          255.0909090909091,
          274.8333333333333,
          264.5,
          270.75,
          1096,
          215,
          261.5,
          262,
          258,
          255.25,
          255,
          144,
          213.5,
          122,
          157,
          228.83333333333334,
          246.25,
          195,
          235.76190476190476,
          243.42857142857142,
          142.3,
          236,
          167.25,
          214.84615384615384,
          232.66666666666666,
          208,
          218.78571428571428,
          227.35714285714286,
          227.86666666666667,
          226.72727272727272,
          226,
          219.4,
          210.3846153846154,
          220.66666666666666,
          300.7857142857143,
          216.73333333333332,
          214.28571428571428,
          580,
          212.875,
          209.71428571428572,
          208.90625,
          210.625,
          206.875,
          181.7,
          201.95,
          201,
          199.61904761904762,
          198.75,
          193.66666666666666,
          193.875,
          192,
          191.9090909090909,
          188.9375,
          188,
          169.75,
          243.25,
          169.5,
          183.25,
          105,
          225.125,
          178,
          178,
          177,
          725.3333333333334,
          157,
          157.28571428571428,
          167,
          162.9,
          160.5,
          159.66666666666666,
          158.5,
          158,
          154.45833333333334,
          153,
          155,
          154,
          150.08333333333334,
          166,
          151,
          139.33333333333334,
          140.66666666666666,
          146,
          136.73333333333332,
          131.25,
          133.72727272727272,
          128.42857142857142,
          135.92857142857142,
          133,
          135,
          132,
          128.72727272727272,
          128.5,
          119.53846153846153,
          120.57142857142857,
          124.66666666666667,
          124,
          114.15384615384616,
          122,
          112.2,
          110.89473684210526,
          103.78947368421052,
          88.5,
          101.4,
          61,
          108.125,
          100.66666666666667,
          97,
          106.33333333333333,
          103.6,
          102.5,
          445.8,
          91.55555555555556,
          99,
          62,
          95.88888888888889,
          90.21428571428571,
          87.0909090909091,
          90,
          85.125,
          127.66666666666667,
          84.83333333333333,
          86,
          72,
          82.5,
          81.57142857142857,
          80.5,
          79.44444444444444,
          78.5,
          75.4,
          120.75,
          73.5,
          72.25,
          63,
          67,
          64.5,
          61.5,
          61.5,
          61,
          57.5,
          53.3,
          49.2,
          52,
          51.5,
          51,
          43.888888888888886,
          44.5,
          37,
          52.333333333333336,
          41,
          38.57142857142857,
          40,
          38.57142857142857,
          123.25,
          34.5,
          34,
          31.333333333333332,
          30.428571428571427,
          30.75,
          29.333333333333332,
          67,
          26,
          24.375,
          34.45454545454545,
          19.333333333333332,
          18.5,
          139,
          1051.9,
          12,
          152,
          156,
          14.666666666666666,
          250,
          362,
          307.2173913043478,
          352.5,
          349.0740740740741,
          329.09090909090907,
          337.6333333333333,
          346.8333333333333,
          314.18367346938777,
          332.6969696969697,
          287.59375,
          338.0769230769231,
          272,
          344,
          293.8,
          311.7142857142857,
          301.7
         ],
         "yaxis": "y"
        }
       ],
       "layout": {
        "legend": {
         "tracegroupgap": 0
        },
        "template": {
         "data": {
          "bar": [
           {
            "error_x": {
             "color": "#2a3f5f"
            },
            "error_y": {
             "color": "#2a3f5f"
            },
            "marker": {
             "line": {
              "color": "#E5ECF6",
              "width": 0.5
             },
             "pattern": {
              "fillmode": "overlay",
              "size": 10,
              "solidity": 0.2
             }
            },
            "type": "bar"
           }
          ],
          "barpolar": [
           {
            "marker": {
             "line": {
              "color": "#E5ECF6",
              "width": 0.5
             },
             "pattern": {
              "fillmode": "overlay",
              "size": 10,
              "solidity": 0.2
             }
            },
            "type": "barpolar"
           }
          ],
          "carpet": [
           {
            "aaxis": {
             "endlinecolor": "#2a3f5f",
             "gridcolor": "white",
             "linecolor": "white",
             "minorgridcolor": "white",
             "startlinecolor": "#2a3f5f"
            },
            "baxis": {
             "endlinecolor": "#2a3f5f",
             "gridcolor": "white",
             "linecolor": "white",
             "minorgridcolor": "white",
             "startlinecolor": "#2a3f5f"
            },
            "type": "carpet"
           }
          ],
          "choropleth": [
           {
            "colorbar": {
             "outlinewidth": 0,
             "ticks": ""
            },
            "type": "choropleth"
           }
          ],
          "contour": [
           {
            "colorbar": {
             "outlinewidth": 0,
             "ticks": ""
            },
            "colorscale": [
             [
              0,
              "#0d0887"
             ],
             [
              0.1111111111111111,
              "#46039f"
             ],
             [
              0.2222222222222222,
              "#7201a8"
             ],
             [
              0.3333333333333333,
              "#9c179e"
             ],
             [
              0.4444444444444444,
              "#bd3786"
             ],
             [
              0.5555555555555556,
              "#d8576b"
             ],
             [
              0.6666666666666666,
              "#ed7953"
             ],
             [
              0.7777777777777778,
              "#fb9f3a"
             ],
             [
              0.8888888888888888,
              "#fdca26"
             ],
             [
              1,
              "#f0f921"
             ]
            ],
            "type": "contour"
           }
          ],
          "contourcarpet": [
           {
            "colorbar": {
             "outlinewidth": 0,
             "ticks": ""
            },
            "type": "contourcarpet"
           }
          ],
          "heatmap": [
           {
            "colorbar": {
             "outlinewidth": 0,
             "ticks": ""
            },
            "colorscale": [
             [
              0,
              "#0d0887"
             ],
             [
              0.1111111111111111,
              "#46039f"
             ],
             [
              0.2222222222222222,
              "#7201a8"
             ],
             [
              0.3333333333333333,
              "#9c179e"
             ],
             [
              0.4444444444444444,
              "#bd3786"
             ],
             [
              0.5555555555555556,
              "#d8576b"
             ],
             [
              0.6666666666666666,
              "#ed7953"
             ],
             [
              0.7777777777777778,
              "#fb9f3a"
             ],
             [
              0.8888888888888888,
              "#fdca26"
             ],
             [
              1,
              "#f0f921"
             ]
            ],
            "type": "heatmap"
           }
          ],
          "heatmapgl": [
           {
            "colorbar": {
             "outlinewidth": 0,
             "ticks": ""
            },
            "colorscale": [
             [
              0,
              "#0d0887"
             ],
             [
              0.1111111111111111,
              "#46039f"
             ],
             [
              0.2222222222222222,
              "#7201a8"
             ],
             [
              0.3333333333333333,
              "#9c179e"
             ],
             [
              0.4444444444444444,
              "#bd3786"
             ],
             [
              0.5555555555555556,
              "#d8576b"
             ],
             [
              0.6666666666666666,
              "#ed7953"
             ],
             [
              0.7777777777777778,
              "#fb9f3a"
             ],
             [
              0.8888888888888888,
              "#fdca26"
             ],
             [
              1,
              "#f0f921"
             ]
            ],
            "type": "heatmapgl"
           }
          ],
          "histogram": [
           {
            "marker": {
             "pattern": {
              "fillmode": "overlay",
              "size": 10,
              "solidity": 0.2
             }
            },
            "type": "histogram"
           }
          ],
          "histogram2d": [
           {
            "colorbar": {
             "outlinewidth": 0,
             "ticks": ""
            },
            "colorscale": [
             [
              0,
              "#0d0887"
             ],
             [
              0.1111111111111111,
              "#46039f"
             ],
             [
              0.2222222222222222,
              "#7201a8"
             ],
             [
              0.3333333333333333,
              "#9c179e"
             ],
             [
              0.4444444444444444,
              "#bd3786"
             ],
             [
              0.5555555555555556,
              "#d8576b"
             ],
             [
              0.6666666666666666,
              "#ed7953"
             ],
             [
              0.7777777777777778,
              "#fb9f3a"
             ],
             [
              0.8888888888888888,
              "#fdca26"
             ],
             [
              1,
              "#f0f921"
             ]
            ],
            "type": "histogram2d"
           }
          ],
          "histogram2dcontour": [
           {
            "colorbar": {
             "outlinewidth": 0,
             "ticks": ""
            },
            "colorscale": [
             [
              0,
              "#0d0887"
             ],
             [
              0.1111111111111111,
              "#46039f"
             ],
             [
              0.2222222222222222,
              "#7201a8"
             ],
             [
              0.3333333333333333,
              "#9c179e"
             ],
             [
              0.4444444444444444,
              "#bd3786"
             ],
             [
              0.5555555555555556,
              "#d8576b"
             ],
             [
              0.6666666666666666,
              "#ed7953"
             ],
             [
              0.7777777777777778,
              "#fb9f3a"
             ],
             [
              0.8888888888888888,
              "#fdca26"
             ],
             [
              1,
              "#f0f921"
             ]
            ],
            "type": "histogram2dcontour"
           }
          ],
          "mesh3d": [
           {
            "colorbar": {
             "outlinewidth": 0,
             "ticks": ""
            },
            "type": "mesh3d"
           }
          ],
          "parcoords": [
           {
            "line": {
             "colorbar": {
              "outlinewidth": 0,
              "ticks": ""
             }
            },
            "type": "parcoords"
           }
          ],
          "pie": [
           {
            "automargin": true,
            "type": "pie"
           }
          ],
          "scatter": [
           {
            "fillpattern": {
             "fillmode": "overlay",
             "size": 10,
             "solidity": 0.2
            },
            "type": "scatter"
           }
          ],
          "scatter3d": [
           {
            "line": {
             "colorbar": {
              "outlinewidth": 0,
              "ticks": ""
             }
            },
            "marker": {
             "colorbar": {
              "outlinewidth": 0,
              "ticks": ""
             }
            },
            "type": "scatter3d"
           }
          ],
          "scattercarpet": [
           {
            "marker": {
             "colorbar": {
              "outlinewidth": 0,
              "ticks": ""
             }
            },
            "type": "scattercarpet"
           }
          ],
          "scattergeo": [
           {
            "marker": {
             "colorbar": {
              "outlinewidth": 0,
              "ticks": ""
             }
            },
            "type": "scattergeo"
           }
          ],
          "scattergl": [
           {
            "marker": {
             "colorbar": {
              "outlinewidth": 0,
              "ticks": ""
             }
            },
            "type": "scattergl"
           }
          ],
          "scattermapbox": [
           {
            "marker": {
             "colorbar": {
              "outlinewidth": 0,
              "ticks": ""
             }
            },
            "type": "scattermapbox"
           }
          ],
          "scatterpolar": [
           {
            "marker": {
             "colorbar": {
              "outlinewidth": 0,
              "ticks": ""
             }
            },
            "type": "scatterpolar"
           }
          ],
          "scatterpolargl": [
           {
            "marker": {
             "colorbar": {
              "outlinewidth": 0,
              "ticks": ""
             }
            },
            "type": "scatterpolargl"
           }
          ],
          "scatterternary": [
           {
            "marker": {
             "colorbar": {
              "outlinewidth": 0,
              "ticks": ""
             }
            },
            "type": "scatterternary"
           }
          ],
          "surface": [
           {
            "colorbar": {
             "outlinewidth": 0,
             "ticks": ""
            },
            "colorscale": [
             [
              0,
              "#0d0887"
             ],
             [
              0.1111111111111111,
              "#46039f"
             ],
             [
              0.2222222222222222,
              "#7201a8"
             ],
             [
              0.3333333333333333,
              "#9c179e"
             ],
             [
              0.4444444444444444,
              "#bd3786"
             ],
             [
              0.5555555555555556,
              "#d8576b"
             ],
             [
              0.6666666666666666,
              "#ed7953"
             ],
             [
              0.7777777777777778,
              "#fb9f3a"
             ],
             [
              0.8888888888888888,
              "#fdca26"
             ],
             [
              1,
              "#f0f921"
             ]
            ],
            "type": "surface"
           }
          ],
          "table": [
           {
            "cells": {
             "fill": {
              "color": "#EBF0F8"
             },
             "line": {
              "color": "white"
             }
            },
            "header": {
             "fill": {
              "color": "#C8D4E3"
             },
             "line": {
              "color": "white"
             }
            },
            "type": "table"
           }
          ]
         },
         "layout": {
          "annotationdefaults": {
           "arrowcolor": "#2a3f5f",
           "arrowhead": 0,
           "arrowwidth": 1
          },
          "autotypenumbers": "strict",
          "coloraxis": {
           "colorbar": {
            "outlinewidth": 0,
            "ticks": ""
           }
          },
          "colorscale": {
           "diverging": [
            [
             0,
             "#8e0152"
            ],
            [
             0.1,
             "#c51b7d"
            ],
            [
             0.2,
             "#de77ae"
            ],
            [
             0.3,
             "#f1b6da"
            ],
            [
             0.4,
             "#fde0ef"
            ],
            [
             0.5,
             "#f7f7f7"
            ],
            [
             0.6,
             "#e6f5d0"
            ],
            [
             0.7,
             "#b8e186"
            ],
            [
             0.8,
             "#7fbc41"
            ],
            [
             0.9,
             "#4d9221"
            ],
            [
             1,
             "#276419"
            ]
           ],
           "sequential": [
            [
             0,
             "#0d0887"
            ],
            [
             0.1111111111111111,
             "#46039f"
            ],
            [
             0.2222222222222222,
             "#7201a8"
            ],
            [
             0.3333333333333333,
             "#9c179e"
            ],
            [
             0.4444444444444444,
             "#bd3786"
            ],
            [
             0.5555555555555556,
             "#d8576b"
            ],
            [
             0.6666666666666666,
             "#ed7953"
            ],
            [
             0.7777777777777778,
             "#fb9f3a"
            ],
            [
             0.8888888888888888,
             "#fdca26"
            ],
            [
             1,
             "#f0f921"
            ]
           ],
           "sequentialminus": [
            [
             0,
             "#0d0887"
            ],
            [
             0.1111111111111111,
             "#46039f"
            ],
            [
             0.2222222222222222,
             "#7201a8"
            ],
            [
             0.3333333333333333,
             "#9c179e"
            ],
            [
             0.4444444444444444,
             "#bd3786"
            ],
            [
             0.5555555555555556,
             "#d8576b"
            ],
            [
             0.6666666666666666,
             "#ed7953"
            ],
            [
             0.7777777777777778,
             "#fb9f3a"
            ],
            [
             0.8888888888888888,
             "#fdca26"
            ],
            [
             1,
             "#f0f921"
            ]
           ]
          },
          "colorway": [
           "#636efa",
           "#EF553B",
           "#00cc96",
           "#ab63fa",
           "#FFA15A",
           "#19d3f3",
           "#FF6692",
           "#B6E880",
           "#FF97FF",
           "#FECB52"
          ],
          "font": {
           "color": "#2a3f5f"
          },
          "geo": {
           "bgcolor": "white",
           "lakecolor": "white",
           "landcolor": "#E5ECF6",
           "showlakes": true,
           "showland": true,
           "subunitcolor": "white"
          },
          "hoverlabel": {
           "align": "left"
          },
          "hovermode": "closest",
          "mapbox": {
           "style": "light"
          },
          "paper_bgcolor": "white",
          "plot_bgcolor": "#E5ECF6",
          "polar": {
           "angularaxis": {
            "gridcolor": "white",
            "linecolor": "white",
            "ticks": ""
           },
           "bgcolor": "#E5ECF6",
           "radialaxis": {
            "gridcolor": "white",
            "linecolor": "white",
            "ticks": ""
           }
          },
          "scene": {
           "xaxis": {
            "backgroundcolor": "#E5ECF6",
            "gridcolor": "white",
            "gridwidth": 2,
            "linecolor": "white",
            "showbackground": true,
            "ticks": "",
            "zerolinecolor": "white"
           },
           "yaxis": {
            "backgroundcolor": "#E5ECF6",
            "gridcolor": "white",
            "gridwidth": 2,
            "linecolor": "white",
            "showbackground": true,
            "ticks": "",
            "zerolinecolor": "white"
           },
           "zaxis": {
            "backgroundcolor": "#E5ECF6",
            "gridcolor": "white",
            "gridwidth": 2,
            "linecolor": "white",
            "showbackground": true,
            "ticks": "",
            "zerolinecolor": "white"
           }
          },
          "shapedefaults": {
           "line": {
            "color": "#2a3f5f"
           }
          },
          "ternary": {
           "aaxis": {
            "gridcolor": "white",
            "linecolor": "white",
            "ticks": ""
           },
           "baxis": {
            "gridcolor": "white",
            "linecolor": "white",
            "ticks": ""
           },
           "bgcolor": "#E5ECF6",
           "caxis": {
            "gridcolor": "white",
            "linecolor": "white",
            "ticks": ""
           }
          },
          "title": {
           "x": 0.05
          },
          "xaxis": {
           "automargin": true,
           "gridcolor": "white",
           "linecolor": "white",
           "ticks": "",
           "title": {
            "standoff": 15
           },
           "zerolinecolor": "white",
           "zerolinewidth": 2
          },
          "yaxis": {
           "automargin": true,
           "gridcolor": "white",
           "linecolor": "white",
           "ticks": "",
           "title": {
            "standoff": 15
           },
           "zerolinecolor": "white",
           "zerolinewidth": 2
          }
         }
        },
        "title": {
         "text": "Promedio días entre la fecha de firma de contrato y fecha fin de contrato ESAP año 2020 - 2024"
        },
        "xaxis": {
         "anchor": "y",
         "domain": [
          0,
          1
         ],
         "title": {
          "text": "fecha_de_firma"
         }
        },
        "yaxis": {
         "anchor": "x",
         "domain": [
          0,
          1
         ],
         "title": {
          "text": "Promedio Tiempo entre firma y fin (días)"
         }
        }
       }
      }
     },
     "metadata": {},
     "output_type": "display_data"
    }
   ],
   "source": [
    "# Calcular el promedio de tiempo entre firma y fecha final del contrato\n",
    "promedio_tiempo_por_dia = secop.groupby('fecha_de_firma')['tiempo_entre_firma_fin_dia'].mean().reset_index()\n",
    "\n",
    "# Crear una gráfica lineal del promedio del tiempo entre firma y fin por día\n",
    "fig = px.line(promedio_tiempo_por_dia, x='fecha_de_firma', y='tiempo_entre_firma_fin_dia',\n",
    "              labels={'tiempo_entre_firma_fin_dia': 'Promedio Tiempo entre firma y fin (días)'},\n",
    "              title='Promedio días entre la fecha de firma de contrato y fecha fin de contrato ESAP año 2020 - 2024')\n",
    "\n",
    "# Mostrar la gráfica\n",
    "fig.show()"
   ]
  },
  {
   "cell_type": "markdown",
   "metadata": {},
   "source": [
    "_Tiempo entre la fecha de firma de contrato y fecha fin de contrato ESAP año 2020 - 2024 (meses)_"
   ]
  },
  {
   "cell_type": "code",
   "execution_count": 433,
   "metadata": {},
   "outputs": [
    {
     "name": "stdout",
     "output_type": "stream",
     "text": [
      "  fecha_de_firma fecha_de_fin_del_contrato  tiempo_entre_firma_fin_meses\n",
      "0     2024-01-23                2024-10-22                             8\n",
      "1     2021-01-10                2021-08-31                             7\n",
      "2     2023-01-13                2023-05-01                             3\n",
      "3     2023-02-15                2024-01-01                            10\n",
      "4     2021-09-29                2021-12-31                             3\n"
     ]
    }
   ],
   "source": [
    "# Convertir las fechas a datetime\n",
    "secop['fecha_de_firma'] = pd.to_datetime(secop['fecha_de_firma'])\n",
    "secop['fecha_de_fin_del_contrato'] = pd.to_datetime(secop['fecha_de_fin_del_contrato'])\n",
    "\n",
    "# Calcular la diferencia en días y luego convertir a meses\n",
    "diferencia_dias = (secop['fecha_de_fin_del_contrato'] - secop['fecha_de_firma']).dt.days\n",
    "secop['tiempo_entre_firma_fin_meses'] = (diferencia_dias / 30.44).astype(int)\n",
    "\n",
    "# Mostrar el resultado\n",
    "print(secop[['fecha_de_firma', 'fecha_de_fin_del_contrato', 'tiempo_entre_firma_fin_meses']].head())"
   ]
  },
  {
   "cell_type": "code",
   "execution_count": 435,
   "metadata": {},
   "outputs": [
    {
     "name": "stdout",
     "output_type": "stream",
     "text": [
      "count   5,389\n",
      "mean        7\n",
      "std         5\n",
      "min         0\n",
      "25%         3\n",
      "50%         7\n",
      "75%        10\n",
      "max        84\n",
      "Name: tiempo_entre_firma_fin_meses, dtype: float64\n"
     ]
    }
   ],
   "source": [
    "# Mostrar estadísticas descriptivas del tiempo entre firma e inicio\n",
    "resumen_tiempo_firma_inicio = secop['tiempo_entre_firma_fin_meses'].describe()\n",
    "\n",
    "# Mostrar el resumen\n",
    "print(resumen_tiempo_firma_inicio)"
   ]
  },
  {
   "cell_type": "code",
   "execution_count": 436,
   "metadata": {},
   "outputs": [
    {
     "data": {
      "application/vnd.plotly.v1+json": {
       "config": {
        "plotlyServerURL": "https://plot.ly"
       },
       "data": [
        {
         "hovertemplate": "fecha_de_firma=%{x}<br>Promedio Tiempo entre firma y fin (meses)=%{y}<extra></extra>",
         "legendgroup": "",
         "line": {
          "color": "#636efa",
          "dash": "solid"
         },
         "marker": {
          "symbol": "circle"
         },
         "mode": "lines",
         "name": "",
         "orientation": "v",
         "showlegend": false,
         "type": "scatter",
         "x": [
          "2020-01-02T00:00:00",
          "2020-01-03T00:00:00",
          "2020-01-04T00:00:00",
          "2020-01-07T00:00:00",
          "2020-01-08T00:00:00",
          "2020-01-09T00:00:00",
          "2020-01-10T00:00:00",
          "2020-01-12T00:00:00",
          "2020-01-13T00:00:00",
          "2020-01-14T00:00:00",
          "2020-01-15T00:00:00",
          "2020-01-16T00:00:00",
          "2020-01-17T00:00:00",
          "2020-01-20T00:00:00",
          "2020-01-21T00:00:00",
          "2020-01-22T00:00:00",
          "2020-01-23T00:00:00",
          "2020-01-24T00:00:00",
          "2020-01-25T00:00:00",
          "2020-01-27T00:00:00",
          "2020-01-28T00:00:00",
          "2020-01-30T00:00:00",
          "2020-01-31T00:00:00",
          "2020-02-01T00:00:00",
          "2020-02-03T00:00:00",
          "2020-02-05T00:00:00",
          "2020-02-06T00:00:00",
          "2020-02-07T00:00:00",
          "2020-02-08T00:00:00",
          "2020-02-10T00:00:00",
          "2020-02-11T00:00:00",
          "2020-02-12T00:00:00",
          "2020-02-13T00:00:00",
          "2020-02-14T00:00:00",
          "2020-02-15T00:00:00",
          "2020-02-17T00:00:00",
          "2020-02-18T00:00:00",
          "2020-02-19T00:00:00",
          "2020-02-20T00:00:00",
          "2020-02-21T00:00:00",
          "2020-02-24T00:00:00",
          "2020-02-25T00:00:00",
          "2020-02-26T00:00:00",
          "2020-02-27T00:00:00",
          "2020-02-29T00:00:00",
          "2020-03-02T00:00:00",
          "2020-03-03T00:00:00",
          "2020-03-04T00:00:00",
          "2020-03-06T00:00:00",
          "2020-03-07T00:00:00",
          "2020-03-11T00:00:00",
          "2020-03-13T00:00:00",
          "2020-03-14T00:00:00",
          "2020-03-16T00:00:00",
          "2020-03-19T00:00:00",
          "2020-03-30T00:00:00",
          "2020-04-03T00:00:00",
          "2020-04-04T00:00:00",
          "2020-04-16T00:00:00",
          "2020-04-17T00:00:00",
          "2020-04-18T00:00:00",
          "2020-04-20T00:00:00",
          "2020-04-21T00:00:00",
          "2020-04-22T00:00:00",
          "2020-04-23T00:00:00",
          "2020-04-24T00:00:00",
          "2020-05-14T00:00:00",
          "2020-05-18T00:00:00",
          "2020-05-20T00:00:00",
          "2020-05-21T00:00:00",
          "2020-05-22T00:00:00",
          "2020-05-27T00:00:00",
          "2020-06-02T00:00:00",
          "2020-06-04T00:00:00",
          "2020-06-05T00:00:00",
          "2020-06-08T00:00:00",
          "2020-06-10T00:00:00",
          "2020-06-17T00:00:00",
          "2020-06-19T00:00:00",
          "2020-06-24T00:00:00",
          "2020-06-26T00:00:00",
          "2020-06-27T00:00:00",
          "2020-07-01T00:00:00",
          "2020-07-03T00:00:00",
          "2020-07-06T00:00:00",
          "2020-07-07T00:00:00",
          "2020-07-13T00:00:00",
          "2020-07-14T00:00:00",
          "2020-07-16T00:00:00",
          "2020-07-17T00:00:00",
          "2020-07-21T00:00:00",
          "2020-07-23T00:00:00",
          "2020-07-24T00:00:00",
          "2020-07-25T00:00:00",
          "2020-07-27T00:00:00",
          "2020-07-28T00:00:00",
          "2020-07-29T00:00:00",
          "2020-08-03T00:00:00",
          "2020-08-04T00:00:00",
          "2020-08-05T00:00:00",
          "2020-08-06T00:00:00",
          "2020-08-11T00:00:00",
          "2020-08-12T00:00:00",
          "2020-08-13T00:00:00",
          "2020-08-14T00:00:00",
          "2020-08-18T00:00:00",
          "2020-08-19T00:00:00",
          "2020-08-20T00:00:00",
          "2020-08-21T00:00:00",
          "2020-08-25T00:00:00",
          "2020-08-26T00:00:00",
          "2020-08-27T00:00:00",
          "2020-08-28T00:00:00",
          "2020-08-29T00:00:00",
          "2020-08-31T00:00:00",
          "2020-09-01T00:00:00",
          "2020-09-02T00:00:00",
          "2020-09-03T00:00:00",
          "2020-09-04T00:00:00",
          "2020-09-07T00:00:00",
          "2020-09-09T00:00:00",
          "2020-09-10T00:00:00",
          "2020-09-12T00:00:00",
          "2020-09-14T00:00:00",
          "2020-09-16T00:00:00",
          "2020-09-17T00:00:00",
          "2020-09-22T00:00:00",
          "2020-09-23T00:00:00",
          "2020-09-24T00:00:00",
          "2020-09-25T00:00:00",
          "2020-09-28T00:00:00",
          "2020-09-29T00:00:00",
          "2020-10-01T00:00:00",
          "2020-10-02T00:00:00",
          "2020-10-03T00:00:00",
          "2020-10-06T00:00:00",
          "2020-10-07T00:00:00",
          "2020-10-08T00:00:00",
          "2020-10-10T00:00:00",
          "2020-10-13T00:00:00",
          "2020-10-14T00:00:00",
          "2020-10-15T00:00:00",
          "2020-10-16T00:00:00",
          "2020-10-19T00:00:00",
          "2020-10-21T00:00:00",
          "2020-10-22T00:00:00",
          "2020-10-23T00:00:00",
          "2020-10-26T00:00:00",
          "2020-10-28T00:00:00",
          "2020-10-29T00:00:00",
          "2020-10-30T00:00:00",
          "2020-10-31T00:00:00",
          "2020-11-04T00:00:00",
          "2020-11-05T00:00:00",
          "2020-11-09T00:00:00",
          "2020-11-10T00:00:00",
          "2020-11-11T00:00:00",
          "2020-11-12T00:00:00",
          "2020-11-13T00:00:00",
          "2020-11-18T00:00:00",
          "2020-11-19T00:00:00",
          "2020-11-20T00:00:00",
          "2020-11-23T00:00:00",
          "2020-11-24T00:00:00",
          "2020-11-25T00:00:00",
          "2020-11-26T00:00:00",
          "2020-11-27T00:00:00",
          "2020-11-28T00:00:00",
          "2020-11-30T00:00:00",
          "2020-12-01T00:00:00",
          "2020-12-02T00:00:00",
          "2020-12-04T00:00:00",
          "2020-12-09T00:00:00",
          "2020-12-15T00:00:00",
          "2020-12-16T00:00:00",
          "2020-12-18T00:00:00",
          "2020-12-21T00:00:00",
          "2020-12-22T00:00:00",
          "2020-12-23T00:00:00",
          "2020-12-24T00:00:00",
          "2020-12-28T00:00:00",
          "2020-12-30T00:00:00",
          "2021-01-06T00:00:00",
          "2021-01-07T00:00:00",
          "2021-01-08T00:00:00",
          "2021-01-09T00:00:00",
          "2021-01-10T00:00:00",
          "2021-01-11T00:00:00",
          "2021-01-12T00:00:00",
          "2021-01-14T00:00:00",
          "2021-01-15T00:00:00",
          "2021-01-17T00:00:00",
          "2021-01-18T00:00:00",
          "2021-01-19T00:00:00",
          "2021-01-20T00:00:00",
          "2021-01-21T00:00:00",
          "2021-01-22T00:00:00",
          "2021-01-25T00:00:00",
          "2021-01-26T00:00:00",
          "2021-01-27T00:00:00",
          "2021-01-28T00:00:00",
          "2021-01-29T00:00:00",
          "2021-02-02T00:00:00",
          "2021-02-03T00:00:00",
          "2021-02-04T00:00:00",
          "2021-02-05T00:00:00",
          "2021-02-08T00:00:00",
          "2021-02-09T00:00:00",
          "2021-02-11T00:00:00",
          "2021-02-12T00:00:00",
          "2021-02-15T00:00:00",
          "2021-02-17T00:00:00",
          "2021-02-18T00:00:00",
          "2021-02-22T00:00:00",
          "2021-02-23T00:00:00",
          "2021-02-25T00:00:00",
          "2021-02-26T00:00:00",
          "2021-03-01T00:00:00",
          "2021-03-03T00:00:00",
          "2021-03-04T00:00:00",
          "2021-03-06T00:00:00",
          "2021-03-08T00:00:00",
          "2021-03-09T00:00:00",
          "2021-03-10T00:00:00",
          "2021-03-11T00:00:00",
          "2021-03-12T00:00:00",
          "2021-03-15T00:00:00",
          "2021-03-16T00:00:00",
          "2021-03-17T00:00:00",
          "2021-03-19T00:00:00",
          "2021-03-23T00:00:00",
          "2021-03-24T00:00:00",
          "2021-03-25T00:00:00",
          "2021-03-26T00:00:00",
          "2021-03-30T00:00:00",
          "2021-03-31T00:00:00",
          "2021-04-07T00:00:00",
          "2021-04-08T00:00:00",
          "2021-04-09T00:00:00",
          "2021-04-13T00:00:00",
          "2021-04-15T00:00:00",
          "2021-04-16T00:00:00",
          "2021-04-19T00:00:00",
          "2021-04-21T00:00:00",
          "2021-04-22T00:00:00",
          "2021-04-23T00:00:00",
          "2021-04-24T00:00:00",
          "2021-04-27T00:00:00",
          "2021-04-28T00:00:00",
          "2021-04-30T00:00:00",
          "2021-05-04T00:00:00",
          "2021-05-06T00:00:00",
          "2021-05-10T00:00:00",
          "2021-05-13T00:00:00",
          "2021-05-14T00:00:00",
          "2021-05-18T00:00:00",
          "2021-05-19T00:00:00",
          "2021-05-21T00:00:00",
          "2021-05-24T00:00:00",
          "2021-05-26T00:00:00",
          "2021-06-01T00:00:00",
          "2021-06-03T00:00:00",
          "2021-06-04T00:00:00",
          "2021-06-09T00:00:00",
          "2021-06-11T00:00:00",
          "2021-06-15T00:00:00",
          "2021-06-16T00:00:00",
          "2021-06-17T00:00:00",
          "2021-06-18T00:00:00",
          "2021-06-21T00:00:00",
          "2021-06-22T00:00:00",
          "2021-06-24T00:00:00",
          "2021-06-25T00:00:00",
          "2021-06-26T00:00:00",
          "2021-06-29T00:00:00",
          "2021-06-30T00:00:00",
          "2021-07-01T00:00:00",
          "2021-07-02T00:00:00",
          "2021-07-07T00:00:00",
          "2021-07-08T00:00:00",
          "2021-07-13T00:00:00",
          "2021-07-14T00:00:00",
          "2021-07-16T00:00:00",
          "2021-07-17T00:00:00",
          "2021-07-19T00:00:00",
          "2021-07-20T00:00:00",
          "2021-07-22T00:00:00",
          "2021-07-23T00:00:00",
          "2021-07-24T00:00:00",
          "2021-07-26T00:00:00",
          "2021-07-28T00:00:00",
          "2021-07-31T00:00:00",
          "2021-08-02T00:00:00",
          "2021-08-04T00:00:00",
          "2021-08-05T00:00:00",
          "2021-08-12T00:00:00",
          "2021-08-13T00:00:00",
          "2021-08-16T00:00:00",
          "2021-08-17T00:00:00",
          "2021-08-19T00:00:00",
          "2021-08-20T00:00:00",
          "2021-08-23T00:00:00",
          "2021-08-24T00:00:00",
          "2021-08-25T00:00:00",
          "2021-08-28T00:00:00",
          "2021-08-30T00:00:00",
          "2021-08-31T00:00:00",
          "2021-09-03T00:00:00",
          "2021-09-04T00:00:00",
          "2021-09-07T00:00:00",
          "2021-09-08T00:00:00",
          "2021-09-09T00:00:00",
          "2021-09-10T00:00:00",
          "2021-09-14T00:00:00",
          "2021-09-15T00:00:00",
          "2021-09-16T00:00:00",
          "2021-09-17T00:00:00",
          "2021-09-20T00:00:00",
          "2021-09-21T00:00:00",
          "2021-09-22T00:00:00",
          "2021-09-23T00:00:00",
          "2021-09-24T00:00:00",
          "2021-09-25T00:00:00",
          "2021-09-27T00:00:00",
          "2021-09-28T00:00:00",
          "2021-09-29T00:00:00",
          "2021-09-30T00:00:00",
          "2021-10-05T00:00:00",
          "2021-10-07T00:00:00",
          "2021-10-08T00:00:00",
          "2021-10-11T00:00:00",
          "2021-10-12T00:00:00",
          "2021-10-13T00:00:00",
          "2021-10-14T00:00:00",
          "2021-10-15T00:00:00",
          "2021-10-16T00:00:00",
          "2021-10-19T00:00:00",
          "2021-10-20T00:00:00",
          "2021-10-21T00:00:00",
          "2021-10-22T00:00:00",
          "2021-10-23T00:00:00",
          "2021-10-25T00:00:00",
          "2021-10-26T00:00:00",
          "2021-10-28T00:00:00",
          "2021-10-29T00:00:00",
          "2021-11-02T00:00:00",
          "2021-11-04T00:00:00",
          "2021-11-05T00:00:00",
          "2021-11-06T00:00:00",
          "2021-11-08T00:00:00",
          "2021-11-09T00:00:00",
          "2021-11-10T00:00:00",
          "2021-11-11T00:00:00",
          "2021-11-12T00:00:00",
          "2021-11-16T00:00:00",
          "2021-11-17T00:00:00",
          "2021-11-18T00:00:00",
          "2021-11-22T00:00:00",
          "2021-11-23T00:00:00",
          "2021-11-24T00:00:00",
          "2021-11-25T00:00:00",
          "2021-11-26T00:00:00",
          "2021-11-27T00:00:00",
          "2021-11-29T00:00:00",
          "2021-11-30T00:00:00",
          "2021-12-01T00:00:00",
          "2021-12-02T00:00:00",
          "2021-12-03T00:00:00",
          "2021-12-06T00:00:00",
          "2021-12-07T00:00:00",
          "2021-12-09T00:00:00",
          "2021-12-10T00:00:00",
          "2021-12-13T00:00:00",
          "2021-12-14T00:00:00",
          "2021-12-20T00:00:00",
          "2021-12-21T00:00:00",
          "2021-12-22T00:00:00",
          "2021-12-29T00:00:00",
          "2021-12-30T00:00:00",
          "2022-01-12T00:00:00",
          "2022-01-13T00:00:00",
          "2022-01-14T00:00:00",
          "2022-01-15T00:00:00",
          "2022-01-16T00:00:00",
          "2022-01-17T00:00:00",
          "2022-01-18T00:00:00",
          "2022-01-19T00:00:00",
          "2022-01-20T00:00:00",
          "2022-01-21T00:00:00",
          "2022-01-22T00:00:00",
          "2022-01-23T00:00:00",
          "2022-01-24T00:00:00",
          "2022-01-25T00:00:00",
          "2022-01-26T00:00:00",
          "2022-01-27T00:00:00",
          "2022-01-28T00:00:00",
          "2022-01-29T00:00:00",
          "2022-02-01T00:00:00",
          "2022-02-02T00:00:00",
          "2022-02-03T00:00:00",
          "2022-02-17T00:00:00",
          "2022-04-06T00:00:00",
          "2022-04-27T00:00:00",
          "2022-05-02T00:00:00",
          "2022-05-19T00:00:00",
          "2022-05-31T00:00:00",
          "2022-06-08T00:00:00",
          "2022-06-29T00:00:00",
          "2022-07-01T00:00:00",
          "2022-07-02T00:00:00",
          "2022-07-08T00:00:00",
          "2022-07-12T00:00:00",
          "2022-07-18T00:00:00",
          "2022-07-21T00:00:00",
          "2022-07-22T00:00:00",
          "2022-07-26T00:00:00",
          "2022-07-27T00:00:00",
          "2022-07-29T00:00:00",
          "2022-08-01T00:00:00",
          "2022-08-02T00:00:00",
          "2022-08-05T00:00:00",
          "2022-08-11T00:00:00",
          "2022-08-12T00:00:00",
          "2022-08-16T00:00:00",
          "2022-08-18T00:00:00",
          "2022-08-22T00:00:00",
          "2022-08-23T00:00:00",
          "2022-08-24T00:00:00",
          "2022-08-25T00:00:00",
          "2022-08-26T00:00:00",
          "2022-08-27T00:00:00",
          "2022-08-29T00:00:00",
          "2022-08-30T00:00:00",
          "2022-08-31T00:00:00",
          "2022-09-01T00:00:00",
          "2022-09-02T00:00:00",
          "2022-09-06T00:00:00",
          "2022-09-07T00:00:00",
          "2022-09-08T00:00:00",
          "2022-09-09T00:00:00",
          "2022-09-20T00:00:00",
          "2022-09-24T00:00:00",
          "2022-09-28T00:00:00",
          "2022-09-30T00:00:00",
          "2022-10-01T00:00:00",
          "2022-10-05T00:00:00",
          "2022-10-07T00:00:00",
          "2022-10-08T00:00:00",
          "2022-10-10T00:00:00",
          "2022-10-12T00:00:00",
          "2022-10-14T00:00:00",
          "2022-10-18T00:00:00",
          "2022-10-19T00:00:00",
          "2022-10-21T00:00:00",
          "2022-10-22T00:00:00",
          "2022-10-25T00:00:00",
          "2022-11-01T00:00:00",
          "2022-11-03T00:00:00",
          "2022-11-08T00:00:00",
          "2022-11-09T00:00:00",
          "2022-11-10T00:00:00",
          "2022-11-11T00:00:00",
          "2022-11-12T00:00:00",
          "2022-11-15T00:00:00",
          "2022-11-17T00:00:00",
          "2022-11-18T00:00:00",
          "2022-11-19T00:00:00",
          "2022-11-23T00:00:00",
          "2022-11-25T00:00:00",
          "2022-11-30T00:00:00",
          "2022-12-01T00:00:00",
          "2022-12-02T00:00:00",
          "2022-12-05T00:00:00",
          "2022-12-07T00:00:00",
          "2022-12-10T00:00:00",
          "2022-12-14T00:00:00",
          "2022-12-15T00:00:00",
          "2022-12-16T00:00:00",
          "2022-12-19T00:00:00",
          "2022-12-20T00:00:00",
          "2022-12-21T00:00:00",
          "2022-12-22T00:00:00",
          "2022-12-26T00:00:00",
          "2022-12-27T00:00:00",
          "2022-12-28T00:00:00",
          "2023-01-13T00:00:00",
          "2023-01-14T00:00:00",
          "2023-01-16T00:00:00",
          "2023-01-17T00:00:00",
          "2023-01-18T00:00:00",
          "2023-01-19T00:00:00",
          "2023-01-20T00:00:00",
          "2023-01-21T00:00:00",
          "2023-01-22T00:00:00",
          "2023-01-23T00:00:00",
          "2023-01-24T00:00:00",
          "2023-01-25T00:00:00",
          "2023-01-26T00:00:00",
          "2023-01-27T00:00:00",
          "2023-01-28T00:00:00",
          "2023-01-31T00:00:00",
          "2023-02-01T00:00:00",
          "2023-02-02T00:00:00",
          "2023-02-03T00:00:00",
          "2023-02-04T00:00:00",
          "2023-02-06T00:00:00",
          "2023-02-07T00:00:00",
          "2023-02-08T00:00:00",
          "2023-02-09T00:00:00",
          "2023-02-10T00:00:00",
          "2023-02-11T00:00:00",
          "2023-02-13T00:00:00",
          "2023-02-14T00:00:00",
          "2023-02-15T00:00:00",
          "2023-02-16T00:00:00",
          "2023-02-17T00:00:00",
          "2023-02-20T00:00:00",
          "2023-02-21T00:00:00",
          "2023-02-22T00:00:00",
          "2023-02-23T00:00:00",
          "2023-02-24T00:00:00",
          "2023-02-25T00:00:00",
          "2023-02-27T00:00:00",
          "2023-02-28T00:00:00",
          "2023-03-01T00:00:00",
          "2023-03-02T00:00:00",
          "2023-03-03T00:00:00",
          "2023-03-04T00:00:00",
          "2023-03-06T00:00:00",
          "2023-03-07T00:00:00",
          "2023-03-08T00:00:00",
          "2023-03-09T00:00:00",
          "2023-03-10T00:00:00",
          "2023-03-13T00:00:00",
          "2023-03-14T00:00:00",
          "2023-03-15T00:00:00",
          "2023-03-16T00:00:00",
          "2023-03-17T00:00:00",
          "2023-03-18T00:00:00",
          "2023-03-21T00:00:00",
          "2023-03-22T00:00:00",
          "2023-03-23T00:00:00",
          "2023-03-24T00:00:00",
          "2023-03-27T00:00:00",
          "2023-03-28T00:00:00",
          "2023-03-29T00:00:00",
          "2023-03-31T00:00:00",
          "2023-04-01T00:00:00",
          "2023-04-04T00:00:00",
          "2023-04-05T00:00:00",
          "2023-04-10T00:00:00",
          "2023-04-12T00:00:00",
          "2023-04-13T00:00:00",
          "2023-04-14T00:00:00",
          "2023-04-17T00:00:00",
          "2023-04-19T00:00:00",
          "2023-04-20T00:00:00",
          "2023-04-21T00:00:00",
          "2023-04-24T00:00:00",
          "2023-04-25T00:00:00",
          "2023-04-26T00:00:00",
          "2023-04-28T00:00:00",
          "2023-04-29T00:00:00",
          "2023-04-30T00:00:00",
          "2023-05-05T00:00:00",
          "2023-05-08T00:00:00",
          "2023-05-09T00:00:00",
          "2023-05-10T00:00:00",
          "2023-05-11T00:00:00",
          "2023-05-12T00:00:00",
          "2023-05-13T00:00:00",
          "2023-05-15T00:00:00",
          "2023-05-16T00:00:00",
          "2023-05-17T00:00:00",
          "2023-05-18T00:00:00",
          "2023-05-19T00:00:00",
          "2023-05-20T00:00:00",
          "2023-05-23T00:00:00",
          "2023-05-24T00:00:00",
          "2023-05-25T00:00:00",
          "2023-05-26T00:00:00",
          "2023-05-29T00:00:00",
          "2023-05-31T00:00:00",
          "2023-06-01T00:00:00",
          "2023-06-02T00:00:00",
          "2023-06-05T00:00:00",
          "2023-06-06T00:00:00",
          "2023-06-07T00:00:00",
          "2023-06-08T00:00:00",
          "2023-06-09T00:00:00",
          "2023-06-13T00:00:00",
          "2023-06-14T00:00:00",
          "2023-06-15T00:00:00",
          "2023-06-16T00:00:00",
          "2023-06-20T00:00:00",
          "2023-06-21T00:00:00",
          "2023-06-22T00:00:00",
          "2023-06-23T00:00:00",
          "2023-06-26T00:00:00",
          "2023-06-27T00:00:00",
          "2023-06-28T00:00:00",
          "2023-06-29T00:00:00",
          "2023-06-30T00:00:00",
          "2023-07-01T00:00:00",
          "2023-07-04T00:00:00",
          "2023-07-05T00:00:00",
          "2023-07-06T00:00:00",
          "2023-07-07T00:00:00",
          "2023-07-08T00:00:00",
          "2023-07-10T00:00:00",
          "2023-07-12T00:00:00",
          "2023-07-14T00:00:00",
          "2023-07-17T00:00:00",
          "2023-07-19T00:00:00",
          "2023-07-24T00:00:00",
          "2023-07-25T00:00:00",
          "2023-07-26T00:00:00",
          "2023-07-27T00:00:00",
          "2023-07-28T00:00:00",
          "2023-07-29T00:00:00",
          "2023-07-30T00:00:00",
          "2023-07-31T00:00:00",
          "2023-08-01T00:00:00",
          "2023-08-02T00:00:00",
          "2023-08-03T00:00:00",
          "2023-08-04T00:00:00",
          "2023-08-05T00:00:00",
          "2023-08-08T00:00:00",
          "2023-08-10T00:00:00",
          "2023-08-11T00:00:00",
          "2023-08-12T00:00:00",
          "2023-08-14T00:00:00",
          "2023-08-17T00:00:00",
          "2023-08-18T00:00:00",
          "2023-08-19T00:00:00",
          "2023-08-22T00:00:00",
          "2023-08-24T00:00:00",
          "2023-08-25T00:00:00",
          "2023-08-26T00:00:00",
          "2023-08-28T00:00:00",
          "2023-08-29T00:00:00",
          "2023-08-30T00:00:00",
          "2023-08-31T00:00:00",
          "2023-09-01T00:00:00",
          "2023-09-05T00:00:00",
          "2023-09-06T00:00:00",
          "2023-09-08T00:00:00",
          "2023-09-09T00:00:00",
          "2023-09-11T00:00:00",
          "2023-09-12T00:00:00",
          "2023-09-13T00:00:00",
          "2023-09-14T00:00:00",
          "2023-09-15T00:00:00",
          "2023-09-16T00:00:00",
          "2023-09-19T00:00:00",
          "2023-09-20T00:00:00",
          "2023-09-21T00:00:00",
          "2023-09-22T00:00:00",
          "2023-09-23T00:00:00",
          "2023-09-25T00:00:00",
          "2023-09-26T00:00:00",
          "2023-09-28T00:00:00",
          "2023-09-30T00:00:00",
          "2023-10-02T00:00:00",
          "2023-10-04T00:00:00",
          "2023-10-05T00:00:00",
          "2023-10-06T00:00:00",
          "2023-10-07T00:00:00",
          "2023-10-09T00:00:00",
          "2023-10-10T00:00:00",
          "2023-10-11T00:00:00",
          "2023-10-12T00:00:00",
          "2023-10-13T00:00:00",
          "2023-10-14T00:00:00",
          "2023-10-17T00:00:00",
          "2023-10-18T00:00:00",
          "2023-10-19T00:00:00",
          "2023-10-20T00:00:00",
          "2023-10-24T00:00:00",
          "2023-10-26T00:00:00",
          "2023-10-27T00:00:00",
          "2023-10-30T00:00:00",
          "2023-10-31T00:00:00",
          "2023-11-01T00:00:00",
          "2023-11-03T00:00:00",
          "2023-11-07T00:00:00",
          "2023-11-08T00:00:00",
          "2023-11-09T00:00:00",
          "2023-11-10T00:00:00",
          "2023-11-11T00:00:00",
          "2023-11-14T00:00:00",
          "2023-11-15T00:00:00",
          "2023-11-16T00:00:00",
          "2023-11-17T00:00:00",
          "2023-11-20T00:00:00",
          "2023-11-21T00:00:00",
          "2023-11-22T00:00:00",
          "2023-11-23T00:00:00",
          "2023-11-24T00:00:00",
          "2023-11-27T00:00:00",
          "2023-11-28T00:00:00",
          "2023-11-29T00:00:00",
          "2023-11-30T00:00:00",
          "2023-12-01T00:00:00",
          "2023-12-02T00:00:00",
          "2023-12-04T00:00:00",
          "2023-12-06T00:00:00",
          "2023-12-07T00:00:00",
          "2023-12-08T00:00:00",
          "2023-12-12T00:00:00",
          "2023-12-13T00:00:00",
          "2023-12-14T00:00:00",
          "2023-12-15T00:00:00",
          "2023-12-20T00:00:00",
          "2023-12-21T00:00:00",
          "2023-12-22T00:00:00",
          "2023-12-26T00:00:00",
          "2023-12-31T00:00:00",
          "2024-01-05T00:00:00",
          "2024-01-06T00:00:00",
          "2024-01-09T00:00:00",
          "2024-01-10T00:00:00",
          "2024-01-11T00:00:00",
          "2024-01-12T00:00:00",
          "2024-01-13T00:00:00",
          "2024-01-16T00:00:00",
          "2024-01-17T00:00:00",
          "2024-01-18T00:00:00",
          "2024-01-19T00:00:00",
          "2024-01-20T00:00:00",
          "2024-01-22T00:00:00",
          "2024-01-23T00:00:00",
          "2024-01-24T00:00:00",
          "2024-01-25T00:00:00"
         ],
         "xaxis": "x",
         "y": [
          11.133333333333333,
          12.030303030303031,
          12.1,
          11.685185185185185,
          11.952777777777778,
          11.233333333333333,
          11.8,
          7.877777777777778,
          11.766666666666667,
          11.766666666666667,
          10.459259259259259,
          11.666666666666666,
          11.579710144927535,
          9.316666666666666,
          11.526666666666667,
          11.405555555555557,
          11.46190476190476,
          10.529166666666667,
          11.395833333333334,
          7.533333333333333,
          11.190476190476192,
          10.705555555555556,
          11.166666666666666,
          11.166666666666666,
          11.066666666666666,
          10.913333333333332,
          9.96923076923077,
          10.946666666666665,
          10.9,
          10.71111111111111,
          9.654166666666667,
          10.781818181818181,
          48.96666666666667,
          9.91904761904762,
          10.653846153846155,
          1,
          10.577777777777778,
          9.515384615384615,
          10.527777777777777,
          10.5,
          10.244047619047619,
          10.366666666666667,
          7.266666666666667,
          10.292592592592593,
          9.377777777777776,
          10.155555555555557,
          10.125,
          10.083333333333334,
          33.833333333333336,
          9.194871794871796,
          9.848148148148148,
          9.8,
          9.753333333333334,
          4.3,
          9.591666666666667,
          9.233333333333333,
          9.083333333333334,
          1.1,
          8.644444444444444,
          8.6,
          8.6,
          8.511111111111111,
          8.466666666666667,
          4.233333333333333,
          8.3,
          8.38888888888889,
          7.733333333333333,
          11.366666666666667,
          46.03333333333333,
          6.822222222222222,
          0.03333333333333333,
          7.288888888888889,
          7.1,
          6,
          12.133333333333333,
          6.9,
          6.7625,
          6.595555555555555,
          6.533333333333333,
          6.366666666666666,
          6.288888888888889,
          1.1333333333333333,
          3.5833333333333335,
          2.7555555555555555,
          5.966666666666667,
          3.5,
          5.633333333333334,
          2.5777777777777775,
          0.7,
          5.155555555555555,
          5.45,
          5.366666666666666,
          5.35,
          5.166666666666667,
          3.9583333333333335,
          5.2,
          5.15,
          5.002083333333333,
          3.5733333333333333,
          3.259259259259259,
          3.9755555555555557,
          4.66,
          4.733333333333333,
          4.361111111111112,
          4.666666666666667,
          4.497777777777778,
          3.966666666666667,
          4.466666666666667,
          4.1682539682539685,
          3.990740740740741,
          4.258333333333334,
          4.007407407407408,
          3.8866666666666663,
          4.166666666666667,
          4.097619047619047,
          4.061111111111111,
          4.025,
          3.9866666666666664,
          3.95,
          3.8666666666666667,
          3.8,
          3.7583333333333333,
          4.919047619047619,
          3.6305555555555555,
          3.566666666666667,
          3.533333333333333,
          3.3466666666666667,
          3.3,
          2.888888888888889,
          7.783333333333333,
          3.1333333333333333,
          2.9,
          3.066666666666667,
          3.033333333333333,
          2.9833333333333334,
          2.8777777777777778,
          2.7066666666666666,
          2.8,
          2.7333333333333334,
          2.511111111111111,
          8.05,
          0.9333333333333333,
          1.9933333333333332,
          13.8,
          1.957142857142857,
          1.980952380952381,
          2.3,
          1.5833333333333333,
          4.173333333333334,
          2.1,
          2.066666666666667,
          6.054166666666666,
          1.8133333333333332,
          1.8666666666666667,
          1.7476190476190476,
          1.6666666666666667,
          1.6611111111111112,
          1.6291666666666667,
          1.65,
          1.93,
          6.816666666666666,
          3.138461538461539,
          1.223809523809524,
          1.2476190476190476,
          3.433333333333333,
          1.1833333333333333,
          1.1666666666666667,
          1.1222222222222222,
          1.05,
          1.025,
          0.9733333333333333,
          0.9133333333333333,
          0.7333333333333333,
          0.5333333333333333,
          1.609722222222222,
          0.4666666666666667,
          0.35,
          12.166666666666666,
          10.719047619047618,
          9.627450980392156,
          12.3,
          20.316666666666666,
          11.966666666666667,
          11.958333333333334,
          9.633333333333333,
          11.9,
          11.172222222222222,
          11.551851851851852,
          10.894117647058824,
          11.733333333333333,
          10.196666666666665,
          11.6,
          10.479999999999999,
          10.975,
          10.816666666666666,
          10.703921568627452,
          10.21190476190476,
          10.594871794871796,
          10.218333333333334,
          8.833333333333334,
          8.883333333333333,
          9.877777777777776,
          8.3,
          11.033333333333333,
          8.314285714285713,
          7.921428571428572,
          8.120833333333334,
          8.816666666666666,
          6.536666666666666,
          8.457575757575757,
          7.13030303030303,
          7.446666666666667,
          7.981481481481482,
          9.155555555555557,
          8.625,
          7.911111111111111,
          8.307142857142857,
          7.736363636363636,
          9.104444444444445,
          8.372727272727273,
          9.733333333333333,
          8.991666666666667,
          9.272222222222222,
          9.6,
          9.38809523809524,
          9.8,
          9.7,
          7.5962962962962965,
          7.247619047619048,
          8.23,
          7.777777777777778,
          7.133333333333334,
          9.333333333333334,
          7.122222222222222,
          6.290909090909091,
          5.762745098039216,
          7.783333333333333,
          5.95,
          5.1,
          6.553333333333333,
          5.752380952380952,
          7.594444444444445,
          8.083333333333334,
          7.766666666666667,
          8.066666666666666,
          5.033333333333333,
          7.2,
          8.266666666666667,
          7.333333333333333,
          8.046666666666667,
          8.033333333333333,
          7.966666666666667,
          6.944444444444445,
          7.533333333333333,
          7.3,
          5.260000000000001,
          7.533333333333333,
          15.377777777777776,
          7.333333333333333,
          5.877777777777778,
          6.988888888888889,
          7.033333333333333,
          12.744444444444444,
          6.833333333333333,
          6.743333333333334,
          14.577777777777778,
          6.5285714285714285,
          6.466666666666667,
          6.533333333333333,
          6.4,
          5.347619047619047,
          4.555555555555555,
          6.283333333333333,
          38.35,
          6.2,
          6.1,
          6.038888888888889,
          6.066666666666666,
          5.9,
          5.866666666666666,
          5.7,
          5.523611111111111,
          5.6,
          5.566666666666666,
          5.491666666666666,
          36.5,
          5.406666666666666,
          5.366666666666666,
          5.341666666666667,
          5.2555555555555555,
          5.1912280701754385,
          5.735087719298246,
          5.033333333333333,
          4.972222222222222,
          4.933333333333334,
          4.6375,
          4.66,
          4.566666666666666,
          4.533333333333333,
          4.483333333333333,
          4.7,
          3.933333333333333,
          4.3,
          4.266666666666667,
          4.2,
          4.1,
          4.066666666666666,
          3.6666666666666665,
          3.6,
          3.4266666666666667,
          3.466666666666667,
          3.5166666666666666,
          3.3833333333333333,
          2.9,
          3.388888888888889,
          3.470833333333333,
          3.4871794871794872,
          2.3833333333333333,
          3.3,
          3.2666666666666666,
          3.2,
          3.2761904761904765,
          3.2333333333333334,
          3.18,
          3.14,
          5.418181818181818,
          3.066666666666667,
          3.061111111111111,
          2.8555555555555556,
          2.775438596491228,
          2.711111111111111,
          2.6722222222222225,
          2.3466666666666667,
          2.6083333333333334,
          2.3,
          2.528571428571429,
          2.4375,
          2.4,
          2.2944444444444443,
          2.344444444444444,
          2.308333333333333,
          2.24,
          2.2,
          2.1222222222222222,
          2.1,
          1.9619047619047618,
          1.9,
          1.8722222222222222,
          15.533333333333333,
          1.7666666666666666,
          1.7416666666666667,
          1.7,
          4.341666666666667,
          1.6333333333333333,
          1.5222222222222221,
          1.472222222222222,
          1.4400000000000002,
          1.3333333333333333,
          2.876190476190476,
          1.2466666666666666,
          2.4703703703703703,
          1.1666666666666667,
          4.888888888888888,
          1.0666666666666667,
          1.0476190476190477,
          1.0277777777777777,
          1.4233333333333333,
          0.9555555555555556,
          0.8666666666666667,
          0.7611111111111111,
          0.7333333333333333,
          0.711111111111111,
          0.611111111111111,
          0.5666666666666667,
          3.3,
          0.36666666666666664,
          0.3333333333333333,
          59.3,
          0.06666666666666667,
          11.533333333333333,
          10.028571428571428,
          11.370175438596492,
          11.314285714285715,
          11.397777777777778,
          10.639393939393939,
          11.110144927536231,
          10.708,
          10.914666666666667,
          10.493197278911564,
          10.90128205128205,
          10.397142857142857,
          10.538333333333332,
          10.246666666666666,
          10.20959595959596,
          9.623333333333333,
          9.870977011494253,
          9.805833333333334,
          10.6,
          9.597163120567377,
          7.783333333333333,
          2.4,
          2.3,
          6.155555555555555,
          17.833333333333332,
          7.7,
          6.633333333333334,
          6.7,
          7.8,
          5.1,
          2.3666666666666667,
          1.1,
          17.933333333333334,
          5.533333333333333,
          14.566666666666666,
          5.266666666666667,
          4.766666666666667,
          2.683333333333333,
          2.1,
          4.966666666666667,
          4.333333333333333,
          4.933333333333334,
          3.3,
          4.533333333333333,
          4.066666666666666,
          4.533333333333333,
          4.4,
          3.8333333333333335,
          4.227777777777778,
          4.3,
          3.7,
          4.425,
          3.966666666666667,
          4.016666666666667,
          3.4466666666666668,
          3.5703703703703704,
          3.466666666666667,
          3.3333333333333335,
          3.3,
          3.6666666666666665,
          1.7333333333333334,
          3.4,
          3.2666666666666666,
          3.1333333333333333,
          1.9833333333333334,
          2.7,
          2.9,
          2.433333333333333,
          2.3242424242424247,
          2.4166666666666665,
          2.05,
          2.6,
          2.1,
          2.4222222222222225,
          2.4,
          2.3,
          2.2666666666666666,
          2.033333333333333,
          1.9666666666666666,
          1.775,
          3.4722222222222223,
          1.7083333333333333,
          1.6666666666666667,
          1.6333333333333333,
          1.5333333333333334,
          2.2974358974358973,
          1.4333333333333333,
          1.4333333333333333,
          1.2666666666666666,
          23,
          1.0583333333333333,
          1.023809523809524,
          0.9333333333333333,
          0.837037037037037,
          0.8333333333333334,
          0.711111111111111,
          0.5666666666666667,
          0.5333333333333333,
          0.5111111111111112,
          0.39166666666666666,
          0.4,
          0.36666666666666664,
          0.3333333333333333,
          0.2,
          16.244444444444444,
          0.13333333333333333,
          5.704444444444444,
          11.71111111111111,
          3.466666666666667,
          9.442424242424241,
          9.466666666666667,
          9.356521739130436,
          9.311347517730496,
          10.202083333333333,
          10.786666666666667,
          10.942857142857143,
          9.68954248366013,
          10.3,
          8.949122807017543,
          10.307407407407407,
          7.2,
          10.298717948717949,
          10.852380952380951,
          11.1,
          9.033333333333333,
          9.22820512820513,
          8.555555555555555,
          10.316666666666666,
          8.905555555555557,
          10.85,
          10.155555555555557,
          9.166666666666666,
          8.916666666666666,
          10.169696969696968,
          10.185714285714285,
          13.81388888888889,
          8.669444444444444,
          8.313333333333334,
          8.494444444444445,
          9.55,
          9.05,
          8.222222222222221,
          10.283333333333333,
          10.216666666666667,
          7.633333333333334,
          9.316666666666666,
          9.438095238095238,
          9.92962962962963,
          10.1,
          7.59,
          8.233333333333333,
          9.383333333333333,
          8.480952380952381,
          9.675,
          6.888888888888888,
          5.133333333333334,
          7.666666666666667,
          8.129166666666666,
          8.85,
          7.833333333333333,
          6.9,
          7.338095238095238,
          9.394444444444444,
          9.433333333333334,
          8.666666666666666,
          7.204166666666667,
          9.216666666666667,
          8.503030303030304,
          9.16111111111111,
          8.816666666666666,
          9.025,
          36.53333333333333,
          7.166666666666667,
          8.716666666666667,
          8.733333333333333,
          8.6,
          8.508333333333333,
          8.5,
          4.8,
          7.116666666666666,
          4.066666666666666,
          5.233333333333333,
          7.627777777777778,
          8.208333333333334,
          6.5,
          7.858730158730158,
          8.114285714285714,
          4.743333333333334,
          7.866666666666666,
          5.575,
          7.161538461538461,
          7.7555555555555555,
          6.933333333333334,
          7.292857142857143,
          7.578571428571428,
          7.595555555555555,
          7.557575757575758,
          7.533333333333333,
          7.3133333333333335,
          7.012820512820513,
          7.355555555555555,
          10.026190476190475,
          7.224444444444444,
          7.142857142857142,
          19.333333333333332,
          7.095833333333333,
          6.9904761904761905,
          6.963541666666667,
          7.020833333333333,
          6.895833333333333,
          6.056666666666667,
          6.7316666666666665,
          6.7,
          6.653968253968254,
          6.625,
          6.455555555555555,
          6.4625,
          6.4,
          6.3969696969696965,
          6.297916666666667,
          6.266666666666667,
          5.658333333333333,
          8.108333333333333,
          5.65,
          6.108333333333333,
          3.5,
          7.504166666666666,
          5.933333333333334,
          5.933333333333334,
          5.9,
          24.17777777777778,
          5.233333333333333,
          5.242857142857143,
          5.566666666666666,
          5.430000000000001,
          5.35,
          5.322222222222222,
          5.283333333333333,
          5.266666666666667,
          5.148611111111111,
          5.1,
          5.166666666666667,
          5.133333333333334,
          5.002777777777778,
          5.533333333333333,
          5.033333333333333,
          4.644444444444445,
          4.688888888888888,
          4.866666666666666,
          4.557777777777777,
          4.375,
          4.457575757575757,
          4.280952380952381,
          4.530952380952381,
          4.433333333333334,
          4.5,
          4.4,
          4.290909090909091,
          4.283333333333333,
          3.9846153846153842,
          4.019047619047619,
          4.155555555555556,
          4.133333333333334,
          3.8051282051282054,
          4.066666666666666,
          3.74,
          3.696491228070175,
          3.459649122807017,
          2.95,
          3.3800000000000003,
          2.033333333333333,
          3.6041666666666665,
          3.3555555555555556,
          3.2333333333333334,
          3.5444444444444443,
          3.453333333333333,
          3.4166666666666665,
          14.860000000000001,
          3.051851851851852,
          3.3,
          2.066666666666667,
          3.196296296296296,
          3.007142857142857,
          2.9030303030303033,
          3,
          2.8375,
          4.2555555555555555,
          2.8277777777777775,
          2.8666666666666667,
          2.4,
          2.75,
          2.719047619047619,
          2.683333333333333,
          2.648148148148148,
          2.6166666666666667,
          2.5133333333333336,
          4.025,
          2.45,
          2.408333333333333,
          2.1,
          2.2333333333333334,
          2.15,
          2.05,
          2.05,
          2.033333333333333,
          1.9166666666666667,
          1.7766666666666666,
          1.6400000000000001,
          1.7333333333333334,
          1.7166666666666666,
          1.7,
          1.4629629629629628,
          1.4833333333333334,
          1.2333333333333334,
          1.7444444444444445,
          1.3666666666666667,
          1.2857142857142856,
          1.3333333333333333,
          1.2857142857142856,
          4.108333333333333,
          1.15,
          1.1333333333333333,
          1.0444444444444445,
          1.0142857142857142,
          1.025,
          0.9777777777777777,
          2.2333333333333334,
          0.8666666666666667,
          0.8125,
          1.1484848484848484,
          0.6444444444444444,
          0.6166666666666667,
          4.633333333333334,
          35.06333333333334,
          0.4,
          5.066666666666666,
          5.2,
          0.4888888888888889,
          8.333333333333334,
          12.066666666666666,
          10.240579710144926,
          11.75,
          11.635802469135802,
          10.969696969696969,
          11.254444444444443,
          11.56111111111111,
          10.47278911564626,
          11.08989898989899,
          9.586458333333333,
          11.26923076923077,
          9.066666666666666,
          11.466666666666667,
          9.793333333333333,
          10.39047619047619,
          10.056666666666667
         ],
         "yaxis": "y"
        }
       ],
       "layout": {
        "legend": {
         "tracegroupgap": 0
        },
        "template": {
         "data": {
          "bar": [
           {
            "error_x": {
             "color": "#2a3f5f"
            },
            "error_y": {
             "color": "#2a3f5f"
            },
            "marker": {
             "line": {
              "color": "#E5ECF6",
              "width": 0.5
             },
             "pattern": {
              "fillmode": "overlay",
              "size": 10,
              "solidity": 0.2
             }
            },
            "type": "bar"
           }
          ],
          "barpolar": [
           {
            "marker": {
             "line": {
              "color": "#E5ECF6",
              "width": 0.5
             },
             "pattern": {
              "fillmode": "overlay",
              "size": 10,
              "solidity": 0.2
             }
            },
            "type": "barpolar"
           }
          ],
          "carpet": [
           {
            "aaxis": {
             "endlinecolor": "#2a3f5f",
             "gridcolor": "white",
             "linecolor": "white",
             "minorgridcolor": "white",
             "startlinecolor": "#2a3f5f"
            },
            "baxis": {
             "endlinecolor": "#2a3f5f",
             "gridcolor": "white",
             "linecolor": "white",
             "minorgridcolor": "white",
             "startlinecolor": "#2a3f5f"
            },
            "type": "carpet"
           }
          ],
          "choropleth": [
           {
            "colorbar": {
             "outlinewidth": 0,
             "ticks": ""
            },
            "type": "choropleth"
           }
          ],
          "contour": [
           {
            "colorbar": {
             "outlinewidth": 0,
             "ticks": ""
            },
            "colorscale": [
             [
              0,
              "#0d0887"
             ],
             [
              0.1111111111111111,
              "#46039f"
             ],
             [
              0.2222222222222222,
              "#7201a8"
             ],
             [
              0.3333333333333333,
              "#9c179e"
             ],
             [
              0.4444444444444444,
              "#bd3786"
             ],
             [
              0.5555555555555556,
              "#d8576b"
             ],
             [
              0.6666666666666666,
              "#ed7953"
             ],
             [
              0.7777777777777778,
              "#fb9f3a"
             ],
             [
              0.8888888888888888,
              "#fdca26"
             ],
             [
              1,
              "#f0f921"
             ]
            ],
            "type": "contour"
           }
          ],
          "contourcarpet": [
           {
            "colorbar": {
             "outlinewidth": 0,
             "ticks": ""
            },
            "type": "contourcarpet"
           }
          ],
          "heatmap": [
           {
            "colorbar": {
             "outlinewidth": 0,
             "ticks": ""
            },
            "colorscale": [
             [
              0,
              "#0d0887"
             ],
             [
              0.1111111111111111,
              "#46039f"
             ],
             [
              0.2222222222222222,
              "#7201a8"
             ],
             [
              0.3333333333333333,
              "#9c179e"
             ],
             [
              0.4444444444444444,
              "#bd3786"
             ],
             [
              0.5555555555555556,
              "#d8576b"
             ],
             [
              0.6666666666666666,
              "#ed7953"
             ],
             [
              0.7777777777777778,
              "#fb9f3a"
             ],
             [
              0.8888888888888888,
              "#fdca26"
             ],
             [
              1,
              "#f0f921"
             ]
            ],
            "type": "heatmap"
           }
          ],
          "heatmapgl": [
           {
            "colorbar": {
             "outlinewidth": 0,
             "ticks": ""
            },
            "colorscale": [
             [
              0,
              "#0d0887"
             ],
             [
              0.1111111111111111,
              "#46039f"
             ],
             [
              0.2222222222222222,
              "#7201a8"
             ],
             [
              0.3333333333333333,
              "#9c179e"
             ],
             [
              0.4444444444444444,
              "#bd3786"
             ],
             [
              0.5555555555555556,
              "#d8576b"
             ],
             [
              0.6666666666666666,
              "#ed7953"
             ],
             [
              0.7777777777777778,
              "#fb9f3a"
             ],
             [
              0.8888888888888888,
              "#fdca26"
             ],
             [
              1,
              "#f0f921"
             ]
            ],
            "type": "heatmapgl"
           }
          ],
          "histogram": [
           {
            "marker": {
             "pattern": {
              "fillmode": "overlay",
              "size": 10,
              "solidity": 0.2
             }
            },
            "type": "histogram"
           }
          ],
          "histogram2d": [
           {
            "colorbar": {
             "outlinewidth": 0,
             "ticks": ""
            },
            "colorscale": [
             [
              0,
              "#0d0887"
             ],
             [
              0.1111111111111111,
              "#46039f"
             ],
             [
              0.2222222222222222,
              "#7201a8"
             ],
             [
              0.3333333333333333,
              "#9c179e"
             ],
             [
              0.4444444444444444,
              "#bd3786"
             ],
             [
              0.5555555555555556,
              "#d8576b"
             ],
             [
              0.6666666666666666,
              "#ed7953"
             ],
             [
              0.7777777777777778,
              "#fb9f3a"
             ],
             [
              0.8888888888888888,
              "#fdca26"
             ],
             [
              1,
              "#f0f921"
             ]
            ],
            "type": "histogram2d"
           }
          ],
          "histogram2dcontour": [
           {
            "colorbar": {
             "outlinewidth": 0,
             "ticks": ""
            },
            "colorscale": [
             [
              0,
              "#0d0887"
             ],
             [
              0.1111111111111111,
              "#46039f"
             ],
             [
              0.2222222222222222,
              "#7201a8"
             ],
             [
              0.3333333333333333,
              "#9c179e"
             ],
             [
              0.4444444444444444,
              "#bd3786"
             ],
             [
              0.5555555555555556,
              "#d8576b"
             ],
             [
              0.6666666666666666,
              "#ed7953"
             ],
             [
              0.7777777777777778,
              "#fb9f3a"
             ],
             [
              0.8888888888888888,
              "#fdca26"
             ],
             [
              1,
              "#f0f921"
             ]
            ],
            "type": "histogram2dcontour"
           }
          ],
          "mesh3d": [
           {
            "colorbar": {
             "outlinewidth": 0,
             "ticks": ""
            },
            "type": "mesh3d"
           }
          ],
          "parcoords": [
           {
            "line": {
             "colorbar": {
              "outlinewidth": 0,
              "ticks": ""
             }
            },
            "type": "parcoords"
           }
          ],
          "pie": [
           {
            "automargin": true,
            "type": "pie"
           }
          ],
          "scatter": [
           {
            "fillpattern": {
             "fillmode": "overlay",
             "size": 10,
             "solidity": 0.2
            },
            "type": "scatter"
           }
          ],
          "scatter3d": [
           {
            "line": {
             "colorbar": {
              "outlinewidth": 0,
              "ticks": ""
             }
            },
            "marker": {
             "colorbar": {
              "outlinewidth": 0,
              "ticks": ""
             }
            },
            "type": "scatter3d"
           }
          ],
          "scattercarpet": [
           {
            "marker": {
             "colorbar": {
              "outlinewidth": 0,
              "ticks": ""
             }
            },
            "type": "scattercarpet"
           }
          ],
          "scattergeo": [
           {
            "marker": {
             "colorbar": {
              "outlinewidth": 0,
              "ticks": ""
             }
            },
            "type": "scattergeo"
           }
          ],
          "scattergl": [
           {
            "marker": {
             "colorbar": {
              "outlinewidth": 0,
              "ticks": ""
             }
            },
            "type": "scattergl"
           }
          ],
          "scattermapbox": [
           {
            "marker": {
             "colorbar": {
              "outlinewidth": 0,
              "ticks": ""
             }
            },
            "type": "scattermapbox"
           }
          ],
          "scatterpolar": [
           {
            "marker": {
             "colorbar": {
              "outlinewidth": 0,
              "ticks": ""
             }
            },
            "type": "scatterpolar"
           }
          ],
          "scatterpolargl": [
           {
            "marker": {
             "colorbar": {
              "outlinewidth": 0,
              "ticks": ""
             }
            },
            "type": "scatterpolargl"
           }
          ],
          "scatterternary": [
           {
            "marker": {
             "colorbar": {
              "outlinewidth": 0,
              "ticks": ""
             }
            },
            "type": "scatterternary"
           }
          ],
          "surface": [
           {
            "colorbar": {
             "outlinewidth": 0,
             "ticks": ""
            },
            "colorscale": [
             [
              0,
              "#0d0887"
             ],
             [
              0.1111111111111111,
              "#46039f"
             ],
             [
              0.2222222222222222,
              "#7201a8"
             ],
             [
              0.3333333333333333,
              "#9c179e"
             ],
             [
              0.4444444444444444,
              "#bd3786"
             ],
             [
              0.5555555555555556,
              "#d8576b"
             ],
             [
              0.6666666666666666,
              "#ed7953"
             ],
             [
              0.7777777777777778,
              "#fb9f3a"
             ],
             [
              0.8888888888888888,
              "#fdca26"
             ],
             [
              1,
              "#f0f921"
             ]
            ],
            "type": "surface"
           }
          ],
          "table": [
           {
            "cells": {
             "fill": {
              "color": "#EBF0F8"
             },
             "line": {
              "color": "white"
             }
            },
            "header": {
             "fill": {
              "color": "#C8D4E3"
             },
             "line": {
              "color": "white"
             }
            },
            "type": "table"
           }
          ]
         },
         "layout": {
          "annotationdefaults": {
           "arrowcolor": "#2a3f5f",
           "arrowhead": 0,
           "arrowwidth": 1
          },
          "autotypenumbers": "strict",
          "coloraxis": {
           "colorbar": {
            "outlinewidth": 0,
            "ticks": ""
           }
          },
          "colorscale": {
           "diverging": [
            [
             0,
             "#8e0152"
            ],
            [
             0.1,
             "#c51b7d"
            ],
            [
             0.2,
             "#de77ae"
            ],
            [
             0.3,
             "#f1b6da"
            ],
            [
             0.4,
             "#fde0ef"
            ],
            [
             0.5,
             "#f7f7f7"
            ],
            [
             0.6,
             "#e6f5d0"
            ],
            [
             0.7,
             "#b8e186"
            ],
            [
             0.8,
             "#7fbc41"
            ],
            [
             0.9,
             "#4d9221"
            ],
            [
             1,
             "#276419"
            ]
           ],
           "sequential": [
            [
             0,
             "#0d0887"
            ],
            [
             0.1111111111111111,
             "#46039f"
            ],
            [
             0.2222222222222222,
             "#7201a8"
            ],
            [
             0.3333333333333333,
             "#9c179e"
            ],
            [
             0.4444444444444444,
             "#bd3786"
            ],
            [
             0.5555555555555556,
             "#d8576b"
            ],
            [
             0.6666666666666666,
             "#ed7953"
            ],
            [
             0.7777777777777778,
             "#fb9f3a"
            ],
            [
             0.8888888888888888,
             "#fdca26"
            ],
            [
             1,
             "#f0f921"
            ]
           ],
           "sequentialminus": [
            [
             0,
             "#0d0887"
            ],
            [
             0.1111111111111111,
             "#46039f"
            ],
            [
             0.2222222222222222,
             "#7201a8"
            ],
            [
             0.3333333333333333,
             "#9c179e"
            ],
            [
             0.4444444444444444,
             "#bd3786"
            ],
            [
             0.5555555555555556,
             "#d8576b"
            ],
            [
             0.6666666666666666,
             "#ed7953"
            ],
            [
             0.7777777777777778,
             "#fb9f3a"
            ],
            [
             0.8888888888888888,
             "#fdca26"
            ],
            [
             1,
             "#f0f921"
            ]
           ]
          },
          "colorway": [
           "#636efa",
           "#EF553B",
           "#00cc96",
           "#ab63fa",
           "#FFA15A",
           "#19d3f3",
           "#FF6692",
           "#B6E880",
           "#FF97FF",
           "#FECB52"
          ],
          "font": {
           "color": "#2a3f5f"
          },
          "geo": {
           "bgcolor": "white",
           "lakecolor": "white",
           "landcolor": "#E5ECF6",
           "showlakes": true,
           "showland": true,
           "subunitcolor": "white"
          },
          "hoverlabel": {
           "align": "left"
          },
          "hovermode": "closest",
          "mapbox": {
           "style": "light"
          },
          "paper_bgcolor": "white",
          "plot_bgcolor": "#E5ECF6",
          "polar": {
           "angularaxis": {
            "gridcolor": "white",
            "linecolor": "white",
            "ticks": ""
           },
           "bgcolor": "#E5ECF6",
           "radialaxis": {
            "gridcolor": "white",
            "linecolor": "white",
            "ticks": ""
           }
          },
          "scene": {
           "xaxis": {
            "backgroundcolor": "#E5ECF6",
            "gridcolor": "white",
            "gridwidth": 2,
            "linecolor": "white",
            "showbackground": true,
            "ticks": "",
            "zerolinecolor": "white"
           },
           "yaxis": {
            "backgroundcolor": "#E5ECF6",
            "gridcolor": "white",
            "gridwidth": 2,
            "linecolor": "white",
            "showbackground": true,
            "ticks": "",
            "zerolinecolor": "white"
           },
           "zaxis": {
            "backgroundcolor": "#E5ECF6",
            "gridcolor": "white",
            "gridwidth": 2,
            "linecolor": "white",
            "showbackground": true,
            "ticks": "",
            "zerolinecolor": "white"
           }
          },
          "shapedefaults": {
           "line": {
            "color": "#2a3f5f"
           }
          },
          "ternary": {
           "aaxis": {
            "gridcolor": "white",
            "linecolor": "white",
            "ticks": ""
           },
           "baxis": {
            "gridcolor": "white",
            "linecolor": "white",
            "ticks": ""
           },
           "bgcolor": "#E5ECF6",
           "caxis": {
            "gridcolor": "white",
            "linecolor": "white",
            "ticks": ""
           }
          },
          "title": {
           "x": 0.05
          },
          "xaxis": {
           "automargin": true,
           "gridcolor": "white",
           "linecolor": "white",
           "ticks": "",
           "title": {
            "standoff": 15
           },
           "zerolinecolor": "white",
           "zerolinewidth": 2
          },
          "yaxis": {
           "automargin": true,
           "gridcolor": "white",
           "linecolor": "white",
           "ticks": "",
           "title": {
            "standoff": 15
           },
           "zerolinecolor": "white",
           "zerolinewidth": 2
          }
         }
        },
        "title": {
         "text": "Promedio meses entre la fecha de firma de contrato y fecha fin de contrato ESAP año 2020 - 2024"
        },
        "xaxis": {
         "anchor": "y",
         "domain": [
          0,
          1
         ],
         "title": {
          "text": "fecha_de_firma"
         }
        },
        "yaxis": {
         "anchor": "x",
         "domain": [
          0,
          1
         ],
         "title": {
          "text": "Promedio Tiempo entre firma y fin (meses)"
         }
        }
       }
      }
     },
     "metadata": {},
     "output_type": "display_data"
    }
   ],
   "source": [
    "# Calcular el promedio de tiempo entre firma y fecha final del contrato en días\n",
    "secop['tiempo_entre_firma_fin'] = (secop['fecha_de_fin_del_contrato'] - secop['fecha_de_firma']).dt.days\n",
    "promedio_tiempo_por_dia = secop.groupby('fecha_de_firma')['tiempo_entre_firma_fin'].mean().reset_index()\n",
    "\n",
    "# Convertir el promedio de días a meses\n",
    "promedio_tiempo_por_dia['tiempo_entre_firma_fin'] /= 30  # Aproximadamente 30 días por mes\n",
    "\n",
    "# Crear una gráfica lineal del promedio del tiempo entre firma y fin por día en meses\n",
    "fig = px.line(promedio_tiempo_por_dia, x='fecha_de_firma', y='tiempo_entre_firma_fin',\n",
    "              labels={'tiempo_entre_firma_fin': 'Promedio Tiempo entre firma y fin (meses)'},\n",
    "              title='Promedio meses entre la fecha de firma de contrato y fecha fin de contrato ESAP año 2020 - 2024')\n",
    "\n",
    "# Mostrar la gráfica\n",
    "fig.show()"
   ]
  },
  {
   "cell_type": "markdown",
   "metadata": {},
   "source": [
    "_Valor de contratos ESAP según fecha de firma 2020 - 2024 (días)_"
   ]
  },
  {
   "cell_type": "code",
   "execution_count": 437,
   "metadata": {},
   "outputs": [
    {
     "data": {
      "application/vnd.plotly.v1+json": {
       "config": {
        "plotlyServerURL": "https://plot.ly"
       },
       "data": [
        {
         "hovertemplate": "fecha_de_firma=%{x}<br>valor_del_contrato=%{y}<extra></extra>",
         "legendgroup": "",
         "line": {
          "color": "#636efa",
          "dash": "solid"
         },
         "marker": {
          "symbol": "circle"
         },
         "mode": "lines",
         "name": "",
         "orientation": "v",
         "showlegend": false,
         "type": "scatter",
         "x": [
          "2020-01-02T00:00:00",
          "2020-01-03T00:00:00",
          "2020-01-04T00:00:00",
          "2020-01-07T00:00:00",
          "2020-01-08T00:00:00",
          "2020-01-09T00:00:00",
          "2020-01-10T00:00:00",
          "2020-01-12T00:00:00",
          "2020-01-13T00:00:00",
          "2020-01-14T00:00:00",
          "2020-01-15T00:00:00",
          "2020-01-16T00:00:00",
          "2020-01-17T00:00:00",
          "2020-01-20T00:00:00",
          "2020-01-21T00:00:00",
          "2020-01-22T00:00:00",
          "2020-01-23T00:00:00",
          "2020-01-24T00:00:00",
          "2020-01-25T00:00:00",
          "2020-01-27T00:00:00",
          "2020-01-28T00:00:00",
          "2020-01-30T00:00:00",
          "2020-01-31T00:00:00",
          "2020-02-01T00:00:00",
          "2020-02-03T00:00:00",
          "2020-02-05T00:00:00",
          "2020-02-06T00:00:00",
          "2020-02-07T00:00:00",
          "2020-02-08T00:00:00",
          "2020-02-10T00:00:00",
          "2020-02-11T00:00:00",
          "2020-02-12T00:00:00",
          "2020-02-13T00:00:00",
          "2020-02-14T00:00:00",
          "2020-02-15T00:00:00",
          "2020-02-17T00:00:00",
          "2020-02-18T00:00:00",
          "2020-02-19T00:00:00",
          "2020-02-20T00:00:00",
          "2020-02-21T00:00:00",
          "2020-02-24T00:00:00",
          "2020-02-25T00:00:00",
          "2020-02-26T00:00:00",
          "2020-02-27T00:00:00",
          "2020-02-29T00:00:00",
          "2020-03-02T00:00:00",
          "2020-03-03T00:00:00",
          "2020-03-04T00:00:00",
          "2020-03-06T00:00:00",
          "2020-03-07T00:00:00",
          "2020-03-11T00:00:00",
          "2020-03-13T00:00:00",
          "2020-03-14T00:00:00",
          "2020-03-16T00:00:00",
          "2020-03-19T00:00:00",
          "2020-03-30T00:00:00",
          "2020-04-03T00:00:00",
          "2020-04-04T00:00:00",
          "2020-04-16T00:00:00",
          "2020-04-17T00:00:00",
          "2020-04-18T00:00:00",
          "2020-04-20T00:00:00",
          "2020-04-21T00:00:00",
          "2020-04-22T00:00:00",
          "2020-04-23T00:00:00",
          "2020-04-24T00:00:00",
          "2020-05-14T00:00:00",
          "2020-05-18T00:00:00",
          "2020-05-20T00:00:00",
          "2020-05-21T00:00:00",
          "2020-05-22T00:00:00",
          "2020-05-27T00:00:00",
          "2020-06-02T00:00:00",
          "2020-06-04T00:00:00",
          "2020-06-05T00:00:00",
          "2020-06-08T00:00:00",
          "2020-06-10T00:00:00",
          "2020-06-17T00:00:00",
          "2020-06-19T00:00:00",
          "2020-06-24T00:00:00",
          "2020-06-26T00:00:00",
          "2020-06-27T00:00:00",
          "2020-07-01T00:00:00",
          "2020-07-03T00:00:00",
          "2020-07-06T00:00:00",
          "2020-07-07T00:00:00",
          "2020-07-13T00:00:00",
          "2020-07-14T00:00:00",
          "2020-07-16T00:00:00",
          "2020-07-17T00:00:00",
          "2020-07-21T00:00:00",
          "2020-07-23T00:00:00",
          "2020-07-24T00:00:00",
          "2020-07-25T00:00:00",
          "2020-07-27T00:00:00",
          "2020-07-28T00:00:00",
          "2020-07-29T00:00:00",
          "2020-08-03T00:00:00",
          "2020-08-04T00:00:00",
          "2020-08-05T00:00:00",
          "2020-08-06T00:00:00",
          "2020-08-11T00:00:00",
          "2020-08-12T00:00:00",
          "2020-08-13T00:00:00",
          "2020-08-14T00:00:00",
          "2020-08-18T00:00:00",
          "2020-08-19T00:00:00",
          "2020-08-20T00:00:00",
          "2020-08-21T00:00:00",
          "2020-08-25T00:00:00",
          "2020-08-26T00:00:00",
          "2020-08-27T00:00:00",
          "2020-08-28T00:00:00",
          "2020-08-29T00:00:00",
          "2020-08-31T00:00:00",
          "2020-09-01T00:00:00",
          "2020-09-02T00:00:00",
          "2020-09-03T00:00:00",
          "2020-09-04T00:00:00",
          "2020-09-07T00:00:00",
          "2020-09-09T00:00:00",
          "2020-09-10T00:00:00",
          "2020-09-12T00:00:00",
          "2020-09-14T00:00:00",
          "2020-09-16T00:00:00",
          "2020-09-17T00:00:00",
          "2020-09-22T00:00:00",
          "2020-09-23T00:00:00",
          "2020-09-24T00:00:00",
          "2020-09-25T00:00:00",
          "2020-09-28T00:00:00",
          "2020-09-29T00:00:00",
          "2020-10-01T00:00:00",
          "2020-10-02T00:00:00",
          "2020-10-03T00:00:00",
          "2020-10-06T00:00:00",
          "2020-10-07T00:00:00",
          "2020-10-08T00:00:00",
          "2020-10-10T00:00:00",
          "2020-10-13T00:00:00",
          "2020-10-14T00:00:00",
          "2020-10-15T00:00:00",
          "2020-10-16T00:00:00",
          "2020-10-19T00:00:00",
          "2020-10-21T00:00:00",
          "2020-10-22T00:00:00",
          "2020-10-23T00:00:00",
          "2020-10-26T00:00:00",
          "2020-10-28T00:00:00",
          "2020-10-29T00:00:00",
          "2020-10-30T00:00:00",
          "2020-10-31T00:00:00",
          "2020-11-04T00:00:00",
          "2020-11-05T00:00:00",
          "2020-11-09T00:00:00",
          "2020-11-10T00:00:00",
          "2020-11-11T00:00:00",
          "2020-11-12T00:00:00",
          "2020-11-13T00:00:00",
          "2020-11-18T00:00:00",
          "2020-11-19T00:00:00",
          "2020-11-20T00:00:00",
          "2020-11-23T00:00:00",
          "2020-11-24T00:00:00",
          "2020-11-25T00:00:00",
          "2020-11-26T00:00:00",
          "2020-11-27T00:00:00",
          "2020-11-28T00:00:00",
          "2020-11-30T00:00:00",
          "2020-12-01T00:00:00",
          "2020-12-02T00:00:00",
          "2020-12-04T00:00:00",
          "2020-12-09T00:00:00",
          "2020-12-15T00:00:00",
          "2020-12-16T00:00:00",
          "2020-12-18T00:00:00",
          "2020-12-21T00:00:00",
          "2020-12-22T00:00:00",
          "2020-12-23T00:00:00",
          "2020-12-24T00:00:00",
          "2020-12-28T00:00:00",
          "2020-12-30T00:00:00",
          "2021-01-06T00:00:00",
          "2021-01-07T00:00:00",
          "2021-01-08T00:00:00",
          "2021-01-09T00:00:00",
          "2021-01-10T00:00:00",
          "2021-01-11T00:00:00",
          "2021-01-12T00:00:00",
          "2021-01-14T00:00:00",
          "2021-01-15T00:00:00",
          "2021-01-17T00:00:00",
          "2021-01-18T00:00:00",
          "2021-01-19T00:00:00",
          "2021-01-20T00:00:00",
          "2021-01-21T00:00:00",
          "2021-01-22T00:00:00",
          "2021-01-25T00:00:00",
          "2021-01-26T00:00:00",
          "2021-01-27T00:00:00",
          "2021-01-28T00:00:00",
          "2021-01-29T00:00:00",
          "2021-02-02T00:00:00",
          "2021-02-03T00:00:00",
          "2021-02-04T00:00:00",
          "2021-02-05T00:00:00",
          "2021-02-08T00:00:00",
          "2021-02-09T00:00:00",
          "2021-02-11T00:00:00",
          "2021-02-12T00:00:00",
          "2021-02-15T00:00:00",
          "2021-02-17T00:00:00",
          "2021-02-18T00:00:00",
          "2021-02-22T00:00:00",
          "2021-02-23T00:00:00",
          "2021-02-25T00:00:00",
          "2021-02-26T00:00:00",
          "2021-03-01T00:00:00",
          "2021-03-03T00:00:00",
          "2021-03-04T00:00:00",
          "2021-03-06T00:00:00",
          "2021-03-08T00:00:00",
          "2021-03-09T00:00:00",
          "2021-03-10T00:00:00",
          "2021-03-11T00:00:00",
          "2021-03-12T00:00:00",
          "2021-03-15T00:00:00",
          "2021-03-16T00:00:00",
          "2021-03-17T00:00:00",
          "2021-03-19T00:00:00",
          "2021-03-23T00:00:00",
          "2021-03-24T00:00:00",
          "2021-03-25T00:00:00",
          "2021-03-26T00:00:00",
          "2021-03-30T00:00:00",
          "2021-03-31T00:00:00",
          "2021-04-07T00:00:00",
          "2021-04-08T00:00:00",
          "2021-04-09T00:00:00",
          "2021-04-13T00:00:00",
          "2021-04-15T00:00:00",
          "2021-04-16T00:00:00",
          "2021-04-19T00:00:00",
          "2021-04-21T00:00:00",
          "2021-04-22T00:00:00",
          "2021-04-23T00:00:00",
          "2021-04-24T00:00:00",
          "2021-04-27T00:00:00",
          "2021-04-28T00:00:00",
          "2021-04-30T00:00:00",
          "2021-05-04T00:00:00",
          "2021-05-06T00:00:00",
          "2021-05-10T00:00:00",
          "2021-05-13T00:00:00",
          "2021-05-14T00:00:00",
          "2021-05-18T00:00:00",
          "2021-05-19T00:00:00",
          "2021-05-21T00:00:00",
          "2021-05-24T00:00:00",
          "2021-05-26T00:00:00",
          "2021-06-01T00:00:00",
          "2021-06-03T00:00:00",
          "2021-06-04T00:00:00",
          "2021-06-09T00:00:00",
          "2021-06-11T00:00:00",
          "2021-06-15T00:00:00",
          "2021-06-16T00:00:00",
          "2021-06-17T00:00:00",
          "2021-06-18T00:00:00",
          "2021-06-21T00:00:00",
          "2021-06-22T00:00:00",
          "2021-06-24T00:00:00",
          "2021-06-25T00:00:00",
          "2021-06-26T00:00:00",
          "2021-06-29T00:00:00",
          "2021-06-30T00:00:00",
          "2021-07-01T00:00:00",
          "2021-07-02T00:00:00",
          "2021-07-07T00:00:00",
          "2021-07-08T00:00:00",
          "2021-07-13T00:00:00",
          "2021-07-14T00:00:00",
          "2021-07-16T00:00:00",
          "2021-07-17T00:00:00",
          "2021-07-19T00:00:00",
          "2021-07-20T00:00:00",
          "2021-07-22T00:00:00",
          "2021-07-23T00:00:00",
          "2021-07-24T00:00:00",
          "2021-07-26T00:00:00",
          "2021-07-28T00:00:00",
          "2021-07-31T00:00:00",
          "2021-08-02T00:00:00",
          "2021-08-04T00:00:00",
          "2021-08-05T00:00:00",
          "2021-08-12T00:00:00",
          "2021-08-13T00:00:00",
          "2021-08-16T00:00:00",
          "2021-08-17T00:00:00",
          "2021-08-19T00:00:00",
          "2021-08-20T00:00:00",
          "2021-08-23T00:00:00",
          "2021-08-24T00:00:00",
          "2021-08-25T00:00:00",
          "2021-08-28T00:00:00",
          "2021-08-30T00:00:00",
          "2021-08-31T00:00:00",
          "2021-09-03T00:00:00",
          "2021-09-04T00:00:00",
          "2021-09-07T00:00:00",
          "2021-09-08T00:00:00",
          "2021-09-09T00:00:00",
          "2021-09-10T00:00:00",
          "2021-09-14T00:00:00",
          "2021-09-15T00:00:00",
          "2021-09-16T00:00:00",
          "2021-09-17T00:00:00",
          "2021-09-20T00:00:00",
          "2021-09-21T00:00:00",
          "2021-09-22T00:00:00",
          "2021-09-23T00:00:00",
          "2021-09-24T00:00:00",
          "2021-09-25T00:00:00",
          "2021-09-27T00:00:00",
          "2021-09-28T00:00:00",
          "2021-09-29T00:00:00",
          "2021-09-30T00:00:00",
          "2021-10-05T00:00:00",
          "2021-10-07T00:00:00",
          "2021-10-08T00:00:00",
          "2021-10-11T00:00:00",
          "2021-10-12T00:00:00",
          "2021-10-13T00:00:00",
          "2021-10-14T00:00:00",
          "2021-10-15T00:00:00",
          "2021-10-16T00:00:00",
          "2021-10-19T00:00:00",
          "2021-10-20T00:00:00",
          "2021-10-21T00:00:00",
          "2021-10-22T00:00:00",
          "2021-10-23T00:00:00",
          "2021-10-25T00:00:00",
          "2021-10-26T00:00:00",
          "2021-10-28T00:00:00",
          "2021-10-29T00:00:00",
          "2021-11-02T00:00:00",
          "2021-11-04T00:00:00",
          "2021-11-05T00:00:00",
          "2021-11-06T00:00:00",
          "2021-11-08T00:00:00",
          "2021-11-09T00:00:00",
          "2021-11-10T00:00:00",
          "2021-11-11T00:00:00",
          "2021-11-12T00:00:00",
          "2021-11-16T00:00:00",
          "2021-11-17T00:00:00",
          "2021-11-18T00:00:00",
          "2021-11-22T00:00:00",
          "2021-11-23T00:00:00",
          "2021-11-24T00:00:00",
          "2021-11-25T00:00:00",
          "2021-11-26T00:00:00",
          "2021-11-27T00:00:00",
          "2021-11-29T00:00:00",
          "2021-11-30T00:00:00",
          "2021-12-01T00:00:00",
          "2021-12-02T00:00:00",
          "2021-12-03T00:00:00",
          "2021-12-06T00:00:00",
          "2021-12-07T00:00:00",
          "2021-12-09T00:00:00",
          "2021-12-10T00:00:00",
          "2021-12-13T00:00:00",
          "2021-12-14T00:00:00",
          "2021-12-20T00:00:00",
          "2021-12-21T00:00:00",
          "2021-12-22T00:00:00",
          "2021-12-29T00:00:00",
          "2021-12-30T00:00:00",
          "2022-01-12T00:00:00",
          "2022-01-13T00:00:00",
          "2022-01-14T00:00:00",
          "2022-01-15T00:00:00",
          "2022-01-16T00:00:00",
          "2022-01-17T00:00:00",
          "2022-01-18T00:00:00",
          "2022-01-19T00:00:00",
          "2022-01-20T00:00:00",
          "2022-01-21T00:00:00",
          "2022-01-22T00:00:00",
          "2022-01-23T00:00:00",
          "2022-01-24T00:00:00",
          "2022-01-25T00:00:00",
          "2022-01-26T00:00:00",
          "2022-01-27T00:00:00",
          "2022-01-28T00:00:00",
          "2022-01-29T00:00:00",
          "2022-02-01T00:00:00",
          "2022-02-02T00:00:00",
          "2022-02-03T00:00:00",
          "2022-02-17T00:00:00",
          "2022-04-06T00:00:00",
          "2022-04-27T00:00:00",
          "2022-05-02T00:00:00",
          "2022-05-19T00:00:00",
          "2022-05-31T00:00:00",
          "2022-06-08T00:00:00",
          "2022-06-29T00:00:00",
          "2022-07-01T00:00:00",
          "2022-07-02T00:00:00",
          "2022-07-08T00:00:00",
          "2022-07-12T00:00:00",
          "2022-07-18T00:00:00",
          "2022-07-21T00:00:00",
          "2022-07-22T00:00:00",
          "2022-07-26T00:00:00",
          "2022-07-27T00:00:00",
          "2022-07-29T00:00:00",
          "2022-08-01T00:00:00",
          "2022-08-02T00:00:00",
          "2022-08-05T00:00:00",
          "2022-08-11T00:00:00",
          "2022-08-12T00:00:00",
          "2022-08-16T00:00:00",
          "2022-08-18T00:00:00",
          "2022-08-22T00:00:00",
          "2022-08-23T00:00:00",
          "2022-08-24T00:00:00",
          "2022-08-25T00:00:00",
          "2022-08-26T00:00:00",
          "2022-08-27T00:00:00",
          "2022-08-29T00:00:00",
          "2022-08-30T00:00:00",
          "2022-08-31T00:00:00",
          "2022-09-01T00:00:00",
          "2022-09-02T00:00:00",
          "2022-09-06T00:00:00",
          "2022-09-07T00:00:00",
          "2022-09-08T00:00:00",
          "2022-09-09T00:00:00",
          "2022-09-20T00:00:00",
          "2022-09-24T00:00:00",
          "2022-09-28T00:00:00",
          "2022-09-30T00:00:00",
          "2022-10-01T00:00:00",
          "2022-10-05T00:00:00",
          "2022-10-07T00:00:00",
          "2022-10-08T00:00:00",
          "2022-10-10T00:00:00",
          "2022-10-12T00:00:00",
          "2022-10-14T00:00:00",
          "2022-10-18T00:00:00",
          "2022-10-19T00:00:00",
          "2022-10-21T00:00:00",
          "2022-10-22T00:00:00",
          "2022-10-25T00:00:00",
          "2022-11-01T00:00:00",
          "2022-11-03T00:00:00",
          "2022-11-08T00:00:00",
          "2022-11-09T00:00:00",
          "2022-11-10T00:00:00",
          "2022-11-11T00:00:00",
          "2022-11-12T00:00:00",
          "2022-11-15T00:00:00",
          "2022-11-17T00:00:00",
          "2022-11-18T00:00:00",
          "2022-11-19T00:00:00",
          "2022-11-23T00:00:00",
          "2022-11-25T00:00:00",
          "2022-11-30T00:00:00",
          "2022-12-01T00:00:00",
          "2022-12-02T00:00:00",
          "2022-12-05T00:00:00",
          "2022-12-07T00:00:00",
          "2022-12-10T00:00:00",
          "2022-12-14T00:00:00",
          "2022-12-15T00:00:00",
          "2022-12-16T00:00:00",
          "2022-12-19T00:00:00",
          "2022-12-20T00:00:00",
          "2022-12-21T00:00:00",
          "2022-12-22T00:00:00",
          "2022-12-26T00:00:00",
          "2022-12-27T00:00:00",
          "2022-12-28T00:00:00",
          "2023-01-13T00:00:00",
          "2023-01-14T00:00:00",
          "2023-01-16T00:00:00",
          "2023-01-17T00:00:00",
          "2023-01-18T00:00:00",
          "2023-01-19T00:00:00",
          "2023-01-20T00:00:00",
          "2023-01-21T00:00:00",
          "2023-01-22T00:00:00",
          "2023-01-23T00:00:00",
          "2023-01-24T00:00:00",
          "2023-01-25T00:00:00",
          "2023-01-26T00:00:00",
          "2023-01-27T00:00:00",
          "2023-01-28T00:00:00",
          "2023-01-31T00:00:00",
          "2023-02-01T00:00:00",
          "2023-02-02T00:00:00",
          "2023-02-03T00:00:00",
          "2023-02-04T00:00:00",
          "2023-02-06T00:00:00",
          "2023-02-07T00:00:00",
          "2023-02-08T00:00:00",
          "2023-02-09T00:00:00",
          "2023-02-10T00:00:00",
          "2023-02-11T00:00:00",
          "2023-02-13T00:00:00",
          "2023-02-14T00:00:00",
          "2023-02-15T00:00:00",
          "2023-02-16T00:00:00",
          "2023-02-17T00:00:00",
          "2023-02-20T00:00:00",
          "2023-02-21T00:00:00",
          "2023-02-22T00:00:00",
          "2023-02-23T00:00:00",
          "2023-02-24T00:00:00",
          "2023-02-25T00:00:00",
          "2023-02-27T00:00:00",
          "2023-02-28T00:00:00",
          "2023-03-01T00:00:00",
          "2023-03-02T00:00:00",
          "2023-03-03T00:00:00",
          "2023-03-04T00:00:00",
          "2023-03-06T00:00:00",
          "2023-03-07T00:00:00",
          "2023-03-08T00:00:00",
          "2023-03-09T00:00:00",
          "2023-03-10T00:00:00",
          "2023-03-13T00:00:00",
          "2023-03-14T00:00:00",
          "2023-03-15T00:00:00",
          "2023-03-16T00:00:00",
          "2023-03-17T00:00:00",
          "2023-03-18T00:00:00",
          "2023-03-21T00:00:00",
          "2023-03-22T00:00:00",
          "2023-03-23T00:00:00",
          "2023-03-24T00:00:00",
          "2023-03-27T00:00:00",
          "2023-03-28T00:00:00",
          "2023-03-29T00:00:00",
          "2023-03-31T00:00:00",
          "2023-04-01T00:00:00",
          "2023-04-04T00:00:00",
          "2023-04-05T00:00:00",
          "2023-04-10T00:00:00",
          "2023-04-12T00:00:00",
          "2023-04-13T00:00:00",
          "2023-04-14T00:00:00",
          "2023-04-17T00:00:00",
          "2023-04-19T00:00:00",
          "2023-04-20T00:00:00",
          "2023-04-21T00:00:00",
          "2023-04-24T00:00:00",
          "2023-04-25T00:00:00",
          "2023-04-26T00:00:00",
          "2023-04-28T00:00:00",
          "2023-04-29T00:00:00",
          "2023-04-30T00:00:00",
          "2023-05-05T00:00:00",
          "2023-05-08T00:00:00",
          "2023-05-09T00:00:00",
          "2023-05-10T00:00:00",
          "2023-05-11T00:00:00",
          "2023-05-12T00:00:00",
          "2023-05-13T00:00:00",
          "2023-05-15T00:00:00",
          "2023-05-16T00:00:00",
          "2023-05-17T00:00:00",
          "2023-05-18T00:00:00",
          "2023-05-19T00:00:00",
          "2023-05-20T00:00:00",
          "2023-05-23T00:00:00",
          "2023-05-24T00:00:00",
          "2023-05-25T00:00:00",
          "2023-05-26T00:00:00",
          "2023-05-29T00:00:00",
          "2023-05-31T00:00:00",
          "2023-06-01T00:00:00",
          "2023-06-02T00:00:00",
          "2023-06-05T00:00:00",
          "2023-06-06T00:00:00",
          "2023-06-07T00:00:00",
          "2023-06-08T00:00:00",
          "2023-06-09T00:00:00",
          "2023-06-13T00:00:00",
          "2023-06-14T00:00:00",
          "2023-06-15T00:00:00",
          "2023-06-16T00:00:00",
          "2023-06-20T00:00:00",
          "2023-06-21T00:00:00",
          "2023-06-22T00:00:00",
          "2023-06-23T00:00:00",
          "2023-06-26T00:00:00",
          "2023-06-27T00:00:00",
          "2023-06-28T00:00:00",
          "2023-06-29T00:00:00",
          "2023-06-30T00:00:00",
          "2023-07-01T00:00:00",
          "2023-07-04T00:00:00",
          "2023-07-05T00:00:00",
          "2023-07-06T00:00:00",
          "2023-07-07T00:00:00",
          "2023-07-08T00:00:00",
          "2023-07-10T00:00:00",
          "2023-07-12T00:00:00",
          "2023-07-14T00:00:00",
          "2023-07-17T00:00:00",
          "2023-07-19T00:00:00",
          "2023-07-24T00:00:00",
          "2023-07-25T00:00:00",
          "2023-07-26T00:00:00",
          "2023-07-27T00:00:00",
          "2023-07-28T00:00:00",
          "2023-07-29T00:00:00",
          "2023-07-30T00:00:00",
          "2023-07-31T00:00:00",
          "2023-08-01T00:00:00",
          "2023-08-02T00:00:00",
          "2023-08-03T00:00:00",
          "2023-08-04T00:00:00",
          "2023-08-05T00:00:00",
          "2023-08-08T00:00:00",
          "2023-08-10T00:00:00",
          "2023-08-11T00:00:00",
          "2023-08-12T00:00:00",
          "2023-08-14T00:00:00",
          "2023-08-17T00:00:00",
          "2023-08-18T00:00:00",
          "2023-08-19T00:00:00",
          "2023-08-22T00:00:00",
          "2023-08-24T00:00:00",
          "2023-08-25T00:00:00",
          "2023-08-26T00:00:00",
          "2023-08-28T00:00:00",
          "2023-08-29T00:00:00",
          "2023-08-30T00:00:00",
          "2023-08-31T00:00:00",
          "2023-09-01T00:00:00",
          "2023-09-05T00:00:00",
          "2023-09-06T00:00:00",
          "2023-09-08T00:00:00",
          "2023-09-09T00:00:00",
          "2023-09-11T00:00:00",
          "2023-09-12T00:00:00",
          "2023-09-13T00:00:00",
          "2023-09-14T00:00:00",
          "2023-09-15T00:00:00",
          "2023-09-16T00:00:00",
          "2023-09-19T00:00:00",
          "2023-09-20T00:00:00",
          "2023-09-21T00:00:00",
          "2023-09-22T00:00:00",
          "2023-09-23T00:00:00",
          "2023-09-25T00:00:00",
          "2023-09-26T00:00:00",
          "2023-09-28T00:00:00",
          "2023-09-30T00:00:00",
          "2023-10-02T00:00:00",
          "2023-10-04T00:00:00",
          "2023-10-05T00:00:00",
          "2023-10-06T00:00:00",
          "2023-10-07T00:00:00",
          "2023-10-09T00:00:00",
          "2023-10-10T00:00:00",
          "2023-10-11T00:00:00",
          "2023-10-12T00:00:00",
          "2023-10-13T00:00:00",
          "2023-10-14T00:00:00",
          "2023-10-17T00:00:00",
          "2023-10-18T00:00:00",
          "2023-10-19T00:00:00",
          "2023-10-20T00:00:00",
          "2023-10-24T00:00:00",
          "2023-10-26T00:00:00",
          "2023-10-27T00:00:00",
          "2023-10-30T00:00:00",
          "2023-10-31T00:00:00",
          "2023-11-01T00:00:00",
          "2023-11-03T00:00:00",
          "2023-11-07T00:00:00",
          "2023-11-08T00:00:00",
          "2023-11-09T00:00:00",
          "2023-11-10T00:00:00",
          "2023-11-11T00:00:00",
          "2023-11-14T00:00:00",
          "2023-11-15T00:00:00",
          "2023-11-16T00:00:00",
          "2023-11-17T00:00:00",
          "2023-11-20T00:00:00",
          "2023-11-21T00:00:00",
          "2023-11-22T00:00:00",
          "2023-11-23T00:00:00",
          "2023-11-24T00:00:00",
          "2023-11-27T00:00:00",
          "2023-11-28T00:00:00",
          "2023-11-29T00:00:00",
          "2023-11-30T00:00:00",
          "2023-12-01T00:00:00",
          "2023-12-02T00:00:00",
          "2023-12-04T00:00:00",
          "2023-12-06T00:00:00",
          "2023-12-07T00:00:00",
          "2023-12-08T00:00:00",
          "2023-12-12T00:00:00",
          "2023-12-13T00:00:00",
          "2023-12-14T00:00:00",
          "2023-12-15T00:00:00",
          "2023-12-20T00:00:00",
          "2023-12-21T00:00:00",
          "2023-12-22T00:00:00",
          "2023-12-26T00:00:00",
          "2023-12-31T00:00:00",
          "2024-01-05T00:00:00",
          "2024-01-06T00:00:00",
          "2024-01-09T00:00:00",
          "2024-01-10T00:00:00",
          "2024-01-11T00:00:00",
          "2024-01-12T00:00:00",
          "2024-01-13T00:00:00",
          "2024-01-16T00:00:00",
          "2024-01-17T00:00:00",
          "2024-01-18T00:00:00",
          "2024-01-19T00:00:00",
          "2024-01-20T00:00:00",
          "2024-01-22T00:00:00",
          "2024-01-23T00:00:00",
          "2024-01-24T00:00:00",
          "2024-01-25T00:00:00"
         ],
         "xaxis": "x",
         "y": [
          203592015,
          748855070,
          191412000,
          534779208,
          895308456,
          424675532,
          272329860,
          206565096,
          145953333,
          137676384,
          492654654,
          824434216,
          1363675894,
          405407993,
          333312409,
          515489082,
          436781834,
          473337107,
          559844687,
          196527626,
          614864729,
          1047404549,
          814218702,
          51657069,
          198884312,
          209397460,
          663392956,
          306101574,
          183260998,
          346325000,
          474610068,
          575736173,
          3866402,
          256539056,
          680958697,
          55100000,
          240879804,
          639965977,
          209221133,
          646447336,
          1176388796,
          82339060,
          100822000,
          447299686,
          6950441053,
          101477824,
          511325000,
          224026330,
          16051424346,
          25359734477,
          699932390,
          337045620,
          254535772,
          35185534,
          322359567,
          50549040,
          111181996,
          234311000,
          158604005,
          99750000,
          55730320,
          200230320,
          82339060,
          144500000,
          253878543,
          226056656,
          45479100,
          1118239980,
          1412828622,
          509745000,
          4000000,
          77600000,
          114750000,
          928288192,
          31411200,
          12373872,
          310167326,
          1289977440,
          112689794,
          29802155,
          95993696,
          2570400,
          75729880,
          29810000,
          76000000,
          36269765,
          65450000,
          69920134,
          1523200,
          67651740,
          72500000,
          22500000,
          43755000,
          42840000,
          117271340,
          65450000,
          103788242,
          171829576,
          140470000,
          45300000,
          159477514,
          56500000,
          78750000,
          196825000,
          124541667,
          84375000,
          11250000,
          5625000,
          224610933,
          181652730,
          72848928,
          84791667,
          71486939,
          10472000,
          119766667,
          86600000,
          83254998,
          82522455,
          10000000,
          5000000,
          20225000,
          76050788,
          101873424,
          165625000,
          14600000,
          41975000,
          66326740,
          13300000,
          134143813,
          58035481,
          35672000,
          57550000,
          21750000,
          58800000,
          25700000,
          69600000,
          77525448,
          32606000,
          46840000,
          3104796456,
          318311875,
          990367999,
          33807866,
          190000160,
          55092803,
          64859808,
          7300000,
          25755606,
          90374193,
          26920000,
          114286268,
          210758576,
          84897698,
          16280000,
          93950000,
          13566000,
          79000000,
          142992570,
          116885998,
          356461838,
          193562800,
          544500905,
          38993134,
          36729904,
          71530181,
          11777526,
          16377935,
          18216667,
          7000000,
          27916268,
          71391456,
          56410535,
          52308803,
          26868632,
          3981494970,
          38014925,
          166427425,
          66164000,
          73941500,
          5557778867,
          25882500,
          5250000000,
          287928000,
          380851610,
          462406608,
          43470000,
          319056858,
          572688210,
          1403236580,
          159084312,
          673357810,
          302773433,
          917787522,
          287584200,
          481735777,
          1092553204,
          1589278119,
          715953365,
          1189858948,
          113930500,
          56447095,
          492087556,
          48000000,
          199541012,
          571120583,
          759405439,
          412916853,
          66118867,
          352277030,
          551006001,
          456944934,
          287641794,
          260092790,
          327599378,
          283926186,
          57500000,
          1048753337,
          3447258632,
          720665534,
          541899289,
          99317750,
          139218400,
          519448401,
          34075000,
          389228168,
          12870000,
          67592000,
          437497417,
          198582910,
          1330949724,
          755773607,
          90565578,
          200751600,
          172648036,
          251900261,
          325219232,
          337973398,
          222667000,
          120923000,
          369528667,
          150805083,
          213531557,
          983382657,
          95400000,
          369593836,
          51195578,
          125244000,
          37500000,
          42000000,
          294063333,
          80000000,
          64000000,
          146230000,
          342818000,
          134739834,
          70889000,
          252420700,
          28734450,
          48093900,
          105275000,
          99127373,
          8813473609,
          91805000,
          39675438,
          193068786,
          902214925,
          217136282,
          100428302,
          40063697,
          69130000,
          257376478,
          54758080,
          15263280,
          8564756753,
          64337050,
          5087760,
          2139363854,
          31889160,
          22920000,
          22745889,
          14333333,
          488628054,
          54092181,
          78250000,
          158765912,
          0,
          257631670,
          22920000,
          80625750,
          75453820,
          392517394,
          740747356,
          21570095,
          117387880,
          339284564,
          208289809,
          157384605,
          2543880,
          67685000,
          1358072883,
          503041221,
          35587760,
          33224420,
          37337993,
          37357000,
          35450613,
          11250000,
          177731210,
          216706654,
          211690325,
          50668333,
          33156180,
          28303769,
          111684210,
          47779154,
          122854269,
          776115383,
          20761662,
          401866232,
          119796970,
          86108712,
          132055108,
          22460894,
          95109245,
          108089026,
          118261612,
          71268354,
          1240857966,
          35741514,
          297177064,
          54159857,
          101206168,
          56359545,
          72073863,
          15576750,
          116798880,
          122686924,
          167289982,
          112036365,
          54582960,
          443465909,
          84883479,
          8160000,
          27666294,
          1300000000,
          94624527,
          211316704,
          90291670,
          6037956237,
          9448640,
          20510208,
          5730000,
          77110386,
          2035104,
          41054470,
          56674280,
          51952312,
          9570217,
          107510279,
          365735937,
          91871905,
          4666667,
          267093600,
          13742070,
          1031969913,
          36171622,
          1015250774,
          35269000,
          803533022,
          375691984,
          115379337,
          19000000,
          14000000,
          104894139,
          1122027200,
          2337049,
          53760000,
          10468565474,
          127305000,
          224026035,
          415063529,
          1426757543,
          986801490,
          2177292035,
          2071212834,
          1601322943,
          1855983631,
          1518561291,
          3233979596,
          1552602974,
          1627056168,
          1144863643,
          1644363813,
          3238049039,
          3925068574,
          8217947513,
          2901586494,
          38278800,
          19357624103,
          948665544,
          67000000,
          16030500,
          38058579,
          3133827772,
          24507812,
          68946700,
          270942169,
          10500000,
          70000000,
          9624575,
          165000640,
          269309105,
          247294679,
          89525500,
          348832923,
          41961165,
          320863103,
          5936000,
          440000000,
          108000000,
          14637890,
          42800111,
          34666667,
          23184468,
          88559287,
          6535000,
          97340000,
          123537500,
          46800000,
          7720310,
          100197883,
          34500000,
          250490444,
          97768318,
          131453056,
          9212434,
          9328027,
          7313103,
          110288840,
          6240000,
          4540000,
          14200000,
          47367000,
          405819383,
          484040592,
          22500000,
          405113148,
          82506667,
          16146667,
          10640000,
          29792848,
          8120000,
          58178981,
          9823000,
          30987033,
          39000000,
          12560000,
          15658228,
          74338958,
          122360491,
          35912132,
          22400000,
          57684800,
          8807775,
          109750000,
          14000000,
          3997687,
          3750000,
          45588007,
          29259075,
          60520467,
          69642884,
          60477195,
          11205803,
          21367035,
          18899052,
          6233333,
          94582593,
          34024763,
          76000000,
          290980779,
          246599900,
          463257861,
          1728432604,
          183016844,
          750691000,
          318580000,
          31720000,
          811148000,
          1607188000,
          2998663668,
          2978120003,
          1101717000,
          404885001,
          1186941333,
          3147307668,
          2278578333,
          920320000,
          637550000,
          120891000,
          1763881333,
          984350333,
          78128334,
          834945666,
          632937000,
          586976250,
          539854000,
          683883667,
          601896334,
          393034000,
          103247267,
          480056333,
          726485999,
          896093001,
          515938333,
          575805000,
          291960000,
          280385000,
          392666666,
          249865000,
          165875333,
          408121333,
          187474000,
          308483334,
          694027000,
          1295005000,
          511700000,
          159368000,
          312582667,
          86080000,
          139099999,
          538546340,
          619900787,
          156085000,
          35400000,
          904056132,
          371773366,
          1350971364,
          49920000,
          114840667,
          324768333,
          679621667,
          73000000,
          303950333,
          259872000,
          103300667,
          574263335,
          429043333,
          19625669848,
          375588333,
          0,
          178590550,
          191994000,
          62006000,
          278044620,
          417621334,
          42082333,
          9000000,
          61500000,
          557790000,
          225364621,
          182890334,
          181844333,
          30780000,
          818777337,
          59148000,
          317639635,
          36348000,
          36820000,
          311713665,
          124886667,
          23280000,
          69799000,
          26550000,
          164836999,
          0,
          53594333,
          33335000,
          54004000,
          0,
          70771603,
          0,
          106184667,
          0,
          65590000,
          0,
          103721000,
          173360982,
          147324332,
          128350000,
          119540000,
          0,
          234570000,
          37505000,
          81965667,
          0,
          256581301,
          0,
          0,
          0,
          138311332,
          202387667,
          225372667,
          53600000,
          8960000,
          259605668,
          39875000,
          101236667,
          131896667,
          86326333,
          148571500,
          252556666,
          15714000,
          920892237,
          90145666,
          70898333,
          42481700,
          0,
          748674329,
          36901750,
          16500000,
          26500000,
          240774333,
          1506765804,
          76646967,
          214992333,
          43470000,
          10000000,
          208590667,
          235699946,
          122670333,
          90630601,
          478839536,
          130995000,
          23619333,
          45405000,
          2006424345,
          88518000,
          251264332,
          182865666,
          81847666,
          124075666,
          294248666,
          199832233,
          280499998,
          494547663,
          379849998,
          13352500,
          90230000,
          8960000,
          1097431332,
          146110646,
          74215667,
          57700000,
          58800000,
          18458667,
          715056329,
          165874333,
          7480666,
          13440000,
          236998000,
          365655664,
          222531665,
          50013333,
          342211999,
          279858333,
          260672997,
          25650000,
          17820000,
          143083650,
          125990998,
          86679998,
          140168665,
          75095000,
          170147664,
          11422424688,
          15510000,
          76848999,
          81527334,
          24618666,
          54082333,
          42812000,
          37720000,
          20301667,
          32689653,
          531516667,
          48835333,
          32346000,
          37859333,
          5610000,
          393210954,
          65777667,
          22877667,
          5253755666,
          9735000,
          57300332,
          30920001,
          61592333,
          122007566,
          194992191,
          5546667,
          64875371,
          74904558,
          22074001,
          33166668,
          1472230949,
          9150000,
          165906151,
          135977787,
          10866667,
          11862000,
          3745192271,
          7240311121,
          266751036,
          90059200,
          641199209,
          104666219,
          9209281158,
          242483466,
          1876506064,
          210033833,
          2475162567,
          1980512533,
          2600949301,
          1952226001,
          4176493102,
          2501930231,
          2002038732,
          888524299,
          214579200,
          69072600,
          1525917640,
          1051394166,
          670847600
         ],
         "yaxis": "y"
        }
       ],
       "layout": {
        "legend": {
         "tracegroupgap": 0
        },
        "template": {
         "data": {
          "bar": [
           {
            "error_x": {
             "color": "#2a3f5f"
            },
            "error_y": {
             "color": "#2a3f5f"
            },
            "marker": {
             "line": {
              "color": "#E5ECF6",
              "width": 0.5
             },
             "pattern": {
              "fillmode": "overlay",
              "size": 10,
              "solidity": 0.2
             }
            },
            "type": "bar"
           }
          ],
          "barpolar": [
           {
            "marker": {
             "line": {
              "color": "#E5ECF6",
              "width": 0.5
             },
             "pattern": {
              "fillmode": "overlay",
              "size": 10,
              "solidity": 0.2
             }
            },
            "type": "barpolar"
           }
          ],
          "carpet": [
           {
            "aaxis": {
             "endlinecolor": "#2a3f5f",
             "gridcolor": "white",
             "linecolor": "white",
             "minorgridcolor": "white",
             "startlinecolor": "#2a3f5f"
            },
            "baxis": {
             "endlinecolor": "#2a3f5f",
             "gridcolor": "white",
             "linecolor": "white",
             "minorgridcolor": "white",
             "startlinecolor": "#2a3f5f"
            },
            "type": "carpet"
           }
          ],
          "choropleth": [
           {
            "colorbar": {
             "outlinewidth": 0,
             "ticks": ""
            },
            "type": "choropleth"
           }
          ],
          "contour": [
           {
            "colorbar": {
             "outlinewidth": 0,
             "ticks": ""
            },
            "colorscale": [
             [
              0,
              "#0d0887"
             ],
             [
              0.1111111111111111,
              "#46039f"
             ],
             [
              0.2222222222222222,
              "#7201a8"
             ],
             [
              0.3333333333333333,
              "#9c179e"
             ],
             [
              0.4444444444444444,
              "#bd3786"
             ],
             [
              0.5555555555555556,
              "#d8576b"
             ],
             [
              0.6666666666666666,
              "#ed7953"
             ],
             [
              0.7777777777777778,
              "#fb9f3a"
             ],
             [
              0.8888888888888888,
              "#fdca26"
             ],
             [
              1,
              "#f0f921"
             ]
            ],
            "type": "contour"
           }
          ],
          "contourcarpet": [
           {
            "colorbar": {
             "outlinewidth": 0,
             "ticks": ""
            },
            "type": "contourcarpet"
           }
          ],
          "heatmap": [
           {
            "colorbar": {
             "outlinewidth": 0,
             "ticks": ""
            },
            "colorscale": [
             [
              0,
              "#0d0887"
             ],
             [
              0.1111111111111111,
              "#46039f"
             ],
             [
              0.2222222222222222,
              "#7201a8"
             ],
             [
              0.3333333333333333,
              "#9c179e"
             ],
             [
              0.4444444444444444,
              "#bd3786"
             ],
             [
              0.5555555555555556,
              "#d8576b"
             ],
             [
              0.6666666666666666,
              "#ed7953"
             ],
             [
              0.7777777777777778,
              "#fb9f3a"
             ],
             [
              0.8888888888888888,
              "#fdca26"
             ],
             [
              1,
              "#f0f921"
             ]
            ],
            "type": "heatmap"
           }
          ],
          "heatmapgl": [
           {
            "colorbar": {
             "outlinewidth": 0,
             "ticks": ""
            },
            "colorscale": [
             [
              0,
              "#0d0887"
             ],
             [
              0.1111111111111111,
              "#46039f"
             ],
             [
              0.2222222222222222,
              "#7201a8"
             ],
             [
              0.3333333333333333,
              "#9c179e"
             ],
             [
              0.4444444444444444,
              "#bd3786"
             ],
             [
              0.5555555555555556,
              "#d8576b"
             ],
             [
              0.6666666666666666,
              "#ed7953"
             ],
             [
              0.7777777777777778,
              "#fb9f3a"
             ],
             [
              0.8888888888888888,
              "#fdca26"
             ],
             [
              1,
              "#f0f921"
             ]
            ],
            "type": "heatmapgl"
           }
          ],
          "histogram": [
           {
            "marker": {
             "pattern": {
              "fillmode": "overlay",
              "size": 10,
              "solidity": 0.2
             }
            },
            "type": "histogram"
           }
          ],
          "histogram2d": [
           {
            "colorbar": {
             "outlinewidth": 0,
             "ticks": ""
            },
            "colorscale": [
             [
              0,
              "#0d0887"
             ],
             [
              0.1111111111111111,
              "#46039f"
             ],
             [
              0.2222222222222222,
              "#7201a8"
             ],
             [
              0.3333333333333333,
              "#9c179e"
             ],
             [
              0.4444444444444444,
              "#bd3786"
             ],
             [
              0.5555555555555556,
              "#d8576b"
             ],
             [
              0.6666666666666666,
              "#ed7953"
             ],
             [
              0.7777777777777778,
              "#fb9f3a"
             ],
             [
              0.8888888888888888,
              "#fdca26"
             ],
             [
              1,
              "#f0f921"
             ]
            ],
            "type": "histogram2d"
           }
          ],
          "histogram2dcontour": [
           {
            "colorbar": {
             "outlinewidth": 0,
             "ticks": ""
            },
            "colorscale": [
             [
              0,
              "#0d0887"
             ],
             [
              0.1111111111111111,
              "#46039f"
             ],
             [
              0.2222222222222222,
              "#7201a8"
             ],
             [
              0.3333333333333333,
              "#9c179e"
             ],
             [
              0.4444444444444444,
              "#bd3786"
             ],
             [
              0.5555555555555556,
              "#d8576b"
             ],
             [
              0.6666666666666666,
              "#ed7953"
             ],
             [
              0.7777777777777778,
              "#fb9f3a"
             ],
             [
              0.8888888888888888,
              "#fdca26"
             ],
             [
              1,
              "#f0f921"
             ]
            ],
            "type": "histogram2dcontour"
           }
          ],
          "mesh3d": [
           {
            "colorbar": {
             "outlinewidth": 0,
             "ticks": ""
            },
            "type": "mesh3d"
           }
          ],
          "parcoords": [
           {
            "line": {
             "colorbar": {
              "outlinewidth": 0,
              "ticks": ""
             }
            },
            "type": "parcoords"
           }
          ],
          "pie": [
           {
            "automargin": true,
            "type": "pie"
           }
          ],
          "scatter": [
           {
            "fillpattern": {
             "fillmode": "overlay",
             "size": 10,
             "solidity": 0.2
            },
            "type": "scatter"
           }
          ],
          "scatter3d": [
           {
            "line": {
             "colorbar": {
              "outlinewidth": 0,
              "ticks": ""
             }
            },
            "marker": {
             "colorbar": {
              "outlinewidth": 0,
              "ticks": ""
             }
            },
            "type": "scatter3d"
           }
          ],
          "scattercarpet": [
           {
            "marker": {
             "colorbar": {
              "outlinewidth": 0,
              "ticks": ""
             }
            },
            "type": "scattercarpet"
           }
          ],
          "scattergeo": [
           {
            "marker": {
             "colorbar": {
              "outlinewidth": 0,
              "ticks": ""
             }
            },
            "type": "scattergeo"
           }
          ],
          "scattergl": [
           {
            "marker": {
             "colorbar": {
              "outlinewidth": 0,
              "ticks": ""
             }
            },
            "type": "scattergl"
           }
          ],
          "scattermapbox": [
           {
            "marker": {
             "colorbar": {
              "outlinewidth": 0,
              "ticks": ""
             }
            },
            "type": "scattermapbox"
           }
          ],
          "scatterpolar": [
           {
            "marker": {
             "colorbar": {
              "outlinewidth": 0,
              "ticks": ""
             }
            },
            "type": "scatterpolar"
           }
          ],
          "scatterpolargl": [
           {
            "marker": {
             "colorbar": {
              "outlinewidth": 0,
              "ticks": ""
             }
            },
            "type": "scatterpolargl"
           }
          ],
          "scatterternary": [
           {
            "marker": {
             "colorbar": {
              "outlinewidth": 0,
              "ticks": ""
             }
            },
            "type": "scatterternary"
           }
          ],
          "surface": [
           {
            "colorbar": {
             "outlinewidth": 0,
             "ticks": ""
            },
            "colorscale": [
             [
              0,
              "#0d0887"
             ],
             [
              0.1111111111111111,
              "#46039f"
             ],
             [
              0.2222222222222222,
              "#7201a8"
             ],
             [
              0.3333333333333333,
              "#9c179e"
             ],
             [
              0.4444444444444444,
              "#bd3786"
             ],
             [
              0.5555555555555556,
              "#d8576b"
             ],
             [
              0.6666666666666666,
              "#ed7953"
             ],
             [
              0.7777777777777778,
              "#fb9f3a"
             ],
             [
              0.8888888888888888,
              "#fdca26"
             ],
             [
              1,
              "#f0f921"
             ]
            ],
            "type": "surface"
           }
          ],
          "table": [
           {
            "cells": {
             "fill": {
              "color": "#EBF0F8"
             },
             "line": {
              "color": "white"
             }
            },
            "header": {
             "fill": {
              "color": "#C8D4E3"
             },
             "line": {
              "color": "white"
             }
            },
            "type": "table"
           }
          ]
         },
         "layout": {
          "annotationdefaults": {
           "arrowcolor": "#2a3f5f",
           "arrowhead": 0,
           "arrowwidth": 1
          },
          "autotypenumbers": "strict",
          "coloraxis": {
           "colorbar": {
            "outlinewidth": 0,
            "ticks": ""
           }
          },
          "colorscale": {
           "diverging": [
            [
             0,
             "#8e0152"
            ],
            [
             0.1,
             "#c51b7d"
            ],
            [
             0.2,
             "#de77ae"
            ],
            [
             0.3,
             "#f1b6da"
            ],
            [
             0.4,
             "#fde0ef"
            ],
            [
             0.5,
             "#f7f7f7"
            ],
            [
             0.6,
             "#e6f5d0"
            ],
            [
             0.7,
             "#b8e186"
            ],
            [
             0.8,
             "#7fbc41"
            ],
            [
             0.9,
             "#4d9221"
            ],
            [
             1,
             "#276419"
            ]
           ],
           "sequential": [
            [
             0,
             "#0d0887"
            ],
            [
             0.1111111111111111,
             "#46039f"
            ],
            [
             0.2222222222222222,
             "#7201a8"
            ],
            [
             0.3333333333333333,
             "#9c179e"
            ],
            [
             0.4444444444444444,
             "#bd3786"
            ],
            [
             0.5555555555555556,
             "#d8576b"
            ],
            [
             0.6666666666666666,
             "#ed7953"
            ],
            [
             0.7777777777777778,
             "#fb9f3a"
            ],
            [
             0.8888888888888888,
             "#fdca26"
            ],
            [
             1,
             "#f0f921"
            ]
           ],
           "sequentialminus": [
            [
             0,
             "#0d0887"
            ],
            [
             0.1111111111111111,
             "#46039f"
            ],
            [
             0.2222222222222222,
             "#7201a8"
            ],
            [
             0.3333333333333333,
             "#9c179e"
            ],
            [
             0.4444444444444444,
             "#bd3786"
            ],
            [
             0.5555555555555556,
             "#d8576b"
            ],
            [
             0.6666666666666666,
             "#ed7953"
            ],
            [
             0.7777777777777778,
             "#fb9f3a"
            ],
            [
             0.8888888888888888,
             "#fdca26"
            ],
            [
             1,
             "#f0f921"
            ]
           ]
          },
          "colorway": [
           "#636efa",
           "#EF553B",
           "#00cc96",
           "#ab63fa",
           "#FFA15A",
           "#19d3f3",
           "#FF6692",
           "#B6E880",
           "#FF97FF",
           "#FECB52"
          ],
          "font": {
           "color": "#2a3f5f"
          },
          "geo": {
           "bgcolor": "white",
           "lakecolor": "white",
           "landcolor": "#E5ECF6",
           "showlakes": true,
           "showland": true,
           "subunitcolor": "white"
          },
          "hoverlabel": {
           "align": "left"
          },
          "hovermode": "closest",
          "mapbox": {
           "style": "light"
          },
          "paper_bgcolor": "white",
          "plot_bgcolor": "#E5ECF6",
          "polar": {
           "angularaxis": {
            "gridcolor": "white",
            "linecolor": "white",
            "ticks": ""
           },
           "bgcolor": "#E5ECF6",
           "radialaxis": {
            "gridcolor": "white",
            "linecolor": "white",
            "ticks": ""
           }
          },
          "scene": {
           "xaxis": {
            "backgroundcolor": "#E5ECF6",
            "gridcolor": "white",
            "gridwidth": 2,
            "linecolor": "white",
            "showbackground": true,
            "ticks": "",
            "zerolinecolor": "white"
           },
           "yaxis": {
            "backgroundcolor": "#E5ECF6",
            "gridcolor": "white",
            "gridwidth": 2,
            "linecolor": "white",
            "showbackground": true,
            "ticks": "",
            "zerolinecolor": "white"
           },
           "zaxis": {
            "backgroundcolor": "#E5ECF6",
            "gridcolor": "white",
            "gridwidth": 2,
            "linecolor": "white",
            "showbackground": true,
            "ticks": "",
            "zerolinecolor": "white"
           }
          },
          "shapedefaults": {
           "line": {
            "color": "#2a3f5f"
           }
          },
          "ternary": {
           "aaxis": {
            "gridcolor": "white",
            "linecolor": "white",
            "ticks": ""
           },
           "baxis": {
            "gridcolor": "white",
            "linecolor": "white",
            "ticks": ""
           },
           "bgcolor": "#E5ECF6",
           "caxis": {
            "gridcolor": "white",
            "linecolor": "white",
            "ticks": ""
           }
          },
          "title": {
           "x": 0.05
          },
          "xaxis": {
           "automargin": true,
           "gridcolor": "white",
           "linecolor": "white",
           "ticks": "",
           "title": {
            "standoff": 15
           },
           "zerolinecolor": "white",
           "zerolinewidth": 2
          },
          "yaxis": {
           "automargin": true,
           "gridcolor": "white",
           "linecolor": "white",
           "ticks": "",
           "title": {
            "standoff": 15
           },
           "zerolinecolor": "white",
           "zerolinewidth": 2
          }
         }
        },
        "title": {
         "text": "Valor total de contratos ESAP según fecha de firma 2020 - 2024"
        },
        "xaxis": {
         "anchor": "y",
         "domain": [
          0,
          1
         ],
         "title": {
          "text": "fecha_de_firma"
         }
        },
        "yaxis": {
         "anchor": "x",
         "domain": [
          0,
          1
         ],
         "title": {
          "text": "valor_del_contrato"
         }
        }
       }
      }
     },
     "metadata": {},
     "output_type": "display_data"
    }
   ],
   "source": [
    "# Asegurar que 'fecha_de_firma' es un tipo de dato datetime\n",
    "secop['fecha_de_firma'] = pd.to_datetime(secop['fecha_de_firma'])\n",
    "\n",
    "# Agrupar y sumar el valor del contrato por fecha de firma\n",
    "valor_fecha = secop.groupby('fecha_de_firma')['valor_del_contrato'].sum().reset_index()\n",
    "\n",
    "# Crear el gráfico utilizando Plotly\n",
    "fig = px.line(valor_fecha, x='fecha_de_firma', y='valor_del_contrato', title='Valor total de contratos ESAP según fecha de firma 2020 - 2024')\n",
    "\n",
    "# Mostrar el gráfico\n",
    "fig.show()"
   ]
  },
  {
   "cell_type": "code",
   "execution_count": 438,
   "metadata": {},
   "outputs": [
    {
     "data": {
      "application/vnd.plotly.v1+json": {
       "config": {
        "plotlyServerURL": "https://plot.ly"
       },
       "data": [
        {
         "hovertemplate": "fecha_de_firma=%{x}<br>Valor Promedio del Contrato=%{y}<extra></extra>",
         "legendgroup": "",
         "line": {
          "color": "#636efa",
          "dash": "solid"
         },
         "marker": {
          "symbol": "circle"
         },
         "mode": "lines",
         "name": "",
         "orientation": "v",
         "showlegend": false,
         "type": "scatter",
         "x": [
          "2020-01-02T00:00:00",
          "2020-01-03T00:00:00",
          "2020-01-04T00:00:00",
          "2020-01-07T00:00:00",
          "2020-01-08T00:00:00",
          "2020-01-09T00:00:00",
          "2020-01-10T00:00:00",
          "2020-01-12T00:00:00",
          "2020-01-13T00:00:00",
          "2020-01-14T00:00:00",
          "2020-01-15T00:00:00",
          "2020-01-16T00:00:00",
          "2020-01-17T00:00:00",
          "2020-01-20T00:00:00",
          "2020-01-21T00:00:00",
          "2020-01-22T00:00:00",
          "2020-01-23T00:00:00",
          "2020-01-24T00:00:00",
          "2020-01-25T00:00:00",
          "2020-01-27T00:00:00",
          "2020-01-28T00:00:00",
          "2020-01-30T00:00:00",
          "2020-01-31T00:00:00",
          "2020-02-01T00:00:00",
          "2020-02-03T00:00:00",
          "2020-02-05T00:00:00",
          "2020-02-06T00:00:00",
          "2020-02-07T00:00:00",
          "2020-02-08T00:00:00",
          "2020-02-10T00:00:00",
          "2020-02-11T00:00:00",
          "2020-02-12T00:00:00",
          "2020-02-13T00:00:00",
          "2020-02-14T00:00:00",
          "2020-02-15T00:00:00",
          "2020-02-17T00:00:00",
          "2020-02-18T00:00:00",
          "2020-02-19T00:00:00",
          "2020-02-20T00:00:00",
          "2020-02-21T00:00:00",
          "2020-02-24T00:00:00",
          "2020-02-25T00:00:00",
          "2020-02-26T00:00:00",
          "2020-02-27T00:00:00",
          "2020-02-29T00:00:00",
          "2020-03-02T00:00:00",
          "2020-03-03T00:00:00",
          "2020-03-04T00:00:00",
          "2020-03-06T00:00:00",
          "2020-03-07T00:00:00",
          "2020-03-11T00:00:00",
          "2020-03-13T00:00:00",
          "2020-03-14T00:00:00",
          "2020-03-16T00:00:00",
          "2020-03-19T00:00:00",
          "2020-03-30T00:00:00",
          "2020-04-03T00:00:00",
          "2020-04-04T00:00:00",
          "2020-04-16T00:00:00",
          "2020-04-17T00:00:00",
          "2020-04-18T00:00:00",
          "2020-04-20T00:00:00",
          "2020-04-21T00:00:00",
          "2020-04-22T00:00:00",
          "2020-04-23T00:00:00",
          "2020-04-24T00:00:00",
          "2020-05-14T00:00:00",
          "2020-05-18T00:00:00",
          "2020-05-20T00:00:00",
          "2020-05-21T00:00:00",
          "2020-05-22T00:00:00",
          "2020-05-27T00:00:00",
          "2020-06-02T00:00:00",
          "2020-06-04T00:00:00",
          "2020-06-05T00:00:00",
          "2020-06-08T00:00:00",
          "2020-06-10T00:00:00",
          "2020-06-17T00:00:00",
          "2020-06-19T00:00:00",
          "2020-06-24T00:00:00",
          "2020-06-26T00:00:00",
          "2020-06-27T00:00:00",
          "2020-07-01T00:00:00",
          "2020-07-03T00:00:00",
          "2020-07-06T00:00:00",
          "2020-07-07T00:00:00",
          "2020-07-13T00:00:00",
          "2020-07-14T00:00:00",
          "2020-07-16T00:00:00",
          "2020-07-17T00:00:00",
          "2020-07-21T00:00:00",
          "2020-07-23T00:00:00",
          "2020-07-24T00:00:00",
          "2020-07-25T00:00:00",
          "2020-07-27T00:00:00",
          "2020-07-28T00:00:00",
          "2020-07-29T00:00:00",
          "2020-08-03T00:00:00",
          "2020-08-04T00:00:00",
          "2020-08-05T00:00:00",
          "2020-08-06T00:00:00",
          "2020-08-11T00:00:00",
          "2020-08-12T00:00:00",
          "2020-08-13T00:00:00",
          "2020-08-14T00:00:00",
          "2020-08-18T00:00:00",
          "2020-08-19T00:00:00",
          "2020-08-20T00:00:00",
          "2020-08-21T00:00:00",
          "2020-08-25T00:00:00",
          "2020-08-26T00:00:00",
          "2020-08-27T00:00:00",
          "2020-08-28T00:00:00",
          "2020-08-29T00:00:00",
          "2020-08-31T00:00:00",
          "2020-09-01T00:00:00",
          "2020-09-02T00:00:00",
          "2020-09-03T00:00:00",
          "2020-09-04T00:00:00",
          "2020-09-07T00:00:00",
          "2020-09-09T00:00:00",
          "2020-09-10T00:00:00",
          "2020-09-12T00:00:00",
          "2020-09-14T00:00:00",
          "2020-09-16T00:00:00",
          "2020-09-17T00:00:00",
          "2020-09-22T00:00:00",
          "2020-09-23T00:00:00",
          "2020-09-24T00:00:00",
          "2020-09-25T00:00:00",
          "2020-09-28T00:00:00",
          "2020-09-29T00:00:00",
          "2020-10-01T00:00:00",
          "2020-10-02T00:00:00",
          "2020-10-03T00:00:00",
          "2020-10-06T00:00:00",
          "2020-10-07T00:00:00",
          "2020-10-08T00:00:00",
          "2020-10-10T00:00:00",
          "2020-10-13T00:00:00",
          "2020-10-14T00:00:00",
          "2020-10-15T00:00:00",
          "2020-10-16T00:00:00",
          "2020-10-19T00:00:00",
          "2020-10-21T00:00:00",
          "2020-10-22T00:00:00",
          "2020-10-23T00:00:00",
          "2020-10-26T00:00:00",
          "2020-10-28T00:00:00",
          "2020-10-29T00:00:00",
          "2020-10-30T00:00:00",
          "2020-10-31T00:00:00",
          "2020-11-04T00:00:00",
          "2020-11-05T00:00:00",
          "2020-11-09T00:00:00",
          "2020-11-10T00:00:00",
          "2020-11-11T00:00:00",
          "2020-11-12T00:00:00",
          "2020-11-13T00:00:00",
          "2020-11-18T00:00:00",
          "2020-11-19T00:00:00",
          "2020-11-20T00:00:00",
          "2020-11-23T00:00:00",
          "2020-11-24T00:00:00",
          "2020-11-25T00:00:00",
          "2020-11-26T00:00:00",
          "2020-11-27T00:00:00",
          "2020-11-28T00:00:00",
          "2020-11-30T00:00:00",
          "2020-12-01T00:00:00",
          "2020-12-02T00:00:00",
          "2020-12-04T00:00:00",
          "2020-12-09T00:00:00",
          "2020-12-15T00:00:00",
          "2020-12-16T00:00:00",
          "2020-12-18T00:00:00",
          "2020-12-21T00:00:00",
          "2020-12-22T00:00:00",
          "2020-12-23T00:00:00",
          "2020-12-24T00:00:00",
          "2020-12-28T00:00:00",
          "2020-12-30T00:00:00",
          "2021-01-06T00:00:00",
          "2021-01-07T00:00:00",
          "2021-01-08T00:00:00",
          "2021-01-09T00:00:00",
          "2021-01-10T00:00:00",
          "2021-01-11T00:00:00",
          "2021-01-12T00:00:00",
          "2021-01-14T00:00:00",
          "2021-01-15T00:00:00",
          "2021-01-17T00:00:00",
          "2021-01-18T00:00:00",
          "2021-01-19T00:00:00",
          "2021-01-20T00:00:00",
          "2021-01-21T00:00:00",
          "2021-01-22T00:00:00",
          "2021-01-25T00:00:00",
          "2021-01-26T00:00:00",
          "2021-01-27T00:00:00",
          "2021-01-28T00:00:00",
          "2021-01-29T00:00:00",
          "2021-02-02T00:00:00",
          "2021-02-03T00:00:00",
          "2021-02-04T00:00:00",
          "2021-02-05T00:00:00",
          "2021-02-08T00:00:00",
          "2021-02-09T00:00:00",
          "2021-02-11T00:00:00",
          "2021-02-12T00:00:00",
          "2021-02-15T00:00:00",
          "2021-02-17T00:00:00",
          "2021-02-18T00:00:00",
          "2021-02-22T00:00:00",
          "2021-02-23T00:00:00",
          "2021-02-25T00:00:00",
          "2021-02-26T00:00:00",
          "2021-03-01T00:00:00",
          "2021-03-03T00:00:00",
          "2021-03-04T00:00:00",
          "2021-03-06T00:00:00",
          "2021-03-08T00:00:00",
          "2021-03-09T00:00:00",
          "2021-03-10T00:00:00",
          "2021-03-11T00:00:00",
          "2021-03-12T00:00:00",
          "2021-03-15T00:00:00",
          "2021-03-16T00:00:00",
          "2021-03-17T00:00:00",
          "2021-03-19T00:00:00",
          "2021-03-23T00:00:00",
          "2021-03-24T00:00:00",
          "2021-03-25T00:00:00",
          "2021-03-26T00:00:00",
          "2021-03-30T00:00:00",
          "2021-03-31T00:00:00",
          "2021-04-07T00:00:00",
          "2021-04-08T00:00:00",
          "2021-04-09T00:00:00",
          "2021-04-13T00:00:00",
          "2021-04-15T00:00:00",
          "2021-04-16T00:00:00",
          "2021-04-19T00:00:00",
          "2021-04-21T00:00:00",
          "2021-04-22T00:00:00",
          "2021-04-23T00:00:00",
          "2021-04-24T00:00:00",
          "2021-04-27T00:00:00",
          "2021-04-28T00:00:00",
          "2021-04-30T00:00:00",
          "2021-05-04T00:00:00",
          "2021-05-06T00:00:00",
          "2021-05-10T00:00:00",
          "2021-05-13T00:00:00",
          "2021-05-14T00:00:00",
          "2021-05-18T00:00:00",
          "2021-05-19T00:00:00",
          "2021-05-21T00:00:00",
          "2021-05-24T00:00:00",
          "2021-05-26T00:00:00",
          "2021-06-01T00:00:00",
          "2021-06-03T00:00:00",
          "2021-06-04T00:00:00",
          "2021-06-09T00:00:00",
          "2021-06-11T00:00:00",
          "2021-06-15T00:00:00",
          "2021-06-16T00:00:00",
          "2021-06-17T00:00:00",
          "2021-06-18T00:00:00",
          "2021-06-21T00:00:00",
          "2021-06-22T00:00:00",
          "2021-06-24T00:00:00",
          "2021-06-25T00:00:00",
          "2021-06-26T00:00:00",
          "2021-06-29T00:00:00",
          "2021-06-30T00:00:00",
          "2021-07-01T00:00:00",
          "2021-07-02T00:00:00",
          "2021-07-07T00:00:00",
          "2021-07-08T00:00:00",
          "2021-07-13T00:00:00",
          "2021-07-14T00:00:00",
          "2021-07-16T00:00:00",
          "2021-07-17T00:00:00",
          "2021-07-19T00:00:00",
          "2021-07-20T00:00:00",
          "2021-07-22T00:00:00",
          "2021-07-23T00:00:00",
          "2021-07-24T00:00:00",
          "2021-07-26T00:00:00",
          "2021-07-28T00:00:00",
          "2021-07-31T00:00:00",
          "2021-08-02T00:00:00",
          "2021-08-04T00:00:00",
          "2021-08-05T00:00:00",
          "2021-08-12T00:00:00",
          "2021-08-13T00:00:00",
          "2021-08-16T00:00:00",
          "2021-08-17T00:00:00",
          "2021-08-19T00:00:00",
          "2021-08-20T00:00:00",
          "2021-08-23T00:00:00",
          "2021-08-24T00:00:00",
          "2021-08-25T00:00:00",
          "2021-08-28T00:00:00",
          "2021-08-30T00:00:00",
          "2021-08-31T00:00:00",
          "2021-09-03T00:00:00",
          "2021-09-04T00:00:00",
          "2021-09-07T00:00:00",
          "2021-09-08T00:00:00",
          "2021-09-09T00:00:00",
          "2021-09-10T00:00:00",
          "2021-09-14T00:00:00",
          "2021-09-15T00:00:00",
          "2021-09-16T00:00:00",
          "2021-09-17T00:00:00",
          "2021-09-20T00:00:00",
          "2021-09-21T00:00:00",
          "2021-09-22T00:00:00",
          "2021-09-23T00:00:00",
          "2021-09-24T00:00:00",
          "2021-09-25T00:00:00",
          "2021-09-27T00:00:00",
          "2021-09-28T00:00:00",
          "2021-09-29T00:00:00",
          "2021-09-30T00:00:00",
          "2021-10-05T00:00:00",
          "2021-10-07T00:00:00",
          "2021-10-08T00:00:00",
          "2021-10-11T00:00:00",
          "2021-10-12T00:00:00",
          "2021-10-13T00:00:00",
          "2021-10-14T00:00:00",
          "2021-10-15T00:00:00",
          "2021-10-16T00:00:00",
          "2021-10-19T00:00:00",
          "2021-10-20T00:00:00",
          "2021-10-21T00:00:00",
          "2021-10-22T00:00:00",
          "2021-10-23T00:00:00",
          "2021-10-25T00:00:00",
          "2021-10-26T00:00:00",
          "2021-10-28T00:00:00",
          "2021-10-29T00:00:00",
          "2021-11-02T00:00:00",
          "2021-11-04T00:00:00",
          "2021-11-05T00:00:00",
          "2021-11-06T00:00:00",
          "2021-11-08T00:00:00",
          "2021-11-09T00:00:00",
          "2021-11-10T00:00:00",
          "2021-11-11T00:00:00",
          "2021-11-12T00:00:00",
          "2021-11-16T00:00:00",
          "2021-11-17T00:00:00",
          "2021-11-18T00:00:00",
          "2021-11-22T00:00:00",
          "2021-11-23T00:00:00",
          "2021-11-24T00:00:00",
          "2021-11-25T00:00:00",
          "2021-11-26T00:00:00",
          "2021-11-27T00:00:00",
          "2021-11-29T00:00:00",
          "2021-11-30T00:00:00",
          "2021-12-01T00:00:00",
          "2021-12-02T00:00:00",
          "2021-12-03T00:00:00",
          "2021-12-06T00:00:00",
          "2021-12-07T00:00:00",
          "2021-12-09T00:00:00",
          "2021-12-10T00:00:00",
          "2021-12-13T00:00:00",
          "2021-12-14T00:00:00",
          "2021-12-20T00:00:00",
          "2021-12-21T00:00:00",
          "2021-12-22T00:00:00",
          "2021-12-29T00:00:00",
          "2021-12-30T00:00:00",
          "2022-01-12T00:00:00",
          "2022-01-13T00:00:00",
          "2022-01-14T00:00:00",
          "2022-01-15T00:00:00",
          "2022-01-16T00:00:00",
          "2022-01-17T00:00:00",
          "2022-01-18T00:00:00",
          "2022-01-19T00:00:00",
          "2022-01-20T00:00:00",
          "2022-01-21T00:00:00",
          "2022-01-22T00:00:00",
          "2022-01-23T00:00:00",
          "2022-01-24T00:00:00",
          "2022-01-25T00:00:00",
          "2022-01-26T00:00:00",
          "2022-01-27T00:00:00",
          "2022-01-28T00:00:00",
          "2022-01-29T00:00:00",
          "2022-02-01T00:00:00",
          "2022-02-02T00:00:00",
          "2022-02-03T00:00:00",
          "2022-02-17T00:00:00",
          "2022-04-06T00:00:00",
          "2022-04-27T00:00:00",
          "2022-05-02T00:00:00",
          "2022-05-19T00:00:00",
          "2022-05-31T00:00:00",
          "2022-06-08T00:00:00",
          "2022-06-29T00:00:00",
          "2022-07-01T00:00:00",
          "2022-07-02T00:00:00",
          "2022-07-08T00:00:00",
          "2022-07-12T00:00:00",
          "2022-07-18T00:00:00",
          "2022-07-21T00:00:00",
          "2022-07-22T00:00:00",
          "2022-07-26T00:00:00",
          "2022-07-27T00:00:00",
          "2022-07-29T00:00:00",
          "2022-08-01T00:00:00",
          "2022-08-02T00:00:00",
          "2022-08-05T00:00:00",
          "2022-08-11T00:00:00",
          "2022-08-12T00:00:00",
          "2022-08-16T00:00:00",
          "2022-08-18T00:00:00",
          "2022-08-22T00:00:00",
          "2022-08-23T00:00:00",
          "2022-08-24T00:00:00",
          "2022-08-25T00:00:00",
          "2022-08-26T00:00:00",
          "2022-08-27T00:00:00",
          "2022-08-29T00:00:00",
          "2022-08-30T00:00:00",
          "2022-08-31T00:00:00",
          "2022-09-01T00:00:00",
          "2022-09-02T00:00:00",
          "2022-09-06T00:00:00",
          "2022-09-07T00:00:00",
          "2022-09-08T00:00:00",
          "2022-09-09T00:00:00",
          "2022-09-20T00:00:00",
          "2022-09-24T00:00:00",
          "2022-09-28T00:00:00",
          "2022-09-30T00:00:00",
          "2022-10-01T00:00:00",
          "2022-10-05T00:00:00",
          "2022-10-07T00:00:00",
          "2022-10-08T00:00:00",
          "2022-10-10T00:00:00",
          "2022-10-12T00:00:00",
          "2022-10-14T00:00:00",
          "2022-10-18T00:00:00",
          "2022-10-19T00:00:00",
          "2022-10-21T00:00:00",
          "2022-10-22T00:00:00",
          "2022-10-25T00:00:00",
          "2022-11-01T00:00:00",
          "2022-11-03T00:00:00",
          "2022-11-08T00:00:00",
          "2022-11-09T00:00:00",
          "2022-11-10T00:00:00",
          "2022-11-11T00:00:00",
          "2022-11-12T00:00:00",
          "2022-11-15T00:00:00",
          "2022-11-17T00:00:00",
          "2022-11-18T00:00:00",
          "2022-11-19T00:00:00",
          "2022-11-23T00:00:00",
          "2022-11-25T00:00:00",
          "2022-11-30T00:00:00",
          "2022-12-01T00:00:00",
          "2022-12-02T00:00:00",
          "2022-12-05T00:00:00",
          "2022-12-07T00:00:00",
          "2022-12-10T00:00:00",
          "2022-12-14T00:00:00",
          "2022-12-15T00:00:00",
          "2022-12-16T00:00:00",
          "2022-12-19T00:00:00",
          "2022-12-20T00:00:00",
          "2022-12-21T00:00:00",
          "2022-12-22T00:00:00",
          "2022-12-26T00:00:00",
          "2022-12-27T00:00:00",
          "2022-12-28T00:00:00",
          "2023-01-13T00:00:00",
          "2023-01-14T00:00:00",
          "2023-01-16T00:00:00",
          "2023-01-17T00:00:00",
          "2023-01-18T00:00:00",
          "2023-01-19T00:00:00",
          "2023-01-20T00:00:00",
          "2023-01-21T00:00:00",
          "2023-01-22T00:00:00",
          "2023-01-23T00:00:00",
          "2023-01-24T00:00:00",
          "2023-01-25T00:00:00",
          "2023-01-26T00:00:00",
          "2023-01-27T00:00:00",
          "2023-01-28T00:00:00",
          "2023-01-31T00:00:00",
          "2023-02-01T00:00:00",
          "2023-02-02T00:00:00",
          "2023-02-03T00:00:00",
          "2023-02-04T00:00:00",
          "2023-02-06T00:00:00",
          "2023-02-07T00:00:00",
          "2023-02-08T00:00:00",
          "2023-02-09T00:00:00",
          "2023-02-10T00:00:00",
          "2023-02-11T00:00:00",
          "2023-02-13T00:00:00",
          "2023-02-14T00:00:00",
          "2023-02-15T00:00:00",
          "2023-02-16T00:00:00",
          "2023-02-17T00:00:00",
          "2023-02-20T00:00:00",
          "2023-02-21T00:00:00",
          "2023-02-22T00:00:00",
          "2023-02-23T00:00:00",
          "2023-02-24T00:00:00",
          "2023-02-25T00:00:00",
          "2023-02-27T00:00:00",
          "2023-02-28T00:00:00",
          "2023-03-01T00:00:00",
          "2023-03-02T00:00:00",
          "2023-03-03T00:00:00",
          "2023-03-04T00:00:00",
          "2023-03-06T00:00:00",
          "2023-03-07T00:00:00",
          "2023-03-08T00:00:00",
          "2023-03-09T00:00:00",
          "2023-03-10T00:00:00",
          "2023-03-13T00:00:00",
          "2023-03-14T00:00:00",
          "2023-03-15T00:00:00",
          "2023-03-16T00:00:00",
          "2023-03-17T00:00:00",
          "2023-03-18T00:00:00",
          "2023-03-21T00:00:00",
          "2023-03-22T00:00:00",
          "2023-03-23T00:00:00",
          "2023-03-24T00:00:00",
          "2023-03-27T00:00:00",
          "2023-03-28T00:00:00",
          "2023-03-29T00:00:00",
          "2023-03-31T00:00:00",
          "2023-04-01T00:00:00",
          "2023-04-04T00:00:00",
          "2023-04-05T00:00:00",
          "2023-04-10T00:00:00",
          "2023-04-12T00:00:00",
          "2023-04-13T00:00:00",
          "2023-04-14T00:00:00",
          "2023-04-17T00:00:00",
          "2023-04-19T00:00:00",
          "2023-04-20T00:00:00",
          "2023-04-21T00:00:00",
          "2023-04-24T00:00:00",
          "2023-04-25T00:00:00",
          "2023-04-26T00:00:00",
          "2023-04-28T00:00:00",
          "2023-04-29T00:00:00",
          "2023-04-30T00:00:00",
          "2023-05-05T00:00:00",
          "2023-05-08T00:00:00",
          "2023-05-09T00:00:00",
          "2023-05-10T00:00:00",
          "2023-05-11T00:00:00",
          "2023-05-12T00:00:00",
          "2023-05-13T00:00:00",
          "2023-05-15T00:00:00",
          "2023-05-16T00:00:00",
          "2023-05-17T00:00:00",
          "2023-05-18T00:00:00",
          "2023-05-19T00:00:00",
          "2023-05-20T00:00:00",
          "2023-05-23T00:00:00",
          "2023-05-24T00:00:00",
          "2023-05-25T00:00:00",
          "2023-05-26T00:00:00",
          "2023-05-29T00:00:00",
          "2023-05-31T00:00:00",
          "2023-06-01T00:00:00",
          "2023-06-02T00:00:00",
          "2023-06-05T00:00:00",
          "2023-06-06T00:00:00",
          "2023-06-07T00:00:00",
          "2023-06-08T00:00:00",
          "2023-06-09T00:00:00",
          "2023-06-13T00:00:00",
          "2023-06-14T00:00:00",
          "2023-06-15T00:00:00",
          "2023-06-16T00:00:00",
          "2023-06-20T00:00:00",
          "2023-06-21T00:00:00",
          "2023-06-22T00:00:00",
          "2023-06-23T00:00:00",
          "2023-06-26T00:00:00",
          "2023-06-27T00:00:00",
          "2023-06-28T00:00:00",
          "2023-06-29T00:00:00",
          "2023-06-30T00:00:00",
          "2023-07-01T00:00:00",
          "2023-07-04T00:00:00",
          "2023-07-05T00:00:00",
          "2023-07-06T00:00:00",
          "2023-07-07T00:00:00",
          "2023-07-08T00:00:00",
          "2023-07-10T00:00:00",
          "2023-07-12T00:00:00",
          "2023-07-14T00:00:00",
          "2023-07-17T00:00:00",
          "2023-07-19T00:00:00",
          "2023-07-24T00:00:00",
          "2023-07-25T00:00:00",
          "2023-07-26T00:00:00",
          "2023-07-27T00:00:00",
          "2023-07-28T00:00:00",
          "2023-07-29T00:00:00",
          "2023-07-30T00:00:00",
          "2023-07-31T00:00:00",
          "2023-08-01T00:00:00",
          "2023-08-02T00:00:00",
          "2023-08-03T00:00:00",
          "2023-08-04T00:00:00",
          "2023-08-05T00:00:00",
          "2023-08-08T00:00:00",
          "2023-08-10T00:00:00",
          "2023-08-11T00:00:00",
          "2023-08-12T00:00:00",
          "2023-08-14T00:00:00",
          "2023-08-17T00:00:00",
          "2023-08-18T00:00:00",
          "2023-08-19T00:00:00",
          "2023-08-22T00:00:00",
          "2023-08-24T00:00:00",
          "2023-08-25T00:00:00",
          "2023-08-26T00:00:00",
          "2023-08-28T00:00:00",
          "2023-08-29T00:00:00",
          "2023-08-30T00:00:00",
          "2023-08-31T00:00:00",
          "2023-09-01T00:00:00",
          "2023-09-05T00:00:00",
          "2023-09-06T00:00:00",
          "2023-09-08T00:00:00",
          "2023-09-09T00:00:00",
          "2023-09-11T00:00:00",
          "2023-09-12T00:00:00",
          "2023-09-13T00:00:00",
          "2023-09-14T00:00:00",
          "2023-09-15T00:00:00",
          "2023-09-16T00:00:00",
          "2023-09-19T00:00:00",
          "2023-09-20T00:00:00",
          "2023-09-21T00:00:00",
          "2023-09-22T00:00:00",
          "2023-09-23T00:00:00",
          "2023-09-25T00:00:00",
          "2023-09-26T00:00:00",
          "2023-09-28T00:00:00",
          "2023-09-30T00:00:00",
          "2023-10-02T00:00:00",
          "2023-10-04T00:00:00",
          "2023-10-05T00:00:00",
          "2023-10-06T00:00:00",
          "2023-10-07T00:00:00",
          "2023-10-09T00:00:00",
          "2023-10-10T00:00:00",
          "2023-10-11T00:00:00",
          "2023-10-12T00:00:00",
          "2023-10-13T00:00:00",
          "2023-10-14T00:00:00",
          "2023-10-17T00:00:00",
          "2023-10-18T00:00:00",
          "2023-10-19T00:00:00",
          "2023-10-20T00:00:00",
          "2023-10-24T00:00:00",
          "2023-10-26T00:00:00",
          "2023-10-27T00:00:00",
          "2023-10-30T00:00:00",
          "2023-10-31T00:00:00",
          "2023-11-01T00:00:00",
          "2023-11-03T00:00:00",
          "2023-11-07T00:00:00",
          "2023-11-08T00:00:00",
          "2023-11-09T00:00:00",
          "2023-11-10T00:00:00",
          "2023-11-11T00:00:00",
          "2023-11-14T00:00:00",
          "2023-11-15T00:00:00",
          "2023-11-16T00:00:00",
          "2023-11-17T00:00:00",
          "2023-11-20T00:00:00",
          "2023-11-21T00:00:00",
          "2023-11-22T00:00:00",
          "2023-11-23T00:00:00",
          "2023-11-24T00:00:00",
          "2023-11-27T00:00:00",
          "2023-11-28T00:00:00",
          "2023-11-29T00:00:00",
          "2023-11-30T00:00:00",
          "2023-12-01T00:00:00",
          "2023-12-02T00:00:00",
          "2023-12-04T00:00:00",
          "2023-12-06T00:00:00",
          "2023-12-07T00:00:00",
          "2023-12-08T00:00:00",
          "2023-12-12T00:00:00",
          "2023-12-13T00:00:00",
          "2023-12-14T00:00:00",
          "2023-12-15T00:00:00",
          "2023-12-20T00:00:00",
          "2023-12-21T00:00:00",
          "2023-12-22T00:00:00",
          "2023-12-26T00:00:00",
          "2023-12-31T00:00:00",
          "2024-01-05T00:00:00",
          "2024-01-06T00:00:00",
          "2024-01-09T00:00:00",
          "2024-01-10T00:00:00",
          "2024-01-11T00:00:00",
          "2024-01-12T00:00:00",
          "2024-01-13T00:00:00",
          "2024-01-16T00:00:00",
          "2024-01-17T00:00:00",
          "2024-01-18T00:00:00",
          "2024-01-19T00:00:00",
          "2024-01-20T00:00:00",
          "2024-01-22T00:00:00",
          "2024-01-23T00:00:00",
          "2024-01-24T00:00:00",
          "2024-01-25T00:00:00"
         ],
         "xaxis": "x",
         "y": [
          101796007.5,
          68077733.63636364,
          95706000,
          59419912,
          74609038,
          70779255.33333333,
          90776620,
          68855032,
          72976666.5,
          45892128,
          54739406,
          103054277,
          59290256.26086956,
          50675999.125,
          66662481.8,
          85914847,
          62397404.85714286,
          59167138.375,
          69980585.875,
          65509208.666666664,
          87837818.42857143,
          87283712.41666667,
          67851558.5,
          51657069,
          66294770.666666664,
          41879492,
          51030227.384615384,
          61220314.8,
          183260998,
          115441666.66666667,
          59326258.5,
          52339652.09090909,
          3866402,
          36648436.571428575,
          52381438.23076923,
          55100000,
          80293268,
          49228152.07692308,
          34870188.833333336,
          323223668,
          42013885.571428575,
          82339060,
          50411000,
          49699965.11111111,
          579203421.0833334,
          33825941.333333336,
          63915625,
          56006582.5,
          16051424346,
          1950748805.9230769,
          77770265.55555555,
          56174270,
          50907154.4,
          35185534,
          80589891.75,
          50549040,
          55590998,
          234311000,
          52868001.666666664,
          99750000,
          55730320,
          66743440,
          82339060,
          72250000,
          31734817.875,
          37676109.333333336,
          22739550,
          1118239980,
          1412828622,
          84957500,
          4000000,
          25866666.666666668,
          38250000,
          928288192,
          31411200,
          12373872,
          38770915.75,
          85998496,
          37563264.666666664,
          29802155,
          31997898.666666668,
          2570400,
          18932470,
          9936666.666666666,
          76000000,
          18134882.5,
          65450000,
          23306711.333333332,
          1523200,
          22550580,
          36250000,
          22500000,
          21877500,
          42840000,
          29317835,
          65450000,
          51894121,
          10739348.5,
          5618800,
          5033333.333333333,
          10631834.266666668,
          11300000,
          11250000,
          16402083.333333334,
          13837963,
          5625000,
          5625000,
          5625000,
          10695758.714285715,
          10091818.333333334,
          18212232,
          9421296.333333334,
          14297387.8,
          10472000,
          8554761.92857143,
          14433333.333333334,
          6937916.5,
          16504491,
          5000000,
          5000000,
          10112500,
          19012697,
          14553346.285714285,
          13802083.333333334,
          14600000,
          13991666.666666666,
          13265348,
          13300000,
          22357302.166666668,
          29017740.5,
          35672000,
          19183333.333333332,
          10875000,
          14700000,
          12850000,
          23200000,
          15505089.6,
          32606000,
          15613333.333333334,
          517466076,
          79577968.75,
          330122666.3333333,
          6761573.2,
          190000160,
          7870400.428571428,
          9265686.857142856,
          7300000,
          12877803,
          18074838.6,
          13460000,
          14285783.5,
          26344822,
          8489769.8,
          8140000,
          13421428.57142857,
          13566000,
          13166666.666666666,
          17874071.25,
          11688599.8,
          17823091.9,
          96781400,
          41884685,
          5570447.714285715,
          5247129.142857143,
          17882545.25,
          5888763,
          5459311.666666667,
          6072222.333333333,
          3500000,
          6979067,
          7139145.6,
          11282107,
          26154401.5,
          5373726.4,
          165895623.75,
          38014925,
          83213712.5,
          66164000,
          10563071.42857143,
          326928168.64705884,
          25882500,
          2625000000,
          143964000,
          95212902.5,
          66058086.85714286,
          43470000,
          53176143,
          63632023.333333336,
          82543328.23529412,
          79542156,
          67335781,
          75693358.25,
          61185834.8,
          71896050,
          48173577.7,
          64267835.52941176,
          56759932.821428575,
          55073335.76923077,
          59492947.4,
          37976833.333333336,
          28223547.5,
          54676395.11111111,
          48000000,
          49885253,
          40794327.35714286,
          54243245.64285714,
          51614606.625,
          33059433.5,
          35227703,
          50091454.63636363,
          41540448.54545455,
          28764179.4,
          28899198.888888888,
          36399930.88888889,
          35490773.25,
          19166666.666666668,
          74910952.64285715,
          313387148.3636364,
          48044368.93333333,
          49263571.72727273,
          99317750,
          34804600,
          86574733.5,
          34075000,
          27802012,
          12870000,
          67592000,
          48610824.11111111,
          28368987.14285714,
          133094972.4,
          35989219.38095238,
          45282789,
          100375800,
          28774672.666666668,
          22900023.727272727,
          19130543.05882353,
          42246674.75,
          22266700,
          24184600,
          36952866.7,
          21543583.285714287,
          35588592.833333336,
          163897109.5,
          31800000,
          92398459,
          17065192.666666668,
          62622000,
          37500000,
          42000000,
          58812666.6,
          80000000,
          64000000,
          48743333.333333336,
          57136333.333333336,
          26947966.8,
          14177800,
          18030050,
          9578150,
          16031300,
          35091666.666666664,
          33042457.666666668,
          2937824536.3333335,
          30601666.666666668,
          19837719,
          19306878.6,
          300738308.3333333,
          31019468.85714286,
          20085660.4,
          40063697,
          34565000,
          36768068.28571428,
          18252693.333333332,
          7631640,
          4282378376.5,
          64337050,
          5087760,
          356560642.3333333,
          15944580,
          22920000,
          22745889,
          14333333,
          20359502.25,
          13523045.25,
          15650000,
          19845739,
          0,
          25763167,
          22920000,
          20156437.5,
          25151273.333333332,
          20658810.210526317,
          38986702.94736842,
          21570095,
          19564646.666666668,
          18849142.444444444,
          26036226.125,
          15738460.5,
          2543880,
          11280833.333333334,
          679036441.5,
          125760305.25,
          11862586.666666666,
          11074806.666666666,
          12445997.666666666,
          37357000,
          11816871,
          11250000,
          59243736.666666664,
          18058887.833333332,
          14112688.333333334,
          16889444.333333332,
          8289045,
          14151884.5,
          37228070,
          15926384.666666666,
          15356783.625,
          59701183.307692304,
          10380831,
          36533293.81818182,
          14974621.25,
          17221742.4,
          18865015.42857143,
          22460894,
          19021849,
          21617805.2,
          10751055.636363637,
          11878059,
          103404830.5,
          11913838,
          15640898.105263159,
          18053285.666666668,
          16867694.666666668,
          11271909,
          18018465.75,
          7788375,
          16685554.285714285,
          15335865.5,
          13940831.833333334,
          18672727.5,
          18194320,
          110866477.25,
          16976695.8,
          8160000,
          9222098,
          1300000000,
          13517789.57142857,
          35219450.666666664,
          15048611.666666666,
          3018978118.5,
          9448640,
          5127552,
          5730000,
          19277596.5,
          2035104,
          13684823.333333334,
          9445713.333333334,
          10390462.4,
          9570217,
          15358611.285714285,
          73147187.4,
          10207989.444444444,
          4666667,
          89031200,
          6871035,
          147424273.2857143,
          6028603.666666667,
          101525077.4,
          5878166.666666667,
          133922170.33333333,
          62615330.666666664,
          28844834.25,
          6333333.333333333,
          4666666.666666667,
          34964713,
          1122027200,
          2337049,
          53760000,
          10468565474,
          127305000,
          112013017.5,
          59294789.85714286,
          75092502.26315789,
          70485820.71428572,
          72576401.16666667,
          62764025.27272727,
          69622736.6521739,
          74239345.24,
          60742451.64,
          65999583.591836736,
          59715499,
          46487319.08571429,
          57243182.15,
          54812127.1,
          49061349.07575758,
          49063357.175,
          70844375.11206897,
          72539662.35,
          38278800,
          205932171.30851063,
          39527731,
          67000000,
          16030500,
          12686193,
          3133827772,
          12253906,
          68946700,
          270942169,
          10500000,
          35000000,
          9624575,
          165000640,
          269309105,
          247294679,
          89525500,
          174416461.5,
          41961165,
          160431551.5,
          5936000,
          440000000,
          27000000,
          14637890,
          21400055.5,
          34666667,
          23184468,
          44279643.5,
          6535000,
          48670000,
          20589583.333333332,
          23400000,
          7720310,
          25049470.75,
          17250000,
          20874203.666666668,
          19553663.6,
          14605895.111111112,
          9212434,
          9328027,
          7313103,
          110288840,
          6240000,
          4540000,
          14200000,
          47367000,
          202909691.5,
          484040592,
          22500000,
          12276156,
          7500606.090909091,
          8073333.5,
          5320000,
          29792848,
          8120000,
          19392993.666666668,
          9823000,
          15493516.5,
          39000000,
          6280000,
          15658228,
          18584739.5,
          20393415.166666668,
          8978033,
          22400000,
          19228266.666666668,
          8807775,
          8442307.692307692,
          14000000,
          3997687,
          3750000,
          22794003.5,
          7314768.75,
          8645781,
          13928576.8,
          6719688.333333333,
          5602901.5,
          7122345,
          6299684,
          6233333,
          15763765.5,
          8506190.75,
          76000000,
          96993593,
          82199966.66666667,
          463257861,
          576144201.3333334,
          183016844,
          50046066.666666664,
          106193333.33333333,
          31720000,
          73740727.27272727,
          73054000,
          65188340.60869565,
          63364255.38297872,
          68857312.5,
          80977000.2,
          84781523.78571428,
          61711915.058823526,
          75952611.1,
          48437894.7368421,
          70838888.8888889,
          30222750,
          67841589.73076923,
          70310738.07142857,
          78128334,
          52184104.125,
          48687461.538461536,
          65219583.333333336,
          67481750,
          56990305.583333336,
          75237041.75,
          43670444.44444445,
          51623633.5,
          48005633.3,
          66044181.72727273,
          64006642.928571425,
          42994861.083333336,
          47983750,
          58392000,
          46730833.333333336,
          65444444.333333336,
          41644166.666666664,
          55291777.666666664,
          102030333.25,
          46868500,
          34275926,
          49573357.14285714,
          61666904.76190476,
          56855555.55555555,
          39842000,
          31258266.7,
          28693333.333333332,
          34774999.75,
          25645063.80952381,
          38743799.1875,
          52028333.333333336,
          17700000,
          180811226.4,
          46471670.75,
          135097136.4,
          24960000,
          38280222.333333336,
          46395476.14285714,
          56635138.916666664,
          73000000,
          60790066.6,
          32484000,
          51650333.5,
          52205757.72727273,
          71507222.16666667,
          4906417462,
          93897083.25,
          0,
          44647637.5,
          47998500,
          62006000,
          278044620,
          52202666.75,
          42082333,
          9000000,
          30750000,
          185930000,
          45072924.2,
          30481722.333333332,
          45461083.25,
          30780000,
          38989397,
          8449714.285714285,
          31763963.5,
          36348000,
          9205000,
          23977974.230769232,
          41628889,
          2910000,
          4985642.857142857,
          1896428.5714285714,
          10989133.266666668,
          0,
          53594333,
          3333500,
          4154153.846153846,
          0,
          2527557.25,
          0,
          3792309.535714286,
          0,
          2049687.5,
          0,
          3241281.25,
          10835061.375,
          9207770.75,
          12835000,
          5977000,
          0,
          5585000,
          2344062.5,
          9107296.333333334,
          0,
          28509033.444444444,
          0,
          0,
          0,
          17288916.5,
          16865638.916666668,
          22537266.7,
          13400000,
          8960000,
          16225354.25,
          9968750,
          25309166.75,
          32974166.75,
          28775444.333333332,
          148571500,
          36079523.71428572,
          15714000,
          92089223.7,
          45072833,
          23632777.666666668,
          21240850,
          0,
          31194763.708333332,
          18450875,
          16500000,
          13250000,
          20064527.75,
          376691451,
          15329393.4,
          23888037,
          14490000,
          10000000,
          13906044.466666667,
          19641662.166666668,
          11151848.454545455,
          12947228.714285715,
          34202824,
          43665000,
          23619333,
          45405000,
          182402213.1818182,
          44259000,
          19328025.53846154,
          26123666.57142857,
          27282555.333333332,
          31018916.5,
          22634512.769230768,
          33305372.166666668,
          28049999.8,
          26028824.36842105,
          19992105.157894738,
          6676250,
          18046000,
          8960000,
          68589458.25,
          24351774.333333332,
          24738555.666666668,
          19233333.333333332,
          11760000,
          9229333.5,
          143011265.8,
          18430481.444444444,
          7480666,
          13440000,
          26333111.111111112,
          26118261.714285713,
          20230151.363636363,
          25006666.5,
          21388249.9375,
          93286111,
          21722749.75,
          25650000,
          8910000,
          17885456.25,
          17998714,
          21669999.5,
          15574296.111111112,
          12515833.333333334,
          17014766.4,
          2855606172,
          7755000,
          19212249.75,
          27175778,
          24618666,
          9013722.166666666,
          10703000,
          9430000,
          20301667,
          16344826.5,
          53151666.7,
          9767066.6,
          10782000,
          9464833.25,
          5610000,
          43690106,
          8222208.375,
          11438833.5,
          875625944.3333334,
          9735000,
          8185761.714285715,
          6184000.2,
          8798904.714285715,
          30501891.5,
          97496095.5,
          5546667,
          10812561.833333334,
          10700651.142857144,
          5518500.25,
          5527778,
          490743649.6666667,
          4575000,
          20738268.875,
          12361617,
          3622222.3333333335,
          5931000,
          3745192271,
          724031112.1,
          266751036,
          90059200,
          320599604.5,
          34888739.666666664,
          1841856231.6,
          121241733,
          81587220.17391305,
          105016916.5,
          91672687.66666667,
          90023296.95454545,
          86698310.03333333,
          108457000.05555555,
          85234553.10204081,
          75816067.60606061,
          62563710.375,
          68348023,
          71526400,
          69072600,
          76295882,
          75099583.28571428,
          67084760
         ],
         "yaxis": "y"
        }
       ],
       "layout": {
        "legend": {
         "tracegroupgap": 0
        },
        "template": {
         "data": {
          "bar": [
           {
            "error_x": {
             "color": "#2a3f5f"
            },
            "error_y": {
             "color": "#2a3f5f"
            },
            "marker": {
             "line": {
              "color": "#E5ECF6",
              "width": 0.5
             },
             "pattern": {
              "fillmode": "overlay",
              "size": 10,
              "solidity": 0.2
             }
            },
            "type": "bar"
           }
          ],
          "barpolar": [
           {
            "marker": {
             "line": {
              "color": "#E5ECF6",
              "width": 0.5
             },
             "pattern": {
              "fillmode": "overlay",
              "size": 10,
              "solidity": 0.2
             }
            },
            "type": "barpolar"
           }
          ],
          "carpet": [
           {
            "aaxis": {
             "endlinecolor": "#2a3f5f",
             "gridcolor": "white",
             "linecolor": "white",
             "minorgridcolor": "white",
             "startlinecolor": "#2a3f5f"
            },
            "baxis": {
             "endlinecolor": "#2a3f5f",
             "gridcolor": "white",
             "linecolor": "white",
             "minorgridcolor": "white",
             "startlinecolor": "#2a3f5f"
            },
            "type": "carpet"
           }
          ],
          "choropleth": [
           {
            "colorbar": {
             "outlinewidth": 0,
             "ticks": ""
            },
            "type": "choropleth"
           }
          ],
          "contour": [
           {
            "colorbar": {
             "outlinewidth": 0,
             "ticks": ""
            },
            "colorscale": [
             [
              0,
              "#0d0887"
             ],
             [
              0.1111111111111111,
              "#46039f"
             ],
             [
              0.2222222222222222,
              "#7201a8"
             ],
             [
              0.3333333333333333,
              "#9c179e"
             ],
             [
              0.4444444444444444,
              "#bd3786"
             ],
             [
              0.5555555555555556,
              "#d8576b"
             ],
             [
              0.6666666666666666,
              "#ed7953"
             ],
             [
              0.7777777777777778,
              "#fb9f3a"
             ],
             [
              0.8888888888888888,
              "#fdca26"
             ],
             [
              1,
              "#f0f921"
             ]
            ],
            "type": "contour"
           }
          ],
          "contourcarpet": [
           {
            "colorbar": {
             "outlinewidth": 0,
             "ticks": ""
            },
            "type": "contourcarpet"
           }
          ],
          "heatmap": [
           {
            "colorbar": {
             "outlinewidth": 0,
             "ticks": ""
            },
            "colorscale": [
             [
              0,
              "#0d0887"
             ],
             [
              0.1111111111111111,
              "#46039f"
             ],
             [
              0.2222222222222222,
              "#7201a8"
             ],
             [
              0.3333333333333333,
              "#9c179e"
             ],
             [
              0.4444444444444444,
              "#bd3786"
             ],
             [
              0.5555555555555556,
              "#d8576b"
             ],
             [
              0.6666666666666666,
              "#ed7953"
             ],
             [
              0.7777777777777778,
              "#fb9f3a"
             ],
             [
              0.8888888888888888,
              "#fdca26"
             ],
             [
              1,
              "#f0f921"
             ]
            ],
            "type": "heatmap"
           }
          ],
          "heatmapgl": [
           {
            "colorbar": {
             "outlinewidth": 0,
             "ticks": ""
            },
            "colorscale": [
             [
              0,
              "#0d0887"
             ],
             [
              0.1111111111111111,
              "#46039f"
             ],
             [
              0.2222222222222222,
              "#7201a8"
             ],
             [
              0.3333333333333333,
              "#9c179e"
             ],
             [
              0.4444444444444444,
              "#bd3786"
             ],
             [
              0.5555555555555556,
              "#d8576b"
             ],
             [
              0.6666666666666666,
              "#ed7953"
             ],
             [
              0.7777777777777778,
              "#fb9f3a"
             ],
             [
              0.8888888888888888,
              "#fdca26"
             ],
             [
              1,
              "#f0f921"
             ]
            ],
            "type": "heatmapgl"
           }
          ],
          "histogram": [
           {
            "marker": {
             "pattern": {
              "fillmode": "overlay",
              "size": 10,
              "solidity": 0.2
             }
            },
            "type": "histogram"
           }
          ],
          "histogram2d": [
           {
            "colorbar": {
             "outlinewidth": 0,
             "ticks": ""
            },
            "colorscale": [
             [
              0,
              "#0d0887"
             ],
             [
              0.1111111111111111,
              "#46039f"
             ],
             [
              0.2222222222222222,
              "#7201a8"
             ],
             [
              0.3333333333333333,
              "#9c179e"
             ],
             [
              0.4444444444444444,
              "#bd3786"
             ],
             [
              0.5555555555555556,
              "#d8576b"
             ],
             [
              0.6666666666666666,
              "#ed7953"
             ],
             [
              0.7777777777777778,
              "#fb9f3a"
             ],
             [
              0.8888888888888888,
              "#fdca26"
             ],
             [
              1,
              "#f0f921"
             ]
            ],
            "type": "histogram2d"
           }
          ],
          "histogram2dcontour": [
           {
            "colorbar": {
             "outlinewidth": 0,
             "ticks": ""
            },
            "colorscale": [
             [
              0,
              "#0d0887"
             ],
             [
              0.1111111111111111,
              "#46039f"
             ],
             [
              0.2222222222222222,
              "#7201a8"
             ],
             [
              0.3333333333333333,
              "#9c179e"
             ],
             [
              0.4444444444444444,
              "#bd3786"
             ],
             [
              0.5555555555555556,
              "#d8576b"
             ],
             [
              0.6666666666666666,
              "#ed7953"
             ],
             [
              0.7777777777777778,
              "#fb9f3a"
             ],
             [
              0.8888888888888888,
              "#fdca26"
             ],
             [
              1,
              "#f0f921"
             ]
            ],
            "type": "histogram2dcontour"
           }
          ],
          "mesh3d": [
           {
            "colorbar": {
             "outlinewidth": 0,
             "ticks": ""
            },
            "type": "mesh3d"
           }
          ],
          "parcoords": [
           {
            "line": {
             "colorbar": {
              "outlinewidth": 0,
              "ticks": ""
             }
            },
            "type": "parcoords"
           }
          ],
          "pie": [
           {
            "automargin": true,
            "type": "pie"
           }
          ],
          "scatter": [
           {
            "fillpattern": {
             "fillmode": "overlay",
             "size": 10,
             "solidity": 0.2
            },
            "type": "scatter"
           }
          ],
          "scatter3d": [
           {
            "line": {
             "colorbar": {
              "outlinewidth": 0,
              "ticks": ""
             }
            },
            "marker": {
             "colorbar": {
              "outlinewidth": 0,
              "ticks": ""
             }
            },
            "type": "scatter3d"
           }
          ],
          "scattercarpet": [
           {
            "marker": {
             "colorbar": {
              "outlinewidth": 0,
              "ticks": ""
             }
            },
            "type": "scattercarpet"
           }
          ],
          "scattergeo": [
           {
            "marker": {
             "colorbar": {
              "outlinewidth": 0,
              "ticks": ""
             }
            },
            "type": "scattergeo"
           }
          ],
          "scattergl": [
           {
            "marker": {
             "colorbar": {
              "outlinewidth": 0,
              "ticks": ""
             }
            },
            "type": "scattergl"
           }
          ],
          "scattermapbox": [
           {
            "marker": {
             "colorbar": {
              "outlinewidth": 0,
              "ticks": ""
             }
            },
            "type": "scattermapbox"
           }
          ],
          "scatterpolar": [
           {
            "marker": {
             "colorbar": {
              "outlinewidth": 0,
              "ticks": ""
             }
            },
            "type": "scatterpolar"
           }
          ],
          "scatterpolargl": [
           {
            "marker": {
             "colorbar": {
              "outlinewidth": 0,
              "ticks": ""
             }
            },
            "type": "scatterpolargl"
           }
          ],
          "scatterternary": [
           {
            "marker": {
             "colorbar": {
              "outlinewidth": 0,
              "ticks": ""
             }
            },
            "type": "scatterternary"
           }
          ],
          "surface": [
           {
            "colorbar": {
             "outlinewidth": 0,
             "ticks": ""
            },
            "colorscale": [
             [
              0,
              "#0d0887"
             ],
             [
              0.1111111111111111,
              "#46039f"
             ],
             [
              0.2222222222222222,
              "#7201a8"
             ],
             [
              0.3333333333333333,
              "#9c179e"
             ],
             [
              0.4444444444444444,
              "#bd3786"
             ],
             [
              0.5555555555555556,
              "#d8576b"
             ],
             [
              0.6666666666666666,
              "#ed7953"
             ],
             [
              0.7777777777777778,
              "#fb9f3a"
             ],
             [
              0.8888888888888888,
              "#fdca26"
             ],
             [
              1,
              "#f0f921"
             ]
            ],
            "type": "surface"
           }
          ],
          "table": [
           {
            "cells": {
             "fill": {
              "color": "#EBF0F8"
             },
             "line": {
              "color": "white"
             }
            },
            "header": {
             "fill": {
              "color": "#C8D4E3"
             },
             "line": {
              "color": "white"
             }
            },
            "type": "table"
           }
          ]
         },
         "layout": {
          "annotationdefaults": {
           "arrowcolor": "#2a3f5f",
           "arrowhead": 0,
           "arrowwidth": 1
          },
          "autotypenumbers": "strict",
          "coloraxis": {
           "colorbar": {
            "outlinewidth": 0,
            "ticks": ""
           }
          },
          "colorscale": {
           "diverging": [
            [
             0,
             "#8e0152"
            ],
            [
             0.1,
             "#c51b7d"
            ],
            [
             0.2,
             "#de77ae"
            ],
            [
             0.3,
             "#f1b6da"
            ],
            [
             0.4,
             "#fde0ef"
            ],
            [
             0.5,
             "#f7f7f7"
            ],
            [
             0.6,
             "#e6f5d0"
            ],
            [
             0.7,
             "#b8e186"
            ],
            [
             0.8,
             "#7fbc41"
            ],
            [
             0.9,
             "#4d9221"
            ],
            [
             1,
             "#276419"
            ]
           ],
           "sequential": [
            [
             0,
             "#0d0887"
            ],
            [
             0.1111111111111111,
             "#46039f"
            ],
            [
             0.2222222222222222,
             "#7201a8"
            ],
            [
             0.3333333333333333,
             "#9c179e"
            ],
            [
             0.4444444444444444,
             "#bd3786"
            ],
            [
             0.5555555555555556,
             "#d8576b"
            ],
            [
             0.6666666666666666,
             "#ed7953"
            ],
            [
             0.7777777777777778,
             "#fb9f3a"
            ],
            [
             0.8888888888888888,
             "#fdca26"
            ],
            [
             1,
             "#f0f921"
            ]
           ],
           "sequentialminus": [
            [
             0,
             "#0d0887"
            ],
            [
             0.1111111111111111,
             "#46039f"
            ],
            [
             0.2222222222222222,
             "#7201a8"
            ],
            [
             0.3333333333333333,
             "#9c179e"
            ],
            [
             0.4444444444444444,
             "#bd3786"
            ],
            [
             0.5555555555555556,
             "#d8576b"
            ],
            [
             0.6666666666666666,
             "#ed7953"
            ],
            [
             0.7777777777777778,
             "#fb9f3a"
            ],
            [
             0.8888888888888888,
             "#fdca26"
            ],
            [
             1,
             "#f0f921"
            ]
           ]
          },
          "colorway": [
           "#636efa",
           "#EF553B",
           "#00cc96",
           "#ab63fa",
           "#FFA15A",
           "#19d3f3",
           "#FF6692",
           "#B6E880",
           "#FF97FF",
           "#FECB52"
          ],
          "font": {
           "color": "#2a3f5f"
          },
          "geo": {
           "bgcolor": "white",
           "lakecolor": "white",
           "landcolor": "#E5ECF6",
           "showlakes": true,
           "showland": true,
           "subunitcolor": "white"
          },
          "hoverlabel": {
           "align": "left"
          },
          "hovermode": "closest",
          "mapbox": {
           "style": "light"
          },
          "paper_bgcolor": "white",
          "plot_bgcolor": "#E5ECF6",
          "polar": {
           "angularaxis": {
            "gridcolor": "white",
            "linecolor": "white",
            "ticks": ""
           },
           "bgcolor": "#E5ECF6",
           "radialaxis": {
            "gridcolor": "white",
            "linecolor": "white",
            "ticks": ""
           }
          },
          "scene": {
           "xaxis": {
            "backgroundcolor": "#E5ECF6",
            "gridcolor": "white",
            "gridwidth": 2,
            "linecolor": "white",
            "showbackground": true,
            "ticks": "",
            "zerolinecolor": "white"
           },
           "yaxis": {
            "backgroundcolor": "#E5ECF6",
            "gridcolor": "white",
            "gridwidth": 2,
            "linecolor": "white",
            "showbackground": true,
            "ticks": "",
            "zerolinecolor": "white"
           },
           "zaxis": {
            "backgroundcolor": "#E5ECF6",
            "gridcolor": "white",
            "gridwidth": 2,
            "linecolor": "white",
            "showbackground": true,
            "ticks": "",
            "zerolinecolor": "white"
           }
          },
          "shapedefaults": {
           "line": {
            "color": "#2a3f5f"
           }
          },
          "ternary": {
           "aaxis": {
            "gridcolor": "white",
            "linecolor": "white",
            "ticks": ""
           },
           "baxis": {
            "gridcolor": "white",
            "linecolor": "white",
            "ticks": ""
           },
           "bgcolor": "#E5ECF6",
           "caxis": {
            "gridcolor": "white",
            "linecolor": "white",
            "ticks": ""
           }
          },
          "title": {
           "x": 0.05
          },
          "xaxis": {
           "automargin": true,
           "gridcolor": "white",
           "linecolor": "white",
           "ticks": "",
           "title": {
            "standoff": 15
           },
           "zerolinecolor": "white",
           "zerolinewidth": 2
          },
          "yaxis": {
           "automargin": true,
           "gridcolor": "white",
           "linecolor": "white",
           "ticks": "",
           "title": {
            "standoff": 15
           },
           "zerolinecolor": "white",
           "zerolinewidth": 2
          }
         }
        },
        "title": {
         "text": "Valor promedio de contratos ESAP según fecha de firma 2020 - 2024"
        },
        "xaxis": {
         "anchor": "y",
         "domain": [
          0,
          1
         ],
         "title": {
          "text": "fecha_de_firma"
         }
        },
        "yaxis": {
         "anchor": "x",
         "domain": [
          0,
          1
         ],
         "title": {
          "text": "Valor Promedio del Contrato"
         }
        }
       }
      }
     },
     "metadata": {},
     "output_type": "display_data"
    }
   ],
   "source": [
    "# Asegurar que 'fecha_de_firma' es un tipo de dato datetime\n",
    "secop['fecha_de_firma'] = pd.to_datetime(secop['fecha_de_firma'])\n",
    "\n",
    "# Agrupar y calcular el valor promedio del contrato por fecha de firma\n",
    "valor_promedio_fecha = secop.groupby('fecha_de_firma')['valor_del_contrato'].mean().reset_index()\n",
    "\n",
    "# Crear el gráfico utilizando Plotly\n",
    "fig = px.line(valor_promedio_fecha, x='fecha_de_firma', y='valor_del_contrato', \n",
    "              title='Valor promedio de contratos ESAP según fecha de firma 2020 - 2024',\n",
    "              labels={'valor_del_contrato': 'Valor Promedio del Contrato'})\n",
    "\n",
    "# Mostrar el gráfico\n",
    "fig.show()"
   ]
  },
  {
   "cell_type": "markdown",
   "metadata": {},
   "source": [
    "_Valor de contratos ESAP según fecha de firma 2020 - 2024 (meses)_"
   ]
  },
  {
   "cell_type": "code",
   "execution_count": 439,
   "metadata": {},
   "outputs": [
    {
     "data": {
      "application/vnd.plotly.v1+json": {
       "config": {
        "plotlyServerURL": "https://plot.ly"
       },
       "data": [
        {
         "hovertemplate": "Mes y Año=%{x}<br>Valor del Contrato=%{y}<extra></extra>",
         "legendgroup": "",
         "line": {
          "color": "#636efa",
          "dash": "solid"
         },
         "marker": {
          "symbol": "circle"
         },
         "mode": "lines",
         "name": "",
         "orientation": "v",
         "showlegend": false,
         "type": "scatter",
         "x": [
          "2020-01-01T00:00:00",
          "2020-02-01T00:00:00",
          "2020-03-01T00:00:00",
          "2020-04-01T00:00:00",
          "2020-05-01T00:00:00",
          "2020-06-01T00:00:00",
          "2020-07-01T00:00:00",
          "2020-08-01T00:00:00",
          "2020-09-01T00:00:00",
          "2020-10-01T00:00:00",
          "2020-11-01T00:00:00",
          "2020-12-01T00:00:00",
          "2021-01-01T00:00:00",
          "2021-02-01T00:00:00",
          "2021-03-01T00:00:00",
          "2021-04-01T00:00:00",
          "2021-05-01T00:00:00",
          "2021-06-01T00:00:00",
          "2021-07-01T00:00:00",
          "2021-08-01T00:00:00",
          "2021-09-01T00:00:00",
          "2021-10-01T00:00:00",
          "2021-11-01T00:00:00",
          "2021-12-01T00:00:00",
          "2022-01-01T00:00:00",
          "2022-02-01T00:00:00",
          "2022-04-01T00:00:00",
          "2022-05-01T00:00:00",
          "2022-06-01T00:00:00",
          "2022-07-01T00:00:00",
          "2022-08-01T00:00:00",
          "2022-09-01T00:00:00",
          "2022-10-01T00:00:00",
          "2022-11-01T00:00:00",
          "2022-12-01T00:00:00",
          "2023-01-01T00:00:00",
          "2023-02-01T00:00:00",
          "2023-03-01T00:00:00",
          "2023-04-01T00:00:00",
          "2023-05-01T00:00:00",
          "2023-06-01T00:00:00",
          "2023-07-01T00:00:00",
          "2023-08-01T00:00:00",
          "2023-09-01T00:00:00",
          "2023-10-01T00:00:00",
          "2023-11-01T00:00:00",
          "2023-12-01T00:00:00",
          "2024-01-01T00:00:00"
         ],
         "xaxis": "x",
         "y": [
          11839100436,
          14499634610,
          43947595900,
          1566581900,
          3167892702,
          2928024075,
          890459301,
          1840573621,
          1052754699,
          5565453058,
          1842723156,
          15394599881,
          11542069707,
          5682844204,
          9735461539,
          3413808109,
          1273200884,
          19527702813,
          4580884373,
          2965467723,
          2952467302,
          4310723520,
          8590865126,
          14293184601,
          39762539145,
          20411568447,
          54089079,
          3227282284,
          281442169,
          1568347690,
          1516737878,
          745761843,
          1196848936,
          556067153,
          3365241113,
          21058182339,
          10918462183,
          9658132657,
          22849809639,
          2307688906,
          1914579948,
          3051336516,
          6458344194,
          4647025361,
          13472936657,
          7066654626,
          23158694437,
          24438671335
         ],
         "yaxis": "y"
        }
       ],
       "layout": {
        "legend": {
         "tracegroupgap": 0
        },
        "template": {
         "data": {
          "bar": [
           {
            "error_x": {
             "color": "#2a3f5f"
            },
            "error_y": {
             "color": "#2a3f5f"
            },
            "marker": {
             "line": {
              "color": "#E5ECF6",
              "width": 0.5
             },
             "pattern": {
              "fillmode": "overlay",
              "size": 10,
              "solidity": 0.2
             }
            },
            "type": "bar"
           }
          ],
          "barpolar": [
           {
            "marker": {
             "line": {
              "color": "#E5ECF6",
              "width": 0.5
             },
             "pattern": {
              "fillmode": "overlay",
              "size": 10,
              "solidity": 0.2
             }
            },
            "type": "barpolar"
           }
          ],
          "carpet": [
           {
            "aaxis": {
             "endlinecolor": "#2a3f5f",
             "gridcolor": "white",
             "linecolor": "white",
             "minorgridcolor": "white",
             "startlinecolor": "#2a3f5f"
            },
            "baxis": {
             "endlinecolor": "#2a3f5f",
             "gridcolor": "white",
             "linecolor": "white",
             "minorgridcolor": "white",
             "startlinecolor": "#2a3f5f"
            },
            "type": "carpet"
           }
          ],
          "choropleth": [
           {
            "colorbar": {
             "outlinewidth": 0,
             "ticks": ""
            },
            "type": "choropleth"
           }
          ],
          "contour": [
           {
            "colorbar": {
             "outlinewidth": 0,
             "ticks": ""
            },
            "colorscale": [
             [
              0,
              "#0d0887"
             ],
             [
              0.1111111111111111,
              "#46039f"
             ],
             [
              0.2222222222222222,
              "#7201a8"
             ],
             [
              0.3333333333333333,
              "#9c179e"
             ],
             [
              0.4444444444444444,
              "#bd3786"
             ],
             [
              0.5555555555555556,
              "#d8576b"
             ],
             [
              0.6666666666666666,
              "#ed7953"
             ],
             [
              0.7777777777777778,
              "#fb9f3a"
             ],
             [
              0.8888888888888888,
              "#fdca26"
             ],
             [
              1,
              "#f0f921"
             ]
            ],
            "type": "contour"
           }
          ],
          "contourcarpet": [
           {
            "colorbar": {
             "outlinewidth": 0,
             "ticks": ""
            },
            "type": "contourcarpet"
           }
          ],
          "heatmap": [
           {
            "colorbar": {
             "outlinewidth": 0,
             "ticks": ""
            },
            "colorscale": [
             [
              0,
              "#0d0887"
             ],
             [
              0.1111111111111111,
              "#46039f"
             ],
             [
              0.2222222222222222,
              "#7201a8"
             ],
             [
              0.3333333333333333,
              "#9c179e"
             ],
             [
              0.4444444444444444,
              "#bd3786"
             ],
             [
              0.5555555555555556,
              "#d8576b"
             ],
             [
              0.6666666666666666,
              "#ed7953"
             ],
             [
              0.7777777777777778,
              "#fb9f3a"
             ],
             [
              0.8888888888888888,
              "#fdca26"
             ],
             [
              1,
              "#f0f921"
             ]
            ],
            "type": "heatmap"
           }
          ],
          "heatmapgl": [
           {
            "colorbar": {
             "outlinewidth": 0,
             "ticks": ""
            },
            "colorscale": [
             [
              0,
              "#0d0887"
             ],
             [
              0.1111111111111111,
              "#46039f"
             ],
             [
              0.2222222222222222,
              "#7201a8"
             ],
             [
              0.3333333333333333,
              "#9c179e"
             ],
             [
              0.4444444444444444,
              "#bd3786"
             ],
             [
              0.5555555555555556,
              "#d8576b"
             ],
             [
              0.6666666666666666,
              "#ed7953"
             ],
             [
              0.7777777777777778,
              "#fb9f3a"
             ],
             [
              0.8888888888888888,
              "#fdca26"
             ],
             [
              1,
              "#f0f921"
             ]
            ],
            "type": "heatmapgl"
           }
          ],
          "histogram": [
           {
            "marker": {
             "pattern": {
              "fillmode": "overlay",
              "size": 10,
              "solidity": 0.2
             }
            },
            "type": "histogram"
           }
          ],
          "histogram2d": [
           {
            "colorbar": {
             "outlinewidth": 0,
             "ticks": ""
            },
            "colorscale": [
             [
              0,
              "#0d0887"
             ],
             [
              0.1111111111111111,
              "#46039f"
             ],
             [
              0.2222222222222222,
              "#7201a8"
             ],
             [
              0.3333333333333333,
              "#9c179e"
             ],
             [
              0.4444444444444444,
              "#bd3786"
             ],
             [
              0.5555555555555556,
              "#d8576b"
             ],
             [
              0.6666666666666666,
              "#ed7953"
             ],
             [
              0.7777777777777778,
              "#fb9f3a"
             ],
             [
              0.8888888888888888,
              "#fdca26"
             ],
             [
              1,
              "#f0f921"
             ]
            ],
            "type": "histogram2d"
           }
          ],
          "histogram2dcontour": [
           {
            "colorbar": {
             "outlinewidth": 0,
             "ticks": ""
            },
            "colorscale": [
             [
              0,
              "#0d0887"
             ],
             [
              0.1111111111111111,
              "#46039f"
             ],
             [
              0.2222222222222222,
              "#7201a8"
             ],
             [
              0.3333333333333333,
              "#9c179e"
             ],
             [
              0.4444444444444444,
              "#bd3786"
             ],
             [
              0.5555555555555556,
              "#d8576b"
             ],
             [
              0.6666666666666666,
              "#ed7953"
             ],
             [
              0.7777777777777778,
              "#fb9f3a"
             ],
             [
              0.8888888888888888,
              "#fdca26"
             ],
             [
              1,
              "#f0f921"
             ]
            ],
            "type": "histogram2dcontour"
           }
          ],
          "mesh3d": [
           {
            "colorbar": {
             "outlinewidth": 0,
             "ticks": ""
            },
            "type": "mesh3d"
           }
          ],
          "parcoords": [
           {
            "line": {
             "colorbar": {
              "outlinewidth": 0,
              "ticks": ""
             }
            },
            "type": "parcoords"
           }
          ],
          "pie": [
           {
            "automargin": true,
            "type": "pie"
           }
          ],
          "scatter": [
           {
            "fillpattern": {
             "fillmode": "overlay",
             "size": 10,
             "solidity": 0.2
            },
            "type": "scatter"
           }
          ],
          "scatter3d": [
           {
            "line": {
             "colorbar": {
              "outlinewidth": 0,
              "ticks": ""
             }
            },
            "marker": {
             "colorbar": {
              "outlinewidth": 0,
              "ticks": ""
             }
            },
            "type": "scatter3d"
           }
          ],
          "scattercarpet": [
           {
            "marker": {
             "colorbar": {
              "outlinewidth": 0,
              "ticks": ""
             }
            },
            "type": "scattercarpet"
           }
          ],
          "scattergeo": [
           {
            "marker": {
             "colorbar": {
              "outlinewidth": 0,
              "ticks": ""
             }
            },
            "type": "scattergeo"
           }
          ],
          "scattergl": [
           {
            "marker": {
             "colorbar": {
              "outlinewidth": 0,
              "ticks": ""
             }
            },
            "type": "scattergl"
           }
          ],
          "scattermapbox": [
           {
            "marker": {
             "colorbar": {
              "outlinewidth": 0,
              "ticks": ""
             }
            },
            "type": "scattermapbox"
           }
          ],
          "scatterpolar": [
           {
            "marker": {
             "colorbar": {
              "outlinewidth": 0,
              "ticks": ""
             }
            },
            "type": "scatterpolar"
           }
          ],
          "scatterpolargl": [
           {
            "marker": {
             "colorbar": {
              "outlinewidth": 0,
              "ticks": ""
             }
            },
            "type": "scatterpolargl"
           }
          ],
          "scatterternary": [
           {
            "marker": {
             "colorbar": {
              "outlinewidth": 0,
              "ticks": ""
             }
            },
            "type": "scatterternary"
           }
          ],
          "surface": [
           {
            "colorbar": {
             "outlinewidth": 0,
             "ticks": ""
            },
            "colorscale": [
             [
              0,
              "#0d0887"
             ],
             [
              0.1111111111111111,
              "#46039f"
             ],
             [
              0.2222222222222222,
              "#7201a8"
             ],
             [
              0.3333333333333333,
              "#9c179e"
             ],
             [
              0.4444444444444444,
              "#bd3786"
             ],
             [
              0.5555555555555556,
              "#d8576b"
             ],
             [
              0.6666666666666666,
              "#ed7953"
             ],
             [
              0.7777777777777778,
              "#fb9f3a"
             ],
             [
              0.8888888888888888,
              "#fdca26"
             ],
             [
              1,
              "#f0f921"
             ]
            ],
            "type": "surface"
           }
          ],
          "table": [
           {
            "cells": {
             "fill": {
              "color": "#EBF0F8"
             },
             "line": {
              "color": "white"
             }
            },
            "header": {
             "fill": {
              "color": "#C8D4E3"
             },
             "line": {
              "color": "white"
             }
            },
            "type": "table"
           }
          ]
         },
         "layout": {
          "annotationdefaults": {
           "arrowcolor": "#2a3f5f",
           "arrowhead": 0,
           "arrowwidth": 1
          },
          "autotypenumbers": "strict",
          "coloraxis": {
           "colorbar": {
            "outlinewidth": 0,
            "ticks": ""
           }
          },
          "colorscale": {
           "diverging": [
            [
             0,
             "#8e0152"
            ],
            [
             0.1,
             "#c51b7d"
            ],
            [
             0.2,
             "#de77ae"
            ],
            [
             0.3,
             "#f1b6da"
            ],
            [
             0.4,
             "#fde0ef"
            ],
            [
             0.5,
             "#f7f7f7"
            ],
            [
             0.6,
             "#e6f5d0"
            ],
            [
             0.7,
             "#b8e186"
            ],
            [
             0.8,
             "#7fbc41"
            ],
            [
             0.9,
             "#4d9221"
            ],
            [
             1,
             "#276419"
            ]
           ],
           "sequential": [
            [
             0,
             "#0d0887"
            ],
            [
             0.1111111111111111,
             "#46039f"
            ],
            [
             0.2222222222222222,
             "#7201a8"
            ],
            [
             0.3333333333333333,
             "#9c179e"
            ],
            [
             0.4444444444444444,
             "#bd3786"
            ],
            [
             0.5555555555555556,
             "#d8576b"
            ],
            [
             0.6666666666666666,
             "#ed7953"
            ],
            [
             0.7777777777777778,
             "#fb9f3a"
            ],
            [
             0.8888888888888888,
             "#fdca26"
            ],
            [
             1,
             "#f0f921"
            ]
           ],
           "sequentialminus": [
            [
             0,
             "#0d0887"
            ],
            [
             0.1111111111111111,
             "#46039f"
            ],
            [
             0.2222222222222222,
             "#7201a8"
            ],
            [
             0.3333333333333333,
             "#9c179e"
            ],
            [
             0.4444444444444444,
             "#bd3786"
            ],
            [
             0.5555555555555556,
             "#d8576b"
            ],
            [
             0.6666666666666666,
             "#ed7953"
            ],
            [
             0.7777777777777778,
             "#fb9f3a"
            ],
            [
             0.8888888888888888,
             "#fdca26"
            ],
            [
             1,
             "#f0f921"
            ]
           ]
          },
          "colorway": [
           "#636efa",
           "#EF553B",
           "#00cc96",
           "#ab63fa",
           "#FFA15A",
           "#19d3f3",
           "#FF6692",
           "#B6E880",
           "#FF97FF",
           "#FECB52"
          ],
          "font": {
           "color": "#2a3f5f"
          },
          "geo": {
           "bgcolor": "white",
           "lakecolor": "white",
           "landcolor": "#E5ECF6",
           "showlakes": true,
           "showland": true,
           "subunitcolor": "white"
          },
          "hoverlabel": {
           "align": "left"
          },
          "hovermode": "closest",
          "mapbox": {
           "style": "light"
          },
          "paper_bgcolor": "white",
          "plot_bgcolor": "#E5ECF6",
          "polar": {
           "angularaxis": {
            "gridcolor": "white",
            "linecolor": "white",
            "ticks": ""
           },
           "bgcolor": "#E5ECF6",
           "radialaxis": {
            "gridcolor": "white",
            "linecolor": "white",
            "ticks": ""
           }
          },
          "scene": {
           "xaxis": {
            "backgroundcolor": "#E5ECF6",
            "gridcolor": "white",
            "gridwidth": 2,
            "linecolor": "white",
            "showbackground": true,
            "ticks": "",
            "zerolinecolor": "white"
           },
           "yaxis": {
            "backgroundcolor": "#E5ECF6",
            "gridcolor": "white",
            "gridwidth": 2,
            "linecolor": "white",
            "showbackground": true,
            "ticks": "",
            "zerolinecolor": "white"
           },
           "zaxis": {
            "backgroundcolor": "#E5ECF6",
            "gridcolor": "white",
            "gridwidth": 2,
            "linecolor": "white",
            "showbackground": true,
            "ticks": "",
            "zerolinecolor": "white"
           }
          },
          "shapedefaults": {
           "line": {
            "color": "#2a3f5f"
           }
          },
          "ternary": {
           "aaxis": {
            "gridcolor": "white",
            "linecolor": "white",
            "ticks": ""
           },
           "baxis": {
            "gridcolor": "white",
            "linecolor": "white",
            "ticks": ""
           },
           "bgcolor": "#E5ECF6",
           "caxis": {
            "gridcolor": "white",
            "linecolor": "white",
            "ticks": ""
           }
          },
          "title": {
           "x": 0.05
          },
          "xaxis": {
           "automargin": true,
           "gridcolor": "white",
           "linecolor": "white",
           "ticks": "",
           "title": {
            "standoff": 15
           },
           "zerolinecolor": "white",
           "zerolinewidth": 2
          },
          "yaxis": {
           "automargin": true,
           "gridcolor": "white",
           "linecolor": "white",
           "ticks": "",
           "title": {
            "standoff": 15
           },
           "zerolinecolor": "white",
           "zerolinewidth": 2
          }
         }
        },
        "title": {
         "text": "Valor total de contratos ESAP por mes 2020 - 2024"
        },
        "xaxis": {
         "anchor": "y",
         "domain": [
          0,
          1
         ],
         "title": {
          "text": "Mes y Año"
         }
        },
        "yaxis": {
         "anchor": "x",
         "domain": [
          0,
          1
         ],
         "title": {
          "text": "Valor del Contrato"
         }
        }
       }
      }
     },
     "metadata": {},
     "output_type": "display_data"
    }
   ],
   "source": [
    "# Asegurar que 'fecha_de_firma' es un tipo de dato datetime\n",
    "secop['fecha_de_firma'] = pd.to_datetime(secop['fecha_de_firma'])\n",
    "\n",
    "# Extraer el mes y el año de la fecha de firma\n",
    "secop['mes_ano_firma'] = secop['fecha_de_firma'].dt.to_period('M')\n",
    "\n",
    "# Agrupar y sumar el valor del contrato por mes y año de firma\n",
    "valor_por_mes = secop.groupby('mes_ano_firma')['valor_del_contrato'].sum().reset_index()\n",
    "\n",
    "# Convertir 'mes_ano_firma' a datetime para el gráfico\n",
    "valor_por_mes['mes_ano_firma'] = valor_por_mes['mes_ano_firma'].dt.to_timestamp()\n",
    "\n",
    "# Crear el gráfico utilizando Plotly\n",
    "fig = px.line(valor_por_mes, x='mes_ano_firma', y='valor_del_contrato', \n",
    "              title='Valor total de contratos ESAP por mes 2020 - 2024',\n",
    "              labels={'valor_del_contrato': 'Valor del Contrato', 'mes_ano_firma': 'Mes y Año'})\n",
    "\n",
    "# Mostrar el gráfico\n",
    "fig.show()"
   ]
  },
  {
   "cell_type": "code",
   "execution_count": 440,
   "metadata": {},
   "outputs": [
    {
     "data": {
      "application/vnd.plotly.v1+json": {
       "config": {
        "plotlyServerURL": "https://plot.ly"
       },
       "data": [
        {
         "hovertemplate": "Mes y Año=%{x}<br>Valor Promedio del Contrato=%{y}<extra></extra>",
         "legendgroup": "",
         "line": {
          "color": "#636efa",
          "dash": "solid"
         },
         "marker": {
          "symbol": "circle"
         },
         "mode": "lines",
         "name": "",
         "orientation": "v",
         "showlegend": false,
         "type": "scatter",
         "x": [
          "2020-01-01T00:00:00",
          "2020-02-01T00:00:00",
          "2020-03-01T00:00:00",
          "2020-04-01T00:00:00",
          "2020-05-01T00:00:00",
          "2020-06-01T00:00:00",
          "2020-07-01T00:00:00",
          "2020-08-01T00:00:00",
          "2020-09-01T00:00:00",
          "2020-10-01T00:00:00",
          "2020-11-01T00:00:00",
          "2020-12-01T00:00:00",
          "2021-01-01T00:00:00",
          "2021-02-01T00:00:00",
          "2021-03-01T00:00:00",
          "2021-04-01T00:00:00",
          "2021-05-01T00:00:00",
          "2021-06-01T00:00:00",
          "2021-07-01T00:00:00",
          "2021-08-01T00:00:00",
          "2021-09-01T00:00:00",
          "2021-10-01T00:00:00",
          "2021-11-01T00:00:00",
          "2021-12-01T00:00:00",
          "2022-01-01T00:00:00",
          "2022-02-01T00:00:00",
          "2022-04-01T00:00:00",
          "2022-05-01T00:00:00",
          "2022-06-01T00:00:00",
          "2022-07-01T00:00:00",
          "2022-08-01T00:00:00",
          "2022-09-01T00:00:00",
          "2022-10-01T00:00:00",
          "2022-11-01T00:00:00",
          "2022-12-01T00:00:00",
          "2023-01-01T00:00:00",
          "2023-02-01T00:00:00",
          "2023-03-01T00:00:00",
          "2023-04-01T00:00:00",
          "2023-05-01T00:00:00",
          "2023-06-01T00:00:00",
          "2023-07-01T00:00:00",
          "2023-08-01T00:00:00",
          "2023-09-01T00:00:00",
          "2023-10-01T00:00:00",
          "2023-11-01T00:00:00",
          "2023-12-01T00:00:00",
          "2024-01-01T00:00:00"
         ],
         "xaxis": "x",
         "y": [
          70053848.73372781,
          97970504.12162162,
          799047198.1818181,
          55949353.571428575,
          226278050.14285713,
          79135785.8108108,
          28724493.580645163,
          9790285.218085106,
          14421297.246575342,
          70448772.88607594,
          17221711.738317758,
          190056788.65432099,
          63071419.163934425,
          44397220.34375,
          64903076.92666667,
          48081804.35211267,
          28936383.727272727,
          355049142.05454546,
          42026462.13761468,
          42363824.614285715,
          23247774.031496063,
          41449264.615384616,
          106060063.28395061,
          274868934.63461536,
          62128967.4140625,
          170096403.725,
          13522269.75,
          806820571,
          140721084.5,
          120642130,
          32271018.680851065,
          39250623.315789476,
          20285575.186440676,
          12637889.840909092,
          64716175.25,
          66013110.78056426,
          56280732.90206186,
          53359848.93370166,
          408032314.98214287,
          10537392.264840182,
          6813451.772241993,
          32810070.06451613,
          42770491.35099338,
          31612417.421768706,
          124749413.49074075,
          77655545.34065934,
          373527329.62903225,
          81734686.73913044
         ],
         "yaxis": "y"
        }
       ],
       "layout": {
        "legend": {
         "tracegroupgap": 0
        },
        "template": {
         "data": {
          "bar": [
           {
            "error_x": {
             "color": "#2a3f5f"
            },
            "error_y": {
             "color": "#2a3f5f"
            },
            "marker": {
             "line": {
              "color": "#E5ECF6",
              "width": 0.5
             },
             "pattern": {
              "fillmode": "overlay",
              "size": 10,
              "solidity": 0.2
             }
            },
            "type": "bar"
           }
          ],
          "barpolar": [
           {
            "marker": {
             "line": {
              "color": "#E5ECF6",
              "width": 0.5
             },
             "pattern": {
              "fillmode": "overlay",
              "size": 10,
              "solidity": 0.2
             }
            },
            "type": "barpolar"
           }
          ],
          "carpet": [
           {
            "aaxis": {
             "endlinecolor": "#2a3f5f",
             "gridcolor": "white",
             "linecolor": "white",
             "minorgridcolor": "white",
             "startlinecolor": "#2a3f5f"
            },
            "baxis": {
             "endlinecolor": "#2a3f5f",
             "gridcolor": "white",
             "linecolor": "white",
             "minorgridcolor": "white",
             "startlinecolor": "#2a3f5f"
            },
            "type": "carpet"
           }
          ],
          "choropleth": [
           {
            "colorbar": {
             "outlinewidth": 0,
             "ticks": ""
            },
            "type": "choropleth"
           }
          ],
          "contour": [
           {
            "colorbar": {
             "outlinewidth": 0,
             "ticks": ""
            },
            "colorscale": [
             [
              0,
              "#0d0887"
             ],
             [
              0.1111111111111111,
              "#46039f"
             ],
             [
              0.2222222222222222,
              "#7201a8"
             ],
             [
              0.3333333333333333,
              "#9c179e"
             ],
             [
              0.4444444444444444,
              "#bd3786"
             ],
             [
              0.5555555555555556,
              "#d8576b"
             ],
             [
              0.6666666666666666,
              "#ed7953"
             ],
             [
              0.7777777777777778,
              "#fb9f3a"
             ],
             [
              0.8888888888888888,
              "#fdca26"
             ],
             [
              1,
              "#f0f921"
             ]
            ],
            "type": "contour"
           }
          ],
          "contourcarpet": [
           {
            "colorbar": {
             "outlinewidth": 0,
             "ticks": ""
            },
            "type": "contourcarpet"
           }
          ],
          "heatmap": [
           {
            "colorbar": {
             "outlinewidth": 0,
             "ticks": ""
            },
            "colorscale": [
             [
              0,
              "#0d0887"
             ],
             [
              0.1111111111111111,
              "#46039f"
             ],
             [
              0.2222222222222222,
              "#7201a8"
             ],
             [
              0.3333333333333333,
              "#9c179e"
             ],
             [
              0.4444444444444444,
              "#bd3786"
             ],
             [
              0.5555555555555556,
              "#d8576b"
             ],
             [
              0.6666666666666666,
              "#ed7953"
             ],
             [
              0.7777777777777778,
              "#fb9f3a"
             ],
             [
              0.8888888888888888,
              "#fdca26"
             ],
             [
              1,
              "#f0f921"
             ]
            ],
            "type": "heatmap"
           }
          ],
          "heatmapgl": [
           {
            "colorbar": {
             "outlinewidth": 0,
             "ticks": ""
            },
            "colorscale": [
             [
              0,
              "#0d0887"
             ],
             [
              0.1111111111111111,
              "#46039f"
             ],
             [
              0.2222222222222222,
              "#7201a8"
             ],
             [
              0.3333333333333333,
              "#9c179e"
             ],
             [
              0.4444444444444444,
              "#bd3786"
             ],
             [
              0.5555555555555556,
              "#d8576b"
             ],
             [
              0.6666666666666666,
              "#ed7953"
             ],
             [
              0.7777777777777778,
              "#fb9f3a"
             ],
             [
              0.8888888888888888,
              "#fdca26"
             ],
             [
              1,
              "#f0f921"
             ]
            ],
            "type": "heatmapgl"
           }
          ],
          "histogram": [
           {
            "marker": {
             "pattern": {
              "fillmode": "overlay",
              "size": 10,
              "solidity": 0.2
             }
            },
            "type": "histogram"
           }
          ],
          "histogram2d": [
           {
            "colorbar": {
             "outlinewidth": 0,
             "ticks": ""
            },
            "colorscale": [
             [
              0,
              "#0d0887"
             ],
             [
              0.1111111111111111,
              "#46039f"
             ],
             [
              0.2222222222222222,
              "#7201a8"
             ],
             [
              0.3333333333333333,
              "#9c179e"
             ],
             [
              0.4444444444444444,
              "#bd3786"
             ],
             [
              0.5555555555555556,
              "#d8576b"
             ],
             [
              0.6666666666666666,
              "#ed7953"
             ],
             [
              0.7777777777777778,
              "#fb9f3a"
             ],
             [
              0.8888888888888888,
              "#fdca26"
             ],
             [
              1,
              "#f0f921"
             ]
            ],
            "type": "histogram2d"
           }
          ],
          "histogram2dcontour": [
           {
            "colorbar": {
             "outlinewidth": 0,
             "ticks": ""
            },
            "colorscale": [
             [
              0,
              "#0d0887"
             ],
             [
              0.1111111111111111,
              "#46039f"
             ],
             [
              0.2222222222222222,
              "#7201a8"
             ],
             [
              0.3333333333333333,
              "#9c179e"
             ],
             [
              0.4444444444444444,
              "#bd3786"
             ],
             [
              0.5555555555555556,
              "#d8576b"
             ],
             [
              0.6666666666666666,
              "#ed7953"
             ],
             [
              0.7777777777777778,
              "#fb9f3a"
             ],
             [
              0.8888888888888888,
              "#fdca26"
             ],
             [
              1,
              "#f0f921"
             ]
            ],
            "type": "histogram2dcontour"
           }
          ],
          "mesh3d": [
           {
            "colorbar": {
             "outlinewidth": 0,
             "ticks": ""
            },
            "type": "mesh3d"
           }
          ],
          "parcoords": [
           {
            "line": {
             "colorbar": {
              "outlinewidth": 0,
              "ticks": ""
             }
            },
            "type": "parcoords"
           }
          ],
          "pie": [
           {
            "automargin": true,
            "type": "pie"
           }
          ],
          "scatter": [
           {
            "fillpattern": {
             "fillmode": "overlay",
             "size": 10,
             "solidity": 0.2
            },
            "type": "scatter"
           }
          ],
          "scatter3d": [
           {
            "line": {
             "colorbar": {
              "outlinewidth": 0,
              "ticks": ""
             }
            },
            "marker": {
             "colorbar": {
              "outlinewidth": 0,
              "ticks": ""
             }
            },
            "type": "scatter3d"
           }
          ],
          "scattercarpet": [
           {
            "marker": {
             "colorbar": {
              "outlinewidth": 0,
              "ticks": ""
             }
            },
            "type": "scattercarpet"
           }
          ],
          "scattergeo": [
           {
            "marker": {
             "colorbar": {
              "outlinewidth": 0,
              "ticks": ""
             }
            },
            "type": "scattergeo"
           }
          ],
          "scattergl": [
           {
            "marker": {
             "colorbar": {
              "outlinewidth": 0,
              "ticks": ""
             }
            },
            "type": "scattergl"
           }
          ],
          "scattermapbox": [
           {
            "marker": {
             "colorbar": {
              "outlinewidth": 0,
              "ticks": ""
             }
            },
            "type": "scattermapbox"
           }
          ],
          "scatterpolar": [
           {
            "marker": {
             "colorbar": {
              "outlinewidth": 0,
              "ticks": ""
             }
            },
            "type": "scatterpolar"
           }
          ],
          "scatterpolargl": [
           {
            "marker": {
             "colorbar": {
              "outlinewidth": 0,
              "ticks": ""
             }
            },
            "type": "scatterpolargl"
           }
          ],
          "scatterternary": [
           {
            "marker": {
             "colorbar": {
              "outlinewidth": 0,
              "ticks": ""
             }
            },
            "type": "scatterternary"
           }
          ],
          "surface": [
           {
            "colorbar": {
             "outlinewidth": 0,
             "ticks": ""
            },
            "colorscale": [
             [
              0,
              "#0d0887"
             ],
             [
              0.1111111111111111,
              "#46039f"
             ],
             [
              0.2222222222222222,
              "#7201a8"
             ],
             [
              0.3333333333333333,
              "#9c179e"
             ],
             [
              0.4444444444444444,
              "#bd3786"
             ],
             [
              0.5555555555555556,
              "#d8576b"
             ],
             [
              0.6666666666666666,
              "#ed7953"
             ],
             [
              0.7777777777777778,
              "#fb9f3a"
             ],
             [
              0.8888888888888888,
              "#fdca26"
             ],
             [
              1,
              "#f0f921"
             ]
            ],
            "type": "surface"
           }
          ],
          "table": [
           {
            "cells": {
             "fill": {
              "color": "#EBF0F8"
             },
             "line": {
              "color": "white"
             }
            },
            "header": {
             "fill": {
              "color": "#C8D4E3"
             },
             "line": {
              "color": "white"
             }
            },
            "type": "table"
           }
          ]
         },
         "layout": {
          "annotationdefaults": {
           "arrowcolor": "#2a3f5f",
           "arrowhead": 0,
           "arrowwidth": 1
          },
          "autotypenumbers": "strict",
          "coloraxis": {
           "colorbar": {
            "outlinewidth": 0,
            "ticks": ""
           }
          },
          "colorscale": {
           "diverging": [
            [
             0,
             "#8e0152"
            ],
            [
             0.1,
             "#c51b7d"
            ],
            [
             0.2,
             "#de77ae"
            ],
            [
             0.3,
             "#f1b6da"
            ],
            [
             0.4,
             "#fde0ef"
            ],
            [
             0.5,
             "#f7f7f7"
            ],
            [
             0.6,
             "#e6f5d0"
            ],
            [
             0.7,
             "#b8e186"
            ],
            [
             0.8,
             "#7fbc41"
            ],
            [
             0.9,
             "#4d9221"
            ],
            [
             1,
             "#276419"
            ]
           ],
           "sequential": [
            [
             0,
             "#0d0887"
            ],
            [
             0.1111111111111111,
             "#46039f"
            ],
            [
             0.2222222222222222,
             "#7201a8"
            ],
            [
             0.3333333333333333,
             "#9c179e"
            ],
            [
             0.4444444444444444,
             "#bd3786"
            ],
            [
             0.5555555555555556,
             "#d8576b"
            ],
            [
             0.6666666666666666,
             "#ed7953"
            ],
            [
             0.7777777777777778,
             "#fb9f3a"
            ],
            [
             0.8888888888888888,
             "#fdca26"
            ],
            [
             1,
             "#f0f921"
            ]
           ],
           "sequentialminus": [
            [
             0,
             "#0d0887"
            ],
            [
             0.1111111111111111,
             "#46039f"
            ],
            [
             0.2222222222222222,
             "#7201a8"
            ],
            [
             0.3333333333333333,
             "#9c179e"
            ],
            [
             0.4444444444444444,
             "#bd3786"
            ],
            [
             0.5555555555555556,
             "#d8576b"
            ],
            [
             0.6666666666666666,
             "#ed7953"
            ],
            [
             0.7777777777777778,
             "#fb9f3a"
            ],
            [
             0.8888888888888888,
             "#fdca26"
            ],
            [
             1,
             "#f0f921"
            ]
           ]
          },
          "colorway": [
           "#636efa",
           "#EF553B",
           "#00cc96",
           "#ab63fa",
           "#FFA15A",
           "#19d3f3",
           "#FF6692",
           "#B6E880",
           "#FF97FF",
           "#FECB52"
          ],
          "font": {
           "color": "#2a3f5f"
          },
          "geo": {
           "bgcolor": "white",
           "lakecolor": "white",
           "landcolor": "#E5ECF6",
           "showlakes": true,
           "showland": true,
           "subunitcolor": "white"
          },
          "hoverlabel": {
           "align": "left"
          },
          "hovermode": "closest",
          "mapbox": {
           "style": "light"
          },
          "paper_bgcolor": "white",
          "plot_bgcolor": "#E5ECF6",
          "polar": {
           "angularaxis": {
            "gridcolor": "white",
            "linecolor": "white",
            "ticks": ""
           },
           "bgcolor": "#E5ECF6",
           "radialaxis": {
            "gridcolor": "white",
            "linecolor": "white",
            "ticks": ""
           }
          },
          "scene": {
           "xaxis": {
            "backgroundcolor": "#E5ECF6",
            "gridcolor": "white",
            "gridwidth": 2,
            "linecolor": "white",
            "showbackground": true,
            "ticks": "",
            "zerolinecolor": "white"
           },
           "yaxis": {
            "backgroundcolor": "#E5ECF6",
            "gridcolor": "white",
            "gridwidth": 2,
            "linecolor": "white",
            "showbackground": true,
            "ticks": "",
            "zerolinecolor": "white"
           },
           "zaxis": {
            "backgroundcolor": "#E5ECF6",
            "gridcolor": "white",
            "gridwidth": 2,
            "linecolor": "white",
            "showbackground": true,
            "ticks": "",
            "zerolinecolor": "white"
           }
          },
          "shapedefaults": {
           "line": {
            "color": "#2a3f5f"
           }
          },
          "ternary": {
           "aaxis": {
            "gridcolor": "white",
            "linecolor": "white",
            "ticks": ""
           },
           "baxis": {
            "gridcolor": "white",
            "linecolor": "white",
            "ticks": ""
           },
           "bgcolor": "#E5ECF6",
           "caxis": {
            "gridcolor": "white",
            "linecolor": "white",
            "ticks": ""
           }
          },
          "title": {
           "x": 0.05
          },
          "xaxis": {
           "automargin": true,
           "gridcolor": "white",
           "linecolor": "white",
           "ticks": "",
           "title": {
            "standoff": 15
           },
           "zerolinecolor": "white",
           "zerolinewidth": 2
          },
          "yaxis": {
           "automargin": true,
           "gridcolor": "white",
           "linecolor": "white",
           "ticks": "",
           "title": {
            "standoff": 15
           },
           "zerolinecolor": "white",
           "zerolinewidth": 2
          }
         }
        },
        "title": {
         "text": "Valor promedio de contratos ESAP por mes 2020 - 2024"
        },
        "xaxis": {
         "anchor": "y",
         "domain": [
          0,
          1
         ],
         "title": {
          "text": "Mes y Año"
         }
        },
        "yaxis": {
         "anchor": "x",
         "domain": [
          0,
          1
         ],
         "title": {
          "text": "Valor Promedio del Contrato"
         }
        }
       }
      }
     },
     "metadata": {},
     "output_type": "display_data"
    }
   ],
   "source": [
    "# Extraer el mes y el año de la fecha de firma\n",
    "secop['mes_ano_firma'] = secop['fecha_de_firma'].dt.to_period('M')\n",
    "\n",
    "# Agrupar y calcular el valor promedio del contrato por mes y año de firma\n",
    "valor_promedio_por_mes = secop.groupby('mes_ano_firma')['valor_del_contrato'].mean().reset_index()\n",
    "\n",
    "# Convertir 'mes_ano_firma' a datetime para el gráfico\n",
    "valor_promedio_por_mes['mes_ano_firma'] = valor_promedio_por_mes['mes_ano_firma'].dt.to_timestamp()\n",
    "\n",
    "# Crear el gráfico utilizando Plotly\n",
    "fig = px.line(valor_promedio_por_mes, x='mes_ano_firma', y='valor_del_contrato', \n",
    "              title='Valor promedio de contratos ESAP por mes 2020 - 2024',\n",
    "              labels={'valor_del_contrato': 'Valor Promedio del Contrato', 'mes_ano_firma': 'Mes y Año'})\n",
    "\n",
    "# Mostrar el gráfico\n",
    "fig.show()"
   ]
  },
  {
   "cell_type": "markdown",
   "metadata": {},
   "source": [
    "_Valor de contratos ESAP según fecha de firma 2020 - 2024 (año)_"
   ]
  },
  {
   "cell_type": "code",
   "execution_count": 441,
   "metadata": {},
   "outputs": [
    {
     "data": {
      "application/vnd.plotly.v1+json": {
       "config": {
        "plotlyServerURL": "https://plot.ly"
       },
       "data": [
        {
         "hovertemplate": "ano_fecha_de_firma=%{x}<br>valor_del_contrato=%{y}<extra></extra>",
         "legendgroup": "",
         "line": {
          "color": "#636efa",
          "dash": "solid"
         },
         "marker": {
          "symbol": "circle"
         },
         "mode": "lines",
         "name": "",
         "orientation": "v",
         "showlegend": false,
         "type": "scatter",
         "x": [
          2020,
          2021,
          2022,
          2023,
          2024
         ],
         "xaxis": "x",
         "y": [
          104535393339,
          88868679901,
          72685925737,
          126561847463,
          24438671335
         ],
         "yaxis": "y"
        }
       ],
       "layout": {
        "legend": {
         "tracegroupgap": 0
        },
        "template": {
         "data": {
          "bar": [
           {
            "error_x": {
             "color": "#2a3f5f"
            },
            "error_y": {
             "color": "#2a3f5f"
            },
            "marker": {
             "line": {
              "color": "#E5ECF6",
              "width": 0.5
             },
             "pattern": {
              "fillmode": "overlay",
              "size": 10,
              "solidity": 0.2
             }
            },
            "type": "bar"
           }
          ],
          "barpolar": [
           {
            "marker": {
             "line": {
              "color": "#E5ECF6",
              "width": 0.5
             },
             "pattern": {
              "fillmode": "overlay",
              "size": 10,
              "solidity": 0.2
             }
            },
            "type": "barpolar"
           }
          ],
          "carpet": [
           {
            "aaxis": {
             "endlinecolor": "#2a3f5f",
             "gridcolor": "white",
             "linecolor": "white",
             "minorgridcolor": "white",
             "startlinecolor": "#2a3f5f"
            },
            "baxis": {
             "endlinecolor": "#2a3f5f",
             "gridcolor": "white",
             "linecolor": "white",
             "minorgridcolor": "white",
             "startlinecolor": "#2a3f5f"
            },
            "type": "carpet"
           }
          ],
          "choropleth": [
           {
            "colorbar": {
             "outlinewidth": 0,
             "ticks": ""
            },
            "type": "choropleth"
           }
          ],
          "contour": [
           {
            "colorbar": {
             "outlinewidth": 0,
             "ticks": ""
            },
            "colorscale": [
             [
              0,
              "#0d0887"
             ],
             [
              0.1111111111111111,
              "#46039f"
             ],
             [
              0.2222222222222222,
              "#7201a8"
             ],
             [
              0.3333333333333333,
              "#9c179e"
             ],
             [
              0.4444444444444444,
              "#bd3786"
             ],
             [
              0.5555555555555556,
              "#d8576b"
             ],
             [
              0.6666666666666666,
              "#ed7953"
             ],
             [
              0.7777777777777778,
              "#fb9f3a"
             ],
             [
              0.8888888888888888,
              "#fdca26"
             ],
             [
              1,
              "#f0f921"
             ]
            ],
            "type": "contour"
           }
          ],
          "contourcarpet": [
           {
            "colorbar": {
             "outlinewidth": 0,
             "ticks": ""
            },
            "type": "contourcarpet"
           }
          ],
          "heatmap": [
           {
            "colorbar": {
             "outlinewidth": 0,
             "ticks": ""
            },
            "colorscale": [
             [
              0,
              "#0d0887"
             ],
             [
              0.1111111111111111,
              "#46039f"
             ],
             [
              0.2222222222222222,
              "#7201a8"
             ],
             [
              0.3333333333333333,
              "#9c179e"
             ],
             [
              0.4444444444444444,
              "#bd3786"
             ],
             [
              0.5555555555555556,
              "#d8576b"
             ],
             [
              0.6666666666666666,
              "#ed7953"
             ],
             [
              0.7777777777777778,
              "#fb9f3a"
             ],
             [
              0.8888888888888888,
              "#fdca26"
             ],
             [
              1,
              "#f0f921"
             ]
            ],
            "type": "heatmap"
           }
          ],
          "heatmapgl": [
           {
            "colorbar": {
             "outlinewidth": 0,
             "ticks": ""
            },
            "colorscale": [
             [
              0,
              "#0d0887"
             ],
             [
              0.1111111111111111,
              "#46039f"
             ],
             [
              0.2222222222222222,
              "#7201a8"
             ],
             [
              0.3333333333333333,
              "#9c179e"
             ],
             [
              0.4444444444444444,
              "#bd3786"
             ],
             [
              0.5555555555555556,
              "#d8576b"
             ],
             [
              0.6666666666666666,
              "#ed7953"
             ],
             [
              0.7777777777777778,
              "#fb9f3a"
             ],
             [
              0.8888888888888888,
              "#fdca26"
             ],
             [
              1,
              "#f0f921"
             ]
            ],
            "type": "heatmapgl"
           }
          ],
          "histogram": [
           {
            "marker": {
             "pattern": {
              "fillmode": "overlay",
              "size": 10,
              "solidity": 0.2
             }
            },
            "type": "histogram"
           }
          ],
          "histogram2d": [
           {
            "colorbar": {
             "outlinewidth": 0,
             "ticks": ""
            },
            "colorscale": [
             [
              0,
              "#0d0887"
             ],
             [
              0.1111111111111111,
              "#46039f"
             ],
             [
              0.2222222222222222,
              "#7201a8"
             ],
             [
              0.3333333333333333,
              "#9c179e"
             ],
             [
              0.4444444444444444,
              "#bd3786"
             ],
             [
              0.5555555555555556,
              "#d8576b"
             ],
             [
              0.6666666666666666,
              "#ed7953"
             ],
             [
              0.7777777777777778,
              "#fb9f3a"
             ],
             [
              0.8888888888888888,
              "#fdca26"
             ],
             [
              1,
              "#f0f921"
             ]
            ],
            "type": "histogram2d"
           }
          ],
          "histogram2dcontour": [
           {
            "colorbar": {
             "outlinewidth": 0,
             "ticks": ""
            },
            "colorscale": [
             [
              0,
              "#0d0887"
             ],
             [
              0.1111111111111111,
              "#46039f"
             ],
             [
              0.2222222222222222,
              "#7201a8"
             ],
             [
              0.3333333333333333,
              "#9c179e"
             ],
             [
              0.4444444444444444,
              "#bd3786"
             ],
             [
              0.5555555555555556,
              "#d8576b"
             ],
             [
              0.6666666666666666,
              "#ed7953"
             ],
             [
              0.7777777777777778,
              "#fb9f3a"
             ],
             [
              0.8888888888888888,
              "#fdca26"
             ],
             [
              1,
              "#f0f921"
             ]
            ],
            "type": "histogram2dcontour"
           }
          ],
          "mesh3d": [
           {
            "colorbar": {
             "outlinewidth": 0,
             "ticks": ""
            },
            "type": "mesh3d"
           }
          ],
          "parcoords": [
           {
            "line": {
             "colorbar": {
              "outlinewidth": 0,
              "ticks": ""
             }
            },
            "type": "parcoords"
           }
          ],
          "pie": [
           {
            "automargin": true,
            "type": "pie"
           }
          ],
          "scatter": [
           {
            "fillpattern": {
             "fillmode": "overlay",
             "size": 10,
             "solidity": 0.2
            },
            "type": "scatter"
           }
          ],
          "scatter3d": [
           {
            "line": {
             "colorbar": {
              "outlinewidth": 0,
              "ticks": ""
             }
            },
            "marker": {
             "colorbar": {
              "outlinewidth": 0,
              "ticks": ""
             }
            },
            "type": "scatter3d"
           }
          ],
          "scattercarpet": [
           {
            "marker": {
             "colorbar": {
              "outlinewidth": 0,
              "ticks": ""
             }
            },
            "type": "scattercarpet"
           }
          ],
          "scattergeo": [
           {
            "marker": {
             "colorbar": {
              "outlinewidth": 0,
              "ticks": ""
             }
            },
            "type": "scattergeo"
           }
          ],
          "scattergl": [
           {
            "marker": {
             "colorbar": {
              "outlinewidth": 0,
              "ticks": ""
             }
            },
            "type": "scattergl"
           }
          ],
          "scattermapbox": [
           {
            "marker": {
             "colorbar": {
              "outlinewidth": 0,
              "ticks": ""
             }
            },
            "type": "scattermapbox"
           }
          ],
          "scatterpolar": [
           {
            "marker": {
             "colorbar": {
              "outlinewidth": 0,
              "ticks": ""
             }
            },
            "type": "scatterpolar"
           }
          ],
          "scatterpolargl": [
           {
            "marker": {
             "colorbar": {
              "outlinewidth": 0,
              "ticks": ""
             }
            },
            "type": "scatterpolargl"
           }
          ],
          "scatterternary": [
           {
            "marker": {
             "colorbar": {
              "outlinewidth": 0,
              "ticks": ""
             }
            },
            "type": "scatterternary"
           }
          ],
          "surface": [
           {
            "colorbar": {
             "outlinewidth": 0,
             "ticks": ""
            },
            "colorscale": [
             [
              0,
              "#0d0887"
             ],
             [
              0.1111111111111111,
              "#46039f"
             ],
             [
              0.2222222222222222,
              "#7201a8"
             ],
             [
              0.3333333333333333,
              "#9c179e"
             ],
             [
              0.4444444444444444,
              "#bd3786"
             ],
             [
              0.5555555555555556,
              "#d8576b"
             ],
             [
              0.6666666666666666,
              "#ed7953"
             ],
             [
              0.7777777777777778,
              "#fb9f3a"
             ],
             [
              0.8888888888888888,
              "#fdca26"
             ],
             [
              1,
              "#f0f921"
             ]
            ],
            "type": "surface"
           }
          ],
          "table": [
           {
            "cells": {
             "fill": {
              "color": "#EBF0F8"
             },
             "line": {
              "color": "white"
             }
            },
            "header": {
             "fill": {
              "color": "#C8D4E3"
             },
             "line": {
              "color": "white"
             }
            },
            "type": "table"
           }
          ]
         },
         "layout": {
          "annotationdefaults": {
           "arrowcolor": "#2a3f5f",
           "arrowhead": 0,
           "arrowwidth": 1
          },
          "autotypenumbers": "strict",
          "coloraxis": {
           "colorbar": {
            "outlinewidth": 0,
            "ticks": ""
           }
          },
          "colorscale": {
           "diverging": [
            [
             0,
             "#8e0152"
            ],
            [
             0.1,
             "#c51b7d"
            ],
            [
             0.2,
             "#de77ae"
            ],
            [
             0.3,
             "#f1b6da"
            ],
            [
             0.4,
             "#fde0ef"
            ],
            [
             0.5,
             "#f7f7f7"
            ],
            [
             0.6,
             "#e6f5d0"
            ],
            [
             0.7,
             "#b8e186"
            ],
            [
             0.8,
             "#7fbc41"
            ],
            [
             0.9,
             "#4d9221"
            ],
            [
             1,
             "#276419"
            ]
           ],
           "sequential": [
            [
             0,
             "#0d0887"
            ],
            [
             0.1111111111111111,
             "#46039f"
            ],
            [
             0.2222222222222222,
             "#7201a8"
            ],
            [
             0.3333333333333333,
             "#9c179e"
            ],
            [
             0.4444444444444444,
             "#bd3786"
            ],
            [
             0.5555555555555556,
             "#d8576b"
            ],
            [
             0.6666666666666666,
             "#ed7953"
            ],
            [
             0.7777777777777778,
             "#fb9f3a"
            ],
            [
             0.8888888888888888,
             "#fdca26"
            ],
            [
             1,
             "#f0f921"
            ]
           ],
           "sequentialminus": [
            [
             0,
             "#0d0887"
            ],
            [
             0.1111111111111111,
             "#46039f"
            ],
            [
             0.2222222222222222,
             "#7201a8"
            ],
            [
             0.3333333333333333,
             "#9c179e"
            ],
            [
             0.4444444444444444,
             "#bd3786"
            ],
            [
             0.5555555555555556,
             "#d8576b"
            ],
            [
             0.6666666666666666,
             "#ed7953"
            ],
            [
             0.7777777777777778,
             "#fb9f3a"
            ],
            [
             0.8888888888888888,
             "#fdca26"
            ],
            [
             1,
             "#f0f921"
            ]
           ]
          },
          "colorway": [
           "#636efa",
           "#EF553B",
           "#00cc96",
           "#ab63fa",
           "#FFA15A",
           "#19d3f3",
           "#FF6692",
           "#B6E880",
           "#FF97FF",
           "#FECB52"
          ],
          "font": {
           "color": "#2a3f5f"
          },
          "geo": {
           "bgcolor": "white",
           "lakecolor": "white",
           "landcolor": "#E5ECF6",
           "showlakes": true,
           "showland": true,
           "subunitcolor": "white"
          },
          "hoverlabel": {
           "align": "left"
          },
          "hovermode": "closest",
          "mapbox": {
           "style": "light"
          },
          "paper_bgcolor": "white",
          "plot_bgcolor": "#E5ECF6",
          "polar": {
           "angularaxis": {
            "gridcolor": "white",
            "linecolor": "white",
            "ticks": ""
           },
           "bgcolor": "#E5ECF6",
           "radialaxis": {
            "gridcolor": "white",
            "linecolor": "white",
            "ticks": ""
           }
          },
          "scene": {
           "xaxis": {
            "backgroundcolor": "#E5ECF6",
            "gridcolor": "white",
            "gridwidth": 2,
            "linecolor": "white",
            "showbackground": true,
            "ticks": "",
            "zerolinecolor": "white"
           },
           "yaxis": {
            "backgroundcolor": "#E5ECF6",
            "gridcolor": "white",
            "gridwidth": 2,
            "linecolor": "white",
            "showbackground": true,
            "ticks": "",
            "zerolinecolor": "white"
           },
           "zaxis": {
            "backgroundcolor": "#E5ECF6",
            "gridcolor": "white",
            "gridwidth": 2,
            "linecolor": "white",
            "showbackground": true,
            "ticks": "",
            "zerolinecolor": "white"
           }
          },
          "shapedefaults": {
           "line": {
            "color": "#2a3f5f"
           }
          },
          "ternary": {
           "aaxis": {
            "gridcolor": "white",
            "linecolor": "white",
            "ticks": ""
           },
           "baxis": {
            "gridcolor": "white",
            "linecolor": "white",
            "ticks": ""
           },
           "bgcolor": "#E5ECF6",
           "caxis": {
            "gridcolor": "white",
            "linecolor": "white",
            "ticks": ""
           }
          },
          "title": {
           "x": 0.05
          },
          "xaxis": {
           "automargin": true,
           "gridcolor": "white",
           "linecolor": "white",
           "ticks": "",
           "title": {
            "standoff": 15
           },
           "zerolinecolor": "white",
           "zerolinewidth": 2
          },
          "yaxis": {
           "automargin": true,
           "gridcolor": "white",
           "linecolor": "white",
           "ticks": "",
           "title": {
            "standoff": 15
           },
           "zerolinecolor": "white",
           "zerolinewidth": 2
          }
         }
        },
        "title": {
         "text": "Valor total de contratos ESAP según fecha de firma 2020 - 2024"
        },
        "xaxis": {
         "anchor": "y",
         "domain": [
          0,
          1
         ],
         "title": {
          "text": "ano_fecha_de_firma"
         }
        },
        "yaxis": {
         "anchor": "x",
         "domain": [
          0,
          1
         ],
         "title": {
          "text": "valor_del_contrato"
         }
        }
       }
      }
     },
     "metadata": {},
     "output_type": "display_data"
    }
   ],
   "source": [
    "# Agrupar y sumar el valor del contrato por fecha de firma\n",
    "valor_fecha = secop.groupby('ano_fecha_de_firma')['valor_del_contrato'].sum().reset_index()\n",
    "\n",
    "# Crear el gráfico utilizando Plotly\n",
    "fig = px.line(valor_fecha, x='ano_fecha_de_firma', y='valor_del_contrato', title='Valor total de contratos ESAP según fecha de firma 2020 - 2024')\n",
    "\n",
    "# Mostrar el gráfico\n",
    "fig.show()"
   ]
  },
  {
   "cell_type": "code",
   "execution_count": 442,
   "metadata": {},
   "outputs": [
    {
     "data": {
      "application/vnd.plotly.v1+json": {
       "config": {
        "plotlyServerURL": "https://plot.ly"
       },
       "data": [
        {
         "hovertemplate": "Año=%{x}<br>Valor Promedio del Contrato=%{y}<extra></extra>",
         "legendgroup": "",
         "line": {
          "color": "#636efa",
          "dash": "solid"
         },
         "marker": {
          "symbol": "circle"
         },
         "mode": "lines",
         "name": "",
         "orientation": "v",
         "showlegend": false,
         "type": "scatter",
         "x": [
          2020,
          2021,
          2022,
          2023,
          2024
         ],
         "xaxis": "x",
         "y": [
          103500389.44455445,
          75697342.33475298,
          72396340.37549801,
          66541455.0278654,
          81734686.73913044
         ],
         "yaxis": "y"
        }
       ],
       "layout": {
        "legend": {
         "tracegroupgap": 0
        },
        "template": {
         "data": {
          "bar": [
           {
            "error_x": {
             "color": "#2a3f5f"
            },
            "error_y": {
             "color": "#2a3f5f"
            },
            "marker": {
             "line": {
              "color": "#E5ECF6",
              "width": 0.5
             },
             "pattern": {
              "fillmode": "overlay",
              "size": 10,
              "solidity": 0.2
             }
            },
            "type": "bar"
           }
          ],
          "barpolar": [
           {
            "marker": {
             "line": {
              "color": "#E5ECF6",
              "width": 0.5
             },
             "pattern": {
              "fillmode": "overlay",
              "size": 10,
              "solidity": 0.2
             }
            },
            "type": "barpolar"
           }
          ],
          "carpet": [
           {
            "aaxis": {
             "endlinecolor": "#2a3f5f",
             "gridcolor": "white",
             "linecolor": "white",
             "minorgridcolor": "white",
             "startlinecolor": "#2a3f5f"
            },
            "baxis": {
             "endlinecolor": "#2a3f5f",
             "gridcolor": "white",
             "linecolor": "white",
             "minorgridcolor": "white",
             "startlinecolor": "#2a3f5f"
            },
            "type": "carpet"
           }
          ],
          "choropleth": [
           {
            "colorbar": {
             "outlinewidth": 0,
             "ticks": ""
            },
            "type": "choropleth"
           }
          ],
          "contour": [
           {
            "colorbar": {
             "outlinewidth": 0,
             "ticks": ""
            },
            "colorscale": [
             [
              0,
              "#0d0887"
             ],
             [
              0.1111111111111111,
              "#46039f"
             ],
             [
              0.2222222222222222,
              "#7201a8"
             ],
             [
              0.3333333333333333,
              "#9c179e"
             ],
             [
              0.4444444444444444,
              "#bd3786"
             ],
             [
              0.5555555555555556,
              "#d8576b"
             ],
             [
              0.6666666666666666,
              "#ed7953"
             ],
             [
              0.7777777777777778,
              "#fb9f3a"
             ],
             [
              0.8888888888888888,
              "#fdca26"
             ],
             [
              1,
              "#f0f921"
             ]
            ],
            "type": "contour"
           }
          ],
          "contourcarpet": [
           {
            "colorbar": {
             "outlinewidth": 0,
             "ticks": ""
            },
            "type": "contourcarpet"
           }
          ],
          "heatmap": [
           {
            "colorbar": {
             "outlinewidth": 0,
             "ticks": ""
            },
            "colorscale": [
             [
              0,
              "#0d0887"
             ],
             [
              0.1111111111111111,
              "#46039f"
             ],
             [
              0.2222222222222222,
              "#7201a8"
             ],
             [
              0.3333333333333333,
              "#9c179e"
             ],
             [
              0.4444444444444444,
              "#bd3786"
             ],
             [
              0.5555555555555556,
              "#d8576b"
             ],
             [
              0.6666666666666666,
              "#ed7953"
             ],
             [
              0.7777777777777778,
              "#fb9f3a"
             ],
             [
              0.8888888888888888,
              "#fdca26"
             ],
             [
              1,
              "#f0f921"
             ]
            ],
            "type": "heatmap"
           }
          ],
          "heatmapgl": [
           {
            "colorbar": {
             "outlinewidth": 0,
             "ticks": ""
            },
            "colorscale": [
             [
              0,
              "#0d0887"
             ],
             [
              0.1111111111111111,
              "#46039f"
             ],
             [
              0.2222222222222222,
              "#7201a8"
             ],
             [
              0.3333333333333333,
              "#9c179e"
             ],
             [
              0.4444444444444444,
              "#bd3786"
             ],
             [
              0.5555555555555556,
              "#d8576b"
             ],
             [
              0.6666666666666666,
              "#ed7953"
             ],
             [
              0.7777777777777778,
              "#fb9f3a"
             ],
             [
              0.8888888888888888,
              "#fdca26"
             ],
             [
              1,
              "#f0f921"
             ]
            ],
            "type": "heatmapgl"
           }
          ],
          "histogram": [
           {
            "marker": {
             "pattern": {
              "fillmode": "overlay",
              "size": 10,
              "solidity": 0.2
             }
            },
            "type": "histogram"
           }
          ],
          "histogram2d": [
           {
            "colorbar": {
             "outlinewidth": 0,
             "ticks": ""
            },
            "colorscale": [
             [
              0,
              "#0d0887"
             ],
             [
              0.1111111111111111,
              "#46039f"
             ],
             [
              0.2222222222222222,
              "#7201a8"
             ],
             [
              0.3333333333333333,
              "#9c179e"
             ],
             [
              0.4444444444444444,
              "#bd3786"
             ],
             [
              0.5555555555555556,
              "#d8576b"
             ],
             [
              0.6666666666666666,
              "#ed7953"
             ],
             [
              0.7777777777777778,
              "#fb9f3a"
             ],
             [
              0.8888888888888888,
              "#fdca26"
             ],
             [
              1,
              "#f0f921"
             ]
            ],
            "type": "histogram2d"
           }
          ],
          "histogram2dcontour": [
           {
            "colorbar": {
             "outlinewidth": 0,
             "ticks": ""
            },
            "colorscale": [
             [
              0,
              "#0d0887"
             ],
             [
              0.1111111111111111,
              "#46039f"
             ],
             [
              0.2222222222222222,
              "#7201a8"
             ],
             [
              0.3333333333333333,
              "#9c179e"
             ],
             [
              0.4444444444444444,
              "#bd3786"
             ],
             [
              0.5555555555555556,
              "#d8576b"
             ],
             [
              0.6666666666666666,
              "#ed7953"
             ],
             [
              0.7777777777777778,
              "#fb9f3a"
             ],
             [
              0.8888888888888888,
              "#fdca26"
             ],
             [
              1,
              "#f0f921"
             ]
            ],
            "type": "histogram2dcontour"
           }
          ],
          "mesh3d": [
           {
            "colorbar": {
             "outlinewidth": 0,
             "ticks": ""
            },
            "type": "mesh3d"
           }
          ],
          "parcoords": [
           {
            "line": {
             "colorbar": {
              "outlinewidth": 0,
              "ticks": ""
             }
            },
            "type": "parcoords"
           }
          ],
          "pie": [
           {
            "automargin": true,
            "type": "pie"
           }
          ],
          "scatter": [
           {
            "fillpattern": {
             "fillmode": "overlay",
             "size": 10,
             "solidity": 0.2
            },
            "type": "scatter"
           }
          ],
          "scatter3d": [
           {
            "line": {
             "colorbar": {
              "outlinewidth": 0,
              "ticks": ""
             }
            },
            "marker": {
             "colorbar": {
              "outlinewidth": 0,
              "ticks": ""
             }
            },
            "type": "scatter3d"
           }
          ],
          "scattercarpet": [
           {
            "marker": {
             "colorbar": {
              "outlinewidth": 0,
              "ticks": ""
             }
            },
            "type": "scattercarpet"
           }
          ],
          "scattergeo": [
           {
            "marker": {
             "colorbar": {
              "outlinewidth": 0,
              "ticks": ""
             }
            },
            "type": "scattergeo"
           }
          ],
          "scattergl": [
           {
            "marker": {
             "colorbar": {
              "outlinewidth": 0,
              "ticks": ""
             }
            },
            "type": "scattergl"
           }
          ],
          "scattermapbox": [
           {
            "marker": {
             "colorbar": {
              "outlinewidth": 0,
              "ticks": ""
             }
            },
            "type": "scattermapbox"
           }
          ],
          "scatterpolar": [
           {
            "marker": {
             "colorbar": {
              "outlinewidth": 0,
              "ticks": ""
             }
            },
            "type": "scatterpolar"
           }
          ],
          "scatterpolargl": [
           {
            "marker": {
             "colorbar": {
              "outlinewidth": 0,
              "ticks": ""
             }
            },
            "type": "scatterpolargl"
           }
          ],
          "scatterternary": [
           {
            "marker": {
             "colorbar": {
              "outlinewidth": 0,
              "ticks": ""
             }
            },
            "type": "scatterternary"
           }
          ],
          "surface": [
           {
            "colorbar": {
             "outlinewidth": 0,
             "ticks": ""
            },
            "colorscale": [
             [
              0,
              "#0d0887"
             ],
             [
              0.1111111111111111,
              "#46039f"
             ],
             [
              0.2222222222222222,
              "#7201a8"
             ],
             [
              0.3333333333333333,
              "#9c179e"
             ],
             [
              0.4444444444444444,
              "#bd3786"
             ],
             [
              0.5555555555555556,
              "#d8576b"
             ],
             [
              0.6666666666666666,
              "#ed7953"
             ],
             [
              0.7777777777777778,
              "#fb9f3a"
             ],
             [
              0.8888888888888888,
              "#fdca26"
             ],
             [
              1,
              "#f0f921"
             ]
            ],
            "type": "surface"
           }
          ],
          "table": [
           {
            "cells": {
             "fill": {
              "color": "#EBF0F8"
             },
             "line": {
              "color": "white"
             }
            },
            "header": {
             "fill": {
              "color": "#C8D4E3"
             },
             "line": {
              "color": "white"
             }
            },
            "type": "table"
           }
          ]
         },
         "layout": {
          "annotationdefaults": {
           "arrowcolor": "#2a3f5f",
           "arrowhead": 0,
           "arrowwidth": 1
          },
          "autotypenumbers": "strict",
          "coloraxis": {
           "colorbar": {
            "outlinewidth": 0,
            "ticks": ""
           }
          },
          "colorscale": {
           "diverging": [
            [
             0,
             "#8e0152"
            ],
            [
             0.1,
             "#c51b7d"
            ],
            [
             0.2,
             "#de77ae"
            ],
            [
             0.3,
             "#f1b6da"
            ],
            [
             0.4,
             "#fde0ef"
            ],
            [
             0.5,
             "#f7f7f7"
            ],
            [
             0.6,
             "#e6f5d0"
            ],
            [
             0.7,
             "#b8e186"
            ],
            [
             0.8,
             "#7fbc41"
            ],
            [
             0.9,
             "#4d9221"
            ],
            [
             1,
             "#276419"
            ]
           ],
           "sequential": [
            [
             0,
             "#0d0887"
            ],
            [
             0.1111111111111111,
             "#46039f"
            ],
            [
             0.2222222222222222,
             "#7201a8"
            ],
            [
             0.3333333333333333,
             "#9c179e"
            ],
            [
             0.4444444444444444,
             "#bd3786"
            ],
            [
             0.5555555555555556,
             "#d8576b"
            ],
            [
             0.6666666666666666,
             "#ed7953"
            ],
            [
             0.7777777777777778,
             "#fb9f3a"
            ],
            [
             0.8888888888888888,
             "#fdca26"
            ],
            [
             1,
             "#f0f921"
            ]
           ],
           "sequentialminus": [
            [
             0,
             "#0d0887"
            ],
            [
             0.1111111111111111,
             "#46039f"
            ],
            [
             0.2222222222222222,
             "#7201a8"
            ],
            [
             0.3333333333333333,
             "#9c179e"
            ],
            [
             0.4444444444444444,
             "#bd3786"
            ],
            [
             0.5555555555555556,
             "#d8576b"
            ],
            [
             0.6666666666666666,
             "#ed7953"
            ],
            [
             0.7777777777777778,
             "#fb9f3a"
            ],
            [
             0.8888888888888888,
             "#fdca26"
            ],
            [
             1,
             "#f0f921"
            ]
           ]
          },
          "colorway": [
           "#636efa",
           "#EF553B",
           "#00cc96",
           "#ab63fa",
           "#FFA15A",
           "#19d3f3",
           "#FF6692",
           "#B6E880",
           "#FF97FF",
           "#FECB52"
          ],
          "font": {
           "color": "#2a3f5f"
          },
          "geo": {
           "bgcolor": "white",
           "lakecolor": "white",
           "landcolor": "#E5ECF6",
           "showlakes": true,
           "showland": true,
           "subunitcolor": "white"
          },
          "hoverlabel": {
           "align": "left"
          },
          "hovermode": "closest",
          "mapbox": {
           "style": "light"
          },
          "paper_bgcolor": "white",
          "plot_bgcolor": "#E5ECF6",
          "polar": {
           "angularaxis": {
            "gridcolor": "white",
            "linecolor": "white",
            "ticks": ""
           },
           "bgcolor": "#E5ECF6",
           "radialaxis": {
            "gridcolor": "white",
            "linecolor": "white",
            "ticks": ""
           }
          },
          "scene": {
           "xaxis": {
            "backgroundcolor": "#E5ECF6",
            "gridcolor": "white",
            "gridwidth": 2,
            "linecolor": "white",
            "showbackground": true,
            "ticks": "",
            "zerolinecolor": "white"
           },
           "yaxis": {
            "backgroundcolor": "#E5ECF6",
            "gridcolor": "white",
            "gridwidth": 2,
            "linecolor": "white",
            "showbackground": true,
            "ticks": "",
            "zerolinecolor": "white"
           },
           "zaxis": {
            "backgroundcolor": "#E5ECF6",
            "gridcolor": "white",
            "gridwidth": 2,
            "linecolor": "white",
            "showbackground": true,
            "ticks": "",
            "zerolinecolor": "white"
           }
          },
          "shapedefaults": {
           "line": {
            "color": "#2a3f5f"
           }
          },
          "ternary": {
           "aaxis": {
            "gridcolor": "white",
            "linecolor": "white",
            "ticks": ""
           },
           "baxis": {
            "gridcolor": "white",
            "linecolor": "white",
            "ticks": ""
           },
           "bgcolor": "#E5ECF6",
           "caxis": {
            "gridcolor": "white",
            "linecolor": "white",
            "ticks": ""
           }
          },
          "title": {
           "x": 0.05
          },
          "xaxis": {
           "automargin": true,
           "gridcolor": "white",
           "linecolor": "white",
           "ticks": "",
           "title": {
            "standoff": 15
           },
           "zerolinecolor": "white",
           "zerolinewidth": 2
          },
          "yaxis": {
           "automargin": true,
           "gridcolor": "white",
           "linecolor": "white",
           "ticks": "",
           "title": {
            "standoff": 15
           },
           "zerolinecolor": "white",
           "zerolinewidth": 2
          }
         }
        },
        "title": {
         "text": "Valor promedio de contratos ESAP por año 2020 - 2024"
        },
        "xaxis": {
         "anchor": "y",
         "domain": [
          0,
          1
         ],
         "title": {
          "text": "Año"
         }
        },
        "yaxis": {
         "anchor": "x",
         "domain": [
          0,
          1
         ],
         "title": {
          "text": "Valor Promedio del Contrato"
         }
        }
       }
      }
     },
     "metadata": {},
     "output_type": "display_data"
    }
   ],
   "source": [
    "# Extraer el año de la fecha de firma\n",
    "secop['ano_firma'] = secop['fecha_de_firma'].dt.year\n",
    "\n",
    "# Agrupar y calcular el valor promedio del contrato por año de firma\n",
    "valor_promedio_por_ano = secop.groupby('ano_firma')['valor_del_contrato'].mean().reset_index()\n",
    "\n",
    "# Crear el gráfico utilizando Plotly\n",
    "fig = px.line(valor_promedio_por_ano, x='ano_firma', y='valor_del_contrato', \n",
    "              title='Valor promedio de contratos ESAP por año 2020 - 2024',\n",
    "              labels={'valor_del_contrato': 'Valor Promedio del Contrato', 'ano_firma': 'Año'})\n",
    "\n",
    "# Mostrar el gráfico\n",
    "fig.show()"
   ]
  },
  {
   "cell_type": "markdown",
   "metadata": {},
   "source": [
    "## Modelo de análisis"
   ]
  },
  {
   "cell_type": "code",
   "execution_count": 455,
   "metadata": {},
   "outputs": [],
   "source": [
    "# Convertir todas las fechas a datetime\n",
    "secop['fecha_de_firma'] = pd.to_datetime(secop['fecha_de_firma'])\n",
    "secop['fecha_de_inicio_del_contrato'] = pd.to_datetime(secop['fecha_de_inicio_del_contrato'])\n",
    "secop['fecha_de_fin_del_contrato'] = pd.to_datetime(secop['fecha_de_fin_del_contrato'])\n",
    "secop['fecha_de_inicio_de_ejecucion'] = pd.to_datetime(secop['fecha_de_inicio_de_ejecucion'])\n",
    "secop['fecha_de_fin_de_ejecucion'] = pd.to_datetime(secop['fecha_de_fin_de_ejecucion'])\n",
    "secop['fecha_inicio_liquidacion'] = pd.to_datetime(secop['fecha_inicio_liquidacion'])\n",
    "secop['fecha_fin_liquidacion'] = pd.to_datetime(secop['fecha_fin_liquidacion'])\n",
    "\n",
    "# Calcular la diferencia en días\n",
    "secop['dias_hasta_inicio_contrato'] = (secop['fecha_de_inicio_del_contrato'] - secop['fecha_de_firma']).dt.days\n",
    "secop['dias_hasta_fin_contrato'] = (secop['fecha_de_fin_del_contrato'] - secop['fecha_de_firma']).dt.days\n",
    "secop['dias_hasta_inicio_ejecucion'] = (secop['fecha_de_inicio_de_ejecucion'] - secop['fecha_de_firma']).dt.days\n",
    "secop['dias_hasta_fin_ejecucion'] = (secop['fecha_de_fin_de_ejecucion'] - secop['fecha_de_firma']).dt.days\n",
    "secop['dias_hasta_inicio_liquidacion'] = (secop['fecha_inicio_liquidacion'] - secop['fecha_de_firma']).dt.days\n",
    "secop['dias_hasta_fin_liquidacion'] = (secop['fecha_fin_liquidacion'] - secop['fecha_de_firma']).dt.days"
   ]
  },
  {
   "cell_type": "code",
   "execution_count": 456,
   "metadata": {},
   "outputs": [
    {
     "data": {
      "text/plain": [
       "Index(['Unnamed: 0', 'nombre_entidad', 'nit_entidad', 'departamento', 'ciudad',\n",
       "       'localizaci_n', 'orden', 'sector', 'rama', 'entidad_centralizada',\n",
       "       'proceso_de_compra', 'id_contrato', 'referencia_del_contrato',\n",
       "       'estado_contrato', 'codigo_de_categoria_principal',\n",
       "       'descripcion_del_proceso', 'tipo_de_contrato',\n",
       "       'modalidad_de_contratacion', 'justificacion_modalidad_de',\n",
       "       'fecha_de_firma', 'fecha_de_fin_del_contrato', 'condiciones_de_entrega',\n",
       "       'tipodocproveedor', 'documento_proveedor', 'proveedor_adjudicado',\n",
       "       'es_grupo', 'es_pyme', 'habilita_pago_adelantado', 'liquidaci_n',\n",
       "       'obligaci_n_ambiental', 'obligaciones_postconsumo', 'reversion',\n",
       "       'origen_de_los_recursos', 'destino_gasto', 'valor_del_contrato',\n",
       "       'valor_de_pago_adelantado', 'valor_facturado',\n",
       "       'valor_pendiente_de_pago', 'valor_pagado', 'valor_amortizado',\n",
       "       'valor_pendiente_de', 'valor_pendiente_de_ejecucion', 'estado_bpin',\n",
       "       'c_digo_bpin', 'anno_bpin', 'saldo_cdp', 'saldo_vigencia',\n",
       "       'espostconflicto', 'dias_adicionados', 'puntos_del_acuerdo',\n",
       "       'pilares_del_acuerdo', 'urlproceso', 'nombre_representante_legal',\n",
       "       'nacionalidad_representante_legal', 'domicilio_representante_legal',\n",
       "       'tipo_de_identificaci_n_representante_legal',\n",
       "       'identificaci_n_representante_legal', 'g_nero_representante_legal',\n",
       "       'presupuesto_general_de_la_nacion_pgn',\n",
       "       'sistema_general_de_participaciones', 'sistema_general_de_regal_as',\n",
       "       'recursos_propios_alcald_as_gobernaciones_y_resguardos_ind_genas_',\n",
       "       'recursos_de_credito', 'recursos_propios', 'ultima_actualizacion',\n",
       "       'codigo_entidad', 'codigo_proveedor', 'objeto_del_contrato',\n",
       "       'fecha_de_inicio_del_contrato', 'fecha_de_inicio_de_ejecucion',\n",
       "       'fecha_de_fin_de_ejecucion', 'fecha_inicio_liquidacion',\n",
       "       'fecha_fin_liquidacion', 'ano_fecha_de_firma',\n",
       "       'ano_fecha_de_inicio_del_contrato', 'ano_fecha_de_fin_del_contrato',\n",
       "       'ano_fecha_de_inicio_de_ejecucion', 'ano_fecha_de_fin_de_ejecucion',\n",
       "       'ano_fecha_inicio_liquidacion', 'ano_fecha_fin_liquidacion',\n",
       "       'tiempo_entre_firma_fin_dia', 'tiempo_entre_firma_fin_meses',\n",
       "       'tiempo_entre_firma_fin', 'mes_ano_firma', 'ano_firma',\n",
       "       'duracion_hasta_inicio', 'duracion_hasta_inicio_meses',\n",
       "       'dias_hasta_inicio_contrato', 'dias_hasta_fin_contrato',\n",
       "       'dias_hasta_inicio_ejecucion', 'dias_hasta_fin_ejecucion',\n",
       "       'dias_hasta_inicio_liquidacion', 'dias_hasta_fin_liquidacion'],\n",
       "      dtype='object')"
      ]
     },
     "execution_count": 456,
     "metadata": {},
     "output_type": "execute_result"
    }
   ],
   "source": [
    "secop.columns"
   ]
  },
  {
   "cell_type": "code",
   "execution_count": 457,
   "metadata": {},
   "outputs": [
    {
     "name": "stdout",
     "output_type": "stream",
     "text": [
      "                            OLS Regression Results                            \n",
      "==============================================================================\n",
      "Dep. Variable:     valor_del_contrato   R-squared:                       0.000\n",
      "Model:                            OLS   Adj. R-squared:                 -0.000\n",
      "Method:                 Least Squares   F-statistic:                    0.2650\n",
      "Date:                Sat, 27 Jan 2024   Prob (F-statistic):              0.607\n",
      "Time:                        04:03:54   Log-Likelihood:            -1.1491e+05\n",
      "No. Observations:                5325   AIC:                         2.298e+05\n",
      "Df Residuals:                    5323   BIC:                         2.298e+05\n",
      "Df Model:                           1                                         \n",
      "Covariance Type:            nonrobust                                         \n",
      "==============================================================================================\n",
      "                                 coef    std err          t      P>|t|      [0.025      0.975]\n",
      "----------------------------------------------------------------------------------------------\n",
      "Intercept                   7.445e+07   8.26e+06      9.015      0.000    5.83e+07    9.06e+07\n",
      "dias_hasta_inicio_contrato  5.588e+05   1.09e+06      0.515      0.607   -1.57e+06    2.69e+06\n",
      "==============================================================================\n",
      "Omnibus:                    13096.656   Durbin-Watson:                   1.961\n",
      "Prob(Omnibus):                  0.000   Jarque-Bera (JB):        170668605.455\n",
      "Skew:                          26.014   Prob(JB):                         0.00\n",
      "Kurtosis:                     878.502   Cond. No.                         8.06\n",
      "==============================================================================\n",
      "\n",
      "Notes:\n",
      "[1] Standard Errors assume that the covariance matrix of the errors is correctly specified.\n"
     ]
    }
   ],
   "source": [
    "import statsmodels.api as sm\n",
    "import statsmodels.formula.api as smf\n",
    "\n",
    "# Crear el modelo de efectos fijos\n",
    "modelo_efectos_fijos = smf.ols('valor_del_contrato ~ dias_hasta_inicio_contrato + C(nit_entidad)', data=secop).fit()\n",
    "\n",
    "# Mostrar los resultados del modelo\n",
    "print(modelo_efectos_fijos.summary())"
   ]
  },
  {
   "cell_type": "code",
   "execution_count": 461,
   "metadata": {},
   "outputs": [
    {
     "name": "stdout",
     "output_type": "stream",
     "text": [
      "                            OLS Regression Results                            \n",
      "==============================================================================\n",
      "Dep. Variable:     valor_del_contrato   R-squared:                       0.049\n",
      "Model:                            OLS   Adj. R-squared:                  0.039\n",
      "Method:                 Least Squares   F-statistic:                     5.086\n",
      "Date:                Sat, 27 Jan 2024   Prob (F-statistic):           0.000525\n",
      "Time:                        04:08:53   Log-Likelihood:                -9054.5\n",
      "No. Observations:                 402   AIC:                         1.812e+04\n",
      "Df Residuals:                     397   BIC:                         1.814e+04\n",
      "Df Model:                           4                                         \n",
      "Covariance Type:            nonrobust                                         \n",
      "===============================================================================================\n",
      "                                  coef    std err          t      P>|t|      [0.025      0.975]\n",
      "-----------------------------------------------------------------------------------------------\n",
      "Intercept                   -9.306e+08   2.58e+08     -3.609      0.000   -1.44e+09   -4.24e+08\n",
      "dias_hasta_inicio_contrato  -1.112e+06   4.22e+06     -0.263      0.792   -9.41e+06    7.18e+06\n",
      "dias_hasta_fin_contrato      5.284e+05   1.22e+06      0.433      0.666   -1.87e+06    2.93e+06\n",
      "dias_hasta_inicio_ejecucion -1.255e+06    4.1e+06     -0.306      0.760   -9.32e+06    6.81e+06\n",
      "dias_hasta_fin_ejecucion      3.03e+06   1.37e+06      2.210      0.028    3.35e+05    5.73e+06\n",
      "==============================================================================\n",
      "Omnibus:                      814.099   Durbin-Watson:                   2.036\n",
      "Prob(Omnibus):                  0.000   Jarque-Bera (JB):           786144.816\n",
      "Skew:                          13.950   Prob(JB):                         0.00\n",
      "Kurtosis:                     217.839   Cond. No.                     1.63e+03\n",
      "==============================================================================\n",
      "\n",
      "Notes:\n",
      "[1] Standard Errors assume that the covariance matrix of the errors is correctly specified.\n",
      "[2] The condition number is large, 1.63e+03. This might indicate that there are\n",
      "strong multicollinearity or other numerical problems.\n"
     ]
    }
   ],
   "source": [
    "# Convierte fechas a datetime y calcula la duración en meses\n",
    "secop['fecha_de_inicio_del_contrato'] = pd.to_datetime(secop['fecha_de_inicio_del_contrato'])\n",
    "duracion = (secop['fecha_de_inicio_del_contrato'] - secop['fecha_de_firma']) / pd.Timedelta(days=30)\n",
    "\n",
    "# Reemplazar valores NaN por un valor numérico, por ejemplo, 0\n",
    "secop['duracion_hasta_inicio_meses'] = duracion.fillna(0).astype(int)\n",
    "\n",
    "# Opcionalmente, puedes eliminar filas donde la duración es NaN\n",
    "secop = secop[~duracion.isna()]\n",
    "\n",
    "# Crear el modelo de efectos fijos\n",
    "modelo_efectos_fijos = smf.ols('valor_del_contrato ~ dias_hasta_inicio_contrato + dias_hasta_fin_contrato + dias_hasta_inicio_ejecucion + dias_hasta_fin_ejecucion + C(nit_entidad)', data=secop).fit()\n",
    "\n",
    "# Mostrar los resultados del modelo\n",
    "print(modelo_efectos_fijos.summary())"
   ]
  }
 ],
 "metadata": {
  "kernelspec": {
   "display_name": "Python 3",
   "language": "python",
   "name": "python3"
  },
  "language_info": {
   "codemirror_mode": {
    "name": "ipython",
    "version": 3
   },
   "file_extension": ".py",
   "mimetype": "text/x-python",
   "name": "python",
   "nbconvert_exporter": "python",
   "pygments_lexer": "ipython3",
   "version": "3.11.5"
  }
 },
 "nbformat": 4,
 "nbformat_minor": 2
}

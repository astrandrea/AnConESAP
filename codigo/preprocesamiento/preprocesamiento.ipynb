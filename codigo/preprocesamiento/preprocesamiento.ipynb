{
 "cells": [
  {
   "cell_type": "markdown",
   "metadata": {},
   "source": [
    "# **Análisis contratación Escuela Superior de Administración Pública 2020-2024**"
   ]
  },
  {
   "cell_type": "markdown",
   "metadata": {},
   "source": []
  },
  {
   "cell_type": "markdown",
   "metadata": {},
   "source": [
    "## Introducción"
   ]
  },
  {
   "cell_type": "markdown",
   "metadata": {},
   "source": [
    "En este documento se presenta la aplicación de diferentes metodologías estudiadas en el curso de Programación II de la Maestría en Inteligencia de Negocios de la Universidad de Externado de Colombia. Lo anterior, se da en un ambiente de análisis y comprensión del fenómeno de la contratación pública a partir de la exploración de  diferentes escenarios aplicados a la realidad de las Entidades Públicas de Colombia. \n",
    "\n",
    "En este sentido, se exploran y analizan los resultados del modelo de efectos fijos del panel de datos de la contratación de la Escuela Superior de Administración Pública como individuo de análisis del 2020 a 2024 según los datos abiertos publicados por la Agencia Nacional de Contratación Pública - Colombia Compra Efienciete sobre el data set [SECOP II - Contratos Electrónicos](https://www.datos.gov.co/Gastos-Gubernamentales/SECOP-II-Contratos-Electr-nicos/jbjy-vk9h/about_data).\n",
    "\n",
    " De esta forma, se exploran ambientes y técnicas propicios en el contexto del aprendizaje sobre programación y en la aplicación de métodos estadísticos para la profundización y reconocimiento del fenómeno de estudio a la luz del procesamiento, depuración y análisis de la información, todos ellos necesarios en el actual contexto en donde es indispensable el uso de herramientas para la gestión de los datos y de la información en las organizaciones para el análisis y la toma de decisiones sobre los fenónemos que les afectan."
   ]
  },
  {
   "cell_type": "markdown",
   "metadata": {},
   "source": [
    "## Objetivo general"
   ]
  },
  {
   "cell_type": "markdown",
   "metadata": {},
   "source": [
    "Analizar el efecto que tiene el tiempo de ejecución del proceso de contratación sobre el valor total de los contratos en la Escuela Superior de Administración Pública."
   ]
  },
  {
   "cell_type": "markdown",
   "metadata": {},
   "source": [
    "## Objetivos específicos"
   ]
  },
  {
   "cell_type": "markdown",
   "metadata": {},
   "source": [
    "*$1.$* Explorar métodos de limpieza, depuración y automatización de la bases datos de contratos de la Escuela Superior de Administración Pública a partir del uso y aprovechamiento de los datos e información de del data set [SECOP II - Contratos Electrónicos](https://www.datos.gov.co/Gastos-Gubernamentales/SECOP-II-Contratos-Electr-nicos/jbjy-vk9h/about_data)\n"
   ]
  },
  {
   "cell_type": "markdown",
   "metadata": {},
   "source": [
    "*$2.$* Aplicar técnicas para medir el efecto del tiempo de ejecución de la contratación pública sobre el valor de los contratos celebrados por la Escuela Superior de Administración Pública durante el período 2020-2024"
   ]
  },
  {
   "cell_type": "markdown",
   "metadata": {},
   "source": [
    "*$3.$* Analizar el fenómeno de la contratación pública con Colombia con el propósito de brindar recomendaciones sobre el buen manejo de los recursos públicos a los sujetos responsables de su ejecución"
   ]
  },
  {
   "cell_type": "markdown",
   "metadata": {},
   "source": [
    "## Antecedentes"
   ]
  },
  {
   "cell_type": "markdown",
   "metadata": {},
   "source": [
    "A partir de la adopción de los principios de la Función Administrativa (Art. 209) de la Constitución Política de 1991, el Sector Público Colombiano ha desarrollado diferentes acciones para sinterizar un Sistema de Gestión que responda a las necesidades de articulación de los elementos que intervienen al momento de dirigir la gestión pública  hacia “el mejor desempeño institucional y a la consecución de resultados para la satisfacción de las necesidades y el goce efectivo de los derechos de los ciudadanos, en el marco de la legalidad y la integridad” (DAFP, 2019, p. 19).\n",
    "<!--  -->\n",
    "El Sistema de Gestión vigente (Art. 133 - Ley 1753 de 2015) integra el Sistema de Desarrollo Administrativo (Ley 489 de 1998), el Sistema de Gestión de la Calidad (Ley 872 de 2003) y se articula con el Sistema de Control Interno (Ley 87 de 1993 y del Art. 27 al 19 de la Ley 489); que finalmente constituyen el MIPG como el mecanismo que facilita la integración y articulación de los Sistemas de Planeación y Gestión que hasta el momento existían en la entidades públicas colombianas (Decreto 1499 de 2017), integró en 2021 a partir del la Política de Gestión y desempeño **Compras y Contatación Pública** con el fin de que las entidades estatales gestionen adecuadamente sus compras y contrataciones públicas a través de herramientas tecnológicas, lineamientos normativos, documentos estándar, técnicas de abastecimiento estratégico e instrumentos de agregación de demanda. \n",
    "\n",
    "De esta forma, con esta política la Agencia Nacional de Contratación Pública - Colombia Compra Efienciente, proyecta el suministro de una herramienta como lo es el SECOP II para que las entidades estatales  se alinien con el propósito de generar buenas mejores prácticas en el abastecimiento y contratación y con ello fortalecer la satisfacción de las necesidades públicas (eficacia), con menores recursos (eficiencia), altos estándares de calidad, pluralidad de oferentes y garantía de transparencia y rendición de cuentas.\n",
    "\n",
    "Sin embargo, aun cuando la integración de lineamientos en materia de contratación pública sea un propósito de la administración pública conducente al buen manejo del prespuesto y a la planeación de las finanzas públicas, esto resulta en un reto su implementación y aprovechamiento para la toma de decisones en el ámbito de la contratación pública. Los procedimientos que rigen la contratación deben verse reflejados en la planeación de la contratación y se deben implementar en contextos de alta incertidumbre que las organizaciones constantemente reflejan.\n",
    "\n",
    "En este sentido, para evidenciar lo anteriormente expuesto, se trata de analizar el efecto que tiene el tiempo de ejecución de los procesos de contratación sobre el valor de la contratación de la Escuela Superior Pública, vista en este análisis como un individuo sobre el el cual es posible su estudio a la luz de los objetivos planteados en este proyecto y según la información disponible en el data set datos abiertos publicados por la Agencia Nacional de Contratación Pública - Colombia Compra Efienciete sobre el data set [SECOP II - Contratos Electrónicos] (https://www.datos.gov.co/Gastos-Gubernamentales/)\n"
   ]
  },
  {
   "cell_type": "markdown",
   "metadata": {},
   "source": [
    "## Metodología"
   ]
  },
  {
   "cell_type": "markdown",
   "metadata": {},
   "source": [
    "### _Libreriras_"
   ]
  },
  {
   "cell_type": "code",
   "execution_count": 1,
   "metadata": {},
   "outputs": [
    {
     "name": "stdout",
     "output_type": "stream",
     "text": [
      "Requirement already satisfied: sodapy in c:\\users\\astrandrea\\miniconda3\\envs\\mine\\lib\\site-packages (2.2.0)\n",
      "Requirement already satisfied: requests>=2.28.1 in c:\\users\\astrandrea\\miniconda3\\envs\\mine\\lib\\site-packages (from sodapy) (2.31.0)\n",
      "Requirement already satisfied: charset-normalizer<4,>=2 in c:\\users\\astrandrea\\miniconda3\\envs\\mine\\lib\\site-packages (from requests>=2.28.1->sodapy) (3.3.2)\n",
      "Requirement already satisfied: idna<4,>=2.5 in c:\\users\\astrandrea\\miniconda3\\envs\\mine\\lib\\site-packages (from requests>=2.28.1->sodapy) (3.6)\n",
      "Requirement already satisfied: urllib3<3,>=1.21.1 in c:\\users\\astrandrea\\miniconda3\\envs\\mine\\lib\\site-packages (from requests>=2.28.1->sodapy) (2.1.0)\n",
      "Requirement already satisfied: certifi>=2017.4.17 in c:\\users\\astrandrea\\miniconda3\\envs\\mine\\lib\\site-packages (from requests>=2.28.1->sodapy) (2023.11.17)\n",
      "Note: you may need to restart the kernel to use updated packages.\n",
      "Requirement already satisfied: seaborn in c:\\users\\astrandrea\\miniconda3\\envs\\mine\\lib\\site-packages (0.13.0)\n",
      "Requirement already satisfied: numpy!=1.24.0,>=1.20 in c:\\users\\astrandrea\\miniconda3\\envs\\mine\\lib\\site-packages (from seaborn) (1.26.1)\n",
      "Requirement already satisfied: pandas>=1.2 in c:\\users\\astrandrea\\miniconda3\\envs\\mine\\lib\\site-packages (from seaborn) (2.1.2)\n",
      "Requirement already satisfied: matplotlib!=3.6.1,>=3.3 in c:\\users\\astrandrea\\miniconda3\\envs\\mine\\lib\\site-packages (from seaborn) (3.8.0)\n",
      "Requirement already satisfied: contourpy>=1.0.1 in c:\\users\\astrandrea\\miniconda3\\envs\\mine\\lib\\site-packages (from matplotlib!=3.6.1,>=3.3->seaborn) (1.1.1)\n",
      "Requirement already satisfied: cycler>=0.10 in c:\\users\\astrandrea\\miniconda3\\envs\\mine\\lib\\site-packages (from matplotlib!=3.6.1,>=3.3->seaborn) (0.12.1)\n",
      "Requirement already satisfied: fonttools>=4.22.0 in c:\\users\\astrandrea\\miniconda3\\envs\\mine\\lib\\site-packages (from matplotlib!=3.6.1,>=3.3->seaborn) (4.43.1)\n",
      "Requirement already satisfied: kiwisolver>=1.0.1 in c:\\users\\astrandrea\\miniconda3\\envs\\mine\\lib\\site-packages (from matplotlib!=3.6.1,>=3.3->seaborn) (1.4.5)\n",
      "Requirement already satisfied: packaging>=20.0 in c:\\users\\astrandrea\\miniconda3\\envs\\mine\\lib\\site-packages (from matplotlib!=3.6.1,>=3.3->seaborn) (23.2)\n",
      "Requirement already satisfied: pillow>=6.2.0 in c:\\users\\astrandrea\\miniconda3\\envs\\mine\\lib\\site-packages (from matplotlib!=3.6.1,>=3.3->seaborn) (10.1.0)\n",
      "Requirement already satisfied: pyparsing>=2.3.1 in c:\\users\\astrandrea\\miniconda3\\envs\\mine\\lib\\site-packages (from matplotlib!=3.6.1,>=3.3->seaborn) (3.1.1)\n",
      "Requirement already satisfied: python-dateutil>=2.7 in c:\\users\\astrandrea\\miniconda3\\envs\\mine\\lib\\site-packages (from matplotlib!=3.6.1,>=3.3->seaborn) (2.8.2)\n",
      "Requirement already satisfied: pytz>=2020.1 in c:\\users\\astrandrea\\miniconda3\\envs\\mine\\lib\\site-packages (from pandas>=1.2->seaborn) (2023.3.post1)\n",
      "Requirement already satisfied: tzdata>=2022.1 in c:\\users\\astrandrea\\miniconda3\\envs\\mine\\lib\\site-packages (from pandas>=1.2->seaborn) (2023.3)\n",
      "Requirement already satisfied: six>=1.5 in c:\\users\\astrandrea\\miniconda3\\envs\\mine\\lib\\site-packages (from python-dateutil>=2.7->matplotlib!=3.6.1,>=3.3->seaborn) (1.16.0)\n",
      "Note: you may need to restart the kernel to use updated packages.\n",
      "Requirement already satisfied: pandas in c:\\users\\astrandrea\\miniconda3\\envs\\mine\\lib\\site-packages (2.1.2)Note: you may need to restart the kernel to use updated packages.\n",
      "\n",
      "Requirement already satisfied: numpy<2,>=1.23.2 in c:\\users\\astrandrea\\miniconda3\\envs\\mine\\lib\\site-packages (from pandas) (1.26.1)\n",
      "Requirement already satisfied: python-dateutil>=2.8.2 in c:\\users\\astrandrea\\miniconda3\\envs\\mine\\lib\\site-packages (from pandas) (2.8.2)\n",
      "Requirement already satisfied: pytz>=2020.1 in c:\\users\\astrandrea\\miniconda3\\envs\\mine\\lib\\site-packages (from pandas) (2023.3.post1)\n",
      "Requirement already satisfied: tzdata>=2022.1 in c:\\users\\astrandrea\\miniconda3\\envs\\mine\\lib\\site-packages (from pandas) (2023.3)\n",
      "Requirement already satisfied: six>=1.5 in c:\\users\\astrandrea\\miniconda3\\envs\\mine\\lib\\site-packages (from python-dateutil>=2.8.2->pandas) (1.16.0)\n",
      "Requirement already satisfied: plotly in c:\\users\\astrandrea\\miniconda3\\envs\\mine\\lib\\site-packages (5.18.0)\n",
      "Requirement already satisfied: tenacity>=6.2.0 in c:\\users\\astrandrea\\miniconda3\\envs\\mine\\lib\\site-packages (from plotly) (8.2.3)\n",
      "Requirement already satisfied: packaging in c:\\users\\astrandrea\\miniconda3\\envs\\mine\\lib\\site-packages (from plotly) (23.2)\n",
      "Note: you may need to restart the kernel to use updated packages.\n",
      "Requirement already satisfied: linearmodels in c:\\users\\astrandrea\\miniconda3\\envs\\mine\\lib\\site-packages (5.4)\n",
      "Requirement already satisfied: numpy>=1.22.0 in c:\\users\\astrandrea\\miniconda3\\envs\\mine\\lib\\site-packages (from linearmodels) (1.26.1)\n",
      "Requirement already satisfied: pandas>=1.3.0 in c:\\users\\astrandrea\\miniconda3\\envs\\mine\\lib\\site-packages (from linearmodels) (2.1.2)\n",
      "Requirement already satisfied: scipy>=1.5.0 in c:\\users\\astrandrea\\miniconda3\\envs\\mine\\lib\\site-packages (from linearmodels) (1.12.0)\n",
      "Requirement already satisfied: statsmodels>=0.12.0 in c:\\users\\astrandrea\\miniconda3\\envs\\mine\\lib\\site-packages (from linearmodels) (0.14.1)\n",
      "Requirement already satisfied: mypy-extensions>=0.4 in c:\\users\\astrandrea\\miniconda3\\envs\\mine\\lib\\site-packages (from linearmodels) (1.0.0)\n",
      "Requirement already satisfied: Cython>=0.29.37 in c:\\users\\astrandrea\\miniconda3\\envs\\mine\\lib\\site-packages (from linearmodels) (3.0.8)\n",
      "Requirement already satisfied: pyhdfe>=0.1 in c:\\users\\astrandrea\\miniconda3\\envs\\mine\\lib\\site-packages (from linearmodels) (0.2.0)\n",
      "Requirement already satisfied: formulaic>=0.6.5 in c:\\users\\astrandrea\\miniconda3\\envs\\mine\\lib\\site-packages (from linearmodels) (1.0.1)\n",
      "Requirement already satisfied: setuptools-scm<9.0.0,>=8.0.0 in c:\\users\\astrandrea\\miniconda3\\envs\\mine\\lib\\site-packages (from setuptools-scm[toml]<9.0.0,>=8.0.0->linearmodels) (8.0.4)\n",
      "Requirement already satisfied: interface-meta>=1.2.0 in c:\\users\\astrandrea\\miniconda3\\envs\\mine\\lib\\site-packages (from formulaic>=0.6.5->linearmodels) (1.3.0)\n",
      "Requirement already satisfied: typing-extensions>=4.2.0 in c:\\users\\astrandrea\\miniconda3\\envs\\mine\\lib\\site-packages (from formulaic>=0.6.5->linearmodels) (4.9.0)\n",
      "Requirement already satisfied: wrapt>=1.0 in c:\\users\\astrandrea\\miniconda3\\envs\\mine\\lib\\site-packages (from formulaic>=0.6.5->linearmodels) (1.16.0)\n",
      "Requirement already satisfied: python-dateutil>=2.8.2 in c:\\users\\astrandrea\\miniconda3\\envs\\mine\\lib\\site-packages (from pandas>=1.3.0->linearmodels) (2.8.2)\n",
      "Requirement already satisfied: pytz>=2020.1 in c:\\users\\astrandrea\\miniconda3\\envs\\mine\\lib\\site-packages (from pandas>=1.3.0->linearmodels) (2023.3.post1)\n",
      "Requirement already satisfied: tzdata>=2022.1 in c:\\users\\astrandrea\\miniconda3\\envs\\mine\\lib\\site-packages (from pandas>=1.3.0->linearmodels) (2023.3)\n",
      "Requirement already satisfied: packaging>=20 in c:\\users\\astrandrea\\miniconda3\\envs\\mine\\lib\\site-packages (from setuptools-scm<9.0.0,>=8.0.0->setuptools-scm[toml]<9.0.0,>=8.0.0->linearmodels) (23.2)\n",
      "Requirement already satisfied: setuptools in c:\\users\\astrandrea\\miniconda3\\envs\\mine\\lib\\site-packages (from setuptools-scm<9.0.0,>=8.0.0->setuptools-scm[toml]<9.0.0,>=8.0.0->linearmodels) (68.0.0)\n",
      "Requirement already satisfied: patsy>=0.5.4 in c:\\users\\astrandrea\\miniconda3\\envs\\mine\\lib\\site-packages (from statsmodels>=0.12.0->linearmodels) (0.5.6)\n",
      "Requirement already satisfied: six in c:\\users\\astrandrea\\miniconda3\\envs\\mine\\lib\\site-packages (from patsy>=0.5.4->statsmodels>=0.12.0->linearmodels) (1.16.0)\n",
      "Note: you may need to restart the kernel to use updated packages.\n",
      "Requirement already satisfied: scikit-learn in c:\\users\\astrandrea\\miniconda3\\envs\\mine\\lib\\site-packages (1.4.0)\n",
      "Requirement already satisfied: numpy<2.0,>=1.19.5 in c:\\users\\astrandrea\\miniconda3\\envs\\mine\\lib\\site-packages (from scikit-learn) (1.26.1)\n",
      "Requirement already satisfied: scipy>=1.6.0 in c:\\users\\astrandrea\\miniconda3\\envs\\mine\\lib\\site-packages (from scikit-learn) (1.12.0)\n",
      "Requirement already satisfied: joblib>=1.2.0 in c:\\users\\astrandrea\\miniconda3\\envs\\mine\\lib\\site-packages (from scikit-learn) (1.3.2)\n",
      "Requirement already satisfied: threadpoolctl>=2.0.0 in c:\\users\\astrandrea\\miniconda3\\envs\\mine\\lib\\site-packages (from scikit-learn) (3.2.0)\n",
      "Note: you may need to restart the kernel to use updated packages.\n"
     ]
    }
   ],
   "source": [
    "%pip install sodapy\n",
    "%pip install seaborn\n",
    "%pip install pandas\n",
    "%pip install plotly\n",
    "%pip install linearmodels\n",
    "%pip install scikit-learn"
   ]
  },
  {
   "cell_type": "code",
   "execution_count": 23,
   "metadata": {},
   "outputs": [],
   "source": [
    "#Pandas y Nunmpy\n",
    "import pandas as pd\n",
    "import numpy as np\n",
    "#Transformación de fecha\n",
    "from datetime import datetime\n",
    "#Gráficas\n",
    "import seaborn as sns\n",
    "import matplotlib as mpl\n",
    "import matplotlib.pyplot as plt\n",
    "from datetime import datetime\n",
    "import plotly.express as px\n",
    "import plotly.graph_objects as go\n",
    "#Se importa la clase PanelOLS, que se utiliza para realizar regresiones lineales en modelos de panel\n",
    "# o conjuntos de series temporales cruzadas y estimar relaciones lineales.\n",
    "from linearmodels.panel import PanelOLS\n",
    "import pandas as pd\n",
    "#Se importa la biblioteca \"statsmodels\" y la renombra como \"sm\" \n",
    "#Statsmodels es una biblioteca que proporciona herramientas y modelos estadísticos para el análisis \n",
    "#de datos en Python. Se utiliza comúnmente para realizar análisis de regresión, \n",
    "#series de tiempo y otras técnicas estadísticas.\n",
    "import statsmodels.api as sm"
   ]
  },
  {
   "cell_type": "markdown",
   "metadata": {},
   "source": [
    "### _Exploración de la base de datos_"
   ]
  },
  {
   "cell_type": "markdown",
   "metadata": {},
   "source": [
    "#### _Cargar base de datos_"
   ]
  },
  {
   "cell_type": "markdown",
   "metadata": {},
   "source": [
    "Se utiliza la base de datos contratos_secop_esap del data set [SECOP II - Contratos Electrónicos] (https://www.datos.gov.co/Gastos-Gubernamentales/)\n"
   ]
  },
  {
   "cell_type": "code",
   "execution_count": 24,
   "metadata": {},
   "outputs": [],
   "source": [
    "ar = r'C:\\Users\\Astrandrea\\Documents\\AnaConESAP\\datos\\raw\\contratos_secop_esap.csv'"
   ]
  },
  {
   "cell_type": "code",
   "execution_count": 25,
   "metadata": {},
   "outputs": [
    {
     "data": {
      "text/html": [
       "<div>\n",
       "<style scoped>\n",
       "    .dataframe tbody tr th:only-of-type {\n",
       "        vertical-align: middle;\n",
       "    }\n",
       "\n",
       "    .dataframe tbody tr th {\n",
       "        vertical-align: top;\n",
       "    }\n",
       "\n",
       "    .dataframe thead th {\n",
       "        text-align: right;\n",
       "    }\n",
       "</style>\n",
       "<table border=\"1\" class=\"dataframe\">\n",
       "  <thead>\n",
       "    <tr style=\"text-align: right;\">\n",
       "      <th></th>\n",
       "      <th>Unnamed: 0</th>\n",
       "      <th>nombre_entidad</th>\n",
       "      <th>nit_entidad</th>\n",
       "      <th>departamento</th>\n",
       "      <th>ciudad</th>\n",
       "      <th>localizaci_n</th>\n",
       "      <th>orden</th>\n",
       "      <th>sector</th>\n",
       "      <th>rama</th>\n",
       "      <th>entidad_centralizada</th>\n",
       "      <th>proceso_de_compra</th>\n",
       "      <th>id_contrato</th>\n",
       "      <th>referencia_del_contrato</th>\n",
       "      <th>estado_contrato</th>\n",
       "      <th>codigo_de_categoria_principal</th>\n",
       "      <th>descripcion_del_proceso</th>\n",
       "      <th>tipo_de_contrato</th>\n",
       "      <th>modalidad_de_contratacion</th>\n",
       "      <th>justificacion_modalidad_de</th>\n",
       "      <th>fecha_de_firma</th>\n",
       "      <th>fecha_de_inicio_del_contrato</th>\n",
       "      <th>fecha_de_fin_del_contrato</th>\n",
       "      <th>condiciones_de_entrega</th>\n",
       "      <th>tipodocproveedor</th>\n",
       "      <th>documento_proveedor</th>\n",
       "      <th>proveedor_adjudicado</th>\n",
       "      <th>es_grupo</th>\n",
       "      <th>es_pyme</th>\n",
       "      <th>habilita_pago_adelantado</th>\n",
       "      <th>liquidaci_n</th>\n",
       "      <th>obligaci_n_ambiental</th>\n",
       "      <th>obligaciones_postconsumo</th>\n",
       "      <th>reversion</th>\n",
       "      <th>origen_de_los_recursos</th>\n",
       "      <th>destino_gasto</th>\n",
       "      <th>valor_del_contrato</th>\n",
       "      <th>valor_de_pago_adelantado</th>\n",
       "      <th>valor_facturado</th>\n",
       "      <th>valor_pendiente_de_pago</th>\n",
       "      <th>valor_pagado</th>\n",
       "      <th>valor_amortizado</th>\n",
       "      <th>valor_pendiente_de</th>\n",
       "      <th>valor_pendiente_de_ejecucion</th>\n",
       "      <th>estado_bpin</th>\n",
       "      <th>c_digo_bpin</th>\n",
       "      <th>anno_bpin</th>\n",
       "      <th>saldo_cdp</th>\n",
       "      <th>saldo_vigencia</th>\n",
       "      <th>espostconflicto</th>\n",
       "      <th>dias_adicionados</th>\n",
       "      <th>puntos_del_acuerdo</th>\n",
       "      <th>pilares_del_acuerdo</th>\n",
       "      <th>urlproceso</th>\n",
       "      <th>nombre_representante_legal</th>\n",
       "      <th>nacionalidad_representante_legal</th>\n",
       "      <th>domicilio_representante_legal</th>\n",
       "      <th>tipo_de_identificaci_n_representante_legal</th>\n",
       "      <th>identificaci_n_representante_legal</th>\n",
       "      <th>g_nero_representante_legal</th>\n",
       "      <th>presupuesto_general_de_la_nacion_pgn</th>\n",
       "      <th>sistema_general_de_participaciones</th>\n",
       "      <th>sistema_general_de_regal_as</th>\n",
       "      <th>recursos_propios_alcald_as_gobernaciones_y_resguardos_ind_genas_</th>\n",
       "      <th>recursos_de_credito</th>\n",
       "      <th>recursos_propios</th>\n",
       "      <th>codigo_entidad</th>\n",
       "      <th>codigo_proveedor</th>\n",
       "      <th>objeto_del_contrato</th>\n",
       "      <th>ultima_actualizacion</th>\n",
       "      <th>fecha_de_inicio_de_ejecucion</th>\n",
       "      <th>fecha_de_fin_de_ejecucion</th>\n",
       "      <th>fecha_inicio_liquidacion</th>\n",
       "      <th>fecha_fin_liquidacion</th>\n",
       "    </tr>\n",
       "  </thead>\n",
       "  <tbody>\n",
       "    <tr>\n",
       "      <th>0</th>\n",
       "      <td>0</td>\n",
       "      <td>ESAP TERRITORIAL ANTIOQUIA</td>\n",
       "      <td>800117519</td>\n",
       "      <td>Antioquia</td>\n",
       "      <td>Medellín</td>\n",
       "      <td>Colombia,  Antioquia ,  Medellín</td>\n",
       "      <td>Nacional</td>\n",
       "      <td>Educación Nacional</td>\n",
       "      <td>Ejecutivo</td>\n",
       "      <td>Centralizada</td>\n",
       "      <td>CO1.BDOS.4108988</td>\n",
       "      <td>CO1.PCCNTR.4722204</td>\n",
       "      <td>DT1-ANT-020-2023</td>\n",
       "      <td>Modificado</td>\n",
       "      <td>V1.93151500</td>\n",
       "      <td>6-Prestar servicios profesionales para apoyar ...</td>\n",
       "      <td>Prestación de servicios</td>\n",
       "      <td>Contratación directa</td>\n",
       "      <td>Servicios profesionales y apoyo a la gestión</td>\n",
       "      <td>2023-03-02T00:00:00.000</td>\n",
       "      <td>2023-03-03T00:00:00.000</td>\n",
       "      <td>2023-04-01T00:00:00.000</td>\n",
       "      <td>A convenir</td>\n",
       "      <td>Cédula de Ciudadanía</td>\n",
       "      <td>1020481709</td>\n",
       "      <td>Maria Camila Jaramillo Taborda</td>\n",
       "      <td>No</td>\n",
       "      <td>No</td>\n",
       "      <td>No</td>\n",
       "      <td>No</td>\n",
       "      <td>No</td>\n",
       "      <td>No</td>\n",
       "      <td>No</td>\n",
       "      <td>Recursos Propios</td>\n",
       "      <td>Inversión</td>\n",
       "      <td>41461333</td>\n",
       "      <td>0</td>\n",
       "      <td>4021333</td>\n",
       "      <td>37440000</td>\n",
       "      <td>4021333</td>\n",
       "      <td>0</td>\n",
       "      <td>0</td>\n",
       "      <td>37440000</td>\n",
       "      <td>No Válido</td>\n",
       "      <td>No Definido</td>\n",
       "      <td>No D</td>\n",
       "      <td>41600000</td>\n",
       "      <td>0</td>\n",
       "      <td>No</td>\n",
       "      <td>0</td>\n",
       "      <td>No aplica</td>\n",
       "      <td>No aplica</td>\n",
       "      <td>{'url': 'https://community.secop.gov.co/Public...</td>\n",
       "      <td>Maria Camila Jaramillo Taborda</td>\n",
       "      <td>CO</td>\n",
       "      <td>Carrera 52 Número 51-19 apto 902</td>\n",
       "      <td>Cédula de Ciudadanía</td>\n",
       "      <td>1020481709</td>\n",
       "      <td>Femenino</td>\n",
       "      <td>0</td>\n",
       "      <td>0</td>\n",
       "      <td>0</td>\n",
       "      <td>0</td>\n",
       "      <td>0</td>\n",
       "      <td>41461333</td>\n",
       "      <td>704428523</td>\n",
       "      <td>713215440</td>\n",
       "      <td>6-Prestar servicios profesionales para apoyar ...</td>\n",
       "      <td>NaN</td>\n",
       "      <td>NaN</td>\n",
       "      <td>NaN</td>\n",
       "      <td>NaN</td>\n",
       "      <td>NaN</td>\n",
       "    </tr>\n",
       "    <tr>\n",
       "      <th>1</th>\n",
       "      <td>1</td>\n",
       "      <td>ESAP TERRITORIAL ANTIOQUIA</td>\n",
       "      <td>800117519</td>\n",
       "      <td>Antioquia</td>\n",
       "      <td>Medellín</td>\n",
       "      <td>Colombia,  Antioquia ,  Medellín</td>\n",
       "      <td>Nacional</td>\n",
       "      <td>Educación Nacional</td>\n",
       "      <td>Ejecutivo</td>\n",
       "      <td>Centralizada</td>\n",
       "      <td>CO1.BDOS.4905445</td>\n",
       "      <td>CO1.PCCNTR.5352713</td>\n",
       "      <td>DT1-ANT-096-2023</td>\n",
       "      <td>En ejecución</td>\n",
       "      <td>V1.93151500</td>\n",
       "      <td>Prestar servicios profesionales para el desarr...</td>\n",
       "      <td>Prestación de servicios</td>\n",
       "      <td>Contratación directa</td>\n",
       "      <td>Servicios profesionales y apoyo a la gestión</td>\n",
       "      <td>2023-09-05T00:00:00.000</td>\n",
       "      <td>2023-09-06T00:00:00.000</td>\n",
       "      <td>2023-12-16T00:00:00.000</td>\n",
       "      <td>A convenir</td>\n",
       "      <td>Cédula de Ciudadanía</td>\n",
       "      <td>1039099329</td>\n",
       "      <td>HEMERSON MARMOLEJO MERCADO</td>\n",
       "      <td>No</td>\n",
       "      <td>No</td>\n",
       "      <td>No</td>\n",
       "      <td>No</td>\n",
       "      <td>No</td>\n",
       "      <td>No</td>\n",
       "      <td>No</td>\n",
       "      <td>Recursos Propios</td>\n",
       "      <td>Inversión</td>\n",
       "      <td>11220000</td>\n",
       "      <td>0</td>\n",
       "      <td>9460000</td>\n",
       "      <td>1760000</td>\n",
       "      <td>9460000</td>\n",
       "      <td>0</td>\n",
       "      <td>0</td>\n",
       "      <td>1760000</td>\n",
       "      <td>No Válido</td>\n",
       "      <td>No Definido</td>\n",
       "      <td>No D</td>\n",
       "      <td>158400000</td>\n",
       "      <td>0</td>\n",
       "      <td>No</td>\n",
       "      <td>0</td>\n",
       "      <td>No aplica</td>\n",
       "      <td>No aplica</td>\n",
       "      <td>{'url': 'https://community.secop.gov.co/Public...</td>\n",
       "      <td>hemerson marmolejo mercado</td>\n",
       "      <td>CO</td>\n",
       "      <td>No Definido</td>\n",
       "      <td>Cédula de Ciudadanía</td>\n",
       "      <td>1039099329</td>\n",
       "      <td>No Definido</td>\n",
       "      <td>0</td>\n",
       "      <td>0</td>\n",
       "      <td>0</td>\n",
       "      <td>0</td>\n",
       "      <td>0</td>\n",
       "      <td>11220000</td>\n",
       "      <td>704428523</td>\n",
       "      <td>723177309</td>\n",
       "      <td>Prestar servicios profesionales para el desarr...</td>\n",
       "      <td>NaN</td>\n",
       "      <td>NaN</td>\n",
       "      <td>NaN</td>\n",
       "      <td>NaN</td>\n",
       "      <td>NaN</td>\n",
       "    </tr>\n",
       "    <tr>\n",
       "      <th>2</th>\n",
       "      <td>2</td>\n",
       "      <td>ESAP TERRITORIAL ANTIOQUIA</td>\n",
       "      <td>800117519</td>\n",
       "      <td>Antioquia</td>\n",
       "      <td>Medellín</td>\n",
       "      <td>Colombia,  Antioquia ,  Medellín</td>\n",
       "      <td>Nacional</td>\n",
       "      <td>Educación Nacional</td>\n",
       "      <td>Ejecutivo</td>\n",
       "      <td>Centralizada</td>\n",
       "      <td>CO1.BDOS.1417960</td>\n",
       "      <td>CO1.PCCNTR.1799260</td>\n",
       "      <td>DT1-ANT-029-2020</td>\n",
       "      <td>terminado</td>\n",
       "      <td>V1.80111600</td>\n",
       "      <td>Prestar servicios de apoyo a la gestión en la ...</td>\n",
       "      <td>Prestación de servicios</td>\n",
       "      <td>Contratación directa</td>\n",
       "      <td>Servicios profesionales y apoyo a la gestión</td>\n",
       "      <td>2020-08-26T00:00:00.000</td>\n",
       "      <td>2020-08-27T00:00:00.000</td>\n",
       "      <td>2020-12-31T00:00:00.000</td>\n",
       "      <td>A convenir</td>\n",
       "      <td>Cédula de Ciudadanía</td>\n",
       "      <td>71993147</td>\n",
       "      <td>NORBEY DE JESUS AGUIRRE OCAMPO</td>\n",
       "      <td>No</td>\n",
       "      <td>No</td>\n",
       "      <td>No Definido</td>\n",
       "      <td>No</td>\n",
       "      <td>No</td>\n",
       "      <td>No</td>\n",
       "      <td>No</td>\n",
       "      <td>Recursos Propios</td>\n",
       "      <td>Inversión</td>\n",
       "      <td>5166667</td>\n",
       "      <td>0</td>\n",
       "      <td>2666667</td>\n",
       "      <td>2500000</td>\n",
       "      <td>2666667</td>\n",
       "      <td>0</td>\n",
       "      <td>0</td>\n",
       "      <td>2500000</td>\n",
       "      <td>No Válido</td>\n",
       "      <td>No Definido</td>\n",
       "      <td>2020</td>\n",
       "      <td>304083333</td>\n",
       "      <td>0</td>\n",
       "      <td>No</td>\n",
       "      <td>0</td>\n",
       "      <td>No aplica</td>\n",
       "      <td>No aplica</td>\n",
       "      <td>{'url': 'https://community.secop.gov.co/Public...</td>\n",
       "      <td>NORBEY DE JESUS AGUIRRE OCAMPO</td>\n",
       "      <td>CO</td>\n",
       "      <td>No Definido</td>\n",
       "      <td>Sin Descripcion</td>\n",
       "      <td>Sin Descripcion</td>\n",
       "      <td>No Definido</td>\n",
       "      <td>0</td>\n",
       "      <td>0</td>\n",
       "      <td>0</td>\n",
       "      <td>0</td>\n",
       "      <td>0</td>\n",
       "      <td>5166667</td>\n",
       "      <td>704428523</td>\n",
       "      <td>710330432</td>\n",
       "      <td>Prestar servicios de apoyo a la gestión en la ...</td>\n",
       "      <td>2021-04-15T00:00:00.000</td>\n",
       "      <td>NaN</td>\n",
       "      <td>NaN</td>\n",
       "      <td>NaN</td>\n",
       "      <td>NaN</td>\n",
       "    </tr>\n",
       "    <tr>\n",
       "      <th>3</th>\n",
       "      <td>3</td>\n",
       "      <td>ESAP TERRITORIAL ANTIOQUIA</td>\n",
       "      <td>800117519</td>\n",
       "      <td>Antioquia</td>\n",
       "      <td>Medellín</td>\n",
       "      <td>Colombia,  Antioquia ,  Medellín</td>\n",
       "      <td>Nacional</td>\n",
       "      <td>Educación Nacional</td>\n",
       "      <td>Ejecutivo</td>\n",
       "      <td>Centralizada</td>\n",
       "      <td>CO1.BDOS.1948517</td>\n",
       "      <td>CO1.PCCNTR.2477156</td>\n",
       "      <td>DT1-ANT-012 DE 2021</td>\n",
       "      <td>En ejecución</td>\n",
       "      <td>V1.93151500</td>\n",
       "      <td>Prestar servicios de apoyo en el componente de...</td>\n",
       "      <td>Prestación de servicios</td>\n",
       "      <td>Contratación directa</td>\n",
       "      <td>Servicios profesionales y apoyo a la gestión</td>\n",
       "      <td>2021-04-30T00:00:00.000</td>\n",
       "      <td>2021-05-04T00:00:00.000</td>\n",
       "      <td>2021-12-04T00:00:00.000</td>\n",
       "      <td>A convenir</td>\n",
       "      <td>Cédula de Ciudadanía</td>\n",
       "      <td>1027943668</td>\n",
       "      <td>Carlos Alberto Mosquera Cordoba</td>\n",
       "      <td>No</td>\n",
       "      <td>No</td>\n",
       "      <td>No</td>\n",
       "      <td>No</td>\n",
       "      <td>No</td>\n",
       "      <td>No</td>\n",
       "      <td>No</td>\n",
       "      <td>Recursos Propios</td>\n",
       "      <td>Inversión</td>\n",
       "      <td>9450000</td>\n",
       "      <td>0</td>\n",
       "      <td>0</td>\n",
       "      <td>9450000</td>\n",
       "      <td>0</td>\n",
       "      <td>0</td>\n",
       "      <td>0</td>\n",
       "      <td>9450000</td>\n",
       "      <td>No Válido</td>\n",
       "      <td>No Definido</td>\n",
       "      <td>2021</td>\n",
       "      <td>396900000</td>\n",
       "      <td>0</td>\n",
       "      <td>No</td>\n",
       "      <td>0</td>\n",
       "      <td>No aplica</td>\n",
       "      <td>No aplica</td>\n",
       "      <td>{'url': 'https://community.secop.gov.co/Public...</td>\n",
       "      <td>Carlos Alberto Mosquera Cordoba</td>\n",
       "      <td>CO</td>\n",
       "      <td>No Definido</td>\n",
       "      <td>Cédula de Ciudadanía</td>\n",
       "      <td>1027943668</td>\n",
       "      <td>No Definido</td>\n",
       "      <td>0</td>\n",
       "      <td>0</td>\n",
       "      <td>0</td>\n",
       "      <td>0</td>\n",
       "      <td>0</td>\n",
       "      <td>9450000</td>\n",
       "      <td>704428523</td>\n",
       "      <td>710353962</td>\n",
       "      <td>Prestar servicios de apoyo en el componente de...</td>\n",
       "      <td>NaN</td>\n",
       "      <td>NaN</td>\n",
       "      <td>NaN</td>\n",
       "      <td>NaN</td>\n",
       "      <td>NaN</td>\n",
       "    </tr>\n",
       "    <tr>\n",
       "      <th>4</th>\n",
       "      <td>4</td>\n",
       "      <td>ESAP TERRITORIAL ANTIOQUIA</td>\n",
       "      <td>800117519</td>\n",
       "      <td>Antioquia</td>\n",
       "      <td>Medellín</td>\n",
       "      <td>Colombia,  Antioquia ,  Medellín</td>\n",
       "      <td>Nacional</td>\n",
       "      <td>Educación Nacional</td>\n",
       "      <td>Ejecutivo</td>\n",
       "      <td>Centralizada</td>\n",
       "      <td>CO1.BDOS.4829408</td>\n",
       "      <td>CO1.PCCNTR.5293902</td>\n",
       "      <td>DT1-ANT-084-2023</td>\n",
       "      <td>En ejecución</td>\n",
       "      <td>V1.93151500</td>\n",
       "      <td>Prestar servicios profesionales para el desarr...</td>\n",
       "      <td>Prestación de servicios</td>\n",
       "      <td>Contratación directa</td>\n",
       "      <td>Servicios profesionales y apoyo a la gestión</td>\n",
       "      <td>2023-08-12T00:00:00.000</td>\n",
       "      <td>2023-08-12T00:00:00.000</td>\n",
       "      <td>2023-12-26T00:00:00.000</td>\n",
       "      <td>A convenir</td>\n",
       "      <td>Cédula de Ciudadanía</td>\n",
       "      <td>1041147932</td>\n",
       "      <td>john alexander uribe ramos</td>\n",
       "      <td>No</td>\n",
       "      <td>Si</td>\n",
       "      <td>No</td>\n",
       "      <td>No</td>\n",
       "      <td>No</td>\n",
       "      <td>No</td>\n",
       "      <td>No</td>\n",
       "      <td>Recursos Propios</td>\n",
       "      <td>Inversión</td>\n",
       "      <td>14850000</td>\n",
       "      <td>0</td>\n",
       "      <td>8800000</td>\n",
       "      <td>6050000</td>\n",
       "      <td>8800000</td>\n",
       "      <td>0</td>\n",
       "      <td>0</td>\n",
       "      <td>6050000</td>\n",
       "      <td>No Válido</td>\n",
       "      <td>No Definido</td>\n",
       "      <td>No D</td>\n",
       "      <td>29700000</td>\n",
       "      <td>0</td>\n",
       "      <td>No</td>\n",
       "      <td>0</td>\n",
       "      <td>No aplica</td>\n",
       "      <td>No aplica</td>\n",
       "      <td>{'url': 'https://community.secop.gov.co/Public...</td>\n",
       "      <td>JOHN ALEXANDER URIBE RAMOS</td>\n",
       "      <td>CO</td>\n",
       "      <td>No Definido</td>\n",
       "      <td>Cédula de Ciudadanía</td>\n",
       "      <td>1041147932</td>\n",
       "      <td>No Definido</td>\n",
       "      <td>0</td>\n",
       "      <td>0</td>\n",
       "      <td>0</td>\n",
       "      <td>0</td>\n",
       "      <td>0</td>\n",
       "      <td>14850000</td>\n",
       "      <td>704428523</td>\n",
       "      <td>710373507</td>\n",
       "      <td>Prestar servicios profesionales para el desarr...</td>\n",
       "      <td>NaN</td>\n",
       "      <td>NaN</td>\n",
       "      <td>NaN</td>\n",
       "      <td>NaN</td>\n",
       "      <td>NaN</td>\n",
       "    </tr>\n",
       "    <tr>\n",
       "      <th>...</th>\n",
       "      <td>...</td>\n",
       "      <td>...</td>\n",
       "      <td>...</td>\n",
       "      <td>...</td>\n",
       "      <td>...</td>\n",
       "      <td>...</td>\n",
       "      <td>...</td>\n",
       "      <td>...</td>\n",
       "      <td>...</td>\n",
       "      <td>...</td>\n",
       "      <td>...</td>\n",
       "      <td>...</td>\n",
       "      <td>...</td>\n",
       "      <td>...</td>\n",
       "      <td>...</td>\n",
       "      <td>...</td>\n",
       "      <td>...</td>\n",
       "      <td>...</td>\n",
       "      <td>...</td>\n",
       "      <td>...</td>\n",
       "      <td>...</td>\n",
       "      <td>...</td>\n",
       "      <td>...</td>\n",
       "      <td>...</td>\n",
       "      <td>...</td>\n",
       "      <td>...</td>\n",
       "      <td>...</td>\n",
       "      <td>...</td>\n",
       "      <td>...</td>\n",
       "      <td>...</td>\n",
       "      <td>...</td>\n",
       "      <td>...</td>\n",
       "      <td>...</td>\n",
       "      <td>...</td>\n",
       "      <td>...</td>\n",
       "      <td>...</td>\n",
       "      <td>...</td>\n",
       "      <td>...</td>\n",
       "      <td>...</td>\n",
       "      <td>...</td>\n",
       "      <td>...</td>\n",
       "      <td>...</td>\n",
       "      <td>...</td>\n",
       "      <td>...</td>\n",
       "      <td>...</td>\n",
       "      <td>...</td>\n",
       "      <td>...</td>\n",
       "      <td>...</td>\n",
       "      <td>...</td>\n",
       "      <td>...</td>\n",
       "      <td>...</td>\n",
       "      <td>...</td>\n",
       "      <td>...</td>\n",
       "      <td>...</td>\n",
       "      <td>...</td>\n",
       "      <td>...</td>\n",
       "      <td>...</td>\n",
       "      <td>...</td>\n",
       "      <td>...</td>\n",
       "      <td>...</td>\n",
       "      <td>...</td>\n",
       "      <td>...</td>\n",
       "      <td>...</td>\n",
       "      <td>...</td>\n",
       "      <td>...</td>\n",
       "      <td>...</td>\n",
       "      <td>...</td>\n",
       "      <td>...</td>\n",
       "      <td>...</td>\n",
       "      <td>...</td>\n",
       "      <td>...</td>\n",
       "      <td>...</td>\n",
       "      <td>...</td>\n",
       "    </tr>\n",
       "    <tr>\n",
       "      <th>14001</th>\n",
       "      <td>14001</td>\n",
       "      <td>ESCUELA SUPERIOR DE ADMINISTRACIÓN PUBLICA</td>\n",
       "      <td>899999054</td>\n",
       "      <td>Distrito Capital de Bogotá</td>\n",
       "      <td>Bogotá</td>\n",
       "      <td>Colombia, Bogotá,  Bogotá</td>\n",
       "      <td>Nacional</td>\n",
       "      <td>Servicio Público</td>\n",
       "      <td>Ejecutivo</td>\n",
       "      <td>Centralizada</td>\n",
       "      <td>CO1.BDOS.1441522</td>\n",
       "      <td>CO1.PCCNTR.1830050</td>\n",
       "      <td>BOG-742-2020</td>\n",
       "      <td>Cerrado</td>\n",
       "      <td>V1.80111600</td>\n",
       "      <td>Prestar servicios de apoyo a la gestión en el ...</td>\n",
       "      <td>Prestación de servicios</td>\n",
       "      <td>Contratación directa</td>\n",
       "      <td>Servicios profesionales y apoyo a la gestión</td>\n",
       "      <td>2020-09-10T00:00:00.000</td>\n",
       "      <td>2020-09-12T00:00:00.000</td>\n",
       "      <td>2021-01-01T00:00:00.000</td>\n",
       "      <td>A convenir</td>\n",
       "      <td>Cédula de Ciudadanía</td>\n",
       "      <td>1233902468</td>\n",
       "      <td>Laura Vanessa Romero Umaña</td>\n",
       "      <td>No</td>\n",
       "      <td>No</td>\n",
       "      <td>No</td>\n",
       "      <td>No</td>\n",
       "      <td>No</td>\n",
       "      <td>No</td>\n",
       "      <td>No</td>\n",
       "      <td>Recursos Propios</td>\n",
       "      <td>Inversión</td>\n",
       "      <td>5625000</td>\n",
       "      <td>0</td>\n",
       "      <td>4583333</td>\n",
       "      <td>1041667</td>\n",
       "      <td>4583333</td>\n",
       "      <td>0</td>\n",
       "      <td>0</td>\n",
       "      <td>1041667</td>\n",
       "      <td>No Válido</td>\n",
       "      <td>No Definido</td>\n",
       "      <td>2023</td>\n",
       "      <td>45000000</td>\n",
       "      <td>0</td>\n",
       "      <td>No</td>\n",
       "      <td>0</td>\n",
       "      <td>No aplica</td>\n",
       "      <td>No aplica</td>\n",
       "      <td>{'url': 'https://community.secop.gov.co/Public...</td>\n",
       "      <td>Laura Vanessa Romero Umaña</td>\n",
       "      <td>CO</td>\n",
       "      <td>Cra 112 a # 136 a 19</td>\n",
       "      <td>Cédula de Ciudadanía</td>\n",
       "      <td>1233902468</td>\n",
       "      <td>Femenino</td>\n",
       "      <td>0</td>\n",
       "      <td>0</td>\n",
       "      <td>0</td>\n",
       "      <td>0</td>\n",
       "      <td>0</td>\n",
       "      <td>5625000</td>\n",
       "      <td>701255226</td>\n",
       "      <td>710323635</td>\n",
       "      <td>Prestar servicios de apoyo a la gestión en el ...</td>\n",
       "      <td>2020-09-18T00:00:00.000</td>\n",
       "      <td>NaN</td>\n",
       "      <td>NaN</td>\n",
       "      <td>NaN</td>\n",
       "      <td>NaN</td>\n",
       "    </tr>\n",
       "    <tr>\n",
       "      <th>14002</th>\n",
       "      <td>14002</td>\n",
       "      <td>ESCUELA SUPERIOR DE ADMINISTRACIÓN PUBLICA</td>\n",
       "      <td>899999054</td>\n",
       "      <td>Distrito Capital de Bogotá</td>\n",
       "      <td>Bogotá</td>\n",
       "      <td>Colombia, Bogotá,  Bogotá</td>\n",
       "      <td>Nacional</td>\n",
       "      <td>Servicio Público</td>\n",
       "      <td>Ejecutivo</td>\n",
       "      <td>Centralizada</td>\n",
       "      <td>CO1.BDOS.2324411</td>\n",
       "      <td>CO1.PCCNTR.3067815</td>\n",
       "      <td>BOG-1165-2021</td>\n",
       "      <td>En ejecución</td>\n",
       "      <td>V1.82101500</td>\n",
       "      <td>Adquirir pendones y backings para la sede cent...</td>\n",
       "      <td>Suministros</td>\n",
       "      <td>Selección abreviada subasta inversa</td>\n",
       "      <td>Suministro de bienes y servicios de caracterís...</td>\n",
       "      <td>2021-11-30T00:00:00.000</td>\n",
       "      <td>2021-12-03T00:00:00.000</td>\n",
       "      <td>2021-12-31T00:00:00.000</td>\n",
       "      <td>A convenir</td>\n",
       "      <td>No Definido</td>\n",
       "      <td>30210450</td>\n",
       "      <td>HARTMANN IMPRESORES</td>\n",
       "      <td>No</td>\n",
       "      <td>Si</td>\n",
       "      <td>No</td>\n",
       "      <td>No</td>\n",
       "      <td>No</td>\n",
       "      <td>No</td>\n",
       "      <td>No</td>\n",
       "      <td>Recursos Propios</td>\n",
       "      <td>Inversión</td>\n",
       "      <td>49618000</td>\n",
       "      <td>0</td>\n",
       "      <td>0</td>\n",
       "      <td>49618000</td>\n",
       "      <td>0</td>\n",
       "      <td>0</td>\n",
       "      <td>0</td>\n",
       "      <td>49618000</td>\n",
       "      <td>No Válido</td>\n",
       "      <td>No Definido</td>\n",
       "      <td>2021</td>\n",
       "      <td>63517878</td>\n",
       "      <td>0</td>\n",
       "      <td>No</td>\n",
       "      <td>0</td>\n",
       "      <td>No aplica</td>\n",
       "      <td>No aplica</td>\n",
       "      <td>{'url': 'https://community.secop.gov.co/Public...</td>\n",
       "      <td>CLAUDIA MARCELA SERRANO SUAREZ</td>\n",
       "      <td>CO</td>\n",
       "      <td>No Definido</td>\n",
       "      <td>Cédula de Ciudadanía</td>\n",
       "      <td>30210450</td>\n",
       "      <td>Femenino</td>\n",
       "      <td>0</td>\n",
       "      <td>0</td>\n",
       "      <td>0</td>\n",
       "      <td>0</td>\n",
       "      <td>0</td>\n",
       "      <td>49618000</td>\n",
       "      <td>701255226</td>\n",
       "      <td>708701040</td>\n",
       "      <td>Adquirir pendones y backings para la sede cent...</td>\n",
       "      <td>NaN</td>\n",
       "      <td>NaN</td>\n",
       "      <td>NaN</td>\n",
       "      <td>NaN</td>\n",
       "      <td>NaN</td>\n",
       "    </tr>\n",
       "    <tr>\n",
       "      <th>14003</th>\n",
       "      <td>14003</td>\n",
       "      <td>ESCUELA SUPERIOR DE ADMINISTRACIÓN PUBLICA</td>\n",
       "      <td>899999054</td>\n",
       "      <td>Distrito Capital de Bogotá</td>\n",
       "      <td>Bogotá</td>\n",
       "      <td>Colombia, Bogotá,  Bogotá</td>\n",
       "      <td>Nacional</td>\n",
       "      <td>Servicio Público</td>\n",
       "      <td>Ejecutivo</td>\n",
       "      <td>Centralizada</td>\n",
       "      <td>CO1.BDOS.4392016</td>\n",
       "      <td>CO1.PCCNTR.4950643</td>\n",
       "      <td>BOG-990-2023</td>\n",
       "      <td>En ejecución</td>\n",
       "      <td>V1.93151500</td>\n",
       "      <td>Prestar servicios tecnológicos en el proceso d...</td>\n",
       "      <td>Prestación de servicios</td>\n",
       "      <td>Contratación directa</td>\n",
       "      <td>Servicios profesionales y apoyo a la gestión</td>\n",
       "      <td>2023-05-13T00:00:00.000</td>\n",
       "      <td>2023-05-20T00:00:00.000</td>\n",
       "      <td>2024-01-01T00:00:00.000</td>\n",
       "      <td>No Definido</td>\n",
       "      <td>Cédula de Ciudadanía</td>\n",
       "      <td>79403844</td>\n",
       "      <td>JESUS ANONIO QUITIAN USMA</td>\n",
       "      <td>No</td>\n",
       "      <td>No</td>\n",
       "      <td>No</td>\n",
       "      <td>No</td>\n",
       "      <td>No</td>\n",
       "      <td>No</td>\n",
       "      <td>No</td>\n",
       "      <td>Recursos Propios</td>\n",
       "      <td>Inversión</td>\n",
       "      <td>24901334</td>\n",
       "      <td>0</td>\n",
       "      <td>20608000</td>\n",
       "      <td>4293334</td>\n",
       "      <td>20608000</td>\n",
       "      <td>0</td>\n",
       "      <td>0</td>\n",
       "      <td>4293334</td>\n",
       "      <td>No Válido</td>\n",
       "      <td>No Definido</td>\n",
       "      <td>No D</td>\n",
       "      <td>35420000</td>\n",
       "      <td>0</td>\n",
       "      <td>No</td>\n",
       "      <td>0</td>\n",
       "      <td>No aplica</td>\n",
       "      <td>No aplica</td>\n",
       "      <td>{'url': 'https://community.secop.gov.co/Public...</td>\n",
       "      <td>Jesus Antonio Quitian Usma</td>\n",
       "      <td>CO</td>\n",
       "      <td>Calle 2 72B 70</td>\n",
       "      <td>Cédula de Ciudadanía</td>\n",
       "      <td>79403844</td>\n",
       "      <td>No Definido</td>\n",
       "      <td>0</td>\n",
       "      <td>0</td>\n",
       "      <td>0</td>\n",
       "      <td>0</td>\n",
       "      <td>0</td>\n",
       "      <td>24901334</td>\n",
       "      <td>701255226</td>\n",
       "      <td>708976733</td>\n",
       "      <td>Prestar servicios tecnológicos en el proceso d...</td>\n",
       "      <td>NaN</td>\n",
       "      <td>NaN</td>\n",
       "      <td>NaN</td>\n",
       "      <td>NaN</td>\n",
       "      <td>NaN</td>\n",
       "    </tr>\n",
       "    <tr>\n",
       "      <th>14004</th>\n",
       "      <td>14004</td>\n",
       "      <td>ESCUELA SUPERIOR DE ADMINISTRACIÓN PUBLICA</td>\n",
       "      <td>899999054</td>\n",
       "      <td>Distrito Capital de Bogotá</td>\n",
       "      <td>Bogotá</td>\n",
       "      <td>Colombia, Bogotá,  Bogotá</td>\n",
       "      <td>Nacional</td>\n",
       "      <td>Servicio Público</td>\n",
       "      <td>Ejecutivo</td>\n",
       "      <td>Centralizada</td>\n",
       "      <td>CO1.BDOS.1484361</td>\n",
       "      <td>CO1.PCCNTR.1888934</td>\n",
       "      <td>BOG-797-2020</td>\n",
       "      <td>Cerrado</td>\n",
       "      <td>V1.80111600</td>\n",
       "      <td>Prestar los servicios profesionales para adela...</td>\n",
       "      <td>Prestación de servicios</td>\n",
       "      <td>Contratación directa</td>\n",
       "      <td>Servicios profesionales y apoyo a la gestión</td>\n",
       "      <td>2020-10-10T00:00:00.000</td>\n",
       "      <td>2020-10-19T00:00:00.000</td>\n",
       "      <td>2020-12-31T00:00:00.000</td>\n",
       "      <td>A convenir</td>\n",
       "      <td>Cédula de Ciudadanía</td>\n",
       "      <td>1015394471</td>\n",
       "      <td>Pedro Nel Rojas Oliveros</td>\n",
       "      <td>No</td>\n",
       "      <td>No</td>\n",
       "      <td>No</td>\n",
       "      <td>No</td>\n",
       "      <td>No</td>\n",
       "      <td>No</td>\n",
       "      <td>No</td>\n",
       "      <td>Recursos Propios</td>\n",
       "      <td>Inversión</td>\n",
       "      <td>22200000</td>\n",
       "      <td>0</td>\n",
       "      <td>9800000</td>\n",
       "      <td>12400000</td>\n",
       "      <td>9800000</td>\n",
       "      <td>0</td>\n",
       "      <td>0</td>\n",
       "      <td>12400000</td>\n",
       "      <td>No Válido</td>\n",
       "      <td>No Definido</td>\n",
       "      <td>2023</td>\n",
       "      <td>23433333</td>\n",
       "      <td>0</td>\n",
       "      <td>No</td>\n",
       "      <td>0</td>\n",
       "      <td>No aplica</td>\n",
       "      <td>No aplica</td>\n",
       "      <td>{'url': 'https://community.secop.gov.co/Public...</td>\n",
       "      <td>PEDRO NEL ROJAS OLIVEROS</td>\n",
       "      <td>CO</td>\n",
       "      <td>No Definido</td>\n",
       "      <td>Cédula de Ciudadanía</td>\n",
       "      <td>1015394471</td>\n",
       "      <td>No Definido</td>\n",
       "      <td>0</td>\n",
       "      <td>0</td>\n",
       "      <td>0</td>\n",
       "      <td>0</td>\n",
       "      <td>0</td>\n",
       "      <td>22200000</td>\n",
       "      <td>701255226</td>\n",
       "      <td>711353037</td>\n",
       "      <td>Prestar los servicios profesionales para adela...</td>\n",
       "      <td>2023-12-04T00:00:00.000</td>\n",
       "      <td>NaN</td>\n",
       "      <td>NaN</td>\n",
       "      <td>NaN</td>\n",
       "      <td>NaN</td>\n",
       "    </tr>\n",
       "    <tr>\n",
       "      <th>14005</th>\n",
       "      <td>14005</td>\n",
       "      <td>ESCUELA SUPERIOR DE ADMINISTRACIÓN PUBLICA</td>\n",
       "      <td>899999054</td>\n",
       "      <td>Distrito Capital de Bogotá</td>\n",
       "      <td>Bogotá</td>\n",
       "      <td>Colombia, Bogotá,  Bogotá</td>\n",
       "      <td>Nacional</td>\n",
       "      <td>Servicio Público</td>\n",
       "      <td>Ejecutivo</td>\n",
       "      <td>Centralizada</td>\n",
       "      <td>CO1.BDOS.3002531</td>\n",
       "      <td>CO1.PCCNTR.3775025</td>\n",
       "      <td>ESAP-CHOC-009-2022</td>\n",
       "      <td>En ejecución</td>\n",
       "      <td>V1.93151500</td>\n",
       "      <td>Prestar servicios profesionales para orientar ...</td>\n",
       "      <td>Prestación de servicios</td>\n",
       "      <td>Contratación directa</td>\n",
       "      <td>Servicios profesionales y apoyo a la gestión</td>\n",
       "      <td>2022-07-02T00:00:00.000</td>\n",
       "      <td>2022-07-02T00:00:00.000</td>\n",
       "      <td>2022-09-11T00:00:00.000</td>\n",
       "      <td>A convenir</td>\n",
       "      <td>Cédula de Ciudadanía</td>\n",
       "      <td>1193552377</td>\n",
       "      <td>MARIA CENAIDA MARTINEZ HINESTROZA</td>\n",
       "      <td>No</td>\n",
       "      <td>No</td>\n",
       "      <td>No</td>\n",
       "      <td>No</td>\n",
       "      <td>No</td>\n",
       "      <td>No</td>\n",
       "      <td>No</td>\n",
       "      <td>Distribuido</td>\n",
       "      <td>Inversión</td>\n",
       "      <td>9624575</td>\n",
       "      <td>0</td>\n",
       "      <td>0</td>\n",
       "      <td>9624575</td>\n",
       "      <td>0</td>\n",
       "      <td>0</td>\n",
       "      <td>0</td>\n",
       "      <td>9624575</td>\n",
       "      <td>No Válido</td>\n",
       "      <td>No Definido</td>\n",
       "      <td>No D</td>\n",
       "      <td>119074560</td>\n",
       "      <td>0</td>\n",
       "      <td>No</td>\n",
       "      <td>0</td>\n",
       "      <td>No aplica</td>\n",
       "      <td>No aplica</td>\n",
       "      <td>{'url': 'https://community.secop.gov.co/Public...</td>\n",
       "      <td>MARIA CENAIDA MARTINEZ HINESTROZA</td>\n",
       "      <td>CO</td>\n",
       "      <td>No Definido</td>\n",
       "      <td>Sin Descripcion</td>\n",
       "      <td>Sin Descripcion</td>\n",
       "      <td>No Definido</td>\n",
       "      <td>0</td>\n",
       "      <td>0</td>\n",
       "      <td>0</td>\n",
       "      <td>0</td>\n",
       "      <td>9624575</td>\n",
       "      <td>0</td>\n",
       "      <td>701255226</td>\n",
       "      <td>711515940</td>\n",
       "      <td>Prestar servicios profesionales para orientar ...</td>\n",
       "      <td>NaN</td>\n",
       "      <td>NaN</td>\n",
       "      <td>NaN</td>\n",
       "      <td>NaN</td>\n",
       "      <td>NaN</td>\n",
       "    </tr>\n",
       "  </tbody>\n",
       "</table>\n",
       "<p>14006 rows × 73 columns</p>\n",
       "</div>"
      ],
      "text/plain": [
       "       Unnamed: 0                              nombre_entidad  nit_entidad  \\\n",
       "0               0                  ESAP TERRITORIAL ANTIOQUIA    800117519   \n",
       "1               1                  ESAP TERRITORIAL ANTIOQUIA    800117519   \n",
       "2               2                  ESAP TERRITORIAL ANTIOQUIA    800117519   \n",
       "3               3                  ESAP TERRITORIAL ANTIOQUIA    800117519   \n",
       "4               4                  ESAP TERRITORIAL ANTIOQUIA    800117519   \n",
       "...           ...                                         ...          ...   \n",
       "14001       14001  ESCUELA SUPERIOR DE ADMINISTRACIÓN PUBLICA    899999054   \n",
       "14002       14002  ESCUELA SUPERIOR DE ADMINISTRACIÓN PUBLICA    899999054   \n",
       "14003       14003  ESCUELA SUPERIOR DE ADMINISTRACIÓN PUBLICA    899999054   \n",
       "14004       14004  ESCUELA SUPERIOR DE ADMINISTRACIÓN PUBLICA    899999054   \n",
       "14005       14005  ESCUELA SUPERIOR DE ADMINISTRACIÓN PUBLICA    899999054   \n",
       "\n",
       "                     departamento    ciudad                      localizaci_n  \\\n",
       "0                       Antioquia  Medellín  Colombia,  Antioquia ,  Medellín   \n",
       "1                       Antioquia  Medellín  Colombia,  Antioquia ,  Medellín   \n",
       "2                       Antioquia  Medellín  Colombia,  Antioquia ,  Medellín   \n",
       "3                       Antioquia  Medellín  Colombia,  Antioquia ,  Medellín   \n",
       "4                       Antioquia  Medellín  Colombia,  Antioquia ,  Medellín   \n",
       "...                           ...       ...                               ...   \n",
       "14001  Distrito Capital de Bogotá    Bogotá         Colombia, Bogotá,  Bogotá   \n",
       "14002  Distrito Capital de Bogotá    Bogotá         Colombia, Bogotá,  Bogotá   \n",
       "14003  Distrito Capital de Bogotá    Bogotá         Colombia, Bogotá,  Bogotá   \n",
       "14004  Distrito Capital de Bogotá    Bogotá         Colombia, Bogotá,  Bogotá   \n",
       "14005  Distrito Capital de Bogotá    Bogotá         Colombia, Bogotá,  Bogotá   \n",
       "\n",
       "          orden              sector       rama entidad_centralizada  \\\n",
       "0      Nacional  Educación Nacional  Ejecutivo         Centralizada   \n",
       "1      Nacional  Educación Nacional  Ejecutivo         Centralizada   \n",
       "2      Nacional  Educación Nacional  Ejecutivo         Centralizada   \n",
       "3      Nacional  Educación Nacional  Ejecutivo         Centralizada   \n",
       "4      Nacional  Educación Nacional  Ejecutivo         Centralizada   \n",
       "...         ...                 ...        ...                  ...   \n",
       "14001  Nacional    Servicio Público  Ejecutivo         Centralizada   \n",
       "14002  Nacional    Servicio Público  Ejecutivo         Centralizada   \n",
       "14003  Nacional    Servicio Público  Ejecutivo         Centralizada   \n",
       "14004  Nacional    Servicio Público  Ejecutivo         Centralizada   \n",
       "14005  Nacional    Servicio Público  Ejecutivo         Centralizada   \n",
       "\n",
       "      proceso_de_compra         id_contrato referencia_del_contrato  \\\n",
       "0      CO1.BDOS.4108988  CO1.PCCNTR.4722204        DT1-ANT-020-2023   \n",
       "1      CO1.BDOS.4905445  CO1.PCCNTR.5352713        DT1-ANT-096-2023   \n",
       "2      CO1.BDOS.1417960  CO1.PCCNTR.1799260        DT1-ANT-029-2020   \n",
       "3      CO1.BDOS.1948517  CO1.PCCNTR.2477156     DT1-ANT-012 DE 2021   \n",
       "4      CO1.BDOS.4829408  CO1.PCCNTR.5293902        DT1-ANT-084-2023   \n",
       "...                 ...                 ...                     ...   \n",
       "14001  CO1.BDOS.1441522  CO1.PCCNTR.1830050            BOG-742-2020   \n",
       "14002  CO1.BDOS.2324411  CO1.PCCNTR.3067815           BOG-1165-2021   \n",
       "14003  CO1.BDOS.4392016  CO1.PCCNTR.4950643            BOG-990-2023   \n",
       "14004  CO1.BDOS.1484361  CO1.PCCNTR.1888934            BOG-797-2020   \n",
       "14005  CO1.BDOS.3002531  CO1.PCCNTR.3775025      ESAP-CHOC-009-2022   \n",
       "\n",
       "      estado_contrato codigo_de_categoria_principal  \\\n",
       "0          Modificado                   V1.93151500   \n",
       "1        En ejecución                   V1.93151500   \n",
       "2           terminado                   V1.80111600   \n",
       "3        En ejecución                   V1.93151500   \n",
       "4        En ejecución                   V1.93151500   \n",
       "...               ...                           ...   \n",
       "14001         Cerrado                   V1.80111600   \n",
       "14002    En ejecución                   V1.82101500   \n",
       "14003    En ejecución                   V1.93151500   \n",
       "14004         Cerrado                   V1.80111600   \n",
       "14005    En ejecución                   V1.93151500   \n",
       "\n",
       "                                 descripcion_del_proceso  \\\n",
       "0      6-Prestar servicios profesionales para apoyar ...   \n",
       "1      Prestar servicios profesionales para el desarr...   \n",
       "2      Prestar servicios de apoyo a la gestión en la ...   \n",
       "3      Prestar servicios de apoyo en el componente de...   \n",
       "4      Prestar servicios profesionales para el desarr...   \n",
       "...                                                  ...   \n",
       "14001  Prestar servicios de apoyo a la gestión en el ...   \n",
       "14002  Adquirir pendones y backings para la sede cent...   \n",
       "14003  Prestar servicios tecnológicos en el proceso d...   \n",
       "14004  Prestar los servicios profesionales para adela...   \n",
       "14005  Prestar servicios profesionales para orientar ...   \n",
       "\n",
       "              tipo_de_contrato            modalidad_de_contratacion  \\\n",
       "0      Prestación de servicios                 Contratación directa   \n",
       "1      Prestación de servicios                 Contratación directa   \n",
       "2      Prestación de servicios                 Contratación directa   \n",
       "3      Prestación de servicios                 Contratación directa   \n",
       "4      Prestación de servicios                 Contratación directa   \n",
       "...                        ...                                  ...   \n",
       "14001  Prestación de servicios                 Contratación directa   \n",
       "14002              Suministros  Selección abreviada subasta inversa   \n",
       "14003  Prestación de servicios                 Contratación directa   \n",
       "14004  Prestación de servicios                 Contratación directa   \n",
       "14005  Prestación de servicios                 Contratación directa   \n",
       "\n",
       "                              justificacion_modalidad_de  \\\n",
       "0           Servicios profesionales y apoyo a la gestión   \n",
       "1           Servicios profesionales y apoyo a la gestión   \n",
       "2           Servicios profesionales y apoyo a la gestión   \n",
       "3           Servicios profesionales y apoyo a la gestión   \n",
       "4           Servicios profesionales y apoyo a la gestión   \n",
       "...                                                  ...   \n",
       "14001       Servicios profesionales y apoyo a la gestión   \n",
       "14002  Suministro de bienes y servicios de caracterís...   \n",
       "14003       Servicios profesionales y apoyo a la gestión   \n",
       "14004       Servicios profesionales y apoyo a la gestión   \n",
       "14005       Servicios profesionales y apoyo a la gestión   \n",
       "\n",
       "                fecha_de_firma fecha_de_inicio_del_contrato  \\\n",
       "0      2023-03-02T00:00:00.000      2023-03-03T00:00:00.000   \n",
       "1      2023-09-05T00:00:00.000      2023-09-06T00:00:00.000   \n",
       "2      2020-08-26T00:00:00.000      2020-08-27T00:00:00.000   \n",
       "3      2021-04-30T00:00:00.000      2021-05-04T00:00:00.000   \n",
       "4      2023-08-12T00:00:00.000      2023-08-12T00:00:00.000   \n",
       "...                        ...                          ...   \n",
       "14001  2020-09-10T00:00:00.000      2020-09-12T00:00:00.000   \n",
       "14002  2021-11-30T00:00:00.000      2021-12-03T00:00:00.000   \n",
       "14003  2023-05-13T00:00:00.000      2023-05-20T00:00:00.000   \n",
       "14004  2020-10-10T00:00:00.000      2020-10-19T00:00:00.000   \n",
       "14005  2022-07-02T00:00:00.000      2022-07-02T00:00:00.000   \n",
       "\n",
       "      fecha_de_fin_del_contrato condiciones_de_entrega      tipodocproveedor  \\\n",
       "0       2023-04-01T00:00:00.000             A convenir  Cédula de Ciudadanía   \n",
       "1       2023-12-16T00:00:00.000             A convenir  Cédula de Ciudadanía   \n",
       "2       2020-12-31T00:00:00.000             A convenir  Cédula de Ciudadanía   \n",
       "3       2021-12-04T00:00:00.000             A convenir  Cédula de Ciudadanía   \n",
       "4       2023-12-26T00:00:00.000             A convenir  Cédula de Ciudadanía   \n",
       "...                         ...                    ...                   ...   \n",
       "14001   2021-01-01T00:00:00.000             A convenir  Cédula de Ciudadanía   \n",
       "14002   2021-12-31T00:00:00.000             A convenir           No Definido   \n",
       "14003   2024-01-01T00:00:00.000            No Definido  Cédula de Ciudadanía   \n",
       "14004   2020-12-31T00:00:00.000             A convenir  Cédula de Ciudadanía   \n",
       "14005   2022-09-11T00:00:00.000             A convenir  Cédula de Ciudadanía   \n",
       "\n",
       "      documento_proveedor               proveedor_adjudicado es_grupo es_pyme  \\\n",
       "0              1020481709     Maria Camila Jaramillo Taborda       No      No   \n",
       "1              1039099329         HEMERSON MARMOLEJO MERCADO       No      No   \n",
       "2                71993147     NORBEY DE JESUS AGUIRRE OCAMPO       No      No   \n",
       "3              1027943668    Carlos Alberto Mosquera Cordoba       No      No   \n",
       "4              1041147932         john alexander uribe ramos       No      Si   \n",
       "...                   ...                                ...      ...     ...   \n",
       "14001          1233902468         Laura Vanessa Romero Umaña       No      No   \n",
       "14002            30210450                HARTMANN IMPRESORES       No      Si   \n",
       "14003            79403844          JESUS ANONIO QUITIAN USMA       No      No   \n",
       "14004          1015394471           Pedro Nel Rojas Oliveros       No      No   \n",
       "14005          1193552377  MARIA CENAIDA MARTINEZ HINESTROZA       No      No   \n",
       "\n",
       "      habilita_pago_adelantado liquidaci_n obligaci_n_ambiental  \\\n",
       "0                           No          No                   No   \n",
       "1                           No          No                   No   \n",
       "2                  No Definido          No                   No   \n",
       "3                           No          No                   No   \n",
       "4                           No          No                   No   \n",
       "...                        ...         ...                  ...   \n",
       "14001                       No          No                   No   \n",
       "14002                       No          No                   No   \n",
       "14003                       No          No                   No   \n",
       "14004                       No          No                   No   \n",
       "14005                       No          No                   No   \n",
       "\n",
       "      obligaciones_postconsumo reversion origen_de_los_recursos destino_gasto  \\\n",
       "0                           No        No       Recursos Propios     Inversión   \n",
       "1                           No        No       Recursos Propios     Inversión   \n",
       "2                           No        No       Recursos Propios     Inversión   \n",
       "3                           No        No       Recursos Propios     Inversión   \n",
       "4                           No        No       Recursos Propios     Inversión   \n",
       "...                        ...       ...                    ...           ...   \n",
       "14001                       No        No       Recursos Propios     Inversión   \n",
       "14002                       No        No       Recursos Propios     Inversión   \n",
       "14003                       No        No       Recursos Propios     Inversión   \n",
       "14004                       No        No       Recursos Propios     Inversión   \n",
       "14005                       No        No            Distribuido     Inversión   \n",
       "\n",
       "       valor_del_contrato  valor_de_pago_adelantado  valor_facturado  \\\n",
       "0                41461333                         0          4021333   \n",
       "1                11220000                         0          9460000   \n",
       "2                 5166667                         0          2666667   \n",
       "3                 9450000                         0                0   \n",
       "4                14850000                         0          8800000   \n",
       "...                   ...                       ...              ...   \n",
       "14001             5625000                         0          4583333   \n",
       "14002            49618000                         0                0   \n",
       "14003            24901334                         0         20608000   \n",
       "14004            22200000                         0          9800000   \n",
       "14005             9624575                         0                0   \n",
       "\n",
       "       valor_pendiente_de_pago  valor_pagado  valor_amortizado  \\\n",
       "0                     37440000       4021333                 0   \n",
       "1                      1760000       9460000                 0   \n",
       "2                      2500000       2666667                 0   \n",
       "3                      9450000             0                 0   \n",
       "4                      6050000       8800000                 0   \n",
       "...                        ...           ...               ...   \n",
       "14001                  1041667       4583333                 0   \n",
       "14002                 49618000             0                 0   \n",
       "14003                  4293334      20608000                 0   \n",
       "14004                 12400000       9800000                 0   \n",
       "14005                  9624575             0                 0   \n",
       "\n",
       "       valor_pendiente_de  valor_pendiente_de_ejecucion estado_bpin  \\\n",
       "0                       0                      37440000   No Válido   \n",
       "1                       0                       1760000   No Válido   \n",
       "2                       0                       2500000   No Válido   \n",
       "3                       0                       9450000   No Válido   \n",
       "4                       0                       6050000   No Válido   \n",
       "...                   ...                           ...         ...   \n",
       "14001                   0                       1041667   No Válido   \n",
       "14002                   0                      49618000   No Válido   \n",
       "14003                   0                       4293334   No Válido   \n",
       "14004                   0                      12400000   No Válido   \n",
       "14005                   0                       9624575   No Válido   \n",
       "\n",
       "       c_digo_bpin anno_bpin  saldo_cdp  saldo_vigencia espostconflicto  \\\n",
       "0      No Definido      No D   41600000               0              No   \n",
       "1      No Definido      No D  158400000               0              No   \n",
       "2      No Definido      2020  304083333               0              No   \n",
       "3      No Definido      2021  396900000               0              No   \n",
       "4      No Definido      No D   29700000               0              No   \n",
       "...            ...       ...        ...             ...             ...   \n",
       "14001  No Definido      2023   45000000               0              No   \n",
       "14002  No Definido      2021   63517878               0              No   \n",
       "14003  No Definido      No D   35420000               0              No   \n",
       "14004  No Definido      2023   23433333               0              No   \n",
       "14005  No Definido      No D  119074560               0              No   \n",
       "\n",
       "       dias_adicionados puntos_del_acuerdo pilares_del_acuerdo  \\\n",
       "0                     0          No aplica           No aplica   \n",
       "1                     0          No aplica           No aplica   \n",
       "2                     0          No aplica           No aplica   \n",
       "3                     0          No aplica           No aplica   \n",
       "4                     0          No aplica           No aplica   \n",
       "...                 ...                ...                 ...   \n",
       "14001                 0          No aplica           No aplica   \n",
       "14002                 0          No aplica           No aplica   \n",
       "14003                 0          No aplica           No aplica   \n",
       "14004                 0          No aplica           No aplica   \n",
       "14005                 0          No aplica           No aplica   \n",
       "\n",
       "                                              urlproceso  \\\n",
       "0      {'url': 'https://community.secop.gov.co/Public...   \n",
       "1      {'url': 'https://community.secop.gov.co/Public...   \n",
       "2      {'url': 'https://community.secop.gov.co/Public...   \n",
       "3      {'url': 'https://community.secop.gov.co/Public...   \n",
       "4      {'url': 'https://community.secop.gov.co/Public...   \n",
       "...                                                  ...   \n",
       "14001  {'url': 'https://community.secop.gov.co/Public...   \n",
       "14002  {'url': 'https://community.secop.gov.co/Public...   \n",
       "14003  {'url': 'https://community.secop.gov.co/Public...   \n",
       "14004  {'url': 'https://community.secop.gov.co/Public...   \n",
       "14005  {'url': 'https://community.secop.gov.co/Public...   \n",
       "\n",
       "              nombre_representante_legal nacionalidad_representante_legal  \\\n",
       "0         Maria Camila Jaramillo Taborda                               CO   \n",
       "1             hemerson marmolejo mercado                               CO   \n",
       "2         NORBEY DE JESUS AGUIRRE OCAMPO                               CO   \n",
       "3        Carlos Alberto Mosquera Cordoba                               CO   \n",
       "4             JOHN ALEXANDER URIBE RAMOS                               CO   \n",
       "...                                  ...                              ...   \n",
       "14001         Laura Vanessa Romero Umaña                               CO   \n",
       "14002     CLAUDIA MARCELA SERRANO SUAREZ                               CO   \n",
       "14003         Jesus Antonio Quitian Usma                               CO   \n",
       "14004           PEDRO NEL ROJAS OLIVEROS                               CO   \n",
       "14005  MARIA CENAIDA MARTINEZ HINESTROZA                               CO   \n",
       "\n",
       "          domicilio_representante_legal  \\\n",
       "0      Carrera 52 Número 51-19 apto 902   \n",
       "1                           No Definido   \n",
       "2                           No Definido   \n",
       "3                           No Definido   \n",
       "4                           No Definido   \n",
       "...                                 ...   \n",
       "14001              Cra 112 a # 136 a 19   \n",
       "14002                       No Definido   \n",
       "14003                    Calle 2 72B 70   \n",
       "14004                       No Definido   \n",
       "14005                       No Definido   \n",
       "\n",
       "      tipo_de_identificaci_n_representante_legal  \\\n",
       "0                           Cédula de Ciudadanía   \n",
       "1                           Cédula de Ciudadanía   \n",
       "2                                Sin Descripcion   \n",
       "3                           Cédula de Ciudadanía   \n",
       "4                           Cédula de Ciudadanía   \n",
       "...                                          ...   \n",
       "14001                       Cédula de Ciudadanía   \n",
       "14002                       Cédula de Ciudadanía   \n",
       "14003                       Cédula de Ciudadanía   \n",
       "14004                       Cédula de Ciudadanía   \n",
       "14005                            Sin Descripcion   \n",
       "\n",
       "      identificaci_n_representante_legal g_nero_representante_legal  \\\n",
       "0                             1020481709                   Femenino   \n",
       "1                             1039099329                No Definido   \n",
       "2                        Sin Descripcion                No Definido   \n",
       "3                             1027943668                No Definido   \n",
       "4                             1041147932                No Definido   \n",
       "...                                  ...                        ...   \n",
       "14001                         1233902468                   Femenino   \n",
       "14002                           30210450                   Femenino   \n",
       "14003                           79403844                No Definido   \n",
       "14004                         1015394471                No Definido   \n",
       "14005                    Sin Descripcion                No Definido   \n",
       "\n",
       "       presupuesto_general_de_la_nacion_pgn  \\\n",
       "0                                         0   \n",
       "1                                         0   \n",
       "2                                         0   \n",
       "3                                         0   \n",
       "4                                         0   \n",
       "...                                     ...   \n",
       "14001                                     0   \n",
       "14002                                     0   \n",
       "14003                                     0   \n",
       "14004                                     0   \n",
       "14005                                     0   \n",
       "\n",
       "       sistema_general_de_participaciones  sistema_general_de_regal_as  \\\n",
       "0                                       0                            0   \n",
       "1                                       0                            0   \n",
       "2                                       0                            0   \n",
       "3                                       0                            0   \n",
       "4                                       0                            0   \n",
       "...                                   ...                          ...   \n",
       "14001                                   0                            0   \n",
       "14002                                   0                            0   \n",
       "14003                                   0                            0   \n",
       "14004                                   0                            0   \n",
       "14005                                   0                            0   \n",
       "\n",
       "       recursos_propios_alcald_as_gobernaciones_y_resguardos_ind_genas_  \\\n",
       "0                                                      0                  \n",
       "1                                                      0                  \n",
       "2                                                      0                  \n",
       "3                                                      0                  \n",
       "4                                                      0                  \n",
       "...                                                  ...                  \n",
       "14001                                                  0                  \n",
       "14002                                                  0                  \n",
       "14003                                                  0                  \n",
       "14004                                                  0                  \n",
       "14005                                                  0                  \n",
       "\n",
       "       recursos_de_credito  recursos_propios  codigo_entidad  \\\n",
       "0                        0          41461333       704428523   \n",
       "1                        0          11220000       704428523   \n",
       "2                        0           5166667       704428523   \n",
       "3                        0           9450000       704428523   \n",
       "4                        0          14850000       704428523   \n",
       "...                    ...               ...             ...   \n",
       "14001                    0           5625000       701255226   \n",
       "14002                    0          49618000       701255226   \n",
       "14003                    0          24901334       701255226   \n",
       "14004                    0          22200000       701255226   \n",
       "14005              9624575                 0       701255226   \n",
       "\n",
       "       codigo_proveedor                                objeto_del_contrato  \\\n",
       "0             713215440  6-Prestar servicios profesionales para apoyar ...   \n",
       "1             723177309  Prestar servicios profesionales para el desarr...   \n",
       "2             710330432  Prestar servicios de apoyo a la gestión en la ...   \n",
       "3             710353962  Prestar servicios de apoyo en el componente de...   \n",
       "4             710373507  Prestar servicios profesionales para el desarr...   \n",
       "...                 ...                                                ...   \n",
       "14001         710323635  Prestar servicios de apoyo a la gestión en el ...   \n",
       "14002         708701040  Adquirir pendones y backings para la sede cent...   \n",
       "14003         708976733  Prestar servicios tecnológicos en el proceso d...   \n",
       "14004         711353037  Prestar los servicios profesionales para adela...   \n",
       "14005         711515940  Prestar servicios profesionales para orientar ...   \n",
       "\n",
       "          ultima_actualizacion fecha_de_inicio_de_ejecucion  \\\n",
       "0                          NaN                          NaN   \n",
       "1                          NaN                          NaN   \n",
       "2      2021-04-15T00:00:00.000                          NaN   \n",
       "3                          NaN                          NaN   \n",
       "4                          NaN                          NaN   \n",
       "...                        ...                          ...   \n",
       "14001  2020-09-18T00:00:00.000                          NaN   \n",
       "14002                      NaN                          NaN   \n",
       "14003                      NaN                          NaN   \n",
       "14004  2023-12-04T00:00:00.000                          NaN   \n",
       "14005                      NaN                          NaN   \n",
       "\n",
       "      fecha_de_fin_de_ejecucion fecha_inicio_liquidacion fecha_fin_liquidacion  \n",
       "0                           NaN                      NaN                   NaN  \n",
       "1                           NaN                      NaN                   NaN  \n",
       "2                           NaN                      NaN                   NaN  \n",
       "3                           NaN                      NaN                   NaN  \n",
       "4                           NaN                      NaN                   NaN  \n",
       "...                         ...                      ...                   ...  \n",
       "14001                       NaN                      NaN                   NaN  \n",
       "14002                       NaN                      NaN                   NaN  \n",
       "14003                       NaN                      NaN                   NaN  \n",
       "14004                       NaN                      NaN                   NaN  \n",
       "14005                       NaN                      NaN                   NaN  \n",
       "\n",
       "[14006 rows x 73 columns]"
      ]
     },
     "execution_count": 25,
     "metadata": {},
     "output_type": "execute_result"
    }
   ],
   "source": [
    "pd.set_option(\"display.max.columns\", 999)\n",
    "# Se cambia la configuración para ver los números de la forma 1.000.000\n",
    "pd.options.display.float_format = \"{:,.0f}\".format\n",
    "secop = pd.read_csv(ar)\n",
    "secop"
   ]
  },
  {
   "cell_type": "markdown",
   "metadata": {},
   "source": [
    "#### _Descripción de la base de datos_"
   ]
  },
  {
   "cell_type": "markdown",
   "metadata": {},
   "source": [
    "La base de datos tiene 14.006 contratos y 73 columnas"
   ]
  },
  {
   "cell_type": "code",
   "execution_count": 5,
   "metadata": {},
   "outputs": [
    {
     "data": {
      "text/plain": [
       "(14006, 73)"
      ]
     },
     "execution_count": 5,
     "metadata": {},
     "output_type": "execute_result"
    }
   ],
   "source": [
    "secop.shape"
   ]
  },
  {
   "cell_type": "markdown",
   "metadata": {},
   "source": [
    "La base de datos tiene 21 variables *numéricas* y 52 variables de *texto*. "
   ]
  },
  {
   "cell_type": "code",
   "execution_count": 6,
   "metadata": {},
   "outputs": [
    {
     "name": "stdout",
     "output_type": "stream",
     "text": [
      "<class 'pandas.core.frame.DataFrame'>\n",
      "RangeIndex: 14006 entries, 0 to 14005\n",
      "Data columns (total 73 columns):\n",
      " #   Column                                                            Non-Null Count  Dtype \n",
      "---  ------                                                            --------------  ----- \n",
      " 0   Unnamed: 0                                                        14006 non-null  int64 \n",
      " 1   nombre_entidad                                                    14006 non-null  object\n",
      " 2   nit_entidad                                                       14006 non-null  int64 \n",
      " 3   departamento                                                      14006 non-null  object\n",
      " 4   ciudad                                                            14006 non-null  object\n",
      " 5   localizaci_n                                                      14006 non-null  object\n",
      " 6   orden                                                             14006 non-null  object\n",
      " 7   sector                                                            14006 non-null  object\n",
      " 8   rama                                                              14006 non-null  object\n",
      " 9   entidad_centralizada                                              14006 non-null  object\n",
      " 10  proceso_de_compra                                                 13994 non-null  object\n",
      " 11  id_contrato                                                       14006 non-null  object\n",
      " 12  referencia_del_contrato                                           14006 non-null  object\n",
      " 13  estado_contrato                                                   14006 non-null  object\n",
      " 14  codigo_de_categoria_principal                                     14006 non-null  object\n",
      " 15  descripcion_del_proceso                                           14006 non-null  object\n",
      " 16  tipo_de_contrato                                                  14006 non-null  object\n",
      " 17  modalidad_de_contratacion                                         14006 non-null  object\n",
      " 18  justificacion_modalidad_de                                        14006 non-null  object\n",
      " 19  fecha_de_firma                                                    14006 non-null  object\n",
      " 20  fecha_de_inicio_del_contrato                                      13859 non-null  object\n",
      " 21  fecha_de_fin_del_contrato                                         14006 non-null  object\n",
      " 22  condiciones_de_entrega                                            14006 non-null  object\n",
      " 23  tipodocproveedor                                                  14006 non-null  object\n",
      " 24  documento_proveedor                                               14006 non-null  object\n",
      " 25  proveedor_adjudicado                                              14006 non-null  object\n",
      " 26  es_grupo                                                          14006 non-null  object\n",
      " 27  es_pyme                                                           14006 non-null  object\n",
      " 28  habilita_pago_adelantado                                          14006 non-null  object\n",
      " 29  liquidaci_n                                                       14006 non-null  object\n",
      " 30  obligaci_n_ambiental                                              14006 non-null  object\n",
      " 31  obligaciones_postconsumo                                          14006 non-null  object\n",
      " 32  reversion                                                         14006 non-null  object\n",
      " 33  origen_de_los_recursos                                            14006 non-null  object\n",
      " 34  destino_gasto                                                     14006 non-null  object\n",
      " 35  valor_del_contrato                                                14006 non-null  int64 \n",
      " 36  valor_de_pago_adelantado                                          14006 non-null  int64 \n",
      " 37  valor_facturado                                                   14006 non-null  int64 \n",
      " 38  valor_pendiente_de_pago                                           14006 non-null  int64 \n",
      " 39  valor_pagado                                                      14006 non-null  int64 \n",
      " 40  valor_amortizado                                                  14006 non-null  int64 \n",
      " 41  valor_pendiente_de                                                14006 non-null  int64 \n",
      " 42  valor_pendiente_de_ejecucion                                      14006 non-null  int64 \n",
      " 43  estado_bpin                                                       14006 non-null  object\n",
      " 44  c_digo_bpin                                                       14006 non-null  object\n",
      " 45  anno_bpin                                                         14006 non-null  object\n",
      " 46  saldo_cdp                                                         14006 non-null  int64 \n",
      " 47  saldo_vigencia                                                    14006 non-null  int64 \n",
      " 48  espostconflicto                                                   14006 non-null  object\n",
      " 49  dias_adicionados                                                  14006 non-null  int64 \n",
      " 50  puntos_del_acuerdo                                                14006 non-null  object\n",
      " 51  pilares_del_acuerdo                                               14006 non-null  object\n",
      " 52  urlproceso                                                        14006 non-null  object\n",
      " 53  nombre_representante_legal                                        14006 non-null  object\n",
      " 54  nacionalidad_representante_legal                                  14006 non-null  object\n",
      " 55  domicilio_representante_legal                                     14006 non-null  object\n",
      " 56  tipo_de_identificaci_n_representante_legal                        14006 non-null  object\n",
      " 57  identificaci_n_representante_legal                                14006 non-null  object\n",
      " 58  g_nero_representante_legal                                        14006 non-null  object\n",
      " 59  presupuesto_general_de_la_nacion_pgn                              14006 non-null  int64 \n",
      " 60  sistema_general_de_participaciones                                14006 non-null  int64 \n",
      " 61  sistema_general_de_regal_as                                       14006 non-null  int64 \n",
      " 62  recursos_propios_alcald_as_gobernaciones_y_resguardos_ind_genas_  14006 non-null  int64 \n",
      " 63  recursos_de_credito                                               14006 non-null  int64 \n",
      " 64  recursos_propios                                                  14006 non-null  int64 \n",
      " 65  codigo_entidad                                                    14006 non-null  int64 \n",
      " 66  codigo_proveedor                                                  14006 non-null  int64 \n",
      " 67  objeto_del_contrato                                               14006 non-null  object\n",
      " 68  ultima_actualizacion                                              6158 non-null   object\n",
      " 69  fecha_de_inicio_de_ejecucion                                      590 non-null    object\n",
      " 70  fecha_de_fin_de_ejecucion                                         590 non-null    object\n",
      " 71  fecha_inicio_liquidacion                                          140 non-null    object\n",
      " 72  fecha_fin_liquidacion                                             140 non-null    object\n",
      "dtypes: int64(21), object(52)\n",
      "memory usage: 7.8+ MB\n"
     ]
    }
   ],
   "source": [
    "secop.info()"
   ]
  },
  {
   "cell_type": "code",
   "execution_count": 7,
   "metadata": {},
   "outputs": [
    {
     "data": {
      "text/plain": [
       "Index(['Unnamed: 0', 'nombre_entidad', 'nit_entidad', 'departamento', 'ciudad',\n",
       "       'localizaci_n', 'orden', 'sector', 'rama', 'entidad_centralizada',\n",
       "       'proceso_de_compra', 'id_contrato', 'referencia_del_contrato',\n",
       "       'estado_contrato', 'codigo_de_categoria_principal',\n",
       "       'descripcion_del_proceso', 'tipo_de_contrato',\n",
       "       'modalidad_de_contratacion', 'justificacion_modalidad_de',\n",
       "       'fecha_de_firma', 'fecha_de_inicio_del_contrato',\n",
       "       'fecha_de_fin_del_contrato', 'condiciones_de_entrega',\n",
       "       'tipodocproveedor', 'documento_proveedor', 'proveedor_adjudicado',\n",
       "       'es_grupo', 'es_pyme', 'habilita_pago_adelantado', 'liquidaci_n',\n",
       "       'obligaci_n_ambiental', 'obligaciones_postconsumo', 'reversion',\n",
       "       'origen_de_los_recursos', 'destino_gasto', 'valor_del_contrato',\n",
       "       'valor_de_pago_adelantado', 'valor_facturado',\n",
       "       'valor_pendiente_de_pago', 'valor_pagado', 'valor_amortizado',\n",
       "       'valor_pendiente_de', 'valor_pendiente_de_ejecucion', 'estado_bpin',\n",
       "       'c_digo_bpin', 'anno_bpin', 'saldo_cdp', 'saldo_vigencia',\n",
       "       'espostconflicto', 'dias_adicionados', 'puntos_del_acuerdo',\n",
       "       'pilares_del_acuerdo', 'urlproceso', 'nombre_representante_legal',\n",
       "       'nacionalidad_representante_legal', 'domicilio_representante_legal',\n",
       "       'tipo_de_identificaci_n_representante_legal',\n",
       "       'identificaci_n_representante_legal', 'g_nero_representante_legal',\n",
       "       'presupuesto_general_de_la_nacion_pgn',\n",
       "       'sistema_general_de_participaciones', 'sistema_general_de_regal_as',\n",
       "       'recursos_propios_alcald_as_gobernaciones_y_resguardos_ind_genas_',\n",
       "       'recursos_de_credito', 'recursos_propios', 'codigo_entidad',\n",
       "       'codigo_proveedor', 'objeto_del_contrato', 'ultima_actualizacion',\n",
       "       'fecha_de_inicio_de_ejecucion', 'fecha_de_fin_de_ejecucion',\n",
       "       'fecha_inicio_liquidacion', 'fecha_fin_liquidacion'],\n",
       "      dtype='object')"
      ]
     },
     "execution_count": 7,
     "metadata": {},
     "output_type": "execute_result"
    }
   ],
   "source": [
    "secop.columns"
   ]
  },
  {
   "cell_type": "markdown",
   "metadata": {},
   "source": [
    "#### _Limpieza de la base de datos_"
   ]
  },
  {
   "cell_type": "markdown",
   "metadata": {},
   "source": [
    "_Arreglo de fechas_"
   ]
  },
  {
   "cell_type": "code",
   "execution_count": 8,
   "metadata": {},
   "outputs": [],
   "source": [
    "# Lista de columnas para convertir a datetime\n",
    "columnas_fecha = ['fecha_de_firma', 'fecha_de_inicio_del_contrato', 'fecha_de_fin_del_contrato',\n",
    "                  'fecha_de_inicio_de_ejecucion', 'fecha_de_fin_de_ejecucion', \n",
    "                  'fecha_inicio_liquidacion', 'fecha_fin_liquidacion']\n",
    "\n",
    "# Iterar sobre cada columna y aplicar la transformación\n",
    "for col in columnas_fecha:\n",
    "    secop[col] = secop[col].str.split('T').str[0]\n",
    "    secop[col] = pd.to_datetime(secop[col], format='%Y-%m-%d', errors='coerce')"
   ]
  },
  {
   "cell_type": "markdown",
   "metadata": {},
   "source": [
    "_Extraer el año_"
   ]
  },
  {
   "cell_type": "code",
   "execution_count": 18,
   "metadata": {},
   "outputs": [],
   "source": [
    "columnas_fecha = [\n",
    "    'fecha_de_firma', 'fecha_de_inicio_del_contrato', 'fecha_de_fin_del_contrato',\n",
    "    'fecha_de_inicio_de_ejecucion', 'fecha_de_fin_de_ejecucion',\n",
    "    'fecha_inicio_liquidacion', 'fecha_fin_liquidacion'\n",
    "]\n",
    "\n",
    "# Asegurar que las columnas de fecha son del tipo datetime\n",
    "for col in columnas_fecha:\n",
    "    secop[col] = pd.to_datetime(secop[col], errors='coerce')\n",
    "\n",
    "# Crear nuevas columnas para el año\n",
    "for col in columnas_fecha:\n",
    "    secop[f'ano_{col}'] = secop[col].dt.year"
   ]
  },
  {
   "cell_type": "markdown",
   "metadata": {},
   "source": [
    "_Semestre_"
   ]
  },
  {
   "cell_type": "code",
   "execution_count": 19,
   "metadata": {},
   "outputs": [],
   "source": [
    "import pandas as pd\n",
    "\n",
    "# Asegurándonos de que 'fecha_de_firma' esté en formato datetime\n",
    "secop['fecha_de_firma'] = pd.to_datetime(secop['fecha_de_firma'])\n",
    "\n",
    "# Crear la columna 'periodo' con la lógica condicional\n",
    "secop['periodo'] = secop['fecha_de_firma'].apply(lambda x: 1 if x.month < 7 or (x.month == 7 and x.day <= 31) else 2)\n"
   ]
  },
  {
   "cell_type": "code",
   "execution_count": 20,
   "metadata": {},
   "outputs": [],
   "source": [
    "# Primero, convertir ambas columnas a tipo de dato string (cadena de texto)\n",
    "secop['ano_fecha_de_firma_str'] = secop['ano_fecha_de_firma'].astype(str)\n",
    "secop['periodo_str'] = secop['periodo'].astype(str)\n",
    "\n",
    "# Ahora, crear la nueva columna 'periodo' concatenando las dos cadenas con un guion entre ellas\n",
    "secop['periodo_ano'] = secop['ano_fecha_de_firma_str'] + \"-\" + secop['periodo_str']"
   ]
  },
  {
   "cell_type": "code",
   "execution_count": 22,
   "metadata": {},
   "outputs": [
    {
     "name": "stdout",
     "output_type": "stream",
     "text": [
      "category\n",
      "  periodo_ano  count\n",
      "0      2023-1   2454\n",
      "1      2022-1   2381\n",
      "2      2021-1   2168\n",
      "3      2020-2   1833\n",
      "4      2024-1   1426\n",
      "5      2021-2   1171\n",
      "6      2023-2   1146\n",
      "7      2020-1    791\n",
      "8      2022-2    636\n"
     ]
    }
   ],
   "source": [
    "# Contar el número de ocurrencias de cada valor único en la columna 'periodo'\n",
    "conteo_periodo = secop['periodo_ano'].value_counts()\n",
    "\n",
    "# Convertir el conteo en un DataFrame para una mejor visualización\n",
    "tabla_conteo_periodo = conteo_periodo.reset_index().rename(columns={'index': 'Periodo', 'periodo': 'Conteo'})\n",
    "\n",
    "# Convertir la columna 'periodo_ano' a tipo categórico\n",
    "secop['periodo_ano'] = secop['periodo_ano'].astype('category')\n",
    "\n",
    "# Verificar el cambio de tipo de dato\n",
    "print(secop['periodo_ano'].dtypes)\n",
    "\n",
    "# Mostrar la tabla de conteo\n",
    "print(tabla_conteo_periodo)"
   ]
  },
  {
   "cell_type": "markdown",
   "metadata": {},
   "source": [
    "_Dirección Territorial_"
   ]
  },
  {
   "cell_type": "code",
   "execution_count": 40,
   "metadata": {},
   "outputs": [],
   "source": [
    "mapeo_nit_entidad = {\n",
    "    899999054: \"Sede_Principal_ESAP\",\n",
    "    800117519: \"Antioquia\",\n",
    "    800117522: \"Atlántico_Cesar_Magdalena_La_Guajira\",\n",
    "    800248529: \"Bolivar_Córdoba_Sucre_San Andrés\",\n",
    "    800117524: \"Boyacá_Casanare\",\n",
    "    800117525: \"Caldas\",\n",
    "    800117537: \"Cauca\",\n",
    "    830011682: \"Cundinamarca\",\n",
    "    813006956: \"Huila_Caquetá_Putumayo\",\n",
    "    800117530: \"Meta_Guainía_Guaviare_Vaupés_Vichada_Amazonas\",\n",
    "    800117534: \"Nariño_Alto Putumayo\",\n",
    "    800145876: \"Norte_Santander - Arauca\",\n",
    "    800117537: \"Quindío_Risaralda\",\n",
    "    800117540: \"Santander\",\n",
    "    800117541: \"Tolima\",\n",
    "    800117545: \"Valle\"\n",
    "}"
   ]
  },
  {
   "cell_type": "code",
   "execution_count": 41,
   "metadata": {},
   "outputs": [],
   "source": [
    "secop['nombre_sede'] = secop['nit_entidad'].apply(lambda x: mapeo_nit_entidad.get(x, 'Otro'))"
   ]
  },
  {
   "cell_type": "code",
   "execution_count": 42,
   "metadata": {},
   "outputs": [
    {
     "name": "stdout",
     "output_type": "stream",
     "text": [
      "                                           Conteo  count\n",
      "0                             Sede_Principal_ESAP   5861\n",
      "1                Bolivar_Córdoba_Sucre_San Andrés    736\n",
      "2                            Nariño_Alto Putumayo    634\n",
      "3                          Huila_Caquetá_Putumayo    607\n",
      "4                                    Cundinamarca    604\n",
      "5   Meta_Guainía_Guaviare_Vaupés_Vichada_Amazonas    602\n",
      "6                                       Antioquia    598\n",
      "7            Atlántico_Cesar_Magdalena_La_Guajira    561\n",
      "8                        Norte_Santander - Arauca    550\n",
      "9                                 Boyacá_Casanare    539\n",
      "10                                           Otro    497\n",
      "11                                         Caldas    470\n",
      "12                                      Santander    463\n",
      "13                              Quindío_Risaralda    454\n",
      "14                                         Tolima    424\n",
      "15                                          Valle    406\n"
     ]
    }
   ],
   "source": [
    "# Contar el número de ocurrencias de cada valor único en la columna 'nombre_sede'\n",
    "conteo_nombre_sede = secop['nombre_sede'].value_counts()\n",
    "\n",
    "# Convertir el conteo en un DataFrame para una mejor visualización\n",
    "tabla_conteo_nombre_sede = conteo_nombre_sede.reset_index().rename(columns={'index': 'Nombre_Sede', 'nombre_sede': 'Conteo'})\n",
    "\n",
    "# Mostrar la tabla de conteo\n",
    "print(tabla_conteo_nombre_sede)"
   ]
  },
  {
   "cell_type": "markdown",
   "metadata": {},
   "source": [
    "#### _Análisis exploratorio_"
   ]
  },
  {
   "cell_type": "markdown",
   "metadata": {},
   "source": [
    "##### _Estadísticas descriptivas_"
   ]
  },
  {
   "cell_type": "code",
   "execution_count": 23,
   "metadata": {},
   "outputs": [
    {
     "data": {
      "text/html": [
       "<div>\n",
       "<style scoped>\n",
       "    .dataframe tbody tr th:only-of-type {\n",
       "        vertical-align: middle;\n",
       "    }\n",
       "\n",
       "    .dataframe tbody tr th {\n",
       "        vertical-align: top;\n",
       "    }\n",
       "\n",
       "    .dataframe thead th {\n",
       "        text-align: right;\n",
       "    }\n",
       "</style>\n",
       "<table border=\"1\" class=\"dataframe\">\n",
       "  <thead>\n",
       "    <tr style=\"text-align: right;\">\n",
       "      <th></th>\n",
       "      <th>Unnamed: 0</th>\n",
       "      <th>nit_entidad</th>\n",
       "      <th>fecha_de_firma</th>\n",
       "      <th>fecha_de_inicio_del_contrato</th>\n",
       "      <th>fecha_de_fin_del_contrato</th>\n",
       "      <th>valor_del_contrato</th>\n",
       "      <th>valor_de_pago_adelantado</th>\n",
       "      <th>valor_facturado</th>\n",
       "      <th>valor_pendiente_de_pago</th>\n",
       "      <th>valor_pagado</th>\n",
       "      <th>valor_amortizado</th>\n",
       "      <th>valor_pendiente_de</th>\n",
       "      <th>valor_pendiente_de_ejecucion</th>\n",
       "      <th>saldo_cdp</th>\n",
       "      <th>saldo_vigencia</th>\n",
       "      <th>dias_adicionados</th>\n",
       "      <th>presupuesto_general_de_la_nacion_pgn</th>\n",
       "      <th>sistema_general_de_participaciones</th>\n",
       "      <th>sistema_general_de_regal_as</th>\n",
       "      <th>recursos_propios_alcald_as_gobernaciones_y_resguardos_ind_genas_</th>\n",
       "      <th>recursos_de_credito</th>\n",
       "      <th>recursos_propios</th>\n",
       "      <th>codigo_entidad</th>\n",
       "      <th>codigo_proveedor</th>\n",
       "      <th>fecha_de_inicio_de_ejecucion</th>\n",
       "      <th>fecha_de_fin_de_ejecucion</th>\n",
       "      <th>fecha_inicio_liquidacion</th>\n",
       "      <th>fecha_fin_liquidacion</th>\n",
       "      <th>ano_fecha_de_firma</th>\n",
       "      <th>ano_fecha_de_inicio_del_contrato</th>\n",
       "      <th>ano_fecha_de_fin_del_contrato</th>\n",
       "      <th>ano_fecha_de_inicio_de_ejecucion</th>\n",
       "      <th>ano_fecha_de_fin_de_ejecucion</th>\n",
       "      <th>ano_fecha_inicio_liquidacion</th>\n",
       "      <th>ano_fecha_fin_liquidacion</th>\n",
       "    </tr>\n",
       "  </thead>\n",
       "  <tbody>\n",
       "    <tr>\n",
       "      <th>count</th>\n",
       "      <td>14,006</td>\n",
       "      <td>14,006</td>\n",
       "      <td>14006</td>\n",
       "      <td>13859</td>\n",
       "      <td>14006</td>\n",
       "      <td>14,006</td>\n",
       "      <td>14,006</td>\n",
       "      <td>14,006</td>\n",
       "      <td>14,006</td>\n",
       "      <td>14,006</td>\n",
       "      <td>14,006</td>\n",
       "      <td>14,006</td>\n",
       "      <td>14,006</td>\n",
       "      <td>14,006</td>\n",
       "      <td>14,006</td>\n",
       "      <td>14,006</td>\n",
       "      <td>14,006</td>\n",
       "      <td>14,006</td>\n",
       "      <td>14,006</td>\n",
       "      <td>14,006</td>\n",
       "      <td>14,006</td>\n",
       "      <td>14,006</td>\n",
       "      <td>14,006</td>\n",
       "      <td>14,006</td>\n",
       "      <td>590</td>\n",
       "      <td>590</td>\n",
       "      <td>140</td>\n",
       "      <td>140</td>\n",
       "      <td>14,006</td>\n",
       "      <td>13,859</td>\n",
       "      <td>14,006</td>\n",
       "      <td>590</td>\n",
       "      <td>590</td>\n",
       "      <td>140</td>\n",
       "      <td>140</td>\n",
       "    </tr>\n",
       "    <tr>\n",
       "      <th>mean</th>\n",
       "      <td>7,002</td>\n",
       "      <td>843,770,077</td>\n",
       "      <td>2022-03-28 14:34:19.345994752</td>\n",
       "      <td>2022-03-29 17:50:37.362003200</td>\n",
       "      <td>2022-11-02 15:50:55.090675456</td>\n",
       "      <td>44,581,422</td>\n",
       "      <td>188,643</td>\n",
       "      <td>9,240,378</td>\n",
       "      <td>36,927,880</td>\n",
       "      <td>7,648,844</td>\n",
       "      <td>0</td>\n",
       "      <td>188,643</td>\n",
       "      <td>36,932,578</td>\n",
       "      <td>125,953,767</td>\n",
       "      <td>5,653,117</td>\n",
       "      <td>5</td>\n",
       "      <td>6,803,419</td>\n",
       "      <td>0</td>\n",
       "      <td>0</td>\n",
       "      <td>725,587</td>\n",
       "      <td>24,580</td>\n",
       "      <td>31,619,619</td>\n",
       "      <td>703,134,564</td>\n",
       "      <td>710,829,768</td>\n",
       "      <td>2020-02-13 21:21:21.355932160</td>\n",
       "      <td>2020-12-06 12:24:24.406779648</td>\n",
       "      <td>2023-11-11 23:39:25.714285824</td>\n",
       "      <td>2024-07-25 19:12:00</td>\n",
       "      <td>2,022</td>\n",
       "      <td>2,022</td>\n",
       "      <td>2,022</td>\n",
       "      <td>2,020</td>\n",
       "      <td>2,020</td>\n",
       "      <td>2,023</td>\n",
       "      <td>2,024</td>\n",
       "    </tr>\n",
       "    <tr>\n",
       "      <th>min</th>\n",
       "      <td>0</td>\n",
       "      <td>800,117,519</td>\n",
       "      <td>2020-01-02 00:00:00</td>\n",
       "      <td>2020-01-01 00:00:00</td>\n",
       "      <td>2020-01-11 00:00:00</td>\n",
       "      <td>0</td>\n",
       "      <td>0</td>\n",
       "      <td>0</td>\n",
       "      <td>-1,109,333</td>\n",
       "      <td>0</td>\n",
       "      <td>0</td>\n",
       "      <td>0</td>\n",
       "      <td>-1,109,333</td>\n",
       "      <td>0</td>\n",
       "      <td>0</td>\n",
       "      <td>0</td>\n",
       "      <td>0</td>\n",
       "      <td>0</td>\n",
       "      <td>0</td>\n",
       "      <td>0</td>\n",
       "      <td>0</td>\n",
       "      <td>0</td>\n",
       "      <td>701,255,226</td>\n",
       "      <td>0</td>\n",
       "      <td>2020-01-03 00:00:00</td>\n",
       "      <td>2020-01-11 00:00:00</td>\n",
       "      <td>2020-03-17 00:00:00</td>\n",
       "      <td>2020-05-28 00:00:00</td>\n",
       "      <td>2,020</td>\n",
       "      <td>2,020</td>\n",
       "      <td>2,020</td>\n",
       "      <td>2,020</td>\n",
       "      <td>2,020</td>\n",
       "      <td>2,020</td>\n",
       "      <td>2,020</td>\n",
       "    </tr>\n",
       "    <tr>\n",
       "      <th>25%</th>\n",
       "      <td>3,501</td>\n",
       "      <td>800,117,534</td>\n",
       "      <td>2021-03-31 00:00:00</td>\n",
       "      <td>2021-04-07 00:00:00</td>\n",
       "      <td>2021-12-07 00:00:00</td>\n",
       "      <td>7,570,899</td>\n",
       "      <td>0</td>\n",
       "      <td>0</td>\n",
       "      <td>3,105,000</td>\n",
       "      <td>0</td>\n",
       "      <td>0</td>\n",
       "      <td>0</td>\n",
       "      <td>3,105,000</td>\n",
       "      <td>9,630,000</td>\n",
       "      <td>0</td>\n",
       "      <td>0</td>\n",
       "      <td>0</td>\n",
       "      <td>0</td>\n",
       "      <td>0</td>\n",
       "      <td>0</td>\n",
       "      <td>0</td>\n",
       "      <td>5,500,000</td>\n",
       "      <td>701,255,226</td>\n",
       "      <td>705,778,272</td>\n",
       "      <td>2020-01-23 00:00:00</td>\n",
       "      <td>2020-12-28 00:00:00</td>\n",
       "      <td>2023-08-20 12:00:00</td>\n",
       "      <td>2023-12-29 00:00:00</td>\n",
       "      <td>2,021</td>\n",
       "      <td>2,021</td>\n",
       "      <td>2,021</td>\n",
       "      <td>2,020</td>\n",
       "      <td>2,020</td>\n",
       "      <td>2,023</td>\n",
       "      <td>2,023</td>\n",
       "    </tr>\n",
       "    <tr>\n",
       "      <th>50%</th>\n",
       "      <td>7,002</td>\n",
       "      <td>813,006,956</td>\n",
       "      <td>2022-01-26 00:00:00</td>\n",
       "      <td>2022-01-28 00:00:00</td>\n",
       "      <td>2022-09-25 00:00:00</td>\n",
       "      <td>16,086,666</td>\n",
       "      <td>0</td>\n",
       "      <td>0</td>\n",
       "      <td>10,006,667</td>\n",
       "      <td>0</td>\n",
       "      <td>0</td>\n",
       "      <td>0</td>\n",
       "      <td>10,006,667</td>\n",
       "      <td>25,684,560</td>\n",
       "      <td>0</td>\n",
       "      <td>0</td>\n",
       "      <td>0</td>\n",
       "      <td>0</td>\n",
       "      <td>0</td>\n",
       "      <td>0</td>\n",
       "      <td>0</td>\n",
       "      <td>12,264,750</td>\n",
       "      <td>704,371,061</td>\n",
       "      <td>710,658,172</td>\n",
       "      <td>2020-02-13 00:00:00</td>\n",
       "      <td>2020-12-31 00:00:00</td>\n",
       "      <td>2023-12-26 12:00:00</td>\n",
       "      <td>2024-04-20 00:00:00</td>\n",
       "      <td>2,022</td>\n",
       "      <td>2,022</td>\n",
       "      <td>2,022</td>\n",
       "      <td>2,020</td>\n",
       "      <td>2,020</td>\n",
       "      <td>2,023</td>\n",
       "      <td>2,024</td>\n",
       "    </tr>\n",
       "    <tr>\n",
       "      <th>75%</th>\n",
       "      <td>10,504</td>\n",
       "      <td>899,999,054</td>\n",
       "      <td>2023-05-05 00:00:00</td>\n",
       "      <td>2023-05-05 00:00:00</td>\n",
       "      <td>2023-12-30 00:00:00</td>\n",
       "      <td>34,990,525</td>\n",
       "      <td>0</td>\n",
       "      <td>5,600,000</td>\n",
       "      <td>26,655,657</td>\n",
       "      <td>3,330,800</td>\n",
       "      <td>0</td>\n",
       "      <td>0</td>\n",
       "      <td>26,694,181</td>\n",
       "      <td>60,260,000</td>\n",
       "      <td>0</td>\n",
       "      <td>0</td>\n",
       "      <td>0</td>\n",
       "      <td>0</td>\n",
       "      <td>0</td>\n",
       "      <td>0</td>\n",
       "      <td>0</td>\n",
       "      <td>31,157,000</td>\n",
       "      <td>704,616,416</td>\n",
       "      <td>714,997,258</td>\n",
       "      <td>2020-02-29 00:00:00</td>\n",
       "      <td>2021-01-01 00:00:00</td>\n",
       "      <td>2024-01-02 00:00:00</td>\n",
       "      <td>2025-01-01 06:00:00</td>\n",
       "      <td>2,023</td>\n",
       "      <td>2,023</td>\n",
       "      <td>2,023</td>\n",
       "      <td>2,020</td>\n",
       "      <td>2,021</td>\n",
       "      <td>2,024</td>\n",
       "      <td>2,025</td>\n",
       "    </tr>\n",
       "    <tr>\n",
       "      <th>max</th>\n",
       "      <td>14,005</td>\n",
       "      <td>899,999,054</td>\n",
       "      <td>2024-04-02 00:00:00</td>\n",
       "      <td>2024-04-03 00:00:00</td>\n",
       "      <td>2033-09-05 00:00:00</td>\n",
       "      <td>37,085,946,644</td>\n",
       "      <td>992,145,291</td>\n",
       "      <td>5,431,978,076</td>\n",
       "      <td>37,085,946,644</td>\n",
       "      <td>4,066,064,668</td>\n",
       "      <td>0</td>\n",
       "      <td>992,145,291</td>\n",
       "      <td>37,085,946,644</td>\n",
       "      <td>25,975,030,735</td>\n",
       "      <td>24,753,469,302</td>\n",
       "      <td>953</td>\n",
       "      <td>37,085,946,644</td>\n",
       "      <td>0</td>\n",
       "      <td>0</td>\n",
       "      <td>7,802,190,159</td>\n",
       "      <td>109,729,667</td>\n",
       "      <td>10,468,565,474</td>\n",
       "      <td>704,901,107</td>\n",
       "      <td>725,844,302</td>\n",
       "      <td>2020-12-31 00:00:00</td>\n",
       "      <td>2025-04-17 00:00:00</td>\n",
       "      <td>2028-05-05 00:00:00</td>\n",
       "      <td>2029-05-13 00:00:00</td>\n",
       "      <td>2,024</td>\n",
       "      <td>2,024</td>\n",
       "      <td>2,033</td>\n",
       "      <td>2,020</td>\n",
       "      <td>2,025</td>\n",
       "      <td>2,028</td>\n",
       "      <td>2,029</td>\n",
       "    </tr>\n",
       "    <tr>\n",
       "      <th>std</th>\n",
       "      <td>4,043</td>\n",
       "      <td>48,115,336</td>\n",
       "      <td>NaN</td>\n",
       "      <td>NaN</td>\n",
       "      <td>NaN</td>\n",
       "      <td>474,892,179</td>\n",
       "      <td>11,253,695</td>\n",
       "      <td>79,668,421</td>\n",
       "      <td>465,110,361</td>\n",
       "      <td>53,370,937</td>\n",
       "      <td>0</td>\n",
       "      <td>11,253,695</td>\n",
       "      <td>465,110,324</td>\n",
       "      <td>494,509,776</td>\n",
       "      <td>261,713,111</td>\n",
       "      <td>21</td>\n",
       "      <td>335,973,549</td>\n",
       "      <td>0</td>\n",
       "      <td>0</td>\n",
       "      <td>65,972,544</td>\n",
       "      <td>1,184,323</td>\n",
       "      <td>203,762,785</td>\n",
       "      <td>1,620,921</td>\n",
       "      <td>12,043,759</td>\n",
       "      <td>NaN</td>\n",
       "      <td>NaN</td>\n",
       "      <td>NaN</td>\n",
       "      <td>NaN</td>\n",
       "      <td>1</td>\n",
       "      <td>1</td>\n",
       "      <td>2</td>\n",
       "      <td>0</td>\n",
       "      <td>1</td>\n",
       "      <td>2</td>\n",
       "      <td>2</td>\n",
       "    </tr>\n",
       "  </tbody>\n",
       "</table>\n",
       "</div>"
      ],
      "text/plain": [
       "       Unnamed: 0  nit_entidad                 fecha_de_firma  \\\n",
       "count      14,006       14,006                          14006   \n",
       "mean        7,002  843,770,077  2022-03-28 14:34:19.345994752   \n",
       "min             0  800,117,519            2020-01-02 00:00:00   \n",
       "25%         3,501  800,117,534            2021-03-31 00:00:00   \n",
       "50%         7,002  813,006,956            2022-01-26 00:00:00   \n",
       "75%        10,504  899,999,054            2023-05-05 00:00:00   \n",
       "max        14,005  899,999,054            2024-04-02 00:00:00   \n",
       "std         4,043   48,115,336                            NaN   \n",
       "\n",
       "        fecha_de_inicio_del_contrato      fecha_de_fin_del_contrato  \\\n",
       "count                          13859                          14006   \n",
       "mean   2022-03-29 17:50:37.362003200  2022-11-02 15:50:55.090675456   \n",
       "min              2020-01-01 00:00:00            2020-01-11 00:00:00   \n",
       "25%              2021-04-07 00:00:00            2021-12-07 00:00:00   \n",
       "50%              2022-01-28 00:00:00            2022-09-25 00:00:00   \n",
       "75%              2023-05-05 00:00:00            2023-12-30 00:00:00   \n",
       "max              2024-04-03 00:00:00            2033-09-05 00:00:00   \n",
       "std                              NaN                            NaN   \n",
       "\n",
       "       valor_del_contrato  valor_de_pago_adelantado  valor_facturado  \\\n",
       "count              14,006                    14,006           14,006   \n",
       "mean           44,581,422                   188,643        9,240,378   \n",
       "min                     0                         0                0   \n",
       "25%             7,570,899                         0                0   \n",
       "50%            16,086,666                         0                0   \n",
       "75%            34,990,525                         0        5,600,000   \n",
       "max        37,085,946,644               992,145,291    5,431,978,076   \n",
       "std           474,892,179                11,253,695       79,668,421   \n",
       "\n",
       "       valor_pendiente_de_pago  valor_pagado  valor_amortizado  \\\n",
       "count                   14,006        14,006            14,006   \n",
       "mean                36,927,880     7,648,844                 0   \n",
       "min                 -1,109,333             0                 0   \n",
       "25%                  3,105,000             0                 0   \n",
       "50%                 10,006,667             0                 0   \n",
       "75%                 26,655,657     3,330,800                 0   \n",
       "max             37,085,946,644 4,066,064,668                 0   \n",
       "std                465,110,361    53,370,937                 0   \n",
       "\n",
       "       valor_pendiente_de  valor_pendiente_de_ejecucion      saldo_cdp  \\\n",
       "count              14,006                        14,006         14,006   \n",
       "mean              188,643                    36,932,578    125,953,767   \n",
       "min                     0                    -1,109,333              0   \n",
       "25%                     0                     3,105,000      9,630,000   \n",
       "50%                     0                    10,006,667     25,684,560   \n",
       "75%                     0                    26,694,181     60,260,000   \n",
       "max           992,145,291                37,085,946,644 25,975,030,735   \n",
       "std            11,253,695                   465,110,324    494,509,776   \n",
       "\n",
       "       saldo_vigencia  dias_adicionados  presupuesto_general_de_la_nacion_pgn  \\\n",
       "count          14,006            14,006                                14,006   \n",
       "mean        5,653,117                 5                             6,803,419   \n",
       "min                 0                 0                                     0   \n",
       "25%                 0                 0                                     0   \n",
       "50%                 0                 0                                     0   \n",
       "75%                 0                 0                                     0   \n",
       "max    24,753,469,302               953                        37,085,946,644   \n",
       "std       261,713,111                21                           335,973,549   \n",
       "\n",
       "       sistema_general_de_participaciones  sistema_general_de_regal_as  \\\n",
       "count                              14,006                       14,006   \n",
       "mean                                    0                            0   \n",
       "min                                     0                            0   \n",
       "25%                                     0                            0   \n",
       "50%                                     0                            0   \n",
       "75%                                     0                            0   \n",
       "max                                     0                            0   \n",
       "std                                     0                            0   \n",
       "\n",
       "       recursos_propios_alcald_as_gobernaciones_y_resguardos_ind_genas_  \\\n",
       "count                                             14,006                  \n",
       "mean                                             725,587                  \n",
       "min                                                    0                  \n",
       "25%                                                    0                  \n",
       "50%                                                    0                  \n",
       "75%                                                    0                  \n",
       "max                                        7,802,190,159                  \n",
       "std                                           65,972,544                  \n",
       "\n",
       "       recursos_de_credito  recursos_propios  codigo_entidad  \\\n",
       "count               14,006            14,006          14,006   \n",
       "mean                24,580        31,619,619     703,134,564   \n",
       "min                      0                 0     701,255,226   \n",
       "25%                      0         5,500,000     701,255,226   \n",
       "50%                      0        12,264,750     704,371,061   \n",
       "75%                      0        31,157,000     704,616,416   \n",
       "max            109,729,667    10,468,565,474     704,901,107   \n",
       "std              1,184,323       203,762,785       1,620,921   \n",
       "\n",
       "       codigo_proveedor   fecha_de_inicio_de_ejecucion  \\\n",
       "count            14,006                            590   \n",
       "mean        710,829,768  2020-02-13 21:21:21.355932160   \n",
       "min                   0            2020-01-03 00:00:00   \n",
       "25%         705,778,272            2020-01-23 00:00:00   \n",
       "50%         710,658,172            2020-02-13 00:00:00   \n",
       "75%         714,997,258            2020-02-29 00:00:00   \n",
       "max         725,844,302            2020-12-31 00:00:00   \n",
       "std          12,043,759                            NaN   \n",
       "\n",
       "           fecha_de_fin_de_ejecucion       fecha_inicio_liquidacion  \\\n",
       "count                            590                            140   \n",
       "mean   2020-12-06 12:24:24.406779648  2023-11-11 23:39:25.714285824   \n",
       "min              2020-01-11 00:00:00            2020-03-17 00:00:00   \n",
       "25%              2020-12-28 00:00:00            2023-08-20 12:00:00   \n",
       "50%              2020-12-31 00:00:00            2023-12-26 12:00:00   \n",
       "75%              2021-01-01 00:00:00            2024-01-02 00:00:00   \n",
       "max              2025-04-17 00:00:00            2028-05-05 00:00:00   \n",
       "std                              NaN                            NaN   \n",
       "\n",
       "      fecha_fin_liquidacion  ano_fecha_de_firma  \\\n",
       "count                   140              14,006   \n",
       "mean    2024-07-25 19:12:00               2,022   \n",
       "min     2020-05-28 00:00:00               2,020   \n",
       "25%     2023-12-29 00:00:00               2,021   \n",
       "50%     2024-04-20 00:00:00               2,022   \n",
       "75%     2025-01-01 06:00:00               2,023   \n",
       "max     2029-05-13 00:00:00               2,024   \n",
       "std                     NaN                   1   \n",
       "\n",
       "       ano_fecha_de_inicio_del_contrato  ano_fecha_de_fin_del_contrato  \\\n",
       "count                            13,859                         14,006   \n",
       "mean                              2,022                          2,022   \n",
       "min                               2,020                          2,020   \n",
       "25%                               2,021                          2,021   \n",
       "50%                               2,022                          2,022   \n",
       "75%                               2,023                          2,023   \n",
       "max                               2,024                          2,033   \n",
       "std                                   1                              2   \n",
       "\n",
       "       ano_fecha_de_inicio_de_ejecucion  ano_fecha_de_fin_de_ejecucion  \\\n",
       "count                               590                            590   \n",
       "mean                              2,020                          2,020   \n",
       "min                               2,020                          2,020   \n",
       "25%                               2,020                          2,020   \n",
       "50%                               2,020                          2,020   \n",
       "75%                               2,020                          2,021   \n",
       "max                               2,020                          2,025   \n",
       "std                                   0                              1   \n",
       "\n",
       "       ano_fecha_inicio_liquidacion  ano_fecha_fin_liquidacion  \n",
       "count                           140                        140  \n",
       "mean                          2,023                      2,024  \n",
       "min                           2,020                      2,020  \n",
       "25%                           2,023                      2,023  \n",
       "50%                           2,023                      2,024  \n",
       "75%                           2,024                      2,025  \n",
       "max                           2,028                      2,029  \n",
       "std                               2                          2  "
      ]
     },
     "execution_count": 23,
     "metadata": {},
     "output_type": "execute_result"
    }
   ],
   "source": [
    "secop.describe()"
   ]
  },
  {
   "cell_type": "markdown",
   "metadata": {},
   "source": [
    "##### _Análisis gráfico_"
   ]
  },
  {
   "cell_type": "markdown",
   "metadata": {},
   "source": [
    "_Número de contratos ESAP según fecha de firma 2020 - 2024_"
   ]
  },
  {
   "cell_type": "code",
   "execution_count": 24,
   "metadata": {},
   "outputs": [
    {
     "data": {
      "application/vnd.plotly.v1+json": {
       "config": {
        "plotlyServerURL": "https://plot.ly"
       },
       "data": [
        {
         "hovertemplate": "fecha_de_firma=%{x}<br>conteo=%{y}<extra></extra>",
         "legendgroup": "",
         "line": {
          "color": "#636efa",
          "dash": "solid"
         },
         "marker": {
          "symbol": "circle"
         },
         "mode": "lines",
         "name": "",
         "showlegend": false,
         "type": "scattergl",
         "x": [
          "2020-01-02T00:00:00",
          "2020-01-03T00:00:00",
          "2020-01-04T00:00:00",
          "2020-01-07T00:00:00",
          "2020-01-08T00:00:00",
          "2020-01-09T00:00:00",
          "2020-01-10T00:00:00",
          "2020-01-12T00:00:00",
          "2020-01-13T00:00:00",
          "2020-01-14T00:00:00",
          "2020-01-15T00:00:00",
          "2020-01-16T00:00:00",
          "2020-01-17T00:00:00",
          "2020-01-19T00:00:00",
          "2020-01-20T00:00:00",
          "2020-01-21T00:00:00",
          "2020-01-22T00:00:00",
          "2020-01-23T00:00:00",
          "2020-01-24T00:00:00",
          "2020-01-25T00:00:00",
          "2020-01-27T00:00:00",
          "2020-01-28T00:00:00",
          "2020-01-29T00:00:00",
          "2020-01-30T00:00:00",
          "2020-01-31T00:00:00",
          "2020-02-01T00:00:00",
          "2020-02-03T00:00:00",
          "2020-02-04T00:00:00",
          "2020-02-05T00:00:00",
          "2020-02-06T00:00:00",
          "2020-02-07T00:00:00",
          "2020-02-08T00:00:00",
          "2020-02-10T00:00:00",
          "2020-02-11T00:00:00",
          "2020-02-12T00:00:00",
          "2020-02-13T00:00:00",
          "2020-02-14T00:00:00",
          "2020-02-15T00:00:00",
          "2020-02-17T00:00:00",
          "2020-02-18T00:00:00",
          "2020-02-19T00:00:00",
          "2020-02-20T00:00:00",
          "2020-02-21T00:00:00",
          "2020-02-24T00:00:00",
          "2020-02-25T00:00:00",
          "2020-02-26T00:00:00",
          "2020-02-27T00:00:00",
          "2020-02-28T00:00:00",
          "2020-02-29T00:00:00",
          "2020-03-02T00:00:00",
          "2020-03-03T00:00:00",
          "2020-03-04T00:00:00",
          "2020-03-05T00:00:00",
          "2020-03-06T00:00:00",
          "2020-03-07T00:00:00",
          "2020-03-09T00:00:00",
          "2020-03-10T00:00:00",
          "2020-03-11T00:00:00",
          "2020-03-12T00:00:00",
          "2020-03-13T00:00:00",
          "2020-03-14T00:00:00",
          "2020-03-16T00:00:00",
          "2020-03-17T00:00:00",
          "2020-03-18T00:00:00",
          "2020-03-19T00:00:00",
          "2020-03-20T00:00:00",
          "2020-03-30T00:00:00",
          "2020-04-01T00:00:00",
          "2020-04-03T00:00:00",
          "2020-04-04T00:00:00",
          "2020-04-16T00:00:00",
          "2020-04-17T00:00:00",
          "2020-04-18T00:00:00",
          "2020-04-20T00:00:00",
          "2020-04-21T00:00:00",
          "2020-04-22T00:00:00",
          "2020-04-23T00:00:00",
          "2020-04-24T00:00:00",
          "2020-04-28T00:00:00",
          "2020-04-30T00:00:00",
          "2020-05-04T00:00:00",
          "2020-05-05T00:00:00",
          "2020-05-06T00:00:00",
          "2020-05-07T00:00:00",
          "2020-05-08T00:00:00",
          "2020-05-14T00:00:00",
          "2020-05-15T00:00:00",
          "2020-05-16T00:00:00",
          "2020-05-18T00:00:00",
          "2020-05-19T00:00:00",
          "2020-05-20T00:00:00",
          "2020-05-21T00:00:00",
          "2020-05-22T00:00:00",
          "2020-05-26T00:00:00",
          "2020-05-27T00:00:00",
          "2020-05-28T00:00:00",
          "2020-05-29T00:00:00",
          "2020-05-30T00:00:00",
          "2020-06-01T00:00:00",
          "2020-06-02T00:00:00",
          "2020-06-03T00:00:00",
          "2020-06-04T00:00:00",
          "2020-06-05T00:00:00",
          "2020-06-08T00:00:00",
          "2020-06-09T00:00:00",
          "2020-06-10T00:00:00",
          "2020-06-12T00:00:00",
          "2020-06-13T00:00:00",
          "2020-06-16T00:00:00",
          "2020-06-17T00:00:00",
          "2020-06-18T00:00:00",
          "2020-06-19T00:00:00",
          "2020-06-23T00:00:00",
          "2020-06-24T00:00:00",
          "2020-06-26T00:00:00",
          "2020-06-27T00:00:00",
          "2020-06-30T00:00:00",
          "2020-07-01T00:00:00",
          "2020-07-02T00:00:00",
          "2020-07-03T00:00:00",
          "2020-07-04T00:00:00",
          "2020-07-06T00:00:00",
          "2020-07-07T00:00:00",
          "2020-07-08T00:00:00",
          "2020-07-09T00:00:00",
          "2020-07-13T00:00:00",
          "2020-07-14T00:00:00",
          "2020-07-16T00:00:00",
          "2020-07-17T00:00:00",
          "2020-07-21T00:00:00",
          "2020-07-23T00:00:00",
          "2020-07-24T00:00:00",
          "2020-07-25T00:00:00",
          "2020-07-27T00:00:00",
          "2020-07-28T00:00:00",
          "2020-07-29T00:00:00",
          "2020-08-03T00:00:00",
          "2020-08-04T00:00:00",
          "2020-08-05T00:00:00",
          "2020-08-06T00:00:00",
          "2020-08-07T00:00:00",
          "2020-08-10T00:00:00",
          "2020-08-11T00:00:00",
          "2020-08-12T00:00:00",
          "2020-08-13T00:00:00",
          "2020-08-14T00:00:00",
          "2020-08-15T00:00:00",
          "2020-08-17T00:00:00",
          "2020-08-18T00:00:00",
          "2020-08-19T00:00:00",
          "2020-08-20T00:00:00",
          "2020-08-21T00:00:00",
          "2020-08-22T00:00:00",
          "2020-08-24T00:00:00",
          "2020-08-25T00:00:00",
          "2020-08-26T00:00:00",
          "2020-08-27T00:00:00",
          "2020-08-28T00:00:00",
          "2020-08-29T00:00:00",
          "2020-08-30T00:00:00",
          "2020-08-31T00:00:00",
          "2020-09-01T00:00:00",
          "2020-09-02T00:00:00",
          "2020-09-03T00:00:00",
          "2020-09-04T00:00:00",
          "2020-09-06T00:00:00",
          "2020-09-07T00:00:00",
          "2020-09-08T00:00:00",
          "2020-09-09T00:00:00",
          "2020-09-10T00:00:00",
          "2020-09-11T00:00:00",
          "2020-09-12T00:00:00",
          "2020-09-14T00:00:00",
          "2020-09-15T00:00:00",
          "2020-09-16T00:00:00",
          "2020-09-17T00:00:00",
          "2020-09-18T00:00:00",
          "2020-09-19T00:00:00",
          "2020-09-22T00:00:00",
          "2020-09-23T00:00:00",
          "2020-09-24T00:00:00",
          "2020-09-25T00:00:00",
          "2020-09-26T00:00:00",
          "2020-09-28T00:00:00",
          "2020-09-29T00:00:00",
          "2020-09-30T00:00:00",
          "2020-10-01T00:00:00",
          "2020-10-02T00:00:00",
          "2020-10-03T00:00:00",
          "2020-10-05T00:00:00",
          "2020-10-06T00:00:00",
          "2020-10-07T00:00:00",
          "2020-10-08T00:00:00",
          "2020-10-09T00:00:00",
          "2020-10-10T00:00:00",
          "2020-10-13T00:00:00",
          "2020-10-14T00:00:00",
          "2020-10-15T00:00:00",
          "2020-10-16T00:00:00",
          "2020-10-19T00:00:00",
          "2020-10-20T00:00:00",
          "2020-10-21T00:00:00",
          "2020-10-22T00:00:00",
          "2020-10-23T00:00:00",
          "2020-10-24T00:00:00",
          "2020-10-25T00:00:00",
          "2020-10-26T00:00:00",
          "2020-10-27T00:00:00",
          "2020-10-28T00:00:00",
          "2020-10-29T00:00:00",
          "2020-10-30T00:00:00",
          "2020-10-31T00:00:00",
          "2020-11-01T00:00:00",
          "2020-11-03T00:00:00",
          "2020-11-04T00:00:00",
          "2020-11-05T00:00:00",
          "2020-11-06T00:00:00",
          "2020-11-07T00:00:00",
          "2020-11-09T00:00:00",
          "2020-11-10T00:00:00",
          "2020-11-11T00:00:00",
          "2020-11-12T00:00:00",
          "2020-11-13T00:00:00",
          "2020-11-14T00:00:00",
          "2020-11-17T00:00:00",
          "2020-11-18T00:00:00",
          "2020-11-19T00:00:00",
          "2020-11-20T00:00:00",
          "2020-11-21T00:00:00",
          "2020-11-22T00:00:00",
          "2020-11-23T00:00:00",
          "2020-11-24T00:00:00",
          "2020-11-25T00:00:00",
          "2020-11-26T00:00:00",
          "2020-11-27T00:00:00",
          "2020-11-28T00:00:00",
          "2020-11-29T00:00:00",
          "2020-11-30T00:00:00",
          "2020-12-01T00:00:00",
          "2020-12-02T00:00:00",
          "2020-12-03T00:00:00",
          "2020-12-04T00:00:00",
          "2020-12-05T00:00:00",
          "2020-12-06T00:00:00",
          "2020-12-07T00:00:00",
          "2020-12-08T00:00:00",
          "2020-12-09T00:00:00",
          "2020-12-10T00:00:00",
          "2020-12-11T00:00:00",
          "2020-12-14T00:00:00",
          "2020-12-15T00:00:00",
          "2020-12-16T00:00:00",
          "2020-12-17T00:00:00",
          "2020-12-18T00:00:00",
          "2020-12-21T00:00:00",
          "2020-12-22T00:00:00",
          "2020-12-23T00:00:00",
          "2020-12-24T00:00:00",
          "2020-12-27T00:00:00",
          "2020-12-28T00:00:00",
          "2020-12-29T00:00:00",
          "2020-12-30T00:00:00",
          "2020-12-31T00:00:00",
          "2021-01-06T00:00:00",
          "2021-01-07T00:00:00",
          "2021-01-08T00:00:00",
          "2021-01-09T00:00:00",
          "2021-01-10T00:00:00",
          "2021-01-11T00:00:00",
          "2021-01-12T00:00:00",
          "2021-01-13T00:00:00",
          "2021-01-14T00:00:00",
          "2021-01-15T00:00:00",
          "2021-01-17T00:00:00",
          "2021-01-18T00:00:00",
          "2021-01-19T00:00:00",
          "2021-01-20T00:00:00",
          "2021-01-21T00:00:00",
          "2021-01-22T00:00:00",
          "2021-01-25T00:00:00",
          "2021-01-26T00:00:00",
          "2021-01-27T00:00:00",
          "2021-01-28T00:00:00",
          "2021-01-29T00:00:00",
          "2021-01-30T00:00:00",
          "2021-02-01T00:00:00",
          "2021-02-02T00:00:00",
          "2021-02-03T00:00:00",
          "2021-02-04T00:00:00",
          "2021-02-05T00:00:00",
          "2021-02-06T00:00:00",
          "2021-02-08T00:00:00",
          "2021-02-09T00:00:00",
          "2021-02-10T00:00:00",
          "2021-02-11T00:00:00",
          "2021-02-12T00:00:00",
          "2021-02-15T00:00:00",
          "2021-02-17T00:00:00",
          "2021-02-18T00:00:00",
          "2021-02-19T00:00:00",
          "2021-02-22T00:00:00",
          "2021-02-23T00:00:00",
          "2021-02-24T00:00:00",
          "2021-02-25T00:00:00",
          "2021-02-26T00:00:00",
          "2021-02-27T00:00:00",
          "2021-02-28T00:00:00",
          "2021-03-01T00:00:00",
          "2021-03-02T00:00:00",
          "2021-03-03T00:00:00",
          "2021-03-04T00:00:00",
          "2021-03-05T00:00:00",
          "2021-03-06T00:00:00",
          "2021-03-07T00:00:00",
          "2021-03-08T00:00:00",
          "2021-03-09T00:00:00",
          "2021-03-10T00:00:00",
          "2021-03-11T00:00:00",
          "2021-03-12T00:00:00",
          "2021-03-13T00:00:00",
          "2021-03-15T00:00:00",
          "2021-03-16T00:00:00",
          "2021-03-17T00:00:00",
          "2021-03-18T00:00:00",
          "2021-03-19T00:00:00",
          "2021-03-20T00:00:00",
          "2021-03-21T00:00:00",
          "2021-03-23T00:00:00",
          "2021-03-24T00:00:00",
          "2021-03-25T00:00:00",
          "2021-03-26T00:00:00",
          "2021-03-27T00:00:00",
          "2021-03-29T00:00:00",
          "2021-03-30T00:00:00",
          "2021-03-31T00:00:00",
          "2021-04-02T00:00:00",
          "2021-04-03T00:00:00",
          "2021-04-04T00:00:00",
          "2021-04-05T00:00:00",
          "2021-04-06T00:00:00",
          "2021-04-07T00:00:00",
          "2021-04-08T00:00:00",
          "2021-04-09T00:00:00",
          "2021-04-10T00:00:00",
          "2021-04-12T00:00:00",
          "2021-04-13T00:00:00",
          "2021-04-14T00:00:00",
          "2021-04-15T00:00:00",
          "2021-04-16T00:00:00",
          "2021-04-17T00:00:00",
          "2021-04-19T00:00:00",
          "2021-04-20T00:00:00",
          "2021-04-21T00:00:00",
          "2021-04-22T00:00:00",
          "2021-04-23T00:00:00",
          "2021-04-24T00:00:00",
          "2021-04-26T00:00:00",
          "2021-04-27T00:00:00",
          "2021-04-28T00:00:00",
          "2021-04-29T00:00:00",
          "2021-04-30T00:00:00",
          "2021-05-01T00:00:00",
          "2021-05-02T00:00:00",
          "2021-05-03T00:00:00",
          "2021-05-04T00:00:00",
          "2021-05-05T00:00:00",
          "2021-05-06T00:00:00",
          "2021-05-07T00:00:00",
          "2021-05-08T00:00:00",
          "2021-05-10T00:00:00",
          "2021-05-11T00:00:00",
          "2021-05-12T00:00:00",
          "2021-05-13T00:00:00",
          "2021-05-14T00:00:00",
          "2021-05-16T00:00:00",
          "2021-05-18T00:00:00",
          "2021-05-19T00:00:00",
          "2021-05-20T00:00:00",
          "2021-05-21T00:00:00",
          "2021-05-24T00:00:00",
          "2021-05-25T00:00:00",
          "2021-05-26T00:00:00",
          "2021-05-27T00:00:00",
          "2021-05-28T00:00:00",
          "2021-05-29T00:00:00",
          "2021-05-31T00:00:00",
          "2021-06-01T00:00:00",
          "2021-06-02T00:00:00",
          "2021-06-03T00:00:00",
          "2021-06-04T00:00:00",
          "2021-06-05T00:00:00",
          "2021-06-08T00:00:00",
          "2021-06-09T00:00:00",
          "2021-06-10T00:00:00",
          "2021-06-11T00:00:00",
          "2021-06-12T00:00:00",
          "2021-06-15T00:00:00",
          "2021-06-16T00:00:00",
          "2021-06-17T00:00:00",
          "2021-06-18T00:00:00",
          "2021-06-21T00:00:00",
          "2021-06-22T00:00:00",
          "2021-06-23T00:00:00",
          "2021-06-24T00:00:00",
          "2021-06-25T00:00:00",
          "2021-06-26T00:00:00",
          "2021-06-28T00:00:00",
          "2021-06-29T00:00:00",
          "2021-06-30T00:00:00",
          "2021-07-01T00:00:00",
          "2021-07-02T00:00:00",
          "2021-07-06T00:00:00",
          "2021-07-07T00:00:00",
          "2021-07-08T00:00:00",
          "2021-07-09T00:00:00",
          "2021-07-10T00:00:00",
          "2021-07-12T00:00:00",
          "2021-07-13T00:00:00",
          "2021-07-14T00:00:00",
          "2021-07-15T00:00:00",
          "2021-07-16T00:00:00",
          "2021-07-17T00:00:00",
          "2021-07-19T00:00:00",
          "2021-07-20T00:00:00",
          "2021-07-21T00:00:00",
          "2021-07-22T00:00:00",
          "2021-07-23T00:00:00",
          "2021-07-24T00:00:00",
          "2021-07-26T00:00:00",
          "2021-07-27T00:00:00",
          "2021-07-28T00:00:00",
          "2021-07-29T00:00:00",
          "2021-07-30T00:00:00",
          "2021-07-31T00:00:00",
          "2021-08-01T00:00:00",
          "2021-08-02T00:00:00",
          "2021-08-03T00:00:00",
          "2021-08-04T00:00:00",
          "2021-08-05T00:00:00",
          "2021-08-06T00:00:00",
          "2021-08-07T00:00:00",
          "2021-08-09T00:00:00",
          "2021-08-10T00:00:00",
          "2021-08-11T00:00:00",
          "2021-08-12T00:00:00",
          "2021-08-13T00:00:00",
          "2021-08-16T00:00:00",
          "2021-08-17T00:00:00",
          "2021-08-18T00:00:00",
          "2021-08-19T00:00:00",
          "2021-08-20T00:00:00",
          "2021-08-23T00:00:00",
          "2021-08-24T00:00:00",
          "2021-08-25T00:00:00",
          "2021-08-26T00:00:00",
          "2021-08-27T00:00:00",
          "2021-08-28T00:00:00",
          "2021-08-30T00:00:00",
          "2021-08-31T00:00:00",
          "2021-09-01T00:00:00",
          "2021-09-02T00:00:00",
          "2021-09-03T00:00:00",
          "2021-09-04T00:00:00",
          "2021-09-07T00:00:00",
          "2021-09-08T00:00:00",
          "2021-09-09T00:00:00",
          "2021-09-10T00:00:00",
          "2021-09-11T00:00:00",
          "2021-09-13T00:00:00",
          "2021-09-14T00:00:00",
          "2021-09-15T00:00:00",
          "2021-09-16T00:00:00",
          "2021-09-17T00:00:00",
          "2021-09-20T00:00:00",
          "2021-09-21T00:00:00",
          "2021-09-22T00:00:00",
          "2021-09-23T00:00:00",
          "2021-09-24T00:00:00",
          "2021-09-25T00:00:00",
          "2021-09-27T00:00:00",
          "2021-09-28T00:00:00",
          "2021-09-29T00:00:00",
          "2021-09-30T00:00:00",
          "2021-10-01T00:00:00",
          "2021-10-02T00:00:00",
          "2021-10-04T00:00:00",
          "2021-10-05T00:00:00",
          "2021-10-06T00:00:00",
          "2021-10-07T00:00:00",
          "2021-10-08T00:00:00",
          "2021-10-11T00:00:00",
          "2021-10-12T00:00:00",
          "2021-10-13T00:00:00",
          "2021-10-14T00:00:00",
          "2021-10-15T00:00:00",
          "2021-10-16T00:00:00",
          "2021-10-19T00:00:00",
          "2021-10-20T00:00:00",
          "2021-10-21T00:00:00",
          "2021-10-22T00:00:00",
          "2021-10-23T00:00:00",
          "2021-10-25T00:00:00",
          "2021-10-26T00:00:00",
          "2021-10-27T00:00:00",
          "2021-10-28T00:00:00",
          "2021-10-29T00:00:00",
          "2021-10-30T00:00:00",
          "2021-11-02T00:00:00",
          "2021-11-03T00:00:00",
          "2021-11-04T00:00:00",
          "2021-11-05T00:00:00",
          "2021-11-06T00:00:00",
          "2021-11-08T00:00:00",
          "2021-11-09T00:00:00",
          "2021-11-10T00:00:00",
          "2021-11-11T00:00:00",
          "2021-11-12T00:00:00",
          "2021-11-13T00:00:00",
          "2021-11-16T00:00:00",
          "2021-11-17T00:00:00",
          "2021-11-18T00:00:00",
          "2021-11-19T00:00:00",
          "2021-11-20T00:00:00",
          "2021-11-21T00:00:00",
          "2021-11-22T00:00:00",
          "2021-11-23T00:00:00",
          "2021-11-24T00:00:00",
          "2021-11-25T00:00:00",
          "2021-11-26T00:00:00",
          "2021-11-27T00:00:00",
          "2021-11-29T00:00:00",
          "2021-11-30T00:00:00",
          "2021-12-01T00:00:00",
          "2021-12-02T00:00:00",
          "2021-12-03T00:00:00",
          "2021-12-04T00:00:00",
          "2021-12-06T00:00:00",
          "2021-12-07T00:00:00",
          "2021-12-09T00:00:00",
          "2021-12-10T00:00:00",
          "2021-12-13T00:00:00",
          "2021-12-14T00:00:00",
          "2021-12-15T00:00:00",
          "2021-12-16T00:00:00",
          "2021-12-17T00:00:00",
          "2021-12-20T00:00:00",
          "2021-12-21T00:00:00",
          "2021-12-22T00:00:00",
          "2021-12-29T00:00:00",
          "2021-12-30T00:00:00",
          "2022-01-06T00:00:00",
          "2022-01-07T00:00:00",
          "2022-01-11T00:00:00",
          "2022-01-12T00:00:00",
          "2022-01-13T00:00:00",
          "2022-01-14T00:00:00",
          "2022-01-15T00:00:00",
          "2022-01-16T00:00:00",
          "2022-01-17T00:00:00",
          "2022-01-18T00:00:00",
          "2022-01-19T00:00:00",
          "2022-01-20T00:00:00",
          "2022-01-21T00:00:00",
          "2022-01-22T00:00:00",
          "2022-01-23T00:00:00",
          "2022-01-24T00:00:00",
          "2022-01-25T00:00:00",
          "2022-01-26T00:00:00",
          "2022-01-27T00:00:00",
          "2022-01-28T00:00:00",
          "2022-01-29T00:00:00",
          "2022-01-30T00:00:00",
          "2022-01-31T00:00:00",
          "2022-02-01T00:00:00",
          "2022-02-02T00:00:00",
          "2022-02-03T00:00:00",
          "2022-02-04T00:00:00",
          "2022-02-09T00:00:00",
          "2022-02-17T00:00:00",
          "2022-02-28T00:00:00",
          "2022-03-01T00:00:00",
          "2022-03-18T00:00:00",
          "2022-03-31T00:00:00",
          "2022-04-01T00:00:00",
          "2022-04-06T00:00:00",
          "2022-04-18T00:00:00",
          "2022-04-21T00:00:00",
          "2022-04-27T00:00:00",
          "2022-04-28T00:00:00",
          "2022-05-02T00:00:00",
          "2022-05-04T00:00:00",
          "2022-05-13T00:00:00",
          "2022-05-19T00:00:00",
          "2022-05-20T00:00:00",
          "2022-05-31T00:00:00",
          "2022-06-02T00:00:00",
          "2022-06-08T00:00:00",
          "2022-06-10T00:00:00",
          "2022-06-13T00:00:00",
          "2022-06-21T00:00:00",
          "2022-06-23T00:00:00",
          "2022-06-24T00:00:00",
          "2022-06-29T00:00:00",
          "2022-06-30T00:00:00",
          "2022-07-01T00:00:00",
          "2022-07-02T00:00:00",
          "2022-07-06T00:00:00",
          "2022-07-08T00:00:00",
          "2022-07-09T00:00:00",
          "2022-07-11T00:00:00",
          "2022-07-12T00:00:00",
          "2022-07-13T00:00:00",
          "2022-07-14T00:00:00",
          "2022-07-15T00:00:00",
          "2022-07-17T00:00:00",
          "2022-07-18T00:00:00",
          "2022-07-19T00:00:00",
          "2022-07-21T00:00:00",
          "2022-07-22T00:00:00",
          "2022-07-25T00:00:00",
          "2022-07-26T00:00:00",
          "2022-07-27T00:00:00",
          "2022-07-29T00:00:00",
          "2022-08-01T00:00:00",
          "2022-08-02T00:00:00",
          "2022-08-03T00:00:00",
          "2022-08-04T00:00:00",
          "2022-08-05T00:00:00",
          "2022-08-08T00:00:00",
          "2022-08-09T00:00:00",
          "2022-08-11T00:00:00",
          "2022-08-12T00:00:00",
          "2022-08-16T00:00:00",
          "2022-08-17T00:00:00",
          "2022-08-18T00:00:00",
          "2022-08-19T00:00:00",
          "2022-08-22T00:00:00",
          "2022-08-23T00:00:00",
          "2022-08-24T00:00:00",
          "2022-08-25T00:00:00",
          "2022-08-26T00:00:00",
          "2022-08-27T00:00:00",
          "2022-08-29T00:00:00",
          "2022-08-30T00:00:00",
          "2022-08-31T00:00:00",
          "2022-09-01T00:00:00",
          "2022-09-02T00:00:00",
          "2022-09-03T00:00:00",
          "2022-09-05T00:00:00",
          "2022-09-06T00:00:00",
          "2022-09-07T00:00:00",
          "2022-09-08T00:00:00",
          "2022-09-09T00:00:00",
          "2022-09-12T00:00:00",
          "2022-09-13T00:00:00",
          "2022-09-14T00:00:00",
          "2022-09-15T00:00:00",
          "2022-09-16T00:00:00",
          "2022-09-19T00:00:00",
          "2022-09-20T00:00:00",
          "2022-09-21T00:00:00",
          "2022-09-22T00:00:00",
          "2022-09-23T00:00:00",
          "2022-09-24T00:00:00",
          "2022-09-26T00:00:00",
          "2022-09-27T00:00:00",
          "2022-09-28T00:00:00",
          "2022-09-29T00:00:00",
          "2022-09-30T00:00:00",
          "2022-10-01T00:00:00",
          "2022-10-03T00:00:00",
          "2022-10-04T00:00:00",
          "2022-10-05T00:00:00",
          "2022-10-06T00:00:00",
          "2022-10-07T00:00:00",
          "2022-10-08T00:00:00",
          "2022-10-10T00:00:00",
          "2022-10-11T00:00:00",
          "2022-10-12T00:00:00",
          "2022-10-13T00:00:00",
          "2022-10-14T00:00:00",
          "2022-10-18T00:00:00",
          "2022-10-19T00:00:00",
          "2022-10-20T00:00:00",
          "2022-10-21T00:00:00",
          "2022-10-22T00:00:00",
          "2022-10-24T00:00:00",
          "2022-10-25T00:00:00",
          "2022-10-26T00:00:00",
          "2022-10-27T00:00:00",
          "2022-10-28T00:00:00",
          "2022-10-31T00:00:00",
          "2022-11-01T00:00:00",
          "2022-11-02T00:00:00",
          "2022-11-03T00:00:00",
          "2022-11-04T00:00:00",
          "2022-11-08T00:00:00",
          "2022-11-09T00:00:00",
          "2022-11-10T00:00:00",
          "2022-11-11T00:00:00",
          "2022-11-12T00:00:00",
          "2022-11-15T00:00:00",
          "2022-11-16T00:00:00",
          "2022-11-17T00:00:00",
          "2022-11-18T00:00:00",
          "2022-11-19T00:00:00",
          "2022-11-21T00:00:00",
          "2022-11-22T00:00:00",
          "2022-11-23T00:00:00",
          "2022-11-24T00:00:00",
          "2022-11-25T00:00:00",
          "2022-11-28T00:00:00",
          "2022-11-30T00:00:00",
          "2022-12-01T00:00:00",
          "2022-12-02T00:00:00",
          "2022-12-05T00:00:00",
          "2022-12-06T00:00:00",
          "2022-12-07T00:00:00",
          "2022-12-10T00:00:00",
          "2022-12-14T00:00:00",
          "2022-12-15T00:00:00",
          "2022-12-16T00:00:00",
          "2022-12-19T00:00:00",
          "2022-12-20T00:00:00",
          "2022-12-21T00:00:00",
          "2022-12-22T00:00:00",
          "2022-12-23T00:00:00",
          "2022-12-26T00:00:00",
          "2022-12-27T00:00:00",
          "2022-12-28T00:00:00",
          "2022-12-29T00:00:00",
          "2023-01-13T00:00:00",
          "2023-01-14T00:00:00",
          "2023-01-16T00:00:00",
          "2023-01-17T00:00:00",
          "2023-01-18T00:00:00",
          "2023-01-19T00:00:00",
          "2023-01-20T00:00:00",
          "2023-01-21T00:00:00",
          "2023-01-22T00:00:00",
          "2023-01-23T00:00:00",
          "2023-01-24T00:00:00",
          "2023-01-25T00:00:00",
          "2023-01-26T00:00:00",
          "2023-01-27T00:00:00",
          "2023-01-28T00:00:00",
          "2023-01-30T00:00:00",
          "2023-01-31T00:00:00",
          "2023-02-01T00:00:00",
          "2023-02-02T00:00:00",
          "2023-02-03T00:00:00",
          "2023-02-04T00:00:00",
          "2023-02-06T00:00:00",
          "2023-02-07T00:00:00",
          "2023-02-08T00:00:00",
          "2023-02-09T00:00:00",
          "2023-02-10T00:00:00",
          "2023-02-11T00:00:00",
          "2023-02-13T00:00:00",
          "2023-02-14T00:00:00",
          "2023-02-15T00:00:00",
          "2023-02-16T00:00:00",
          "2023-02-17T00:00:00",
          "2023-02-18T00:00:00",
          "2023-02-20T00:00:00",
          "2023-02-21T00:00:00",
          "2023-02-22T00:00:00",
          "2023-02-23T00:00:00",
          "2023-02-24T00:00:00",
          "2023-02-25T00:00:00",
          "2023-02-27T00:00:00",
          "2023-02-28T00:00:00",
          "2023-03-01T00:00:00",
          "2023-03-02T00:00:00",
          "2023-03-03T00:00:00",
          "2023-03-04T00:00:00",
          "2023-03-06T00:00:00",
          "2023-03-07T00:00:00",
          "2023-03-08T00:00:00",
          "2023-03-09T00:00:00",
          "2023-03-10T00:00:00",
          "2023-03-11T00:00:00",
          "2023-03-13T00:00:00",
          "2023-03-14T00:00:00",
          "2023-03-15T00:00:00",
          "2023-03-16T00:00:00",
          "2023-03-17T00:00:00",
          "2023-03-18T00:00:00",
          "2023-03-21T00:00:00",
          "2023-03-22T00:00:00",
          "2023-03-23T00:00:00",
          "2023-03-24T00:00:00",
          "2023-03-27T00:00:00",
          "2023-03-28T00:00:00",
          "2023-03-29T00:00:00",
          "2023-03-30T00:00:00",
          "2023-03-31T00:00:00",
          "2023-04-01T00:00:00",
          "2023-04-03T00:00:00",
          "2023-04-04T00:00:00",
          "2023-04-05T00:00:00",
          "2023-04-10T00:00:00",
          "2023-04-11T00:00:00",
          "2023-04-12T00:00:00",
          "2023-04-13T00:00:00",
          "2023-04-14T00:00:00",
          "2023-04-17T00:00:00",
          "2023-04-18T00:00:00",
          "2023-04-19T00:00:00",
          "2023-04-20T00:00:00",
          "2023-04-21T00:00:00",
          "2023-04-22T00:00:00",
          "2023-04-24T00:00:00",
          "2023-04-25T00:00:00",
          "2023-04-26T00:00:00",
          "2023-04-27T00:00:00",
          "2023-04-28T00:00:00",
          "2023-04-29T00:00:00",
          "2023-04-30T00:00:00",
          "2023-05-05T00:00:00",
          "2023-05-06T00:00:00",
          "2023-05-08T00:00:00",
          "2023-05-09T00:00:00",
          "2023-05-10T00:00:00",
          "2023-05-11T00:00:00",
          "2023-05-12T00:00:00",
          "2023-05-13T00:00:00",
          "2023-05-15T00:00:00",
          "2023-05-16T00:00:00",
          "2023-05-17T00:00:00",
          "2023-05-18T00:00:00",
          "2023-05-19T00:00:00",
          "2023-05-20T00:00:00",
          "2023-05-23T00:00:00",
          "2023-05-24T00:00:00",
          "2023-05-25T00:00:00",
          "2023-05-26T00:00:00",
          "2023-05-29T00:00:00",
          "2023-05-30T00:00:00",
          "2023-05-31T00:00:00",
          "2023-06-01T00:00:00",
          "2023-06-02T00:00:00",
          "2023-06-05T00:00:00",
          "2023-06-06T00:00:00",
          "2023-06-07T00:00:00",
          "2023-06-08T00:00:00",
          "2023-06-09T00:00:00",
          "2023-06-10T00:00:00",
          "2023-06-13T00:00:00",
          "2023-06-14T00:00:00",
          "2023-06-15T00:00:00",
          "2023-06-16T00:00:00",
          "2023-06-20T00:00:00",
          "2023-06-21T00:00:00",
          "2023-06-22T00:00:00",
          "2023-06-23T00:00:00",
          "2023-06-26T00:00:00",
          "2023-06-27T00:00:00",
          "2023-06-28T00:00:00",
          "2023-06-29T00:00:00",
          "2023-06-30T00:00:00",
          "2023-07-01T00:00:00",
          "2023-07-04T00:00:00",
          "2023-07-05T00:00:00",
          "2023-07-06T00:00:00",
          "2023-07-07T00:00:00",
          "2023-07-08T00:00:00",
          "2023-07-10T00:00:00",
          "2023-07-11T00:00:00",
          "2023-07-12T00:00:00",
          "2023-07-13T00:00:00",
          "2023-07-14T00:00:00",
          "2023-07-15T00:00:00",
          "2023-07-17T00:00:00",
          "2023-07-18T00:00:00",
          "2023-07-19T00:00:00",
          "2023-07-21T00:00:00",
          "2023-07-24T00:00:00",
          "2023-07-25T00:00:00",
          "2023-07-26T00:00:00",
          "2023-07-27T00:00:00",
          "2023-07-28T00:00:00",
          "2023-07-29T00:00:00",
          "2023-07-30T00:00:00",
          "2023-07-31T00:00:00",
          "2023-08-01T00:00:00",
          "2023-08-02T00:00:00",
          "2023-08-03T00:00:00",
          "2023-08-04T00:00:00",
          "2023-08-05T00:00:00",
          "2023-08-08T00:00:00",
          "2023-08-09T00:00:00",
          "2023-08-10T00:00:00",
          "2023-08-11T00:00:00",
          "2023-08-12T00:00:00",
          "2023-08-14T00:00:00",
          "2023-08-15T00:00:00",
          "2023-08-16T00:00:00",
          "2023-08-17T00:00:00",
          "2023-08-18T00:00:00",
          "2023-08-19T00:00:00",
          "2023-08-22T00:00:00",
          "2023-08-23T00:00:00",
          "2023-08-24T00:00:00",
          "2023-08-25T00:00:00",
          "2023-08-26T00:00:00",
          "2023-08-28T00:00:00",
          "2023-08-29T00:00:00",
          "2023-08-30T00:00:00",
          "2023-08-31T00:00:00",
          "2023-09-01T00:00:00",
          "2023-09-02T00:00:00",
          "2023-09-04T00:00:00",
          "2023-09-05T00:00:00",
          "2023-09-06T00:00:00",
          "2023-09-07T00:00:00",
          "2023-09-08T00:00:00",
          "2023-09-09T00:00:00",
          "2023-09-11T00:00:00",
          "2023-09-12T00:00:00",
          "2023-09-13T00:00:00",
          "2023-09-14T00:00:00",
          "2023-09-15T00:00:00",
          "2023-09-16T00:00:00",
          "2023-09-18T00:00:00",
          "2023-09-19T00:00:00",
          "2023-09-20T00:00:00",
          "2023-09-21T00:00:00",
          "2023-09-22T00:00:00",
          "2023-09-23T00:00:00",
          "2023-09-25T00:00:00",
          "2023-09-26T00:00:00",
          "2023-09-27T00:00:00",
          "2023-09-28T00:00:00",
          "2023-09-29T00:00:00",
          "2023-09-30T00:00:00",
          "2023-10-02T00:00:00",
          "2023-10-03T00:00:00",
          "2023-10-04T00:00:00",
          "2023-10-05T00:00:00",
          "2023-10-06T00:00:00",
          "2023-10-07T00:00:00",
          "2023-10-09T00:00:00",
          "2023-10-10T00:00:00",
          "2023-10-11T00:00:00",
          "2023-10-12T00:00:00",
          "2023-10-13T00:00:00",
          "2023-10-14T00:00:00",
          "2023-10-17T00:00:00",
          "2023-10-18T00:00:00",
          "2023-10-19T00:00:00",
          "2023-10-20T00:00:00",
          "2023-10-23T00:00:00",
          "2023-10-24T00:00:00",
          "2023-10-25T00:00:00",
          "2023-10-26T00:00:00",
          "2023-10-27T00:00:00",
          "2023-10-30T00:00:00",
          "2023-10-31T00:00:00",
          "2023-11-01T00:00:00",
          "2023-11-02T00:00:00",
          "2023-11-03T00:00:00",
          "2023-11-07T00:00:00",
          "2023-11-08T00:00:00",
          "2023-11-09T00:00:00",
          "2023-11-10T00:00:00",
          "2023-11-11T00:00:00",
          "2023-11-14T00:00:00",
          "2023-11-15T00:00:00",
          "2023-11-16T00:00:00",
          "2023-11-17T00:00:00",
          "2023-11-20T00:00:00",
          "2023-11-21T00:00:00",
          "2023-11-22T00:00:00",
          "2023-11-23T00:00:00",
          "2023-11-24T00:00:00",
          "2023-11-27T00:00:00",
          "2023-11-28T00:00:00",
          "2023-11-29T00:00:00",
          "2023-11-30T00:00:00",
          "2023-12-01T00:00:00",
          "2023-12-02T00:00:00",
          "2023-12-04T00:00:00",
          "2023-12-05T00:00:00",
          "2023-12-06T00:00:00",
          "2023-12-07T00:00:00",
          "2023-12-08T00:00:00",
          "2023-12-11T00:00:00",
          "2023-12-12T00:00:00",
          "2023-12-13T00:00:00",
          "2023-12-14T00:00:00",
          "2023-12-15T00:00:00",
          "2023-12-20T00:00:00",
          "2023-12-21T00:00:00",
          "2023-12-22T00:00:00",
          "2023-12-26T00:00:00",
          "2023-12-31T00:00:00",
          "2024-01-05T00:00:00",
          "2024-01-06T00:00:00",
          "2024-01-09T00:00:00",
          "2024-01-10T00:00:00",
          "2024-01-11T00:00:00",
          "2024-01-12T00:00:00",
          "2024-01-13T00:00:00",
          "2024-01-15T00:00:00",
          "2024-01-16T00:00:00",
          "2024-01-17T00:00:00",
          "2024-01-18T00:00:00",
          "2024-01-19T00:00:00",
          "2024-01-20T00:00:00",
          "2024-01-21T00:00:00",
          "2024-01-22T00:00:00",
          "2024-01-23T00:00:00",
          "2024-01-24T00:00:00",
          "2024-01-25T00:00:00",
          "2024-01-26T00:00:00",
          "2024-01-27T00:00:00",
          "2024-01-28T00:00:00",
          "2024-01-29T00:00:00",
          "2024-01-30T00:00:00",
          "2024-01-31T00:00:00",
          "2024-02-01T00:00:00",
          "2024-02-02T00:00:00",
          "2024-02-03T00:00:00",
          "2024-02-05T00:00:00",
          "2024-02-06T00:00:00",
          "2024-02-07T00:00:00",
          "2024-02-08T00:00:00",
          "2024-02-09T00:00:00",
          "2024-02-10T00:00:00",
          "2024-02-12T00:00:00",
          "2024-02-13T00:00:00",
          "2024-02-14T00:00:00",
          "2024-02-15T00:00:00",
          "2024-02-16T00:00:00",
          "2024-02-17T00:00:00",
          "2024-02-19T00:00:00",
          "2024-02-20T00:00:00",
          "2024-02-21T00:00:00",
          "2024-02-22T00:00:00",
          "2024-02-23T00:00:00",
          "2024-02-24T00:00:00",
          "2024-02-26T00:00:00",
          "2024-02-27T00:00:00",
          "2024-02-28T00:00:00",
          "2024-02-29T00:00:00",
          "2024-03-01T00:00:00",
          "2024-03-04T00:00:00",
          "2024-03-05T00:00:00",
          "2024-03-06T00:00:00",
          "2024-03-07T00:00:00",
          "2024-03-08T00:00:00",
          "2024-03-09T00:00:00",
          "2024-03-11T00:00:00",
          "2024-03-12T00:00:00",
          "2024-03-13T00:00:00",
          "2024-03-14T00:00:00",
          "2024-03-15T00:00:00",
          "2024-03-16T00:00:00",
          "2024-03-18T00:00:00",
          "2024-03-19T00:00:00",
          "2024-03-20T00:00:00",
          "2024-03-21T00:00:00",
          "2024-03-22T00:00:00",
          "2024-03-23T00:00:00",
          "2024-03-26T00:00:00",
          "2024-03-27T00:00:00",
          "2024-03-28T00:00:00",
          "2024-03-30T00:00:00",
          "2024-04-02T00:00:00"
         ],
         "xaxis": "x",
         "y": [
          2,
          11,
          2,
          9,
          12,
          6,
          3,
          3,
          2,
          4,
          9,
          9,
          31,
          2,
          9,
          11,
          12,
          8,
          12,
          9,
          4,
          8,
          1,
          16,
          12,
          1,
          3,
          2,
          7,
          14,
          9,
          1,
          8,
          9,
          17,
          7,
          17,
          14,
          8,
          8,
          20,
          15,
          9,
          32,
          4,
          7,
          10,
          5,
          13,
          7,
          19,
          6,
          4,
          3,
          13,
          4,
          2,
          11,
          1,
          8,
          5,
          2,
          6,
          2,
          7,
          1,
          2,
          2,
          2,
          1,
          4,
          1,
          1,
          4,
          2,
          8,
          9,
          6,
          3,
          1,
          3,
          3,
          1,
          2,
          2,
          4,
          1,
          1,
          1,
          1,
          4,
          7,
          5,
          1,
          4,
          5,
          7,
          3,
          3,
          5,
          4,
          4,
          4,
          4,
          6,
          10,
          1,
          1,
          2,
          21,
          3,
          4,
          5,
          3,
          4,
          1,
          3,
          7,
          4,
          3,
          4,
          2,
          3,
          2,
          2,
          1,
          3,
          3,
          5,
          2,
          1,
          2,
          2,
          4,
          2,
          2,
          16,
          34,
          35,
          22,
          2,
          4,
          19,
          29,
          42,
          25,
          6,
          10,
          41,
          32,
          26,
          65,
          15,
          24,
          26,
          26,
          23,
          23,
          2,
          3,
          47,
          56,
          32,
          23,
          8,
          2,
          6,
          6,
          10,
          6,
          3,
          7,
          17,
          2,
          1,
          8,
          2,
          1,
          7,
          1,
          6,
          2,
          1,
          1,
          5,
          1,
          3,
          13,
          2,
          4,
          3,
          11,
          6,
          1,
          3,
          11,
          13,
          8,
          7,
          3,
          15,
          13,
          19,
          26,
          7,
          9,
          36,
          22,
          11,
          24,
          37,
          14,
          3,
          18,
          31,
          30,
          34,
          2,
          20,
          21,
          33,
          34,
          36,
          7,
          22,
          33,
          27,
          32,
          2,
          2,
          25,
          18,
          18,
          22,
          21,
          14,
          1,
          16,
          17,
          16,
          3,
          12,
          11,
          7,
          3,
          7,
          4,
          3,
          3,
          1,
          6,
          25,
          1,
          2,
          3,
          1,
          8,
          18,
          1,
          5,
          1,
          20,
          1,
          2,
          4,
          13,
          1,
          6,
          9,
          22,
          3,
          8,
          15,
          4,
          15,
          10,
          12,
          17,
          31,
          13,
          20,
          3,
          5,
          14,
          3,
          3,
          4,
          14,
          15,
          16,
          1,
          13,
          4,
          2,
          11,
          14,
          13,
          10,
          15,
          1,
          13,
          11,
          4,
          5,
          22,
          1,
          2,
          15,
          8,
          16,
          20,
          10,
          3,
          4,
          11,
          8,
          4,
          25,
          11,
          1,
          2,
          16,
          27,
          11,
          23,
          7,
          3,
          39,
          89,
          27,
          29,
          1,
          6,
          16,
          38,
          10,
          10,
          3,
          39,
          13,
          17,
          23,
          13,
          7,
          7,
          21,
          33,
          44,
          28,
          1,
          12,
          21,
          15,
          16,
          32,
          4,
          6,
          16,
          8,
          18,
          17,
          1,
          2,
          18,
          10,
          7,
          6,
          12,
          1,
          16,
          4,
          28,
          15,
          29,
          8,
          16,
          32,
          14,
          23,
          14,
          6,
          9,
          5,
          2,
          27,
          9,
          12,
          9,
          9,
          5,
          7,
          7,
          16,
          7,
          18,
          6,
          12,
          9,
          13,
          3,
          6,
          12,
          5,
          10,
          9,
          6,
          4,
          5,
          5,
          20,
          5,
          2,
          4,
          8,
          2,
          3,
          7,
          9,
          38,
          17,
          23,
          8,
          12,
          4,
          15,
          33,
          22,
          4,
          7,
          9,
          28,
          16,
          7,
          28,
          3,
          12,
          16,
          17,
          24,
          3,
          1,
          5,
          6,
          8,
          12,
          22,
          1,
          16,
          9,
          12,
          7,
          6,
          11,
          10,
          3,
          8,
          4,
          6,
          6,
          7,
          7,
          5,
          15,
          17,
          6,
          8,
          4,
          2,
          3,
          5,
          10,
          10,
          16,
          4,
          14,
          15,
          7,
          13,
          1,
          9,
          10,
          18,
          15,
          9,
          1,
          12,
          14,
          1,
          8,
          37,
          16,
          15,
          16,
          17,
          6,
          7,
          19,
          16,
          6,
          15,
          5,
          20,
          6,
          4,
          10,
          19,
          3,
          14,
          20,
          39,
          22,
          6,
          13,
          28,
          16,
          13,
          22,
          8,
          9,
          33,
          16,
          23,
          1,
          1,
          4,
          15,
          13,
          13,
          6,
          3,
          5,
          16,
          7,
          14,
          10,
          3,
          10,
          7,
          6,
          4,
          5,
          7,
          1,
          1,
          1,
          1,
          1,
          1,
          1,
          1,
          6,
          1,
          2,
          8,
          12,
          26,
          18,
          33,
          43,
          50,
          68,
          102,
          119,
          91,
          40,
          89,
          119,
          228,
          294,
          453,
          189,
          1,
          21,
          9,
          165,
          108,
          2,
          1,
          1,
          1,
          1,
          1,
          1,
          4,
          1,
          1,
          1,
          4,
          1,
          1,
          1,
          1,
          2,
          1,
          1,
          1,
          1,
          1,
          1,
          1,
          1,
          1,
          3,
          1,
          4,
          1,
          1,
          3,
          1,
          9,
          1,
          2,
          2,
          2,
          1,
          1,
          2,
          2,
          5,
          3,
          2,
          3,
          3,
          3,
          14,
          10,
          8,
          3,
          4,
          3,
          6,
          2,
          5,
          1,
          13,
          8,
          1,
          3,
          11,
          12,
          7,
          13,
          2,
          13,
          11,
          12,
          3,
          1,
          1,
          21,
          13,
          12,
          6,
          2,
          1,
          2,
          1,
          1,
          6,
          1,
          2,
          6,
          4,
          1,
          6,
          4,
          13,
          7,
          9,
          2,
          6,
          10,
          8,
          13,
          44,
          14,
          8,
          16,
          5,
          3,
          4,
          5,
          8,
          6,
          2,
          2,
          4,
          1,
          2,
          3,
          3,
          3,
          4,
          7,
          3,
          7,
          6,
          6,
          4,
          2,
          3,
          1,
          1,
          15,
          5,
          4,
          4,
          4,
          5,
          8,
          7,
          1,
          6,
          10,
          7,
          10,
          2,
          2,
          3,
          4,
          2,
          6,
          4,
          2,
          4,
          6,
          2,
          3,
          3,
          2,
          1,
          15,
          3,
          1,
          12,
          22,
          46,
          47,
          16,
          5,
          14,
          51,
          30,
          22,
          15,
          7,
          5,
          47,
          30,
          28,
          24,
          17,
          16,
          16,
          15,
          17,
          25,
          2,
          15,
          21,
          24,
          30,
          22,
          1,
          12,
          16,
          9,
          13,
          7,
          6,
          8,
          16,
          32,
          45,
          34,
          6,
          33,
          20,
          19,
          60,
          44,
          3,
          25,
          20,
          7,
          42,
          40,
          3,
          13,
          18,
          25,
          16,
          6,
          17,
          16,
          17,
          26,
          6,
          2,
          7,
          4,
          4,
          3,
          5,
          9,
          7,
          5,
          11,
          26,
          6,
          13,
          1,
          3,
          8,
          13,
          6,
          7,
          4,
          1,
          41,
          2,
          17,
          15,
          7,
          9,
          20,
          6,
          10,
          21,
          18,
          23,
          15,
          1,
          11,
          16,
          5,
          29,
          18,
          7,
          31,
          11,
          34,
          9,
          38,
          22,
          20,
          18,
          1,
          22,
          4,
          46,
          21,
          15,
          16,
          15,
          18,
          17,
          7,
          21,
          18,
          15,
          4,
          2,
          23,
          26,
          36,
          5,
          20,
          16,
          11,
          2,
          16,
          4,
          7,
          6,
          13,
          3,
          4,
          11,
          2,
          6,
          29,
          2,
          1,
          9,
          18,
          15,
          10,
          17,
          5,
          6,
          11,
          18,
          17,
          14,
          11,
          12,
          7,
          34,
          16,
          4,
          14,
          18,
          21,
          7,
          13,
          13,
          14,
          7,
          28,
          11,
          1,
          5,
          18,
          31,
          9,
          24,
          2,
          11,
          13,
          17,
          8,
          6,
          3,
          2,
          9,
          9,
          12,
          16,
          1,
          6,
          15,
          1,
          21,
          8,
          12,
          5,
          3,
          25,
          17,
          29,
          2,
          3,
          17,
          12,
          11,
          16,
          7,
          19,
          10,
          5,
          8,
          7,
          4,
          4,
          5,
          10,
          5,
          10,
          5,
          2,
          17,
          14,
          9,
          5,
          10,
          1,
          11,
          13,
          4,
          14,
          1,
          12,
          8,
          13,
          9,
          9,
          6,
          10,
          11,
          13,
          7,
          3,
          8,
          5,
          12,
          11,
          4,
          7,
          4,
          7,
          13,
          1,
          1,
          2,
          4,
          5,
          2,
          23,
          2,
          27,
          22,
          31,
          21,
          1,
          55,
          36,
          36,
          23,
          3,
          1,
          3,
          36,
          32,
          45,
          56,
          2,
          6,
          18,
          22,
          38,
          31,
          41,
          4,
          15,
          39,
          35,
          42,
          49,
          32,
          18,
          26,
          24,
          23,
          33,
          15,
          12,
          17,
          36,
          19,
          26,
          9,
          7,
          28,
          8,
          28,
          23,
          13,
          20,
          5,
          6,
          27,
          2,
          13,
          22,
          8,
          22,
          14,
          3,
          13,
          10,
          12,
          5,
          12,
          7,
          6,
          21,
          1,
          1,
          2
         ],
         "yaxis": "y"
        }
       ],
       "layout": {
        "legend": {
         "tracegroupgap": 0
        },
        "template": {
         "data": {
          "bar": [
           {
            "error_x": {
             "color": "#2a3f5f"
            },
            "error_y": {
             "color": "#2a3f5f"
            },
            "marker": {
             "line": {
              "color": "#E5ECF6",
              "width": 0.5
             },
             "pattern": {
              "fillmode": "overlay",
              "size": 10,
              "solidity": 0.2
             }
            },
            "type": "bar"
           }
          ],
          "barpolar": [
           {
            "marker": {
             "line": {
              "color": "#E5ECF6",
              "width": 0.5
             },
             "pattern": {
              "fillmode": "overlay",
              "size": 10,
              "solidity": 0.2
             }
            },
            "type": "barpolar"
           }
          ],
          "carpet": [
           {
            "aaxis": {
             "endlinecolor": "#2a3f5f",
             "gridcolor": "white",
             "linecolor": "white",
             "minorgridcolor": "white",
             "startlinecolor": "#2a3f5f"
            },
            "baxis": {
             "endlinecolor": "#2a3f5f",
             "gridcolor": "white",
             "linecolor": "white",
             "minorgridcolor": "white",
             "startlinecolor": "#2a3f5f"
            },
            "type": "carpet"
           }
          ],
          "choropleth": [
           {
            "colorbar": {
             "outlinewidth": 0,
             "ticks": ""
            },
            "type": "choropleth"
           }
          ],
          "contour": [
           {
            "colorbar": {
             "outlinewidth": 0,
             "ticks": ""
            },
            "colorscale": [
             [
              0,
              "#0d0887"
             ],
             [
              0.1111111111111111,
              "#46039f"
             ],
             [
              0.2222222222222222,
              "#7201a8"
             ],
             [
              0.3333333333333333,
              "#9c179e"
             ],
             [
              0.4444444444444444,
              "#bd3786"
             ],
             [
              0.5555555555555556,
              "#d8576b"
             ],
             [
              0.6666666666666666,
              "#ed7953"
             ],
             [
              0.7777777777777778,
              "#fb9f3a"
             ],
             [
              0.8888888888888888,
              "#fdca26"
             ],
             [
              1,
              "#f0f921"
             ]
            ],
            "type": "contour"
           }
          ],
          "contourcarpet": [
           {
            "colorbar": {
             "outlinewidth": 0,
             "ticks": ""
            },
            "type": "contourcarpet"
           }
          ],
          "heatmap": [
           {
            "colorbar": {
             "outlinewidth": 0,
             "ticks": ""
            },
            "colorscale": [
             [
              0,
              "#0d0887"
             ],
             [
              0.1111111111111111,
              "#46039f"
             ],
             [
              0.2222222222222222,
              "#7201a8"
             ],
             [
              0.3333333333333333,
              "#9c179e"
             ],
             [
              0.4444444444444444,
              "#bd3786"
             ],
             [
              0.5555555555555556,
              "#d8576b"
             ],
             [
              0.6666666666666666,
              "#ed7953"
             ],
             [
              0.7777777777777778,
              "#fb9f3a"
             ],
             [
              0.8888888888888888,
              "#fdca26"
             ],
             [
              1,
              "#f0f921"
             ]
            ],
            "type": "heatmap"
           }
          ],
          "heatmapgl": [
           {
            "colorbar": {
             "outlinewidth": 0,
             "ticks": ""
            },
            "colorscale": [
             [
              0,
              "#0d0887"
             ],
             [
              0.1111111111111111,
              "#46039f"
             ],
             [
              0.2222222222222222,
              "#7201a8"
             ],
             [
              0.3333333333333333,
              "#9c179e"
             ],
             [
              0.4444444444444444,
              "#bd3786"
             ],
             [
              0.5555555555555556,
              "#d8576b"
             ],
             [
              0.6666666666666666,
              "#ed7953"
             ],
             [
              0.7777777777777778,
              "#fb9f3a"
             ],
             [
              0.8888888888888888,
              "#fdca26"
             ],
             [
              1,
              "#f0f921"
             ]
            ],
            "type": "heatmapgl"
           }
          ],
          "histogram": [
           {
            "marker": {
             "pattern": {
              "fillmode": "overlay",
              "size": 10,
              "solidity": 0.2
             }
            },
            "type": "histogram"
           }
          ],
          "histogram2d": [
           {
            "colorbar": {
             "outlinewidth": 0,
             "ticks": ""
            },
            "colorscale": [
             [
              0,
              "#0d0887"
             ],
             [
              0.1111111111111111,
              "#46039f"
             ],
             [
              0.2222222222222222,
              "#7201a8"
             ],
             [
              0.3333333333333333,
              "#9c179e"
             ],
             [
              0.4444444444444444,
              "#bd3786"
             ],
             [
              0.5555555555555556,
              "#d8576b"
             ],
             [
              0.6666666666666666,
              "#ed7953"
             ],
             [
              0.7777777777777778,
              "#fb9f3a"
             ],
             [
              0.8888888888888888,
              "#fdca26"
             ],
             [
              1,
              "#f0f921"
             ]
            ],
            "type": "histogram2d"
           }
          ],
          "histogram2dcontour": [
           {
            "colorbar": {
             "outlinewidth": 0,
             "ticks": ""
            },
            "colorscale": [
             [
              0,
              "#0d0887"
             ],
             [
              0.1111111111111111,
              "#46039f"
             ],
             [
              0.2222222222222222,
              "#7201a8"
             ],
             [
              0.3333333333333333,
              "#9c179e"
             ],
             [
              0.4444444444444444,
              "#bd3786"
             ],
             [
              0.5555555555555556,
              "#d8576b"
             ],
             [
              0.6666666666666666,
              "#ed7953"
             ],
             [
              0.7777777777777778,
              "#fb9f3a"
             ],
             [
              0.8888888888888888,
              "#fdca26"
             ],
             [
              1,
              "#f0f921"
             ]
            ],
            "type": "histogram2dcontour"
           }
          ],
          "mesh3d": [
           {
            "colorbar": {
             "outlinewidth": 0,
             "ticks": ""
            },
            "type": "mesh3d"
           }
          ],
          "parcoords": [
           {
            "line": {
             "colorbar": {
              "outlinewidth": 0,
              "ticks": ""
             }
            },
            "type": "parcoords"
           }
          ],
          "pie": [
           {
            "automargin": true,
            "type": "pie"
           }
          ],
          "scatter": [
           {
            "fillpattern": {
             "fillmode": "overlay",
             "size": 10,
             "solidity": 0.2
            },
            "type": "scatter"
           }
          ],
          "scatter3d": [
           {
            "line": {
             "colorbar": {
              "outlinewidth": 0,
              "ticks": ""
             }
            },
            "marker": {
             "colorbar": {
              "outlinewidth": 0,
              "ticks": ""
             }
            },
            "type": "scatter3d"
           }
          ],
          "scattercarpet": [
           {
            "marker": {
             "colorbar": {
              "outlinewidth": 0,
              "ticks": ""
             }
            },
            "type": "scattercarpet"
           }
          ],
          "scattergeo": [
           {
            "marker": {
             "colorbar": {
              "outlinewidth": 0,
              "ticks": ""
             }
            },
            "type": "scattergeo"
           }
          ],
          "scattergl": [
           {
            "marker": {
             "colorbar": {
              "outlinewidth": 0,
              "ticks": ""
             }
            },
            "type": "scattergl"
           }
          ],
          "scattermapbox": [
           {
            "marker": {
             "colorbar": {
              "outlinewidth": 0,
              "ticks": ""
             }
            },
            "type": "scattermapbox"
           }
          ],
          "scatterpolar": [
           {
            "marker": {
             "colorbar": {
              "outlinewidth": 0,
              "ticks": ""
             }
            },
            "type": "scatterpolar"
           }
          ],
          "scatterpolargl": [
           {
            "marker": {
             "colorbar": {
              "outlinewidth": 0,
              "ticks": ""
             }
            },
            "type": "scatterpolargl"
           }
          ],
          "scatterternary": [
           {
            "marker": {
             "colorbar": {
              "outlinewidth": 0,
              "ticks": ""
             }
            },
            "type": "scatterternary"
           }
          ],
          "surface": [
           {
            "colorbar": {
             "outlinewidth": 0,
             "ticks": ""
            },
            "colorscale": [
             [
              0,
              "#0d0887"
             ],
             [
              0.1111111111111111,
              "#46039f"
             ],
             [
              0.2222222222222222,
              "#7201a8"
             ],
             [
              0.3333333333333333,
              "#9c179e"
             ],
             [
              0.4444444444444444,
              "#bd3786"
             ],
             [
              0.5555555555555556,
              "#d8576b"
             ],
             [
              0.6666666666666666,
              "#ed7953"
             ],
             [
              0.7777777777777778,
              "#fb9f3a"
             ],
             [
              0.8888888888888888,
              "#fdca26"
             ],
             [
              1,
              "#f0f921"
             ]
            ],
            "type": "surface"
           }
          ],
          "table": [
           {
            "cells": {
             "fill": {
              "color": "#EBF0F8"
             },
             "line": {
              "color": "white"
             }
            },
            "header": {
             "fill": {
              "color": "#C8D4E3"
             },
             "line": {
              "color": "white"
             }
            },
            "type": "table"
           }
          ]
         },
         "layout": {
          "annotationdefaults": {
           "arrowcolor": "#2a3f5f",
           "arrowhead": 0,
           "arrowwidth": 1
          },
          "autotypenumbers": "strict",
          "coloraxis": {
           "colorbar": {
            "outlinewidth": 0,
            "ticks": ""
           }
          },
          "colorscale": {
           "diverging": [
            [
             0,
             "#8e0152"
            ],
            [
             0.1,
             "#c51b7d"
            ],
            [
             0.2,
             "#de77ae"
            ],
            [
             0.3,
             "#f1b6da"
            ],
            [
             0.4,
             "#fde0ef"
            ],
            [
             0.5,
             "#f7f7f7"
            ],
            [
             0.6,
             "#e6f5d0"
            ],
            [
             0.7,
             "#b8e186"
            ],
            [
             0.8,
             "#7fbc41"
            ],
            [
             0.9,
             "#4d9221"
            ],
            [
             1,
             "#276419"
            ]
           ],
           "sequential": [
            [
             0,
             "#0d0887"
            ],
            [
             0.1111111111111111,
             "#46039f"
            ],
            [
             0.2222222222222222,
             "#7201a8"
            ],
            [
             0.3333333333333333,
             "#9c179e"
            ],
            [
             0.4444444444444444,
             "#bd3786"
            ],
            [
             0.5555555555555556,
             "#d8576b"
            ],
            [
             0.6666666666666666,
             "#ed7953"
            ],
            [
             0.7777777777777778,
             "#fb9f3a"
            ],
            [
             0.8888888888888888,
             "#fdca26"
            ],
            [
             1,
             "#f0f921"
            ]
           ],
           "sequentialminus": [
            [
             0,
             "#0d0887"
            ],
            [
             0.1111111111111111,
             "#46039f"
            ],
            [
             0.2222222222222222,
             "#7201a8"
            ],
            [
             0.3333333333333333,
             "#9c179e"
            ],
            [
             0.4444444444444444,
             "#bd3786"
            ],
            [
             0.5555555555555556,
             "#d8576b"
            ],
            [
             0.6666666666666666,
             "#ed7953"
            ],
            [
             0.7777777777777778,
             "#fb9f3a"
            ],
            [
             0.8888888888888888,
             "#fdca26"
            ],
            [
             1,
             "#f0f921"
            ]
           ]
          },
          "colorway": [
           "#636efa",
           "#EF553B",
           "#00cc96",
           "#ab63fa",
           "#FFA15A",
           "#19d3f3",
           "#FF6692",
           "#B6E880",
           "#FF97FF",
           "#FECB52"
          ],
          "font": {
           "color": "#2a3f5f"
          },
          "geo": {
           "bgcolor": "white",
           "lakecolor": "white",
           "landcolor": "#E5ECF6",
           "showlakes": true,
           "showland": true,
           "subunitcolor": "white"
          },
          "hoverlabel": {
           "align": "left"
          },
          "hovermode": "closest",
          "mapbox": {
           "style": "light"
          },
          "paper_bgcolor": "white",
          "plot_bgcolor": "#E5ECF6",
          "polar": {
           "angularaxis": {
            "gridcolor": "white",
            "linecolor": "white",
            "ticks": ""
           },
           "bgcolor": "#E5ECF6",
           "radialaxis": {
            "gridcolor": "white",
            "linecolor": "white",
            "ticks": ""
           }
          },
          "scene": {
           "xaxis": {
            "backgroundcolor": "#E5ECF6",
            "gridcolor": "white",
            "gridwidth": 2,
            "linecolor": "white",
            "showbackground": true,
            "ticks": "",
            "zerolinecolor": "white"
           },
           "yaxis": {
            "backgroundcolor": "#E5ECF6",
            "gridcolor": "white",
            "gridwidth": 2,
            "linecolor": "white",
            "showbackground": true,
            "ticks": "",
            "zerolinecolor": "white"
           },
           "zaxis": {
            "backgroundcolor": "#E5ECF6",
            "gridcolor": "white",
            "gridwidth": 2,
            "linecolor": "white",
            "showbackground": true,
            "ticks": "",
            "zerolinecolor": "white"
           }
          },
          "shapedefaults": {
           "line": {
            "color": "#2a3f5f"
           }
          },
          "ternary": {
           "aaxis": {
            "gridcolor": "white",
            "linecolor": "white",
            "ticks": ""
           },
           "baxis": {
            "gridcolor": "white",
            "linecolor": "white",
            "ticks": ""
           },
           "bgcolor": "#E5ECF6",
           "caxis": {
            "gridcolor": "white",
            "linecolor": "white",
            "ticks": ""
           }
          },
          "title": {
           "x": 0.05
          },
          "xaxis": {
           "automargin": true,
           "gridcolor": "white",
           "linecolor": "white",
           "ticks": "",
           "title": {
            "standoff": 15
           },
           "zerolinecolor": "white",
           "zerolinewidth": 2
          },
          "yaxis": {
           "automargin": true,
           "gridcolor": "white",
           "linecolor": "white",
           "ticks": "",
           "title": {
            "standoff": 15
           },
           "zerolinecolor": "white",
           "zerolinewidth": 2
          }
         }
        },
        "title": {
         "text": "Número de contratos ESAP según fecha de firma 2020 - 2024"
        },
        "xaxis": {
         "anchor": "y",
         "domain": [
          0,
          1
         ],
         "title": {
          "text": "fecha_de_firma"
         }
        },
        "yaxis": {
         "anchor": "x",
         "domain": [
          0,
          1
         ],
         "title": {
          "text": "conteo"
         }
        }
       }
      }
     },
     "metadata": {},
     "output_type": "display_data"
    }
   ],
   "source": [
    "# Asegurar que 'fecha_de_firma' es un tipo de dato datetime\n",
    "secop['fecha_de_firma'] = pd.to_datetime(secop['fecha_de_firma'])\n",
    "\n",
    "# Agrupar y contar por fecha de firma\n",
    "conteo_fecha = secop.groupby('fecha_de_firma')['fecha_de_firma'].count().reset_index(name='conteo')\n",
    "\n",
    "# Crear el gráfico utilizando Plotly\n",
    "fig = px.line(conteo_fecha, x='fecha_de_firma', y='conteo', title='Número de contratos ESAP según fecha de firma 2020 - 2024')\n",
    "\n",
    "# Mostrar el gráfico\n",
    "fig.show()"
   ]
  },
  {
   "cell_type": "code",
   "execution_count": 25,
   "metadata": {},
   "outputs": [
    {
     "data": {
      "application/vnd.plotly.v1+json": {
       "config": {
        "plotlyServerURL": "https://plot.ly"
       },
       "data": [
        {
         "alignmentgroup": "True",
         "hovertemplate": "ano_fecha_de_firma=%{x}<br>Total de Contratos=%{marker.color}<extra></extra>",
         "legendgroup": "",
         "marker": {
          "color": [
           2624,
           3339,
           3017,
           3600,
           1426
          ],
          "coloraxis": "coloraxis",
          "pattern": {
           "shape": ""
          }
         },
         "name": "",
         "offsetgroup": "",
         "orientation": "v",
         "showlegend": false,
         "text": [
          2624,
          3339,
          3017,
          3600,
          1426
         ],
         "textposition": "outside",
         "type": "bar",
         "x": [
          2020,
          2021,
          2022,
          2023,
          2024
         ],
         "xaxis": "x",
         "y": [
          2624,
          3339,
          3017,
          3600,
          1426
         ],
         "yaxis": "y"
        }
       ],
       "layout": {
        "barmode": "relative",
        "coloraxis": {
         "colorbar": {
          "title": {
           "text": "Total de Contratos"
          }
         },
         "colorscale": [
          [
           0,
           "#0d0887"
          ],
          [
           0.1111111111111111,
           "#46039f"
          ],
          [
           0.2222222222222222,
           "#7201a8"
          ],
          [
           0.3333333333333333,
           "#9c179e"
          ],
          [
           0.4444444444444444,
           "#bd3786"
          ],
          [
           0.5555555555555556,
           "#d8576b"
          ],
          [
           0.6666666666666666,
           "#ed7953"
          ],
          [
           0.7777777777777778,
           "#fb9f3a"
          ],
          [
           0.8888888888888888,
           "#fdca26"
          ],
          [
           1,
           "#f0f921"
          ]
         ]
        },
        "legend": {
         "tracegroupgap": 0
        },
        "showlegend": false,
        "template": {
         "data": {
          "bar": [
           {
            "error_x": {
             "color": "#2a3f5f"
            },
            "error_y": {
             "color": "#2a3f5f"
            },
            "marker": {
             "line": {
              "color": "white",
              "width": 0.5
             },
             "pattern": {
              "fillmode": "overlay",
              "size": 10,
              "solidity": 0.2
             }
            },
            "type": "bar"
           }
          ],
          "barpolar": [
           {
            "marker": {
             "line": {
              "color": "white",
              "width": 0.5
             },
             "pattern": {
              "fillmode": "overlay",
              "size": 10,
              "solidity": 0.2
             }
            },
            "type": "barpolar"
           }
          ],
          "carpet": [
           {
            "aaxis": {
             "endlinecolor": "#2a3f5f",
             "gridcolor": "#C8D4E3",
             "linecolor": "#C8D4E3",
             "minorgridcolor": "#C8D4E3",
             "startlinecolor": "#2a3f5f"
            },
            "baxis": {
             "endlinecolor": "#2a3f5f",
             "gridcolor": "#C8D4E3",
             "linecolor": "#C8D4E3",
             "minorgridcolor": "#C8D4E3",
             "startlinecolor": "#2a3f5f"
            },
            "type": "carpet"
           }
          ],
          "choropleth": [
           {
            "colorbar": {
             "outlinewidth": 0,
             "ticks": ""
            },
            "type": "choropleth"
           }
          ],
          "contour": [
           {
            "colorbar": {
             "outlinewidth": 0,
             "ticks": ""
            },
            "colorscale": [
             [
              0,
              "#0d0887"
             ],
             [
              0.1111111111111111,
              "#46039f"
             ],
             [
              0.2222222222222222,
              "#7201a8"
             ],
             [
              0.3333333333333333,
              "#9c179e"
             ],
             [
              0.4444444444444444,
              "#bd3786"
             ],
             [
              0.5555555555555556,
              "#d8576b"
             ],
             [
              0.6666666666666666,
              "#ed7953"
             ],
             [
              0.7777777777777778,
              "#fb9f3a"
             ],
             [
              0.8888888888888888,
              "#fdca26"
             ],
             [
              1,
              "#f0f921"
             ]
            ],
            "type": "contour"
           }
          ],
          "contourcarpet": [
           {
            "colorbar": {
             "outlinewidth": 0,
             "ticks": ""
            },
            "type": "contourcarpet"
           }
          ],
          "heatmap": [
           {
            "colorbar": {
             "outlinewidth": 0,
             "ticks": ""
            },
            "colorscale": [
             [
              0,
              "#0d0887"
             ],
             [
              0.1111111111111111,
              "#46039f"
             ],
             [
              0.2222222222222222,
              "#7201a8"
             ],
             [
              0.3333333333333333,
              "#9c179e"
             ],
             [
              0.4444444444444444,
              "#bd3786"
             ],
             [
              0.5555555555555556,
              "#d8576b"
             ],
             [
              0.6666666666666666,
              "#ed7953"
             ],
             [
              0.7777777777777778,
              "#fb9f3a"
             ],
             [
              0.8888888888888888,
              "#fdca26"
             ],
             [
              1,
              "#f0f921"
             ]
            ],
            "type": "heatmap"
           }
          ],
          "heatmapgl": [
           {
            "colorbar": {
             "outlinewidth": 0,
             "ticks": ""
            },
            "colorscale": [
             [
              0,
              "#0d0887"
             ],
             [
              0.1111111111111111,
              "#46039f"
             ],
             [
              0.2222222222222222,
              "#7201a8"
             ],
             [
              0.3333333333333333,
              "#9c179e"
             ],
             [
              0.4444444444444444,
              "#bd3786"
             ],
             [
              0.5555555555555556,
              "#d8576b"
             ],
             [
              0.6666666666666666,
              "#ed7953"
             ],
             [
              0.7777777777777778,
              "#fb9f3a"
             ],
             [
              0.8888888888888888,
              "#fdca26"
             ],
             [
              1,
              "#f0f921"
             ]
            ],
            "type": "heatmapgl"
           }
          ],
          "histogram": [
           {
            "marker": {
             "pattern": {
              "fillmode": "overlay",
              "size": 10,
              "solidity": 0.2
             }
            },
            "type": "histogram"
           }
          ],
          "histogram2d": [
           {
            "colorbar": {
             "outlinewidth": 0,
             "ticks": ""
            },
            "colorscale": [
             [
              0,
              "#0d0887"
             ],
             [
              0.1111111111111111,
              "#46039f"
             ],
             [
              0.2222222222222222,
              "#7201a8"
             ],
             [
              0.3333333333333333,
              "#9c179e"
             ],
             [
              0.4444444444444444,
              "#bd3786"
             ],
             [
              0.5555555555555556,
              "#d8576b"
             ],
             [
              0.6666666666666666,
              "#ed7953"
             ],
             [
              0.7777777777777778,
              "#fb9f3a"
             ],
             [
              0.8888888888888888,
              "#fdca26"
             ],
             [
              1,
              "#f0f921"
             ]
            ],
            "type": "histogram2d"
           }
          ],
          "histogram2dcontour": [
           {
            "colorbar": {
             "outlinewidth": 0,
             "ticks": ""
            },
            "colorscale": [
             [
              0,
              "#0d0887"
             ],
             [
              0.1111111111111111,
              "#46039f"
             ],
             [
              0.2222222222222222,
              "#7201a8"
             ],
             [
              0.3333333333333333,
              "#9c179e"
             ],
             [
              0.4444444444444444,
              "#bd3786"
             ],
             [
              0.5555555555555556,
              "#d8576b"
             ],
             [
              0.6666666666666666,
              "#ed7953"
             ],
             [
              0.7777777777777778,
              "#fb9f3a"
             ],
             [
              0.8888888888888888,
              "#fdca26"
             ],
             [
              1,
              "#f0f921"
             ]
            ],
            "type": "histogram2dcontour"
           }
          ],
          "mesh3d": [
           {
            "colorbar": {
             "outlinewidth": 0,
             "ticks": ""
            },
            "type": "mesh3d"
           }
          ],
          "parcoords": [
           {
            "line": {
             "colorbar": {
              "outlinewidth": 0,
              "ticks": ""
             }
            },
            "type": "parcoords"
           }
          ],
          "pie": [
           {
            "automargin": true,
            "type": "pie"
           }
          ],
          "scatter": [
           {
            "fillpattern": {
             "fillmode": "overlay",
             "size": 10,
             "solidity": 0.2
            },
            "type": "scatter"
           }
          ],
          "scatter3d": [
           {
            "line": {
             "colorbar": {
              "outlinewidth": 0,
              "ticks": ""
             }
            },
            "marker": {
             "colorbar": {
              "outlinewidth": 0,
              "ticks": ""
             }
            },
            "type": "scatter3d"
           }
          ],
          "scattercarpet": [
           {
            "marker": {
             "colorbar": {
              "outlinewidth": 0,
              "ticks": ""
             }
            },
            "type": "scattercarpet"
           }
          ],
          "scattergeo": [
           {
            "marker": {
             "colorbar": {
              "outlinewidth": 0,
              "ticks": ""
             }
            },
            "type": "scattergeo"
           }
          ],
          "scattergl": [
           {
            "marker": {
             "colorbar": {
              "outlinewidth": 0,
              "ticks": ""
             }
            },
            "type": "scattergl"
           }
          ],
          "scattermapbox": [
           {
            "marker": {
             "colorbar": {
              "outlinewidth": 0,
              "ticks": ""
             }
            },
            "type": "scattermapbox"
           }
          ],
          "scatterpolar": [
           {
            "marker": {
             "colorbar": {
              "outlinewidth": 0,
              "ticks": ""
             }
            },
            "type": "scatterpolar"
           }
          ],
          "scatterpolargl": [
           {
            "marker": {
             "colorbar": {
              "outlinewidth": 0,
              "ticks": ""
             }
            },
            "type": "scatterpolargl"
           }
          ],
          "scatterternary": [
           {
            "marker": {
             "colorbar": {
              "outlinewidth": 0,
              "ticks": ""
             }
            },
            "type": "scatterternary"
           }
          ],
          "surface": [
           {
            "colorbar": {
             "outlinewidth": 0,
             "ticks": ""
            },
            "colorscale": [
             [
              0,
              "#0d0887"
             ],
             [
              0.1111111111111111,
              "#46039f"
             ],
             [
              0.2222222222222222,
              "#7201a8"
             ],
             [
              0.3333333333333333,
              "#9c179e"
             ],
             [
              0.4444444444444444,
              "#bd3786"
             ],
             [
              0.5555555555555556,
              "#d8576b"
             ],
             [
              0.6666666666666666,
              "#ed7953"
             ],
             [
              0.7777777777777778,
              "#fb9f3a"
             ],
             [
              0.8888888888888888,
              "#fdca26"
             ],
             [
              1,
              "#f0f921"
             ]
            ],
            "type": "surface"
           }
          ],
          "table": [
           {
            "cells": {
             "fill": {
              "color": "#EBF0F8"
             },
             "line": {
              "color": "white"
             }
            },
            "header": {
             "fill": {
              "color": "#C8D4E3"
             },
             "line": {
              "color": "white"
             }
            },
            "type": "table"
           }
          ]
         },
         "layout": {
          "annotationdefaults": {
           "arrowcolor": "#2a3f5f",
           "arrowhead": 0,
           "arrowwidth": 1
          },
          "autotypenumbers": "strict",
          "coloraxis": {
           "colorbar": {
            "outlinewidth": 0,
            "ticks": ""
           }
          },
          "colorscale": {
           "diverging": [
            [
             0,
             "#8e0152"
            ],
            [
             0.1,
             "#c51b7d"
            ],
            [
             0.2,
             "#de77ae"
            ],
            [
             0.3,
             "#f1b6da"
            ],
            [
             0.4,
             "#fde0ef"
            ],
            [
             0.5,
             "#f7f7f7"
            ],
            [
             0.6,
             "#e6f5d0"
            ],
            [
             0.7,
             "#b8e186"
            ],
            [
             0.8,
             "#7fbc41"
            ],
            [
             0.9,
             "#4d9221"
            ],
            [
             1,
             "#276419"
            ]
           ],
           "sequential": [
            [
             0,
             "#0d0887"
            ],
            [
             0.1111111111111111,
             "#46039f"
            ],
            [
             0.2222222222222222,
             "#7201a8"
            ],
            [
             0.3333333333333333,
             "#9c179e"
            ],
            [
             0.4444444444444444,
             "#bd3786"
            ],
            [
             0.5555555555555556,
             "#d8576b"
            ],
            [
             0.6666666666666666,
             "#ed7953"
            ],
            [
             0.7777777777777778,
             "#fb9f3a"
            ],
            [
             0.8888888888888888,
             "#fdca26"
            ],
            [
             1,
             "#f0f921"
            ]
           ],
           "sequentialminus": [
            [
             0,
             "#0d0887"
            ],
            [
             0.1111111111111111,
             "#46039f"
            ],
            [
             0.2222222222222222,
             "#7201a8"
            ],
            [
             0.3333333333333333,
             "#9c179e"
            ],
            [
             0.4444444444444444,
             "#bd3786"
            ],
            [
             0.5555555555555556,
             "#d8576b"
            ],
            [
             0.6666666666666666,
             "#ed7953"
            ],
            [
             0.7777777777777778,
             "#fb9f3a"
            ],
            [
             0.8888888888888888,
             "#fdca26"
            ],
            [
             1,
             "#f0f921"
            ]
           ]
          },
          "colorway": [
           "#636efa",
           "#EF553B",
           "#00cc96",
           "#ab63fa",
           "#FFA15A",
           "#19d3f3",
           "#FF6692",
           "#B6E880",
           "#FF97FF",
           "#FECB52"
          ],
          "font": {
           "color": "#2a3f5f"
          },
          "geo": {
           "bgcolor": "white",
           "lakecolor": "white",
           "landcolor": "white",
           "showlakes": true,
           "showland": true,
           "subunitcolor": "#C8D4E3"
          },
          "hoverlabel": {
           "align": "left"
          },
          "hovermode": "closest",
          "mapbox": {
           "style": "light"
          },
          "paper_bgcolor": "white",
          "plot_bgcolor": "white",
          "polar": {
           "angularaxis": {
            "gridcolor": "#EBF0F8",
            "linecolor": "#EBF0F8",
            "ticks": ""
           },
           "bgcolor": "white",
           "radialaxis": {
            "gridcolor": "#EBF0F8",
            "linecolor": "#EBF0F8",
            "ticks": ""
           }
          },
          "scene": {
           "xaxis": {
            "backgroundcolor": "white",
            "gridcolor": "#DFE8F3",
            "gridwidth": 2,
            "linecolor": "#EBF0F8",
            "showbackground": true,
            "ticks": "",
            "zerolinecolor": "#EBF0F8"
           },
           "yaxis": {
            "backgroundcolor": "white",
            "gridcolor": "#DFE8F3",
            "gridwidth": 2,
            "linecolor": "#EBF0F8",
            "showbackground": true,
            "ticks": "",
            "zerolinecolor": "#EBF0F8"
           },
           "zaxis": {
            "backgroundcolor": "white",
            "gridcolor": "#DFE8F3",
            "gridwidth": 2,
            "linecolor": "#EBF0F8",
            "showbackground": true,
            "ticks": "",
            "zerolinecolor": "#EBF0F8"
           }
          },
          "shapedefaults": {
           "line": {
            "color": "#2a3f5f"
           }
          },
          "ternary": {
           "aaxis": {
            "gridcolor": "#DFE8F3",
            "linecolor": "#A2B1C6",
            "ticks": ""
           },
           "baxis": {
            "gridcolor": "#DFE8F3",
            "linecolor": "#A2B1C6",
            "ticks": ""
           },
           "bgcolor": "white",
           "caxis": {
            "gridcolor": "#DFE8F3",
            "linecolor": "#A2B1C6",
            "ticks": ""
           }
          },
          "title": {
           "x": 0.05
          },
          "xaxis": {
           "automargin": true,
           "gridcolor": "#EBF0F8",
           "linecolor": "#EBF0F8",
           "ticks": "",
           "title": {
            "standoff": 15
           },
           "zerolinecolor": "#EBF0F8",
           "zerolinewidth": 2
          },
          "yaxis": {
           "automargin": true,
           "gridcolor": "#EBF0F8",
           "linecolor": "#EBF0F8",
           "ticks": "",
           "title": {
            "standoff": 15
           },
           "zerolinecolor": "#EBF0F8",
           "zerolinewidth": 2
          }
         }
        },
        "title": {
         "text": "Número de contratos ESAP según año de firma 2020 - 2024"
        },
        "xaxis": {
         "anchor": "y",
         "domain": [
          0,
          1
         ],
         "tickmode": "linear",
         "title": {
          "text": "ano_fecha_de_firma"
         }
        },
        "yaxis": {
         "anchor": "x",
         "domain": [
          0,
          1
         ],
         "title": {
          "text": "Total de Contratos"
         }
        }
       }
      }
     },
     "metadata": {},
     "output_type": "display_data"
    }
   ],
   "source": [
    "# Calcular el total del número de contratos por año\n",
    "total_contratos_por_ano = secop.groupby('ano_fecha_de_firma').size().reset_index(name='total_contratos')\n",
    "\n",
    "# Crear el gráfico utilizando Plotly\n",
    "fig = px.bar(total_contratos_por_ano, x='ano_fecha_de_firma', y='total_contratos', \n",
    "             color='total_contratos',\n",
    "             labels={'total_contratos': 'Total de Contratos'},\n",
    "             title='Número de contratos ESAP según año de firma 2020 - 2024')\n",
    "\n",
    "# Agregar anotaciones de texto para mostrar el total de contratos por año\n",
    "fig.update_traces(text=total_contratos_por_ano['total_contratos'], textposition='outside')\n",
    "\n",
    "# Personalizar el diseño del gráfico\n",
    "fig.update_layout(\n",
    "    showlegend=False,\n",
    "    xaxis=dict(tickmode='linear'),\n",
    "    template='plotly_white'\n",
    ")\n",
    "\n",
    "# Mostrar el gráfico\n",
    "fig.show()"
   ]
  },
  {
   "cell_type": "markdown",
   "metadata": {},
   "source": [
    "_Número de contratos ESAP por semestre 2020 - 2024_"
   ]
  },
  {
   "cell_type": "code",
   "execution_count": 32,
   "metadata": {},
   "outputs": [
    {
     "data": {
      "application/vnd.plotly.v1+json": {
       "config": {
        "plotlyServerURL": "https://plot.ly"
       },
       "data": [
        {
         "alignmentgroup": "True",
         "hovertemplate": "Año de Firma=%{x}<br>Total de Contratos=%{y}<br>Periodo=%{marker.color}<extra></extra>",
         "legendgroup": "",
         "marker": {
          "color": [
           1,
           2,
           1,
           2,
           1,
           2,
           1,
           2,
           1
          ],
          "coloraxis": "coloraxis",
          "pattern": {
           "shape": ""
          }
         },
         "name": "",
         "offsetgroup": "",
         "orientation": "v",
         "showlegend": false,
         "textposition": "auto",
         "type": "bar",
         "x": [
          2020,
          2020,
          2021,
          2021,
          2022,
          2022,
          2023,
          2023,
          2024
         ],
         "xaxis": "x",
         "y": [
          791,
          1833,
          2168,
          1171,
          2381,
          636,
          2454,
          1146,
          1426
         ],
         "yaxis": "y"
        }
       ],
       "layout": {
        "barmode": "group",
        "coloraxis": {
         "colorbar": {
          "title": {
           "text": "Periodo"
          }
         },
         "colorscale": [
          [
           0,
           "#0d0887"
          ],
          [
           0.1111111111111111,
           "#46039f"
          ],
          [
           0.2222222222222222,
           "#7201a8"
          ],
          [
           0.3333333333333333,
           "#9c179e"
          ],
          [
           0.4444444444444444,
           "#bd3786"
          ],
          [
           0.5555555555555556,
           "#d8576b"
          ],
          [
           0.6666666666666666,
           "#ed7953"
          ],
          [
           0.7777777777777778,
           "#fb9f3a"
          ],
          [
           0.8888888888888888,
           "#fdca26"
          ],
          [
           1,
           "#f0f921"
          ]
         ]
        },
        "legend": {
         "title": {
          "text": "Periodo"
         },
         "tracegroupgap": 0
        },
        "template": {
         "data": {
          "bar": [
           {
            "error_x": {
             "color": "#2a3f5f"
            },
            "error_y": {
             "color": "#2a3f5f"
            },
            "marker": {
             "line": {
              "color": "white",
              "width": 0.5
             },
             "pattern": {
              "fillmode": "overlay",
              "size": 10,
              "solidity": 0.2
             }
            },
            "type": "bar"
           }
          ],
          "barpolar": [
           {
            "marker": {
             "line": {
              "color": "white",
              "width": 0.5
             },
             "pattern": {
              "fillmode": "overlay",
              "size": 10,
              "solidity": 0.2
             }
            },
            "type": "barpolar"
           }
          ],
          "carpet": [
           {
            "aaxis": {
             "endlinecolor": "#2a3f5f",
             "gridcolor": "#C8D4E3",
             "linecolor": "#C8D4E3",
             "minorgridcolor": "#C8D4E3",
             "startlinecolor": "#2a3f5f"
            },
            "baxis": {
             "endlinecolor": "#2a3f5f",
             "gridcolor": "#C8D4E3",
             "linecolor": "#C8D4E3",
             "minorgridcolor": "#C8D4E3",
             "startlinecolor": "#2a3f5f"
            },
            "type": "carpet"
           }
          ],
          "choropleth": [
           {
            "colorbar": {
             "outlinewidth": 0,
             "ticks": ""
            },
            "type": "choropleth"
           }
          ],
          "contour": [
           {
            "colorbar": {
             "outlinewidth": 0,
             "ticks": ""
            },
            "colorscale": [
             [
              0,
              "#0d0887"
             ],
             [
              0.1111111111111111,
              "#46039f"
             ],
             [
              0.2222222222222222,
              "#7201a8"
             ],
             [
              0.3333333333333333,
              "#9c179e"
             ],
             [
              0.4444444444444444,
              "#bd3786"
             ],
             [
              0.5555555555555556,
              "#d8576b"
             ],
             [
              0.6666666666666666,
              "#ed7953"
             ],
             [
              0.7777777777777778,
              "#fb9f3a"
             ],
             [
              0.8888888888888888,
              "#fdca26"
             ],
             [
              1,
              "#f0f921"
             ]
            ],
            "type": "contour"
           }
          ],
          "contourcarpet": [
           {
            "colorbar": {
             "outlinewidth": 0,
             "ticks": ""
            },
            "type": "contourcarpet"
           }
          ],
          "heatmap": [
           {
            "colorbar": {
             "outlinewidth": 0,
             "ticks": ""
            },
            "colorscale": [
             [
              0,
              "#0d0887"
             ],
             [
              0.1111111111111111,
              "#46039f"
             ],
             [
              0.2222222222222222,
              "#7201a8"
             ],
             [
              0.3333333333333333,
              "#9c179e"
             ],
             [
              0.4444444444444444,
              "#bd3786"
             ],
             [
              0.5555555555555556,
              "#d8576b"
             ],
             [
              0.6666666666666666,
              "#ed7953"
             ],
             [
              0.7777777777777778,
              "#fb9f3a"
             ],
             [
              0.8888888888888888,
              "#fdca26"
             ],
             [
              1,
              "#f0f921"
             ]
            ],
            "type": "heatmap"
           }
          ],
          "heatmapgl": [
           {
            "colorbar": {
             "outlinewidth": 0,
             "ticks": ""
            },
            "colorscale": [
             [
              0,
              "#0d0887"
             ],
             [
              0.1111111111111111,
              "#46039f"
             ],
             [
              0.2222222222222222,
              "#7201a8"
             ],
             [
              0.3333333333333333,
              "#9c179e"
             ],
             [
              0.4444444444444444,
              "#bd3786"
             ],
             [
              0.5555555555555556,
              "#d8576b"
             ],
             [
              0.6666666666666666,
              "#ed7953"
             ],
             [
              0.7777777777777778,
              "#fb9f3a"
             ],
             [
              0.8888888888888888,
              "#fdca26"
             ],
             [
              1,
              "#f0f921"
             ]
            ],
            "type": "heatmapgl"
           }
          ],
          "histogram": [
           {
            "marker": {
             "pattern": {
              "fillmode": "overlay",
              "size": 10,
              "solidity": 0.2
             }
            },
            "type": "histogram"
           }
          ],
          "histogram2d": [
           {
            "colorbar": {
             "outlinewidth": 0,
             "ticks": ""
            },
            "colorscale": [
             [
              0,
              "#0d0887"
             ],
             [
              0.1111111111111111,
              "#46039f"
             ],
             [
              0.2222222222222222,
              "#7201a8"
             ],
             [
              0.3333333333333333,
              "#9c179e"
             ],
             [
              0.4444444444444444,
              "#bd3786"
             ],
             [
              0.5555555555555556,
              "#d8576b"
             ],
             [
              0.6666666666666666,
              "#ed7953"
             ],
             [
              0.7777777777777778,
              "#fb9f3a"
             ],
             [
              0.8888888888888888,
              "#fdca26"
             ],
             [
              1,
              "#f0f921"
             ]
            ],
            "type": "histogram2d"
           }
          ],
          "histogram2dcontour": [
           {
            "colorbar": {
             "outlinewidth": 0,
             "ticks": ""
            },
            "colorscale": [
             [
              0,
              "#0d0887"
             ],
             [
              0.1111111111111111,
              "#46039f"
             ],
             [
              0.2222222222222222,
              "#7201a8"
             ],
             [
              0.3333333333333333,
              "#9c179e"
             ],
             [
              0.4444444444444444,
              "#bd3786"
             ],
             [
              0.5555555555555556,
              "#d8576b"
             ],
             [
              0.6666666666666666,
              "#ed7953"
             ],
             [
              0.7777777777777778,
              "#fb9f3a"
             ],
             [
              0.8888888888888888,
              "#fdca26"
             ],
             [
              1,
              "#f0f921"
             ]
            ],
            "type": "histogram2dcontour"
           }
          ],
          "mesh3d": [
           {
            "colorbar": {
             "outlinewidth": 0,
             "ticks": ""
            },
            "type": "mesh3d"
           }
          ],
          "parcoords": [
           {
            "line": {
             "colorbar": {
              "outlinewidth": 0,
              "ticks": ""
             }
            },
            "type": "parcoords"
           }
          ],
          "pie": [
           {
            "automargin": true,
            "type": "pie"
           }
          ],
          "scatter": [
           {
            "fillpattern": {
             "fillmode": "overlay",
             "size": 10,
             "solidity": 0.2
            },
            "type": "scatter"
           }
          ],
          "scatter3d": [
           {
            "line": {
             "colorbar": {
              "outlinewidth": 0,
              "ticks": ""
             }
            },
            "marker": {
             "colorbar": {
              "outlinewidth": 0,
              "ticks": ""
             }
            },
            "type": "scatter3d"
           }
          ],
          "scattercarpet": [
           {
            "marker": {
             "colorbar": {
              "outlinewidth": 0,
              "ticks": ""
             }
            },
            "type": "scattercarpet"
           }
          ],
          "scattergeo": [
           {
            "marker": {
             "colorbar": {
              "outlinewidth": 0,
              "ticks": ""
             }
            },
            "type": "scattergeo"
           }
          ],
          "scattergl": [
           {
            "marker": {
             "colorbar": {
              "outlinewidth": 0,
              "ticks": ""
             }
            },
            "type": "scattergl"
           }
          ],
          "scattermapbox": [
           {
            "marker": {
             "colorbar": {
              "outlinewidth": 0,
              "ticks": ""
             }
            },
            "type": "scattermapbox"
           }
          ],
          "scatterpolar": [
           {
            "marker": {
             "colorbar": {
              "outlinewidth": 0,
              "ticks": ""
             }
            },
            "type": "scatterpolar"
           }
          ],
          "scatterpolargl": [
           {
            "marker": {
             "colorbar": {
              "outlinewidth": 0,
              "ticks": ""
             }
            },
            "type": "scatterpolargl"
           }
          ],
          "scatterternary": [
           {
            "marker": {
             "colorbar": {
              "outlinewidth": 0,
              "ticks": ""
             }
            },
            "type": "scatterternary"
           }
          ],
          "surface": [
           {
            "colorbar": {
             "outlinewidth": 0,
             "ticks": ""
            },
            "colorscale": [
             [
              0,
              "#0d0887"
             ],
             [
              0.1111111111111111,
              "#46039f"
             ],
             [
              0.2222222222222222,
              "#7201a8"
             ],
             [
              0.3333333333333333,
              "#9c179e"
             ],
             [
              0.4444444444444444,
              "#bd3786"
             ],
             [
              0.5555555555555556,
              "#d8576b"
             ],
             [
              0.6666666666666666,
              "#ed7953"
             ],
             [
              0.7777777777777778,
              "#fb9f3a"
             ],
             [
              0.8888888888888888,
              "#fdca26"
             ],
             [
              1,
              "#f0f921"
             ]
            ],
            "type": "surface"
           }
          ],
          "table": [
           {
            "cells": {
             "fill": {
              "color": "#EBF0F8"
             },
             "line": {
              "color": "white"
             }
            },
            "header": {
             "fill": {
              "color": "#C8D4E3"
             },
             "line": {
              "color": "white"
             }
            },
            "type": "table"
           }
          ]
         },
         "layout": {
          "annotationdefaults": {
           "arrowcolor": "#2a3f5f",
           "arrowhead": 0,
           "arrowwidth": 1
          },
          "autotypenumbers": "strict",
          "coloraxis": {
           "colorbar": {
            "outlinewidth": 0,
            "ticks": ""
           }
          },
          "colorscale": {
           "diverging": [
            [
             0,
             "#8e0152"
            ],
            [
             0.1,
             "#c51b7d"
            ],
            [
             0.2,
             "#de77ae"
            ],
            [
             0.3,
             "#f1b6da"
            ],
            [
             0.4,
             "#fde0ef"
            ],
            [
             0.5,
             "#f7f7f7"
            ],
            [
             0.6,
             "#e6f5d0"
            ],
            [
             0.7,
             "#b8e186"
            ],
            [
             0.8,
             "#7fbc41"
            ],
            [
             0.9,
             "#4d9221"
            ],
            [
             1,
             "#276419"
            ]
           ],
           "sequential": [
            [
             0,
             "#0d0887"
            ],
            [
             0.1111111111111111,
             "#46039f"
            ],
            [
             0.2222222222222222,
             "#7201a8"
            ],
            [
             0.3333333333333333,
             "#9c179e"
            ],
            [
             0.4444444444444444,
             "#bd3786"
            ],
            [
             0.5555555555555556,
             "#d8576b"
            ],
            [
             0.6666666666666666,
             "#ed7953"
            ],
            [
             0.7777777777777778,
             "#fb9f3a"
            ],
            [
             0.8888888888888888,
             "#fdca26"
            ],
            [
             1,
             "#f0f921"
            ]
           ],
           "sequentialminus": [
            [
             0,
             "#0d0887"
            ],
            [
             0.1111111111111111,
             "#46039f"
            ],
            [
             0.2222222222222222,
             "#7201a8"
            ],
            [
             0.3333333333333333,
             "#9c179e"
            ],
            [
             0.4444444444444444,
             "#bd3786"
            ],
            [
             0.5555555555555556,
             "#d8576b"
            ],
            [
             0.6666666666666666,
             "#ed7953"
            ],
            [
             0.7777777777777778,
             "#fb9f3a"
            ],
            [
             0.8888888888888888,
             "#fdca26"
            ],
            [
             1,
             "#f0f921"
            ]
           ]
          },
          "colorway": [
           "#636efa",
           "#EF553B",
           "#00cc96",
           "#ab63fa",
           "#FFA15A",
           "#19d3f3",
           "#FF6692",
           "#B6E880",
           "#FF97FF",
           "#FECB52"
          ],
          "font": {
           "color": "#2a3f5f"
          },
          "geo": {
           "bgcolor": "white",
           "lakecolor": "white",
           "landcolor": "white",
           "showlakes": true,
           "showland": true,
           "subunitcolor": "#C8D4E3"
          },
          "hoverlabel": {
           "align": "left"
          },
          "hovermode": "closest",
          "mapbox": {
           "style": "light"
          },
          "paper_bgcolor": "white",
          "plot_bgcolor": "white",
          "polar": {
           "angularaxis": {
            "gridcolor": "#EBF0F8",
            "linecolor": "#EBF0F8",
            "ticks": ""
           },
           "bgcolor": "white",
           "radialaxis": {
            "gridcolor": "#EBF0F8",
            "linecolor": "#EBF0F8",
            "ticks": ""
           }
          },
          "scene": {
           "xaxis": {
            "backgroundcolor": "white",
            "gridcolor": "#DFE8F3",
            "gridwidth": 2,
            "linecolor": "#EBF0F8",
            "showbackground": true,
            "ticks": "",
            "zerolinecolor": "#EBF0F8"
           },
           "yaxis": {
            "backgroundcolor": "white",
            "gridcolor": "#DFE8F3",
            "gridwidth": 2,
            "linecolor": "#EBF0F8",
            "showbackground": true,
            "ticks": "",
            "zerolinecolor": "#EBF0F8"
           },
           "zaxis": {
            "backgroundcolor": "white",
            "gridcolor": "#DFE8F3",
            "gridwidth": 2,
            "linecolor": "#EBF0F8",
            "showbackground": true,
            "ticks": "",
            "zerolinecolor": "#EBF0F8"
           }
          },
          "shapedefaults": {
           "line": {
            "color": "#2a3f5f"
           }
          },
          "ternary": {
           "aaxis": {
            "gridcolor": "#DFE8F3",
            "linecolor": "#A2B1C6",
            "ticks": ""
           },
           "baxis": {
            "gridcolor": "#DFE8F3",
            "linecolor": "#A2B1C6",
            "ticks": ""
           },
           "bgcolor": "white",
           "caxis": {
            "gridcolor": "#DFE8F3",
            "linecolor": "#A2B1C6",
            "ticks": ""
           }
          },
          "title": {
           "x": 0.05
          },
          "xaxis": {
           "automargin": true,
           "gridcolor": "#EBF0F8",
           "linecolor": "#EBF0F8",
           "ticks": "",
           "title": {
            "standoff": 15
           },
           "zerolinecolor": "#EBF0F8",
           "zerolinewidth": 2
          },
          "yaxis": {
           "automargin": true,
           "gridcolor": "#EBF0F8",
           "linecolor": "#EBF0F8",
           "ticks": "",
           "title": {
            "standoff": 15
           },
           "zerolinecolor": "#EBF0F8",
           "zerolinewidth": 2
          }
         }
        },
        "title": {
         "text": "Número de contratos ESAP según año de firma y periodo"
        },
        "xaxis": {
         "anchor": "y",
         "domain": [
          0,
          1
         ],
         "tickmode": "linear",
         "title": {
          "text": "Período de Firma"
         }
        },
        "yaxis": {
         "anchor": "x",
         "domain": [
          0,
          1
         ],
         "title": {
          "text": "Total de Contratos"
         }
        }
       }
      }
     },
     "metadata": {},
     "output_type": "display_data"
    }
   ],
   "source": [
    "\n",
    "# Agrupar por 'ano_fecha_de_firma' y 'periodo', y contar el número de contratos\n",
    "total_contratos_por_ano_periodo = secop.groupby(['ano_fecha_de_firma', 'periodo']).size().reset_index(name='total_contratos')\n",
    "\n",
    "# Crear el gráfico utilizando Plotly\n",
    "import plotly.express as px\n",
    "\n",
    "fig = px.bar(total_contratos_por_ano_periodo, x='ano_fecha_de_firma', y='total_contratos',\n",
    "             color='periodo', barmode='group',\n",
    "             labels={'total_contratos': 'Total de Contratos', 'ano_fecha_de_firma': 'Año de Firma', 'periodo': 'Periodo'},\n",
    "             title='Número de contratos ESAP según año de firma y periodo')\n",
    "\n",
    "# Personalizar el diseño del gráfico\n",
    "fig.update_layout(\n",
    "    xaxis=dict(tickmode='linear', title='Período de Firma'),\n",
    "    yaxis=dict(title='Total de Contratos'),\n",
    "    legend_title='Periodo',\n",
    "    template='plotly_white'\n",
    ")\n",
    "\n",
    "# Mostrar el gráfico\n",
    "fig.show()"
   ]
  },
  {
   "cell_type": "markdown",
   "metadata": {},
   "source": [
    "_Número de contratos ESAP por tipo de contrato año 2020 - 2024_"
   ]
  },
  {
   "cell_type": "code",
   "execution_count": 43,
   "metadata": {},
   "outputs": [
    {
     "data": {
      "application/vnd.plotly.v1+json": {
       "config": {
        "plotlyServerURL": "https://plot.ly"
       },
       "data": [
        {
         "name": "Arrendamiento de inmuebles",
         "type": "bar",
         "x": [
          2020,
          2021,
          2022,
          2023,
          2024
         ],
         "y": [
          33,
          26,
          22,
          30,
          18
         ]
        },
        {
         "name": "Comodato",
         "type": "bar",
         "x": [
          2020,
          2021,
          2022,
          2023,
          2024
         ],
         "y": [
          0,
          1,
          0,
          1,
          0
         ]
        },
        {
         "name": "Compraventa",
         "type": "bar",
         "x": [
          2020,
          2021,
          2022,
          2023,
          2024
         ],
         "y": [
          2,
          6,
          7,
          16,
          0
         ]
        },
        {
         "name": "Consultoría",
         "type": "bar",
         "x": [
          2020,
          2021,
          2022,
          2023,
          2024
         ],
         "y": [
          0,
          0,
          0,
          2,
          0
         ]
        },
        {
         "name": "Decreto 092 de 2017",
         "type": "bar",
         "x": [
          2020,
          2021,
          2022,
          2023,
          2024
         ],
         "y": [
          0,
          0,
          0,
          4,
          0
         ]
        },
        {
         "name": "Interventoría",
         "type": "bar",
         "x": [
          2020,
          2021,
          2022,
          2023,
          2024
         ],
         "y": [
          2,
          0,
          0,
          2,
          1
         ]
        },
        {
         "name": "No Especificado",
         "type": "bar",
         "x": [
          2020,
          2021,
          2022,
          2023,
          2024
         ],
         "y": [
          0,
          0,
          0,
          0,
          12
         ]
        },
        {
         "name": "Obra",
         "type": "bar",
         "x": [
          2020,
          2021,
          2022,
          2023,
          2024
         ],
         "y": [
          18,
          7,
          17,
          19,
          1
         ]
        },
        {
         "name": "Otro",
         "type": "bar",
         "x": [
          2020,
          2021,
          2022,
          2023,
          2024
         ],
         "y": [
          50,
          145,
          59,
          469,
          6
         ]
        },
        {
         "name": "Prestación de servicios",
         "type": "bar",
         "x": [
          2020,
          2021,
          2022,
          2023,
          2024
         ],
         "y": [
          2514,
          3147,
          2905,
          3024,
          1387
         ]
        },
        {
         "name": "Seguros",
         "type": "bar",
         "x": [
          2020,
          2021,
          2022,
          2023,
          2024
         ],
         "y": [
          0,
          1,
          0,
          9,
          0
         ]
        },
        {
         "name": "Servicios financieros",
         "type": "bar",
         "x": [
          2020,
          2021,
          2022,
          2023,
          2024
         ],
         "y": [
          0,
          0,
          0,
          1,
          0
         ]
        },
        {
         "name": "Suministros",
         "type": "bar",
         "x": [
          2020,
          2021,
          2022,
          2023,
          2024
         ],
         "y": [
          5,
          6,
          3,
          23,
          1
         ]
        },
        {
         "name": "Venta muebles",
         "type": "bar",
         "x": [
          2020,
          2021,
          2022,
          2023,
          2024
         ],
         "y": [
          0,
          0,
          4,
          0,
          0
         ]
        }
       ],
       "layout": {
        "barmode": "stack",
        "legend": {
         "title": {
          "text": "Tipo de Contrato"
         }
        },
        "template": {
         "data": {
          "bar": [
           {
            "error_x": {
             "color": "#2a3f5f"
            },
            "error_y": {
             "color": "#2a3f5f"
            },
            "marker": {
             "line": {
              "color": "#E5ECF6",
              "width": 0.5
             },
             "pattern": {
              "fillmode": "overlay",
              "size": 10,
              "solidity": 0.2
             }
            },
            "type": "bar"
           }
          ],
          "barpolar": [
           {
            "marker": {
             "line": {
              "color": "#E5ECF6",
              "width": 0.5
             },
             "pattern": {
              "fillmode": "overlay",
              "size": 10,
              "solidity": 0.2
             }
            },
            "type": "barpolar"
           }
          ],
          "carpet": [
           {
            "aaxis": {
             "endlinecolor": "#2a3f5f",
             "gridcolor": "white",
             "linecolor": "white",
             "minorgridcolor": "white",
             "startlinecolor": "#2a3f5f"
            },
            "baxis": {
             "endlinecolor": "#2a3f5f",
             "gridcolor": "white",
             "linecolor": "white",
             "minorgridcolor": "white",
             "startlinecolor": "#2a3f5f"
            },
            "type": "carpet"
           }
          ],
          "choropleth": [
           {
            "colorbar": {
             "outlinewidth": 0,
             "ticks": ""
            },
            "type": "choropleth"
           }
          ],
          "contour": [
           {
            "colorbar": {
             "outlinewidth": 0,
             "ticks": ""
            },
            "colorscale": [
             [
              0,
              "#0d0887"
             ],
             [
              0.1111111111111111,
              "#46039f"
             ],
             [
              0.2222222222222222,
              "#7201a8"
             ],
             [
              0.3333333333333333,
              "#9c179e"
             ],
             [
              0.4444444444444444,
              "#bd3786"
             ],
             [
              0.5555555555555556,
              "#d8576b"
             ],
             [
              0.6666666666666666,
              "#ed7953"
             ],
             [
              0.7777777777777778,
              "#fb9f3a"
             ],
             [
              0.8888888888888888,
              "#fdca26"
             ],
             [
              1,
              "#f0f921"
             ]
            ],
            "type": "contour"
           }
          ],
          "contourcarpet": [
           {
            "colorbar": {
             "outlinewidth": 0,
             "ticks": ""
            },
            "type": "contourcarpet"
           }
          ],
          "heatmap": [
           {
            "colorbar": {
             "outlinewidth": 0,
             "ticks": ""
            },
            "colorscale": [
             [
              0,
              "#0d0887"
             ],
             [
              0.1111111111111111,
              "#46039f"
             ],
             [
              0.2222222222222222,
              "#7201a8"
             ],
             [
              0.3333333333333333,
              "#9c179e"
             ],
             [
              0.4444444444444444,
              "#bd3786"
             ],
             [
              0.5555555555555556,
              "#d8576b"
             ],
             [
              0.6666666666666666,
              "#ed7953"
             ],
             [
              0.7777777777777778,
              "#fb9f3a"
             ],
             [
              0.8888888888888888,
              "#fdca26"
             ],
             [
              1,
              "#f0f921"
             ]
            ],
            "type": "heatmap"
           }
          ],
          "heatmapgl": [
           {
            "colorbar": {
             "outlinewidth": 0,
             "ticks": ""
            },
            "colorscale": [
             [
              0,
              "#0d0887"
             ],
             [
              0.1111111111111111,
              "#46039f"
             ],
             [
              0.2222222222222222,
              "#7201a8"
             ],
             [
              0.3333333333333333,
              "#9c179e"
             ],
             [
              0.4444444444444444,
              "#bd3786"
             ],
             [
              0.5555555555555556,
              "#d8576b"
             ],
             [
              0.6666666666666666,
              "#ed7953"
             ],
             [
              0.7777777777777778,
              "#fb9f3a"
             ],
             [
              0.8888888888888888,
              "#fdca26"
             ],
             [
              1,
              "#f0f921"
             ]
            ],
            "type": "heatmapgl"
           }
          ],
          "histogram": [
           {
            "marker": {
             "pattern": {
              "fillmode": "overlay",
              "size": 10,
              "solidity": 0.2
             }
            },
            "type": "histogram"
           }
          ],
          "histogram2d": [
           {
            "colorbar": {
             "outlinewidth": 0,
             "ticks": ""
            },
            "colorscale": [
             [
              0,
              "#0d0887"
             ],
             [
              0.1111111111111111,
              "#46039f"
             ],
             [
              0.2222222222222222,
              "#7201a8"
             ],
             [
              0.3333333333333333,
              "#9c179e"
             ],
             [
              0.4444444444444444,
              "#bd3786"
             ],
             [
              0.5555555555555556,
              "#d8576b"
             ],
             [
              0.6666666666666666,
              "#ed7953"
             ],
             [
              0.7777777777777778,
              "#fb9f3a"
             ],
             [
              0.8888888888888888,
              "#fdca26"
             ],
             [
              1,
              "#f0f921"
             ]
            ],
            "type": "histogram2d"
           }
          ],
          "histogram2dcontour": [
           {
            "colorbar": {
             "outlinewidth": 0,
             "ticks": ""
            },
            "colorscale": [
             [
              0,
              "#0d0887"
             ],
             [
              0.1111111111111111,
              "#46039f"
             ],
             [
              0.2222222222222222,
              "#7201a8"
             ],
             [
              0.3333333333333333,
              "#9c179e"
             ],
             [
              0.4444444444444444,
              "#bd3786"
             ],
             [
              0.5555555555555556,
              "#d8576b"
             ],
             [
              0.6666666666666666,
              "#ed7953"
             ],
             [
              0.7777777777777778,
              "#fb9f3a"
             ],
             [
              0.8888888888888888,
              "#fdca26"
             ],
             [
              1,
              "#f0f921"
             ]
            ],
            "type": "histogram2dcontour"
           }
          ],
          "mesh3d": [
           {
            "colorbar": {
             "outlinewidth": 0,
             "ticks": ""
            },
            "type": "mesh3d"
           }
          ],
          "parcoords": [
           {
            "line": {
             "colorbar": {
              "outlinewidth": 0,
              "ticks": ""
             }
            },
            "type": "parcoords"
           }
          ],
          "pie": [
           {
            "automargin": true,
            "type": "pie"
           }
          ],
          "scatter": [
           {
            "fillpattern": {
             "fillmode": "overlay",
             "size": 10,
             "solidity": 0.2
            },
            "type": "scatter"
           }
          ],
          "scatter3d": [
           {
            "line": {
             "colorbar": {
              "outlinewidth": 0,
              "ticks": ""
             }
            },
            "marker": {
             "colorbar": {
              "outlinewidth": 0,
              "ticks": ""
             }
            },
            "type": "scatter3d"
           }
          ],
          "scattercarpet": [
           {
            "marker": {
             "colorbar": {
              "outlinewidth": 0,
              "ticks": ""
             }
            },
            "type": "scattercarpet"
           }
          ],
          "scattergeo": [
           {
            "marker": {
             "colorbar": {
              "outlinewidth": 0,
              "ticks": ""
             }
            },
            "type": "scattergeo"
           }
          ],
          "scattergl": [
           {
            "marker": {
             "colorbar": {
              "outlinewidth": 0,
              "ticks": ""
             }
            },
            "type": "scattergl"
           }
          ],
          "scattermapbox": [
           {
            "marker": {
             "colorbar": {
              "outlinewidth": 0,
              "ticks": ""
             }
            },
            "type": "scattermapbox"
           }
          ],
          "scatterpolar": [
           {
            "marker": {
             "colorbar": {
              "outlinewidth": 0,
              "ticks": ""
             }
            },
            "type": "scatterpolar"
           }
          ],
          "scatterpolargl": [
           {
            "marker": {
             "colorbar": {
              "outlinewidth": 0,
              "ticks": ""
             }
            },
            "type": "scatterpolargl"
           }
          ],
          "scatterternary": [
           {
            "marker": {
             "colorbar": {
              "outlinewidth": 0,
              "ticks": ""
             }
            },
            "type": "scatterternary"
           }
          ],
          "surface": [
           {
            "colorbar": {
             "outlinewidth": 0,
             "ticks": ""
            },
            "colorscale": [
             [
              0,
              "#0d0887"
             ],
             [
              0.1111111111111111,
              "#46039f"
             ],
             [
              0.2222222222222222,
              "#7201a8"
             ],
             [
              0.3333333333333333,
              "#9c179e"
             ],
             [
              0.4444444444444444,
              "#bd3786"
             ],
             [
              0.5555555555555556,
              "#d8576b"
             ],
             [
              0.6666666666666666,
              "#ed7953"
             ],
             [
              0.7777777777777778,
              "#fb9f3a"
             ],
             [
              0.8888888888888888,
              "#fdca26"
             ],
             [
              1,
              "#f0f921"
             ]
            ],
            "type": "surface"
           }
          ],
          "table": [
           {
            "cells": {
             "fill": {
              "color": "#EBF0F8"
             },
             "line": {
              "color": "white"
             }
            },
            "header": {
             "fill": {
              "color": "#C8D4E3"
             },
             "line": {
              "color": "white"
             }
            },
            "type": "table"
           }
          ]
         },
         "layout": {
          "annotationdefaults": {
           "arrowcolor": "#2a3f5f",
           "arrowhead": 0,
           "arrowwidth": 1
          },
          "autotypenumbers": "strict",
          "coloraxis": {
           "colorbar": {
            "outlinewidth": 0,
            "ticks": ""
           }
          },
          "colorscale": {
           "diverging": [
            [
             0,
             "#8e0152"
            ],
            [
             0.1,
             "#c51b7d"
            ],
            [
             0.2,
             "#de77ae"
            ],
            [
             0.3,
             "#f1b6da"
            ],
            [
             0.4,
             "#fde0ef"
            ],
            [
             0.5,
             "#f7f7f7"
            ],
            [
             0.6,
             "#e6f5d0"
            ],
            [
             0.7,
             "#b8e186"
            ],
            [
             0.8,
             "#7fbc41"
            ],
            [
             0.9,
             "#4d9221"
            ],
            [
             1,
             "#276419"
            ]
           ],
           "sequential": [
            [
             0,
             "#0d0887"
            ],
            [
             0.1111111111111111,
             "#46039f"
            ],
            [
             0.2222222222222222,
             "#7201a8"
            ],
            [
             0.3333333333333333,
             "#9c179e"
            ],
            [
             0.4444444444444444,
             "#bd3786"
            ],
            [
             0.5555555555555556,
             "#d8576b"
            ],
            [
             0.6666666666666666,
             "#ed7953"
            ],
            [
             0.7777777777777778,
             "#fb9f3a"
            ],
            [
             0.8888888888888888,
             "#fdca26"
            ],
            [
             1,
             "#f0f921"
            ]
           ],
           "sequentialminus": [
            [
             0,
             "#0d0887"
            ],
            [
             0.1111111111111111,
             "#46039f"
            ],
            [
             0.2222222222222222,
             "#7201a8"
            ],
            [
             0.3333333333333333,
             "#9c179e"
            ],
            [
             0.4444444444444444,
             "#bd3786"
            ],
            [
             0.5555555555555556,
             "#d8576b"
            ],
            [
             0.6666666666666666,
             "#ed7953"
            ],
            [
             0.7777777777777778,
             "#fb9f3a"
            ],
            [
             0.8888888888888888,
             "#fdca26"
            ],
            [
             1,
             "#f0f921"
            ]
           ]
          },
          "colorway": [
           "#636efa",
           "#EF553B",
           "#00cc96",
           "#ab63fa",
           "#FFA15A",
           "#19d3f3",
           "#FF6692",
           "#B6E880",
           "#FF97FF",
           "#FECB52"
          ],
          "font": {
           "color": "#2a3f5f"
          },
          "geo": {
           "bgcolor": "white",
           "lakecolor": "white",
           "landcolor": "#E5ECF6",
           "showlakes": true,
           "showland": true,
           "subunitcolor": "white"
          },
          "hoverlabel": {
           "align": "left"
          },
          "hovermode": "closest",
          "mapbox": {
           "style": "light"
          },
          "paper_bgcolor": "white",
          "plot_bgcolor": "#E5ECF6",
          "polar": {
           "angularaxis": {
            "gridcolor": "white",
            "linecolor": "white",
            "ticks": ""
           },
           "bgcolor": "#E5ECF6",
           "radialaxis": {
            "gridcolor": "white",
            "linecolor": "white",
            "ticks": ""
           }
          },
          "scene": {
           "xaxis": {
            "backgroundcolor": "#E5ECF6",
            "gridcolor": "white",
            "gridwidth": 2,
            "linecolor": "white",
            "showbackground": true,
            "ticks": "",
            "zerolinecolor": "white"
           },
           "yaxis": {
            "backgroundcolor": "#E5ECF6",
            "gridcolor": "white",
            "gridwidth": 2,
            "linecolor": "white",
            "showbackground": true,
            "ticks": "",
            "zerolinecolor": "white"
           },
           "zaxis": {
            "backgroundcolor": "#E5ECF6",
            "gridcolor": "white",
            "gridwidth": 2,
            "linecolor": "white",
            "showbackground": true,
            "ticks": "",
            "zerolinecolor": "white"
           }
          },
          "shapedefaults": {
           "line": {
            "color": "#2a3f5f"
           }
          },
          "ternary": {
           "aaxis": {
            "gridcolor": "white",
            "linecolor": "white",
            "ticks": ""
           },
           "baxis": {
            "gridcolor": "white",
            "linecolor": "white",
            "ticks": ""
           },
           "bgcolor": "#E5ECF6",
           "caxis": {
            "gridcolor": "white",
            "linecolor": "white",
            "ticks": ""
           }
          },
          "title": {
           "x": 0.05
          },
          "xaxis": {
           "automargin": true,
           "gridcolor": "white",
           "linecolor": "white",
           "ticks": "",
           "title": {
            "standoff": 15
           },
           "zerolinecolor": "white",
           "zerolinewidth": 2
          },
          "yaxis": {
           "automargin": true,
           "gridcolor": "white",
           "linecolor": "white",
           "ticks": "",
           "title": {
            "standoff": 15
           },
           "zerolinecolor": "white",
           "zerolinewidth": 2
          }
         }
        },
        "title": {
         "text": "Número de contratos ESAP según año de firma por tipo de contrato 2020-2024"
        },
        "xaxis": {
         "title": {
          "text": "Año de Firma"
         }
        },
        "yaxis": {
         "title": {
          "text": "Número de contratos"
         }
        }
       }
      }
     },
     "metadata": {},
     "output_type": "display_data"
    }
   ],
   "source": [
    "# Agrupar por año y tipo de contrato\n",
    "tipo_contrato_anio_counts = secop.groupby(['ano_fecha_de_firma', 'tipo_de_contrato']).size().unstack(fill_value=0)\n",
    "\n",
    "# Crear el gráfico\n",
    "fig = go.Figure()\n",
    "for tipo in tipo_contrato_anio_counts.columns:\n",
    "    fig.add_trace(go.Bar(\n",
    "        x=tipo_contrato_anio_counts.index,\n",
    "        y=tipo_contrato_anio_counts[tipo],\n",
    "        name=tipo\n",
    "    ))\n",
    "\n",
    "# Actualizar el diseño del gráfico\n",
    "fig.update_layout(\n",
    "    barmode='stack',\n",
    "    title='Número de contratos ESAP según año de firma por tipo de contrato 2020-2024',\n",
    "    xaxis_title='Año de Firma',\n",
    "    yaxis_title='Número de contratos',\n",
    "    legend_title='Tipo de Contrato'\n",
    ")"
   ]
  },
  {
   "cell_type": "markdown",
   "metadata": {},
   "source": [
    "_Número de contratos ESAP por tipo de modalidad año 2020 - 2024_"
   ]
  },
  {
   "cell_type": "code",
   "execution_count": 612,
   "metadata": {},
   "outputs": [
    {
     "data": {
      "application/vnd.plotly.v1+json": {
       "config": {
        "plotlyServerURL": "https://plot.ly"
       },
       "data": [
        {
         "name": "CCE-20-Concurso_Meritos_Sin_Lista_Corta_1Sobre",
         "type": "bar",
         "x": [
          2020,
          2021,
          2022,
          2023,
          2024
         ],
         "y": [
          0,
          0,
          0,
          4,
          0
         ]
        },
        {
         "name": "Concurso de méritos abierto",
         "type": "bar",
         "x": [
          2020,
          2021,
          2022,
          2023,
          2024
         ],
         "y": [
          2,
          0,
          0,
          0,
          0
         ]
        },
        {
         "name": "Contratación Directa (con ofertas)",
         "type": "bar",
         "x": [
          2020,
          2021,
          2022,
          2023,
          2024
         ],
         "y": [
          2,
          8,
          4,
          0,
          0
         ]
        },
        {
         "name": "Contratación directa",
         "type": "bar",
         "x": [
          2020,
          2021,
          2022,
          2023,
          2024
         ],
         "y": [
          980,
          1146,
          965,
          1841,
          299
         ]
        },
        {
         "name": "Contratación régimen especial",
         "type": "bar",
         "x": [
          2020,
          2021,
          2022,
          2023,
          2024
         ],
         "y": [
          3,
          0,
          1,
          3,
          0
         ]
        },
        {
         "name": "Enajenación de bienes con subasta",
         "type": "bar",
         "x": [
          2020,
          2021,
          2022,
          2023,
          2024
         ],
         "y": [
          0,
          0,
          2,
          0,
          0
         ]
        },
        {
         "name": "Licitación pública",
         "type": "bar",
         "x": [
          2020,
          2021,
          2022,
          2023,
          2024
         ],
         "y": [
          0,
          2,
          0,
          9,
          0
         ]
        },
        {
         "name": "Licitación pública Obra Publica",
         "type": "bar",
         "x": [
          2020,
          2021,
          2022,
          2023,
          2024
         ],
         "y": [
          2,
          0,
          0,
          4,
          0
         ]
        },
        {
         "name": "Mínima cuantía",
         "type": "bar",
         "x": [
          2020,
          2021,
          2022,
          2023,
          2024
         ],
         "y": [
          17,
          4,
          17,
          23,
          0
         ]
        },
        {
         "name": "No Definido",
         "type": "bar",
         "x": [
          2020,
          2021,
          2022,
          2023,
          2024
         ],
         "y": [
          0,
          0,
          0,
          1,
          0
         ]
        },
        {
         "name": "Seleccion Abreviada Menor Cuantia Sin Manifestacion Interes",
         "type": "bar",
         "x": [
          2020,
          2021,
          2022,
          2023,
          2024
         ],
         "y": [
          1,
          0,
          0,
          0,
          0
         ]
        },
        {
         "name": "Selección Abreviada de Menor Cuantía",
         "type": "bar",
         "x": [
          2020,
          2021,
          2022,
          2023,
          2024
         ],
         "y": [
          1,
          6,
          12,
          4,
          0
         ]
        },
        {
         "name": "Selección abreviada subasta inversa",
         "type": "bar",
         "x": [
          2020,
          2021,
          2022,
          2023,
          2024
         ],
         "y": [
          2,
          8,
          3,
          13,
          0
         ]
        }
       ],
       "layout": {
        "barmode": "stack",
        "legend": {
         "title": {
          "text": "Modalidad de contratación"
         }
        },
        "template": {
         "data": {
          "bar": [
           {
            "error_x": {
             "color": "#2a3f5f"
            },
            "error_y": {
             "color": "#2a3f5f"
            },
            "marker": {
             "line": {
              "color": "#E5ECF6",
              "width": 0.5
             },
             "pattern": {
              "fillmode": "overlay",
              "size": 10,
              "solidity": 0.2
             }
            },
            "type": "bar"
           }
          ],
          "barpolar": [
           {
            "marker": {
             "line": {
              "color": "#E5ECF6",
              "width": 0.5
             },
             "pattern": {
              "fillmode": "overlay",
              "size": 10,
              "solidity": 0.2
             }
            },
            "type": "barpolar"
           }
          ],
          "carpet": [
           {
            "aaxis": {
             "endlinecolor": "#2a3f5f",
             "gridcolor": "white",
             "linecolor": "white",
             "minorgridcolor": "white",
             "startlinecolor": "#2a3f5f"
            },
            "baxis": {
             "endlinecolor": "#2a3f5f",
             "gridcolor": "white",
             "linecolor": "white",
             "minorgridcolor": "white",
             "startlinecolor": "#2a3f5f"
            },
            "type": "carpet"
           }
          ],
          "choropleth": [
           {
            "colorbar": {
             "outlinewidth": 0,
             "ticks": ""
            },
            "type": "choropleth"
           }
          ],
          "contour": [
           {
            "colorbar": {
             "outlinewidth": 0,
             "ticks": ""
            },
            "colorscale": [
             [
              0,
              "#0d0887"
             ],
             [
              0.1111111111111111,
              "#46039f"
             ],
             [
              0.2222222222222222,
              "#7201a8"
             ],
             [
              0.3333333333333333,
              "#9c179e"
             ],
             [
              0.4444444444444444,
              "#bd3786"
             ],
             [
              0.5555555555555556,
              "#d8576b"
             ],
             [
              0.6666666666666666,
              "#ed7953"
             ],
             [
              0.7777777777777778,
              "#fb9f3a"
             ],
             [
              0.8888888888888888,
              "#fdca26"
             ],
             [
              1,
              "#f0f921"
             ]
            ],
            "type": "contour"
           }
          ],
          "contourcarpet": [
           {
            "colorbar": {
             "outlinewidth": 0,
             "ticks": ""
            },
            "type": "contourcarpet"
           }
          ],
          "heatmap": [
           {
            "colorbar": {
             "outlinewidth": 0,
             "ticks": ""
            },
            "colorscale": [
             [
              0,
              "#0d0887"
             ],
             [
              0.1111111111111111,
              "#46039f"
             ],
             [
              0.2222222222222222,
              "#7201a8"
             ],
             [
              0.3333333333333333,
              "#9c179e"
             ],
             [
              0.4444444444444444,
              "#bd3786"
             ],
             [
              0.5555555555555556,
              "#d8576b"
             ],
             [
              0.6666666666666666,
              "#ed7953"
             ],
             [
              0.7777777777777778,
              "#fb9f3a"
             ],
             [
              0.8888888888888888,
              "#fdca26"
             ],
             [
              1,
              "#f0f921"
             ]
            ],
            "type": "heatmap"
           }
          ],
          "heatmapgl": [
           {
            "colorbar": {
             "outlinewidth": 0,
             "ticks": ""
            },
            "colorscale": [
             [
              0,
              "#0d0887"
             ],
             [
              0.1111111111111111,
              "#46039f"
             ],
             [
              0.2222222222222222,
              "#7201a8"
             ],
             [
              0.3333333333333333,
              "#9c179e"
             ],
             [
              0.4444444444444444,
              "#bd3786"
             ],
             [
              0.5555555555555556,
              "#d8576b"
             ],
             [
              0.6666666666666666,
              "#ed7953"
             ],
             [
              0.7777777777777778,
              "#fb9f3a"
             ],
             [
              0.8888888888888888,
              "#fdca26"
             ],
             [
              1,
              "#f0f921"
             ]
            ],
            "type": "heatmapgl"
           }
          ],
          "histogram": [
           {
            "marker": {
             "pattern": {
              "fillmode": "overlay",
              "size": 10,
              "solidity": 0.2
             }
            },
            "type": "histogram"
           }
          ],
          "histogram2d": [
           {
            "colorbar": {
             "outlinewidth": 0,
             "ticks": ""
            },
            "colorscale": [
             [
              0,
              "#0d0887"
             ],
             [
              0.1111111111111111,
              "#46039f"
             ],
             [
              0.2222222222222222,
              "#7201a8"
             ],
             [
              0.3333333333333333,
              "#9c179e"
             ],
             [
              0.4444444444444444,
              "#bd3786"
             ],
             [
              0.5555555555555556,
              "#d8576b"
             ],
             [
              0.6666666666666666,
              "#ed7953"
             ],
             [
              0.7777777777777778,
              "#fb9f3a"
             ],
             [
              0.8888888888888888,
              "#fdca26"
             ],
             [
              1,
              "#f0f921"
             ]
            ],
            "type": "histogram2d"
           }
          ],
          "histogram2dcontour": [
           {
            "colorbar": {
             "outlinewidth": 0,
             "ticks": ""
            },
            "colorscale": [
             [
              0,
              "#0d0887"
             ],
             [
              0.1111111111111111,
              "#46039f"
             ],
             [
              0.2222222222222222,
              "#7201a8"
             ],
             [
              0.3333333333333333,
              "#9c179e"
             ],
             [
              0.4444444444444444,
              "#bd3786"
             ],
             [
              0.5555555555555556,
              "#d8576b"
             ],
             [
              0.6666666666666666,
              "#ed7953"
             ],
             [
              0.7777777777777778,
              "#fb9f3a"
             ],
             [
              0.8888888888888888,
              "#fdca26"
             ],
             [
              1,
              "#f0f921"
             ]
            ],
            "type": "histogram2dcontour"
           }
          ],
          "mesh3d": [
           {
            "colorbar": {
             "outlinewidth": 0,
             "ticks": ""
            },
            "type": "mesh3d"
           }
          ],
          "parcoords": [
           {
            "line": {
             "colorbar": {
              "outlinewidth": 0,
              "ticks": ""
             }
            },
            "type": "parcoords"
           }
          ],
          "pie": [
           {
            "automargin": true,
            "type": "pie"
           }
          ],
          "scatter": [
           {
            "fillpattern": {
             "fillmode": "overlay",
             "size": 10,
             "solidity": 0.2
            },
            "type": "scatter"
           }
          ],
          "scatter3d": [
           {
            "line": {
             "colorbar": {
              "outlinewidth": 0,
              "ticks": ""
             }
            },
            "marker": {
             "colorbar": {
              "outlinewidth": 0,
              "ticks": ""
             }
            },
            "type": "scatter3d"
           }
          ],
          "scattercarpet": [
           {
            "marker": {
             "colorbar": {
              "outlinewidth": 0,
              "ticks": ""
             }
            },
            "type": "scattercarpet"
           }
          ],
          "scattergeo": [
           {
            "marker": {
             "colorbar": {
              "outlinewidth": 0,
              "ticks": ""
             }
            },
            "type": "scattergeo"
           }
          ],
          "scattergl": [
           {
            "marker": {
             "colorbar": {
              "outlinewidth": 0,
              "ticks": ""
             }
            },
            "type": "scattergl"
           }
          ],
          "scattermapbox": [
           {
            "marker": {
             "colorbar": {
              "outlinewidth": 0,
              "ticks": ""
             }
            },
            "type": "scattermapbox"
           }
          ],
          "scatterpolar": [
           {
            "marker": {
             "colorbar": {
              "outlinewidth": 0,
              "ticks": ""
             }
            },
            "type": "scatterpolar"
           }
          ],
          "scatterpolargl": [
           {
            "marker": {
             "colorbar": {
              "outlinewidth": 0,
              "ticks": ""
             }
            },
            "type": "scatterpolargl"
           }
          ],
          "scatterternary": [
           {
            "marker": {
             "colorbar": {
              "outlinewidth": 0,
              "ticks": ""
             }
            },
            "type": "scatterternary"
           }
          ],
          "surface": [
           {
            "colorbar": {
             "outlinewidth": 0,
             "ticks": ""
            },
            "colorscale": [
             [
              0,
              "#0d0887"
             ],
             [
              0.1111111111111111,
              "#46039f"
             ],
             [
              0.2222222222222222,
              "#7201a8"
             ],
             [
              0.3333333333333333,
              "#9c179e"
             ],
             [
              0.4444444444444444,
              "#bd3786"
             ],
             [
              0.5555555555555556,
              "#d8576b"
             ],
             [
              0.6666666666666666,
              "#ed7953"
             ],
             [
              0.7777777777777778,
              "#fb9f3a"
             ],
             [
              0.8888888888888888,
              "#fdca26"
             ],
             [
              1,
              "#f0f921"
             ]
            ],
            "type": "surface"
           }
          ],
          "table": [
           {
            "cells": {
             "fill": {
              "color": "#EBF0F8"
             },
             "line": {
              "color": "white"
             }
            },
            "header": {
             "fill": {
              "color": "#C8D4E3"
             },
             "line": {
              "color": "white"
             }
            },
            "type": "table"
           }
          ]
         },
         "layout": {
          "annotationdefaults": {
           "arrowcolor": "#2a3f5f",
           "arrowhead": 0,
           "arrowwidth": 1
          },
          "autotypenumbers": "strict",
          "coloraxis": {
           "colorbar": {
            "outlinewidth": 0,
            "ticks": ""
           }
          },
          "colorscale": {
           "diverging": [
            [
             0,
             "#8e0152"
            ],
            [
             0.1,
             "#c51b7d"
            ],
            [
             0.2,
             "#de77ae"
            ],
            [
             0.3,
             "#f1b6da"
            ],
            [
             0.4,
             "#fde0ef"
            ],
            [
             0.5,
             "#f7f7f7"
            ],
            [
             0.6,
             "#e6f5d0"
            ],
            [
             0.7,
             "#b8e186"
            ],
            [
             0.8,
             "#7fbc41"
            ],
            [
             0.9,
             "#4d9221"
            ],
            [
             1,
             "#276419"
            ]
           ],
           "sequential": [
            [
             0,
             "#0d0887"
            ],
            [
             0.1111111111111111,
             "#46039f"
            ],
            [
             0.2222222222222222,
             "#7201a8"
            ],
            [
             0.3333333333333333,
             "#9c179e"
            ],
            [
             0.4444444444444444,
             "#bd3786"
            ],
            [
             0.5555555555555556,
             "#d8576b"
            ],
            [
             0.6666666666666666,
             "#ed7953"
            ],
            [
             0.7777777777777778,
             "#fb9f3a"
            ],
            [
             0.8888888888888888,
             "#fdca26"
            ],
            [
             1,
             "#f0f921"
            ]
           ],
           "sequentialminus": [
            [
             0,
             "#0d0887"
            ],
            [
             0.1111111111111111,
             "#46039f"
            ],
            [
             0.2222222222222222,
             "#7201a8"
            ],
            [
             0.3333333333333333,
             "#9c179e"
            ],
            [
             0.4444444444444444,
             "#bd3786"
            ],
            [
             0.5555555555555556,
             "#d8576b"
            ],
            [
             0.6666666666666666,
             "#ed7953"
            ],
            [
             0.7777777777777778,
             "#fb9f3a"
            ],
            [
             0.8888888888888888,
             "#fdca26"
            ],
            [
             1,
             "#f0f921"
            ]
           ]
          },
          "colorway": [
           "#636efa",
           "#EF553B",
           "#00cc96",
           "#ab63fa",
           "#FFA15A",
           "#19d3f3",
           "#FF6692",
           "#B6E880",
           "#FF97FF",
           "#FECB52"
          ],
          "font": {
           "color": "#2a3f5f"
          },
          "geo": {
           "bgcolor": "white",
           "lakecolor": "white",
           "landcolor": "#E5ECF6",
           "showlakes": true,
           "showland": true,
           "subunitcolor": "white"
          },
          "hoverlabel": {
           "align": "left"
          },
          "hovermode": "closest",
          "mapbox": {
           "style": "light"
          },
          "paper_bgcolor": "white",
          "plot_bgcolor": "#E5ECF6",
          "polar": {
           "angularaxis": {
            "gridcolor": "white",
            "linecolor": "white",
            "ticks": ""
           },
           "bgcolor": "#E5ECF6",
           "radialaxis": {
            "gridcolor": "white",
            "linecolor": "white",
            "ticks": ""
           }
          },
          "scene": {
           "xaxis": {
            "backgroundcolor": "#E5ECF6",
            "gridcolor": "white",
            "gridwidth": 2,
            "linecolor": "white",
            "showbackground": true,
            "ticks": "",
            "zerolinecolor": "white"
           },
           "yaxis": {
            "backgroundcolor": "#E5ECF6",
            "gridcolor": "white",
            "gridwidth": 2,
            "linecolor": "white",
            "showbackground": true,
            "ticks": "",
            "zerolinecolor": "white"
           },
           "zaxis": {
            "backgroundcolor": "#E5ECF6",
            "gridcolor": "white",
            "gridwidth": 2,
            "linecolor": "white",
            "showbackground": true,
            "ticks": "",
            "zerolinecolor": "white"
           }
          },
          "shapedefaults": {
           "line": {
            "color": "#2a3f5f"
           }
          },
          "ternary": {
           "aaxis": {
            "gridcolor": "white",
            "linecolor": "white",
            "ticks": ""
           },
           "baxis": {
            "gridcolor": "white",
            "linecolor": "white",
            "ticks": ""
           },
           "bgcolor": "#E5ECF6",
           "caxis": {
            "gridcolor": "white",
            "linecolor": "white",
            "ticks": ""
           }
          },
          "title": {
           "x": 0.05
          },
          "xaxis": {
           "automargin": true,
           "gridcolor": "white",
           "linecolor": "white",
           "ticks": "",
           "title": {
            "standoff": 15
           },
           "zerolinecolor": "white",
           "zerolinewidth": 2
          },
          "yaxis": {
           "automargin": true,
           "gridcolor": "white",
           "linecolor": "white",
           "ticks": "",
           "title": {
            "standoff": 15
           },
           "zerolinecolor": "white",
           "zerolinewidth": 2
          }
         }
        },
        "title": {
         "text": "Número de contratos ESAP según año de firma por modalidad de contrato 2020-2024"
        },
        "xaxis": {
         "title": {
          "text": "Año de Firma"
         }
        },
        "yaxis": {
         "title": {
          "text": "Número de contratos"
         }
        }
       }
      }
     },
     "metadata": {},
     "output_type": "display_data"
    }
   ],
   "source": [
    "# Agrupar por año y modalidad, y contrato\n",
    "modalidad_anio_counts = secop.groupby(['ano_fecha_de_firma', 'modalidad_de_contratacion']).size().unstack(fill_value=0)\n",
    "\n",
    "# Crear el gráfico\n",
    "fig = go.Figure()\n",
    "for modalidad in modalidad_anio_counts.columns:\n",
    "    fig.add_trace(go.Bar(\n",
    "        x=modalidad_anio_counts.index,\n",
    "        y=modalidad_anio_counts[modalidad],\n",
    "        name=modalidad\n",
    "    ))\n",
    "\n",
    "# Actualizar el diseño del gráfico\n",
    "fig.update_layout(\n",
    "    barmode='stack',\n",
    "    title='Número de contratos ESAP según año de firma por modalidad de contrato 2020-2024',\n",
    "    xaxis_title='Año de Firma',\n",
    "    yaxis_title='Número de contratos',\n",
    "    legend_title='Modalidad de contratación'\n",
    ")\n",
    "\n",
    "# Mostrar el gráfico\n",
    "fig.show()"
   ]
  },
  {
   "cell_type": "markdown",
   "metadata": {},
   "source": [
    "_Número de contratos ESAP por Dirección Territorial año 2020 - 2024_"
   ]
  },
  {
   "cell_type": "code",
   "execution_count": 45,
   "metadata": {},
   "outputs": [
    {
     "data": {
      "application/vnd.plotly.v1+json": {
       "config": {
        "plotlyServerURL": "https://plot.ly"
       },
       "data": [
        {
         "name": "Antioquia",
         "type": "bar",
         "x": [
          2020,
          2021,
          2022,
          2023,
          2024
         ],
         "y": [
          117,
          192,
          138,
          116,
          35
         ]
        },
        {
         "name": "Atlántico_Cesar_Magdalena_La_Guajira",
         "type": "bar",
         "x": [
          2020,
          2021,
          2022,
          2023,
          2024
         ],
         "y": [
          125,
          133,
          146,
          116,
          41
         ]
        },
        {
         "name": "Bolivar_Córdoba_Sucre_San Andrés",
         "type": "bar",
         "x": [
          2020,
          2021,
          2022,
          2023,
          2024
         ],
         "y": [
          151,
          201,
          200,
          137,
          47
         ]
        },
        {
         "name": "Boyacá_Casanare",
         "type": "bar",
         "x": [
          2020,
          2021,
          2022,
          2023,
          2024
         ],
         "y": [
          98,
          139,
          133,
          109,
          60
         ]
        },
        {
         "name": "Caldas",
         "type": "bar",
         "x": [
          2020,
          2021,
          2022,
          2023,
          2024
         ],
         "y": [
          80,
          105,
          139,
          100,
          46
         ]
        },
        {
         "name": "Cundinamarca",
         "type": "bar",
         "x": [
          2020,
          2021,
          2022,
          2023,
          2024
         ],
         "y": [
          99,
          157,
          158,
          149,
          41
         ]
        },
        {
         "name": "Huila_Caquetá_Putumayo",
         "type": "bar",
         "x": [
          2020,
          2021,
          2022,
          2023,
          2024
         ],
         "y": [
          134,
          155,
          148,
          109,
          61
         ]
        },
        {
         "name": "Meta_Guainía_Guaviare_Vaupés_Vichada_Amazonas",
         "type": "bar",
         "x": [
          2020,
          2021,
          2022,
          2023,
          2024
         ],
         "y": [
          143,
          163,
          123,
          136,
          37
         ]
        },
        {
         "name": "Nariño_Alto Putumayo",
         "type": "bar",
         "x": [
          2020,
          2021,
          2022,
          2023,
          2024
         ],
         "y": [
          92,
          138,
          164,
          176,
          64
         ]
        },
        {
         "name": "Norte_Santander - Arauca",
         "type": "bar",
         "x": [
          2020,
          2021,
          2022,
          2023,
          2024
         ],
         "y": [
          107,
          169,
          124,
          118,
          32
         ]
        },
        {
         "name": "Otro",
         "type": "bar",
         "x": [
          2020,
          2021,
          2022,
          2023,
          2024
         ],
         "y": [
          118,
          147,
          120,
          76,
          36
         ]
        },
        {
         "name": "Quindío_Risaralda",
         "type": "bar",
         "x": [
          2020,
          2021,
          2022,
          2023,
          2024
         ],
         "y": [
          75,
          108,
          116,
          113,
          42
         ]
        },
        {
         "name": "Santander",
         "type": "bar",
         "x": [
          2020,
          2021,
          2022,
          2023,
          2024
         ],
         "y": [
          94,
          162,
          102,
          70,
          35
         ]
        },
        {
         "name": "Sede_Principal_ESAP",
         "type": "bar",
         "x": [
          2020,
          2021,
          2022,
          2023,
          2024
         ],
         "y": [
          1011,
          1174,
          1004,
          1912,
          760
         ]
        },
        {
         "name": "Tolima",
         "type": "bar",
         "x": [
          2020,
          2021,
          2022,
          2023,
          2024
         ],
         "y": [
          88,
          115,
          111,
          72,
          38
         ]
        },
        {
         "name": "Valle",
         "type": "bar",
         "x": [
          2020,
          2021,
          2022,
          2023,
          2024
         ],
         "y": [
          92,
          81,
          91,
          91,
          51
         ]
        }
       ],
       "layout": {
        "barmode": "stack",
        "legend": {
         "title": {
          "text": "Sede"
         }
        },
        "template": {
         "data": {
          "bar": [
           {
            "error_x": {
             "color": "#2a3f5f"
            },
            "error_y": {
             "color": "#2a3f5f"
            },
            "marker": {
             "line": {
              "color": "#E5ECF6",
              "width": 0.5
             },
             "pattern": {
              "fillmode": "overlay",
              "size": 10,
              "solidity": 0.2
             }
            },
            "type": "bar"
           }
          ],
          "barpolar": [
           {
            "marker": {
             "line": {
              "color": "#E5ECF6",
              "width": 0.5
             },
             "pattern": {
              "fillmode": "overlay",
              "size": 10,
              "solidity": 0.2
             }
            },
            "type": "barpolar"
           }
          ],
          "carpet": [
           {
            "aaxis": {
             "endlinecolor": "#2a3f5f",
             "gridcolor": "white",
             "linecolor": "white",
             "minorgridcolor": "white",
             "startlinecolor": "#2a3f5f"
            },
            "baxis": {
             "endlinecolor": "#2a3f5f",
             "gridcolor": "white",
             "linecolor": "white",
             "minorgridcolor": "white",
             "startlinecolor": "#2a3f5f"
            },
            "type": "carpet"
           }
          ],
          "choropleth": [
           {
            "colorbar": {
             "outlinewidth": 0,
             "ticks": ""
            },
            "type": "choropleth"
           }
          ],
          "contour": [
           {
            "colorbar": {
             "outlinewidth": 0,
             "ticks": ""
            },
            "colorscale": [
             [
              0,
              "#0d0887"
             ],
             [
              0.1111111111111111,
              "#46039f"
             ],
             [
              0.2222222222222222,
              "#7201a8"
             ],
             [
              0.3333333333333333,
              "#9c179e"
             ],
             [
              0.4444444444444444,
              "#bd3786"
             ],
             [
              0.5555555555555556,
              "#d8576b"
             ],
             [
              0.6666666666666666,
              "#ed7953"
             ],
             [
              0.7777777777777778,
              "#fb9f3a"
             ],
             [
              0.8888888888888888,
              "#fdca26"
             ],
             [
              1,
              "#f0f921"
             ]
            ],
            "type": "contour"
           }
          ],
          "contourcarpet": [
           {
            "colorbar": {
             "outlinewidth": 0,
             "ticks": ""
            },
            "type": "contourcarpet"
           }
          ],
          "heatmap": [
           {
            "colorbar": {
             "outlinewidth": 0,
             "ticks": ""
            },
            "colorscale": [
             [
              0,
              "#0d0887"
             ],
             [
              0.1111111111111111,
              "#46039f"
             ],
             [
              0.2222222222222222,
              "#7201a8"
             ],
             [
              0.3333333333333333,
              "#9c179e"
             ],
             [
              0.4444444444444444,
              "#bd3786"
             ],
             [
              0.5555555555555556,
              "#d8576b"
             ],
             [
              0.6666666666666666,
              "#ed7953"
             ],
             [
              0.7777777777777778,
              "#fb9f3a"
             ],
             [
              0.8888888888888888,
              "#fdca26"
             ],
             [
              1,
              "#f0f921"
             ]
            ],
            "type": "heatmap"
           }
          ],
          "heatmapgl": [
           {
            "colorbar": {
             "outlinewidth": 0,
             "ticks": ""
            },
            "colorscale": [
             [
              0,
              "#0d0887"
             ],
             [
              0.1111111111111111,
              "#46039f"
             ],
             [
              0.2222222222222222,
              "#7201a8"
             ],
             [
              0.3333333333333333,
              "#9c179e"
             ],
             [
              0.4444444444444444,
              "#bd3786"
             ],
             [
              0.5555555555555556,
              "#d8576b"
             ],
             [
              0.6666666666666666,
              "#ed7953"
             ],
             [
              0.7777777777777778,
              "#fb9f3a"
             ],
             [
              0.8888888888888888,
              "#fdca26"
             ],
             [
              1,
              "#f0f921"
             ]
            ],
            "type": "heatmapgl"
           }
          ],
          "histogram": [
           {
            "marker": {
             "pattern": {
              "fillmode": "overlay",
              "size": 10,
              "solidity": 0.2
             }
            },
            "type": "histogram"
           }
          ],
          "histogram2d": [
           {
            "colorbar": {
             "outlinewidth": 0,
             "ticks": ""
            },
            "colorscale": [
             [
              0,
              "#0d0887"
             ],
             [
              0.1111111111111111,
              "#46039f"
             ],
             [
              0.2222222222222222,
              "#7201a8"
             ],
             [
              0.3333333333333333,
              "#9c179e"
             ],
             [
              0.4444444444444444,
              "#bd3786"
             ],
             [
              0.5555555555555556,
              "#d8576b"
             ],
             [
              0.6666666666666666,
              "#ed7953"
             ],
             [
              0.7777777777777778,
              "#fb9f3a"
             ],
             [
              0.8888888888888888,
              "#fdca26"
             ],
             [
              1,
              "#f0f921"
             ]
            ],
            "type": "histogram2d"
           }
          ],
          "histogram2dcontour": [
           {
            "colorbar": {
             "outlinewidth": 0,
             "ticks": ""
            },
            "colorscale": [
             [
              0,
              "#0d0887"
             ],
             [
              0.1111111111111111,
              "#46039f"
             ],
             [
              0.2222222222222222,
              "#7201a8"
             ],
             [
              0.3333333333333333,
              "#9c179e"
             ],
             [
              0.4444444444444444,
              "#bd3786"
             ],
             [
              0.5555555555555556,
              "#d8576b"
             ],
             [
              0.6666666666666666,
              "#ed7953"
             ],
             [
              0.7777777777777778,
              "#fb9f3a"
             ],
             [
              0.8888888888888888,
              "#fdca26"
             ],
             [
              1,
              "#f0f921"
             ]
            ],
            "type": "histogram2dcontour"
           }
          ],
          "mesh3d": [
           {
            "colorbar": {
             "outlinewidth": 0,
             "ticks": ""
            },
            "type": "mesh3d"
           }
          ],
          "parcoords": [
           {
            "line": {
             "colorbar": {
              "outlinewidth": 0,
              "ticks": ""
             }
            },
            "type": "parcoords"
           }
          ],
          "pie": [
           {
            "automargin": true,
            "type": "pie"
           }
          ],
          "scatter": [
           {
            "fillpattern": {
             "fillmode": "overlay",
             "size": 10,
             "solidity": 0.2
            },
            "type": "scatter"
           }
          ],
          "scatter3d": [
           {
            "line": {
             "colorbar": {
              "outlinewidth": 0,
              "ticks": ""
             }
            },
            "marker": {
             "colorbar": {
              "outlinewidth": 0,
              "ticks": ""
             }
            },
            "type": "scatter3d"
           }
          ],
          "scattercarpet": [
           {
            "marker": {
             "colorbar": {
              "outlinewidth": 0,
              "ticks": ""
             }
            },
            "type": "scattercarpet"
           }
          ],
          "scattergeo": [
           {
            "marker": {
             "colorbar": {
              "outlinewidth": 0,
              "ticks": ""
             }
            },
            "type": "scattergeo"
           }
          ],
          "scattergl": [
           {
            "marker": {
             "colorbar": {
              "outlinewidth": 0,
              "ticks": ""
             }
            },
            "type": "scattergl"
           }
          ],
          "scattermapbox": [
           {
            "marker": {
             "colorbar": {
              "outlinewidth": 0,
              "ticks": ""
             }
            },
            "type": "scattermapbox"
           }
          ],
          "scatterpolar": [
           {
            "marker": {
             "colorbar": {
              "outlinewidth": 0,
              "ticks": ""
             }
            },
            "type": "scatterpolar"
           }
          ],
          "scatterpolargl": [
           {
            "marker": {
             "colorbar": {
              "outlinewidth": 0,
              "ticks": ""
             }
            },
            "type": "scatterpolargl"
           }
          ],
          "scatterternary": [
           {
            "marker": {
             "colorbar": {
              "outlinewidth": 0,
              "ticks": ""
             }
            },
            "type": "scatterternary"
           }
          ],
          "surface": [
           {
            "colorbar": {
             "outlinewidth": 0,
             "ticks": ""
            },
            "colorscale": [
             [
              0,
              "#0d0887"
             ],
             [
              0.1111111111111111,
              "#46039f"
             ],
             [
              0.2222222222222222,
              "#7201a8"
             ],
             [
              0.3333333333333333,
              "#9c179e"
             ],
             [
              0.4444444444444444,
              "#bd3786"
             ],
             [
              0.5555555555555556,
              "#d8576b"
             ],
             [
              0.6666666666666666,
              "#ed7953"
             ],
             [
              0.7777777777777778,
              "#fb9f3a"
             ],
             [
              0.8888888888888888,
              "#fdca26"
             ],
             [
              1,
              "#f0f921"
             ]
            ],
            "type": "surface"
           }
          ],
          "table": [
           {
            "cells": {
             "fill": {
              "color": "#EBF0F8"
             },
             "line": {
              "color": "white"
             }
            },
            "header": {
             "fill": {
              "color": "#C8D4E3"
             },
             "line": {
              "color": "white"
             }
            },
            "type": "table"
           }
          ]
         },
         "layout": {
          "annotationdefaults": {
           "arrowcolor": "#2a3f5f",
           "arrowhead": 0,
           "arrowwidth": 1
          },
          "autotypenumbers": "strict",
          "coloraxis": {
           "colorbar": {
            "outlinewidth": 0,
            "ticks": ""
           }
          },
          "colorscale": {
           "diverging": [
            [
             0,
             "#8e0152"
            ],
            [
             0.1,
             "#c51b7d"
            ],
            [
             0.2,
             "#de77ae"
            ],
            [
             0.3,
             "#f1b6da"
            ],
            [
             0.4,
             "#fde0ef"
            ],
            [
             0.5,
             "#f7f7f7"
            ],
            [
             0.6,
             "#e6f5d0"
            ],
            [
             0.7,
             "#b8e186"
            ],
            [
             0.8,
             "#7fbc41"
            ],
            [
             0.9,
             "#4d9221"
            ],
            [
             1,
             "#276419"
            ]
           ],
           "sequential": [
            [
             0,
             "#0d0887"
            ],
            [
             0.1111111111111111,
             "#46039f"
            ],
            [
             0.2222222222222222,
             "#7201a8"
            ],
            [
             0.3333333333333333,
             "#9c179e"
            ],
            [
             0.4444444444444444,
             "#bd3786"
            ],
            [
             0.5555555555555556,
             "#d8576b"
            ],
            [
             0.6666666666666666,
             "#ed7953"
            ],
            [
             0.7777777777777778,
             "#fb9f3a"
            ],
            [
             0.8888888888888888,
             "#fdca26"
            ],
            [
             1,
             "#f0f921"
            ]
           ],
           "sequentialminus": [
            [
             0,
             "#0d0887"
            ],
            [
             0.1111111111111111,
             "#46039f"
            ],
            [
             0.2222222222222222,
             "#7201a8"
            ],
            [
             0.3333333333333333,
             "#9c179e"
            ],
            [
             0.4444444444444444,
             "#bd3786"
            ],
            [
             0.5555555555555556,
             "#d8576b"
            ],
            [
             0.6666666666666666,
             "#ed7953"
            ],
            [
             0.7777777777777778,
             "#fb9f3a"
            ],
            [
             0.8888888888888888,
             "#fdca26"
            ],
            [
             1,
             "#f0f921"
            ]
           ]
          },
          "colorway": [
           "#636efa",
           "#EF553B",
           "#00cc96",
           "#ab63fa",
           "#FFA15A",
           "#19d3f3",
           "#FF6692",
           "#B6E880",
           "#FF97FF",
           "#FECB52"
          ],
          "font": {
           "color": "#2a3f5f"
          },
          "geo": {
           "bgcolor": "white",
           "lakecolor": "white",
           "landcolor": "#E5ECF6",
           "showlakes": true,
           "showland": true,
           "subunitcolor": "white"
          },
          "hoverlabel": {
           "align": "left"
          },
          "hovermode": "closest",
          "mapbox": {
           "style": "light"
          },
          "paper_bgcolor": "white",
          "plot_bgcolor": "#E5ECF6",
          "polar": {
           "angularaxis": {
            "gridcolor": "white",
            "linecolor": "white",
            "ticks": ""
           },
           "bgcolor": "#E5ECF6",
           "radialaxis": {
            "gridcolor": "white",
            "linecolor": "white",
            "ticks": ""
           }
          },
          "scene": {
           "xaxis": {
            "backgroundcolor": "#E5ECF6",
            "gridcolor": "white",
            "gridwidth": 2,
            "linecolor": "white",
            "showbackground": true,
            "ticks": "",
            "zerolinecolor": "white"
           },
           "yaxis": {
            "backgroundcolor": "#E5ECF6",
            "gridcolor": "white",
            "gridwidth": 2,
            "linecolor": "white",
            "showbackground": true,
            "ticks": "",
            "zerolinecolor": "white"
           },
           "zaxis": {
            "backgroundcolor": "#E5ECF6",
            "gridcolor": "white",
            "gridwidth": 2,
            "linecolor": "white",
            "showbackground": true,
            "ticks": "",
            "zerolinecolor": "white"
           }
          },
          "shapedefaults": {
           "line": {
            "color": "#2a3f5f"
           }
          },
          "ternary": {
           "aaxis": {
            "gridcolor": "white",
            "linecolor": "white",
            "ticks": ""
           },
           "baxis": {
            "gridcolor": "white",
            "linecolor": "white",
            "ticks": ""
           },
           "bgcolor": "#E5ECF6",
           "caxis": {
            "gridcolor": "white",
            "linecolor": "white",
            "ticks": ""
           }
          },
          "title": {
           "x": 0.05
          },
          "xaxis": {
           "automargin": true,
           "gridcolor": "white",
           "linecolor": "white",
           "ticks": "",
           "title": {
            "standoff": 15
           },
           "zerolinecolor": "white",
           "zerolinewidth": 2
          },
          "yaxis": {
           "automargin": true,
           "gridcolor": "white",
           "linecolor": "white",
           "ticks": "",
           "title": {
            "standoff": 15
           },
           "zerolinecolor": "white",
           "zerolinewidth": 2
          }
         }
        },
        "title": {
         "text": "Número de contratos ESAP según año de firma por sede"
        },
        "xaxis": {
         "title": {
          "text": "Año de Firma"
         }
        },
        "yaxis": {
         "title": {
          "text": "Número de contratos"
         }
        }
       }
      }
     },
     "metadata": {},
     "output_type": "display_data"
    }
   ],
   "source": [
    "# Asegurándonos de que 'secop' tiene una columna 'nombre_sede' y 'ano_fecha_de_firma'\n",
    "\n",
    "# Agrupar por año y nombre de sede, y contar\n",
    "sede_anio_counts = secop.groupby(['ano_fecha_de_firma', 'nombre_sede']).size().unstack(fill_value=0)\n",
    "\n",
    "# Crear el gráfico\n",
    "fig = go.Figure()\n",
    "for sede in sede_anio_counts.columns:\n",
    "    fig.add_trace(go.Bar(\n",
    "        x=sede_anio_counts.index,\n",
    "        y=sede_anio_counts[sede],\n",
    "        name=sede\n",
    "    ))\n",
    "\n",
    "# Actualizar el diseño del gráfico\n",
    "fig.update_layout(\n",
    "    barmode='stack',\n",
    "    title='Número de contratos ESAP según año de firma por sede',\n",
    "    xaxis_title='Año de Firma',\n",
    "    yaxis_title='Número de contratos',\n",
    "    legend_title='Sede'\n",
    ")\n",
    "\n",
    "# Mostrar el gráfico\n",
    "fig.show()"
   ]
  },
  {
   "cell_type": "markdown",
   "metadata": {},
   "source": [
    "_Tiempo entre la fecha de firma de contrato y fecha fin de contrato ESAP año 2020 - 2024 (días)_"
   ]
  },
  {
   "cell_type": "code",
   "execution_count": 46,
   "metadata": {},
   "outputs": [
    {
     "name": "stdout",
     "output_type": "stream",
     "text": [
      "  fecha_de_firma fecha_de_fin_del_contrato tiempo_entre_firma_fin_dia\n",
      "0     2023-03-02                2023-04-01                    30 days\n",
      "1     2023-09-05                2023-12-16                   102 days\n",
      "2     2020-08-26                2020-12-31                   127 days\n",
      "3     2021-04-30                2021-12-04                   218 days\n",
      "4     2023-08-12                2023-12-26                   136 days\n"
     ]
    }
   ],
   "source": [
    "# Calcular el tiempo entre la fecha de firma y la fecha de final del contrato y almacenar en una nueva columna 'tiempo_entre_firma_final'\n",
    "secop['tiempo_entre_firma_fin_dia'] = secop['fecha_de_fin_del_contrato'] - secop['fecha_de_firma']\n",
    "# Mostrar información del DataFrame resultante\n",
    "print(secop[['fecha_de_firma', 'fecha_de_fin_del_contrato', 'tiempo_entre_firma_fin_dia']].head())"
   ]
  },
  {
   "cell_type": "code",
   "execution_count": 47,
   "metadata": {},
   "outputs": [
    {
     "name": "stdout",
     "output_type": "stream",
     "text": [
      "  fecha_de_firma fecha_de_fin_del_contrato  tiempo_entre_firma_fin_dia\n",
      "0     2023-03-02                2023-04-01                          30\n",
      "1     2023-09-05                2023-12-16                         102\n",
      "2     2020-08-26                2020-12-31                         127\n",
      "3     2021-04-30                2021-12-04                         218\n",
      "4     2023-08-12                2023-12-26                         136\n"
     ]
    }
   ],
   "source": [
    "# Calcular la diferencia en días\n",
    "secop['tiempo_entre_firma_fin_dia'] = (secop['fecha_de_fin_del_contrato'] - secop['fecha_de_firma']).dt.days\n",
    "# Mostrar el resultado\n",
    "print(secop[['fecha_de_firma', 'fecha_de_fin_del_contrato', 'tiempo_entre_firma_fin_dia']].head())"
   ]
  },
  {
   "cell_type": "code",
   "execution_count": 49,
   "metadata": {},
   "outputs": [
    {
     "name": "stdout",
     "output_type": "stream",
     "text": [
      "count   14,006\n",
      "mean       219\n",
      "std        276\n",
      "min       -460\n",
      "25%        106\n",
      "50%        184\n",
      "75%        275\n",
      "max      3,970\n",
      "Name: tiempo_entre_firma_fin_dia, dtype: float64\n"
     ]
    }
   ],
   "source": [
    "# Mostrar estadísticas descriptivas del tiempo entre firma y fecha final del contrato\n",
    "resumen_tiempo_firma_fin = secop['tiempo_entre_firma_fin_dia'].describe()\n",
    "# Mostrar el resumen\n",
    "print(resumen_tiempo_firma_fin)"
   ]
  },
  {
   "cell_type": "markdown",
   "metadata": {},
   "source": [
    "_Tiempo entre la fecha de firma de contrato y fecha fin de contrato ESAP año 2020 - 2024 (meses)_"
   ]
  },
  {
   "cell_type": "code",
   "execution_count": 37,
   "metadata": {},
   "outputs": [
    {
     "name": "stdout",
     "output_type": "stream",
     "text": [
      "  fecha_de_firma fecha_de_fin_del_contrato  tiempo_entre_firma_fin_meses\n",
      "0     2023-03-02                2023-04-01                             0\n",
      "1     2023-09-05                2023-12-16                             3\n",
      "2     2020-08-26                2020-12-31                             4\n",
      "3     2021-04-30                2021-12-04                             7\n",
      "4     2023-08-12                2023-12-26                             4\n"
     ]
    }
   ],
   "source": [
    "# Convertir las fechas a datetime\n",
    "secop['fecha_de_firma'] = pd.to_datetime(secop['fecha_de_firma'])\n",
    "secop['fecha_de_fin_del_contrato'] = pd.to_datetime(secop['fecha_de_fin_del_contrato'])\n",
    "\n",
    "# Calcular la diferencia en días y luego convertir a meses\n",
    "diferencia_dias = (secop['fecha_de_fin_del_contrato'] - secop['fecha_de_firma']).dt.days\n",
    "secop['tiempo_entre_firma_fin_meses'] = (diferencia_dias / 30.44).astype(int)\n",
    "\n",
    "# Mostrar el resultado\n",
    "print(secop[['fecha_de_firma', 'fecha_de_fin_del_contrato', 'tiempo_entre_firma_fin_meses']].head())"
   ]
  },
  {
   "cell_type": "code",
   "execution_count": 50,
   "metadata": {},
   "outputs": [
    {
     "name": "stdout",
     "output_type": "stream",
     "text": [
      "count   14,006\n",
      "mean         7\n",
      "std          9\n",
      "min        -15\n",
      "25%          3\n",
      "50%          6\n",
      "75%          9\n",
      "max        130\n",
      "Name: tiempo_entre_firma_fin_meses, dtype: float64\n"
     ]
    }
   ],
   "source": [
    "# Mostrar estadísticas descriptivas del tiempo entre firma e inicio\n",
    "resumen_tiempo_firma_inicio = secop['tiempo_entre_firma_fin_meses'].describe()\n",
    "\n",
    "# Mostrar el resumen\n",
    "print(resumen_tiempo_firma_inicio)"
   ]
  },
  {
   "cell_type": "code",
   "execution_count": 51,
   "metadata": {},
   "outputs": [
    {
     "data": {
      "application/vnd.plotly.v1+json": {
       "config": {
        "plotlyServerURL": "https://plot.ly"
       },
       "data": [
        {
         "hovertemplate": "fecha_de_firma=%{x}<br>Promedio Tiempo entre firma y fin (meses)=%{y}<extra></extra>",
         "legendgroup": "",
         "line": {
          "color": "#636efa",
          "dash": "solid"
         },
         "marker": {
          "symbol": "circle"
         },
         "mode": "lines",
         "name": "",
         "showlegend": false,
         "type": "scattergl",
         "x": [
          "2020-01-02T00:00:00",
          "2020-01-03T00:00:00",
          "2020-01-04T00:00:00",
          "2020-01-07T00:00:00",
          "2020-01-08T00:00:00",
          "2020-01-09T00:00:00",
          "2020-01-10T00:00:00",
          "2020-01-12T00:00:00",
          "2020-01-13T00:00:00",
          "2020-01-14T00:00:00",
          "2020-01-15T00:00:00",
          "2020-01-16T00:00:00",
          "2020-01-17T00:00:00",
          "2020-01-19T00:00:00",
          "2020-01-20T00:00:00",
          "2020-01-21T00:00:00",
          "2020-01-22T00:00:00",
          "2020-01-23T00:00:00",
          "2020-01-24T00:00:00",
          "2020-01-25T00:00:00",
          "2020-01-27T00:00:00",
          "2020-01-28T00:00:00",
          "2020-01-29T00:00:00",
          "2020-01-30T00:00:00",
          "2020-01-31T00:00:00",
          "2020-02-01T00:00:00",
          "2020-02-03T00:00:00",
          "2020-02-04T00:00:00",
          "2020-02-05T00:00:00",
          "2020-02-06T00:00:00",
          "2020-02-07T00:00:00",
          "2020-02-08T00:00:00",
          "2020-02-10T00:00:00",
          "2020-02-11T00:00:00",
          "2020-02-12T00:00:00",
          "2020-02-13T00:00:00",
          "2020-02-14T00:00:00",
          "2020-02-15T00:00:00",
          "2020-02-17T00:00:00",
          "2020-02-18T00:00:00",
          "2020-02-19T00:00:00",
          "2020-02-20T00:00:00",
          "2020-02-21T00:00:00",
          "2020-02-24T00:00:00",
          "2020-02-25T00:00:00",
          "2020-02-26T00:00:00",
          "2020-02-27T00:00:00",
          "2020-02-28T00:00:00",
          "2020-02-29T00:00:00",
          "2020-03-02T00:00:00",
          "2020-03-03T00:00:00",
          "2020-03-04T00:00:00",
          "2020-03-05T00:00:00",
          "2020-03-06T00:00:00",
          "2020-03-07T00:00:00",
          "2020-03-09T00:00:00",
          "2020-03-10T00:00:00",
          "2020-03-11T00:00:00",
          "2020-03-12T00:00:00",
          "2020-03-13T00:00:00",
          "2020-03-14T00:00:00",
          "2020-03-16T00:00:00",
          "2020-03-17T00:00:00",
          "2020-03-18T00:00:00",
          "2020-03-19T00:00:00",
          "2020-03-20T00:00:00",
          "2020-03-30T00:00:00",
          "2020-04-01T00:00:00",
          "2020-04-03T00:00:00",
          "2020-04-04T00:00:00",
          "2020-04-16T00:00:00",
          "2020-04-17T00:00:00",
          "2020-04-18T00:00:00",
          "2020-04-20T00:00:00",
          "2020-04-21T00:00:00",
          "2020-04-22T00:00:00",
          "2020-04-23T00:00:00",
          "2020-04-24T00:00:00",
          "2020-04-28T00:00:00",
          "2020-04-30T00:00:00",
          "2020-05-04T00:00:00",
          "2020-05-05T00:00:00",
          "2020-05-06T00:00:00",
          "2020-05-07T00:00:00",
          "2020-05-08T00:00:00",
          "2020-05-14T00:00:00",
          "2020-05-15T00:00:00",
          "2020-05-16T00:00:00",
          "2020-05-18T00:00:00",
          "2020-05-19T00:00:00",
          "2020-05-20T00:00:00",
          "2020-05-21T00:00:00",
          "2020-05-22T00:00:00",
          "2020-05-26T00:00:00",
          "2020-05-27T00:00:00",
          "2020-05-28T00:00:00",
          "2020-05-29T00:00:00",
          "2020-05-30T00:00:00",
          "2020-06-01T00:00:00",
          "2020-06-02T00:00:00",
          "2020-06-03T00:00:00",
          "2020-06-04T00:00:00",
          "2020-06-05T00:00:00",
          "2020-06-08T00:00:00",
          "2020-06-09T00:00:00",
          "2020-06-10T00:00:00",
          "2020-06-12T00:00:00",
          "2020-06-13T00:00:00",
          "2020-06-16T00:00:00",
          "2020-06-17T00:00:00",
          "2020-06-18T00:00:00",
          "2020-06-19T00:00:00",
          "2020-06-23T00:00:00",
          "2020-06-24T00:00:00",
          "2020-06-26T00:00:00",
          "2020-06-27T00:00:00",
          "2020-06-30T00:00:00",
          "2020-07-01T00:00:00",
          "2020-07-02T00:00:00",
          "2020-07-03T00:00:00",
          "2020-07-04T00:00:00",
          "2020-07-06T00:00:00",
          "2020-07-07T00:00:00",
          "2020-07-08T00:00:00",
          "2020-07-09T00:00:00",
          "2020-07-13T00:00:00",
          "2020-07-14T00:00:00",
          "2020-07-16T00:00:00",
          "2020-07-17T00:00:00",
          "2020-07-21T00:00:00",
          "2020-07-23T00:00:00",
          "2020-07-24T00:00:00",
          "2020-07-25T00:00:00",
          "2020-07-27T00:00:00",
          "2020-07-28T00:00:00",
          "2020-07-29T00:00:00",
          "2020-08-03T00:00:00",
          "2020-08-04T00:00:00",
          "2020-08-05T00:00:00",
          "2020-08-06T00:00:00",
          "2020-08-07T00:00:00",
          "2020-08-10T00:00:00",
          "2020-08-11T00:00:00",
          "2020-08-12T00:00:00",
          "2020-08-13T00:00:00",
          "2020-08-14T00:00:00",
          "2020-08-15T00:00:00",
          "2020-08-17T00:00:00",
          "2020-08-18T00:00:00",
          "2020-08-19T00:00:00",
          "2020-08-20T00:00:00",
          "2020-08-21T00:00:00",
          "2020-08-22T00:00:00",
          "2020-08-24T00:00:00",
          "2020-08-25T00:00:00",
          "2020-08-26T00:00:00",
          "2020-08-27T00:00:00",
          "2020-08-28T00:00:00",
          "2020-08-29T00:00:00",
          "2020-08-30T00:00:00",
          "2020-08-31T00:00:00",
          "2020-09-01T00:00:00",
          "2020-09-02T00:00:00",
          "2020-09-03T00:00:00",
          "2020-09-04T00:00:00",
          "2020-09-06T00:00:00",
          "2020-09-07T00:00:00",
          "2020-09-08T00:00:00",
          "2020-09-09T00:00:00",
          "2020-09-10T00:00:00",
          "2020-09-11T00:00:00",
          "2020-09-12T00:00:00",
          "2020-09-14T00:00:00",
          "2020-09-15T00:00:00",
          "2020-09-16T00:00:00",
          "2020-09-17T00:00:00",
          "2020-09-18T00:00:00",
          "2020-09-19T00:00:00",
          "2020-09-22T00:00:00",
          "2020-09-23T00:00:00",
          "2020-09-24T00:00:00",
          "2020-09-25T00:00:00",
          "2020-09-26T00:00:00",
          "2020-09-28T00:00:00",
          "2020-09-29T00:00:00",
          "2020-09-30T00:00:00",
          "2020-10-01T00:00:00",
          "2020-10-02T00:00:00",
          "2020-10-03T00:00:00",
          "2020-10-05T00:00:00",
          "2020-10-06T00:00:00",
          "2020-10-07T00:00:00",
          "2020-10-08T00:00:00",
          "2020-10-09T00:00:00",
          "2020-10-10T00:00:00",
          "2020-10-13T00:00:00",
          "2020-10-14T00:00:00",
          "2020-10-15T00:00:00",
          "2020-10-16T00:00:00",
          "2020-10-19T00:00:00",
          "2020-10-20T00:00:00",
          "2020-10-21T00:00:00",
          "2020-10-22T00:00:00",
          "2020-10-23T00:00:00",
          "2020-10-24T00:00:00",
          "2020-10-25T00:00:00",
          "2020-10-26T00:00:00",
          "2020-10-27T00:00:00",
          "2020-10-28T00:00:00",
          "2020-10-29T00:00:00",
          "2020-10-30T00:00:00",
          "2020-10-31T00:00:00",
          "2020-11-01T00:00:00",
          "2020-11-03T00:00:00",
          "2020-11-04T00:00:00",
          "2020-11-05T00:00:00",
          "2020-11-06T00:00:00",
          "2020-11-07T00:00:00",
          "2020-11-09T00:00:00",
          "2020-11-10T00:00:00",
          "2020-11-11T00:00:00",
          "2020-11-12T00:00:00",
          "2020-11-13T00:00:00",
          "2020-11-14T00:00:00",
          "2020-11-17T00:00:00",
          "2020-11-18T00:00:00",
          "2020-11-19T00:00:00",
          "2020-11-20T00:00:00",
          "2020-11-21T00:00:00",
          "2020-11-22T00:00:00",
          "2020-11-23T00:00:00",
          "2020-11-24T00:00:00",
          "2020-11-25T00:00:00",
          "2020-11-26T00:00:00",
          "2020-11-27T00:00:00",
          "2020-11-28T00:00:00",
          "2020-11-29T00:00:00",
          "2020-11-30T00:00:00",
          "2020-12-01T00:00:00",
          "2020-12-02T00:00:00",
          "2020-12-03T00:00:00",
          "2020-12-04T00:00:00",
          "2020-12-05T00:00:00",
          "2020-12-06T00:00:00",
          "2020-12-07T00:00:00",
          "2020-12-08T00:00:00",
          "2020-12-09T00:00:00",
          "2020-12-10T00:00:00",
          "2020-12-11T00:00:00",
          "2020-12-14T00:00:00",
          "2020-12-15T00:00:00",
          "2020-12-16T00:00:00",
          "2020-12-17T00:00:00",
          "2020-12-18T00:00:00",
          "2020-12-21T00:00:00",
          "2020-12-22T00:00:00",
          "2020-12-23T00:00:00",
          "2020-12-24T00:00:00",
          "2020-12-27T00:00:00",
          "2020-12-28T00:00:00",
          "2020-12-29T00:00:00",
          "2020-12-30T00:00:00",
          "2020-12-31T00:00:00",
          "2021-01-06T00:00:00",
          "2021-01-07T00:00:00",
          "2021-01-08T00:00:00",
          "2021-01-09T00:00:00",
          "2021-01-10T00:00:00",
          "2021-01-11T00:00:00",
          "2021-01-12T00:00:00",
          "2021-01-13T00:00:00",
          "2021-01-14T00:00:00",
          "2021-01-15T00:00:00",
          "2021-01-17T00:00:00",
          "2021-01-18T00:00:00",
          "2021-01-19T00:00:00",
          "2021-01-20T00:00:00",
          "2021-01-21T00:00:00",
          "2021-01-22T00:00:00",
          "2021-01-25T00:00:00",
          "2021-01-26T00:00:00",
          "2021-01-27T00:00:00",
          "2021-01-28T00:00:00",
          "2021-01-29T00:00:00",
          "2021-01-30T00:00:00",
          "2021-02-01T00:00:00",
          "2021-02-02T00:00:00",
          "2021-02-03T00:00:00",
          "2021-02-04T00:00:00",
          "2021-02-05T00:00:00",
          "2021-02-06T00:00:00",
          "2021-02-08T00:00:00",
          "2021-02-09T00:00:00",
          "2021-02-10T00:00:00",
          "2021-02-11T00:00:00",
          "2021-02-12T00:00:00",
          "2021-02-15T00:00:00",
          "2021-02-17T00:00:00",
          "2021-02-18T00:00:00",
          "2021-02-19T00:00:00",
          "2021-02-22T00:00:00",
          "2021-02-23T00:00:00",
          "2021-02-24T00:00:00",
          "2021-02-25T00:00:00",
          "2021-02-26T00:00:00",
          "2021-02-27T00:00:00",
          "2021-02-28T00:00:00",
          "2021-03-01T00:00:00",
          "2021-03-02T00:00:00",
          "2021-03-03T00:00:00",
          "2021-03-04T00:00:00",
          "2021-03-05T00:00:00",
          "2021-03-06T00:00:00",
          "2021-03-07T00:00:00",
          "2021-03-08T00:00:00",
          "2021-03-09T00:00:00",
          "2021-03-10T00:00:00",
          "2021-03-11T00:00:00",
          "2021-03-12T00:00:00",
          "2021-03-13T00:00:00",
          "2021-03-15T00:00:00",
          "2021-03-16T00:00:00",
          "2021-03-17T00:00:00",
          "2021-03-18T00:00:00",
          "2021-03-19T00:00:00",
          "2021-03-20T00:00:00",
          "2021-03-21T00:00:00",
          "2021-03-23T00:00:00",
          "2021-03-24T00:00:00",
          "2021-03-25T00:00:00",
          "2021-03-26T00:00:00",
          "2021-03-27T00:00:00",
          "2021-03-29T00:00:00",
          "2021-03-30T00:00:00",
          "2021-03-31T00:00:00",
          "2021-04-02T00:00:00",
          "2021-04-03T00:00:00",
          "2021-04-04T00:00:00",
          "2021-04-05T00:00:00",
          "2021-04-06T00:00:00",
          "2021-04-07T00:00:00",
          "2021-04-08T00:00:00",
          "2021-04-09T00:00:00",
          "2021-04-10T00:00:00",
          "2021-04-12T00:00:00",
          "2021-04-13T00:00:00",
          "2021-04-14T00:00:00",
          "2021-04-15T00:00:00",
          "2021-04-16T00:00:00",
          "2021-04-17T00:00:00",
          "2021-04-19T00:00:00",
          "2021-04-20T00:00:00",
          "2021-04-21T00:00:00",
          "2021-04-22T00:00:00",
          "2021-04-23T00:00:00",
          "2021-04-24T00:00:00",
          "2021-04-26T00:00:00",
          "2021-04-27T00:00:00",
          "2021-04-28T00:00:00",
          "2021-04-29T00:00:00",
          "2021-04-30T00:00:00",
          "2021-05-01T00:00:00",
          "2021-05-02T00:00:00",
          "2021-05-03T00:00:00",
          "2021-05-04T00:00:00",
          "2021-05-05T00:00:00",
          "2021-05-06T00:00:00",
          "2021-05-07T00:00:00",
          "2021-05-08T00:00:00",
          "2021-05-10T00:00:00",
          "2021-05-11T00:00:00",
          "2021-05-12T00:00:00",
          "2021-05-13T00:00:00",
          "2021-05-14T00:00:00",
          "2021-05-16T00:00:00",
          "2021-05-18T00:00:00",
          "2021-05-19T00:00:00",
          "2021-05-20T00:00:00",
          "2021-05-21T00:00:00",
          "2021-05-24T00:00:00",
          "2021-05-25T00:00:00",
          "2021-05-26T00:00:00",
          "2021-05-27T00:00:00",
          "2021-05-28T00:00:00",
          "2021-05-29T00:00:00",
          "2021-05-31T00:00:00",
          "2021-06-01T00:00:00",
          "2021-06-02T00:00:00",
          "2021-06-03T00:00:00",
          "2021-06-04T00:00:00",
          "2021-06-05T00:00:00",
          "2021-06-08T00:00:00",
          "2021-06-09T00:00:00",
          "2021-06-10T00:00:00",
          "2021-06-11T00:00:00",
          "2021-06-12T00:00:00",
          "2021-06-15T00:00:00",
          "2021-06-16T00:00:00",
          "2021-06-17T00:00:00",
          "2021-06-18T00:00:00",
          "2021-06-21T00:00:00",
          "2021-06-22T00:00:00",
          "2021-06-23T00:00:00",
          "2021-06-24T00:00:00",
          "2021-06-25T00:00:00",
          "2021-06-26T00:00:00",
          "2021-06-28T00:00:00",
          "2021-06-29T00:00:00",
          "2021-06-30T00:00:00",
          "2021-07-01T00:00:00",
          "2021-07-02T00:00:00",
          "2021-07-06T00:00:00",
          "2021-07-07T00:00:00",
          "2021-07-08T00:00:00",
          "2021-07-09T00:00:00",
          "2021-07-10T00:00:00",
          "2021-07-12T00:00:00",
          "2021-07-13T00:00:00",
          "2021-07-14T00:00:00",
          "2021-07-15T00:00:00",
          "2021-07-16T00:00:00",
          "2021-07-17T00:00:00",
          "2021-07-19T00:00:00",
          "2021-07-20T00:00:00",
          "2021-07-21T00:00:00",
          "2021-07-22T00:00:00",
          "2021-07-23T00:00:00",
          "2021-07-24T00:00:00",
          "2021-07-26T00:00:00",
          "2021-07-27T00:00:00",
          "2021-07-28T00:00:00",
          "2021-07-29T00:00:00",
          "2021-07-30T00:00:00",
          "2021-07-31T00:00:00",
          "2021-08-01T00:00:00",
          "2021-08-02T00:00:00",
          "2021-08-03T00:00:00",
          "2021-08-04T00:00:00",
          "2021-08-05T00:00:00",
          "2021-08-06T00:00:00",
          "2021-08-07T00:00:00",
          "2021-08-09T00:00:00",
          "2021-08-10T00:00:00",
          "2021-08-11T00:00:00",
          "2021-08-12T00:00:00",
          "2021-08-13T00:00:00",
          "2021-08-16T00:00:00",
          "2021-08-17T00:00:00",
          "2021-08-18T00:00:00",
          "2021-08-19T00:00:00",
          "2021-08-20T00:00:00",
          "2021-08-23T00:00:00",
          "2021-08-24T00:00:00",
          "2021-08-25T00:00:00",
          "2021-08-26T00:00:00",
          "2021-08-27T00:00:00",
          "2021-08-28T00:00:00",
          "2021-08-30T00:00:00",
          "2021-08-31T00:00:00",
          "2021-09-01T00:00:00",
          "2021-09-02T00:00:00",
          "2021-09-03T00:00:00",
          "2021-09-04T00:00:00",
          "2021-09-07T00:00:00",
          "2021-09-08T00:00:00",
          "2021-09-09T00:00:00",
          "2021-09-10T00:00:00",
          "2021-09-11T00:00:00",
          "2021-09-13T00:00:00",
          "2021-09-14T00:00:00",
          "2021-09-15T00:00:00",
          "2021-09-16T00:00:00",
          "2021-09-17T00:00:00",
          "2021-09-20T00:00:00",
          "2021-09-21T00:00:00",
          "2021-09-22T00:00:00",
          "2021-09-23T00:00:00",
          "2021-09-24T00:00:00",
          "2021-09-25T00:00:00",
          "2021-09-27T00:00:00",
          "2021-09-28T00:00:00",
          "2021-09-29T00:00:00",
          "2021-09-30T00:00:00",
          "2021-10-01T00:00:00",
          "2021-10-02T00:00:00",
          "2021-10-04T00:00:00",
          "2021-10-05T00:00:00",
          "2021-10-06T00:00:00",
          "2021-10-07T00:00:00",
          "2021-10-08T00:00:00",
          "2021-10-11T00:00:00",
          "2021-10-12T00:00:00",
          "2021-10-13T00:00:00",
          "2021-10-14T00:00:00",
          "2021-10-15T00:00:00",
          "2021-10-16T00:00:00",
          "2021-10-19T00:00:00",
          "2021-10-20T00:00:00",
          "2021-10-21T00:00:00",
          "2021-10-22T00:00:00",
          "2021-10-23T00:00:00",
          "2021-10-25T00:00:00",
          "2021-10-26T00:00:00",
          "2021-10-27T00:00:00",
          "2021-10-28T00:00:00",
          "2021-10-29T00:00:00",
          "2021-10-30T00:00:00",
          "2021-11-02T00:00:00",
          "2021-11-03T00:00:00",
          "2021-11-04T00:00:00",
          "2021-11-05T00:00:00",
          "2021-11-06T00:00:00",
          "2021-11-08T00:00:00",
          "2021-11-09T00:00:00",
          "2021-11-10T00:00:00",
          "2021-11-11T00:00:00",
          "2021-11-12T00:00:00",
          "2021-11-13T00:00:00",
          "2021-11-16T00:00:00",
          "2021-11-17T00:00:00",
          "2021-11-18T00:00:00",
          "2021-11-19T00:00:00",
          "2021-11-20T00:00:00",
          "2021-11-21T00:00:00",
          "2021-11-22T00:00:00",
          "2021-11-23T00:00:00",
          "2021-11-24T00:00:00",
          "2021-11-25T00:00:00",
          "2021-11-26T00:00:00",
          "2021-11-27T00:00:00",
          "2021-11-29T00:00:00",
          "2021-11-30T00:00:00",
          "2021-12-01T00:00:00",
          "2021-12-02T00:00:00",
          "2021-12-03T00:00:00",
          "2021-12-04T00:00:00",
          "2021-12-06T00:00:00",
          "2021-12-07T00:00:00",
          "2021-12-09T00:00:00",
          "2021-12-10T00:00:00",
          "2021-12-13T00:00:00",
          "2021-12-14T00:00:00",
          "2021-12-15T00:00:00",
          "2021-12-16T00:00:00",
          "2021-12-17T00:00:00",
          "2021-12-20T00:00:00",
          "2021-12-21T00:00:00",
          "2021-12-22T00:00:00",
          "2021-12-29T00:00:00",
          "2021-12-30T00:00:00",
          "2022-01-06T00:00:00",
          "2022-01-07T00:00:00",
          "2022-01-11T00:00:00",
          "2022-01-12T00:00:00",
          "2022-01-13T00:00:00",
          "2022-01-14T00:00:00",
          "2022-01-15T00:00:00",
          "2022-01-16T00:00:00",
          "2022-01-17T00:00:00",
          "2022-01-18T00:00:00",
          "2022-01-19T00:00:00",
          "2022-01-20T00:00:00",
          "2022-01-21T00:00:00",
          "2022-01-22T00:00:00",
          "2022-01-23T00:00:00",
          "2022-01-24T00:00:00",
          "2022-01-25T00:00:00",
          "2022-01-26T00:00:00",
          "2022-01-27T00:00:00",
          "2022-01-28T00:00:00",
          "2022-01-29T00:00:00",
          "2022-01-30T00:00:00",
          "2022-01-31T00:00:00",
          "2022-02-01T00:00:00",
          "2022-02-02T00:00:00",
          "2022-02-03T00:00:00",
          "2022-02-04T00:00:00",
          "2022-02-09T00:00:00",
          "2022-02-17T00:00:00",
          "2022-02-28T00:00:00",
          "2022-03-01T00:00:00",
          "2022-03-18T00:00:00",
          "2022-03-31T00:00:00",
          "2022-04-01T00:00:00",
          "2022-04-06T00:00:00",
          "2022-04-18T00:00:00",
          "2022-04-21T00:00:00",
          "2022-04-27T00:00:00",
          "2022-04-28T00:00:00",
          "2022-05-02T00:00:00",
          "2022-05-04T00:00:00",
          "2022-05-13T00:00:00",
          "2022-05-19T00:00:00",
          "2022-05-20T00:00:00",
          "2022-05-31T00:00:00",
          "2022-06-02T00:00:00",
          "2022-06-08T00:00:00",
          "2022-06-10T00:00:00",
          "2022-06-13T00:00:00",
          "2022-06-21T00:00:00",
          "2022-06-23T00:00:00",
          "2022-06-24T00:00:00",
          "2022-06-29T00:00:00",
          "2022-06-30T00:00:00",
          "2022-07-01T00:00:00",
          "2022-07-02T00:00:00",
          "2022-07-06T00:00:00",
          "2022-07-08T00:00:00",
          "2022-07-09T00:00:00",
          "2022-07-11T00:00:00",
          "2022-07-12T00:00:00",
          "2022-07-13T00:00:00",
          "2022-07-14T00:00:00",
          "2022-07-15T00:00:00",
          "2022-07-17T00:00:00",
          "2022-07-18T00:00:00",
          "2022-07-19T00:00:00",
          "2022-07-21T00:00:00",
          "2022-07-22T00:00:00",
          "2022-07-25T00:00:00",
          "2022-07-26T00:00:00",
          "2022-07-27T00:00:00",
          "2022-07-29T00:00:00",
          "2022-08-01T00:00:00",
          "2022-08-02T00:00:00",
          "2022-08-03T00:00:00",
          "2022-08-04T00:00:00",
          "2022-08-05T00:00:00",
          "2022-08-08T00:00:00",
          "2022-08-09T00:00:00",
          "2022-08-11T00:00:00",
          "2022-08-12T00:00:00",
          "2022-08-16T00:00:00",
          "2022-08-17T00:00:00",
          "2022-08-18T00:00:00",
          "2022-08-19T00:00:00",
          "2022-08-22T00:00:00",
          "2022-08-23T00:00:00",
          "2022-08-24T00:00:00",
          "2022-08-25T00:00:00",
          "2022-08-26T00:00:00",
          "2022-08-27T00:00:00",
          "2022-08-29T00:00:00",
          "2022-08-30T00:00:00",
          "2022-08-31T00:00:00",
          "2022-09-01T00:00:00",
          "2022-09-02T00:00:00",
          "2022-09-03T00:00:00",
          "2022-09-05T00:00:00",
          "2022-09-06T00:00:00",
          "2022-09-07T00:00:00",
          "2022-09-08T00:00:00",
          "2022-09-09T00:00:00",
          "2022-09-12T00:00:00",
          "2022-09-13T00:00:00",
          "2022-09-14T00:00:00",
          "2022-09-15T00:00:00",
          "2022-09-16T00:00:00",
          "2022-09-19T00:00:00",
          "2022-09-20T00:00:00",
          "2022-09-21T00:00:00",
          "2022-09-22T00:00:00",
          "2022-09-23T00:00:00",
          "2022-09-24T00:00:00",
          "2022-09-26T00:00:00",
          "2022-09-27T00:00:00",
          "2022-09-28T00:00:00",
          "2022-09-29T00:00:00",
          "2022-09-30T00:00:00",
          "2022-10-01T00:00:00",
          "2022-10-03T00:00:00",
          "2022-10-04T00:00:00",
          "2022-10-05T00:00:00",
          "2022-10-06T00:00:00",
          "2022-10-07T00:00:00",
          "2022-10-08T00:00:00",
          "2022-10-10T00:00:00",
          "2022-10-11T00:00:00",
          "2022-10-12T00:00:00",
          "2022-10-13T00:00:00",
          "2022-10-14T00:00:00",
          "2022-10-18T00:00:00",
          "2022-10-19T00:00:00",
          "2022-10-20T00:00:00",
          "2022-10-21T00:00:00",
          "2022-10-22T00:00:00",
          "2022-10-24T00:00:00",
          "2022-10-25T00:00:00",
          "2022-10-26T00:00:00",
          "2022-10-27T00:00:00",
          "2022-10-28T00:00:00",
          "2022-10-31T00:00:00",
          "2022-11-01T00:00:00",
          "2022-11-02T00:00:00",
          "2022-11-03T00:00:00",
          "2022-11-04T00:00:00",
          "2022-11-08T00:00:00",
          "2022-11-09T00:00:00",
          "2022-11-10T00:00:00",
          "2022-11-11T00:00:00",
          "2022-11-12T00:00:00",
          "2022-11-15T00:00:00",
          "2022-11-16T00:00:00",
          "2022-11-17T00:00:00",
          "2022-11-18T00:00:00",
          "2022-11-19T00:00:00",
          "2022-11-21T00:00:00",
          "2022-11-22T00:00:00",
          "2022-11-23T00:00:00",
          "2022-11-24T00:00:00",
          "2022-11-25T00:00:00",
          "2022-11-28T00:00:00",
          "2022-11-30T00:00:00",
          "2022-12-01T00:00:00",
          "2022-12-02T00:00:00",
          "2022-12-05T00:00:00",
          "2022-12-06T00:00:00",
          "2022-12-07T00:00:00",
          "2022-12-10T00:00:00",
          "2022-12-14T00:00:00",
          "2022-12-15T00:00:00",
          "2022-12-16T00:00:00",
          "2022-12-19T00:00:00",
          "2022-12-20T00:00:00",
          "2022-12-21T00:00:00",
          "2022-12-22T00:00:00",
          "2022-12-23T00:00:00",
          "2022-12-26T00:00:00",
          "2022-12-27T00:00:00",
          "2022-12-28T00:00:00",
          "2022-12-29T00:00:00",
          "2023-01-13T00:00:00",
          "2023-01-14T00:00:00",
          "2023-01-16T00:00:00",
          "2023-01-17T00:00:00",
          "2023-01-18T00:00:00",
          "2023-01-19T00:00:00",
          "2023-01-20T00:00:00",
          "2023-01-21T00:00:00",
          "2023-01-22T00:00:00",
          "2023-01-23T00:00:00",
          "2023-01-24T00:00:00",
          "2023-01-25T00:00:00",
          "2023-01-26T00:00:00",
          "2023-01-27T00:00:00",
          "2023-01-28T00:00:00",
          "2023-01-30T00:00:00",
          "2023-01-31T00:00:00",
          "2023-02-01T00:00:00",
          "2023-02-02T00:00:00",
          "2023-02-03T00:00:00",
          "2023-02-04T00:00:00",
          "2023-02-06T00:00:00",
          "2023-02-07T00:00:00",
          "2023-02-08T00:00:00",
          "2023-02-09T00:00:00",
          "2023-02-10T00:00:00",
          "2023-02-11T00:00:00",
          "2023-02-13T00:00:00",
          "2023-02-14T00:00:00",
          "2023-02-15T00:00:00",
          "2023-02-16T00:00:00",
          "2023-02-17T00:00:00",
          "2023-02-18T00:00:00",
          "2023-02-20T00:00:00",
          "2023-02-21T00:00:00",
          "2023-02-22T00:00:00",
          "2023-02-23T00:00:00",
          "2023-02-24T00:00:00",
          "2023-02-25T00:00:00",
          "2023-02-27T00:00:00",
          "2023-02-28T00:00:00",
          "2023-03-01T00:00:00",
          "2023-03-02T00:00:00",
          "2023-03-03T00:00:00",
          "2023-03-04T00:00:00",
          "2023-03-06T00:00:00",
          "2023-03-07T00:00:00",
          "2023-03-08T00:00:00",
          "2023-03-09T00:00:00",
          "2023-03-10T00:00:00",
          "2023-03-11T00:00:00",
          "2023-03-13T00:00:00",
          "2023-03-14T00:00:00",
          "2023-03-15T00:00:00",
          "2023-03-16T00:00:00",
          "2023-03-17T00:00:00",
          "2023-03-18T00:00:00",
          "2023-03-21T00:00:00",
          "2023-03-22T00:00:00",
          "2023-03-23T00:00:00",
          "2023-03-24T00:00:00",
          "2023-03-27T00:00:00",
          "2023-03-28T00:00:00",
          "2023-03-29T00:00:00",
          "2023-03-30T00:00:00",
          "2023-03-31T00:00:00",
          "2023-04-01T00:00:00",
          "2023-04-03T00:00:00",
          "2023-04-04T00:00:00",
          "2023-04-05T00:00:00",
          "2023-04-10T00:00:00",
          "2023-04-11T00:00:00",
          "2023-04-12T00:00:00",
          "2023-04-13T00:00:00",
          "2023-04-14T00:00:00",
          "2023-04-17T00:00:00",
          "2023-04-18T00:00:00",
          "2023-04-19T00:00:00",
          "2023-04-20T00:00:00",
          "2023-04-21T00:00:00",
          "2023-04-22T00:00:00",
          "2023-04-24T00:00:00",
          "2023-04-25T00:00:00",
          "2023-04-26T00:00:00",
          "2023-04-27T00:00:00",
          "2023-04-28T00:00:00",
          "2023-04-29T00:00:00",
          "2023-04-30T00:00:00",
          "2023-05-05T00:00:00",
          "2023-05-06T00:00:00",
          "2023-05-08T00:00:00",
          "2023-05-09T00:00:00",
          "2023-05-10T00:00:00",
          "2023-05-11T00:00:00",
          "2023-05-12T00:00:00",
          "2023-05-13T00:00:00",
          "2023-05-15T00:00:00",
          "2023-05-16T00:00:00",
          "2023-05-17T00:00:00",
          "2023-05-18T00:00:00",
          "2023-05-19T00:00:00",
          "2023-05-20T00:00:00",
          "2023-05-23T00:00:00",
          "2023-05-24T00:00:00",
          "2023-05-25T00:00:00",
          "2023-05-26T00:00:00",
          "2023-05-29T00:00:00",
          "2023-05-30T00:00:00",
          "2023-05-31T00:00:00",
          "2023-06-01T00:00:00",
          "2023-06-02T00:00:00",
          "2023-06-05T00:00:00",
          "2023-06-06T00:00:00",
          "2023-06-07T00:00:00",
          "2023-06-08T00:00:00",
          "2023-06-09T00:00:00",
          "2023-06-10T00:00:00",
          "2023-06-13T00:00:00",
          "2023-06-14T00:00:00",
          "2023-06-15T00:00:00",
          "2023-06-16T00:00:00",
          "2023-06-20T00:00:00",
          "2023-06-21T00:00:00",
          "2023-06-22T00:00:00",
          "2023-06-23T00:00:00",
          "2023-06-26T00:00:00",
          "2023-06-27T00:00:00",
          "2023-06-28T00:00:00",
          "2023-06-29T00:00:00",
          "2023-06-30T00:00:00",
          "2023-07-01T00:00:00",
          "2023-07-04T00:00:00",
          "2023-07-05T00:00:00",
          "2023-07-06T00:00:00",
          "2023-07-07T00:00:00",
          "2023-07-08T00:00:00",
          "2023-07-10T00:00:00",
          "2023-07-11T00:00:00",
          "2023-07-12T00:00:00",
          "2023-07-13T00:00:00",
          "2023-07-14T00:00:00",
          "2023-07-15T00:00:00",
          "2023-07-17T00:00:00",
          "2023-07-18T00:00:00",
          "2023-07-19T00:00:00",
          "2023-07-21T00:00:00",
          "2023-07-24T00:00:00",
          "2023-07-25T00:00:00",
          "2023-07-26T00:00:00",
          "2023-07-27T00:00:00",
          "2023-07-28T00:00:00",
          "2023-07-29T00:00:00",
          "2023-07-30T00:00:00",
          "2023-07-31T00:00:00",
          "2023-08-01T00:00:00",
          "2023-08-02T00:00:00",
          "2023-08-03T00:00:00",
          "2023-08-04T00:00:00",
          "2023-08-05T00:00:00",
          "2023-08-08T00:00:00",
          "2023-08-09T00:00:00",
          "2023-08-10T00:00:00",
          "2023-08-11T00:00:00",
          "2023-08-12T00:00:00",
          "2023-08-14T00:00:00",
          "2023-08-15T00:00:00",
          "2023-08-16T00:00:00",
          "2023-08-17T00:00:00",
          "2023-08-18T00:00:00",
          "2023-08-19T00:00:00",
          "2023-08-22T00:00:00",
          "2023-08-23T00:00:00",
          "2023-08-24T00:00:00",
          "2023-08-25T00:00:00",
          "2023-08-26T00:00:00",
          "2023-08-28T00:00:00",
          "2023-08-29T00:00:00",
          "2023-08-30T00:00:00",
          "2023-08-31T00:00:00",
          "2023-09-01T00:00:00",
          "2023-09-02T00:00:00",
          "2023-09-04T00:00:00",
          "2023-09-05T00:00:00",
          "2023-09-06T00:00:00",
          "2023-09-07T00:00:00",
          "2023-09-08T00:00:00",
          "2023-09-09T00:00:00",
          "2023-09-11T00:00:00",
          "2023-09-12T00:00:00",
          "2023-09-13T00:00:00",
          "2023-09-14T00:00:00",
          "2023-09-15T00:00:00",
          "2023-09-16T00:00:00",
          "2023-09-18T00:00:00",
          "2023-09-19T00:00:00",
          "2023-09-20T00:00:00",
          "2023-09-21T00:00:00",
          "2023-09-22T00:00:00",
          "2023-09-23T00:00:00",
          "2023-09-25T00:00:00",
          "2023-09-26T00:00:00",
          "2023-09-27T00:00:00",
          "2023-09-28T00:00:00",
          "2023-09-29T00:00:00",
          "2023-09-30T00:00:00",
          "2023-10-02T00:00:00",
          "2023-10-03T00:00:00",
          "2023-10-04T00:00:00",
          "2023-10-05T00:00:00",
          "2023-10-06T00:00:00",
          "2023-10-07T00:00:00",
          "2023-10-09T00:00:00",
          "2023-10-10T00:00:00",
          "2023-10-11T00:00:00",
          "2023-10-12T00:00:00",
          "2023-10-13T00:00:00",
          "2023-10-14T00:00:00",
          "2023-10-17T00:00:00",
          "2023-10-18T00:00:00",
          "2023-10-19T00:00:00",
          "2023-10-20T00:00:00",
          "2023-10-23T00:00:00",
          "2023-10-24T00:00:00",
          "2023-10-25T00:00:00",
          "2023-10-26T00:00:00",
          "2023-10-27T00:00:00",
          "2023-10-30T00:00:00",
          "2023-10-31T00:00:00",
          "2023-11-01T00:00:00",
          "2023-11-02T00:00:00",
          "2023-11-03T00:00:00",
          "2023-11-07T00:00:00",
          "2023-11-08T00:00:00",
          "2023-11-09T00:00:00",
          "2023-11-10T00:00:00",
          "2023-11-11T00:00:00",
          "2023-11-14T00:00:00",
          "2023-11-15T00:00:00",
          "2023-11-16T00:00:00",
          "2023-11-17T00:00:00",
          "2023-11-20T00:00:00",
          "2023-11-21T00:00:00",
          "2023-11-22T00:00:00",
          "2023-11-23T00:00:00",
          "2023-11-24T00:00:00",
          "2023-11-27T00:00:00",
          "2023-11-28T00:00:00",
          "2023-11-29T00:00:00",
          "2023-11-30T00:00:00",
          "2023-12-01T00:00:00",
          "2023-12-02T00:00:00",
          "2023-12-04T00:00:00",
          "2023-12-05T00:00:00",
          "2023-12-06T00:00:00",
          "2023-12-07T00:00:00",
          "2023-12-08T00:00:00",
          "2023-12-11T00:00:00",
          "2023-12-12T00:00:00",
          "2023-12-13T00:00:00",
          "2023-12-14T00:00:00",
          "2023-12-15T00:00:00",
          "2023-12-20T00:00:00",
          "2023-12-21T00:00:00",
          "2023-12-22T00:00:00",
          "2023-12-26T00:00:00",
          "2023-12-31T00:00:00",
          "2024-01-05T00:00:00",
          "2024-01-06T00:00:00",
          "2024-01-09T00:00:00",
          "2024-01-10T00:00:00",
          "2024-01-11T00:00:00",
          "2024-01-12T00:00:00",
          "2024-01-13T00:00:00",
          "2024-01-15T00:00:00",
          "2024-01-16T00:00:00",
          "2024-01-17T00:00:00",
          "2024-01-18T00:00:00",
          "2024-01-19T00:00:00",
          "2024-01-20T00:00:00",
          "2024-01-21T00:00:00",
          "2024-01-22T00:00:00",
          "2024-01-23T00:00:00",
          "2024-01-24T00:00:00",
          "2024-01-25T00:00:00",
          "2024-01-26T00:00:00",
          "2024-01-27T00:00:00",
          "2024-01-28T00:00:00",
          "2024-01-29T00:00:00",
          "2024-01-30T00:00:00",
          "2024-01-31T00:00:00",
          "2024-02-01T00:00:00",
          "2024-02-02T00:00:00",
          "2024-02-03T00:00:00",
          "2024-02-05T00:00:00",
          "2024-02-06T00:00:00",
          "2024-02-07T00:00:00",
          "2024-02-08T00:00:00",
          "2024-02-09T00:00:00",
          "2024-02-10T00:00:00",
          "2024-02-12T00:00:00",
          "2024-02-13T00:00:00",
          "2024-02-14T00:00:00",
          "2024-02-15T00:00:00",
          "2024-02-16T00:00:00",
          "2024-02-17T00:00:00",
          "2024-02-19T00:00:00",
          "2024-02-20T00:00:00",
          "2024-02-21T00:00:00",
          "2024-02-22T00:00:00",
          "2024-02-23T00:00:00",
          "2024-02-24T00:00:00",
          "2024-02-26T00:00:00",
          "2024-02-27T00:00:00",
          "2024-02-28T00:00:00",
          "2024-02-29T00:00:00",
          "2024-03-01T00:00:00",
          "2024-03-04T00:00:00",
          "2024-03-05T00:00:00",
          "2024-03-06T00:00:00",
          "2024-03-07T00:00:00",
          "2024-03-08T00:00:00",
          "2024-03-09T00:00:00",
          "2024-03-11T00:00:00",
          "2024-03-12T00:00:00",
          "2024-03-13T00:00:00",
          "2024-03-14T00:00:00",
          "2024-03-15T00:00:00",
          "2024-03-16T00:00:00",
          "2024-03-18T00:00:00",
          "2024-03-19T00:00:00",
          "2024-03-20T00:00:00",
          "2024-03-21T00:00:00",
          "2024-03-22T00:00:00",
          "2024-03-23T00:00:00",
          "2024-03-26T00:00:00",
          "2024-03-27T00:00:00",
          "2024-03-28T00:00:00",
          "2024-03-30T00:00:00",
          "2024-04-02T00:00:00"
         ],
         "xaxis": "x",
         "y": [
          11.133333333333333,
          12.030303030303031,
          12.1,
          11.685185185185185,
          11.952777777777778,
          11.233333333333333,
          11.8,
          7.877777777777778,
          11.766666666666667,
          9.466666666666667,
          10.459259259259259,
          11.614814814814816,
          9.470967741935484,
          7.833333333333333,
          9.562962962962963,
          8.963636363636365,
          8.338888888888889,
          11.458333333333334,
          8.727777777777778,
          11.02962962962963,
          6.433333333333334,
          10.170833333333333,
          11.166666666666666,
          10.827083333333333,
          11.166666666666666,
          11.166666666666666,
          11.066666666666666,
          3.5166666666666666,
          9.723809523809525,
          9.309523809523808,
          9.166666666666666,
          10.9,
          10.720833333333333,
          9.774074074074074,
          10.331372549019608,
          16.285714285714285,
          10.331372549019608,
          10.10952380952381,
          7.970833333333333,
          10.545833333333333,
          9.148333333333333,
          10.446666666666665,
          10.392592592592592,
          10.251041666666667,
          10.125,
          6.914285714285714,
          9.576666666666666,
          7.006666666666666,
          9.433333333333334,
          9.952380952380953,
          10.098245614035088,
          10.066666666666666,
          9.825,
          17.87777777777778,
          9.194871794871796,
          9.533333333333333,
          9.683333333333334,
          9.166666666666666,
          3.1,
          9.779166666666667,
          9.753333333333334,
          6.966666666666667,
          9.58888888888889,
          9.566666666666666,
          9.514285714285714,
          9.533333333333333,
          5.65,
          1.7,
          9.083333333333334,
          1.1,
          7.241666666666666,
          8.6,
          8.6,
          21.575,
          8.433333333333334,
          7.333333333333333,
          8.303703703703704,
          8.38888888888889,
          5.955555555555555,
          8.066666666666666,
          6.011111111111111,
          5.977777777777778,
          8,
          4.866666666666666,
          7.9,
          7.691666666666666,
          7.1,
          7.6,
          11.366666666666667,
          7.533333333333333,
          17.016666666666666,
          6.861904761904762,
          5.933333333333334,
          7.266666666666667,
          7.258333333333334,
          7.073333333333333,
          6.166666666666667,
          7.122222222222222,
          7.088888888888889,
          7.08,
          6.933333333333334,
          6.633333333333334,
          7.241666666666666,
          6.575,
          6.766666666666667,
          6.776666666666667,
          6.766666666666667,
          6.733333333333333,
          6.5,
          6.476190476190476,
          6.155555555555555,
          6.516666666666667,
          4.633333333333334,
          6.333333333333333,
          19.941666666666666,
          1.1333333333333333,
          6.133333333333334,
          4.652380952380953,
          6.075,
          2.7555555555555555,
          6,
          5.966666666666667,
          4.3,
          5.7,
          5.7,
          5.633333333333334,
          2.5777777777777775,
          2.911111111111111,
          5.2,
          5.45,
          5.366666666666666,
          5.35,
          5.216666666666667,
          3.9583333333333335,
          5.183333333333334,
          5.15,
          5.002083333333333,
          3.935294117647059,
          4.244761904761905,
          4.21969696969697,
          4.616666666666666,
          4.675,
          4.62280701754386,
          4.649425287356322,
          4.495238095238095,
          4.563999999999999,
          4.561111111111112,
          4.533333333333333,
          4.438211382113821,
          6.186458333333333,
          6.592307692307693,
          4.321538461538462,
          8.133333333333333,
          4.293055555555555,
          4.065384615384615,
          4.2384615384615385,
          4.120289855072463,
          6.540579710144927,
          4.15,
          4.1,
          4.0765957446808505,
          4.001190476190477,
          3.9697916666666666,
          3.9550724637681163,
          3.9375,
          3.8666666666666667,
          3.8,
          3.8,
          3.7266666666666666,
          3.75,
          3.6222222222222222,
          4.919047619047619,
          3.6176470588235294,
          3.45,
          3.566666666666667,
          3.5125,
          2.216666666666667,
          3.2,
          9.766666666666667,
          3.3,
          2.888888888888889,
          7.783333333333333,
          3.2,
          3.1333333333333333,
          2.966666666666667,
          3.066666666666667,
          3.055555555555556,
          9.279487179487178,
          2.9833333333333334,
          2.908333333333333,
          2.8777777777777778,
          2.757575757575758,
          2.75,
          1.5333333333333334,
          2.7333333333333334,
          2.5242424242424244,
          4.271794871794872,
          9.208333333333334,
          2.1523809523809523,
          6.222222222222222,
          2.3800000000000003,
          2.0871794871794873,
          2.0017543859649125,
          2.301282051282051,
          2.3,
          2.2333333333333334,
          2.126851851851852,
          2.1515151515151514,
          2.8848484848484848,
          2.022222222222222,
          2.0513513513513515,
          4.307142857142858,
          2.033333333333333,
          1.7574074074074073,
          1.8505376344086022,
          1.7955555555555556,
          3.47156862745098,
          1.8166666666666667,
          1.5583333333333333,
          1.5476190476190477,
          1.6202020202020202,
          1.61078431372549,
          1.5296296296296295,
          1.3619047619047617,
          1.4303030303030302,
          1.7030303030303031,
          1.75679012345679,
          2.078125,
          1.3333333333333333,
          1.2666666666666666,
          1.1626666666666667,
          1.2296296296296296,
          1.674074074074074,
          1.1681818181818182,
          1.1095238095238096,
          1.219047619047619,
          1.0333333333333334,
          0.86875,
          0.9843137254901961,
          1.2854166666666667,
          2.7444444444444445,
          0.9055555555555556,
          0.8666666666666667,
          0.7761904761904762,
          0.7222222222222222,
          0.6571428571428571,
          0.7333333333333333,
          0.711111111111111,
          0.6666666666666666,
          0.5666666666666667,
          0.5166666666666667,
          1.5546666666666666,
          60.86666666666667,
          30.866666666666667,
          16.51111111111111,
          12.166666666666666,
          9.4125,
          9.105555555555556,
          0.13333333333333333,
          2.54,
          60.9,
          8.113333333333333,
          60.9,
          11.966666666666667,
          11.958333333333334,
          7.935897435897435,
          11.9,
          11.172222222222222,
          11.551851851851852,
          9.780303030303031,
          5.988888888888889,
          7.191666666666666,
          8.42,
          11.6,
          10.479999999999999,
          11.129999999999999,
          9.8,
          10.703921568627452,
          9.635483870967741,
          10.594871794871796,
          10.218333333333334,
          8.833333333333334,
          18.793333333333333,
          8.380952380952381,
          20.266666666666666,
          5.366666666666666,
          6.575,
          7.545238095238095,
          8.02888888888889,
          8.441666666666666,
          6.133333333333334,
          7.151282051282052,
          21.15,
          4.066666666666666,
          6.306060606060607,
          8.27142857142857,
          6.5769230769230775,
          7.446666666666667,
          6.057777777777777,
          2.3666666666666667,
          7.574358974358974,
          7.654545454545454,
          15.3,
          15.326666666666666,
          10.856060606060606,
          48.666666666666664,
          6.133333333333334,
          11.084444444444445,
          7.095833333333333,
          8.658333333333333,
          12.365,
          12.596666666666666,
          6.811111111111112,
          9.333333333333334,
          8.17878787878788,
          8.4875,
          7.008333333333334,
          17.384,
          13.93939393939394,
          4.1,
          7.9,
          7.65625,
          13.602469135802469,
          8.106060606060606,
          7.615942028985507,
          7.4523809523809526,
          11.477777777777778,
          7.8478632478632475,
          8.540449438202247,
          17.560493827160492,
          9.773563218390803,
          8.766666666666667,
          8.63888888888889,
          6.55625,
          6.942105263157895,
          8.463333333333333,
          8.576666666666666,
          8.533333333333333,
          8.076923076923077,
          16.274358974358975,
          7.649019607843138,
          7.044927536231884,
          9.812820512820512,
          6.70952380952381,
          15.60952380952381,
          9.633333333333333,
          8.00909090909091,
          7.576515151515151,
          7.461904761904762,
          4.066666666666666,
          7.677777777777778,
          7.306349206349207,
          12.635555555555555,
          9.141666666666667,
          6.8375,
          6.783333333333333,
          6.416666666666667,
          7.491666666666666,
          6.4125,
          13.35,
          7.333333333333333,
          7.233333333333333,
          7.2,
          7.270370370370371,
          7.22,
          15.061904761904762,
          7.416666666666667,
          18.91111111111111,
          7.4,
          6.147916666666666,
          7.141666666666667,
          6.628571428571429,
          7.228888888888889,
          7.07471264367816,
          6.233333333333333,
          6.289583333333334,
          7.140625,
          6.7142857142857135,
          10.436231884057971,
          7.102380952380953,
          20.2,
          6.722222222222222,
          17.933333333333334,
          7.2,
          7.166666666666667,
          5.762962962962963,
          7.05,
          12.325925925925926,
          12.57037037037037,
          26.08,
          6.966666666666667,
          12.971428571428572,
          6.33125,
          17.257142857142856,
          6.216666666666667,
          24.12777777777778,
          8.261111111111111,
          6.440740740740741,
          5.884615384615385,
          6.366666666666666,
          5.633333333333334,
          5.338888888888889,
          5.42,
          11.176666666666668,
          5.181481481481482,
          25.605555555555554,
          6.025,
          6.16,
          5.54,
          8.298333333333334,
          5.806666666666667,
          3.066666666666667,
          4.091666666666667,
          4.354166666666667,
          4.966666666666667,
          1.8,
          4.052380952380952,
          6.211111111111111,
          5.206140350877193,
          8.072549019607843,
          5.357971014492753,
          5.129166666666666,
          5.1194444444444445,
          12.883333333333333,
          4.782222222222222,
          4.47979797979798,
          4.627272727272727,
          5.341666666666667,
          4.9714285714285715,
          10.981481481481483,
          5.110714285714286,
          4.779166666666667,
          4.895238095238096,
          5.428571428571429,
          4.4,
          3.9583333333333335,
          6.670833333333333,
          4.509803921568627,
          4.7125,
          3.1666666666666665,
          1.9666666666666666,
          2.4,
          2.888888888888889,
          4.241666666666666,
          4.216666666666667,
          6.804545454545454,
          4.566666666666666,
          3.966666666666667,
          3.340740740740741,
          8.844444444444443,
          4.138095238095238,
          4.083333333333333,
          8.987878787878788,
          15.233333333333333,
          3.4222222222222225,
          21.020833333333332,
          3.933333333333333,
          13.572222222222223,
          22.666666666666668,
          11.366666666666667,
          3.3857142857142857,
          2.68,
          3.482222222222222,
          3.3705882352941177,
          13.15,
          3.5375,
          23.491666666666667,
          3.15,
          41.82222222222222,
          3.18,
          8.736666666666668,
          3.3766666666666665,
          3.377083333333333,
          16.758333333333333,
          3.2857142857142856,
          3.06,
          2.9857142857142858,
          3.0205128205128204,
          3.2333333333333334,
          2.8740740740740742,
          2.85,
          4.87037037037037,
          2.7199999999999998,
          2.281481481481481,
          3,
          2.5972222222222223,
          7.078571428571428,
          2.4,
          2.4375,
          4.241441441441442,
          2.310416666666667,
          6.366666666666666,
          8.945833333333333,
          2.4156862745098038,
          16.211111111111112,
          2.528571428571429,
          2.2473684210526317,
          2.15625,
          2.2944444444444443,
          5.977777777777778,
          2.3,
          2.0366666666666666,
          2.088888888888889,
          1.9666666666666666,
          2.0266666666666664,
          9.517543859649123,
          1.922222222222222,
          1.8547619047619048,
          1.77,
          1.6128205128205129,
          1.6,
          7.111111111111112,
          7.915384615384615,
          4.382142857142857,
          12.710416666666667,
          3.6666666666666665,
          51.5469696969697,
          48.75833333333333,
          10.551851851851852,
          12.594949494949496,
          3.783333333333333,
          1.2811594202898549,
          84.96666666666667,
          1.1,
          1.225,
          1.8222222222222222,
          1.1,
          2.033333333333333,
          1.0444444444444445,
          4.888888888888888,
          0.8266666666666667,
          0.9958333333333333,
          1.0190476190476192,
          1.276190476190476,
          0.9066666666666666,
          0.4666666666666667,
          0.7533333333333334,
          0.7523809523809525,
          0.638888888888889,
          15.741666666666667,
          49.00666666666667,
          35.07142857142857,
          60.7,
          0.5,
          0.4666666666666667,
          3.3,
          0.36666666666666664,
          0.3333333333333333,
          59.3,
          0.06666666666666667,
          10.627777777777776,
          11.9,
          9.916666666666666,
          11.683333333333334,
          10.43888888888889,
          11.282051282051281,
          11.36111111111111,
          11.0989898989899,
          10.809302325581395,
          10.058,
          9.376960784313725,
          9.302941176470588,
          8.935294117647059,
          8.384249084249085,
          10.29,
          9.549812734082396,
          8.291876750700279,
          9.749707602339182,
          7.996031746031746,
          7.845033112582781,
          7.5962962962962965,
          6.766666666666667,
          6.844444444444445,
          26.1,
          8.358181818181817,
          7.254320987654321,
          6.05,
          6,
          2.4,
          1.2,
          0.3333333333333333,
          1.1666666666666667,
          8.633333333333333,
          5.758333333333334,
          2.3,
          2.433333333333333,
          0.3,
          5.066666666666666,
          2.3333333333333335,
          17.833333333333332,
          7.7,
          6.2,
          7.7,
          5.2,
          6.633333333333334,
          5.2,
          6.7,
          6.833333333333333,
          6.166666666666667,
          4.933333333333334,
          2.033333333333333,
          3.3,
          24.88888888888889,
          6.166666666666667,
          5.341666666666667,
          2.3666666666666667,
          5.933333333333334,
          40.988888888888894,
          5.833333333333333,
          4.733333333333333,
          17.933333333333334,
          3.3666666666666667,
          5.35,
          4.95,
          5.6,
          5.533333333333333,
          31.166666666666668,
          8.083333333333334,
          4.24,
          2.655555555555556,
          2.966666666666667,
          3.3222222222222224,
          3.3,
          3.0222222222222226,
          2.2142857142857144,
          1.1,
          2.0458333333333334,
          22.2,
          1.6,
          1.9666666666666666,
          30.994444444444447,
          3.1166666666666667,
          4.053333333333333,
          3.5,
          3.0923076923076924,
          9.05,
          4.4,
          4,
          3.93030303030303,
          3.4277777777777776,
          13.485714285714286,
          3.617948717948718,
          3.966666666666667,
          3.982051282051282,
          16.10909090909091,
          3.5972222222222223,
          3.8333333333333335,
          3.933333333333333,
          0.8333333333333334,
          3.365079365079365,
          3.361538461538461,
          3.2472222222222222,
          12.877777777777776,
          3,
          3.6333333333333333,
          31.95,
          3.066666666666667,
          3.5,
          12.427777777777777,
          3.4,
          2.9833333333333334,
          2.6722222222222225,
          2.1666666666666665,
          3.2666666666666666,
          2.5277777777777777,
          2.216666666666667,
          2.6,
          5.961904761904762,
          8.881481481481481,
          31.766666666666666,
          2.3944444444444444,
          12.893333333333334,
          2.6083333333333334,
          6.9512820512820515,
          2.3984848484848484,
          2.3571428571428568,
          2.1875,
          2.49375,
          2.0933333333333333,
          1.9111111111111112,
          2.341666666666667,
          2.2133333333333334,
          2.245833333333333,
          1.85,
          2.3833333333333333,
          2.3,
          1.45,
          2.2666666666666666,
          1.6833333333333333,
          1.6222222222222222,
          1.6222222222222222,
          21.633333333333333,
          1.8916666666666666,
          9.923809523809524,
          1.9111111111111112,
          1.4714285714285715,
          3.4722222222222223,
          3.4722222222222223,
          1.7083333333333333,
          31.266666666666666,
          1.6333333333333333,
          1.5333333333333334,
          1.4666666666666666,
          2.12,
          22.386666666666667,
          1.075,
          49.983333333333334,
          0.75,
          1.1733333333333333,
          0.8458333333333333,
          7.1190476190476195,
          0.7333333333333333,
          0.9833333333333333,
          1.0066666666666666,
          0.8761904761904762,
          0.8366666666666667,
          0.65,
          0.8333333333333334,
          0.711111111111111,
          0.55,
          42.88333333333333,
          0.5111111111111112,
          0.39166666666666666,
          0.36666666666666664,
          0.3333333333333333,
          20.47222222222222,
          0.25,
          20.38888888888889,
          16.244444444444444,
          0.11666666666666667,
          60.9,
          5.704444444444444,
          11.71111111111111,
          3.466666666666667,
          18.66111111111111,
          9.466666666666667,
          9.356521739130436,
          9.44113475177305,
          10.202083333333333,
          10.786666666666667,
          10.942857142857143,
          9.68954248366013,
          10.3,
          8.937878787878788,
          8.7,
          7.18095238095238,
          8.493333333333334,
          9.559574468085106,
          9.641111111111112,
          11.125,
          11.505555555555556,
          9.288235294117646,
          7.585416666666666,
          9.36875,
          9.297777777777778,
          8.684313725490195,
          19.012,
          9.166666666666666,
          7.857777777777778,
          8.955555555555556,
          9.716666666666667,
          9.674444444444445,
          7.468181818181818,
          10.566666666666666,
          9.044444444444444,
          9.877083333333333,
          7.925925925925926,
          6.615384615384615,
          6.923809523809524,
          8.477777777777778,
          7.491666666666666,
          6.65625,
          7.884375,
          8.085185185185185,
          9.063725490196079,
          9.772222222222222,
          10.023232323232323,
          7.251666666666667,
          10.689473684210526,
          7.808333333333334,
          8.453030303030303,
          7.288888888888889,
          5.962666666666666,
          7.1483333333333325,
          7.885714285714286,
          8.01984126984127,
          7.410833333333333,
          8.422222222222222,
          6.4512820512820515,
          7.2444444444444445,
          7.4639999999999995,
          7.245833333333334,
          7.666666666666667,
          7.252941176470588,
          6.554166666666666,
          7.61764705882353,
          9.682051282051281,
          9.16111111111111,
          5.75,
          8.571428571428573,
          9.025,
          14.1,
          5.7444444444444445,
          7.486666666666666,
          7.881481481481482,
          8.285714285714286,
          6.92,
          8.16969696969697,
          9.76923076923077,
          5.355555555555555,
          10.346153846153845,
          8.4,
          7.511111111111111,
          19.358333333333334,
          6.9974358974358974,
          7.022222222222222,
          7.423809523809524,
          8.208333333333334,
          6.5,
          7.371544715447155,
          7.9,
          7.6078431372549025,
          5.2266666666666675,
          21.933333333333334,
          20.029629629629632,
          12.870000000000001,
          7.738888888888889,
          6.263333333333334,
          12.34920634920635,
          7.4944444444444445,
          7.221739130434782,
          14.675555555555555,
          7.533333333333333,
          7.303030303030303,
          6.839583333333334,
          7.306666666666667,
          9.931034482758621,
          7.222222222222222,
          16.776190476190475,
          12.650537634408602,
          14.657575757575758,
          7.091176470588236,
          19.662962962962965,
          6.8956140350877195,
          6.827272727272727,
          6.608333333333333,
          17.048148148148147,
          6.766666666666667,
          10.451515151515151,
          6.666666666666667,
          6.553623188405797,
          12.271428571428572,
          5.955555555555555,
          5.608333333333333,
          6.266666666666667,
          9.705555555555556,
          6.203921568627451,
          5.495238095238095,
          22.742857142857144,
          10.494444444444444,
          5.802222222222222,
          6.108333333333333,
          4.733333333333333,
          7.027536231884058,
          5.912820512820513,
          5.662037037037037,
          5.786666666666666,
          8.531666666666666,
          5.354166666666667,
          5.124242424242424,
          3.2333333333333334,
          5.464583333333334,
          4.666666666666667,
          5.261904761904762,
          5.3,
          5.407692307692307,
          5.2444444444444445,
          5.075,
          9.915151515151514,
          5.283333333333333,
          5,
          5.140229885057471,
          5.1,
          5.166666666666667,
          4.2,
          4.914814814814815,
          5.28,
          4.8566666666666665,
          4.415686274509804,
          4.786666666666666,
          3.4,
          4.178787878787879,
          4.511111111111111,
          4.452941176470588,
          4.488095238095238,
          4.357575757575757,
          4.291666666666667,
          4.271428571428571,
          4.431372549019608,
          4.0375,
          4.333333333333333,
          4.007142857142857,
          3.9740740740740743,
          3.8126984126984125,
          3.957142857142857,
          3.9846153846153842,
          3.923076923076923,
          3.869047619047619,
          3.8238095238095235,
          3.86547619047619,
          3.9030303030303033,
          3.8666666666666667,
          3.6199999999999997,
          3.6055555555555556,
          7.41505376344086,
          16.451851851851853,
          3.4,
          2.95,
          14.009090909090908,
          3.3179487179487177,
          3.574509803921569,
          3.35,
          17.005555555555556,
          3.5444444444444443,
          3.2,
          3.444444444444444,
          3.307407407407408,
          8.077777777777778,
          2.95,
          3.3,
          2.8222222222222224,
          3.0644444444444447,
          3.1666666666666665,
          2.9603174603174605,
          2.8916666666666666,
          2.913888888888889,
          2.98,
          2.9777777777777774,
          2.7066666666666666,
          2.6764705882352944,
          2.581609195402299,
          2.6333333333333333,
          2.288888888888889,
          2.4137254901960783,
          2.55,
          2.4393939393939394,
          2.5125,
          2.538095238095238,
          2.3842105263157896,
          3.003333333333333,
          2.4466666666666668,
          2.3,
          1.919047619047619,
          2.1416666666666666,
          2.058333333333333,
          2.1866666666666665,
          2.143333333333333,
          2.0533333333333332,
          1.9333333333333333,
          1.8,
          1.9666666666666666,
          1.9254901960784314,
          1.7404761904761905,
          1.6333333333333333,
          1.72,
          1.4866666666666668,
          1.7,
          1.4393939393939392,
          1.4538461538461538,
          0.8,
          1.3452380952380951,
          1.3666666666666667,
          1.3,
          1.1,
          1.2923076923076922,
          2.4777777777777774,
          1.1481481481481481,
          0.9555555555555556,
          1.3566666666666667,
          0.9909090909090909,
          1.294871794871795,
          0.9047619047619048,
          2.2333333333333334,
          0.6958333333333333,
          0.7866666666666667,
          0.7222222222222222,
          1.1484848484848484,
          0.575,
          0.5761904761904761,
          0.4666666666666667,
          1.0095238095238095,
          28.946153846153845,
          0.4,
          7.133333333333334,
          6.683333333333334,
          1.0333333333333334,
          9.72,
          12.066666666666666,
          10.240579710144926,
          11.75,
          11.635802469135802,
          10.969696969696969,
          11.254838709677419,
          11.417460317460318,
          11.7,
          10.280606060606061,
          10.941666666666666,
          9.528703703703703,
          10.46231884057971,
          9.066666666666666,
          8.133333333333333,
          10.266666666666667,
          9.96574074074074,
          10.576041666666667,
          10.725185185185184,
          9.245238095238095,
          8.2,
          5.761111111111111,
          10.781481481481482,
          9.390909090909092,
          8.871052631578948,
          9.21505376344086,
          9.530081300813007,
          10.925,
          7.168888888888889,
          8.270085470085471,
          8.007619047619048,
          9.083333333333334,
          8.641496598639456,
          8.332291666666666,
          7.485185185185185,
          9.796153846153846,
          7.697222222222222,
          7.588405797101449,
          7.752525252525252,
          7.884444444444444,
          8.038888888888888,
          10.166666666666666,
          6.29537037037037,
          7.324561403508771,
          8.924358974358974,
          10.992592592592592,
          6.8809523809523805,
          8.289285714285715,
          8.725,
          6.754761904761905,
          8.762318840579711,
          7.158974358974359,
          7.863333333333333,
          6.819999999999999,
          8.727777777777778,
          6.87037037037037,
          2.8,
          7.776923076923078,
          8.222727272727273,
          7.0625,
          7.201515151515151,
          6.742857142857143,
          8.655555555555557,
          7.82051282051282,
          6.91,
          5.419444444444445,
          5.366666666666666,
          8.347222222222221,
          8.852380952380951,
          6.366666666666666,
          7.095238095238096,
          7.1,
          9.233333333333333,
          9.116666666666667
         ],
         "yaxis": "y"
        }
       ],
       "layout": {
        "legend": {
         "tracegroupgap": 0
        },
        "template": {
         "data": {
          "bar": [
           {
            "error_x": {
             "color": "#2a3f5f"
            },
            "error_y": {
             "color": "#2a3f5f"
            },
            "marker": {
             "line": {
              "color": "#E5ECF6",
              "width": 0.5
             },
             "pattern": {
              "fillmode": "overlay",
              "size": 10,
              "solidity": 0.2
             }
            },
            "type": "bar"
           }
          ],
          "barpolar": [
           {
            "marker": {
             "line": {
              "color": "#E5ECF6",
              "width": 0.5
             },
             "pattern": {
              "fillmode": "overlay",
              "size": 10,
              "solidity": 0.2
             }
            },
            "type": "barpolar"
           }
          ],
          "carpet": [
           {
            "aaxis": {
             "endlinecolor": "#2a3f5f",
             "gridcolor": "white",
             "linecolor": "white",
             "minorgridcolor": "white",
             "startlinecolor": "#2a3f5f"
            },
            "baxis": {
             "endlinecolor": "#2a3f5f",
             "gridcolor": "white",
             "linecolor": "white",
             "minorgridcolor": "white",
             "startlinecolor": "#2a3f5f"
            },
            "type": "carpet"
           }
          ],
          "choropleth": [
           {
            "colorbar": {
             "outlinewidth": 0,
             "ticks": ""
            },
            "type": "choropleth"
           }
          ],
          "contour": [
           {
            "colorbar": {
             "outlinewidth": 0,
             "ticks": ""
            },
            "colorscale": [
             [
              0,
              "#0d0887"
             ],
             [
              0.1111111111111111,
              "#46039f"
             ],
             [
              0.2222222222222222,
              "#7201a8"
             ],
             [
              0.3333333333333333,
              "#9c179e"
             ],
             [
              0.4444444444444444,
              "#bd3786"
             ],
             [
              0.5555555555555556,
              "#d8576b"
             ],
             [
              0.6666666666666666,
              "#ed7953"
             ],
             [
              0.7777777777777778,
              "#fb9f3a"
             ],
             [
              0.8888888888888888,
              "#fdca26"
             ],
             [
              1,
              "#f0f921"
             ]
            ],
            "type": "contour"
           }
          ],
          "contourcarpet": [
           {
            "colorbar": {
             "outlinewidth": 0,
             "ticks": ""
            },
            "type": "contourcarpet"
           }
          ],
          "heatmap": [
           {
            "colorbar": {
             "outlinewidth": 0,
             "ticks": ""
            },
            "colorscale": [
             [
              0,
              "#0d0887"
             ],
             [
              0.1111111111111111,
              "#46039f"
             ],
             [
              0.2222222222222222,
              "#7201a8"
             ],
             [
              0.3333333333333333,
              "#9c179e"
             ],
             [
              0.4444444444444444,
              "#bd3786"
             ],
             [
              0.5555555555555556,
              "#d8576b"
             ],
             [
              0.6666666666666666,
              "#ed7953"
             ],
             [
              0.7777777777777778,
              "#fb9f3a"
             ],
             [
              0.8888888888888888,
              "#fdca26"
             ],
             [
              1,
              "#f0f921"
             ]
            ],
            "type": "heatmap"
           }
          ],
          "heatmapgl": [
           {
            "colorbar": {
             "outlinewidth": 0,
             "ticks": ""
            },
            "colorscale": [
             [
              0,
              "#0d0887"
             ],
             [
              0.1111111111111111,
              "#46039f"
             ],
             [
              0.2222222222222222,
              "#7201a8"
             ],
             [
              0.3333333333333333,
              "#9c179e"
             ],
             [
              0.4444444444444444,
              "#bd3786"
             ],
             [
              0.5555555555555556,
              "#d8576b"
             ],
             [
              0.6666666666666666,
              "#ed7953"
             ],
             [
              0.7777777777777778,
              "#fb9f3a"
             ],
             [
              0.8888888888888888,
              "#fdca26"
             ],
             [
              1,
              "#f0f921"
             ]
            ],
            "type": "heatmapgl"
           }
          ],
          "histogram": [
           {
            "marker": {
             "pattern": {
              "fillmode": "overlay",
              "size": 10,
              "solidity": 0.2
             }
            },
            "type": "histogram"
           }
          ],
          "histogram2d": [
           {
            "colorbar": {
             "outlinewidth": 0,
             "ticks": ""
            },
            "colorscale": [
             [
              0,
              "#0d0887"
             ],
             [
              0.1111111111111111,
              "#46039f"
             ],
             [
              0.2222222222222222,
              "#7201a8"
             ],
             [
              0.3333333333333333,
              "#9c179e"
             ],
             [
              0.4444444444444444,
              "#bd3786"
             ],
             [
              0.5555555555555556,
              "#d8576b"
             ],
             [
              0.6666666666666666,
              "#ed7953"
             ],
             [
              0.7777777777777778,
              "#fb9f3a"
             ],
             [
              0.8888888888888888,
              "#fdca26"
             ],
             [
              1,
              "#f0f921"
             ]
            ],
            "type": "histogram2d"
           }
          ],
          "histogram2dcontour": [
           {
            "colorbar": {
             "outlinewidth": 0,
             "ticks": ""
            },
            "colorscale": [
             [
              0,
              "#0d0887"
             ],
             [
              0.1111111111111111,
              "#46039f"
             ],
             [
              0.2222222222222222,
              "#7201a8"
             ],
             [
              0.3333333333333333,
              "#9c179e"
             ],
             [
              0.4444444444444444,
              "#bd3786"
             ],
             [
              0.5555555555555556,
              "#d8576b"
             ],
             [
              0.6666666666666666,
              "#ed7953"
             ],
             [
              0.7777777777777778,
              "#fb9f3a"
             ],
             [
              0.8888888888888888,
              "#fdca26"
             ],
             [
              1,
              "#f0f921"
             ]
            ],
            "type": "histogram2dcontour"
           }
          ],
          "mesh3d": [
           {
            "colorbar": {
             "outlinewidth": 0,
             "ticks": ""
            },
            "type": "mesh3d"
           }
          ],
          "parcoords": [
           {
            "line": {
             "colorbar": {
              "outlinewidth": 0,
              "ticks": ""
             }
            },
            "type": "parcoords"
           }
          ],
          "pie": [
           {
            "automargin": true,
            "type": "pie"
           }
          ],
          "scatter": [
           {
            "fillpattern": {
             "fillmode": "overlay",
             "size": 10,
             "solidity": 0.2
            },
            "type": "scatter"
           }
          ],
          "scatter3d": [
           {
            "line": {
             "colorbar": {
              "outlinewidth": 0,
              "ticks": ""
             }
            },
            "marker": {
             "colorbar": {
              "outlinewidth": 0,
              "ticks": ""
             }
            },
            "type": "scatter3d"
           }
          ],
          "scattercarpet": [
           {
            "marker": {
             "colorbar": {
              "outlinewidth": 0,
              "ticks": ""
             }
            },
            "type": "scattercarpet"
           }
          ],
          "scattergeo": [
           {
            "marker": {
             "colorbar": {
              "outlinewidth": 0,
              "ticks": ""
             }
            },
            "type": "scattergeo"
           }
          ],
          "scattergl": [
           {
            "marker": {
             "colorbar": {
              "outlinewidth": 0,
              "ticks": ""
             }
            },
            "type": "scattergl"
           }
          ],
          "scattermapbox": [
           {
            "marker": {
             "colorbar": {
              "outlinewidth": 0,
              "ticks": ""
             }
            },
            "type": "scattermapbox"
           }
          ],
          "scatterpolar": [
           {
            "marker": {
             "colorbar": {
              "outlinewidth": 0,
              "ticks": ""
             }
            },
            "type": "scatterpolar"
           }
          ],
          "scatterpolargl": [
           {
            "marker": {
             "colorbar": {
              "outlinewidth": 0,
              "ticks": ""
             }
            },
            "type": "scatterpolargl"
           }
          ],
          "scatterternary": [
           {
            "marker": {
             "colorbar": {
              "outlinewidth": 0,
              "ticks": ""
             }
            },
            "type": "scatterternary"
           }
          ],
          "surface": [
           {
            "colorbar": {
             "outlinewidth": 0,
             "ticks": ""
            },
            "colorscale": [
             [
              0,
              "#0d0887"
             ],
             [
              0.1111111111111111,
              "#46039f"
             ],
             [
              0.2222222222222222,
              "#7201a8"
             ],
             [
              0.3333333333333333,
              "#9c179e"
             ],
             [
              0.4444444444444444,
              "#bd3786"
             ],
             [
              0.5555555555555556,
              "#d8576b"
             ],
             [
              0.6666666666666666,
              "#ed7953"
             ],
             [
              0.7777777777777778,
              "#fb9f3a"
             ],
             [
              0.8888888888888888,
              "#fdca26"
             ],
             [
              1,
              "#f0f921"
             ]
            ],
            "type": "surface"
           }
          ],
          "table": [
           {
            "cells": {
             "fill": {
              "color": "#EBF0F8"
             },
             "line": {
              "color": "white"
             }
            },
            "header": {
             "fill": {
              "color": "#C8D4E3"
             },
             "line": {
              "color": "white"
             }
            },
            "type": "table"
           }
          ]
         },
         "layout": {
          "annotationdefaults": {
           "arrowcolor": "#2a3f5f",
           "arrowhead": 0,
           "arrowwidth": 1
          },
          "autotypenumbers": "strict",
          "coloraxis": {
           "colorbar": {
            "outlinewidth": 0,
            "ticks": ""
           }
          },
          "colorscale": {
           "diverging": [
            [
             0,
             "#8e0152"
            ],
            [
             0.1,
             "#c51b7d"
            ],
            [
             0.2,
             "#de77ae"
            ],
            [
             0.3,
             "#f1b6da"
            ],
            [
             0.4,
             "#fde0ef"
            ],
            [
             0.5,
             "#f7f7f7"
            ],
            [
             0.6,
             "#e6f5d0"
            ],
            [
             0.7,
             "#b8e186"
            ],
            [
             0.8,
             "#7fbc41"
            ],
            [
             0.9,
             "#4d9221"
            ],
            [
             1,
             "#276419"
            ]
           ],
           "sequential": [
            [
             0,
             "#0d0887"
            ],
            [
             0.1111111111111111,
             "#46039f"
            ],
            [
             0.2222222222222222,
             "#7201a8"
            ],
            [
             0.3333333333333333,
             "#9c179e"
            ],
            [
             0.4444444444444444,
             "#bd3786"
            ],
            [
             0.5555555555555556,
             "#d8576b"
            ],
            [
             0.6666666666666666,
             "#ed7953"
            ],
            [
             0.7777777777777778,
             "#fb9f3a"
            ],
            [
             0.8888888888888888,
             "#fdca26"
            ],
            [
             1,
             "#f0f921"
            ]
           ],
           "sequentialminus": [
            [
             0,
             "#0d0887"
            ],
            [
             0.1111111111111111,
             "#46039f"
            ],
            [
             0.2222222222222222,
             "#7201a8"
            ],
            [
             0.3333333333333333,
             "#9c179e"
            ],
            [
             0.4444444444444444,
             "#bd3786"
            ],
            [
             0.5555555555555556,
             "#d8576b"
            ],
            [
             0.6666666666666666,
             "#ed7953"
            ],
            [
             0.7777777777777778,
             "#fb9f3a"
            ],
            [
             0.8888888888888888,
             "#fdca26"
            ],
            [
             1,
             "#f0f921"
            ]
           ]
          },
          "colorway": [
           "#636efa",
           "#EF553B",
           "#00cc96",
           "#ab63fa",
           "#FFA15A",
           "#19d3f3",
           "#FF6692",
           "#B6E880",
           "#FF97FF",
           "#FECB52"
          ],
          "font": {
           "color": "#2a3f5f"
          },
          "geo": {
           "bgcolor": "white",
           "lakecolor": "white",
           "landcolor": "#E5ECF6",
           "showlakes": true,
           "showland": true,
           "subunitcolor": "white"
          },
          "hoverlabel": {
           "align": "left"
          },
          "hovermode": "closest",
          "mapbox": {
           "style": "light"
          },
          "paper_bgcolor": "white",
          "plot_bgcolor": "#E5ECF6",
          "polar": {
           "angularaxis": {
            "gridcolor": "white",
            "linecolor": "white",
            "ticks": ""
           },
           "bgcolor": "#E5ECF6",
           "radialaxis": {
            "gridcolor": "white",
            "linecolor": "white",
            "ticks": ""
           }
          },
          "scene": {
           "xaxis": {
            "backgroundcolor": "#E5ECF6",
            "gridcolor": "white",
            "gridwidth": 2,
            "linecolor": "white",
            "showbackground": true,
            "ticks": "",
            "zerolinecolor": "white"
           },
           "yaxis": {
            "backgroundcolor": "#E5ECF6",
            "gridcolor": "white",
            "gridwidth": 2,
            "linecolor": "white",
            "showbackground": true,
            "ticks": "",
            "zerolinecolor": "white"
           },
           "zaxis": {
            "backgroundcolor": "#E5ECF6",
            "gridcolor": "white",
            "gridwidth": 2,
            "linecolor": "white",
            "showbackground": true,
            "ticks": "",
            "zerolinecolor": "white"
           }
          },
          "shapedefaults": {
           "line": {
            "color": "#2a3f5f"
           }
          },
          "ternary": {
           "aaxis": {
            "gridcolor": "white",
            "linecolor": "white",
            "ticks": ""
           },
           "baxis": {
            "gridcolor": "white",
            "linecolor": "white",
            "ticks": ""
           },
           "bgcolor": "#E5ECF6",
           "caxis": {
            "gridcolor": "white",
            "linecolor": "white",
            "ticks": ""
           }
          },
          "title": {
           "x": 0.05
          },
          "xaxis": {
           "automargin": true,
           "gridcolor": "white",
           "linecolor": "white",
           "ticks": "",
           "title": {
            "standoff": 15
           },
           "zerolinecolor": "white",
           "zerolinewidth": 2
          },
          "yaxis": {
           "automargin": true,
           "gridcolor": "white",
           "linecolor": "white",
           "ticks": "",
           "title": {
            "standoff": 15
           },
           "zerolinecolor": "white",
           "zerolinewidth": 2
          }
         }
        },
        "title": {
         "text": "Promedio meses entre la fecha de firma de contrato y fecha fin de contrato ESAP año 2020 - 2024"
        },
        "xaxis": {
         "anchor": "y",
         "domain": [
          0,
          1
         ],
         "title": {
          "text": "fecha_de_firma"
         }
        },
        "yaxis": {
         "anchor": "x",
         "domain": [
          0,
          1
         ],
         "title": {
          "text": "Promedio Tiempo entre firma y fin (meses)"
         }
        }
       }
      }
     },
     "metadata": {},
     "output_type": "display_data"
    }
   ],
   "source": [
    "# Calcular el promedio de tiempo entre firma y fecha final del contrato en días\n",
    "secop['tiempo_entre_firma_fin'] = (secop['fecha_de_fin_del_contrato'] - secop['fecha_de_firma']).dt.days\n",
    "promedio_tiempo_por_dia = secop.groupby('fecha_de_firma')['tiempo_entre_firma_fin'].mean().reset_index()\n",
    "\n",
    "# Convertir el promedio de días a meses\n",
    "promedio_tiempo_por_dia['tiempo_entre_firma_fin'] /= 30  # Aproximadamente 30 días por mes\n",
    "\n",
    "# Crear una gráfica lineal del promedio del tiempo entre firma y fin por día en meses\n",
    "fig = px.line(promedio_tiempo_por_dia, x='fecha_de_firma', y='tiempo_entre_firma_fin',\n",
    "              labels={'tiempo_entre_firma_fin': 'Promedio Tiempo entre firma y fin (meses)'},\n",
    "              title='Promedio meses entre la fecha de firma de contrato y fecha fin de contrato ESAP año 2020 - 2024')\n",
    "\n",
    "# Mostrar la gráfica\n",
    "fig.show()"
   ]
  },
  {
   "cell_type": "markdown",
   "metadata": {},
   "source": [
    "_Valor de contratos ESAP según fecha de firma 2020 - 2024 (días)_"
   ]
  },
  {
   "cell_type": "code",
   "execution_count": 52,
   "metadata": {},
   "outputs": [
    {
     "data": {
      "application/vnd.plotly.v1+json": {
       "config": {
        "plotlyServerURL": "https://plot.ly"
       },
       "data": [
        {
         "hovertemplate": "fecha_de_firma=%{x}<br>valor_del_contrato=%{y}<extra></extra>",
         "legendgroup": "",
         "line": {
          "color": "#636efa",
          "dash": "solid"
         },
         "marker": {
          "symbol": "circle"
         },
         "mode": "lines",
         "name": "",
         "showlegend": false,
         "type": "scattergl",
         "x": [
          "2020-01-02T00:00:00",
          "2020-01-03T00:00:00",
          "2020-01-04T00:00:00",
          "2020-01-07T00:00:00",
          "2020-01-08T00:00:00",
          "2020-01-09T00:00:00",
          "2020-01-10T00:00:00",
          "2020-01-12T00:00:00",
          "2020-01-13T00:00:00",
          "2020-01-14T00:00:00",
          "2020-01-15T00:00:00",
          "2020-01-16T00:00:00",
          "2020-01-17T00:00:00",
          "2020-01-19T00:00:00",
          "2020-01-20T00:00:00",
          "2020-01-21T00:00:00",
          "2020-01-22T00:00:00",
          "2020-01-23T00:00:00",
          "2020-01-24T00:00:00",
          "2020-01-25T00:00:00",
          "2020-01-27T00:00:00",
          "2020-01-28T00:00:00",
          "2020-01-29T00:00:00",
          "2020-01-30T00:00:00",
          "2020-01-31T00:00:00",
          "2020-02-01T00:00:00",
          "2020-02-03T00:00:00",
          "2020-02-04T00:00:00",
          "2020-02-05T00:00:00",
          "2020-02-06T00:00:00",
          "2020-02-07T00:00:00",
          "2020-02-08T00:00:00",
          "2020-02-10T00:00:00",
          "2020-02-11T00:00:00",
          "2020-02-12T00:00:00",
          "2020-02-13T00:00:00",
          "2020-02-14T00:00:00",
          "2020-02-15T00:00:00",
          "2020-02-17T00:00:00",
          "2020-02-18T00:00:00",
          "2020-02-19T00:00:00",
          "2020-02-20T00:00:00",
          "2020-02-21T00:00:00",
          "2020-02-24T00:00:00",
          "2020-02-25T00:00:00",
          "2020-02-26T00:00:00",
          "2020-02-27T00:00:00",
          "2020-02-28T00:00:00",
          "2020-02-29T00:00:00",
          "2020-03-02T00:00:00",
          "2020-03-03T00:00:00",
          "2020-03-04T00:00:00",
          "2020-03-05T00:00:00",
          "2020-03-06T00:00:00",
          "2020-03-07T00:00:00",
          "2020-03-09T00:00:00",
          "2020-03-10T00:00:00",
          "2020-03-11T00:00:00",
          "2020-03-12T00:00:00",
          "2020-03-13T00:00:00",
          "2020-03-14T00:00:00",
          "2020-03-16T00:00:00",
          "2020-03-17T00:00:00",
          "2020-03-18T00:00:00",
          "2020-03-19T00:00:00",
          "2020-03-20T00:00:00",
          "2020-03-30T00:00:00",
          "2020-04-01T00:00:00",
          "2020-04-03T00:00:00",
          "2020-04-04T00:00:00",
          "2020-04-16T00:00:00",
          "2020-04-17T00:00:00",
          "2020-04-18T00:00:00",
          "2020-04-20T00:00:00",
          "2020-04-21T00:00:00",
          "2020-04-22T00:00:00",
          "2020-04-23T00:00:00",
          "2020-04-24T00:00:00",
          "2020-04-28T00:00:00",
          "2020-04-30T00:00:00",
          "2020-05-04T00:00:00",
          "2020-05-05T00:00:00",
          "2020-05-06T00:00:00",
          "2020-05-07T00:00:00",
          "2020-05-08T00:00:00",
          "2020-05-14T00:00:00",
          "2020-05-15T00:00:00",
          "2020-05-16T00:00:00",
          "2020-05-18T00:00:00",
          "2020-05-19T00:00:00",
          "2020-05-20T00:00:00",
          "2020-05-21T00:00:00",
          "2020-05-22T00:00:00",
          "2020-05-26T00:00:00",
          "2020-05-27T00:00:00",
          "2020-05-28T00:00:00",
          "2020-05-29T00:00:00",
          "2020-05-30T00:00:00",
          "2020-06-01T00:00:00",
          "2020-06-02T00:00:00",
          "2020-06-03T00:00:00",
          "2020-06-04T00:00:00",
          "2020-06-05T00:00:00",
          "2020-06-08T00:00:00",
          "2020-06-09T00:00:00",
          "2020-06-10T00:00:00",
          "2020-06-12T00:00:00",
          "2020-06-13T00:00:00",
          "2020-06-16T00:00:00",
          "2020-06-17T00:00:00",
          "2020-06-18T00:00:00",
          "2020-06-19T00:00:00",
          "2020-06-23T00:00:00",
          "2020-06-24T00:00:00",
          "2020-06-26T00:00:00",
          "2020-06-27T00:00:00",
          "2020-06-30T00:00:00",
          "2020-07-01T00:00:00",
          "2020-07-02T00:00:00",
          "2020-07-03T00:00:00",
          "2020-07-04T00:00:00",
          "2020-07-06T00:00:00",
          "2020-07-07T00:00:00",
          "2020-07-08T00:00:00",
          "2020-07-09T00:00:00",
          "2020-07-13T00:00:00",
          "2020-07-14T00:00:00",
          "2020-07-16T00:00:00",
          "2020-07-17T00:00:00",
          "2020-07-21T00:00:00",
          "2020-07-23T00:00:00",
          "2020-07-24T00:00:00",
          "2020-07-25T00:00:00",
          "2020-07-27T00:00:00",
          "2020-07-28T00:00:00",
          "2020-07-29T00:00:00",
          "2020-08-03T00:00:00",
          "2020-08-04T00:00:00",
          "2020-08-05T00:00:00",
          "2020-08-06T00:00:00",
          "2020-08-07T00:00:00",
          "2020-08-10T00:00:00",
          "2020-08-11T00:00:00",
          "2020-08-12T00:00:00",
          "2020-08-13T00:00:00",
          "2020-08-14T00:00:00",
          "2020-08-15T00:00:00",
          "2020-08-17T00:00:00",
          "2020-08-18T00:00:00",
          "2020-08-19T00:00:00",
          "2020-08-20T00:00:00",
          "2020-08-21T00:00:00",
          "2020-08-22T00:00:00",
          "2020-08-24T00:00:00",
          "2020-08-25T00:00:00",
          "2020-08-26T00:00:00",
          "2020-08-27T00:00:00",
          "2020-08-28T00:00:00",
          "2020-08-29T00:00:00",
          "2020-08-30T00:00:00",
          "2020-08-31T00:00:00",
          "2020-09-01T00:00:00",
          "2020-09-02T00:00:00",
          "2020-09-03T00:00:00",
          "2020-09-04T00:00:00",
          "2020-09-06T00:00:00",
          "2020-09-07T00:00:00",
          "2020-09-08T00:00:00",
          "2020-09-09T00:00:00",
          "2020-09-10T00:00:00",
          "2020-09-11T00:00:00",
          "2020-09-12T00:00:00",
          "2020-09-14T00:00:00",
          "2020-09-15T00:00:00",
          "2020-09-16T00:00:00",
          "2020-09-17T00:00:00",
          "2020-09-18T00:00:00",
          "2020-09-19T00:00:00",
          "2020-09-22T00:00:00",
          "2020-09-23T00:00:00",
          "2020-09-24T00:00:00",
          "2020-09-25T00:00:00",
          "2020-09-26T00:00:00",
          "2020-09-28T00:00:00",
          "2020-09-29T00:00:00",
          "2020-09-30T00:00:00",
          "2020-10-01T00:00:00",
          "2020-10-02T00:00:00",
          "2020-10-03T00:00:00",
          "2020-10-05T00:00:00",
          "2020-10-06T00:00:00",
          "2020-10-07T00:00:00",
          "2020-10-08T00:00:00",
          "2020-10-09T00:00:00",
          "2020-10-10T00:00:00",
          "2020-10-13T00:00:00",
          "2020-10-14T00:00:00",
          "2020-10-15T00:00:00",
          "2020-10-16T00:00:00",
          "2020-10-19T00:00:00",
          "2020-10-20T00:00:00",
          "2020-10-21T00:00:00",
          "2020-10-22T00:00:00",
          "2020-10-23T00:00:00",
          "2020-10-24T00:00:00",
          "2020-10-25T00:00:00",
          "2020-10-26T00:00:00",
          "2020-10-27T00:00:00",
          "2020-10-28T00:00:00",
          "2020-10-29T00:00:00",
          "2020-10-30T00:00:00",
          "2020-10-31T00:00:00",
          "2020-11-01T00:00:00",
          "2020-11-03T00:00:00",
          "2020-11-04T00:00:00",
          "2020-11-05T00:00:00",
          "2020-11-06T00:00:00",
          "2020-11-07T00:00:00",
          "2020-11-09T00:00:00",
          "2020-11-10T00:00:00",
          "2020-11-11T00:00:00",
          "2020-11-12T00:00:00",
          "2020-11-13T00:00:00",
          "2020-11-14T00:00:00",
          "2020-11-17T00:00:00",
          "2020-11-18T00:00:00",
          "2020-11-19T00:00:00",
          "2020-11-20T00:00:00",
          "2020-11-21T00:00:00",
          "2020-11-22T00:00:00",
          "2020-11-23T00:00:00",
          "2020-11-24T00:00:00",
          "2020-11-25T00:00:00",
          "2020-11-26T00:00:00",
          "2020-11-27T00:00:00",
          "2020-11-28T00:00:00",
          "2020-11-29T00:00:00",
          "2020-11-30T00:00:00",
          "2020-12-01T00:00:00",
          "2020-12-02T00:00:00",
          "2020-12-03T00:00:00",
          "2020-12-04T00:00:00",
          "2020-12-05T00:00:00",
          "2020-12-06T00:00:00",
          "2020-12-07T00:00:00",
          "2020-12-08T00:00:00",
          "2020-12-09T00:00:00",
          "2020-12-10T00:00:00",
          "2020-12-11T00:00:00",
          "2020-12-14T00:00:00",
          "2020-12-15T00:00:00",
          "2020-12-16T00:00:00",
          "2020-12-17T00:00:00",
          "2020-12-18T00:00:00",
          "2020-12-21T00:00:00",
          "2020-12-22T00:00:00",
          "2020-12-23T00:00:00",
          "2020-12-24T00:00:00",
          "2020-12-27T00:00:00",
          "2020-12-28T00:00:00",
          "2020-12-29T00:00:00",
          "2020-12-30T00:00:00",
          "2020-12-31T00:00:00",
          "2021-01-06T00:00:00",
          "2021-01-07T00:00:00",
          "2021-01-08T00:00:00",
          "2021-01-09T00:00:00",
          "2021-01-10T00:00:00",
          "2021-01-11T00:00:00",
          "2021-01-12T00:00:00",
          "2021-01-13T00:00:00",
          "2021-01-14T00:00:00",
          "2021-01-15T00:00:00",
          "2021-01-17T00:00:00",
          "2021-01-18T00:00:00",
          "2021-01-19T00:00:00",
          "2021-01-20T00:00:00",
          "2021-01-21T00:00:00",
          "2021-01-22T00:00:00",
          "2021-01-25T00:00:00",
          "2021-01-26T00:00:00",
          "2021-01-27T00:00:00",
          "2021-01-28T00:00:00",
          "2021-01-29T00:00:00",
          "2021-01-30T00:00:00",
          "2021-02-01T00:00:00",
          "2021-02-02T00:00:00",
          "2021-02-03T00:00:00",
          "2021-02-04T00:00:00",
          "2021-02-05T00:00:00",
          "2021-02-06T00:00:00",
          "2021-02-08T00:00:00",
          "2021-02-09T00:00:00",
          "2021-02-10T00:00:00",
          "2021-02-11T00:00:00",
          "2021-02-12T00:00:00",
          "2021-02-15T00:00:00",
          "2021-02-17T00:00:00",
          "2021-02-18T00:00:00",
          "2021-02-19T00:00:00",
          "2021-02-22T00:00:00",
          "2021-02-23T00:00:00",
          "2021-02-24T00:00:00",
          "2021-02-25T00:00:00",
          "2021-02-26T00:00:00",
          "2021-02-27T00:00:00",
          "2021-02-28T00:00:00",
          "2021-03-01T00:00:00",
          "2021-03-02T00:00:00",
          "2021-03-03T00:00:00",
          "2021-03-04T00:00:00",
          "2021-03-05T00:00:00",
          "2021-03-06T00:00:00",
          "2021-03-07T00:00:00",
          "2021-03-08T00:00:00",
          "2021-03-09T00:00:00",
          "2021-03-10T00:00:00",
          "2021-03-11T00:00:00",
          "2021-03-12T00:00:00",
          "2021-03-13T00:00:00",
          "2021-03-15T00:00:00",
          "2021-03-16T00:00:00",
          "2021-03-17T00:00:00",
          "2021-03-18T00:00:00",
          "2021-03-19T00:00:00",
          "2021-03-20T00:00:00",
          "2021-03-21T00:00:00",
          "2021-03-23T00:00:00",
          "2021-03-24T00:00:00",
          "2021-03-25T00:00:00",
          "2021-03-26T00:00:00",
          "2021-03-27T00:00:00",
          "2021-03-29T00:00:00",
          "2021-03-30T00:00:00",
          "2021-03-31T00:00:00",
          "2021-04-02T00:00:00",
          "2021-04-03T00:00:00",
          "2021-04-04T00:00:00",
          "2021-04-05T00:00:00",
          "2021-04-06T00:00:00",
          "2021-04-07T00:00:00",
          "2021-04-08T00:00:00",
          "2021-04-09T00:00:00",
          "2021-04-10T00:00:00",
          "2021-04-12T00:00:00",
          "2021-04-13T00:00:00",
          "2021-04-14T00:00:00",
          "2021-04-15T00:00:00",
          "2021-04-16T00:00:00",
          "2021-04-17T00:00:00",
          "2021-04-19T00:00:00",
          "2021-04-20T00:00:00",
          "2021-04-21T00:00:00",
          "2021-04-22T00:00:00",
          "2021-04-23T00:00:00",
          "2021-04-24T00:00:00",
          "2021-04-26T00:00:00",
          "2021-04-27T00:00:00",
          "2021-04-28T00:00:00",
          "2021-04-29T00:00:00",
          "2021-04-30T00:00:00",
          "2021-05-01T00:00:00",
          "2021-05-02T00:00:00",
          "2021-05-03T00:00:00",
          "2021-05-04T00:00:00",
          "2021-05-05T00:00:00",
          "2021-05-06T00:00:00",
          "2021-05-07T00:00:00",
          "2021-05-08T00:00:00",
          "2021-05-10T00:00:00",
          "2021-05-11T00:00:00",
          "2021-05-12T00:00:00",
          "2021-05-13T00:00:00",
          "2021-05-14T00:00:00",
          "2021-05-16T00:00:00",
          "2021-05-18T00:00:00",
          "2021-05-19T00:00:00",
          "2021-05-20T00:00:00",
          "2021-05-21T00:00:00",
          "2021-05-24T00:00:00",
          "2021-05-25T00:00:00",
          "2021-05-26T00:00:00",
          "2021-05-27T00:00:00",
          "2021-05-28T00:00:00",
          "2021-05-29T00:00:00",
          "2021-05-31T00:00:00",
          "2021-06-01T00:00:00",
          "2021-06-02T00:00:00",
          "2021-06-03T00:00:00",
          "2021-06-04T00:00:00",
          "2021-06-05T00:00:00",
          "2021-06-08T00:00:00",
          "2021-06-09T00:00:00",
          "2021-06-10T00:00:00",
          "2021-06-11T00:00:00",
          "2021-06-12T00:00:00",
          "2021-06-15T00:00:00",
          "2021-06-16T00:00:00",
          "2021-06-17T00:00:00",
          "2021-06-18T00:00:00",
          "2021-06-21T00:00:00",
          "2021-06-22T00:00:00",
          "2021-06-23T00:00:00",
          "2021-06-24T00:00:00",
          "2021-06-25T00:00:00",
          "2021-06-26T00:00:00",
          "2021-06-28T00:00:00",
          "2021-06-29T00:00:00",
          "2021-06-30T00:00:00",
          "2021-07-01T00:00:00",
          "2021-07-02T00:00:00",
          "2021-07-06T00:00:00",
          "2021-07-07T00:00:00",
          "2021-07-08T00:00:00",
          "2021-07-09T00:00:00",
          "2021-07-10T00:00:00",
          "2021-07-12T00:00:00",
          "2021-07-13T00:00:00",
          "2021-07-14T00:00:00",
          "2021-07-15T00:00:00",
          "2021-07-16T00:00:00",
          "2021-07-17T00:00:00",
          "2021-07-19T00:00:00",
          "2021-07-20T00:00:00",
          "2021-07-21T00:00:00",
          "2021-07-22T00:00:00",
          "2021-07-23T00:00:00",
          "2021-07-24T00:00:00",
          "2021-07-26T00:00:00",
          "2021-07-27T00:00:00",
          "2021-07-28T00:00:00",
          "2021-07-29T00:00:00",
          "2021-07-30T00:00:00",
          "2021-07-31T00:00:00",
          "2021-08-01T00:00:00",
          "2021-08-02T00:00:00",
          "2021-08-03T00:00:00",
          "2021-08-04T00:00:00",
          "2021-08-05T00:00:00",
          "2021-08-06T00:00:00",
          "2021-08-07T00:00:00",
          "2021-08-09T00:00:00",
          "2021-08-10T00:00:00",
          "2021-08-11T00:00:00",
          "2021-08-12T00:00:00",
          "2021-08-13T00:00:00",
          "2021-08-16T00:00:00",
          "2021-08-17T00:00:00",
          "2021-08-18T00:00:00",
          "2021-08-19T00:00:00",
          "2021-08-20T00:00:00",
          "2021-08-23T00:00:00",
          "2021-08-24T00:00:00",
          "2021-08-25T00:00:00",
          "2021-08-26T00:00:00",
          "2021-08-27T00:00:00",
          "2021-08-28T00:00:00",
          "2021-08-30T00:00:00",
          "2021-08-31T00:00:00",
          "2021-09-01T00:00:00",
          "2021-09-02T00:00:00",
          "2021-09-03T00:00:00",
          "2021-09-04T00:00:00",
          "2021-09-07T00:00:00",
          "2021-09-08T00:00:00",
          "2021-09-09T00:00:00",
          "2021-09-10T00:00:00",
          "2021-09-11T00:00:00",
          "2021-09-13T00:00:00",
          "2021-09-14T00:00:00",
          "2021-09-15T00:00:00",
          "2021-09-16T00:00:00",
          "2021-09-17T00:00:00",
          "2021-09-20T00:00:00",
          "2021-09-21T00:00:00",
          "2021-09-22T00:00:00",
          "2021-09-23T00:00:00",
          "2021-09-24T00:00:00",
          "2021-09-25T00:00:00",
          "2021-09-27T00:00:00",
          "2021-09-28T00:00:00",
          "2021-09-29T00:00:00",
          "2021-09-30T00:00:00",
          "2021-10-01T00:00:00",
          "2021-10-02T00:00:00",
          "2021-10-04T00:00:00",
          "2021-10-05T00:00:00",
          "2021-10-06T00:00:00",
          "2021-10-07T00:00:00",
          "2021-10-08T00:00:00",
          "2021-10-11T00:00:00",
          "2021-10-12T00:00:00",
          "2021-10-13T00:00:00",
          "2021-10-14T00:00:00",
          "2021-10-15T00:00:00",
          "2021-10-16T00:00:00",
          "2021-10-19T00:00:00",
          "2021-10-20T00:00:00",
          "2021-10-21T00:00:00",
          "2021-10-22T00:00:00",
          "2021-10-23T00:00:00",
          "2021-10-25T00:00:00",
          "2021-10-26T00:00:00",
          "2021-10-27T00:00:00",
          "2021-10-28T00:00:00",
          "2021-10-29T00:00:00",
          "2021-10-30T00:00:00",
          "2021-11-02T00:00:00",
          "2021-11-03T00:00:00",
          "2021-11-04T00:00:00",
          "2021-11-05T00:00:00",
          "2021-11-06T00:00:00",
          "2021-11-08T00:00:00",
          "2021-11-09T00:00:00",
          "2021-11-10T00:00:00",
          "2021-11-11T00:00:00",
          "2021-11-12T00:00:00",
          "2021-11-13T00:00:00",
          "2021-11-16T00:00:00",
          "2021-11-17T00:00:00",
          "2021-11-18T00:00:00",
          "2021-11-19T00:00:00",
          "2021-11-20T00:00:00",
          "2021-11-21T00:00:00",
          "2021-11-22T00:00:00",
          "2021-11-23T00:00:00",
          "2021-11-24T00:00:00",
          "2021-11-25T00:00:00",
          "2021-11-26T00:00:00",
          "2021-11-27T00:00:00",
          "2021-11-29T00:00:00",
          "2021-11-30T00:00:00",
          "2021-12-01T00:00:00",
          "2021-12-02T00:00:00",
          "2021-12-03T00:00:00",
          "2021-12-04T00:00:00",
          "2021-12-06T00:00:00",
          "2021-12-07T00:00:00",
          "2021-12-09T00:00:00",
          "2021-12-10T00:00:00",
          "2021-12-13T00:00:00",
          "2021-12-14T00:00:00",
          "2021-12-15T00:00:00",
          "2021-12-16T00:00:00",
          "2021-12-17T00:00:00",
          "2021-12-20T00:00:00",
          "2021-12-21T00:00:00",
          "2021-12-22T00:00:00",
          "2021-12-29T00:00:00",
          "2021-12-30T00:00:00",
          "2022-01-06T00:00:00",
          "2022-01-07T00:00:00",
          "2022-01-11T00:00:00",
          "2022-01-12T00:00:00",
          "2022-01-13T00:00:00",
          "2022-01-14T00:00:00",
          "2022-01-15T00:00:00",
          "2022-01-16T00:00:00",
          "2022-01-17T00:00:00",
          "2022-01-18T00:00:00",
          "2022-01-19T00:00:00",
          "2022-01-20T00:00:00",
          "2022-01-21T00:00:00",
          "2022-01-22T00:00:00",
          "2022-01-23T00:00:00",
          "2022-01-24T00:00:00",
          "2022-01-25T00:00:00",
          "2022-01-26T00:00:00",
          "2022-01-27T00:00:00",
          "2022-01-28T00:00:00",
          "2022-01-29T00:00:00",
          "2022-01-30T00:00:00",
          "2022-01-31T00:00:00",
          "2022-02-01T00:00:00",
          "2022-02-02T00:00:00",
          "2022-02-03T00:00:00",
          "2022-02-04T00:00:00",
          "2022-02-09T00:00:00",
          "2022-02-17T00:00:00",
          "2022-02-28T00:00:00",
          "2022-03-01T00:00:00",
          "2022-03-18T00:00:00",
          "2022-03-31T00:00:00",
          "2022-04-01T00:00:00",
          "2022-04-06T00:00:00",
          "2022-04-18T00:00:00",
          "2022-04-21T00:00:00",
          "2022-04-27T00:00:00",
          "2022-04-28T00:00:00",
          "2022-05-02T00:00:00",
          "2022-05-04T00:00:00",
          "2022-05-13T00:00:00",
          "2022-05-19T00:00:00",
          "2022-05-20T00:00:00",
          "2022-05-31T00:00:00",
          "2022-06-02T00:00:00",
          "2022-06-08T00:00:00",
          "2022-06-10T00:00:00",
          "2022-06-13T00:00:00",
          "2022-06-21T00:00:00",
          "2022-06-23T00:00:00",
          "2022-06-24T00:00:00",
          "2022-06-29T00:00:00",
          "2022-06-30T00:00:00",
          "2022-07-01T00:00:00",
          "2022-07-02T00:00:00",
          "2022-07-06T00:00:00",
          "2022-07-08T00:00:00",
          "2022-07-09T00:00:00",
          "2022-07-11T00:00:00",
          "2022-07-12T00:00:00",
          "2022-07-13T00:00:00",
          "2022-07-14T00:00:00",
          "2022-07-15T00:00:00",
          "2022-07-17T00:00:00",
          "2022-07-18T00:00:00",
          "2022-07-19T00:00:00",
          "2022-07-21T00:00:00",
          "2022-07-22T00:00:00",
          "2022-07-25T00:00:00",
          "2022-07-26T00:00:00",
          "2022-07-27T00:00:00",
          "2022-07-29T00:00:00",
          "2022-08-01T00:00:00",
          "2022-08-02T00:00:00",
          "2022-08-03T00:00:00",
          "2022-08-04T00:00:00",
          "2022-08-05T00:00:00",
          "2022-08-08T00:00:00",
          "2022-08-09T00:00:00",
          "2022-08-11T00:00:00",
          "2022-08-12T00:00:00",
          "2022-08-16T00:00:00",
          "2022-08-17T00:00:00",
          "2022-08-18T00:00:00",
          "2022-08-19T00:00:00",
          "2022-08-22T00:00:00",
          "2022-08-23T00:00:00",
          "2022-08-24T00:00:00",
          "2022-08-25T00:00:00",
          "2022-08-26T00:00:00",
          "2022-08-27T00:00:00",
          "2022-08-29T00:00:00",
          "2022-08-30T00:00:00",
          "2022-08-31T00:00:00",
          "2022-09-01T00:00:00",
          "2022-09-02T00:00:00",
          "2022-09-03T00:00:00",
          "2022-09-05T00:00:00",
          "2022-09-06T00:00:00",
          "2022-09-07T00:00:00",
          "2022-09-08T00:00:00",
          "2022-09-09T00:00:00",
          "2022-09-12T00:00:00",
          "2022-09-13T00:00:00",
          "2022-09-14T00:00:00",
          "2022-09-15T00:00:00",
          "2022-09-16T00:00:00",
          "2022-09-19T00:00:00",
          "2022-09-20T00:00:00",
          "2022-09-21T00:00:00",
          "2022-09-22T00:00:00",
          "2022-09-23T00:00:00",
          "2022-09-24T00:00:00",
          "2022-09-26T00:00:00",
          "2022-09-27T00:00:00",
          "2022-09-28T00:00:00",
          "2022-09-29T00:00:00",
          "2022-09-30T00:00:00",
          "2022-10-01T00:00:00",
          "2022-10-03T00:00:00",
          "2022-10-04T00:00:00",
          "2022-10-05T00:00:00",
          "2022-10-06T00:00:00",
          "2022-10-07T00:00:00",
          "2022-10-08T00:00:00",
          "2022-10-10T00:00:00",
          "2022-10-11T00:00:00",
          "2022-10-12T00:00:00",
          "2022-10-13T00:00:00",
          "2022-10-14T00:00:00",
          "2022-10-18T00:00:00",
          "2022-10-19T00:00:00",
          "2022-10-20T00:00:00",
          "2022-10-21T00:00:00",
          "2022-10-22T00:00:00",
          "2022-10-24T00:00:00",
          "2022-10-25T00:00:00",
          "2022-10-26T00:00:00",
          "2022-10-27T00:00:00",
          "2022-10-28T00:00:00",
          "2022-10-31T00:00:00",
          "2022-11-01T00:00:00",
          "2022-11-02T00:00:00",
          "2022-11-03T00:00:00",
          "2022-11-04T00:00:00",
          "2022-11-08T00:00:00",
          "2022-11-09T00:00:00",
          "2022-11-10T00:00:00",
          "2022-11-11T00:00:00",
          "2022-11-12T00:00:00",
          "2022-11-15T00:00:00",
          "2022-11-16T00:00:00",
          "2022-11-17T00:00:00",
          "2022-11-18T00:00:00",
          "2022-11-19T00:00:00",
          "2022-11-21T00:00:00",
          "2022-11-22T00:00:00",
          "2022-11-23T00:00:00",
          "2022-11-24T00:00:00",
          "2022-11-25T00:00:00",
          "2022-11-28T00:00:00",
          "2022-11-30T00:00:00",
          "2022-12-01T00:00:00",
          "2022-12-02T00:00:00",
          "2022-12-05T00:00:00",
          "2022-12-06T00:00:00",
          "2022-12-07T00:00:00",
          "2022-12-10T00:00:00",
          "2022-12-14T00:00:00",
          "2022-12-15T00:00:00",
          "2022-12-16T00:00:00",
          "2022-12-19T00:00:00",
          "2022-12-20T00:00:00",
          "2022-12-21T00:00:00",
          "2022-12-22T00:00:00",
          "2022-12-23T00:00:00",
          "2022-12-26T00:00:00",
          "2022-12-27T00:00:00",
          "2022-12-28T00:00:00",
          "2022-12-29T00:00:00",
          "2023-01-13T00:00:00",
          "2023-01-14T00:00:00",
          "2023-01-16T00:00:00",
          "2023-01-17T00:00:00",
          "2023-01-18T00:00:00",
          "2023-01-19T00:00:00",
          "2023-01-20T00:00:00",
          "2023-01-21T00:00:00",
          "2023-01-22T00:00:00",
          "2023-01-23T00:00:00",
          "2023-01-24T00:00:00",
          "2023-01-25T00:00:00",
          "2023-01-26T00:00:00",
          "2023-01-27T00:00:00",
          "2023-01-28T00:00:00",
          "2023-01-30T00:00:00",
          "2023-01-31T00:00:00",
          "2023-02-01T00:00:00",
          "2023-02-02T00:00:00",
          "2023-02-03T00:00:00",
          "2023-02-04T00:00:00",
          "2023-02-06T00:00:00",
          "2023-02-07T00:00:00",
          "2023-02-08T00:00:00",
          "2023-02-09T00:00:00",
          "2023-02-10T00:00:00",
          "2023-02-11T00:00:00",
          "2023-02-13T00:00:00",
          "2023-02-14T00:00:00",
          "2023-02-15T00:00:00",
          "2023-02-16T00:00:00",
          "2023-02-17T00:00:00",
          "2023-02-18T00:00:00",
          "2023-02-20T00:00:00",
          "2023-02-21T00:00:00",
          "2023-02-22T00:00:00",
          "2023-02-23T00:00:00",
          "2023-02-24T00:00:00",
          "2023-02-25T00:00:00",
          "2023-02-27T00:00:00",
          "2023-02-28T00:00:00",
          "2023-03-01T00:00:00",
          "2023-03-02T00:00:00",
          "2023-03-03T00:00:00",
          "2023-03-04T00:00:00",
          "2023-03-06T00:00:00",
          "2023-03-07T00:00:00",
          "2023-03-08T00:00:00",
          "2023-03-09T00:00:00",
          "2023-03-10T00:00:00",
          "2023-03-11T00:00:00",
          "2023-03-13T00:00:00",
          "2023-03-14T00:00:00",
          "2023-03-15T00:00:00",
          "2023-03-16T00:00:00",
          "2023-03-17T00:00:00",
          "2023-03-18T00:00:00",
          "2023-03-21T00:00:00",
          "2023-03-22T00:00:00",
          "2023-03-23T00:00:00",
          "2023-03-24T00:00:00",
          "2023-03-27T00:00:00",
          "2023-03-28T00:00:00",
          "2023-03-29T00:00:00",
          "2023-03-30T00:00:00",
          "2023-03-31T00:00:00",
          "2023-04-01T00:00:00",
          "2023-04-03T00:00:00",
          "2023-04-04T00:00:00",
          "2023-04-05T00:00:00",
          "2023-04-10T00:00:00",
          "2023-04-11T00:00:00",
          "2023-04-12T00:00:00",
          "2023-04-13T00:00:00",
          "2023-04-14T00:00:00",
          "2023-04-17T00:00:00",
          "2023-04-18T00:00:00",
          "2023-04-19T00:00:00",
          "2023-04-20T00:00:00",
          "2023-04-21T00:00:00",
          "2023-04-22T00:00:00",
          "2023-04-24T00:00:00",
          "2023-04-25T00:00:00",
          "2023-04-26T00:00:00",
          "2023-04-27T00:00:00",
          "2023-04-28T00:00:00",
          "2023-04-29T00:00:00",
          "2023-04-30T00:00:00",
          "2023-05-05T00:00:00",
          "2023-05-06T00:00:00",
          "2023-05-08T00:00:00",
          "2023-05-09T00:00:00",
          "2023-05-10T00:00:00",
          "2023-05-11T00:00:00",
          "2023-05-12T00:00:00",
          "2023-05-13T00:00:00",
          "2023-05-15T00:00:00",
          "2023-05-16T00:00:00",
          "2023-05-17T00:00:00",
          "2023-05-18T00:00:00",
          "2023-05-19T00:00:00",
          "2023-05-20T00:00:00",
          "2023-05-23T00:00:00",
          "2023-05-24T00:00:00",
          "2023-05-25T00:00:00",
          "2023-05-26T00:00:00",
          "2023-05-29T00:00:00",
          "2023-05-30T00:00:00",
          "2023-05-31T00:00:00",
          "2023-06-01T00:00:00",
          "2023-06-02T00:00:00",
          "2023-06-05T00:00:00",
          "2023-06-06T00:00:00",
          "2023-06-07T00:00:00",
          "2023-06-08T00:00:00",
          "2023-06-09T00:00:00",
          "2023-06-10T00:00:00",
          "2023-06-13T00:00:00",
          "2023-06-14T00:00:00",
          "2023-06-15T00:00:00",
          "2023-06-16T00:00:00",
          "2023-06-20T00:00:00",
          "2023-06-21T00:00:00",
          "2023-06-22T00:00:00",
          "2023-06-23T00:00:00",
          "2023-06-26T00:00:00",
          "2023-06-27T00:00:00",
          "2023-06-28T00:00:00",
          "2023-06-29T00:00:00",
          "2023-06-30T00:00:00",
          "2023-07-01T00:00:00",
          "2023-07-04T00:00:00",
          "2023-07-05T00:00:00",
          "2023-07-06T00:00:00",
          "2023-07-07T00:00:00",
          "2023-07-08T00:00:00",
          "2023-07-10T00:00:00",
          "2023-07-11T00:00:00",
          "2023-07-12T00:00:00",
          "2023-07-13T00:00:00",
          "2023-07-14T00:00:00",
          "2023-07-15T00:00:00",
          "2023-07-17T00:00:00",
          "2023-07-18T00:00:00",
          "2023-07-19T00:00:00",
          "2023-07-21T00:00:00",
          "2023-07-24T00:00:00",
          "2023-07-25T00:00:00",
          "2023-07-26T00:00:00",
          "2023-07-27T00:00:00",
          "2023-07-28T00:00:00",
          "2023-07-29T00:00:00",
          "2023-07-30T00:00:00",
          "2023-07-31T00:00:00",
          "2023-08-01T00:00:00",
          "2023-08-02T00:00:00",
          "2023-08-03T00:00:00",
          "2023-08-04T00:00:00",
          "2023-08-05T00:00:00",
          "2023-08-08T00:00:00",
          "2023-08-09T00:00:00",
          "2023-08-10T00:00:00",
          "2023-08-11T00:00:00",
          "2023-08-12T00:00:00",
          "2023-08-14T00:00:00",
          "2023-08-15T00:00:00",
          "2023-08-16T00:00:00",
          "2023-08-17T00:00:00",
          "2023-08-18T00:00:00",
          "2023-08-19T00:00:00",
          "2023-08-22T00:00:00",
          "2023-08-23T00:00:00",
          "2023-08-24T00:00:00",
          "2023-08-25T00:00:00",
          "2023-08-26T00:00:00",
          "2023-08-28T00:00:00",
          "2023-08-29T00:00:00",
          "2023-08-30T00:00:00",
          "2023-08-31T00:00:00",
          "2023-09-01T00:00:00",
          "2023-09-02T00:00:00",
          "2023-09-04T00:00:00",
          "2023-09-05T00:00:00",
          "2023-09-06T00:00:00",
          "2023-09-07T00:00:00",
          "2023-09-08T00:00:00",
          "2023-09-09T00:00:00",
          "2023-09-11T00:00:00",
          "2023-09-12T00:00:00",
          "2023-09-13T00:00:00",
          "2023-09-14T00:00:00",
          "2023-09-15T00:00:00",
          "2023-09-16T00:00:00",
          "2023-09-18T00:00:00",
          "2023-09-19T00:00:00",
          "2023-09-20T00:00:00",
          "2023-09-21T00:00:00",
          "2023-09-22T00:00:00",
          "2023-09-23T00:00:00",
          "2023-09-25T00:00:00",
          "2023-09-26T00:00:00",
          "2023-09-27T00:00:00",
          "2023-09-28T00:00:00",
          "2023-09-29T00:00:00",
          "2023-09-30T00:00:00",
          "2023-10-02T00:00:00",
          "2023-10-03T00:00:00",
          "2023-10-04T00:00:00",
          "2023-10-05T00:00:00",
          "2023-10-06T00:00:00",
          "2023-10-07T00:00:00",
          "2023-10-09T00:00:00",
          "2023-10-10T00:00:00",
          "2023-10-11T00:00:00",
          "2023-10-12T00:00:00",
          "2023-10-13T00:00:00",
          "2023-10-14T00:00:00",
          "2023-10-17T00:00:00",
          "2023-10-18T00:00:00",
          "2023-10-19T00:00:00",
          "2023-10-20T00:00:00",
          "2023-10-23T00:00:00",
          "2023-10-24T00:00:00",
          "2023-10-25T00:00:00",
          "2023-10-26T00:00:00",
          "2023-10-27T00:00:00",
          "2023-10-30T00:00:00",
          "2023-10-31T00:00:00",
          "2023-11-01T00:00:00",
          "2023-11-02T00:00:00",
          "2023-11-03T00:00:00",
          "2023-11-07T00:00:00",
          "2023-11-08T00:00:00",
          "2023-11-09T00:00:00",
          "2023-11-10T00:00:00",
          "2023-11-11T00:00:00",
          "2023-11-14T00:00:00",
          "2023-11-15T00:00:00",
          "2023-11-16T00:00:00",
          "2023-11-17T00:00:00",
          "2023-11-20T00:00:00",
          "2023-11-21T00:00:00",
          "2023-11-22T00:00:00",
          "2023-11-23T00:00:00",
          "2023-11-24T00:00:00",
          "2023-11-27T00:00:00",
          "2023-11-28T00:00:00",
          "2023-11-29T00:00:00",
          "2023-11-30T00:00:00",
          "2023-12-01T00:00:00",
          "2023-12-02T00:00:00",
          "2023-12-04T00:00:00",
          "2023-12-05T00:00:00",
          "2023-12-06T00:00:00",
          "2023-12-07T00:00:00",
          "2023-12-08T00:00:00",
          "2023-12-11T00:00:00",
          "2023-12-12T00:00:00",
          "2023-12-13T00:00:00",
          "2023-12-14T00:00:00",
          "2023-12-15T00:00:00",
          "2023-12-20T00:00:00",
          "2023-12-21T00:00:00",
          "2023-12-22T00:00:00",
          "2023-12-26T00:00:00",
          "2023-12-31T00:00:00",
          "2024-01-05T00:00:00",
          "2024-01-06T00:00:00",
          "2024-01-09T00:00:00",
          "2024-01-10T00:00:00",
          "2024-01-11T00:00:00",
          "2024-01-12T00:00:00",
          "2024-01-13T00:00:00",
          "2024-01-15T00:00:00",
          "2024-01-16T00:00:00",
          "2024-01-17T00:00:00",
          "2024-01-18T00:00:00",
          "2024-01-19T00:00:00",
          "2024-01-20T00:00:00",
          "2024-01-21T00:00:00",
          "2024-01-22T00:00:00",
          "2024-01-23T00:00:00",
          "2024-01-24T00:00:00",
          "2024-01-25T00:00:00",
          "2024-01-26T00:00:00",
          "2024-01-27T00:00:00",
          "2024-01-28T00:00:00",
          "2024-01-29T00:00:00",
          "2024-01-30T00:00:00",
          "2024-01-31T00:00:00",
          "2024-02-01T00:00:00",
          "2024-02-02T00:00:00",
          "2024-02-03T00:00:00",
          "2024-02-05T00:00:00",
          "2024-02-06T00:00:00",
          "2024-02-07T00:00:00",
          "2024-02-08T00:00:00",
          "2024-02-09T00:00:00",
          "2024-02-10T00:00:00",
          "2024-02-12T00:00:00",
          "2024-02-13T00:00:00",
          "2024-02-14T00:00:00",
          "2024-02-15T00:00:00",
          "2024-02-16T00:00:00",
          "2024-02-17T00:00:00",
          "2024-02-19T00:00:00",
          "2024-02-20T00:00:00",
          "2024-02-21T00:00:00",
          "2024-02-22T00:00:00",
          "2024-02-23T00:00:00",
          "2024-02-24T00:00:00",
          "2024-02-26T00:00:00",
          "2024-02-27T00:00:00",
          "2024-02-28T00:00:00",
          "2024-02-29T00:00:00",
          "2024-03-01T00:00:00",
          "2024-03-04T00:00:00",
          "2024-03-05T00:00:00",
          "2024-03-06T00:00:00",
          "2024-03-07T00:00:00",
          "2024-03-08T00:00:00",
          "2024-03-09T00:00:00",
          "2024-03-11T00:00:00",
          "2024-03-12T00:00:00",
          "2024-03-13T00:00:00",
          "2024-03-14T00:00:00",
          "2024-03-15T00:00:00",
          "2024-03-16T00:00:00",
          "2024-03-18T00:00:00",
          "2024-03-19T00:00:00",
          "2024-03-20T00:00:00",
          "2024-03-21T00:00:00",
          "2024-03-22T00:00:00",
          "2024-03-23T00:00:00",
          "2024-03-26T00:00:00",
          "2024-03-27T00:00:00",
          "2024-03-28T00:00:00",
          "2024-03-30T00:00:00",
          "2024-04-02T00:00:00"
         ],
         "xaxis": "x",
         "y": [
          203592015,
          748855070,
          191412000,
          534779208,
          895308456,
          424675532,
          272329860,
          206565096,
          145953333,
          147438015,
          492654654,
          873934216,
          1456628895,
          63899999,
          456407993,
          522146252,
          627361092,
          467220113,
          556510668,
          582778791,
          206423250,
          623464729,
          49500000,
          1380829866,
          814218702,
          51657069,
          198884312,
          75192800,
          298597461,
          667892956,
          478884294,
          183260998,
          447644998,
          512530068,
          771345755,
          200179735,
          622149055,
          689558986,
          226766666,
          393351470,
          802482642,
          400697799,
          796194336,
          1288488794,
          172139060,
          190537833,
          458158306,
          102061308,
          6980241053,
          192477824,
          776568876,
          261026330,
          88650000,
          16081424346,
          25359734477,
          56000000,
          57500000,
          715333258,
          607500,
          394545620,
          254535772,
          68435534,
          175266000,
          53200666,
          411676233,
          33250000,
          58155506,
          13057766,
          111181996,
          234311000,
          169524005,
          99750000,
          55730320,
          200230320,
          111622393,
          267593333,
          266328543,
          226056656,
          34909858,
          23800000,
          63950692,
          81664016,
          26345912,
          44918755,
          55242707,
          89038166,
          10500000,
          18750000,
          1118239980,
          25783333,
          1479362921,
          520245000,
          82950332,
          25083333,
          95183333,
          103305000,
          137329513,
          75622631,
          57634682,
          146880000,
          75146662,
          968773298,
          86249539,
          71311308,
          114641567,
          340833993,
          19900000,
          16583333,
          35166666,
          1363927440,
          33666666,
          124689794,
          44542672,
          54768822,
          95993696,
          2570400,
          40200000,
          114679880,
          69133333,
          29810000,
          67033324,
          91000000,
          50936432,
          27916667,
          30029755,
          65450000,
          69920134,
          37203560,
          85751740,
          72500000,
          22500000,
          43755000,
          49840000,
          117271340,
          68265540,
          103788242,
          171829576,
          259845000,
          210925000,
          198852514,
          11250000,
          22500000,
          136675000,
          202500000,
          364908334,
          219041667,
          39625000,
          56250000,
          227758323,
          173042965,
          163401416,
          528461673,
          78041633,
          234154327,
          269851837,
          260911238,
          204687911,
          258651304,
          15597000,
          51349106,
          409671049,
          796564061,
          308573275,
          198491759,
          94264788,
          32939788,
          77757554,
          39491658,
          73914788,
          85300788,
          10083333,
          101873424,
          219894629,
          18925000,
          14600000,
          70833325,
          13573333,
          3916667,
          72326740,
          13300000,
          134143813,
          58035481,
          3750000,
          35672000,
          66700000,
          8601000,
          33150000,
          173673654,
          25700000,
          40803280,
          69600000,
          103475448,
          64407382,
          2400000,
          46840000,
          3149680622,
          346770205,
          1012382088,
          61365670,
          215013854,
          126231112,
          89791836,
          202465030,
          226139681,
          36967390,
          138208590,
          323153611,
          144410536,
          129672314,
          187758294,
          322235201,
          258298364,
          25763227,
          101244139,
          187421968,
          207648530,
          346499171,
          12294894,
          166754280,
          138685833,
          232310164,
          300146406,
          263732212,
          43851543,
          217176944,
          432083575,
          314328103,
          726414417,
          10620933,
          10200000,
          156936644,
          87419518,
          134503181,
          224521801,
          90164374,
          123697681,
          3600000,
          167401049,
          203318941,
          373181979,
          18391684,
          87040535,
          48540000,
          27813693,
          13060000,
          27260000,
          60228803,
          8915620,
          12600000,
          2024451,
          78782607,
          3983143575,
          0,
          38014925,
          166427425,
          66164000,
          78901562,
          5574278867,
          2500000,
          53679269,
          0,
          5345393320,
          0,
          287928000,
          380851610,
          591406648,
          43470000,
          319056858,
          572688210,
          1503896734,
          65044153,
          299270964,
          747483810,
          302773433,
          917787522,
          360059585,
          517670354,
          1092553204,
          1627579119,
          715953365,
          1189858948,
          113930500,
          120017345,
          595687556,
          44400000,
          66600000,
          106995000,
          374462012,
          581920583,
          800910221,
          27945000,
          488826603,
          88474867,
          12420000,
          358487030,
          617616853,
          475988934,
          287641794,
          295717141,
          3726000,
          433806650,
          344559192,
          24840000,
          123500000,
          1181720837,
          0,
          40365000,
          3498553232,
          129944250,
          740665534,
          685995439,
          146678475,
          137043500,
          56718000,
          255862900,
          550498401,
          101143000,
          510271168,
          156062250,
          9108000,
          76907000,
          596872761,
          610821184,
          302578916,
          1600015474,
          121400000,
          93005079,
          1176261202,
          1881636634,
          598337298,
          624180046,
          31666667,
          88028317,
          310175261,
          857497631,
          185734779,
          208078112,
          74881666,
          860771457,
          205577503,
          493189040,
          458975796,
          252569905,
          157065239,
          74488333,
          692488849,
          592707880,
          894037228,
          676608862,
          17500000,
          1059152657,
          571470928,
          252847085,
          574191553,
          420766999,
          141894000,
          113504222,
          319795115,
          134426667,
          349875692,
          439186295,
          9450000,
          41544629,
          338293145,
          200767500,
          84767129,
          113961250,
          116724950,
          10625000,
          326547129,
          86076295,
          492320471,
          532333924,
          590805388,
          75285000,
          189359000,
          502165700,
          321039360,
          426419079,
          308633158,
          107694629,
          207125000,
          37266667,
          35000000,
          248805000,
          149671758,
          217157373,
          83497500,
          8890682577,
          118405000,
          81725000,
          60927000,
          297078078,
          85150000,
          314834686,
          53004000,
          1008558175,
          247136282,
          232102278,
          56738697,
          152722682,
          371971181,
          60631667,
          143370080,
          111173142,
          8609051753,
          62410503,
          104477050,
          57836677,
          2263911104,
          57815910,
          26809038,
          90482441,
          119767292,
          29139733,
          22072500,
          69079038,
          138605558,
          682193629,
          286718487,
          268710315,
          119193773,
          189370579,
          33640000,
          193075500,
          620499129,
          377271720,
          80625750,
          122466060,
          115419875,
          590474376,
          214779771,
          127145628,
          868936364,
          45540737,
          140664245,
          177530552,
          294377173,
          408350264,
          47099520,
          11100000,
          38088000,
          47741333,
          111709733,
          247511642,
          260289988,
          2543880,
          166396332,
          55266042,
          1441146454,
          540855837,
          72977548,
          123585928,
          75128782,
          42894616,
          59462373,
          69907600,
          62950613,
          34814808,
          60596750,
          39361250,
          184299543,
          235026154,
          225500325,
          77733583,
          52326180,
          32650769,
          6385500,
          17692164,
          133991910,
          105813536,
          138911769,
          811150224,
          24961662,
          423912632,
          176207812,
          96698712,
          184281208,
          22460894,
          121384445,
          125635276,
          174901213,
          138414816,
          66073536,
          18000000,
          65702800,
          1243257966,
          3840000,
          58624014,
          456816145,
          139964761,
          155813368,
          137940705,
          177549158,
          148611227,
          116798880,
          287317405,
          187383982,
          112036365,
          119702451,
          448627109,
          161226974,
          38873333,
          17991750,
          56791644,
          1395247500,
          16534500,
          139602527,
          98471999,
          359338190,
          155013487,
          6055602081,
          59070140,
          126230780,
          70338392,
          116330848,
          20995104,
          1920000,
          87280720,
          146544983,
          74703562,
          54110116,
          0,
          1800000,
          23861538,
          123820863,
          390694252,
          112311913,
          17969993,
          267093600,
          26476974,
          1051985913,
          37724122,
          1029459857,
          43262583,
          9583734,
          814713942,
          377760725,
          119499337,
          19000000,
          14000000,
          107265639,
          0,
          5196400,
          16500000,
          1122027200,
          2337049,
          53760000,
          10468565474,
          127305000,
          285505027,
          57899817,
          114000483,
          545923669,
          677309623,
          1695976524,
          1121298431,
          2305997920,
          2515039812,
          2535321124,
          3096193633,
          3495400812,
          4845911809,
          3077147353,
          1766880268,
          3132289681,
          3622956924,
          6621080009,
          8403512427,
          15119287772,
          5540217243,
          11350620,
          462226396,
          176461058,
          20813517493,
          2642547945,
          22701240,
          29440584,
          67000000,
          5330000,
          2500000,
          7992754,
          163709628,
          52507478,
          16030500,
          126841961,
          1500000,
          61949579,
          44835988,
          3133827772,
          13701680,
          40556612,
          24507812,
          117093142,
          68946700,
          21470923,
          270942169,
          13400000,
          30343614,
          9143555,
          7866000,
          6116723,
          33380766,
          0,
          236000000,
          9624575,
          5100000,
          165000640,
          6300000,
          86800000,
          269309105,
          17600000,
          82636946,
          10827047,
          24849131,
          247294679,
          6100083,
          123346274,
          441750575,
          17010500,
          46570116,
          335324640,
          26095291,
          450582074,
          145609070,
          42027719,
          47062634,
          18890418,
          14078534,
          8583450,
          84068743,
          38509277,
          70793288,
          12000000,
          162891727,
          36044902,
          6535000,
          118275526,
          168137500,
          133213287,
          28032060,
          125417883,
          34500000,
          351672513,
          129899260,
          285435638,
          27612434,
          23658006,
          2785185,
          184550219,
          123364623,
          187475064,
          38649948,
          22400000,
          0,
          8320000,
          7683549,
          10444329,
          72285977,
          4540000,
          19918150,
          40645238,
          30899323,
          14200000,
          56844908,
          23778359,
          122993122,
          51563021,
          456077504,
          484040592,
          53645650,
          63366351,
          96016862,
          55580958,
          484676110,
          107758970,
          58242607,
          62020009,
          27405483,
          36203382,
          44049669,
          25772768,
          89529946,
          30340108,
          21939557,
          30987033,
          15800000,
          39000000,
          15167000,
          41001280,
          10758574,
          20982600,
          16266294,
          56429217,
          32978228,
          27856009,
          80578958,
          122360491,
          35912132,
          22400000,
          57684800,
          8807775,
          8000000,
          148115330,
          30000000,
          21997687,
          3000000,
          12800000,
          20908838,
          37523242,
          59681190,
          4160000,
          36329596,
          68042256,
          83831830,
          69577195,
          4331381,
          11205803,
          21367035,
          20699052,
          6233333,
          94582593,
          34024763,
          84139000,
          295280779,
          256199900,
          19493800,
          463662258,
          1728432604,
          192881132,
          0,
          750691000,
          318580000,
          31720000,
          811148000,
          1607188000,
          2998663668,
          2978120003,
          1101717000,
          404885001,
          1186941333,
          3147307668,
          2278578333,
          1048624000,
          823526000,
          223785000,
          181360000,
          2503981333,
          1628187899,
          896448199,
          1065035667,
          754092000,
          733550383,
          776271081,
          809963000,
          996641001,
          795414804,
          103247267,
          555086333,
          957415999,
          1260984468,
          857172333,
          817285000,
          28260000,
          534240133,
          415947600,
          427166666,
          318265000,
          227545333,
          434521333,
          240694000,
          451083334,
          1095650333,
          2004313665,
          1357402135,
          218548000,
          900825667,
          553167333,
          492420666,
          1739839674,
          1426662135,
          80030700,
          646828434,
          626057326,
          981816132,
          1552799715,
          2089500062,
          68586667,
          390784667,
          647489666,
          969589667,
          446344266,
          309150333,
          524663333,
          288520667,
          334020000,
          841283335,
          429043333,
          41685333,
          19724453848,
          375588333,
          59400000,
          46210000,
          185630550,
          326663350,
          257846000,
          361624620,
          259460000,
          989571334,
          128268999,
          219840000,
          27060000,
          88560000,
          604686000,
          395904621,
          173570000,
          202580334,
          181844333,
          30780000,
          1336994670,
          32000000,
          238138000,
          388039635,
          98258000,
          128170000,
          396747050,
          217587333,
          43830000,
          184649000,
          94363334,
          339523665,
          65236000,
          53594333,
          62455000,
          110824000,
          63694666,
          81771603,
          69520000,
          106031350,
          128624667,
          142335000,
          99030000,
          21450000,
          172431000,
          242382112,
          187563924,
          272170000,
          13200000,
          144650000,
          63180000,
          313620000,
          77305000,
          148544667,
          171746000,
          328351301,
          193336000,
          22356000,
          10240000,
          208075332,
          326867667,
          317546667,
          53600000,
          28100000,
          363809001,
          325675000,
          489994667,
          142296667,
          271470361,
          234326666,
          265211500,
          20610000,
          390753333,
          42300000,
          259818666,
          93220000,
          982152237,
          39626666,
          108945666,
          163088333,
          42481700,
          57008667,
          824334329,
          36901750,
          16500000,
          115778999,
          293234333,
          4345732979,
          181906967,
          305072333,
          76470000,
          57840000,
          120435998,
          328920157,
          282019946,
          162370333,
          139748104,
          256300000,
          125090000,
          709523200,
          302290999,
          74339333,
          200435000,
          180233890,
          2152106345,
          138051333,
          251264332,
          243958999,
          221547666,
          156075666,
          483448666,
          287572233,
          32093333,
          46300949,
          372179998,
          638247663,
          74533333,
          434966545,
          13352500,
          129910000,
          129773333,
          1107661332,
          166070646,
          97075667,
          57700000,
          17130000,
          83540000,
          106781996,
          814749749,
          257364263,
          7480666,
          52083333,
          300188000,
          11200000,
          494179689,
          54860000,
          228464998,
          84573333,
          32606667,
          413824331,
          394031666,
          445660997,
          36650000,
          79697111,
          210568150,
          159740998,
          226065954,
          209585331,
          81585000,
          245287831,
          11575290816,
          41250000,
          111282332,
          46091318,
          90327334,
          45868460,
          61575786,
          118209665,
          85462000,
          90020000,
          117127137,
          10313333,
          457458377,
          565353333,
          88968666,
          40512667,
          64272666,
          5610000,
          422770954,
          135887667,
          34084367,
          5314870666,
          9735000,
          76260332,
          56727031,
          96776999,
          159299766,
          293306187,
          77026512,
          135435371,
          119687443,
          124824058,
          53066668,
          1472230949,
          115486988,
          285457180,
          191270281,
          135977787,
          68752250,
          44255667,
          77962000,
          3794015202,
          8179299516,
          266751036,
          90059200,
          641199209,
          114715769,
          9209281158,
          242483466,
          1876506064,
          210033833,
          2475162567,
          1980512533,
          2639790301,
          2096199001,
          40606500,
          4411564102,
          2607867731,
          2177728498,
          1287678199,
          214579200,
          41600000,
          151867600,
          2191739439,
          1753485099,
          2379333731,
          2671177866,
          161841000,
          105296500,
          749901233,
          1012584400,
          1957561613,
          1421766564,
          2241120600,
          174788334,
          421708333,
          1578902326,
          1177164930,
          1794413101,
          1351920613,
          1274368233,
          826221566,
          874846067,
          1004640867,
          822368665,
          1471961465,
          571973500,
          426943533,
          707465832,
          774013300,
          489887933,
          37818077444,
          3164250421,
          191768500,
          1432432770,
          202706424,
          815630200,
          990258200,
          348741334,
          707544100,
          149136867,
          151161000,
          1489692574,
          8520000,
          2866860000,
          1213943299,
          265062000,
          616118500,
          305750000,
          113292633,
          404152933,
          245755000,
          164337000,
          75720000,
          373992459,
          303490500,
          125985000,
          928859333,
          19845000,
          6750000,
          94338333
         ],
         "yaxis": "y"
        }
       ],
       "layout": {
        "legend": {
         "tracegroupgap": 0
        },
        "template": {
         "data": {
          "bar": [
           {
            "error_x": {
             "color": "#2a3f5f"
            },
            "error_y": {
             "color": "#2a3f5f"
            },
            "marker": {
             "line": {
              "color": "#E5ECF6",
              "width": 0.5
             },
             "pattern": {
              "fillmode": "overlay",
              "size": 10,
              "solidity": 0.2
             }
            },
            "type": "bar"
           }
          ],
          "barpolar": [
           {
            "marker": {
             "line": {
              "color": "#E5ECF6",
              "width": 0.5
             },
             "pattern": {
              "fillmode": "overlay",
              "size": 10,
              "solidity": 0.2
             }
            },
            "type": "barpolar"
           }
          ],
          "carpet": [
           {
            "aaxis": {
             "endlinecolor": "#2a3f5f",
             "gridcolor": "white",
             "linecolor": "white",
             "minorgridcolor": "white",
             "startlinecolor": "#2a3f5f"
            },
            "baxis": {
             "endlinecolor": "#2a3f5f",
             "gridcolor": "white",
             "linecolor": "white",
             "minorgridcolor": "white",
             "startlinecolor": "#2a3f5f"
            },
            "type": "carpet"
           }
          ],
          "choropleth": [
           {
            "colorbar": {
             "outlinewidth": 0,
             "ticks": ""
            },
            "type": "choropleth"
           }
          ],
          "contour": [
           {
            "colorbar": {
             "outlinewidth": 0,
             "ticks": ""
            },
            "colorscale": [
             [
              0,
              "#0d0887"
             ],
             [
              0.1111111111111111,
              "#46039f"
             ],
             [
              0.2222222222222222,
              "#7201a8"
             ],
             [
              0.3333333333333333,
              "#9c179e"
             ],
             [
              0.4444444444444444,
              "#bd3786"
             ],
             [
              0.5555555555555556,
              "#d8576b"
             ],
             [
              0.6666666666666666,
              "#ed7953"
             ],
             [
              0.7777777777777778,
              "#fb9f3a"
             ],
             [
              0.8888888888888888,
              "#fdca26"
             ],
             [
              1,
              "#f0f921"
             ]
            ],
            "type": "contour"
           }
          ],
          "contourcarpet": [
           {
            "colorbar": {
             "outlinewidth": 0,
             "ticks": ""
            },
            "type": "contourcarpet"
           }
          ],
          "heatmap": [
           {
            "colorbar": {
             "outlinewidth": 0,
             "ticks": ""
            },
            "colorscale": [
             [
              0,
              "#0d0887"
             ],
             [
              0.1111111111111111,
              "#46039f"
             ],
             [
              0.2222222222222222,
              "#7201a8"
             ],
             [
              0.3333333333333333,
              "#9c179e"
             ],
             [
              0.4444444444444444,
              "#bd3786"
             ],
             [
              0.5555555555555556,
              "#d8576b"
             ],
             [
              0.6666666666666666,
              "#ed7953"
             ],
             [
              0.7777777777777778,
              "#fb9f3a"
             ],
             [
              0.8888888888888888,
              "#fdca26"
             ],
             [
              1,
              "#f0f921"
             ]
            ],
            "type": "heatmap"
           }
          ],
          "heatmapgl": [
           {
            "colorbar": {
             "outlinewidth": 0,
             "ticks": ""
            },
            "colorscale": [
             [
              0,
              "#0d0887"
             ],
             [
              0.1111111111111111,
              "#46039f"
             ],
             [
              0.2222222222222222,
              "#7201a8"
             ],
             [
              0.3333333333333333,
              "#9c179e"
             ],
             [
              0.4444444444444444,
              "#bd3786"
             ],
             [
              0.5555555555555556,
              "#d8576b"
             ],
             [
              0.6666666666666666,
              "#ed7953"
             ],
             [
              0.7777777777777778,
              "#fb9f3a"
             ],
             [
              0.8888888888888888,
              "#fdca26"
             ],
             [
              1,
              "#f0f921"
             ]
            ],
            "type": "heatmapgl"
           }
          ],
          "histogram": [
           {
            "marker": {
             "pattern": {
              "fillmode": "overlay",
              "size": 10,
              "solidity": 0.2
             }
            },
            "type": "histogram"
           }
          ],
          "histogram2d": [
           {
            "colorbar": {
             "outlinewidth": 0,
             "ticks": ""
            },
            "colorscale": [
             [
              0,
              "#0d0887"
             ],
             [
              0.1111111111111111,
              "#46039f"
             ],
             [
              0.2222222222222222,
              "#7201a8"
             ],
             [
              0.3333333333333333,
              "#9c179e"
             ],
             [
              0.4444444444444444,
              "#bd3786"
             ],
             [
              0.5555555555555556,
              "#d8576b"
             ],
             [
              0.6666666666666666,
              "#ed7953"
             ],
             [
              0.7777777777777778,
              "#fb9f3a"
             ],
             [
              0.8888888888888888,
              "#fdca26"
             ],
             [
              1,
              "#f0f921"
             ]
            ],
            "type": "histogram2d"
           }
          ],
          "histogram2dcontour": [
           {
            "colorbar": {
             "outlinewidth": 0,
             "ticks": ""
            },
            "colorscale": [
             [
              0,
              "#0d0887"
             ],
             [
              0.1111111111111111,
              "#46039f"
             ],
             [
              0.2222222222222222,
              "#7201a8"
             ],
             [
              0.3333333333333333,
              "#9c179e"
             ],
             [
              0.4444444444444444,
              "#bd3786"
             ],
             [
              0.5555555555555556,
              "#d8576b"
             ],
             [
              0.6666666666666666,
              "#ed7953"
             ],
             [
              0.7777777777777778,
              "#fb9f3a"
             ],
             [
              0.8888888888888888,
              "#fdca26"
             ],
             [
              1,
              "#f0f921"
             ]
            ],
            "type": "histogram2dcontour"
           }
          ],
          "mesh3d": [
           {
            "colorbar": {
             "outlinewidth": 0,
             "ticks": ""
            },
            "type": "mesh3d"
           }
          ],
          "parcoords": [
           {
            "line": {
             "colorbar": {
              "outlinewidth": 0,
              "ticks": ""
             }
            },
            "type": "parcoords"
           }
          ],
          "pie": [
           {
            "automargin": true,
            "type": "pie"
           }
          ],
          "scatter": [
           {
            "fillpattern": {
             "fillmode": "overlay",
             "size": 10,
             "solidity": 0.2
            },
            "type": "scatter"
           }
          ],
          "scatter3d": [
           {
            "line": {
             "colorbar": {
              "outlinewidth": 0,
              "ticks": ""
             }
            },
            "marker": {
             "colorbar": {
              "outlinewidth": 0,
              "ticks": ""
             }
            },
            "type": "scatter3d"
           }
          ],
          "scattercarpet": [
           {
            "marker": {
             "colorbar": {
              "outlinewidth": 0,
              "ticks": ""
             }
            },
            "type": "scattercarpet"
           }
          ],
          "scattergeo": [
           {
            "marker": {
             "colorbar": {
              "outlinewidth": 0,
              "ticks": ""
             }
            },
            "type": "scattergeo"
           }
          ],
          "scattergl": [
           {
            "marker": {
             "colorbar": {
              "outlinewidth": 0,
              "ticks": ""
             }
            },
            "type": "scattergl"
           }
          ],
          "scattermapbox": [
           {
            "marker": {
             "colorbar": {
              "outlinewidth": 0,
              "ticks": ""
             }
            },
            "type": "scattermapbox"
           }
          ],
          "scatterpolar": [
           {
            "marker": {
             "colorbar": {
              "outlinewidth": 0,
              "ticks": ""
             }
            },
            "type": "scatterpolar"
           }
          ],
          "scatterpolargl": [
           {
            "marker": {
             "colorbar": {
              "outlinewidth": 0,
              "ticks": ""
             }
            },
            "type": "scatterpolargl"
           }
          ],
          "scatterternary": [
           {
            "marker": {
             "colorbar": {
              "outlinewidth": 0,
              "ticks": ""
             }
            },
            "type": "scatterternary"
           }
          ],
          "surface": [
           {
            "colorbar": {
             "outlinewidth": 0,
             "ticks": ""
            },
            "colorscale": [
             [
              0,
              "#0d0887"
             ],
             [
              0.1111111111111111,
              "#46039f"
             ],
             [
              0.2222222222222222,
              "#7201a8"
             ],
             [
              0.3333333333333333,
              "#9c179e"
             ],
             [
              0.4444444444444444,
              "#bd3786"
             ],
             [
              0.5555555555555556,
              "#d8576b"
             ],
             [
              0.6666666666666666,
              "#ed7953"
             ],
             [
              0.7777777777777778,
              "#fb9f3a"
             ],
             [
              0.8888888888888888,
              "#fdca26"
             ],
             [
              1,
              "#f0f921"
             ]
            ],
            "type": "surface"
           }
          ],
          "table": [
           {
            "cells": {
             "fill": {
              "color": "#EBF0F8"
             },
             "line": {
              "color": "white"
             }
            },
            "header": {
             "fill": {
              "color": "#C8D4E3"
             },
             "line": {
              "color": "white"
             }
            },
            "type": "table"
           }
          ]
         },
         "layout": {
          "annotationdefaults": {
           "arrowcolor": "#2a3f5f",
           "arrowhead": 0,
           "arrowwidth": 1
          },
          "autotypenumbers": "strict",
          "coloraxis": {
           "colorbar": {
            "outlinewidth": 0,
            "ticks": ""
           }
          },
          "colorscale": {
           "diverging": [
            [
             0,
             "#8e0152"
            ],
            [
             0.1,
             "#c51b7d"
            ],
            [
             0.2,
             "#de77ae"
            ],
            [
             0.3,
             "#f1b6da"
            ],
            [
             0.4,
             "#fde0ef"
            ],
            [
             0.5,
             "#f7f7f7"
            ],
            [
             0.6,
             "#e6f5d0"
            ],
            [
             0.7,
             "#b8e186"
            ],
            [
             0.8,
             "#7fbc41"
            ],
            [
             0.9,
             "#4d9221"
            ],
            [
             1,
             "#276419"
            ]
           ],
           "sequential": [
            [
             0,
             "#0d0887"
            ],
            [
             0.1111111111111111,
             "#46039f"
            ],
            [
             0.2222222222222222,
             "#7201a8"
            ],
            [
             0.3333333333333333,
             "#9c179e"
            ],
            [
             0.4444444444444444,
             "#bd3786"
            ],
            [
             0.5555555555555556,
             "#d8576b"
            ],
            [
             0.6666666666666666,
             "#ed7953"
            ],
            [
             0.7777777777777778,
             "#fb9f3a"
            ],
            [
             0.8888888888888888,
             "#fdca26"
            ],
            [
             1,
             "#f0f921"
            ]
           ],
           "sequentialminus": [
            [
             0,
             "#0d0887"
            ],
            [
             0.1111111111111111,
             "#46039f"
            ],
            [
             0.2222222222222222,
             "#7201a8"
            ],
            [
             0.3333333333333333,
             "#9c179e"
            ],
            [
             0.4444444444444444,
             "#bd3786"
            ],
            [
             0.5555555555555556,
             "#d8576b"
            ],
            [
             0.6666666666666666,
             "#ed7953"
            ],
            [
             0.7777777777777778,
             "#fb9f3a"
            ],
            [
             0.8888888888888888,
             "#fdca26"
            ],
            [
             1,
             "#f0f921"
            ]
           ]
          },
          "colorway": [
           "#636efa",
           "#EF553B",
           "#00cc96",
           "#ab63fa",
           "#FFA15A",
           "#19d3f3",
           "#FF6692",
           "#B6E880",
           "#FF97FF",
           "#FECB52"
          ],
          "font": {
           "color": "#2a3f5f"
          },
          "geo": {
           "bgcolor": "white",
           "lakecolor": "white",
           "landcolor": "#E5ECF6",
           "showlakes": true,
           "showland": true,
           "subunitcolor": "white"
          },
          "hoverlabel": {
           "align": "left"
          },
          "hovermode": "closest",
          "mapbox": {
           "style": "light"
          },
          "paper_bgcolor": "white",
          "plot_bgcolor": "#E5ECF6",
          "polar": {
           "angularaxis": {
            "gridcolor": "white",
            "linecolor": "white",
            "ticks": ""
           },
           "bgcolor": "#E5ECF6",
           "radialaxis": {
            "gridcolor": "white",
            "linecolor": "white",
            "ticks": ""
           }
          },
          "scene": {
           "xaxis": {
            "backgroundcolor": "#E5ECF6",
            "gridcolor": "white",
            "gridwidth": 2,
            "linecolor": "white",
            "showbackground": true,
            "ticks": "",
            "zerolinecolor": "white"
           },
           "yaxis": {
            "backgroundcolor": "#E5ECF6",
            "gridcolor": "white",
            "gridwidth": 2,
            "linecolor": "white",
            "showbackground": true,
            "ticks": "",
            "zerolinecolor": "white"
           },
           "zaxis": {
            "backgroundcolor": "#E5ECF6",
            "gridcolor": "white",
            "gridwidth": 2,
            "linecolor": "white",
            "showbackground": true,
            "ticks": "",
            "zerolinecolor": "white"
           }
          },
          "shapedefaults": {
           "line": {
            "color": "#2a3f5f"
           }
          },
          "ternary": {
           "aaxis": {
            "gridcolor": "white",
            "linecolor": "white",
            "ticks": ""
           },
           "baxis": {
            "gridcolor": "white",
            "linecolor": "white",
            "ticks": ""
           },
           "bgcolor": "#E5ECF6",
           "caxis": {
            "gridcolor": "white",
            "linecolor": "white",
            "ticks": ""
           }
          },
          "title": {
           "x": 0.05
          },
          "xaxis": {
           "automargin": true,
           "gridcolor": "white",
           "linecolor": "white",
           "ticks": "",
           "title": {
            "standoff": 15
           },
           "zerolinecolor": "white",
           "zerolinewidth": 2
          },
          "yaxis": {
           "automargin": true,
           "gridcolor": "white",
           "linecolor": "white",
           "ticks": "",
           "title": {
            "standoff": 15
           },
           "zerolinecolor": "white",
           "zerolinewidth": 2
          }
         }
        },
        "title": {
         "text": "Valor total de contratos ESAP según fecha de firma 2020 - 2024"
        },
        "xaxis": {
         "anchor": "y",
         "domain": [
          0,
          1
         ],
         "title": {
          "text": "fecha_de_firma"
         }
        },
        "yaxis": {
         "anchor": "x",
         "domain": [
          0,
          1
         ],
         "title": {
          "text": "valor_del_contrato"
         }
        }
       }
      }
     },
     "metadata": {},
     "output_type": "display_data"
    }
   ],
   "source": [
    "# Asegurar que 'fecha_de_firma' es un tipo de dato datetime\n",
    "secop['fecha_de_firma'] = pd.to_datetime(secop['fecha_de_firma'])\n",
    "\n",
    "# Agrupar y sumar el valor del contrato por fecha de firma\n",
    "valor_fecha = secop.groupby('fecha_de_firma')['valor_del_contrato'].sum().reset_index()\n",
    "\n",
    "# Crear el gráfico utilizando Plotly\n",
    "fig = px.line(valor_fecha, x='fecha_de_firma', y='valor_del_contrato', title='Valor total de contratos ESAP según fecha de firma 2020 - 2024')\n",
    "\n",
    "# Mostrar el gráfico\n",
    "fig.show()"
   ]
  },
  {
   "cell_type": "markdown",
   "metadata": {},
   "source": [
    "_Valor de contratos ESAP según fecha de firma 2020 - 2024 (meses)_"
   ]
  },
  {
   "cell_type": "code",
   "execution_count": 55,
   "metadata": {},
   "outputs": [
    {
     "data": {
      "application/vnd.plotly.v1+json": {
       "config": {
        "plotlyServerURL": "https://plot.ly"
       },
       "data": [
        {
         "hovertemplate": "Mes y Año=%{x}<br>Valor del Contrato=%{y}<extra></extra>",
         "legendgroup": "",
         "line": {
          "color": "#636efa",
          "dash": "solid"
         },
         "marker": {
          "symbol": "circle"
         },
         "mode": "lines",
         "name": "",
         "orientation": "v",
         "showlegend": false,
         "type": "scatter",
         "x": [
          "2020-01-01T00:00:00",
          "2020-02-01T00:00:00",
          "2020-03-01T00:00:00",
          "2020-04-01T00:00:00",
          "2020-05-01T00:00:00",
          "2020-06-01T00:00:00",
          "2020-07-01T00:00:00",
          "2020-08-01T00:00:00",
          "2020-09-01T00:00:00",
          "2020-10-01T00:00:00",
          "2020-11-01T00:00:00",
          "2020-12-01T00:00:00",
          "2021-01-01T00:00:00",
          "2021-02-01T00:00:00",
          "2021-03-01T00:00:00",
          "2021-04-01T00:00:00",
          "2021-05-01T00:00:00",
          "2021-06-01T00:00:00",
          "2021-07-01T00:00:00",
          "2021-08-01T00:00:00",
          "2021-09-01T00:00:00",
          "2021-10-01T00:00:00",
          "2021-11-01T00:00:00",
          "2021-12-01T00:00:00",
          "2022-01-01T00:00:00",
          "2022-02-01T00:00:00",
          "2022-03-01T00:00:00",
          "2022-04-01T00:00:00",
          "2022-05-01T00:00:00",
          "2022-06-01T00:00:00",
          "2022-07-01T00:00:00",
          "2022-08-01T00:00:00",
          "2022-09-01T00:00:00",
          "2022-10-01T00:00:00",
          "2022-11-01T00:00:00",
          "2022-12-01T00:00:00",
          "2023-01-01T00:00:00",
          "2023-02-01T00:00:00",
          "2023-03-01T00:00:00",
          "2023-04-01T00:00:00",
          "2023-05-01T00:00:00",
          "2023-06-01T00:00:00",
          "2023-07-01T00:00:00",
          "2023-08-01T00:00:00",
          "2023-09-01T00:00:00",
          "2023-10-01T00:00:00",
          "2023-11-01T00:00:00",
          "2023-12-01T00:00:00",
          "2024-01-01T00:00:00",
          "2024-02-01T00:00:00",
          "2024-03-01T00:00:00",
          "2024-04-01T00:00:00"
         ],
         "xaxis": "x",
         "y": [
          12944887805,
          17008897754,
          45038387942,
          1814096190,
          4053515624,
          3693480538,
          1216784947,
          4769781873,
          2553527204,
          7530594162,
          4725420587,
          16269661256,
          12409367918,
          6736523717,
          15947927619,
          10221785862,
          5552681161,
          21420641381,
          7708203570,
          4577934000,
          3610298327,
          5630725573,
          9581567975,
          14367961062,
          71048727377,
          23756998320,
          174202382,
          303665506,
          3398633718,
          392663750,
          2157539602,
          2226824865,
          1816124597,
          1914285509,
          843789787,
          3453984714,
          22396816339,
          16084518833,
          20586294578,
          25110270988,
          4240052306,
          3476380670,
          5368004208,
          11788416579,
          6015460226,
          14885255080,
          8281484474,
          24864604918,
          35437100476,
          63031341521,
          11874967732,
          94338333
         ],
         "yaxis": "y"
        }
       ],
       "layout": {
        "legend": {
         "tracegroupgap": 0
        },
        "template": {
         "data": {
          "bar": [
           {
            "error_x": {
             "color": "#2a3f5f"
            },
            "error_y": {
             "color": "#2a3f5f"
            },
            "marker": {
             "line": {
              "color": "#E5ECF6",
              "width": 0.5
             },
             "pattern": {
              "fillmode": "overlay",
              "size": 10,
              "solidity": 0.2
             }
            },
            "type": "bar"
           }
          ],
          "barpolar": [
           {
            "marker": {
             "line": {
              "color": "#E5ECF6",
              "width": 0.5
             },
             "pattern": {
              "fillmode": "overlay",
              "size": 10,
              "solidity": 0.2
             }
            },
            "type": "barpolar"
           }
          ],
          "carpet": [
           {
            "aaxis": {
             "endlinecolor": "#2a3f5f",
             "gridcolor": "white",
             "linecolor": "white",
             "minorgridcolor": "white",
             "startlinecolor": "#2a3f5f"
            },
            "baxis": {
             "endlinecolor": "#2a3f5f",
             "gridcolor": "white",
             "linecolor": "white",
             "minorgridcolor": "white",
             "startlinecolor": "#2a3f5f"
            },
            "type": "carpet"
           }
          ],
          "choropleth": [
           {
            "colorbar": {
             "outlinewidth": 0,
             "ticks": ""
            },
            "type": "choropleth"
           }
          ],
          "contour": [
           {
            "colorbar": {
             "outlinewidth": 0,
             "ticks": ""
            },
            "colorscale": [
             [
              0,
              "#0d0887"
             ],
             [
              0.1111111111111111,
              "#46039f"
             ],
             [
              0.2222222222222222,
              "#7201a8"
             ],
             [
              0.3333333333333333,
              "#9c179e"
             ],
             [
              0.4444444444444444,
              "#bd3786"
             ],
             [
              0.5555555555555556,
              "#d8576b"
             ],
             [
              0.6666666666666666,
              "#ed7953"
             ],
             [
              0.7777777777777778,
              "#fb9f3a"
             ],
             [
              0.8888888888888888,
              "#fdca26"
             ],
             [
              1,
              "#f0f921"
             ]
            ],
            "type": "contour"
           }
          ],
          "contourcarpet": [
           {
            "colorbar": {
             "outlinewidth": 0,
             "ticks": ""
            },
            "type": "contourcarpet"
           }
          ],
          "heatmap": [
           {
            "colorbar": {
             "outlinewidth": 0,
             "ticks": ""
            },
            "colorscale": [
             [
              0,
              "#0d0887"
             ],
             [
              0.1111111111111111,
              "#46039f"
             ],
             [
              0.2222222222222222,
              "#7201a8"
             ],
             [
              0.3333333333333333,
              "#9c179e"
             ],
             [
              0.4444444444444444,
              "#bd3786"
             ],
             [
              0.5555555555555556,
              "#d8576b"
             ],
             [
              0.6666666666666666,
              "#ed7953"
             ],
             [
              0.7777777777777778,
              "#fb9f3a"
             ],
             [
              0.8888888888888888,
              "#fdca26"
             ],
             [
              1,
              "#f0f921"
             ]
            ],
            "type": "heatmap"
           }
          ],
          "heatmapgl": [
           {
            "colorbar": {
             "outlinewidth": 0,
             "ticks": ""
            },
            "colorscale": [
             [
              0,
              "#0d0887"
             ],
             [
              0.1111111111111111,
              "#46039f"
             ],
             [
              0.2222222222222222,
              "#7201a8"
             ],
             [
              0.3333333333333333,
              "#9c179e"
             ],
             [
              0.4444444444444444,
              "#bd3786"
             ],
             [
              0.5555555555555556,
              "#d8576b"
             ],
             [
              0.6666666666666666,
              "#ed7953"
             ],
             [
              0.7777777777777778,
              "#fb9f3a"
             ],
             [
              0.8888888888888888,
              "#fdca26"
             ],
             [
              1,
              "#f0f921"
             ]
            ],
            "type": "heatmapgl"
           }
          ],
          "histogram": [
           {
            "marker": {
             "pattern": {
              "fillmode": "overlay",
              "size": 10,
              "solidity": 0.2
             }
            },
            "type": "histogram"
           }
          ],
          "histogram2d": [
           {
            "colorbar": {
             "outlinewidth": 0,
             "ticks": ""
            },
            "colorscale": [
             [
              0,
              "#0d0887"
             ],
             [
              0.1111111111111111,
              "#46039f"
             ],
             [
              0.2222222222222222,
              "#7201a8"
             ],
             [
              0.3333333333333333,
              "#9c179e"
             ],
             [
              0.4444444444444444,
              "#bd3786"
             ],
             [
              0.5555555555555556,
              "#d8576b"
             ],
             [
              0.6666666666666666,
              "#ed7953"
             ],
             [
              0.7777777777777778,
              "#fb9f3a"
             ],
             [
              0.8888888888888888,
              "#fdca26"
             ],
             [
              1,
              "#f0f921"
             ]
            ],
            "type": "histogram2d"
           }
          ],
          "histogram2dcontour": [
           {
            "colorbar": {
             "outlinewidth": 0,
             "ticks": ""
            },
            "colorscale": [
             [
              0,
              "#0d0887"
             ],
             [
              0.1111111111111111,
              "#46039f"
             ],
             [
              0.2222222222222222,
              "#7201a8"
             ],
             [
              0.3333333333333333,
              "#9c179e"
             ],
             [
              0.4444444444444444,
              "#bd3786"
             ],
             [
              0.5555555555555556,
              "#d8576b"
             ],
             [
              0.6666666666666666,
              "#ed7953"
             ],
             [
              0.7777777777777778,
              "#fb9f3a"
             ],
             [
              0.8888888888888888,
              "#fdca26"
             ],
             [
              1,
              "#f0f921"
             ]
            ],
            "type": "histogram2dcontour"
           }
          ],
          "mesh3d": [
           {
            "colorbar": {
             "outlinewidth": 0,
             "ticks": ""
            },
            "type": "mesh3d"
           }
          ],
          "parcoords": [
           {
            "line": {
             "colorbar": {
              "outlinewidth": 0,
              "ticks": ""
             }
            },
            "type": "parcoords"
           }
          ],
          "pie": [
           {
            "automargin": true,
            "type": "pie"
           }
          ],
          "scatter": [
           {
            "fillpattern": {
             "fillmode": "overlay",
             "size": 10,
             "solidity": 0.2
            },
            "type": "scatter"
           }
          ],
          "scatter3d": [
           {
            "line": {
             "colorbar": {
              "outlinewidth": 0,
              "ticks": ""
             }
            },
            "marker": {
             "colorbar": {
              "outlinewidth": 0,
              "ticks": ""
             }
            },
            "type": "scatter3d"
           }
          ],
          "scattercarpet": [
           {
            "marker": {
             "colorbar": {
              "outlinewidth": 0,
              "ticks": ""
             }
            },
            "type": "scattercarpet"
           }
          ],
          "scattergeo": [
           {
            "marker": {
             "colorbar": {
              "outlinewidth": 0,
              "ticks": ""
             }
            },
            "type": "scattergeo"
           }
          ],
          "scattergl": [
           {
            "marker": {
             "colorbar": {
              "outlinewidth": 0,
              "ticks": ""
             }
            },
            "type": "scattergl"
           }
          ],
          "scattermapbox": [
           {
            "marker": {
             "colorbar": {
              "outlinewidth": 0,
              "ticks": ""
             }
            },
            "type": "scattermapbox"
           }
          ],
          "scatterpolar": [
           {
            "marker": {
             "colorbar": {
              "outlinewidth": 0,
              "ticks": ""
             }
            },
            "type": "scatterpolar"
           }
          ],
          "scatterpolargl": [
           {
            "marker": {
             "colorbar": {
              "outlinewidth": 0,
              "ticks": ""
             }
            },
            "type": "scatterpolargl"
           }
          ],
          "scatterternary": [
           {
            "marker": {
             "colorbar": {
              "outlinewidth": 0,
              "ticks": ""
             }
            },
            "type": "scatterternary"
           }
          ],
          "surface": [
           {
            "colorbar": {
             "outlinewidth": 0,
             "ticks": ""
            },
            "colorscale": [
             [
              0,
              "#0d0887"
             ],
             [
              0.1111111111111111,
              "#46039f"
             ],
             [
              0.2222222222222222,
              "#7201a8"
             ],
             [
              0.3333333333333333,
              "#9c179e"
             ],
             [
              0.4444444444444444,
              "#bd3786"
             ],
             [
              0.5555555555555556,
              "#d8576b"
             ],
             [
              0.6666666666666666,
              "#ed7953"
             ],
             [
              0.7777777777777778,
              "#fb9f3a"
             ],
             [
              0.8888888888888888,
              "#fdca26"
             ],
             [
              1,
              "#f0f921"
             ]
            ],
            "type": "surface"
           }
          ],
          "table": [
           {
            "cells": {
             "fill": {
              "color": "#EBF0F8"
             },
             "line": {
              "color": "white"
             }
            },
            "header": {
             "fill": {
              "color": "#C8D4E3"
             },
             "line": {
              "color": "white"
             }
            },
            "type": "table"
           }
          ]
         },
         "layout": {
          "annotationdefaults": {
           "arrowcolor": "#2a3f5f",
           "arrowhead": 0,
           "arrowwidth": 1
          },
          "autotypenumbers": "strict",
          "coloraxis": {
           "colorbar": {
            "outlinewidth": 0,
            "ticks": ""
           }
          },
          "colorscale": {
           "diverging": [
            [
             0,
             "#8e0152"
            ],
            [
             0.1,
             "#c51b7d"
            ],
            [
             0.2,
             "#de77ae"
            ],
            [
             0.3,
             "#f1b6da"
            ],
            [
             0.4,
             "#fde0ef"
            ],
            [
             0.5,
             "#f7f7f7"
            ],
            [
             0.6,
             "#e6f5d0"
            ],
            [
             0.7,
             "#b8e186"
            ],
            [
             0.8,
             "#7fbc41"
            ],
            [
             0.9,
             "#4d9221"
            ],
            [
             1,
             "#276419"
            ]
           ],
           "sequential": [
            [
             0,
             "#0d0887"
            ],
            [
             0.1111111111111111,
             "#46039f"
            ],
            [
             0.2222222222222222,
             "#7201a8"
            ],
            [
             0.3333333333333333,
             "#9c179e"
            ],
            [
             0.4444444444444444,
             "#bd3786"
            ],
            [
             0.5555555555555556,
             "#d8576b"
            ],
            [
             0.6666666666666666,
             "#ed7953"
            ],
            [
             0.7777777777777778,
             "#fb9f3a"
            ],
            [
             0.8888888888888888,
             "#fdca26"
            ],
            [
             1,
             "#f0f921"
            ]
           ],
           "sequentialminus": [
            [
             0,
             "#0d0887"
            ],
            [
             0.1111111111111111,
             "#46039f"
            ],
            [
             0.2222222222222222,
             "#7201a8"
            ],
            [
             0.3333333333333333,
             "#9c179e"
            ],
            [
             0.4444444444444444,
             "#bd3786"
            ],
            [
             0.5555555555555556,
             "#d8576b"
            ],
            [
             0.6666666666666666,
             "#ed7953"
            ],
            [
             0.7777777777777778,
             "#fb9f3a"
            ],
            [
             0.8888888888888888,
             "#fdca26"
            ],
            [
             1,
             "#f0f921"
            ]
           ]
          },
          "colorway": [
           "#636efa",
           "#EF553B",
           "#00cc96",
           "#ab63fa",
           "#FFA15A",
           "#19d3f3",
           "#FF6692",
           "#B6E880",
           "#FF97FF",
           "#FECB52"
          ],
          "font": {
           "color": "#2a3f5f"
          },
          "geo": {
           "bgcolor": "white",
           "lakecolor": "white",
           "landcolor": "#E5ECF6",
           "showlakes": true,
           "showland": true,
           "subunitcolor": "white"
          },
          "hoverlabel": {
           "align": "left"
          },
          "hovermode": "closest",
          "mapbox": {
           "style": "light"
          },
          "paper_bgcolor": "white",
          "plot_bgcolor": "#E5ECF6",
          "polar": {
           "angularaxis": {
            "gridcolor": "white",
            "linecolor": "white",
            "ticks": ""
           },
           "bgcolor": "#E5ECF6",
           "radialaxis": {
            "gridcolor": "white",
            "linecolor": "white",
            "ticks": ""
           }
          },
          "scene": {
           "xaxis": {
            "backgroundcolor": "#E5ECF6",
            "gridcolor": "white",
            "gridwidth": 2,
            "linecolor": "white",
            "showbackground": true,
            "ticks": "",
            "zerolinecolor": "white"
           },
           "yaxis": {
            "backgroundcolor": "#E5ECF6",
            "gridcolor": "white",
            "gridwidth": 2,
            "linecolor": "white",
            "showbackground": true,
            "ticks": "",
            "zerolinecolor": "white"
           },
           "zaxis": {
            "backgroundcolor": "#E5ECF6",
            "gridcolor": "white",
            "gridwidth": 2,
            "linecolor": "white",
            "showbackground": true,
            "ticks": "",
            "zerolinecolor": "white"
           }
          },
          "shapedefaults": {
           "line": {
            "color": "#2a3f5f"
           }
          },
          "ternary": {
           "aaxis": {
            "gridcolor": "white",
            "linecolor": "white",
            "ticks": ""
           },
           "baxis": {
            "gridcolor": "white",
            "linecolor": "white",
            "ticks": ""
           },
           "bgcolor": "#E5ECF6",
           "caxis": {
            "gridcolor": "white",
            "linecolor": "white",
            "ticks": ""
           }
          },
          "title": {
           "x": 0.05
          },
          "xaxis": {
           "automargin": true,
           "gridcolor": "white",
           "linecolor": "white",
           "ticks": "",
           "title": {
            "standoff": 15
           },
           "zerolinecolor": "white",
           "zerolinewidth": 2
          },
          "yaxis": {
           "automargin": true,
           "gridcolor": "white",
           "linecolor": "white",
           "ticks": "",
           "title": {
            "standoff": 15
           },
           "zerolinecolor": "white",
           "zerolinewidth": 2
          }
         }
        },
        "title": {
         "text": "Valor total de contratos ESAP por mes 2020 - 2024"
        },
        "xaxis": {
         "anchor": "y",
         "domain": [
          0,
          1
         ],
         "title": {
          "text": "Mes y Año"
         }
        },
        "yaxis": {
         "anchor": "x",
         "domain": [
          0,
          1
         ],
         "title": {
          "text": "Valor del Contrato"
         }
        }
       }
      }
     },
     "metadata": {},
     "output_type": "display_data"
    }
   ],
   "source": [
    "# Asegurar que 'fecha_de_firma' es un tipo de dato datetime\n",
    "secop['fecha_de_firma'] = pd.to_datetime(secop['fecha_de_firma'])\n",
    "\n",
    "# Extraer el mes y el año de la fecha de firma\n",
    "secop['mes_ano_firma'] = secop['fecha_de_firma'].dt.to_period('M')\n",
    "\n",
    "# Agrupar y sumar el valor del contrato por mes y año de firma\n",
    "valor_por_mes = secop.groupby('mes_ano_firma')['valor_del_contrato'].sum().reset_index()\n",
    "\n",
    "# Convertir 'mes_ano_firma' a datetime para el gráfico\n",
    "valor_por_mes['mes_ano_firma'] = valor_por_mes['mes_ano_firma'].dt.to_timestamp()\n",
    "\n",
    "# Crear el gráfico utilizando Plotly\n",
    "fig = px.line(valor_por_mes, x='mes_ano_firma', y='valor_del_contrato', \n",
    "              title='Valor total de contratos ESAP por mes 2020 - 2024',\n",
    "              labels={'valor_del_contrato': 'Valor del Contrato', 'mes_ano_firma': 'Mes y Año'})\n",
    "\n",
    "# Mostrar el gráfico\n",
    "fig.show()"
   ]
  },
  {
   "cell_type": "code",
   "execution_count": 56,
   "metadata": {},
   "outputs": [
    {
     "data": {
      "application/vnd.plotly.v1+json": {
       "config": {
        "plotlyServerURL": "https://plot.ly"
       },
       "data": [
        {
         "hovertemplate": "Mes y Año=%{x}<br>Valor Promedio del Contrato=%{y}<extra></extra>",
         "legendgroup": "",
         "line": {
          "color": "#636efa",
          "dash": "solid"
         },
         "marker": {
          "symbol": "circle"
         },
         "mode": "lines",
         "name": "",
         "orientation": "v",
         "showlegend": false,
         "type": "scatter",
         "x": [
          "2020-01-01T00:00:00",
          "2020-02-01T00:00:00",
          "2020-03-01T00:00:00",
          "2020-04-01T00:00:00",
          "2020-05-01T00:00:00",
          "2020-06-01T00:00:00",
          "2020-07-01T00:00:00",
          "2020-08-01T00:00:00",
          "2020-09-01T00:00:00",
          "2020-10-01T00:00:00",
          "2020-11-01T00:00:00",
          "2020-12-01T00:00:00",
          "2021-01-01T00:00:00",
          "2021-02-01T00:00:00",
          "2021-03-01T00:00:00",
          "2021-04-01T00:00:00",
          "2021-05-01T00:00:00",
          "2021-06-01T00:00:00",
          "2021-07-01T00:00:00",
          "2021-08-01T00:00:00",
          "2021-09-01T00:00:00",
          "2021-10-01T00:00:00",
          "2021-11-01T00:00:00",
          "2021-12-01T00:00:00",
          "2022-01-01T00:00:00",
          "2022-02-01T00:00:00",
          "2022-03-01T00:00:00",
          "2022-04-01T00:00:00",
          "2022-05-01T00:00:00",
          "2022-06-01T00:00:00",
          "2022-07-01T00:00:00",
          "2022-08-01T00:00:00",
          "2022-09-01T00:00:00",
          "2022-10-01T00:00:00",
          "2022-11-01T00:00:00",
          "2022-12-01T00:00:00",
          "2023-01-01T00:00:00",
          "2023-02-01T00:00:00",
          "2023-03-01T00:00:00",
          "2023-04-01T00:00:00",
          "2023-05-01T00:00:00",
          "2023-06-01T00:00:00",
          "2023-07-01T00:00:00",
          "2023-08-01T00:00:00",
          "2023-09-01T00:00:00",
          "2023-10-01T00:00:00",
          "2023-11-01T00:00:00",
          "2023-12-01T00:00:00",
          "2024-01-01T00:00:00",
          "2024-02-01T00:00:00",
          "2024-03-01T00:00:00",
          "2024-04-01T00:00:00"
         ],
         "xaxis": "x",
         "y": [
          62535689.87922705,
          70870407.30833334,
          437265902.34951454,
          41229458.86363637,
          73700284.07272728,
          41971369.75,
          22533054.574074075,
          7989584.376884422,
          11932370.112149533,
          23459794.897196263,
          9052529.860153256,
          90891962.32402235,
          53953773.556521736,
          34724349.056701034,
          33931760.891489364,
          23552501.986175116,
          17683697.964968152,
          109849442.97948718,
          23287624.07854985,
          20078657.89473684,
          16336191.524886878,
          19967111.960992906,
          26689604.387186628,
          177382235.33333334,
          35294946.5360159,
          82776997.63066202,
          58067460.666666664,
          25305458.833333332,
          485519102.5714286,
          35696704.54545455,
          44948741.708333336,
          14554410.88235294,
          13452774.792592593,
          11129566.912790697,
          8192133.854368932,
          47314859.09589041,
          62560939.494413406,
          41242355.98205128,
          35070348.51448041,
          166293185.35099337,
          13167864.304347826,
          8959743.99484536,
          20806217.860465117,
          33681190.22571429,
          22197270.206642065,
          63612201.1965812,
          45008067.79347826,
          232379485.21495327,
          65502958.36598891,
          102157765.8363047,
          44642735.834586464,
          47169166.5
         ],
         "yaxis": "y"
        }
       ],
       "layout": {
        "legend": {
         "tracegroupgap": 0
        },
        "template": {
         "data": {
          "bar": [
           {
            "error_x": {
             "color": "#2a3f5f"
            },
            "error_y": {
             "color": "#2a3f5f"
            },
            "marker": {
             "line": {
              "color": "#E5ECF6",
              "width": 0.5
             },
             "pattern": {
              "fillmode": "overlay",
              "size": 10,
              "solidity": 0.2
             }
            },
            "type": "bar"
           }
          ],
          "barpolar": [
           {
            "marker": {
             "line": {
              "color": "#E5ECF6",
              "width": 0.5
             },
             "pattern": {
              "fillmode": "overlay",
              "size": 10,
              "solidity": 0.2
             }
            },
            "type": "barpolar"
           }
          ],
          "carpet": [
           {
            "aaxis": {
             "endlinecolor": "#2a3f5f",
             "gridcolor": "white",
             "linecolor": "white",
             "minorgridcolor": "white",
             "startlinecolor": "#2a3f5f"
            },
            "baxis": {
             "endlinecolor": "#2a3f5f",
             "gridcolor": "white",
             "linecolor": "white",
             "minorgridcolor": "white",
             "startlinecolor": "#2a3f5f"
            },
            "type": "carpet"
           }
          ],
          "choropleth": [
           {
            "colorbar": {
             "outlinewidth": 0,
             "ticks": ""
            },
            "type": "choropleth"
           }
          ],
          "contour": [
           {
            "colorbar": {
             "outlinewidth": 0,
             "ticks": ""
            },
            "colorscale": [
             [
              0,
              "#0d0887"
             ],
             [
              0.1111111111111111,
              "#46039f"
             ],
             [
              0.2222222222222222,
              "#7201a8"
             ],
             [
              0.3333333333333333,
              "#9c179e"
             ],
             [
              0.4444444444444444,
              "#bd3786"
             ],
             [
              0.5555555555555556,
              "#d8576b"
             ],
             [
              0.6666666666666666,
              "#ed7953"
             ],
             [
              0.7777777777777778,
              "#fb9f3a"
             ],
             [
              0.8888888888888888,
              "#fdca26"
             ],
             [
              1,
              "#f0f921"
             ]
            ],
            "type": "contour"
           }
          ],
          "contourcarpet": [
           {
            "colorbar": {
             "outlinewidth": 0,
             "ticks": ""
            },
            "type": "contourcarpet"
           }
          ],
          "heatmap": [
           {
            "colorbar": {
             "outlinewidth": 0,
             "ticks": ""
            },
            "colorscale": [
             [
              0,
              "#0d0887"
             ],
             [
              0.1111111111111111,
              "#46039f"
             ],
             [
              0.2222222222222222,
              "#7201a8"
             ],
             [
              0.3333333333333333,
              "#9c179e"
             ],
             [
              0.4444444444444444,
              "#bd3786"
             ],
             [
              0.5555555555555556,
              "#d8576b"
             ],
             [
              0.6666666666666666,
              "#ed7953"
             ],
             [
              0.7777777777777778,
              "#fb9f3a"
             ],
             [
              0.8888888888888888,
              "#fdca26"
             ],
             [
              1,
              "#f0f921"
             ]
            ],
            "type": "heatmap"
           }
          ],
          "heatmapgl": [
           {
            "colorbar": {
             "outlinewidth": 0,
             "ticks": ""
            },
            "colorscale": [
             [
              0,
              "#0d0887"
             ],
             [
              0.1111111111111111,
              "#46039f"
             ],
             [
              0.2222222222222222,
              "#7201a8"
             ],
             [
              0.3333333333333333,
              "#9c179e"
             ],
             [
              0.4444444444444444,
              "#bd3786"
             ],
             [
              0.5555555555555556,
              "#d8576b"
             ],
             [
              0.6666666666666666,
              "#ed7953"
             ],
             [
              0.7777777777777778,
              "#fb9f3a"
             ],
             [
              0.8888888888888888,
              "#fdca26"
             ],
             [
              1,
              "#f0f921"
             ]
            ],
            "type": "heatmapgl"
           }
          ],
          "histogram": [
           {
            "marker": {
             "pattern": {
              "fillmode": "overlay",
              "size": 10,
              "solidity": 0.2
             }
            },
            "type": "histogram"
           }
          ],
          "histogram2d": [
           {
            "colorbar": {
             "outlinewidth": 0,
             "ticks": ""
            },
            "colorscale": [
             [
              0,
              "#0d0887"
             ],
             [
              0.1111111111111111,
              "#46039f"
             ],
             [
              0.2222222222222222,
              "#7201a8"
             ],
             [
              0.3333333333333333,
              "#9c179e"
             ],
             [
              0.4444444444444444,
              "#bd3786"
             ],
             [
              0.5555555555555556,
              "#d8576b"
             ],
             [
              0.6666666666666666,
              "#ed7953"
             ],
             [
              0.7777777777777778,
              "#fb9f3a"
             ],
             [
              0.8888888888888888,
              "#fdca26"
             ],
             [
              1,
              "#f0f921"
             ]
            ],
            "type": "histogram2d"
           }
          ],
          "histogram2dcontour": [
           {
            "colorbar": {
             "outlinewidth": 0,
             "ticks": ""
            },
            "colorscale": [
             [
              0,
              "#0d0887"
             ],
             [
              0.1111111111111111,
              "#46039f"
             ],
             [
              0.2222222222222222,
              "#7201a8"
             ],
             [
              0.3333333333333333,
              "#9c179e"
             ],
             [
              0.4444444444444444,
              "#bd3786"
             ],
             [
              0.5555555555555556,
              "#d8576b"
             ],
             [
              0.6666666666666666,
              "#ed7953"
             ],
             [
              0.7777777777777778,
              "#fb9f3a"
             ],
             [
              0.8888888888888888,
              "#fdca26"
             ],
             [
              1,
              "#f0f921"
             ]
            ],
            "type": "histogram2dcontour"
           }
          ],
          "mesh3d": [
           {
            "colorbar": {
             "outlinewidth": 0,
             "ticks": ""
            },
            "type": "mesh3d"
           }
          ],
          "parcoords": [
           {
            "line": {
             "colorbar": {
              "outlinewidth": 0,
              "ticks": ""
             }
            },
            "type": "parcoords"
           }
          ],
          "pie": [
           {
            "automargin": true,
            "type": "pie"
           }
          ],
          "scatter": [
           {
            "fillpattern": {
             "fillmode": "overlay",
             "size": 10,
             "solidity": 0.2
            },
            "type": "scatter"
           }
          ],
          "scatter3d": [
           {
            "line": {
             "colorbar": {
              "outlinewidth": 0,
              "ticks": ""
             }
            },
            "marker": {
             "colorbar": {
              "outlinewidth": 0,
              "ticks": ""
             }
            },
            "type": "scatter3d"
           }
          ],
          "scattercarpet": [
           {
            "marker": {
             "colorbar": {
              "outlinewidth": 0,
              "ticks": ""
             }
            },
            "type": "scattercarpet"
           }
          ],
          "scattergeo": [
           {
            "marker": {
             "colorbar": {
              "outlinewidth": 0,
              "ticks": ""
             }
            },
            "type": "scattergeo"
           }
          ],
          "scattergl": [
           {
            "marker": {
             "colorbar": {
              "outlinewidth": 0,
              "ticks": ""
             }
            },
            "type": "scattergl"
           }
          ],
          "scattermapbox": [
           {
            "marker": {
             "colorbar": {
              "outlinewidth": 0,
              "ticks": ""
             }
            },
            "type": "scattermapbox"
           }
          ],
          "scatterpolar": [
           {
            "marker": {
             "colorbar": {
              "outlinewidth": 0,
              "ticks": ""
             }
            },
            "type": "scatterpolar"
           }
          ],
          "scatterpolargl": [
           {
            "marker": {
             "colorbar": {
              "outlinewidth": 0,
              "ticks": ""
             }
            },
            "type": "scatterpolargl"
           }
          ],
          "scatterternary": [
           {
            "marker": {
             "colorbar": {
              "outlinewidth": 0,
              "ticks": ""
             }
            },
            "type": "scatterternary"
           }
          ],
          "surface": [
           {
            "colorbar": {
             "outlinewidth": 0,
             "ticks": ""
            },
            "colorscale": [
             [
              0,
              "#0d0887"
             ],
             [
              0.1111111111111111,
              "#46039f"
             ],
             [
              0.2222222222222222,
              "#7201a8"
             ],
             [
              0.3333333333333333,
              "#9c179e"
             ],
             [
              0.4444444444444444,
              "#bd3786"
             ],
             [
              0.5555555555555556,
              "#d8576b"
             ],
             [
              0.6666666666666666,
              "#ed7953"
             ],
             [
              0.7777777777777778,
              "#fb9f3a"
             ],
             [
              0.8888888888888888,
              "#fdca26"
             ],
             [
              1,
              "#f0f921"
             ]
            ],
            "type": "surface"
           }
          ],
          "table": [
           {
            "cells": {
             "fill": {
              "color": "#EBF0F8"
             },
             "line": {
              "color": "white"
             }
            },
            "header": {
             "fill": {
              "color": "#C8D4E3"
             },
             "line": {
              "color": "white"
             }
            },
            "type": "table"
           }
          ]
         },
         "layout": {
          "annotationdefaults": {
           "arrowcolor": "#2a3f5f",
           "arrowhead": 0,
           "arrowwidth": 1
          },
          "autotypenumbers": "strict",
          "coloraxis": {
           "colorbar": {
            "outlinewidth": 0,
            "ticks": ""
           }
          },
          "colorscale": {
           "diverging": [
            [
             0,
             "#8e0152"
            ],
            [
             0.1,
             "#c51b7d"
            ],
            [
             0.2,
             "#de77ae"
            ],
            [
             0.3,
             "#f1b6da"
            ],
            [
             0.4,
             "#fde0ef"
            ],
            [
             0.5,
             "#f7f7f7"
            ],
            [
             0.6,
             "#e6f5d0"
            ],
            [
             0.7,
             "#b8e186"
            ],
            [
             0.8,
             "#7fbc41"
            ],
            [
             0.9,
             "#4d9221"
            ],
            [
             1,
             "#276419"
            ]
           ],
           "sequential": [
            [
             0,
             "#0d0887"
            ],
            [
             0.1111111111111111,
             "#46039f"
            ],
            [
             0.2222222222222222,
             "#7201a8"
            ],
            [
             0.3333333333333333,
             "#9c179e"
            ],
            [
             0.4444444444444444,
             "#bd3786"
            ],
            [
             0.5555555555555556,
             "#d8576b"
            ],
            [
             0.6666666666666666,
             "#ed7953"
            ],
            [
             0.7777777777777778,
             "#fb9f3a"
            ],
            [
             0.8888888888888888,
             "#fdca26"
            ],
            [
             1,
             "#f0f921"
            ]
           ],
           "sequentialminus": [
            [
             0,
             "#0d0887"
            ],
            [
             0.1111111111111111,
             "#46039f"
            ],
            [
             0.2222222222222222,
             "#7201a8"
            ],
            [
             0.3333333333333333,
             "#9c179e"
            ],
            [
             0.4444444444444444,
             "#bd3786"
            ],
            [
             0.5555555555555556,
             "#d8576b"
            ],
            [
             0.6666666666666666,
             "#ed7953"
            ],
            [
             0.7777777777777778,
             "#fb9f3a"
            ],
            [
             0.8888888888888888,
             "#fdca26"
            ],
            [
             1,
             "#f0f921"
            ]
           ]
          },
          "colorway": [
           "#636efa",
           "#EF553B",
           "#00cc96",
           "#ab63fa",
           "#FFA15A",
           "#19d3f3",
           "#FF6692",
           "#B6E880",
           "#FF97FF",
           "#FECB52"
          ],
          "font": {
           "color": "#2a3f5f"
          },
          "geo": {
           "bgcolor": "white",
           "lakecolor": "white",
           "landcolor": "#E5ECF6",
           "showlakes": true,
           "showland": true,
           "subunitcolor": "white"
          },
          "hoverlabel": {
           "align": "left"
          },
          "hovermode": "closest",
          "mapbox": {
           "style": "light"
          },
          "paper_bgcolor": "white",
          "plot_bgcolor": "#E5ECF6",
          "polar": {
           "angularaxis": {
            "gridcolor": "white",
            "linecolor": "white",
            "ticks": ""
           },
           "bgcolor": "#E5ECF6",
           "radialaxis": {
            "gridcolor": "white",
            "linecolor": "white",
            "ticks": ""
           }
          },
          "scene": {
           "xaxis": {
            "backgroundcolor": "#E5ECF6",
            "gridcolor": "white",
            "gridwidth": 2,
            "linecolor": "white",
            "showbackground": true,
            "ticks": "",
            "zerolinecolor": "white"
           },
           "yaxis": {
            "backgroundcolor": "#E5ECF6",
            "gridcolor": "white",
            "gridwidth": 2,
            "linecolor": "white",
            "showbackground": true,
            "ticks": "",
            "zerolinecolor": "white"
           },
           "zaxis": {
            "backgroundcolor": "#E5ECF6",
            "gridcolor": "white",
            "gridwidth": 2,
            "linecolor": "white",
            "showbackground": true,
            "ticks": "",
            "zerolinecolor": "white"
           }
          },
          "shapedefaults": {
           "line": {
            "color": "#2a3f5f"
           }
          },
          "ternary": {
           "aaxis": {
            "gridcolor": "white",
            "linecolor": "white",
            "ticks": ""
           },
           "baxis": {
            "gridcolor": "white",
            "linecolor": "white",
            "ticks": ""
           },
           "bgcolor": "#E5ECF6",
           "caxis": {
            "gridcolor": "white",
            "linecolor": "white",
            "ticks": ""
           }
          },
          "title": {
           "x": 0.05
          },
          "xaxis": {
           "automargin": true,
           "gridcolor": "white",
           "linecolor": "white",
           "ticks": "",
           "title": {
            "standoff": 15
           },
           "zerolinecolor": "white",
           "zerolinewidth": 2
          },
          "yaxis": {
           "automargin": true,
           "gridcolor": "white",
           "linecolor": "white",
           "ticks": "",
           "title": {
            "standoff": 15
           },
           "zerolinecolor": "white",
           "zerolinewidth": 2
          }
         }
        },
        "title": {
         "text": "Valor promedio de contratos ESAP por mes 2020 - 2024"
        },
        "xaxis": {
         "anchor": "y",
         "domain": [
          0,
          1
         ],
         "title": {
          "text": "Mes y Año"
         }
        },
        "yaxis": {
         "anchor": "x",
         "domain": [
          0,
          1
         ],
         "title": {
          "text": "Valor Promedio del Contrato"
         }
        }
       }
      }
     },
     "metadata": {},
     "output_type": "display_data"
    }
   ],
   "source": [
    "# Extraer el mes y el año de la fecha de firma\n",
    "secop['mes_ano_firma'] = secop['fecha_de_firma'].dt.to_period('M')\n",
    "\n",
    "# Agrupar y calcular el valor promedio del contrato por mes y año de firma\n",
    "valor_promedio_por_mes = secop.groupby('mes_ano_firma')['valor_del_contrato'].mean().reset_index()\n",
    "\n",
    "# Convertir 'mes_ano_firma' a datetime para el gráfico\n",
    "valor_promedio_por_mes['mes_ano_firma'] = valor_promedio_por_mes['mes_ano_firma'].dt.to_timestamp()\n",
    "\n",
    "# Crear el gráfico utilizando Plotly\n",
    "fig = px.line(valor_promedio_por_mes, x='mes_ano_firma', y='valor_del_contrato', \n",
    "              title='Valor promedio de contratos ESAP por mes 2020 - 2024',\n",
    "              labels={'valor_del_contrato': 'Valor Promedio del Contrato', 'mes_ano_firma': 'Mes y Año'})\n",
    "\n",
    "# Mostrar el gráfico\n",
    "fig.show()"
   ]
  },
  {
   "cell_type": "markdown",
   "metadata": {},
   "source": [
    "## Modelo"
   ]
  },
  {
   "cell_type": "code",
   "execution_count": 10,
   "metadata": {},
   "outputs": [
    {
     "name": "stdout",
     "output_type": "stream",
     "text": [
      "Requirement already satisfied: ucimlrepo in c:\\users\\astrandrea\\miniconda3\\envs\\mine\\lib\\site-packages (0.0.3)Note: you may need to restart the kernel to use updated packages.\n",
      "\n"
     ]
    }
   ],
   "source": [
    "%pip install ucimlrepo"
   ]
  },
  {
   "cell_type": "code",
   "execution_count": 26,
   "metadata": {},
   "outputs": [
    {
     "ename": "AttributeError",
     "evalue": "'DataFrame' object has no attribute 'data'",
     "output_type": "error",
     "traceback": [
      "\u001b[1;31m---------------------------------------------------------------------------\u001b[0m",
      "\u001b[1;31mAttributeError\u001b[0m                            Traceback (most recent call last)",
      "\u001b[1;32m~\\AppData\\Local\\Temp\\ipykernel_31424\\751511903.py\u001b[0m in \u001b[0;36m?\u001b[1;34m()\u001b[0m\n\u001b[0;32m      1\u001b[0m \u001b[1;31m# data (as pandas dataframes)\u001b[0m\u001b[1;33m\u001b[0m\u001b[1;33m\u001b[0m\u001b[0m\n\u001b[1;32m----> 2\u001b[1;33m \u001b[0mX\u001b[0m \u001b[1;33m=\u001b[0m \u001b[0msecop\u001b[0m\u001b[1;33m.\u001b[0m\u001b[0mdata\u001b[0m\u001b[1;33m.\u001b[0m\u001b[0mfeatures\u001b[0m\u001b[1;33m\u001b[0m\u001b[1;33m\u001b[0m\u001b[0m\n\u001b[0m\u001b[0;32m      3\u001b[0m \u001b[0my\u001b[0m \u001b[1;33m=\u001b[0m \u001b[0msecop\u001b[0m\u001b[1;33m.\u001b[0m\u001b[0mdata\u001b[0m\u001b[1;33m.\u001b[0m\u001b[0mtargets\u001b[0m\u001b[1;33m\u001b[0m\u001b[1;33m\u001b[0m\u001b[0m\n\u001b[0;32m      4\u001b[0m \u001b[1;33m\u001b[0m\u001b[0m\n\u001b[0;32m      5\u001b[0m \u001b[1;31m# metadata\u001b[0m\u001b[1;33m\u001b[0m\u001b[1;33m\u001b[0m\u001b[0m\n",
      "\u001b[1;32mc:\\Users\\Astrandrea\\miniconda3\\envs\\mine\\Lib\\site-packages\\pandas\\core\\generic.py\u001b[0m in \u001b[0;36m?\u001b[1;34m(self, name)\u001b[0m\n\u001b[0;32m   6200\u001b[0m             \u001b[1;32mand\u001b[0m \u001b[0mname\u001b[0m \u001b[1;32mnot\u001b[0m \u001b[1;32min\u001b[0m \u001b[0mself\u001b[0m\u001b[1;33m.\u001b[0m\u001b[0m_accessors\u001b[0m\u001b[1;33m\u001b[0m\u001b[1;33m\u001b[0m\u001b[0m\n\u001b[0;32m   6201\u001b[0m             \u001b[1;32mand\u001b[0m \u001b[0mself\u001b[0m\u001b[1;33m.\u001b[0m\u001b[0m_info_axis\u001b[0m\u001b[1;33m.\u001b[0m\u001b[0m_can_hold_identifiers_and_holds_name\u001b[0m\u001b[1;33m(\u001b[0m\u001b[0mname\u001b[0m\u001b[1;33m)\u001b[0m\u001b[1;33m\u001b[0m\u001b[1;33m\u001b[0m\u001b[0m\n\u001b[0;32m   6202\u001b[0m         ):\n\u001b[0;32m   6203\u001b[0m             \u001b[1;32mreturn\u001b[0m \u001b[0mself\u001b[0m\u001b[1;33m[\u001b[0m\u001b[0mname\u001b[0m\u001b[1;33m]\u001b[0m\u001b[1;33m\u001b[0m\u001b[1;33m\u001b[0m\u001b[0m\n\u001b[1;32m-> 6204\u001b[1;33m         \u001b[1;32mreturn\u001b[0m \u001b[0mobject\u001b[0m\u001b[1;33m.\u001b[0m\u001b[0m__getattribute__\u001b[0m\u001b[1;33m(\u001b[0m\u001b[0mself\u001b[0m\u001b[1;33m,\u001b[0m \u001b[0mname\u001b[0m\u001b[1;33m)\u001b[0m\u001b[1;33m\u001b[0m\u001b[1;33m\u001b[0m\u001b[0m\n\u001b[0m",
      "\u001b[1;31mAttributeError\u001b[0m: 'DataFrame' object has no attribute 'data'"
     ]
    }
   ],
   "source": [
    "  \n",
    "# data (as pandas dataframes) \n",
    "X = secop.data.features \n",
    "y = secop.data.targets \n",
    "  \n",
    "# metadata \n",
    "#print(adult.metadata) \n",
    "  \n",
    "# variable information \n",
    "#adult.variables \n"
   ]
  }
 ],
 "metadata": {
  "kernelspec": {
   "display_name": "Python 3",
   "language": "python",
   "name": "python3"
  },
  "language_info": {
   "codemirror_mode": {
    "name": "ipython",
    "version": 3
   },
   "file_extension": ".py",
   "mimetype": "text/x-python",
   "name": "python",
   "nbconvert_exporter": "python",
   "pygments_lexer": "ipython3",
   "version": "3.11.5"
  }
 },
 "nbformat": 4,
 "nbformat_minor": 2
}
